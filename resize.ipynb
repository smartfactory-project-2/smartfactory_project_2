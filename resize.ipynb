{
 "cells": [
  {
   "cell_type": "code",
   "execution_count": null,
   "metadata": {},
   "outputs": [],
   "source": [
    "import cv2\n",
    "import os\n",
    "\n",
    "# 이미지 리사이즈 함수\n",
    "def resize_and_save_image(input_path, output_path, width, height):\n",
    "    # 이미지 읽기\n",
    "    image = cv2.imread(input_path)\n",
    "    if image is None:\n",
    "        print(f\"Error: Unable to load image {input_path}\")\n",
    "        return\n",
    "    \n",
    "    # 이미지 리사이즈\n",
    "    resized_image = cv2.resize(image, (width, height), interpolation=cv2.INTER_AREA)\n",
    "    \n",
    "    # 리사이즈된 이미지 저장\n",
    "    cv2.imwrite(output_path, resized_image)\n",
    "    print(f\"Resized image saved to: {output_path}\")"
   ]
  },
  {
   "cell_type": "code",
   "execution_count": null,
   "metadata": {},
   "outputs": [],
   "source": [
    "# # 입력 폴더와 출력 폴더 지정\n",
    "# input_folder = \"./data/data/source_data/door/Exterior_damage/\"   # 원본 이미지 폴더\n",
    "# output_folder = \"./output_images/\" # 리사이즈 이미지 저장 폴더\n",
    "# os.makedirs(output_folder, exist_ok=True)\n",
    "\n",
    "# # 리사이즈할 크기\n",
    "# target_width = 4000\n",
    "# target_height = 2000\n",
    "\n",
    "# # 폴더 내 모든 이미지 처리\n",
    "# for filename in os.listdir(input_folder):\n",
    "#     input_path = os.path.join(input_folder, filename)\n",
    "#     output_path = os.path.join(output_folder, filename)\n",
    "    \n",
    "#     # 리사이즈 함수 호출\n",
    "#     resize_and_save_image(input_path, output_path, target_width, target_height)\n",
    "# print(\"리사이즈 완료\")"
   ]
  }
 ],
 "metadata": {
  "kernelspec": {
   "display_name": "pytorch-env",
   "language": "python",
   "name": "python3"
  },
  "language_info": {
   "codemirror_mode": {
    "name": "ipython",
    "version": 3
   },
   "file_extension": ".py",
   "mimetype": "text/x-python",
   "name": "python",
   "nbconvert_exporter": "python",
   "pygments_lexer": "ipython3",
   "version": "3.12.0"
  }
 },
 "nbformat": 4,
 "nbformat_minor": 2
}
