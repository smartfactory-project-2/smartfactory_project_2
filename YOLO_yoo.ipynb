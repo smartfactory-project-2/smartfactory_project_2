{
 "cells": [
  {
   "cell_type": "code",
   "execution_count": 1,
   "metadata": {},
   "outputs": [],
   "source": [
    "import pandas as pd\n",
    "import numpy as np\n",
    "from numpy import random\n",
    "from sklearn.model_selection import train_test_split\n",
    "import ast\n",
    "import os\n",
    "from PIL import Image\n",
    "import yaml"
   ]
  },
  {
   "cell_type": "code",
   "execution_count": 2,
   "metadata": {},
   "outputs": [
    {
     "name": "stdout",
     "output_type": "stream",
     "text": [
      "총 데이터 개수: 7381\n",
      "학습 데이터 개수: 4723\n",
      "테스트 데이터 개수: 1477\n",
      "검증 데이터 개수: 1181\n"
     ]
    }
   ],
   "source": [
    "from sklearn.model_selection import train_test_split\n",
    "import pandas as pd\n",
    "\n",
    "# CSV 파일 로드 함수\n",
    "def load_data_with_pandas(file_path):\n",
    "    data = pd.read_csv(file_path)\n",
    "    return data\n",
    "\n",
    "# 데이터 로드\n",
    "data_bumper = load_data_with_pandas('./data/data/output/bumper/bumper_data.csv')\n",
    "data_door_ed = load_data_with_pandas('./data/data/output/door/door_ed_data.csv')\n",
    "data_door_scratch = load_data_with_pandas('./data/data/output/door/door_scratch_data.csv')\n",
    "data_fender = load_data_with_pandas('./data/data/output/fender/fender_ed_data.csv')\n",
    "data_frame_ed = load_data_with_pandas('./data/data/output/frame/frame_ed_data.csv')\n",
    "data_frame_hd = load_data_with_pandas('./data/data/output/frame/frame_hd_data.csv')\n",
    "data_frame_sealf = load_data_with_pandas('./data/data/output/frame/frame_sealf_data.csv')\n",
    "data_frame_seamf = load_data_with_pandas('./data/data/output/frame/frame_seamf_data.csv')\n",
    "\n",
    "# 데이터 결합\n",
    "data = pd.concat([\n",
    "    data_bumper,\n",
    "    data_door_ed,\n",
    "    data_door_scratch,\n",
    "    data_fender,\n",
    "    data_frame_ed,\n",
    "    data_frame_hd,\n",
    "    data_frame_sealf,\n",
    "    data_frame_seamf\n",
    "], axis=0)\n",
    "\n",
    "# y에는 라벨, x에는 나머지 특성 정보\n",
    "y = data['quality']\n",
    "\n",
    "# Stratified Split: 학습 데이터와 검증 데이터 비율을 80:20으로 설정, 클래스 비율을 유지\n",
    "train_data, test_data = train_test_split(data, test_size=0.2, stratify=y, random_state=60)\n",
    "\n",
    "# 학습 데이터에서 다시 80:20 비율로 나누어 검증 데이터 분리\n",
    "train_data_80, valid_data = train_test_split(train_data, test_size=0.2, stratify=train_data['quality'], random_state=60)\n",
    "\n",
    "# CSV로 저장\n",
    "train_data_80.to_csv('./data/train_data.csv', index=False)\n",
    "test_data.to_csv('./data/test_data.csv', index=False)\n",
    "valid_data.to_csv('./data/valid_data.csv', index=False)\n",
    "\n",
    "# 결과 출력\n",
    "print(f\"총 데이터 개수: {len(data)}\")\n",
    "print(f\"학습 데이터 개수: {len(train_data_80)}\")\n",
    "print(f\"테스트 데이터 개수: {len(test_data)}\")\n",
    "print(f\"검증 데이터 개수: {len(valid_data)}\")"
   ]
  },
  {
   "cell_type": "code",
   "execution_count": 3,
   "metadata": {},
   "outputs": [],
   "source": [
    "# Step 1: 학습 데이터에서 20% 추출\n",
    "train_20, _ = train_test_split(train_data_80, test_size=1, random_state=35)\n",
    "\n",
    "# Step 2: 검증 데이터에서 20% 추출\n",
    "valid_20, _ = train_test_split(valid_data, test_size=1, random_state=35)\n",
    "\n",
    "# Step 3: 테스트 데이터에서 20% 추출\n",
    "test_20, _ = train_test_split(test_data, test_size=1, random_state=35)\n",
    "\n",
    "# Step 4: 각각의 20%에서 다시 20% 추출 (성능 검증용 데이터 생성)\n",
    "train_test_20, _ = train_test_split(train_20, test_size=0.8, random_state=42)  # 학습 데이터 20%에서 20% 추출\n",
    "test_test_20, _ = train_test_split(test_20, test_size=0.8, random_state=42)  # 테스트 데이터 20%에서 20% 추출\n",
    "valid_test_20, _ = train_test_split(valid_20, test_size=0.8, random_state=42)  # 검증 데이터 20%에서 20% 추출\n",
    "\n",
    "# CSV로 저장\n",
    "train_test_20.to_csv('./data/train_test_20.csv', index=False)\n",
    "test_test_20.to_csv('./data/test_test_20.csv', index=False)\n",
    "valid_test_20.to_csv('./data/valid_test_20.csv', index=False)"
   ]
  },
  {
   "cell_type": "code",
   "execution_count": 4,
   "metadata": {},
   "outputs": [
    {
     "name": "stdout",
     "output_type": "stream",
     "text": [
      "학습 데이터 개수: 944\n",
      "테스트 데이터 개수: 295\n",
      "검증 데이터 개수: 236\n"
     ]
    }
   ],
   "source": [
    "# 결과 출력\n",
    "print(f\"학습 데이터 개수: {len(train_test_20)}\")\n",
    "print(f\"테스트 데이터 개수: {len(test_test_20)}\")\n",
    "print(f\"검증 데이터 개수: {len(valid_test_20)}\")"
   ]
  },
  {
   "cell_type": "code",
   "execution_count": 5,
   "metadata": {},
   "outputs": [],
   "source": [
    "# 이미지 복사\n",
    "import shutil\n",
    "\n",
    "def copy_images(data, output_dir):\n",
    "    image_dir = os.path.join(output_dir, 'images')\n",
    "    os.makedirs(image_dir, exist_ok=True)\n",
    "\n",
    "    for index, row in data.iterrows():\n",
    "        image_path = row['path']\n",
    "        shutil.copy(image_path, image_dir)\n",
    "\n",
    "\n",
    "# 학습 데이터와 검증 데이터를 각각 처리\n",
    "copy_images(train_test_20, './train')\n",
    "copy_images(test_test_20, './test')\n",
    "copy_images(valid_test_20,'./valid')"
   ]
  },
  {
   "cell_type": "code",
   "execution_count": 6,
   "metadata": {},
   "outputs": [
    {
     "name": "stdout",
     "output_type": "stream",
     "text": [
      "[[[1699.5348837209303, 454.22958280657406, 791.2611231549305, 746.4196207332488]], [], [], [], [[1966.5410206718348, 742.5374240565486, 280.94735142118867, 272.5414402967636]]]\n",
      "[[], [[228.55813277612395, 709.1162790697674, 2543.441860465116, 1213.1162790697674]], [[1370.8850039968154, 934.7472938254126, 70.16865622410015, 188.74129424937706]], [[1676.0930232558135, 563.3532934131737, 990.4186046511627, 921.3173652694612]], []]\n",
      "[[[1878.5195324323292, 753.7019166698774, 357.2726158219439, 261.6860578728348]], [[1693.674418604651, 41.02325581395349, 873.2093023255818, 1195.5348837209303], [2309.0232558139537, 1218.9767441860465, 416.0930232558135, 234.41860465116292], [1810.8837209302324, 1752.279069767442, 498.13953488372135, 164.09302325581393]], [], [], [[3453.4883720930234, 3505.813953488372, 6139.534883720929, 2877.906976744186]]]\n"
     ]
    }
   ],
   "source": [
    "import ast\n",
    "\n",
    "def parse_bboxes(data):\n",
    "    \"\"\"\n",
    "    문자열 형태의 bounding box 정보를 파싱하여 리스트 형태로 변환하는 함수\n",
    "\n",
    "    Args:\n",
    "        data: 파싱할 데이터셋\n",
    "\n",
    "    Returns:\n",
    "        list: 파싱된 bounding box 리스트\n",
    "    \"\"\"\n",
    "\n",
    "    bboxes_list = []\n",
    "    for bbox_str in data[\"bboxes\"]:\n",
    "        try:\n",
    "            bboxes = ast.literal_eval(bbox_str)\n",
    "            bbox_list = []\n",
    "            for bbox in bboxes:\n",
    "                x, y, w, h = bbox\n",
    "                bbox_list.append([x, y, w, h])\n",
    "            bboxes_list.append(bbox_list)\n",
    "        except (ValueError, SyntaxError) as e:\n",
    "            print(f\"Error parsing bbox: {e}\")\n",
    "    return bboxes_list\n",
    "\n",
    "# 데이터셋별 bounding box 파싱\n",
    "train_bboxes = parse_bboxes(train_test_20)\n",
    "valid_bboxes = parse_bboxes(valid_test_20)\n",
    "test_bboxes = parse_bboxes(test_test_20)\n",
    "\n",
    "# 결과 출력 (예시)\n",
    "print(train_bboxes[:5])\n",
    "print(valid_bboxes[:5])\n",
    "print(test_bboxes[:5])"
   ]
  },
  {
   "cell_type": "code",
   "execution_count": 7,
   "metadata": {},
   "outputs": [
    {
     "name": "stdout",
     "output_type": "stream",
     "text": [
      "Train 이미지 크기: [(4000, 2000), (4000, 2000), (4000, 2000), (4000, 2000), (4000, 2000)]\n",
      "Train 이미지 디렉토리: ['./data/data/source_data/frame/Hole_distortion\\\\', './data/data/source_data/fender/Exterior_damage\\\\', './data/data/source_data/bumper/scratch\\\\', './data/data/source_data/fender/Exterior_damage\\\\', './data/data/source_data/frame/Exterior_damage\\\\']\n",
      "Train 파일 이름: ['207_213_20_82a71406-621a-4e56-aadf-3c75a739cc96', '209_102_10_d15e979f-4590-458c-b78d-24565294bf6a', '205_101_10_c7a5dec0-5164-4cb4-9c30-79fff6754977', '209_102_10_98058174-706e-484b-b37b-09fdaf7a279b', '207_102_20_d41d4a95-d332-42b5-865b-fb4ac8423b49']\n",
      "\n",
      "Validation 이미지 크기: [(4000, 2000), (4000, 2000), (4000, 2000), (4000, 2000), (4000, 2000)]\n",
      "Validation 이미지 디렉토리: ['./data/data/source_data/bumper/scratch\\\\', './data/data/source_data/bumper/scratch\\\\', './data/data/source_data/frame/Seam_failure\\\\', './data/data/source_data/frame/Hole_distortion\\\\', './data/data/source_data/door/Exterior_damage\\\\']\n",
      "Validation 파일 이름: ['205_101_10_e9657c25-17fd-48ef-a259-569442baa1c4', '205_101_20_c4a27906-fe22-4397-9440-b90e54726be7', '207_212_10_04f1a29f-23f6-4e7b-acae-2fcedd10f637', '207_213_20_b708ebaa-f050-4418-825c-c77de2761a0e', '204_102_10_706d3447-b7e8-4810-b88d-672fd1d48f9d']\n",
      "\n",
      "test 이미지 크기: [(4000, 2000), (4000, 2000), (4000, 2000), (4000, 2000), (4000, 2000)]\n",
      "test 이미지 디렉토리: ['./data/data/source_data/frame/Sealing_failure\\\\', './data/data/source_data/bumper/scratch\\\\', './data/data/source_data/door/scratch\\\\', './data/data/source_data/bumper/scratch\\\\', './data/data/source_data/bumper/scratch\\\\']\n",
      "test 파일 이름: ['207_204_20_23ae3556-8021-44f7-9872-87eb06609e13', '205_101_20_e6502f9d-55fd-47a3-8631-786aa87d8dc9', '204_101_10_afbcbdf5-8035-4a25-ab24-cbb6e3ea713d', '205_101_10_12ee7973-7d73-4b7d-83b4-c83f67c15804', '205_101_20_27c9d89f-9093-4fa5-8602-be1f9f6de1b1']\n"
     ]
    }
   ],
   "source": [
    "import os\n",
    "from PIL import Image\n",
    "\n",
    "\n",
    "def extract_image_info(image_paths):\n",
    "    \"\"\"\n",
    "    이미지 경로 리스트에서 이미지 크기, 디렉토리 경로, 파일 이름을 추출하는 함수\n",
    "\n",
    "    Args:\n",
    "        image_paths (list): 이미지 경로 리스트\n",
    "\n",
    "    Returns:\n",
    "        tuple: (image_sizes, image_dirs, file_names)\n",
    "            image_sizes (list): 이미지 크기 리스트\n",
    "            image_dirs (list): 이미지 디렉토리 경로 리스트\n",
    "            file_names (list): 이미지 파일 이름 리스트\n",
    "    \"\"\"\n",
    "\n",
    "    image_sizes = []\n",
    "    image_dirs = []\n",
    "    file_names = []\n",
    "\n",
    "    for path in image_paths:\n",
    "        try:\n",
    "            image = Image.open(path)\n",
    "            width, height = image.size\n",
    "            image_sizes.append((width, height))\n",
    "            image_dirs.append(os.path.dirname(path) + os.sep)\n",
    "            file_names.append(os.path.splitext(os.path.basename(path))[0])\n",
    "        except FileNotFoundError:\n",
    "            print(f\"파일을 찾을 수 없습니다: {path}\")\n",
    "\n",
    "    return image_sizes, image_dirs, file_names\n",
    "\n",
    "\n",
    "# 데이터 준비 (예시)\n",
    "train_image_paths = train_test_20.iloc[:, 0].tolist()\n",
    "valid_image_paths = valid_test_20.iloc[:, 0].tolist()\n",
    "test_image_paths = test_test_20.iloc[:, 0].tolist()\n",
    "\n",
    "# 이미지 정보 추출\n",
    "train_sizes, train_dirs, train_names = extract_image_info(train_image_paths)\n",
    "valid_sizes, valid_dirs, valid_names = extract_image_info(valid_image_paths)\n",
    "test_sizes, test_dirs, test_names = extract_image_info(test_image_paths)\n",
    "\n",
    "# 결과 출력\n",
    "print(\"Train 이미지 크기:\", train_sizes[:5])\n",
    "print(\"Train 이미지 디렉토리:\", train_dirs[:5])\n",
    "print(\"Train 파일 이름:\", train_names[:5])\n",
    "print()\n",
    "print(\"Validation 이미지 크기:\", valid_sizes[:5])\n",
    "print(\"Validation 이미지 디렉토리:\", valid_dirs[:5])\n",
    "print(\"Validation 파일 이름:\", valid_names[:5])\n",
    "print()\n",
    "print(\"test 이미지 크기:\", test_sizes[:5])\n",
    "print(\"test 이미지 디렉토리:\", test_dirs[:5])\n",
    "print(\"test 파일 이름:\", test_names[:5])"
   ]
  },
  {
   "cell_type": "code",
   "execution_count": 8,
   "metadata": {},
   "outputs": [
    {
     "name": "stdout",
     "output_type": "stream",
     "text": [
      "parts_and_status_train : [{'part': '프레임', 'status': 0}, {'part': '휀더', 'status': 1}, {'part': '범퍼', 'status': 1}, {'part': '휀더', 'status': 1}, {'part': '프레임', 'status': 0}, {'part': '프레임', 'status': 1}, {'part': '프레임', 'status': 1}, {'part': '프레임', 'status': 0}, {'part': '범퍼', 'status': 0}, {'part': '범퍼', 'status': 0}, {'part': '프레임', 'status': 0}, {'part': '프레임', 'status': 0}, {'part': '범퍼', 'status': 0}, {'part': '프레임', 'status': 0}, {'part': '도어', 'status': 1}, {'part': '도어', 'status': 1}, {'part': '도어', 'status': 1}, {'part': '범퍼', 'status': 1}, {'part': '프레임', 'status': 1}, {'part': '도어', 'status': 1}, {'part': '범퍼', 'status': 0}, {'part': '프레임', 'status': 1}, {'part': '프레임', 'status': 1}, {'part': '범퍼', 'status': 1}, {'part': '도어', 'status': 0}, {'part': '범퍼', 'status': 1}, {'part': '범퍼', 'status': 1}, {'part': '프레임', 'status': 0}, {'part': '프레임', 'status': 0}, {'part': '휀더', 'status': 0}, {'part': '프레임', 'status': 1}, {'part': '도어', 'status': 0}, {'part': '프레임', 'status': 0}, {'part': '도어', 'status': 0}, {'part': '도어', 'status': 0}, {'part': '도어', 'status': 0}, {'part': '범퍼', 'status': 0}, {'part': '도어', 'status': 1}, {'part': '범퍼', 'status': 0}, {'part': '프레임', 'status': 1}, {'part': '도어', 'status': 0}, {'part': '프레임', 'status': 1}, {'part': '도어', 'status': 0}, {'part': '범퍼', 'status': 0}, {'part': '범퍼', 'status': 1}, {'part': '프레임', 'status': 0}, {'part': '도어', 'status': 0}, {'part': '범퍼', 'status': 0}, {'part': '프레임', 'status': 1}, {'part': '도어', 'status': 1}, {'part': '도어', 'status': 1}, {'part': '범퍼', 'status': 0}, {'part': '범퍼', 'status': 1}, {'part': '프레임', 'status': 1}, {'part': '프레임', 'status': 0}, {'part': '도어', 'status': 1}, {'part': '범퍼', 'status': 0}, {'part': '도어', 'status': 1}, {'part': '휀더', 'status': 0}, {'part': '프레임', 'status': 1}, {'part': '프레임', 'status': 1}, {'part': '범퍼', 'status': 0}, {'part': '프레임', 'status': 1}, {'part': '도어', 'status': 0}, {'part': '도어', 'status': 0}, {'part': '도어', 'status': 0}, {'part': '범퍼', 'status': 0}, {'part': '도어', 'status': 1}, {'part': '프레임', 'status': 1}, {'part': '프레임', 'status': 0}, {'part': '프레임', 'status': 1}, {'part': '프레임', 'status': 0}, {'part': '도어', 'status': 1}, {'part': '도어', 'status': 1}, {'part': '프레임', 'status': 0}, {'part': '도어', 'status': 0}, {'part': '범퍼', 'status': 0}, {'part': '프레임', 'status': 0}, {'part': '도어', 'status': 0}, {'part': '도어', 'status': 0}, {'part': '프레임', 'status': 1}, {'part': '휀더', 'status': 0}, {'part': '프레임', 'status': 0}, {'part': '범퍼', 'status': 0}, {'part': '범퍼', 'status': 1}, {'part': '범퍼', 'status': 0}, {'part': '범퍼', 'status': 0}, {'part': '프레임', 'status': 0}, {'part': '프레임', 'status': 1}, {'part': '프레임', 'status': 0}, {'part': '프레임', 'status': 1}, {'part': '도어', 'status': 1}, {'part': '범퍼', 'status': 1}, {'part': '프레임', 'status': 0}, {'part': '프레임', 'status': 0}, {'part': '도어', 'status': 1}, {'part': '프레임', 'status': 0}, {'part': '범퍼', 'status': 0}, {'part': '프레임', 'status': 0}, {'part': '프레임', 'status': 1}, {'part': '프레임', 'status': 0}, {'part': '프레임', 'status': 0}, {'part': '휀더', 'status': 1}, {'part': '프레임', 'status': 0}, {'part': '도어', 'status': 0}, {'part': '범퍼', 'status': 0}, {'part': '도어', 'status': 0}, {'part': '프레임', 'status': 1}, {'part': '프레임', 'status': 0}, {'part': '도어', 'status': 0}, {'part': '프레임', 'status': 0}, {'part': '프레임', 'status': 0}, {'part': '프레임', 'status': 1}, {'part': '도어', 'status': 1}, {'part': '프레임', 'status': 1}, {'part': '도어', 'status': 1}, {'part': '범퍼', 'status': 0}, {'part': '범퍼', 'status': 0}, {'part': '프레임', 'status': 0}, {'part': '프레임', 'status': 1}, {'part': '프레임', 'status': 0}, {'part': '프레임', 'status': 0}, {'part': '프레임', 'status': 1}, {'part': '프레임', 'status': 1}, {'part': '프레임', 'status': 0}, {'part': '도어', 'status': 0}, {'part': '도어', 'status': 0}, {'part': '도어', 'status': 0}, {'part': '도어', 'status': 0}, {'part': '범퍼', 'status': 0}, {'part': '프레임', 'status': 0}, {'part': '도어', 'status': 0}, {'part': '도어', 'status': 0}, {'part': '범퍼', 'status': 0}, {'part': '프레임', 'status': 0}, {'part': '프레임', 'status': 1}, {'part': '프레임', 'status': 0}, {'part': '도어', 'status': 1}, {'part': '휀더', 'status': 1}, {'part': '도어', 'status': 1}, {'part': '프레임', 'status': 1}, {'part': '범퍼', 'status': 0}, {'part': '프레임', 'status': 1}, {'part': '도어', 'status': 1}, {'part': '프레임', 'status': 1}, {'part': '휀더', 'status': 1}, {'part': '프레임', 'status': 1}, {'part': '프레임', 'status': 0}, {'part': '프레임', 'status': 0}, {'part': '범퍼', 'status': 0}, {'part': '프레임', 'status': 1}, {'part': '프레임', 'status': 1}, {'part': '프레임', 'status': 0}, {'part': '프레임', 'status': 0}, {'part': '프레임', 'status': 0}, {'part': '휀더', 'status': 1}, {'part': '프레임', 'status': 0}, {'part': '범퍼', 'status': 1}, {'part': '휀더', 'status': 0}, {'part': '프레임', 'status': 1}, {'part': '도어', 'status': 0}, {'part': '프레임', 'status': 0}, {'part': '프레임', 'status': 0}, {'part': '범퍼', 'status': 0}, {'part': '휀더', 'status': 0}, {'part': '도어', 'status': 1}, {'part': '범퍼', 'status': 0}, {'part': '프레임', 'status': 1}, {'part': '도어', 'status': 0}, {'part': '범퍼', 'status': 0}, {'part': '도어', 'status': 0}, {'part': '프레임', 'status': 0}, {'part': '프레임', 'status': 0}, {'part': '휀더', 'status': 1}, {'part': '휀더', 'status': 1}, {'part': '프레임', 'status': 0}, {'part': '도어', 'status': 0}, {'part': '도어', 'status': 1}, {'part': '도어', 'status': 1}, {'part': '프레임', 'status': 1}, {'part': '도어', 'status': 0}, {'part': '프레임', 'status': 1}, {'part': '도어', 'status': 0}, {'part': '프레임', 'status': 0}, {'part': '프레임', 'status': 1}, {'part': '프레임', 'status': 0}, {'part': '범퍼', 'status': 0}, {'part': '도어', 'status': 1}, {'part': '도어', 'status': 1}, {'part': '프레임', 'status': 1}, {'part': '범퍼', 'status': 1}, {'part': '프레임', 'status': 0}, {'part': '프레임', 'status': 1}, {'part': '범퍼', 'status': 0}, {'part': '프레임', 'status': 0}, {'part': '도어', 'status': 0}, {'part': '도어', 'status': 0}, {'part': '프레임', 'status': 0}, {'part': '프레임', 'status': 1}, {'part': '프레임', 'status': 0}, {'part': '프레임', 'status': 0}, {'part': '휀더', 'status': 1}, {'part': '프레임', 'status': 1}, {'part': '프레임', 'status': 1}, {'part': '도어', 'status': 1}, {'part': '범퍼', 'status': 0}, {'part': '프레임', 'status': 1}, {'part': '프레임', 'status': 0}, {'part': '프레임', 'status': 1}, {'part': '프레임', 'status': 0}, {'part': '휀더', 'status': 0}, {'part': '도어', 'status': 0}, {'part': '프레임', 'status': 0}, {'part': '프레임', 'status': 0}, {'part': '프레임', 'status': 0}, {'part': '프레임', 'status': 1}, {'part': '프레임', 'status': 1}, {'part': '휀더', 'status': 0}, {'part': '도어', 'status': 0}, {'part': '프레임', 'status': 0}, {'part': '범퍼', 'status': 1}, {'part': '프레임', 'status': 0}, {'part': '프레임', 'status': 0}, {'part': '휀더', 'status': 0}, {'part': '프레임', 'status': 1}, {'part': '프레임', 'status': 1}, {'part': '프레임', 'status': 0}, {'part': '도어', 'status': 1}, {'part': '프레임', 'status': 1}, {'part': '휀더', 'status': 0}, {'part': '프레임', 'status': 0}, {'part': '프레임', 'status': 1}, {'part': '휀더', 'status': 0}, {'part': '범퍼', 'status': 0}, {'part': '범퍼', 'status': 0}, {'part': '프레임', 'status': 0}, {'part': '휀더', 'status': 1}, {'part': '프레임', 'status': 0}, {'part': '도어', 'status': 0}, {'part': '범퍼', 'status': 1}, {'part': '도어', 'status': 1}, {'part': '범퍼', 'status': 0}, {'part': '프레임', 'status': 0}, {'part': '범퍼', 'status': 1}, {'part': '범퍼', 'status': 0}, {'part': '프레임', 'status': 0}, {'part': '도어', 'status': 0}, {'part': '도어', 'status': 1}, {'part': '프레임', 'status': 0}, {'part': '휀더', 'status': 1}, {'part': '프레임', 'status': 1}, {'part': '범퍼', 'status': 0}, {'part': '프레임', 'status': 1}, {'part': '프레임', 'status': 1}, {'part': '휀더', 'status': 1}, {'part': '프레임', 'status': 0}, {'part': '도어', 'status': 0}, {'part': '프레임', 'status': 0}, {'part': '프레임', 'status': 1}, {'part': '프레임', 'status': 0}, {'part': '프레임', 'status': 1}, {'part': '프레임', 'status': 0}, {'part': '프레임', 'status': 0}, {'part': '범퍼', 'status': 0}, {'part': '도어', 'status': 1}, {'part': '도어', 'status': 0}, {'part': '범퍼', 'status': 0}, {'part': '범퍼', 'status': 0}, {'part': '도어', 'status': 1}, {'part': '프레임', 'status': 1}, {'part': '프레임', 'status': 0}, {'part': '프레임', 'status': 0}, {'part': '프레임', 'status': 1}, {'part': '도어', 'status': 1}, {'part': '프레임', 'status': 0}, {'part': '범퍼', 'status': 0}, {'part': '범퍼', 'status': 0}, {'part': '범퍼', 'status': 1}, {'part': '도어', 'status': 1}, {'part': '프레임', 'status': 1}, {'part': '범퍼', 'status': 0}, {'part': '휀더', 'status': 1}, {'part': '휀더', 'status': 1}, {'part': '프레임', 'status': 1}, {'part': '도어', 'status': 0}, {'part': '휀더', 'status': 0}, {'part': '범퍼', 'status': 0}, {'part': '프레임', 'status': 1}, {'part': '프레임', 'status': 1}, {'part': '프레임', 'status': 1}, {'part': '프레임', 'status': 1}, {'part': '범퍼', 'status': 1}, {'part': '휀더', 'status': 1}, {'part': '범퍼', 'status': 0}, {'part': '프레임', 'status': 1}, {'part': '프레임', 'status': 1}, {'part': '도어', 'status': 1}, {'part': '프레임', 'status': 1}, {'part': '범퍼', 'status': 0}, {'part': '도어', 'status': 1}, {'part': '프레임', 'status': 0}, {'part': '도어', 'status': 1}, {'part': '프레임', 'status': 0}, {'part': '범퍼', 'status': 0}, {'part': '범퍼', 'status': 0}, {'part': '도어', 'status': 0}, {'part': '프레임', 'status': 0}, {'part': '프레임', 'status': 1}, {'part': '프레임', 'status': 0}, {'part': '도어', 'status': 1}, {'part': '프레임', 'status': 1}, {'part': '범퍼', 'status': 1}, {'part': '프레임', 'status': 1}, {'part': '휀더', 'status': 1}, {'part': '도어', 'status': 1}, {'part': '범퍼', 'status': 1}, {'part': '휀더', 'status': 1}, {'part': '휀더', 'status': 0}, {'part': '도어', 'status': 0}, {'part': '휀더', 'status': 1}, {'part': '휀더', 'status': 1}, {'part': '범퍼', 'status': 0}, {'part': '프레임', 'status': 0}, {'part': '프레임', 'status': 0}, {'part': '휀더', 'status': 1}, {'part': '휀더', 'status': 1}, {'part': '프레임', 'status': 0}, {'part': '프레임', 'status': 0}, {'part': '도어', 'status': 1}, {'part': '프레임', 'status': 1}, {'part': '범퍼', 'status': 1}, {'part': '도어', 'status': 0}, {'part': '범퍼', 'status': 0}, {'part': '프레임', 'status': 1}, {'part': '범퍼', 'status': 0}, {'part': '범퍼', 'status': 0}, {'part': '범퍼', 'status': 1}, {'part': '프레임', 'status': 0}, {'part': '도어', 'status': 0}, {'part': '도어', 'status': 0}, {'part': '프레임', 'status': 0}, {'part': '범퍼', 'status': 0}, {'part': '프레임', 'status': 1}, {'part': '프레임', 'status': 0}, {'part': '도어', 'status': 0}, {'part': '프레임', 'status': 1}, {'part': '프레임', 'status': 0}, {'part': '휀더', 'status': 1}, {'part': '범퍼', 'status': 0}, {'part': '프레임', 'status': 1}, {'part': '도어', 'status': 0}, {'part': '프레임', 'status': 1}, {'part': '범퍼', 'status': 0}, {'part': '범퍼', 'status': 1}, {'part': '휀더', 'status': 1}, {'part': '범퍼', 'status': 0}, {'part': '프레임', 'status': 0}, {'part': '범퍼', 'status': 1}, {'part': '프레임', 'status': 1}, {'part': '범퍼', 'status': 1}, {'part': '프레임', 'status': 0}, {'part': '도어', 'status': 1}, {'part': '도어', 'status': 0}, {'part': '프레임', 'status': 0}, {'part': '프레임', 'status': 1}, {'part': '프레임', 'status': 1}, {'part': '프레임', 'status': 0}, {'part': '프레임', 'status': 0}, {'part': '프레임', 'status': 1}, {'part': '범퍼', 'status': 1}, {'part': '휀더', 'status': 0}, {'part': '범퍼', 'status': 1}, {'part': '프레임', 'status': 1}, {'part': '휀더', 'status': 0}, {'part': '프레임', 'status': 1}, {'part': '프레임', 'status': 0}, {'part': '범퍼', 'status': 0}, {'part': '도어', 'status': 1}, {'part': '프레임', 'status': 0}, {'part': '프레임', 'status': 1}, {'part': '범퍼', 'status': 0}, {'part': '프레임', 'status': 1}, {'part': '도어', 'status': 0}, {'part': '도어', 'status': 1}, {'part': '프레임', 'status': 0}, {'part': '프레임', 'status': 0}, {'part': '범퍼', 'status': 0}, {'part': '범퍼', 'status': 0}, {'part': '범퍼', 'status': 0}, {'part': '프레임', 'status': 1}, {'part': '프레임', 'status': 0}, {'part': '프레임', 'status': 1}, {'part': '범퍼', 'status': 1}, {'part': '휀더', 'status': 1}, {'part': '프레임', 'status': 0}, {'part': '휀더', 'status': 1}, {'part': '범퍼', 'status': 1}, {'part': '프레임', 'status': 1}, {'part': '도어', 'status': 0}, {'part': '도어', 'status': 1}, {'part': '프레임', 'status': 1}, {'part': '범퍼', 'status': 0}, {'part': '프레임', 'status': 1}, {'part': '범퍼', 'status': 1}, {'part': '프레임', 'status': 1}, {'part': '도어', 'status': 1}, {'part': '프레임', 'status': 0}, {'part': '프레임', 'status': 1}, {'part': '프레임', 'status': 0}, {'part': '프레임', 'status': 0}, {'part': '휀더', 'status': 0}, {'part': '프레임', 'status': 0}, {'part': '휀더', 'status': 0}, {'part': '도어', 'status': 0}, {'part': '도어', 'status': 0}, {'part': '범퍼', 'status': 0}, {'part': '도어', 'status': 0}, {'part': '휀더', 'status': 0}, {'part': '도어', 'status': 1}, {'part': '프레임', 'status': 0}, {'part': '프레임', 'status': 0}, {'part': '도어', 'status': 0}, {'part': '프레임', 'status': 0}, {'part': '프레임', 'status': 0}, {'part': '프레임', 'status': 0}, {'part': '도어', 'status': 0}, {'part': '프레임', 'status': 0}, {'part': '프레임', 'status': 0}, {'part': '도어', 'status': 1}, {'part': '프레임', 'status': 0}, {'part': '프레임', 'status': 0}, {'part': '프레임', 'status': 0}, {'part': '프레임', 'status': 1}, {'part': '프레임', 'status': 0}, {'part': '휀더', 'status': 0}, {'part': '프레임', 'status': 0}, {'part': '프레임', 'status': 0}, {'part': '프레임', 'status': 0}, {'part': '범퍼', 'status': 0}, {'part': '휀더', 'status': 0}, {'part': '범퍼', 'status': 0}, {'part': '범퍼', 'status': 0}, {'part': '범퍼', 'status': 1}, {'part': '프레임', 'status': 0}, {'part': '프레임', 'status': 1}, {'part': '범퍼', 'status': 0}, {'part': '도어', 'status': 0}, {'part': '프레임', 'status': 1}, {'part': '휀더', 'status': 0}, {'part': '프레임', 'status': 0}, {'part': '도어', 'status': 1}, {'part': '휀더', 'status': 0}, {'part': '범퍼', 'status': 1}, {'part': '프레임', 'status': 0}, {'part': '프레임', 'status': 0}, {'part': '범퍼', 'status': 0}, {'part': '프레임', 'status': 0}, {'part': '프레임', 'status': 1}, {'part': '도어', 'status': 0}, {'part': '휀더', 'status': 0}, {'part': '도어', 'status': 0}, {'part': '휀더', 'status': 0}, {'part': '도어', 'status': 1}, {'part': '범퍼', 'status': 0}, {'part': '프레임', 'status': 0}, {'part': '프레임', 'status': 1}, {'part': '휀더', 'status': 0}, {'part': '프레임', 'status': 0}, {'part': '범퍼', 'status': 1}, {'part': '도어', 'status': 0}, {'part': '프레임', 'status': 0}, {'part': '범퍼', 'status': 1}, {'part': '프레임', 'status': 1}, {'part': '휀더', 'status': 0}, {'part': '프레임', 'status': 1}, {'part': '프레임', 'status': 0}, {'part': '범퍼', 'status': 0}, {'part': '도어', 'status': 0}, {'part': '휀더', 'status': 0}, {'part': '도어', 'status': 1}, {'part': '범퍼', 'status': 1}, {'part': '도어', 'status': 1}, {'part': '범퍼', 'status': 0}, {'part': '프레임', 'status': 0}, {'part': '휀더', 'status': 1}, {'part': '휀더', 'status': 1}, {'part': '프레임', 'status': 1}, {'part': '프레임', 'status': 1}, {'part': '프레임', 'status': 0}, {'part': '프레임', 'status': 0}, {'part': '도어', 'status': 1}, {'part': '도어', 'status': 1}, {'part': '도어', 'status': 1}, {'part': '프레임', 'status': 0}, {'part': '범퍼', 'status': 0}, {'part': '휀더', 'status': 1}, {'part': '도어', 'status': 1}, {'part': '범퍼', 'status': 1}, {'part': '프레임', 'status': 0}, {'part': '휀더', 'status': 0}, {'part': '범퍼', 'status': 1}, {'part': '범퍼', 'status': 1}, {'part': '도어', 'status': 1}, {'part': '프레임', 'status': 0}, {'part': '프레임', 'status': 0}, {'part': '도어', 'status': 0}, {'part': '도어', 'status': 0}, {'part': '프레임', 'status': 0}, {'part': '범퍼', 'status': 0}, {'part': '범퍼', 'status': 0}, {'part': '프레임', 'status': 1}, {'part': '프레임', 'status': 0}, {'part': '프레임', 'status': 0}, {'part': '휀더', 'status': 0}, {'part': '프레임', 'status': 0}, {'part': '도어', 'status': 0}, {'part': '범퍼', 'status': 0}, {'part': '범퍼', 'status': 1}, {'part': '프레임', 'status': 1}, {'part': '프레임', 'status': 1}, {'part': '도어', 'status': 1}, {'part': '도어', 'status': 0}, {'part': '프레임', 'status': 1}, {'part': '범퍼', 'status': 0}, {'part': '범퍼', 'status': 0}, {'part': '도어', 'status': 0}, {'part': '범퍼', 'status': 0}, {'part': '범퍼', 'status': 1}, {'part': '프레임', 'status': 0}, {'part': '프레임', 'status': 0}, {'part': '휀더', 'status': 1}, {'part': '휀더', 'status': 0}, {'part': '프레임', 'status': 0}, {'part': '프레임', 'status': 0}, {'part': '범퍼', 'status': 0}, {'part': '프레임', 'status': 0}, {'part': '범퍼', 'status': 0}, {'part': '프레임', 'status': 0}, {'part': '휀더', 'status': 1}, {'part': '프레임', 'status': 1}, {'part': '범퍼', 'status': 0}, {'part': '프레임', 'status': 0}, {'part': '프레임', 'status': 1}, {'part': '프레임', 'status': 0}, {'part': '범퍼', 'status': 0}, {'part': '범퍼', 'status': 1}, {'part': '프레임', 'status': 0}, {'part': '범퍼', 'status': 0}, {'part': '프레임', 'status': 0}, {'part': '프레임', 'status': 1}, {'part': '프레임', 'status': 0}, {'part': '도어', 'status': 0}, {'part': '도어', 'status': 0}, {'part': '범퍼', 'status': 0}, {'part': '범퍼', 'status': 0}, {'part': '프레임', 'status': 1}, {'part': '프레임', 'status': 1}, {'part': '프레임', 'status': 0}, {'part': '휀더', 'status': 0}, {'part': '도어', 'status': 0}, {'part': '프레임', 'status': 0}, {'part': '프레임', 'status': 1}, {'part': '프레임', 'status': 0}, {'part': '도어', 'status': 1}, {'part': '범퍼', 'status': 0}, {'part': '도어', 'status': 0}, {'part': '프레임', 'status': 0}, {'part': '도어', 'status': 0}, {'part': '범퍼', 'status': 0}, {'part': '프레임', 'status': 0}, {'part': '프레임', 'status': 1}, {'part': '휀더', 'status': 0}, {'part': '범퍼', 'status': 0}, {'part': '휀더', 'status': 1}, {'part': '휀더', 'status': 1}, {'part': '범퍼', 'status': 0}, {'part': '범퍼', 'status': 1}, {'part': '범퍼', 'status': 1}, {'part': '휀더', 'status': 1}, {'part': '프레임', 'status': 0}, {'part': '프레임', 'status': 1}, {'part': '범퍼', 'status': 1}, {'part': '휀더', 'status': 1}, {'part': '범퍼', 'status': 0}, {'part': '프레임', 'status': 1}, {'part': '프레임', 'status': 0}, {'part': '프레임', 'status': 0}, {'part': '휀더', 'status': 0}, {'part': '프레임', 'status': 1}, {'part': '휀더', 'status': 1}, {'part': '휀더', 'status': 0}, {'part': '프레임', 'status': 1}, {'part': '범퍼', 'status': 0}, {'part': '프레임', 'status': 0}, {'part': '프레임', 'status': 1}, {'part': '프레임', 'status': 0}, {'part': '도어', 'status': 1}, {'part': '프레임', 'status': 1}, {'part': '도어', 'status': 1}, {'part': '도어', 'status': 0}, {'part': '범퍼', 'status': 0}, {'part': '휀더', 'status': 0}, {'part': '범퍼', 'status': 0}, {'part': '휀더', 'status': 0}, {'part': '휀더', 'status': 0}, {'part': '범퍼', 'status': 0}, {'part': '프레임', 'status': 0}, {'part': '프레임', 'status': 1}, {'part': '도어', 'status': 0}, {'part': '도어', 'status': 0}, {'part': '범퍼', 'status': 0}, {'part': '도어', 'status': 1}, {'part': '범퍼', 'status': 0}, {'part': '프레임', 'status': 0}, {'part': '도어', 'status': 0}, {'part': '프레임', 'status': 1}, {'part': '프레임', 'status': 1}, {'part': '프레임', 'status': 0}, {'part': '범퍼', 'status': 0}, {'part': '프레임', 'status': 1}, {'part': '휀더', 'status': 1}, {'part': '범퍼', 'status': 0}, {'part': '프레임', 'status': 0}, {'part': '프레임', 'status': 1}, {'part': '도어', 'status': 0}, {'part': '범퍼', 'status': 0}, {'part': '프레임', 'status': 1}, {'part': '프레임', 'status': 0}, {'part': '도어', 'status': 1}, {'part': '휀더', 'status': 0}, {'part': '범퍼', 'status': 0}, {'part': '범퍼', 'status': 0}, {'part': '프레임', 'status': 0}, {'part': '프레임', 'status': 1}, {'part': '프레임', 'status': 0}, {'part': '프레임', 'status': 1}, {'part': '도어', 'status': 0}, {'part': '범퍼', 'status': 1}, {'part': '휀더', 'status': 1}, {'part': '프레임', 'status': 1}, {'part': '프레임', 'status': 1}, {'part': '범퍼', 'status': 0}, {'part': '도어', 'status': 0}, {'part': '도어', 'status': 1}, {'part': '휀더', 'status': 0}, {'part': '도어', 'status': 1}, {'part': '프레임', 'status': 1}, {'part': '도어', 'status': 1}, {'part': '도어', 'status': 1}, {'part': '프레임', 'status': 0}, {'part': '프레임', 'status': 0}, {'part': '프레임', 'status': 0}, {'part': '도어', 'status': 1}, {'part': '프레임', 'status': 1}, {'part': '프레임', 'status': 1}, {'part': '도어', 'status': 0}, {'part': '휀더', 'status': 0}, {'part': '도어', 'status': 1}, {'part': '프레임', 'status': 0}, {'part': '도어', 'status': 0}, {'part': '도어', 'status': 1}, {'part': '범퍼', 'status': 0}, {'part': '프레임', 'status': 0}, {'part': '프레임', 'status': 1}, {'part': '프레임', 'status': 0}, {'part': '범퍼', 'status': 0}, {'part': '휀더', 'status': 0}, {'part': '휀더', 'status': 1}, {'part': '도어', 'status': 0}, {'part': '프레임', 'status': 0}, {'part': '범퍼', 'status': 1}, {'part': '프레임', 'status': 1}, {'part': '프레임', 'status': 1}, {'part': '프레임', 'status': 0}, {'part': '휀더', 'status': 1}, {'part': '범퍼', 'status': 0}, {'part': '프레임', 'status': 0}, {'part': '프레임', 'status': 0}, {'part': '도어', 'status': 0}, {'part': '범퍼', 'status': 0}, {'part': '도어', 'status': 0}, {'part': '범퍼', 'status': 0}, {'part': '프레임', 'status': 0}, {'part': '범퍼', 'status': 0}, {'part': '도어', 'status': 1}, {'part': '도어', 'status': 0}, {'part': '휀더', 'status': 0}, {'part': '프레임', 'status': 1}, {'part': '도어', 'status': 0}, {'part': '휀더', 'status': 0}, {'part': '프레임', 'status': 1}, {'part': '프레임', 'status': 0}, {'part': '프레임', 'status': 0}, {'part': '범퍼', 'status': 1}, {'part': '프레임', 'status': 1}, {'part': '범퍼', 'status': 0}, {'part': '휀더', 'status': 0}, {'part': '프레임', 'status': 0}, {'part': '프레임', 'status': 1}, {'part': '프레임', 'status': 0}, {'part': '프레임', 'status': 1}, {'part': '범퍼', 'status': 0}, {'part': '도어', 'status': 1}, {'part': '프레임', 'status': 0}, {'part': '프레임', 'status': 0}, {'part': '도어', 'status': 0}, {'part': '프레임', 'status': 0}, {'part': '범퍼', 'status': 0}, {'part': '프레임', 'status': 1}, {'part': '범퍼', 'status': 1}, {'part': '범퍼', 'status': 1}, {'part': '프레임', 'status': 0}, {'part': '프레임', 'status': 1}, {'part': '프레임', 'status': 1}, {'part': '프레임', 'status': 0}, {'part': '프레임', 'status': 0}, {'part': '범퍼', 'status': 1}, {'part': '프레임', 'status': 0}, {'part': '도어', 'status': 1}, {'part': '프레임', 'status': 0}, {'part': '범퍼', 'status': 1}, {'part': '범퍼', 'status': 0}, {'part': '도어', 'status': 0}, {'part': '프레임', 'status': 1}, {'part': '도어', 'status': 0}, {'part': '프레임', 'status': 1}, {'part': '프레임', 'status': 0}, {'part': '프레임', 'status': 0}, {'part': '도어', 'status': 1}, {'part': '프레임', 'status': 1}, {'part': '프레임', 'status': 0}, {'part': '프레임', 'status': 1}, {'part': '범퍼', 'status': 0}, {'part': '프레임', 'status': 0}, {'part': '도어', 'status': 1}, {'part': '범퍼', 'status': 0}, {'part': '프레임', 'status': 1}, {'part': '프레임', 'status': 1}, {'part': '프레임', 'status': 0}, {'part': '도어', 'status': 1}, {'part': '범퍼', 'status': 0}, {'part': '프레임', 'status': 1}, {'part': '프레임', 'status': 1}, {'part': '프레임', 'status': 0}, {'part': '프레임', 'status': 1}, {'part': '범퍼', 'status': 0}, {'part': '휀더', 'status': 1}, {'part': '범퍼', 'status': 0}, {'part': '범퍼', 'status': 0}, {'part': '휀더', 'status': 1}, {'part': '도어', 'status': 1}, {'part': '프레임', 'status': 0}, {'part': '프레임', 'status': 0}, {'part': '도어', 'status': 0}, {'part': '프레임', 'status': 0}, {'part': '범퍼', 'status': 1}, {'part': '범퍼', 'status': 0}, {'part': '도어', 'status': 0}, {'part': '도어', 'status': 1}, {'part': '휀더', 'status': 1}, {'part': '휀더', 'status': 1}, {'part': '도어', 'status': 0}, {'part': '범퍼', 'status': 1}, {'part': '휀더', 'status': 1}, {'part': '도어', 'status': 0}, {'part': '프레임', 'status': 0}, {'part': '프레임', 'status': 0}, {'part': '범퍼', 'status': 0}, {'part': '도어', 'status': 0}, {'part': '프레임', 'status': 0}, {'part': '프레임', 'status': 0}, {'part': '범퍼', 'status': 0}, {'part': '프레임', 'status': 1}, {'part': '휀더', 'status': 1}, {'part': '도어', 'status': 1}, {'part': '범퍼', 'status': 1}, {'part': '프레임', 'status': 1}, {'part': '프레임', 'status': 1}, {'part': '도어', 'status': 0}, {'part': '프레임', 'status': 0}, {'part': '범퍼', 'status': 1}, {'part': '도어', 'status': 0}, {'part': '프레임', 'status': 0}, {'part': '범퍼', 'status': 0}, {'part': '휀더', 'status': 0}, {'part': '프레임', 'status': 1}, {'part': '프레임', 'status': 0}, {'part': '프레임', 'status': 0}, {'part': '프레임', 'status': 1}, {'part': '프레임', 'status': 0}, {'part': '도어', 'status': 1}, {'part': '휀더', 'status': 0}, {'part': '범퍼', 'status': 0}, {'part': '범퍼', 'status': 1}, {'part': '휀더', 'status': 0}, {'part': '프레임', 'status': 1}, {'part': '도어', 'status': 0}, {'part': '범퍼', 'status': 1}, {'part': '범퍼', 'status': 0}, {'part': '프레임', 'status': 0}, {'part': '범퍼', 'status': 0}, {'part': '프레임', 'status': 0}, {'part': '도어', 'status': 1}, {'part': '휀더', 'status': 0}, {'part': '프레임', 'status': 1}, {'part': '도어', 'status': 1}, {'part': '프레임', 'status': 0}, {'part': '프레임', 'status': 0}, {'part': '프레임', 'status': 1}, {'part': '휀더', 'status': 0}, {'part': '프레임', 'status': 0}, {'part': '범퍼', 'status': 0}, {'part': '도어', 'status': 1}, {'part': '휀더', 'status': 0}, {'part': '휀더', 'status': 1}, {'part': '도어', 'status': 1}, {'part': '프레임', 'status': 0}, {'part': '프레임', 'status': 0}, {'part': '프레임', 'status': 1}, {'part': '도어', 'status': 1}, {'part': '범퍼', 'status': 0}, {'part': '도어', 'status': 0}, {'part': '프레임', 'status': 0}, {'part': '휀더', 'status': 0}, {'part': '범퍼', 'status': 0}, {'part': '도어', 'status': 1}, {'part': '프레임', 'status': 0}, {'part': '도어', 'status': 0}, {'part': '프레임', 'status': 0}, {'part': '프레임', 'status': 0}, {'part': '프레임', 'status': 0}, {'part': '프레임', 'status': 1}, {'part': '도어', 'status': 0}, {'part': '프레임', 'status': 1}, {'part': '도어', 'status': 0}, {'part': '프레임', 'status': 0}, {'part': '도어', 'status': 1}, {'part': '범퍼', 'status': 1}, {'part': '프레임', 'status': 0}, {'part': '휀더', 'status': 1}, {'part': '도어', 'status': 0}, {'part': '프레임', 'status': 1}, {'part': '도어', 'status': 1}, {'part': '프레임', 'status': 1}, {'part': '휀더', 'status': 1}, {'part': '도어', 'status': 0}, {'part': '프레임', 'status': 0}, {'part': '프레임', 'status': 1}, {'part': '프레임', 'status': 0}, {'part': '도어', 'status': 0}, {'part': '프레임', 'status': 1}, {'part': '도어', 'status': 0}, {'part': '휀더', 'status': 1}, {'part': '프레임', 'status': 0}, {'part': '프레임', 'status': 1}, {'part': '프레임', 'status': 0}, {'part': '도어', 'status': 1}, {'part': '도어', 'status': 1}, {'part': '도어', 'status': 1}, {'part': '프레임', 'status': 1}, {'part': '프레임', 'status': 1}, {'part': '프레임', 'status': 1}, {'part': '휀더', 'status': 0}, {'part': '범퍼', 'status': 1}, {'part': '도어', 'status': 1}, {'part': '프레임', 'status': 0}, {'part': '도어', 'status': 1}, {'part': '범퍼', 'status': 1}, {'part': '휀더', 'status': 0}, {'part': '프레임', 'status': 1}, {'part': '도어', 'status': 0}, {'part': '프레임', 'status': 1}, {'part': '도어', 'status': 0}, {'part': '프레임', 'status': 1}, {'part': '도어', 'status': 0}, {'part': '프레임', 'status': 0}, {'part': '도어', 'status': 0}, {'part': '프레임', 'status': 1}, {'part': '도어', 'status': 0}, {'part': '휀더', 'status': 1}, {'part': '프레임', 'status': 0}, {'part': '프레임', 'status': 0}, {'part': '범퍼', 'status': 0}, {'part': '범퍼', 'status': 1}, {'part': '도어', 'status': 1}, {'part': '프레임', 'status': 1}, {'part': '도어', 'status': 1}, {'part': '도어', 'status': 0}, {'part': '도어', 'status': 0}, {'part': '프레임', 'status': 1}, {'part': '범퍼', 'status': 1}, {'part': '도어', 'status': 0}, {'part': '도어', 'status': 1}, {'part': '도어', 'status': 0}, {'part': '도어', 'status': 1}, {'part': '휀더', 'status': 0}, {'part': '프레임', 'status': 0}, {'part': '휀더', 'status': 1}, {'part': '프레임', 'status': 1}, {'part': '프레임', 'status': 1}, {'part': '프레임', 'status': 1}, {'part': '프레임', 'status': 0}, {'part': '프레임', 'status': 0}, {'part': '프레임', 'status': 0}, {'part': '범퍼', 'status': 0}, {'part': '범퍼', 'status': 0}, {'part': '휀더', 'status': 1}, {'part': '프레임', 'status': 0}, {'part': '도어', 'status': 1}, {'part': '도어', 'status': 1}, {'part': '프레임', 'status': 0}, {'part': '휀더', 'status': 0}, {'part': '도어', 'status': 1}, {'part': '도어', 'status': 0}, {'part': '프레임', 'status': 1}, {'part': '도어', 'status': 1}, {'part': '프레임', 'status': 0}, {'part': '프레임', 'status': 0}, {'part': '도어', 'status': 0}, {'part': '범퍼', 'status': 1}, {'part': '프레임', 'status': 0}, {'part': '도어', 'status': 0}, {'part': '휀더', 'status': 1}, {'part': '프레임', 'status': 0}, {'part': '프레임', 'status': 0}, {'part': '도어', 'status': 0}, {'part': '도어', 'status': 0}, {'part': '프레임', 'status': 0}, {'part': '프레임', 'status': 1}, {'part': '도어', 'status': 0}, {'part': '범퍼', 'status': 0}, {'part': '프레임', 'status': 0}, {'part': '프레임', 'status': 1}, {'part': '휀더', 'status': 1}, {'part': '프레임', 'status': 0}, {'part': '프레임', 'status': 0}, {'part': '범퍼', 'status': 0}, {'part': '프레임', 'status': 1}, {'part': '범퍼', 'status': 0}, {'part': '휀더', 'status': 0}, {'part': '프레임', 'status': 1}, {'part': '휀더', 'status': 1}, {'part': '범퍼', 'status': 1}, {'part': '도어', 'status': 1}]\n",
      "parts_and_status_test : [{'part': '프레임', 'status': 0}, {'part': '범퍼', 'status': 0}, {'part': '도어', 'status': 1}, {'part': '범퍼', 'status': 1}, {'part': '범퍼', 'status': 0}, {'part': '프레임', 'status': 0}, {'part': '도어', 'status': 1}, {'part': '휀더', 'status': 0}, {'part': '프레임', 'status': 1}, {'part': '도어', 'status': 0}, {'part': '범퍼', 'status': 0}, {'part': '범퍼', 'status': 0}, {'part': '도어', 'status': 0}, {'part': '프레임', 'status': 0}, {'part': '프레임', 'status': 1}, {'part': '프레임', 'status': 0}, {'part': '범퍼', 'status': 1}, {'part': '프레임', 'status': 1}, {'part': '범퍼', 'status': 0}, {'part': '범퍼', 'status': 1}, {'part': '휀더', 'status': 1}, {'part': '프레임', 'status': 0}, {'part': '프레임', 'status': 0}, {'part': '프레임', 'status': 0}, {'part': '범퍼', 'status': 1}, {'part': '범퍼', 'status': 0}, {'part': '도어', 'status': 1}, {'part': '휀더', 'status': 1}, {'part': '도어', 'status': 0}, {'part': '도어', 'status': 1}, {'part': '프레임', 'status': 1}, {'part': '프레임', 'status': 0}, {'part': '프레임', 'status': 1}, {'part': '프레임', 'status': 1}, {'part': '범퍼', 'status': 1}, {'part': '프레임', 'status': 1}, {'part': '프레임', 'status': 0}, {'part': '도어', 'status': 0}, {'part': '프레임', 'status': 1}, {'part': '도어', 'status': 0}, {'part': '범퍼', 'status': 1}, {'part': '도어', 'status': 0}, {'part': '프레임', 'status': 1}, {'part': '프레임', 'status': 1}, {'part': '프레임', 'status': 0}, {'part': '프레임', 'status': 0}, {'part': '도어', 'status': 0}, {'part': '프레임', 'status': 0}, {'part': '프레임', 'status': 0}, {'part': '프레임', 'status': 0}, {'part': '도어', 'status': 1}, {'part': '휀더', 'status': 0}, {'part': '도어', 'status': 0}, {'part': '도어', 'status': 0}, {'part': '휀더', 'status': 1}, {'part': '프레임', 'status': 1}, {'part': '범퍼', 'status': 0}, {'part': '휀더', 'status': 0}, {'part': '도어', 'status': 1}, {'part': '도어', 'status': 0}, {'part': '프레임', 'status': 1}, {'part': '프레임', 'status': 0}, {'part': '범퍼', 'status': 0}, {'part': '휀더', 'status': 0}, {'part': '프레임', 'status': 0}, {'part': '도어', 'status': 1}, {'part': '휀더', 'status': 0}, {'part': '범퍼', 'status': 0}, {'part': '범퍼', 'status': 1}, {'part': '휀더', 'status': 0}, {'part': '프레임', 'status': 1}, {'part': '범퍼', 'status': 0}, {'part': '도어', 'status': 1}, {'part': '휀더', 'status': 1}, {'part': '범퍼', 'status': 0}, {'part': '범퍼', 'status': 1}, {'part': '범퍼', 'status': 0}, {'part': '프레임', 'status': 0}, {'part': '프레임', 'status': 1}, {'part': '범퍼', 'status': 1}, {'part': '도어', 'status': 1}, {'part': '프레임', 'status': 0}, {'part': '프레임', 'status': 1}, {'part': '프레임', 'status': 1}, {'part': '프레임', 'status': 1}, {'part': '도어', 'status': 1}, {'part': '프레임', 'status': 1}, {'part': '범퍼', 'status': 0}, {'part': '프레임', 'status': 1}, {'part': '프레임', 'status': 0}, {'part': '프레임', 'status': 1}, {'part': '도어', 'status': 0}, {'part': '프레임', 'status': 1}, {'part': '범퍼', 'status': 0}, {'part': '범퍼', 'status': 1}, {'part': '범퍼', 'status': 1}, {'part': '프레임', 'status': 0}, {'part': '프레임', 'status': 1}, {'part': '프레임', 'status': 0}, {'part': '범퍼', 'status': 0}, {'part': '프레임', 'status': 1}, {'part': '도어', 'status': 0}, {'part': '프레임', 'status': 1}, {'part': '프레임', 'status': 1}, {'part': '프레임', 'status': 1}, {'part': '프레임', 'status': 1}, {'part': '범퍼', 'status': 0}, {'part': '범퍼', 'status': 0}, {'part': '범퍼', 'status': 1}, {'part': '범퍼', 'status': 1}, {'part': '프레임', 'status': 0}, {'part': '도어', 'status': 1}, {'part': '프레임', 'status': 1}, {'part': '범퍼', 'status': 0}, {'part': '범퍼', 'status': 1}, {'part': '범퍼', 'status': 0}, {'part': '휀더', 'status': 1}, {'part': '프레임', 'status': 1}, {'part': '프레임', 'status': 0}, {'part': '범퍼', 'status': 1}, {'part': '프레임', 'status': 0}, {'part': '휀더', 'status': 0}, {'part': '프레임', 'status': 1}, {'part': '도어', 'status': 1}, {'part': '범퍼', 'status': 1}, {'part': '범퍼', 'status': 0}, {'part': '휀더', 'status': 1}, {'part': '프레임', 'status': 1}, {'part': '범퍼', 'status': 0}, {'part': '범퍼', 'status': 1}, {'part': '범퍼', 'status': 0}, {'part': '휀더', 'status': 0}, {'part': '휀더', 'status': 1}, {'part': '범퍼', 'status': 1}, {'part': '도어', 'status': 0}, {'part': '범퍼', 'status': 1}, {'part': '프레임', 'status': 0}, {'part': '범퍼', 'status': 0}, {'part': '휀더', 'status': 1}, {'part': '프레임', 'status': 0}, {'part': '범퍼', 'status': 0}, {'part': '프레임', 'status': 1}, {'part': '도어', 'status': 1}, {'part': '프레임', 'status': 0}, {'part': '범퍼', 'status': 0}, {'part': '범퍼', 'status': 0}, {'part': '프레임', 'status': 0}, {'part': '프레임', 'status': 1}, {'part': '프레임', 'status': 1}, {'part': '휀더', 'status': 0}, {'part': '범퍼', 'status': 0}, {'part': '프레임', 'status': 0}, {'part': '도어', 'status': 0}, {'part': '범퍼', 'status': 0}, {'part': '범퍼', 'status': 0}, {'part': '도어', 'status': 0}, {'part': '도어', 'status': 1}, {'part': '범퍼', 'status': 0}, {'part': '범퍼', 'status': 1}, {'part': '휀더', 'status': 1}, {'part': '도어', 'status': 1}, {'part': '범퍼', 'status': 1}, {'part': '도어', 'status': 0}, {'part': '범퍼', 'status': 1}, {'part': '프레임', 'status': 0}, {'part': '도어', 'status': 0}, {'part': '범퍼', 'status': 0}, {'part': '범퍼', 'status': 0}, {'part': '범퍼', 'status': 0}, {'part': '휀더', 'status': 0}, {'part': '프레임', 'status': 0}, {'part': '프레임', 'status': 0}, {'part': '프레임', 'status': 0}, {'part': '프레임', 'status': 1}, {'part': '프레임', 'status': 1}, {'part': '도어', 'status': 0}, {'part': '도어', 'status': 0}, {'part': '프레임', 'status': 0}, {'part': '범퍼', 'status': 1}, {'part': '프레임', 'status': 1}, {'part': '도어', 'status': 1}, {'part': '범퍼', 'status': 0}, {'part': '휀더', 'status': 1}, {'part': '범퍼', 'status': 0}, {'part': '프레임', 'status': 0}, {'part': '프레임', 'status': 1}, {'part': '프레임', 'status': 0}, {'part': '도어', 'status': 0}, {'part': '도어', 'status': 0}, {'part': '도어', 'status': 1}, {'part': '프레임', 'status': 1}, {'part': '프레임', 'status': 0}, {'part': '프레임', 'status': 0}, {'part': '범퍼', 'status': 1}, {'part': '프레임', 'status': 0}, {'part': '프레임', 'status': 0}, {'part': '도어', 'status': 0}, {'part': '범퍼', 'status': 0}, {'part': '프레임', 'status': 1}, {'part': '도어', 'status': 1}, {'part': '도어', 'status': 1}, {'part': '프레임', 'status': 0}, {'part': '프레임', 'status': 1}, {'part': '프레임', 'status': 1}, {'part': '프레임', 'status': 0}, {'part': '프레임', 'status': 0}, {'part': '도어', 'status': 1}, {'part': '프레임', 'status': 0}, {'part': '프레임', 'status': 0}, {'part': '도어', 'status': 1}, {'part': '프레임', 'status': 0}, {'part': '휀더', 'status': 0}, {'part': '프레임', 'status': 0}, {'part': '프레임', 'status': 0}, {'part': '도어', 'status': 1}, {'part': '프레임', 'status': 1}, {'part': '휀더', 'status': 0}, {'part': '도어', 'status': 0}, {'part': '프레임', 'status': 1}, {'part': '프레임', 'status': 0}, {'part': '프레임', 'status': 0}, {'part': '휀더', 'status': 1}, {'part': '범퍼', 'status': 1}, {'part': '프레임', 'status': 1}, {'part': '프레임', 'status': 0}, {'part': '도어', 'status': 1}, {'part': '프레임', 'status': 1}, {'part': '도어', 'status': 0}, {'part': '휀더', 'status': 0}, {'part': '프레임', 'status': 1}, {'part': '프레임', 'status': 1}, {'part': '도어', 'status': 0}, {'part': '휀더', 'status': 1}, {'part': '프레임', 'status': 1}, {'part': '범퍼', 'status': 0}, {'part': '프레임', 'status': 0}, {'part': '범퍼', 'status': 0}, {'part': '도어', 'status': 0}, {'part': '휀더', 'status': 1}, {'part': '프레임', 'status': 0}, {'part': '범퍼', 'status': 0}, {'part': '프레임', 'status': 0}, {'part': '프레임', 'status': 0}, {'part': '프레임', 'status': 1}, {'part': '범퍼', 'status': 0}, {'part': '프레임', 'status': 1}, {'part': '프레임', 'status': 0}, {'part': '휀더', 'status': 0}, {'part': '도어', 'status': 0}, {'part': '프레임', 'status': 0}, {'part': '프레임', 'status': 0}, {'part': '도어', 'status': 0}, {'part': '범퍼', 'status': 0}, {'part': '도어', 'status': 1}, {'part': '범퍼', 'status': 0}, {'part': '도어', 'status': 1}, {'part': '프레임', 'status': 0}, {'part': '프레임', 'status': 0}, {'part': '프레임', 'status': 0}, {'part': '범퍼', 'status': 0}, {'part': '도어', 'status': 0}, {'part': '도어', 'status': 0}, {'part': '프레임', 'status': 1}, {'part': '도어', 'status': 1}, {'part': '도어', 'status': 0}, {'part': '휀더', 'status': 1}, {'part': '범퍼', 'status': 1}, {'part': '범퍼', 'status': 0}, {'part': '도어', 'status': 1}, {'part': '프레임', 'status': 0}, {'part': '프레임', 'status': 0}, {'part': '프레임', 'status': 0}, {'part': '범퍼', 'status': 0}, {'part': '도어', 'status': 0}, {'part': '범퍼', 'status': 1}, {'part': '휀더', 'status': 0}, {'part': '범퍼', 'status': 1}, {'part': '도어', 'status': 0}, {'part': '프레임', 'status': 1}, {'part': '범퍼', 'status': 0}, {'part': '범퍼', 'status': 0}, {'part': '프레임', 'status': 0}, {'part': '프레임', 'status': 0}, {'part': '프레임', 'status': 1}, {'part': '프레임', 'status': 0}, {'part': '도어', 'status': 1}, {'part': '프레임', 'status': 1}, {'part': '도어', 'status': 0}, {'part': '범퍼', 'status': 0}, {'part': '프레임', 'status': 1}, {'part': '프레임', 'status': 0}, {'part': '범퍼', 'status': 1}, {'part': '휀더', 'status': 1}, {'part': '휀더', 'status': 1}, {'part': '도어', 'status': 1}]\n",
      "parts_and_status_valid : [{'part': '범퍼', 'status': 1}, {'part': '범퍼', 'status': 0}, {'part': '프레임', 'status': 1}, {'part': '프레임', 'status': 0}, {'part': '도어', 'status': 1}, {'part': '프레임', 'status': 0}, {'part': '도어', 'status': 1}, {'part': '프레임', 'status': 1}, {'part': '도어', 'status': 0}, {'part': '프레임', 'status': 0}, {'part': '범퍼', 'status': 1}, {'part': '휀더', 'status': 1}, {'part': '휀더', 'status': 0}, {'part': '범퍼', 'status': 0}, {'part': '범퍼', 'status': 0}, {'part': '프레임', 'status': 0}, {'part': '프레임', 'status': 0}, {'part': '도어', 'status': 0}, {'part': '휀더', 'status': 1}, {'part': '도어', 'status': 1}, {'part': '도어', 'status': 0}, {'part': '도어', 'status': 0}, {'part': '프레임', 'status': 1}, {'part': '프레임', 'status': 1}, {'part': '범퍼', 'status': 0}, {'part': '범퍼', 'status': 0}, {'part': '범퍼', 'status': 0}, {'part': '프레임', 'status': 1}, {'part': '도어', 'status': 0}, {'part': '프레임', 'status': 0}, {'part': '범퍼', 'status': 1}, {'part': '프레임', 'status': 1}, {'part': '프레임', 'status': 0}, {'part': '범퍼', 'status': 0}, {'part': '프레임', 'status': 0}, {'part': '프레임', 'status': 1}, {'part': '범퍼', 'status': 0}, {'part': '프레임', 'status': 1}, {'part': '범퍼', 'status': 0}, {'part': '휀더', 'status': 1}, {'part': '프레임', 'status': 1}, {'part': '범퍼', 'status': 1}, {'part': '도어', 'status': 0}, {'part': '도어', 'status': 0}, {'part': '프레임', 'status': 0}, {'part': '프레임', 'status': 1}, {'part': '프레임', 'status': 0}, {'part': '범퍼', 'status': 0}, {'part': '프레임', 'status': 1}, {'part': '프레임', 'status': 1}, {'part': '범퍼', 'status': 1}, {'part': '범퍼', 'status': 0}, {'part': '범퍼', 'status': 0}, {'part': '도어', 'status': 1}, {'part': '휀더', 'status': 1}, {'part': '도어', 'status': 0}, {'part': '범퍼', 'status': 0}, {'part': '도어', 'status': 0}, {'part': '범퍼', 'status': 1}, {'part': '도어', 'status': 0}, {'part': '휀더', 'status': 0}, {'part': '도어', 'status': 1}, {'part': '프레임', 'status': 1}, {'part': '범퍼', 'status': 1}, {'part': '프레임', 'status': 0}, {'part': '휀더', 'status': 1}, {'part': '도어', 'status': 0}, {'part': '휀더', 'status': 1}, {'part': '프레임', 'status': 1}, {'part': '프레임', 'status': 1}, {'part': '범퍼', 'status': 0}, {'part': '도어', 'status': 1}, {'part': '프레임', 'status': 1}, {'part': '범퍼', 'status': 0}, {'part': '도어', 'status': 1}, {'part': '도어', 'status': 1}, {'part': '프레임', 'status': 1}, {'part': '프레임', 'status': 1}, {'part': '휀더', 'status': 1}, {'part': '프레임', 'status': 1}, {'part': '도어', 'status': 0}, {'part': '도어', 'status': 0}, {'part': '프레임', 'status': 0}, {'part': '프레임', 'status': 0}, {'part': '도어', 'status': 0}, {'part': '프레임', 'status': 0}, {'part': '프레임', 'status': 0}, {'part': '범퍼', 'status': 0}, {'part': '프레임', 'status': 1}, {'part': '프레임', 'status': 0}, {'part': '도어', 'status': 0}, {'part': '프레임', 'status': 0}, {'part': '휀더', 'status': 1}, {'part': '도어', 'status': 1}, {'part': '프레임', 'status': 0}, {'part': '프레임', 'status': 0}, {'part': '프레임', 'status': 0}, {'part': '범퍼', 'status': 1}, {'part': '휀더', 'status': 1}, {'part': '프레임', 'status': 1}, {'part': '도어', 'status': 0}, {'part': '도어', 'status': 0}, {'part': '프레임', 'status': 1}, {'part': '도어', 'status': 0}, {'part': '프레임', 'status': 0}, {'part': '휀더', 'status': 0}, {'part': '도어', 'status': 1}, {'part': '범퍼', 'status': 0}, {'part': '프레임', 'status': 0}, {'part': '프레임', 'status': 0}, {'part': '프레임', 'status': 1}, {'part': '프레임', 'status': 1}, {'part': '휀더', 'status': 0}, {'part': '프레임', 'status': 0}, {'part': '도어', 'status': 0}, {'part': '범퍼', 'status': 0}, {'part': '범퍼', 'status': 1}, {'part': '프레임', 'status': 1}, {'part': '도어', 'status': 0}, {'part': '도어', 'status': 1}, {'part': '프레임', 'status': 0}, {'part': '프레임', 'status': 1}, {'part': '프레임', 'status': 1}, {'part': '프레임', 'status': 0}, {'part': '프레임', 'status': 0}, {'part': '프레임', 'status': 1}, {'part': '휀더', 'status': 0}, {'part': '프레임', 'status': 1}, {'part': '휀더', 'status': 0}, {'part': '범퍼', 'status': 1}, {'part': '휀더', 'status': 0}, {'part': '프레임', 'status': 1}, {'part': '도어', 'status': 0}, {'part': '휀더', 'status': 0}, {'part': '범퍼', 'status': 0}, {'part': '프레임', 'status': 0}, {'part': '범퍼', 'status': 0}, {'part': '범퍼', 'status': 1}, {'part': '도어', 'status': 0}, {'part': '프레임', 'status': 0}, {'part': '범퍼', 'status': 0}, {'part': '도어', 'status': 1}, {'part': '프레임', 'status': 0}, {'part': '프레임', 'status': 1}, {'part': '프레임', 'status': 0}, {'part': '도어', 'status': 0}, {'part': '도어', 'status': 1}, {'part': '프레임', 'status': 0}, {'part': '프레임', 'status': 0}, {'part': '도어', 'status': 0}, {'part': '도어', 'status': 0}, {'part': '범퍼', 'status': 0}, {'part': '범퍼', 'status': 1}, {'part': '프레임', 'status': 0}, {'part': '범퍼', 'status': 0}, {'part': '프레임', 'status': 0}, {'part': '프레임', 'status': 0}, {'part': '휀더', 'status': 1}, {'part': '프레임', 'status': 1}, {'part': '휀더', 'status': 1}, {'part': '프레임', 'status': 0}, {'part': '도어', 'status': 0}, {'part': '프레임', 'status': 0}, {'part': '범퍼', 'status': 0}, {'part': '도어', 'status': 0}, {'part': '프레임', 'status': 0}, {'part': '휀더', 'status': 1}, {'part': '도어', 'status': 1}, {'part': '프레임', 'status': 1}, {'part': '프레임', 'status': 0}, {'part': '범퍼', 'status': 0}, {'part': '도어', 'status': 0}, {'part': '범퍼', 'status': 1}, {'part': '범퍼', 'status': 1}, {'part': '프레임', 'status': 1}, {'part': '휀더', 'status': 1}, {'part': '범퍼', 'status': 0}, {'part': '도어', 'status': 0}, {'part': '도어', 'status': 0}, {'part': '프레임', 'status': 0}, {'part': '프레임', 'status': 1}, {'part': '도어', 'status': 0}, {'part': '범퍼', 'status': 1}, {'part': '범퍼', 'status': 0}, {'part': '프레임', 'status': 1}, {'part': '휀더', 'status': 0}, {'part': '프레임', 'status': 0}, {'part': '범퍼', 'status': 0}, {'part': '프레임', 'status': 1}, {'part': '휀더', 'status': 1}, {'part': '휀더', 'status': 0}, {'part': '범퍼', 'status': 1}, {'part': '프레임', 'status': 0}, {'part': '프레임', 'status': 0}, {'part': '프레임', 'status': 0}, {'part': '프레임', 'status': 0}, {'part': '프레임', 'status': 1}, {'part': '휀더', 'status': 1}, {'part': '범퍼', 'status': 0}, {'part': '프레임', 'status': 0}, {'part': '휀더', 'status': 1}, {'part': '범퍼', 'status': 0}, {'part': '도어', 'status': 0}, {'part': '프레임', 'status': 1}, {'part': '도어', 'status': 1}, {'part': '범퍼', 'status': 0}, {'part': '도어', 'status': 0}, {'part': '프레임', 'status': 0}, {'part': '도어', 'status': 1}, {'part': '프레임', 'status': 0}, {'part': '프레임', 'status': 0}, {'part': '도어', 'status': 1}, {'part': '범퍼', 'status': 0}, {'part': '프레임', 'status': 0}, {'part': '범퍼', 'status': 0}, {'part': '휀더', 'status': 0}, {'part': '범퍼', 'status': 0}, {'part': '도어', 'status': 0}, {'part': '휀더', 'status': 1}, {'part': '프레임', 'status': 1}, {'part': '도어', 'status': 1}, {'part': '프레임', 'status': 1}, {'part': '도어', 'status': 1}, {'part': '프레임', 'status': 0}, {'part': '도어', 'status': 0}, {'part': '범퍼', 'status': 0}, {'part': '휀더', 'status': 0}, {'part': '프레임', 'status': 0}, {'part': '프레임', 'status': 0}, {'part': '프레임', 'status': 0}, {'part': '도어', 'status': 1}, {'part': '휀더', 'status': 1}, {'part': '프레임', 'status': 0}, {'part': '프레임', 'status': 0}, {'part': '범퍼', 'status': 0}, {'part': '프레임', 'status': 0}]\n",
      "train 라벨링 결과 : [4, 0, 0, 0, 4, 0, 0, 4, 1, 1, 4, 4, 1, 4, 0, 0, 0, 0, 0, 0, 1, 0, 0, 0, 2, 0, 0, 4, 4, 3, 0, 2, 4, 2, 2, 2, 1, 0, 1, 0, 2, 0, 2, 1, 0, 4, 2, 1, 0, 0, 0, 1, 0, 0, 4, 0, 1, 0, 3, 0, 0, 1, 0, 2, 2, 2, 1, 0, 0, 4, 0, 4, 0, 0, 4, 2, 1, 4, 2, 2, 0, 3, 4, 1, 0, 1, 1, 4, 0, 4, 0, 0, 0, 4, 4, 0, 4, 1, 4, 0, 4, 4, 0, 4, 2, 1, 2, 0, 4, 2, 4, 4, 0, 0, 0, 0, 1, 1, 4, 0, 4, 4, 0, 0, 4, 2, 2, 2, 2, 1, 4, 2, 2, 1, 4, 0, 4, 0, 0, 0, 0, 1, 0, 0, 0, 0, 0, 4, 4, 1, 0, 0, 4, 4, 4, 0, 4, 0, 3, 0, 2, 4, 4, 1, 3, 0, 1, 0, 2, 1, 2, 4, 4, 0, 0, 4, 2, 0, 0, 0, 2, 0, 2, 4, 0, 4, 1, 0, 0, 0, 0, 4, 0, 1, 4, 2, 2, 4, 0, 4, 4, 0, 0, 0, 0, 1, 0, 4, 0, 4, 3, 2, 4, 4, 4, 0, 0, 3, 2, 4, 0, 4, 4, 3, 0, 0, 4, 0, 0, 3, 4, 0, 3, 1, 1, 4, 0, 4, 2, 0, 0, 1, 4, 0, 1, 4, 2, 0, 4, 0, 0, 1, 0, 0, 0, 4, 2, 4, 0, 4, 0, 4, 4, 1, 0, 2, 1, 1, 0, 0, 4, 4, 0, 0, 4, 1, 1, 0, 0, 0, 1, 0, 0, 0, 2, 3, 1, 0, 0, 0, 0, 0, 0, 1, 0, 0, 0, 0, 1, 0, 4, 0, 4, 1, 1, 2, 4, 0, 4, 0, 0, 0, 0, 0, 0, 0, 0, 3, 2, 0, 0, 1, 4, 4, 0, 0, 4, 4, 0, 0, 0, 2, 1, 0, 1, 1, 0, 4, 2, 2, 4, 1, 0, 4, 2, 0, 4, 0, 1, 0, 2, 0, 1, 0, 0, 1, 4, 0, 0, 0, 4, 0, 2, 4, 0, 0, 4, 4, 0, 0, 3, 0, 0, 3, 0, 4, 1, 0, 4, 0, 1, 0, 2, 0, 4, 4, 1, 1, 1, 0, 4, 0, 0, 0, 4, 0, 0, 0, 2, 0, 0, 1, 0, 0, 0, 0, 4, 0, 4, 4, 3, 4, 3, 2, 2, 1, 2, 3, 0, 4, 4, 2, 4, 4, 4, 2, 4, 4, 0, 4, 4, 4, 0, 4, 3, 4, 4, 4, 1, 3, 1, 1, 0, 4, 0, 1, 2, 0, 3, 4, 0, 3, 0, 4, 4, 1, 4, 0, 2, 3, 2, 3, 0, 1, 4, 0, 3, 4, 0, 2, 4, 0, 0, 3, 0, 4, 1, 2, 3, 0, 0, 0, 1, 4, 0, 0, 0, 0, 4, 4, 0, 0, 0, 4, 1, 0, 0, 0, 4, 3, 0, 0, 0, 4, 4, 2, 2, 4, 1, 1, 0, 4, 4, 3, 4, 2, 1, 0, 0, 0, 0, 2, 0, 1, 1, 2, 1, 0, 4, 4, 0, 3, 4, 4, 1, 4, 1, 4, 0, 0, 1, 4, 0, 4, 1, 0, 4, 1, 4, 0, 4, 2, 2, 1, 1, 0, 0, 4, 3, 2, 4, 0, 4, 0, 1, 2, 4, 2, 1, 4, 0, 3, 1, 0, 0, 1, 0, 0, 0, 4, 0, 0, 0, 1, 0, 4, 4, 3, 0, 0, 3, 0, 1, 4, 0, 4, 0, 0, 0, 2, 1, 3, 1, 3, 3, 1, 4, 0, 2, 2, 1, 0, 1, 4, 2, 0, 0, 4, 1, 0, 0, 1, 4, 0, 2, 1, 0, 4, 0, 3, 1, 1, 4, 0, 4, 0, 2, 0, 0, 0, 0, 1, 2, 0, 3, 0, 0, 0, 0, 4, 4, 4, 0, 0, 0, 2, 3, 0, 4, 2, 0, 1, 4, 0, 4, 1, 3, 0, 2, 4, 0, 0, 0, 4, 0, 1, 4, 4, 2, 1, 2, 1, 4, 1, 0, 2, 3, 0, 2, 3, 0, 4, 4, 0, 0, 1, 3, 4, 0, 4, 0, 1, 0, 4, 4, 2, 4, 1, 0, 0, 0, 4, 0, 0, 4, 4, 0, 4, 0, 4, 0, 1, 2, 0, 2, 0, 4, 4, 0, 0, 4, 0, 1, 4, 0, 1, 0, 0, 4, 0, 1, 0, 0, 4, 0, 1, 0, 1, 1, 0, 0, 4, 4, 2, 4, 0, 1, 2, 0, 0, 0, 2, 0, 0, 2, 4, 4, 1, 2, 4, 4, 1, 0, 0, 0, 0, 0, 0, 2, 4, 0, 2, 4, 1, 3, 0, 4, 4, 0, 4, 0, 3, 1, 0, 3, 0, 2, 0, 1, 4, 1, 4, 0, 3, 0, 0, 4, 4, 0, 3, 4, 1, 0, 3, 0, 0, 4, 4, 0, 0, 1, 2, 4, 3, 1, 0, 4, 2, 4, 4, 4, 0, 2, 0, 2, 4, 0, 0, 4, 0, 2, 0, 0, 0, 0, 2, 4, 0, 4, 2, 0, 2, 0, 4, 0, 4, 0, 0, 0, 0, 0, 0, 3, 0, 0, 4, 0, 0, 3, 0, 2, 0, 2, 0, 2, 4, 2, 0, 2, 0, 4, 4, 1, 0, 0, 0, 0, 2, 2, 0, 0, 2, 0, 2, 0, 3, 4, 0, 0, 0, 0, 4, 4, 4, 1, 1, 0, 4, 0, 0, 4, 3, 0, 2, 0, 0, 4, 4, 2, 0, 4, 2, 0, 4, 4, 2, 2, 4, 0, 2, 1, 4, 0, 0, 4, 4, 1, 0, 1, 3, 0, 0, 0, 0]\n",
      "valid 라벨링 결과 : [0, 1, 0, 4, 0, 4, 0, 0, 2, 4, 0, 0, 3, 1, 1, 4, 4, 2, 0, 0, 2, 2, 0, 0, 1, 1, 1, 0, 2, 4, 0, 0, 4, 1, 4, 0, 1, 0, 1, 0, 0, 0, 2, 2, 4, 0, 4, 1, 0, 0, 0, 1, 1, 0, 0, 2, 1, 2, 0, 2, 3, 0, 0, 0, 4, 0, 2, 0, 0, 0, 1, 0, 0, 1, 0, 0, 0, 0, 0, 0, 2, 2, 4, 4, 2, 4, 4, 1, 0, 4, 2, 4, 0, 0, 4, 4, 4, 0, 0, 0, 2, 2, 0, 2, 4, 3, 0, 1, 4, 4, 0, 0, 3, 4, 2, 1, 0, 0, 2, 0, 4, 0, 0, 4, 4, 0, 3, 0, 3, 0, 3, 0, 2, 3, 1, 4, 1, 0, 2, 4, 1, 0, 4, 0, 4, 2, 0, 4, 4, 2, 2, 1, 0, 4, 1, 4, 4, 0, 0, 0, 4, 2, 4, 1, 2, 4, 0, 0, 0, 4, 1, 2, 0, 0, 0, 0, 1, 2, 2, 4, 0, 2, 0, 1, 0, 3, 4, 1, 0, 0, 3, 0, 4, 4, 4, 4, 0, 0, 1, 4, 0, 1, 2, 0, 0, 1, 2, 4, 0, 4, 4, 0, 1, 4, 1, 3, 1, 2, 0, 0, 0, 0, 0, 4, 2, 1, 3, 4, 4, 4, 0, 0, 4, 4, 1, 4]\n",
      "test 라벨링 결과 : [4, 1, 0, 0, 1, 4, 0, 3, 0, 2, 1, 1, 2, 4, 0, 4, 0, 0, 1, 0, 0, 4, 4, 4, 0, 1, 0, 0, 2, 0, 0, 4, 0, 0, 0, 0, 4, 2, 0, 2, 0, 2, 0, 0, 4, 4, 2, 4, 4, 4, 0, 3, 2, 2, 0, 0, 1, 3, 0, 2, 0, 4, 1, 3, 4, 0, 3, 1, 0, 3, 0, 1, 0, 0, 1, 0, 1, 4, 0, 0, 0, 4, 0, 0, 0, 0, 0, 1, 0, 4, 0, 2, 0, 1, 0, 0, 4, 0, 4, 1, 0, 2, 0, 0, 0, 0, 1, 1, 0, 0, 4, 0, 0, 1, 0, 1, 0, 0, 4, 0, 4, 3, 0, 0, 0, 1, 0, 0, 1, 0, 1, 3, 0, 0, 2, 0, 4, 1, 0, 4, 1, 0, 0, 4, 1, 1, 4, 0, 0, 3, 1, 4, 2, 1, 1, 2, 0, 1, 0, 0, 0, 0, 2, 0, 4, 2, 1, 1, 1, 3, 4, 4, 4, 0, 0, 2, 2, 4, 0, 0, 0, 1, 0, 1, 4, 0, 4, 2, 2, 0, 0, 4, 4, 0, 4, 4, 2, 1, 0, 0, 0, 4, 0, 0, 4, 4, 0, 4, 4, 0, 4, 3, 4, 4, 0, 0, 3, 2, 0, 4, 4, 0, 0, 0, 4, 0, 0, 2, 3, 0, 0, 2, 0, 0, 1, 4, 1, 2, 0, 4, 1, 4, 4, 0, 1, 0, 4, 3, 2, 4, 4, 2, 1, 0, 1, 0, 4, 4, 4, 1, 2, 2, 0, 0, 2, 0, 0, 1, 0, 4, 4, 4, 1, 2, 0, 3, 0, 2, 0, 1, 1, 4, 4, 0, 4, 0, 0, 2, 1, 0, 4, 0, 0, 0, 0]\n"
     ]
    }
   ],
   "source": [
    "# 부품 상태를 체크하는 함수\n",
    "def get_label(part, status):\n",
    "    if part == \"범퍼\":\n",
    "        if status == 1:\n",
    "            return 0\n",
    "        elif status == 0:\n",
    "            return 1\n",
    "    elif part == \"도어\":\n",
    "        if status == 1:\n",
    "            return 0\n",
    "        elif status == 0:\n",
    "            return 2\n",
    "    elif part == \"휀더\":\n",
    "        if status == 1:\n",
    "            return 0\n",
    "        elif status == 0:\n",
    "            return 3\n",
    "    elif part == \"프레임\":\n",
    "        if status == 1:\n",
    "            return 0\n",
    "        elif status == 0:\n",
    "            return 4\n",
    "    return None  # 기본적으로 반환할 값이 없으면 None\n",
    "\n",
    "\n",
    "# 예시 부품과 상태\n",
    "parts_and_status_train = []\n",
    "parts_and_status_valid = []\n",
    "parts_and_status_test = []\n",
    "for quality, part in zip(train_test_20.iloc[:, 1], train_test_20.iloc[:, 2]):\n",
    "    parts_and_status_train.append({\"part\": part, \"status\": quality})\n",
    "\n",
    "for quality, part in zip(test_test_20.iloc[:, 1], test_test_20.iloc[:, 2]):\n",
    "    parts_and_status_test.append({\"part\": part, \"status\": quality})\n",
    "\n",
    "for quality, part in zip(valid_test_20.iloc[:, 1], valid_test_20.iloc[:, 2]):\n",
    "    parts_and_status_valid.append({\"part\": part, \"status\": quality})\n",
    "\n",
    "print(f\"parts_and_status_train : {parts_and_status_train}\")\n",
    "print(f\"parts_and_status_test : {parts_and_status_test}\")\n",
    "print(f\"parts_and_status_valid : {parts_and_status_valid}\")\n",
    "\n",
    "# 라벨링 결과를 저장할 리스트\n",
    "labels_train = []\n",
    "labels_valid = []\n",
    "label_test = []\n",
    "\n",
    "# 각 부품 상태에 대해 라벨을 설정\n",
    "for item in parts_and_status_train:\n",
    "    label = get_label(item[\"part\"], item[\"status\"])\n",
    "    labels_train.append(label)\n",
    "for item in parts_and_status_valid:\n",
    "    label = get_label(item[\"part\"], item[\"status\"])\n",
    "    labels_valid.append(label)\n",
    "for item in parts_and_status_test:\n",
    "    label = get_label(item[\"part\"], item[\"status\"])\n",
    "    label_test.append(label)\n",
    "\n",
    "# # 결과 출력\n",
    "print(\"train 라벨링 결과 :\", labels_train)\n",
    "print(\"valid 라벨링 결과 :\", labels_valid)\n",
    "print(\"test 라벨링 결과 :\", label_test)"
   ]
  },
  {
   "cell_type": "code",
   "execution_count": 9,
   "metadata": {},
   "outputs": [],
   "source": [
    "def convert_to_yolo_format(bbox, label, image_width, image_height):\n",
    "    yolo_labels = []  # 각 이미지에 대한 라벨을 담을 리스트\n",
    "\n",
    "    if not bbox:\n",
    "        # bbox가 비어있으면 기본값으로 라벨을 설정\n",
    "        yolo_labels.append(f\"{label} 0.5 0.5 0.0 0.0\")\n",
    "    else:\n",
    "        # bbox가 있으면 여러 개의 파손 부위를 처리\n",
    "        for x_min, y_min, width, height in bbox:\n",
    "            # YOLO 형식에 맞게 좌표를 정규화\n",
    "            x_center = (x_min + width / 2) / image_width\n",
    "            y_center = (y_min + height / 2) / image_height\n",
    "            norm_width = width / image_width\n",
    "            norm_height = height / image_height\n",
    "            # 정규화된 좌표와 함께 라벨을 저장\n",
    "            yolo_labels.append(f\"{label} {x_center:.6f} {y_center:.6f} {\n",
    "                               norm_width:.6f} {norm_height:.6f}\")\n",
    "\n",
    "    return yolo_labels\n",
    "\n",
    "\n",
    "def save_yolo_labels(output_dir, bboxes, labels, size, names):\n",
    "    # 각 이미지에 대해 라벨을 텍스트 파일로 저장\n",
    "    for bbox, label, (w, h), name in zip(bboxes, labels, size, names):\n",
    "        yolo_labels = convert_to_yolo_format(bbox, label, w, h)\n",
    "\n",
    "        # 라벨을 .txt 파일로 저장\n",
    "        txt_file_path = os.path.join(output_dir, f\"{name}.txt\")\n",
    "        with open(txt_file_path, 'w') as txt_file:\n",
    "            for yolo_data in yolo_labels:\n",
    "                txt_file.write(f\"{yolo_data}\\n\")\n",
    "\n",
    "\n",
    "\n",
    "# 라벨을 저장할 디렉토리\n",
    "train_output_dir = './train/labels'\n",
    "os.makedirs(train_output_dir, exist_ok=True)\n",
    "\n",
    "# YOLO 라벨 저장\n",
    "save_yolo_labels(train_output_dir, train_bboxes, labels_train, train_sizes, train_names)\n",
    "\n",
    "# 라벨을 저장할 디렉토리\n",
    "valid_output_dir = './valid/labels'\n",
    "os.makedirs(valid_output_dir, exist_ok=True)\n",
    "\n",
    "# YOLO 라벨 저장\n",
    "save_yolo_labels(valid_output_dir, valid_bboxes, labels_valid, valid_sizes, valid_names)\n",
    "\n",
    "\n",
    "# 라벨을 저장할 디렉토리\n",
    "test_output_dir = './test/labels'\n",
    "os.makedirs(test_output_dir, exist_ok=True)\n",
    "\n",
    "# YOLO 라벨 저장\n",
    "save_yolo_labels(test_output_dir, test_bboxes, label_test, test_sizes, test_names)"
   ]
  },
  {
   "cell_type": "code",
   "execution_count": 10,
   "metadata": {},
   "outputs": [
    {
     "name": "stdout",
     "output_type": "stream",
     "text": [
      "[4, 1, 0, 0, 1, 4, 0, 3, 0, 2, 1, 1, 2, 4, 0, 4, 0, 0, 1, 0, 0, 4, 4, 4, 0, 1, 0, 0, 2, 0, 0, 4, 0, 0, 0, 0, 4, 2, 0, 2, 0, 2, 0, 0, 4, 4, 2, 4, 4, 4, 0, 3, 2, 2, 0, 0, 1, 3, 0, 2, 0, 4, 1, 3, 4, 0, 3, 1, 0, 3, 0, 1, 0, 0, 1, 0, 1, 4, 0, 0, 0, 4, 0, 0, 0, 0, 0, 1, 0, 4, 0, 2, 0, 1, 0, 0, 4, 0, 4, 1, 0, 2, 0, 0, 0, 0, 1, 1, 0, 0, 4, 0, 0, 1, 0, 1, 0, 0, 4, 0, 4, 3, 0, 0, 0, 1, 0, 0, 1, 0, 1, 3, 0, 0, 2, 0, 4, 1, 0, 4, 1, 0, 0, 4, 1, 1, 4, 0, 0, 3, 1, 4, 2, 1, 1, 2, 0, 1, 0, 0, 0, 0, 2, 0, 4, 2, 1, 1, 1, 3, 4, 4, 4, 0, 0, 2, 2, 4, 0, 0, 0, 1, 0, 1, 4, 0, 4, 2, 2, 0, 0, 4, 4, 0, 4, 4, 2, 1, 0, 0, 0, 4, 0, 0, 4, 4, 0, 4, 4, 0, 4, 3, 4, 4, 0, 0, 3, 2, 0, 4, 4, 0, 0, 0, 4, 0, 0, 2, 3, 0, 0, 2, 0, 0, 1, 4, 1, 2, 0, 4, 1, 4, 4, 0, 1, 0, 4, 3, 2, 4, 4, 2, 1, 0, 1, 0, 4, 4, 4, 1, 2, 2, 0, 0, 2, 0, 0, 1, 0, 4, 4, 4, 1, 2, 0, 3, 0, 2, 0, 1, 1, 4, 4, 0, 4, 0, 0, 2, 1, 0, 4, 0, 0, 0, 0]\n",
      "295\n"
     ]
    }
   ],
   "source": [
    "print(label_test)\n",
    "print(len(label_test))"
   ]
  },
  {
   "cell_type": "code",
   "execution_count": 11,
   "metadata": {},
   "outputs": [],
   "source": [
    "# YAML 파일에 저장\n",
    "yaml_data = {\n",
    "    \"train\": \"C:/Users/Administrator/sf_project_2/train/images\",\n",
    "    \"test\": \"C:/Users/Administrator/sf_project_2/test/images\",\n",
    "    \"val\": \"C:/Users/Administrator/sf_project_2/valid/images\",\n",
    "    \"nc\": 5,\n",
    "    \"names\": [\"ok\",\n",
    "              \"bumper_faulty\",\n",
    "              \"door_faulty\",\n",
    "              \"fender_faulty\",\n",
    "              \"frame_faulty\"]\n",
    "}\n",
    "\n",
    "with open(f\"data.yaml\", \"w\") as yaml_file:\n",
    "    yaml.dump(yaml_data, yaml_file, default_flow_style=False, sort_keys=False)\n",
    "\n",
    "# print(\"YAML 파일이 생성되었습니다.\")"
   ]
  },
  {
   "cell_type": "code",
   "execution_count": 12,
   "metadata": {},
   "outputs": [
    {
     "data": {
      "text/plain": [
       "'\\n1. yolo 데이터 돌려보기\\n2. test데이터 만들기\\n3. openCV 연결 -> 실험\\n4. PPT 작성\\n\\n'"
      ]
     },
     "execution_count": 12,
     "metadata": {},
     "output_type": "execute_result"
    }
   ],
   "source": [
    "'''\n",
    "1. yolo 데이터 돌려보기\n",
    "2. test데이터 만들기\n",
    "3. openCV 연결 -> 실험\n",
    "4. PPT 작성\n",
    "\n",
    "'''"
   ]
  },
  {
   "cell_type": "code",
   "execution_count": 13,
   "metadata": {},
   "outputs": [
    {
     "name": "stdout",
     "output_type": "stream",
     "text": [
      "Ultralytics 8.3.64  Python-3.12.8 torch-2.5.1 CUDA:0 (NVIDIA GeForce RTX 4050 Laptop GPU, 6140MiB)\n",
      "\u001b[34m\u001b[1mengine\\trainer: \u001b[0mtask=detect, mode=train, model=yolo11n.pt, data=data.yaml, epochs=50, time=None, patience=100, batch=16, imgsz=640, save=True, save_period=-1, cache=False, device=0, workers=4, project=C:/Users/Administrator/sf_project_2, name=part_damage_detection, exist_ok=False, pretrained=True, optimizer=auto, verbose=True, seed=0, deterministic=True, single_cls=False, rect=False, cos_lr=False, close_mosaic=10, resume=False, amp=True, fraction=1.0, profile=False, freeze=None, multi_scale=False, overlap_mask=True, mask_ratio=4, dropout=0.0, val=True, split=val, save_json=False, save_hybrid=False, conf=None, iou=0.7, max_det=300, half=False, dnn=False, plots=True, source=None, vid_stride=1, stream_buffer=False, visualize=False, augment=False, agnostic_nms=False, classes=None, retina_masks=False, embed=None, show=False, save_frames=False, save_txt=False, save_conf=False, save_crop=False, show_labels=True, show_conf=True, show_boxes=True, line_width=None, format=torchscript, keras=False, optimize=False, int8=False, dynamic=False, simplify=True, opset=None, workspace=None, nms=False, lr0=0.01, lrf=0.01, momentum=0.937, weight_decay=0.0005, warmup_epochs=3.0, warmup_momentum=0.8, warmup_bias_lr=0.1, box=7.5, cls=0.5, dfl=1.5, pose=12.0, kobj=1.0, nbs=64, hsv_h=0.015, hsv_s=0.7, hsv_v=0.4, degrees=0.0, translate=0.1, scale=0.5, shear=0.0, perspective=0.0, flipud=0.0, fliplr=0.5, bgr=0.0, mosaic=1.0, mixup=0.0, copy_paste=0.0, copy_paste_mode=flip, auto_augment=randaugment, erasing=0.4, crop_fraction=1.0, cfg=None, tracker=botsort.yaml, save_dir=C:\\Users\\Administrator\\sf_project_2\\part_damage_detection\n",
      "Overriding model.yaml nc=80 with nc=5\n",
      "\n",
      "                   from  n    params  module                                       arguments                     \n",
      "  0                  -1  1       464  ultralytics.nn.modules.conv.Conv             [3, 16, 3, 2]                 \n",
      "  1                  -1  1      4672  ultralytics.nn.modules.conv.Conv             [16, 32, 3, 2]                \n",
      "  2                  -1  1      6640  ultralytics.nn.modules.block.C3k2            [32, 64, 1, False, 0.25]      \n",
      "  3                  -1  1     36992  ultralytics.nn.modules.conv.Conv             [64, 64, 3, 2]                \n",
      "  4                  -1  1     26080  ultralytics.nn.modules.block.C3k2            [64, 128, 1, False, 0.25]     \n",
      "  5                  -1  1    147712  ultralytics.nn.modules.conv.Conv             [128, 128, 3, 2]              \n",
      "  6                  -1  1     87040  ultralytics.nn.modules.block.C3k2            [128, 128, 1, True]           \n",
      "  7                  -1  1    295424  ultralytics.nn.modules.conv.Conv             [128, 256, 3, 2]              \n",
      "  8                  -1  1    346112  ultralytics.nn.modules.block.C3k2            [256, 256, 1, True]           \n",
      "  9                  -1  1    164608  ultralytics.nn.modules.block.SPPF            [256, 256, 5]                 \n",
      " 10                  -1  1    249728  ultralytics.nn.modules.block.C2PSA           [256, 256, 1]                 \n",
      " 11                  -1  1         0  torch.nn.modules.upsampling.Upsample         [None, 2, 'nearest']          \n",
      " 12             [-1, 6]  1         0  ultralytics.nn.modules.conv.Concat           [1]                           \n",
      " 13                  -1  1    111296  ultralytics.nn.modules.block.C3k2            [384, 128, 1, False]          \n",
      " 14                  -1  1         0  torch.nn.modules.upsampling.Upsample         [None, 2, 'nearest']          \n",
      " 15             [-1, 4]  1         0  ultralytics.nn.modules.conv.Concat           [1]                           \n",
      " 16                  -1  1     32096  ultralytics.nn.modules.block.C3k2            [256, 64, 1, False]           \n",
      " 17                  -1  1     36992  ultralytics.nn.modules.conv.Conv             [64, 64, 3, 2]                \n",
      " 18            [-1, 13]  1         0  ultralytics.nn.modules.conv.Concat           [1]                           \n",
      " 19                  -1  1     86720  ultralytics.nn.modules.block.C3k2            [192, 128, 1, False]          \n",
      " 20                  -1  1    147712  ultralytics.nn.modules.conv.Conv             [128, 128, 3, 2]              \n",
      " 21            [-1, 10]  1         0  ultralytics.nn.modules.conv.Concat           [1]                           \n",
      " 22                  -1  1    378880  ultralytics.nn.modules.block.C3k2            [384, 256, 1, True]           \n",
      " 23        [16, 19, 22]  1    431647  ultralytics.nn.modules.head.Detect           [5, [64, 128, 256]]           \n",
      "YOLO11n summary: 319 layers, 2,590,815 parameters, 2,590,799 gradients, 6.4 GFLOPs\n",
      "\n",
      "Transferred 448/499 items from pretrained weights\n",
      "Freezing layer 'model.23.dfl.conv.weight'\n",
      "\u001b[34m\u001b[1mAMP: \u001b[0mrunning Automatic Mixed Precision (AMP) checks...\n",
      "\u001b[34m\u001b[1mAMP: \u001b[0mchecks passed \n"
     ]
    },
    {
     "name": "stderr",
     "output_type": "stream",
     "text": [
      "\u001b[34m\u001b[1mtrain: \u001b[0mScanning C:\\Users\\Administrator\\sf_project_2\\train\\labels.cache... 944 images, 0 backgrounds, 32 corrupt: 100%|██████████| 944/944 [00:00<?, ?it/s]"
     ]
    },
    {
     "name": "stdout",
     "output_type": "stream",
     "text": [
      "\u001b[34m\u001b[1mtrain: \u001b[0mWARNING  C:\\Users\\Administrator\\sf_project_2\\train\\images\\204_101_20_101061f4-1ec6-4956-9e7c-5cb648fe55ce.jpg: ignoring corrupt image/label: non-normalized or out of bounds coordinates [1.104698]\n",
      "\u001b[34m\u001b[1mtrain: \u001b[0mWARNING  C:\\Users\\Administrator\\sf_project_2\\train\\images\\204_101_20_339eafbc-1b7b-4187-b6c8-42984db3a9e8.jpg: ignoring corrupt image/label: non-normalized or out of bounds coordinates [1.940407 2.934593 2.023256 2.206395]\n",
      "\u001b[34m\u001b[1mtrain: \u001b[0mWARNING  C:\\Users\\Administrator\\sf_project_2\\train\\images\\204_101_20_69849de5-024d-4509-97e7-cac881152b96.jpg: ignoring corrupt image/label: non-normalized or out of bounds coordinates [1.227767]\n",
      "\u001b[34m\u001b[1mtrain: \u001b[0mWARNING  C:\\Users\\Administrator\\sf_project_2\\train\\images\\204_101_20_6ecc616d-891b-4243-b443-10b507d0e2ca.jpg: ignoring corrupt image/label: non-normalized or out of bounds coordinates [1.768169 2.585756 2.463663]\n",
      "\u001b[34m\u001b[1mtrain: \u001b[0mWARNING  C:\\Users\\Administrator\\sf_project_2\\train\\images\\204_101_20_722043be-5fcb-42bc-93ac-99a0470cc111.jpg: ignoring corrupt image/label: non-normalized or out of bounds coordinates [1.774709 1.800872 3.462209]\n",
      "\u001b[34m\u001b[1mtrain: \u001b[0mWARNING  C:\\Users\\Administrator\\sf_project_2\\train\\images\\204_101_20_7b73e59d-789e-460b-a741-3d1c098c6c00.jpg: ignoring corrupt image/label: non-normalized or out of bounds coordinates [1.360465 2.895349 2.72093 ]\n",
      "\u001b[34m\u001b[1mtrain: \u001b[0mWARNING  C:\\Users\\Administrator\\sf_project_2\\train\\images\\204_101_20_8d9e46f3-f51a-42f2-9e5e-20d20e06dbe9.jpg: ignoring corrupt image/label: non-normalized or out of bounds coordinates [1.247093 2.359012 2.468023]\n",
      "\u001b[34m\u001b[1mtrain: \u001b[0mWARNING  C:\\Users\\Administrator\\sf_project_2\\train\\images\\204_101_20_a1abb322-1c60-4997-927e-fd9962b68cf7.jpg: ignoring corrupt image/label: non-normalized or out of bounds coordinates [1.148163 1.378132]\n",
      "\u001b[34m\u001b[1mtrain: \u001b[0mWARNING  C:\\Users\\Administrator\\sf_project_2\\train\\images\\204_101_20_ae94ad7b-b9e2-4592-9c95-6eb31c863811.jpg: ignoring corrupt image/label: non-normalized or out of bounds coordinates [1.115674 1.666791 1.377791]\n",
      "\u001b[34m\u001b[1mtrain: \u001b[0mWARNING  C:\\Users\\Administrator\\sf_project_2\\train\\images\\204_101_20_b2d01e44-cf7c-454a-9ad1-188399199794.jpg: ignoring corrupt image/label: non-normalized or out of bounds coordinates [1.231283]\n",
      "\u001b[34m\u001b[1mtrain: \u001b[0mWARNING  C:\\Users\\Administrator\\sf_project_2\\train\\images\\204_101_20_bd88f35e-b391-4c66-8dae-2b41ce0ae6de.jpg: ignoring corrupt image/label: non-normalized or out of bounds coordinates [2.406977 1.792151 2.406977 2.420058 1.168605]\n",
      "\u001b[34m\u001b[1mtrain: \u001b[0mWARNING  C:\\Users\\Administrator\\sf_project_2\\train\\images\\204_101_20_d96d0ab9-cc54-4f97-8250-e6bbb57afe9a.jpg: ignoring corrupt image/label: non-normalized or out of bounds coordinates [1.397721 1.407977]\n",
      "\u001b[34m\u001b[1mtrain: \u001b[0mWARNING  C:\\Users\\Administrator\\sf_project_2\\train\\images\\204_101_20_deedd328-f0d0-450f-90c0-5bea98046b86.jpg: ignoring corrupt image/label: non-normalized or out of bounds coordinates [2.051599 2.359012 1.896802]\n",
      "\u001b[34m\u001b[1mtrain: \u001b[0mWARNING  C:\\Users\\Administrator\\sf_project_2\\train\\images\\204_102_20_e46bc3a4-0cad-448d-9f97-1fea8e76f8e4.JPG: ignoring corrupt image/label: non-normalized or out of bounds coordinates [1.155801]\n",
      "\u001b[34m\u001b[1mtrain: \u001b[0mWARNING  C:\\Users\\Administrator\\sf_project_2\\train\\images\\205_101_20_009307a3-98b1-4368-a20e-fc08abd4063f.jpg: ignoring corrupt image/label: non-normalized or out of bounds coordinates [1.065459]\n",
      "\u001b[34m\u001b[1mtrain: \u001b[0mWARNING  C:\\Users\\Administrator\\sf_project_2\\train\\images\\205_101_20_0d6a2dc0-10d2-4816-b9ce-70de96a99a73.jpg: ignoring corrupt image/label: non-normalized or out of bounds coordinates [1.02647 1.3163 ]\n",
      "\u001b[34m\u001b[1mtrain: \u001b[0mWARNING  C:\\Users\\Administrator\\sf_project_2\\train\\images\\205_101_20_1909c4c2-f68c-4615-97e0-f2638b83a1c7.JPG: ignoring corrupt image/label: non-normalized or out of bounds coordinates [1.008]\n",
      "\u001b[34m\u001b[1mtrain: \u001b[0mWARNING  C:\\Users\\Administrator\\sf_project_2\\train\\images\\205_101_20_1a679d1c-1097-4823-83ae-af692fdebbc8.jpg: ignoring corrupt image/label: non-normalized or out of bounds coordinates [1.148256]\n",
      "\u001b[34m\u001b[1mtrain: \u001b[0mWARNING  C:\\Users\\Administrator\\sf_project_2\\train\\images\\205_101_20_1bc3e6dd-286e-4737-aeb9-28bb33bd5075.jpg: ignoring corrupt image/label: non-normalized or out of bounds coordinates [1.043936 1.273878]\n",
      "\u001b[34m\u001b[1mtrain: \u001b[0mWARNING  C:\\Users\\Administrator\\sf_project_2\\train\\images\\205_101_20_1ddb88c0-d720-4db5-a04b-f7f01a235b39.jpg: ignoring corrupt image/label: non-normalized or out of bounds coordinates [1.039116]\n",
      "\u001b[34m\u001b[1mtrain: \u001b[0mWARNING  C:\\Users\\Administrator\\sf_project_2\\train\\images\\205_101_20_265c20b1-2a1b-4c4e-8e87-3a742fe2e3ff.jpg: ignoring corrupt image/label: non-normalized or out of bounds coordinates [1.036268]\n",
      "\u001b[34m\u001b[1mtrain: \u001b[0mWARNING  C:\\Users\\Administrator\\sf_project_2\\train\\images\\205_101_20_385e99cb-f171-4e0e-b254-e826e472f244.jpg: ignoring corrupt image/label: non-normalized or out of bounds coordinates [1.232954]\n",
      "\u001b[34m\u001b[1mtrain: \u001b[0mWARNING  C:\\Users\\Administrator\\sf_project_2\\train\\images\\205_101_20_3bc7b41a-70e3-4d4f-80e9-324f033b596e.JPG: ignoring corrupt image/label: non-normalized or out of bounds coordinates [1.157442]\n",
      "\u001b[34m\u001b[1mtrain: \u001b[0mWARNING  C:\\Users\\Administrator\\sf_project_2\\train\\images\\205_101_20_5f4f0927-aa9e-4d6d-b4bf-66011ef6be8b.jpg: ignoring corrupt image/label: non-normalized or out of bounds coordinates [1.009465]\n",
      "\u001b[34m\u001b[1mtrain: \u001b[0mWARNING  C:\\Users\\Administrator\\sf_project_2\\train\\images\\205_101_20_758c9b50-49b7-4f0f-a409-a445e3425206.jpg: ignoring corrupt image/label: non-normalized or out of bounds coordinates [1.111784 1.088581 1.082721 1.212436]\n",
      "\u001b[34m\u001b[1mtrain: \u001b[0mWARNING  C:\\Users\\Administrator\\sf_project_2\\train\\images\\205_101_20_865cbd76-ce04-4961-9503-c755a75cc6d0.jpg: ignoring corrupt image/label: non-normalized or out of bounds coordinates [1.205791]\n",
      "\u001b[34m\u001b[1mtrain: \u001b[0mWARNING  C:\\Users\\Administrator\\sf_project_2\\train\\images\\205_101_20_8c49fd00-2381-43ef-94f5-8fb125407a7a.jpg: ignoring corrupt image/label: non-normalized or out of bounds coordinates [1.124818]\n",
      "\u001b[34m\u001b[1mtrain: \u001b[0mWARNING  C:\\Users\\Administrator\\sf_project_2\\train\\images\\205_101_20_98c22a93-295a-4a00-b4b9-2cf6b3a3df86.jpg: ignoring corrupt image/label: non-normalized or out of bounds coordinates [1.166826]\n",
      "\u001b[34m\u001b[1mtrain: \u001b[0mWARNING  C:\\Users\\Administrator\\sf_project_2\\train\\images\\205_101_20_dc150bfe-a97c-461c-8844-ce22c86480ab.jpg: ignoring corrupt image/label: non-normalized or out of bounds coordinates [1.299047]\n",
      "\u001b[34m\u001b[1mtrain: \u001b[0mWARNING  C:\\Users\\Administrator\\sf_project_2\\train\\images\\205_101_20_dc86338d-445a-4d8d-bc55-e7b5024a374c.jpg: ignoring corrupt image/label: non-normalized or out of bounds coordinates [1.140988]\n",
      "\u001b[34m\u001b[1mtrain: \u001b[0mWARNING  C:\\Users\\Administrator\\sf_project_2\\train\\images\\205_101_20_f6799ae6-5a52-48c6-9fe7-0926e39b9058.JPG: ignoring corrupt image/label: non-normalized or out of bounds coordinates [1.057814]\n",
      "\u001b[34m\u001b[1mtrain: \u001b[0mWARNING  C:\\Users\\Administrator\\sf_project_2\\train\\images\\209_102_20_baa6890a-bb5f-48bf-965c-3494a250414f.jpg: ignoring corrupt image/label: non-normalized or out of bounds coordinates [1.031436]\n"
     ]
    },
    {
     "name": "stderr",
     "output_type": "stream",
     "text": [
      "\n",
      "\u001b[34m\u001b[1mval: \u001b[0mScanning C:\\Users\\Administrator\\sf_project_2\\valid\\labels.cache... 236 images, 0 backgrounds, 7 corrupt: 100%|██████████| 236/236 [00:00<?, ?it/s]"
     ]
    },
    {
     "name": "stdout",
     "output_type": "stream",
     "text": [
      "\u001b[34m\u001b[1mval: \u001b[0mWARNING  C:\\Users\\Administrator\\sf_project_2\\valid\\images\\204_101_20_b3099278-3c6b-4b51-b094-0a5638f13790.JPG: ignoring corrupt image/label: non-normalized or out of bounds coordinates [1.054884]\n",
      "\u001b[34m\u001b[1mval: \u001b[0mWARNING  C:\\Users\\Administrator\\sf_project_2\\valid\\images\\204_101_20_d0935e6c-c6f2-4f0a-ab1b-f76c23b4f0ba.jpg: ignoring corrupt image/label: non-normalized or out of bounds coordinates [1.028512]\n",
      "\u001b[34m\u001b[1mval: \u001b[0mWARNING  C:\\Users\\Administrator\\sf_project_2\\valid\\images\\205_101_20_063555ea-1697-4f3e-bcdf-d111b0f1c098.jpg: ignoring corrupt image/label: non-normalized or out of bounds coordinates [1.226834 1.931552]\n",
      "\u001b[34m\u001b[1mval: \u001b[0mWARNING  C:\\Users\\Administrator\\sf_project_2\\valid\\images\\205_101_20_0f7beccd-2c7d-405a-810b-12a168c587a4.JPG: ignoring corrupt image/label: non-normalized or out of bounds coordinates [1.066605]\n",
      "\u001b[34m\u001b[1mval: \u001b[0mWARNING  C:\\Users\\Administrator\\sf_project_2\\valid\\images\\205_101_20_1b30df52-0d78-4ded-a5cb-29e597cf1bb1.jpg: ignoring corrupt image/label: non-normalized or out of bounds coordinates [1.013472 1.327275]\n",
      "\u001b[34m\u001b[1mval: \u001b[0mWARNING  C:\\Users\\Administrator\\sf_project_2\\valid\\images\\205_101_20_aa7970e5-431b-455b-a4b4-f0fc366fe58a.jpg: ignoring corrupt image/label: non-normalized or out of bounds coordinates [1.000674]\n",
      "\u001b[34m\u001b[1mval: \u001b[0mWARNING  C:\\Users\\Administrator\\sf_project_2\\valid\\images\\205_101_20_bf4da94e-e57a-4788-a76e-281435b3af93.JPG: ignoring corrupt image/label: non-normalized or out of bounds coordinates [1.300047]\n"
     ]
    },
    {
     "name": "stderr",
     "output_type": "stream",
     "text": [
      "\n"
     ]
    },
    {
     "name": "stdout",
     "output_type": "stream",
     "text": [
      "Plotting labels to C:\\Users\\Administrator\\sf_project_2\\part_damage_detection\\labels.jpg... \n",
      "\u001b[34m\u001b[1moptimizer:\u001b[0m 'optimizer=auto' found, ignoring 'lr0=0.01' and 'momentum=0.937' and determining best 'optimizer', 'lr0' and 'momentum' automatically... \n",
      "\u001b[34m\u001b[1moptimizer:\u001b[0m AdamW(lr=0.001111, momentum=0.9) with parameter groups 81 weight(decay=0.0), 88 weight(decay=0.0005), 87 bias(decay=0.0)\n",
      "Image sizes 640 train, 640 val\n",
      "Using 4 dataloader workers\n",
      "Logging results to \u001b[1mC:\\Users\\Administrator\\sf_project_2\\part_damage_detection\u001b[0m\n",
      "Starting training for 50 epochs...\n",
      "\n",
      "      Epoch    GPU_mem   box_loss   cls_loss   dfl_loss  Instances       Size\n"
     ]
    },
    {
     "name": "stderr",
     "output_type": "stream",
     "text": [
      "       1/50      2.44G       2.61      5.471      2.208         36        640: 100%|██████████| 57/57 [00:22<00:00,  2.56it/s]\n",
      "                 Class     Images  Instances      Box(P          R      mAP50  mAP50-95): 100%|██████████| 8/8 [00:02<00:00,  3.69it/s]"
     ]
    },
    {
     "name": "stdout",
     "output_type": "stream",
     "text": [
      "                   all        229        264    0.00145      0.235    0.00468    0.00135\n"
     ]
    },
    {
     "name": "stderr",
     "output_type": "stream",
     "text": [
      "\n"
     ]
    },
    {
     "name": "stdout",
     "output_type": "stream",
     "text": [
      "\n",
      "      Epoch    GPU_mem   box_loss   cls_loss   dfl_loss  Instances       Size\n"
     ]
    },
    {
     "name": "stderr",
     "output_type": "stream",
     "text": [
      "       2/50      2.48G      2.525      4.921      2.141         27        640: 100%|██████████| 57/57 [00:18<00:00,  3.08it/s]\n",
      "                 Class     Images  Instances      Box(P          R      mAP50  mAP50-95): 100%|██████████| 8/8 [00:02<00:00,  3.97it/s]"
     ]
    },
    {
     "name": "stdout",
     "output_type": "stream",
     "text": [
      "                   all        229        264       0.86     0.0241     0.0196    0.00651\n"
     ]
    },
    {
     "name": "stderr",
     "output_type": "stream",
     "text": [
      "\n"
     ]
    },
    {
     "name": "stdout",
     "output_type": "stream",
     "text": [
      "\n",
      "      Epoch    GPU_mem   box_loss   cls_loss   dfl_loss  Instances       Size\n"
     ]
    },
    {
     "name": "stderr",
     "output_type": "stream",
     "text": [
      "       3/50      2.48G      2.634      4.563      2.298         23        640: 100%|██████████| 57/57 [00:18<00:00,  3.15it/s]\n",
      "                 Class     Images  Instances      Box(P          R      mAP50  mAP50-95): 100%|██████████| 8/8 [00:02<00:00,  3.81it/s]"
     ]
    },
    {
     "name": "stdout",
     "output_type": "stream",
     "text": [
      "                   all        229        264      0.652     0.0648     0.0207    0.00632\n"
     ]
    },
    {
     "name": "stderr",
     "output_type": "stream",
     "text": [
      "\n"
     ]
    },
    {
     "name": "stdout",
     "output_type": "stream",
     "text": [
      "\n",
      "      Epoch    GPU_mem   box_loss   cls_loss   dfl_loss  Instances       Size\n"
     ]
    },
    {
     "name": "stderr",
     "output_type": "stream",
     "text": [
      "       4/50      2.48G      2.566      4.249      2.199         35        640: 100%|██████████| 57/57 [00:18<00:00,  3.11it/s]\n",
      "                 Class     Images  Instances      Box(P          R      mAP50  mAP50-95): 100%|██████████| 8/8 [00:02<00:00,  3.78it/s]"
     ]
    },
    {
     "name": "stdout",
     "output_type": "stream",
     "text": [
      "                   all        229        264      0.639     0.0655     0.0279     0.0085\n"
     ]
    },
    {
     "name": "stderr",
     "output_type": "stream",
     "text": [
      "\n"
     ]
    },
    {
     "name": "stdout",
     "output_type": "stream",
     "text": [
      "\n",
      "      Epoch    GPU_mem   box_loss   cls_loss   dfl_loss  Instances       Size\n"
     ]
    },
    {
     "name": "stderr",
     "output_type": "stream",
     "text": [
      "       5/50      2.48G      2.583      3.984       2.23         31        640: 100%|██████████| 57/57 [00:18<00:00,  3.15it/s]\n",
      "                 Class     Images  Instances      Box(P          R      mAP50  mAP50-95): 100%|██████████| 8/8 [00:02<00:00,  3.80it/s]\n"
     ]
    },
    {
     "name": "stdout",
     "output_type": "stream",
     "text": [
      "                   all        229        264      0.456     0.0621     0.0476     0.0141\n",
      "\n",
      "      Epoch    GPU_mem   box_loss   cls_loss   dfl_loss  Instances       Size\n"
     ]
    },
    {
     "name": "stderr",
     "output_type": "stream",
     "text": [
      "       6/50      2.48G      2.548      3.763      2.196         21        640: 100%|██████████| 57/57 [00:19<00:00,  2.92it/s]\n",
      "                 Class     Images  Instances      Box(P          R      mAP50  mAP50-95): 100%|██████████| 8/8 [00:01<00:00,  4.13it/s]\n"
     ]
    },
    {
     "name": "stdout",
     "output_type": "stream",
     "text": [
      "                   all        229        264      0.462     0.0726     0.0594      0.023\n",
      "\n",
      "      Epoch    GPU_mem   box_loss   cls_loss   dfl_loss  Instances       Size\n"
     ]
    },
    {
     "name": "stderr",
     "output_type": "stream",
     "text": [
      "       7/50      2.47G      2.486      3.561      2.179         20        640: 100%|██████████| 57/57 [00:18<00:00,  3.01it/s]\n",
      "                 Class     Images  Instances      Box(P          R      mAP50  mAP50-95): 100%|██████████| 8/8 [00:01<00:00,  4.20it/s]"
     ]
    },
    {
     "name": "stdout",
     "output_type": "stream",
     "text": [
      "                   all        229        264       0.64     0.0262     0.0193    0.00678\n"
     ]
    },
    {
     "name": "stderr",
     "output_type": "stream",
     "text": [
      "\n"
     ]
    },
    {
     "name": "stdout",
     "output_type": "stream",
     "text": [
      "\n",
      "      Epoch    GPU_mem   box_loss   cls_loss   dfl_loss  Instances       Size\n"
     ]
    },
    {
     "name": "stderr",
     "output_type": "stream",
     "text": [
      "       8/50      2.47G      2.515      3.502      2.214         25        640: 100%|██████████| 57/57 [00:18<00:00,  3.08it/s]\n",
      "                 Class     Images  Instances      Box(P          R      mAP50  mAP50-95): 100%|██████████| 8/8 [00:01<00:00,  4.33it/s]"
     ]
    },
    {
     "name": "stdout",
     "output_type": "stream",
     "text": [
      "                   all        229        264      0.689     0.0531     0.0686     0.0236\n"
     ]
    },
    {
     "name": "stderr",
     "output_type": "stream",
     "text": [
      "\n"
     ]
    },
    {
     "name": "stdout",
     "output_type": "stream",
     "text": [
      "\n",
      "      Epoch    GPU_mem   box_loss   cls_loss   dfl_loss  Instances       Size\n"
     ]
    },
    {
     "name": "stderr",
     "output_type": "stream",
     "text": [
      "       9/50      2.47G      2.438      3.347      2.187         26        640: 100%|██████████| 57/57 [00:18<00:00,  3.04it/s]\n",
      "                 Class     Images  Instances      Box(P          R      mAP50  mAP50-95): 100%|██████████| 8/8 [00:02<00:00,  3.93it/s]"
     ]
    },
    {
     "name": "stdout",
     "output_type": "stream",
     "text": [
      "                   all        229        264      0.285      0.122     0.0486     0.0168\n"
     ]
    },
    {
     "name": "stderr",
     "output_type": "stream",
     "text": [
      "\n"
     ]
    },
    {
     "name": "stdout",
     "output_type": "stream",
     "text": [
      "\n",
      "      Epoch    GPU_mem   box_loss   cls_loss   dfl_loss  Instances       Size\n"
     ]
    },
    {
     "name": "stderr",
     "output_type": "stream",
     "text": [
      "      10/50      2.47G      2.433      3.301       2.13         34        640: 100%|██████████| 57/57 [00:18<00:00,  3.07it/s]\n",
      "                 Class     Images  Instances      Box(P          R      mAP50  mAP50-95): 100%|██████████| 8/8 [00:02<00:00,  3.78it/s]"
     ]
    },
    {
     "name": "stdout",
     "output_type": "stream",
     "text": [
      "                   all        229        264      0.473     0.0733     0.0588     0.0231\n"
     ]
    },
    {
     "name": "stderr",
     "output_type": "stream",
     "text": [
      "\n"
     ]
    },
    {
     "name": "stdout",
     "output_type": "stream",
     "text": [
      "\n",
      "      Epoch    GPU_mem   box_loss   cls_loss   dfl_loss  Instances       Size\n"
     ]
    },
    {
     "name": "stderr",
     "output_type": "stream",
     "text": [
      "      11/50      2.47G      2.373      3.153      2.107         24        640: 100%|██████████| 57/57 [00:18<00:00,  3.15it/s]\n",
      "                 Class     Images  Instances      Box(P          R      mAP50  mAP50-95): 100%|██████████| 8/8 [00:01<00:00,  4.11it/s]"
     ]
    },
    {
     "name": "stdout",
     "output_type": "stream",
     "text": [
      "                   all        229        264      0.356     0.0984      0.065     0.0234\n"
     ]
    },
    {
     "name": "stderr",
     "output_type": "stream",
     "text": [
      "\n"
     ]
    },
    {
     "name": "stdout",
     "output_type": "stream",
     "text": [
      "\n",
      "      Epoch    GPU_mem   box_loss   cls_loss   dfl_loss  Instances       Size\n"
     ]
    },
    {
     "name": "stderr",
     "output_type": "stream",
     "text": [
      "      12/50      2.47G      2.307      3.063      2.059         34        640: 100%|██████████| 57/57 [00:18<00:00,  3.06it/s]\n",
      "                 Class     Images  Instances      Box(P          R      mAP50  mAP50-95): 100%|██████████| 8/8 [00:01<00:00,  4.20it/s]"
     ]
    },
    {
     "name": "stdout",
     "output_type": "stream",
     "text": [
      "                   all        229        264      0.718     0.0664     0.0687     0.0265\n"
     ]
    },
    {
     "name": "stderr",
     "output_type": "stream",
     "text": [
      "\n"
     ]
    },
    {
     "name": "stdout",
     "output_type": "stream",
     "text": [
      "\n",
      "      Epoch    GPU_mem   box_loss   cls_loss   dfl_loss  Instances       Size\n"
     ]
    },
    {
     "name": "stderr",
     "output_type": "stream",
     "text": [
      "      13/50      2.47G      2.285      2.988      2.064         30        640: 100%|██████████| 57/57 [00:18<00:00,  3.11it/s]\n",
      "                 Class     Images  Instances      Box(P          R      mAP50  mAP50-95): 100%|██████████| 8/8 [00:01<00:00,  4.07it/s]"
     ]
    },
    {
     "name": "stdout",
     "output_type": "stream",
     "text": [
      "                   all        229        264      0.705      0.126     0.0924     0.0304\n"
     ]
    },
    {
     "name": "stderr",
     "output_type": "stream",
     "text": [
      "\n"
     ]
    },
    {
     "name": "stdout",
     "output_type": "stream",
     "text": [
      "\n",
      "      Epoch    GPU_mem   box_loss   cls_loss   dfl_loss  Instances       Size\n"
     ]
    },
    {
     "name": "stderr",
     "output_type": "stream",
     "text": [
      "      14/50      2.47G      2.259       2.96      2.052         17        640: 100%|██████████| 57/57 [00:17<00:00,  3.22it/s]\n",
      "                 Class     Images  Instances      Box(P          R      mAP50  mAP50-95): 100%|██████████| 8/8 [00:02<00:00,  3.60it/s]"
     ]
    },
    {
     "name": "stdout",
     "output_type": "stream",
     "text": [
      "                   all        229        264      0.543      0.104      0.103     0.0432\n"
     ]
    },
    {
     "name": "stderr",
     "output_type": "stream",
     "text": [
      "\n"
     ]
    },
    {
     "name": "stdout",
     "output_type": "stream",
     "text": [
      "\n",
      "      Epoch    GPU_mem   box_loss   cls_loss   dfl_loss  Instances       Size\n"
     ]
    },
    {
     "name": "stderr",
     "output_type": "stream",
     "text": [
      "      15/50      2.47G       2.26      2.956      2.037         31        640: 100%|██████████| 57/57 [00:17<00:00,  3.17it/s]\n",
      "                 Class     Images  Instances      Box(P          R      mAP50  mAP50-95): 100%|██████████| 8/8 [00:02<00:00,  3.62it/s]"
     ]
    },
    {
     "name": "stdout",
     "output_type": "stream",
     "text": [
      "                   all        229        264      0.717     0.0906     0.0899     0.0329\n"
     ]
    },
    {
     "name": "stderr",
     "output_type": "stream",
     "text": [
      "\n"
     ]
    },
    {
     "name": "stdout",
     "output_type": "stream",
     "text": [
      "\n",
      "      Epoch    GPU_mem   box_loss   cls_loss   dfl_loss  Instances       Size\n"
     ]
    },
    {
     "name": "stderr",
     "output_type": "stream",
     "text": [
      "      16/50      2.47G      2.267      2.847      2.028         25        640: 100%|██████████| 57/57 [00:17<00:00,  3.20it/s]\n",
      "                 Class     Images  Instances      Box(P          R      mAP50  mAP50-95): 100%|██████████| 8/8 [00:02<00:00,  3.82it/s]"
     ]
    },
    {
     "name": "stdout",
     "output_type": "stream",
     "text": [
      "                   all        229        264       0.49       0.11      0.123     0.0437\n"
     ]
    },
    {
     "name": "stderr",
     "output_type": "stream",
     "text": [
      "\n"
     ]
    },
    {
     "name": "stdout",
     "output_type": "stream",
     "text": [
      "\n",
      "      Epoch    GPU_mem   box_loss   cls_loss   dfl_loss  Instances       Size\n"
     ]
    },
    {
     "name": "stderr",
     "output_type": "stream",
     "text": [
      "      17/50      2.47G      2.245      2.781      1.992         39        640: 100%|██████████| 57/57 [00:18<00:00,  3.14it/s]\n",
      "                 Class     Images  Instances      Box(P          R      mAP50  mAP50-95): 100%|██████████| 8/8 [00:02<00:00,  3.77it/s]\n"
     ]
    },
    {
     "name": "stdout",
     "output_type": "stream",
     "text": [
      "                   all        229        264      0.522      0.104      0.104     0.0475\n",
      "\n",
      "      Epoch    GPU_mem   box_loss   cls_loss   dfl_loss  Instances       Size\n"
     ]
    },
    {
     "name": "stderr",
     "output_type": "stream",
     "text": [
      "      18/50      2.48G      2.193      2.761      1.958         26        640: 100%|██████████| 57/57 [00:18<00:00,  3.06it/s]\n",
      "                 Class     Images  Instances      Box(P          R      mAP50  mAP50-95): 100%|██████████| 8/8 [00:01<00:00,  4.23it/s]"
     ]
    },
    {
     "name": "stdout",
     "output_type": "stream",
     "text": [
      "                   all        229        264      0.545       0.11      0.098     0.0405\n"
     ]
    },
    {
     "name": "stderr",
     "output_type": "stream",
     "text": [
      "\n"
     ]
    },
    {
     "name": "stdout",
     "output_type": "stream",
     "text": [
      "\n",
      "      Epoch    GPU_mem   box_loss   cls_loss   dfl_loss  Instances       Size\n"
     ]
    },
    {
     "name": "stderr",
     "output_type": "stream",
     "text": [
      "      19/50      2.47G      2.127      2.687      1.961         17        640: 100%|██████████| 57/57 [00:18<00:00,  3.07it/s]\n",
      "                 Class     Images  Instances      Box(P          R      mAP50  mAP50-95): 100%|██████████| 8/8 [00:01<00:00,  4.93it/s]"
     ]
    },
    {
     "name": "stdout",
     "output_type": "stream",
     "text": [
      "                   all        229        264      0.529     0.0915      0.113     0.0469\n"
     ]
    },
    {
     "name": "stderr",
     "output_type": "stream",
     "text": [
      "\n"
     ]
    },
    {
     "name": "stdout",
     "output_type": "stream",
     "text": [
      "\n",
      "      Epoch    GPU_mem   box_loss   cls_loss   dfl_loss  Instances       Size\n"
     ]
    },
    {
     "name": "stderr",
     "output_type": "stream",
     "text": [
      "      20/50      2.47G      2.167       2.68      1.946         28        640: 100%|██████████| 57/57 [00:17<00:00,  3.17it/s]\n",
      "                 Class     Images  Instances      Box(P          R      mAP50  mAP50-95): 100%|██████████| 8/8 [00:01<00:00,  4.10it/s]"
     ]
    },
    {
     "name": "stdout",
     "output_type": "stream",
     "text": [
      "                   all        229        264      0.346      0.137      0.114     0.0501\n"
     ]
    },
    {
     "name": "stderr",
     "output_type": "stream",
     "text": [
      "\n"
     ]
    },
    {
     "name": "stdout",
     "output_type": "stream",
     "text": [
      "\n",
      "      Epoch    GPU_mem   box_loss   cls_loss   dfl_loss  Instances       Size\n"
     ]
    },
    {
     "name": "stderr",
     "output_type": "stream",
     "text": [
      "      21/50      2.47G      2.122      2.651      1.904         26        640: 100%|██████████| 57/57 [00:19<00:00,  2.97it/s]\n",
      "                 Class     Images  Instances      Box(P          R      mAP50  mAP50-95): 100%|██████████| 8/8 [00:01<00:00,  4.69it/s]"
     ]
    },
    {
     "name": "stdout",
     "output_type": "stream",
     "text": [
      "                   all        229        264      0.341      0.125      0.124     0.0567\n"
     ]
    },
    {
     "name": "stderr",
     "output_type": "stream",
     "text": [
      "\n"
     ]
    },
    {
     "name": "stdout",
     "output_type": "stream",
     "text": [
      "\n",
      "      Epoch    GPU_mem   box_loss   cls_loss   dfl_loss  Instances       Size\n"
     ]
    },
    {
     "name": "stderr",
     "output_type": "stream",
     "text": [
      "      22/50      2.47G      2.125      2.635      1.919         38        640: 100%|██████████| 57/57 [00:17<00:00,  3.22it/s]\n",
      "                 Class     Images  Instances      Box(P          R      mAP50  mAP50-95): 100%|██████████| 8/8 [00:02<00:00,  3.88it/s]"
     ]
    },
    {
     "name": "stdout",
     "output_type": "stream",
     "text": [
      "                   all        229        264      0.759      0.109      0.143     0.0612\n"
     ]
    },
    {
     "name": "stderr",
     "output_type": "stream",
     "text": [
      "\n"
     ]
    },
    {
     "name": "stdout",
     "output_type": "stream",
     "text": [
      "\n",
      "      Epoch    GPU_mem   box_loss   cls_loss   dfl_loss  Instances       Size\n"
     ]
    },
    {
     "name": "stderr",
     "output_type": "stream",
     "text": [
      "      23/50      2.47G      2.084      2.545       1.87         26        640: 100%|██████████| 57/57 [00:18<00:00,  3.12it/s]\n",
      "                 Class     Images  Instances      Box(P          R      mAP50  mAP50-95): 100%|██████████| 8/8 [00:02<00:00,  3.77it/s]"
     ]
    },
    {
     "name": "stdout",
     "output_type": "stream",
     "text": [
      "                   all        229        264      0.131       0.21      0.137     0.0572\n"
     ]
    },
    {
     "name": "stderr",
     "output_type": "stream",
     "text": [
      "\n"
     ]
    },
    {
     "name": "stdout",
     "output_type": "stream",
     "text": [
      "\n",
      "      Epoch    GPU_mem   box_loss   cls_loss   dfl_loss  Instances       Size\n"
     ]
    },
    {
     "name": "stderr",
     "output_type": "stream",
     "text": [
      "      24/50      2.47G      2.045      2.505      1.865         21        640: 100%|██████████| 57/57 [00:17<00:00,  3.18it/s]\n",
      "                 Class     Images  Instances      Box(P          R      mAP50  mAP50-95): 100%|██████████| 8/8 [00:01<00:00,  4.16it/s]"
     ]
    },
    {
     "name": "stdout",
     "output_type": "stream",
     "text": [
      "                   all        229        264      0.173      0.194      0.159     0.0687\n"
     ]
    },
    {
     "name": "stderr",
     "output_type": "stream",
     "text": [
      "\n"
     ]
    },
    {
     "name": "stdout",
     "output_type": "stream",
     "text": [
      "\n",
      "      Epoch    GPU_mem   box_loss   cls_loss   dfl_loss  Instances       Size\n"
     ]
    },
    {
     "name": "stderr",
     "output_type": "stream",
     "text": [
      "      25/50      2.49G      2.019      2.458       1.85         32        640: 100%|██████████| 57/57 [00:18<00:00,  3.11it/s]\n",
      "                 Class     Images  Instances      Box(P          R      mAP50  mAP50-95): 100%|██████████| 8/8 [00:01<00:00,  4.57it/s]"
     ]
    },
    {
     "name": "stdout",
     "output_type": "stream",
     "text": [
      "                   all        229        264      0.476      0.133       0.13     0.0533\n"
     ]
    },
    {
     "name": "stderr",
     "output_type": "stream",
     "text": [
      "\n"
     ]
    },
    {
     "name": "stdout",
     "output_type": "stream",
     "text": [
      "\n",
      "      Epoch    GPU_mem   box_loss   cls_loss   dfl_loss  Instances       Size\n"
     ]
    },
    {
     "name": "stderr",
     "output_type": "stream",
     "text": [
      "      26/50      2.47G      2.022      2.412      1.862         24        640: 100%|██████████| 57/57 [00:18<00:00,  3.13it/s]\n",
      "                 Class     Images  Instances      Box(P          R      mAP50  mAP50-95): 100%|██████████| 8/8 [00:02<00:00,  3.85it/s]\n"
     ]
    },
    {
     "name": "stdout",
     "output_type": "stream",
     "text": [
      "                   all        229        264      0.153       0.17      0.131     0.0536\n",
      "\n",
      "      Epoch    GPU_mem   box_loss   cls_loss   dfl_loss  Instances       Size\n"
     ]
    },
    {
     "name": "stderr",
     "output_type": "stream",
     "text": [
      "      27/50      2.49G      1.956      2.339      1.778         32        640: 100%|██████████| 57/57 [00:19<00:00,  2.91it/s]\n",
      "                 Class     Images  Instances      Box(P          R      mAP50  mAP50-95): 100%|██████████| 8/8 [00:02<00:00,  3.87it/s]"
     ]
    },
    {
     "name": "stdout",
     "output_type": "stream",
     "text": [
      "                   all        229        264      0.146      0.216      0.151     0.0709\n"
     ]
    },
    {
     "name": "stderr",
     "output_type": "stream",
     "text": [
      "\n"
     ]
    },
    {
     "name": "stdout",
     "output_type": "stream",
     "text": [
      "\n",
      "      Epoch    GPU_mem   box_loss   cls_loss   dfl_loss  Instances       Size\n"
     ]
    },
    {
     "name": "stderr",
     "output_type": "stream",
     "text": [
      "      28/50      2.47G      1.935      2.287      1.806         28        640: 100%|██████████| 57/57 [00:18<00:00,  3.17it/s]\n",
      "                 Class     Images  Instances      Box(P          R      mAP50  mAP50-95): 100%|██████████| 8/8 [00:02<00:00,  3.74it/s]"
     ]
    },
    {
     "name": "stdout",
     "output_type": "stream",
     "text": [
      "                   all        229        264       0.17      0.182      0.141      0.061\n"
     ]
    },
    {
     "name": "stderr",
     "output_type": "stream",
     "text": [
      "\n"
     ]
    },
    {
     "name": "stdout",
     "output_type": "stream",
     "text": [
      "\n",
      "      Epoch    GPU_mem   box_loss   cls_loss   dfl_loss  Instances       Size\n"
     ]
    },
    {
     "name": "stderr",
     "output_type": "stream",
     "text": [
      "      29/50      2.47G      1.933      2.285      1.782         30        640: 100%|██████████| 57/57 [00:17<00:00,  3.17it/s]\n",
      "                 Class     Images  Instances      Box(P          R      mAP50  mAP50-95): 100%|██████████| 8/8 [00:02<00:00,  3.74it/s]\n"
     ]
    },
    {
     "name": "stdout",
     "output_type": "stream",
     "text": [
      "                   all        229        264      0.547      0.141      0.166     0.0719\n",
      "\n",
      "      Epoch    GPU_mem   box_loss   cls_loss   dfl_loss  Instances       Size\n"
     ]
    },
    {
     "name": "stderr",
     "output_type": "stream",
     "text": [
      "      30/50      2.47G      1.956      2.278      1.801         27        640: 100%|██████████| 57/57 [00:18<00:00,  3.11it/s]\n",
      "                 Class     Images  Instances      Box(P          R      mAP50  mAP50-95): 100%|██████████| 8/8 [00:01<00:00,  4.13it/s]"
     ]
    },
    {
     "name": "stdout",
     "output_type": "stream",
     "text": [
      "                   all        229        264      0.204      0.239      0.161      0.071\n"
     ]
    },
    {
     "name": "stderr",
     "output_type": "stream",
     "text": [
      "\n"
     ]
    },
    {
     "name": "stdout",
     "output_type": "stream",
     "text": [
      "\n",
      "      Epoch    GPU_mem   box_loss   cls_loss   dfl_loss  Instances       Size\n"
     ]
    },
    {
     "name": "stderr",
     "output_type": "stream",
     "text": [
      "      31/50      2.47G      1.936      2.252      1.794         35        640: 100%|██████████| 57/57 [00:18<00:00,  3.06it/s]\n",
      "                 Class     Images  Instances      Box(P          R      mAP50  mAP50-95): 100%|██████████| 8/8 [00:01<00:00,  4.38it/s]"
     ]
    },
    {
     "name": "stdout",
     "output_type": "stream",
     "text": [
      "                   all        229        264      0.206      0.225      0.164     0.0742\n"
     ]
    },
    {
     "name": "stderr",
     "output_type": "stream",
     "text": [
      "\n"
     ]
    },
    {
     "name": "stdout",
     "output_type": "stream",
     "text": [
      "\n",
      "      Epoch    GPU_mem   box_loss   cls_loss   dfl_loss  Instances       Size\n"
     ]
    },
    {
     "name": "stderr",
     "output_type": "stream",
     "text": [
      "      32/50      2.47G       1.92      2.241      1.781         30        640: 100%|██████████| 57/57 [00:18<00:00,  3.09it/s]\n",
      "                 Class     Images  Instances      Box(P          R      mAP50  mAP50-95): 100%|██████████| 8/8 [00:01<00:00,  4.24it/s]"
     ]
    },
    {
     "name": "stdout",
     "output_type": "stream",
     "text": [
      "                   all        229        264      0.137      0.199      0.149     0.0692\n"
     ]
    },
    {
     "name": "stderr",
     "output_type": "stream",
     "text": [
      "\n"
     ]
    },
    {
     "name": "stdout",
     "output_type": "stream",
     "text": [
      "\n",
      "      Epoch    GPU_mem   box_loss   cls_loss   dfl_loss  Instances       Size\n"
     ]
    },
    {
     "name": "stderr",
     "output_type": "stream",
     "text": [
      "      33/50      2.47G      1.896       2.14       1.75         21        640: 100%|██████████| 57/57 [00:18<00:00,  3.05it/s]\n",
      "                 Class     Images  Instances      Box(P          R      mAP50  mAP50-95): 100%|██████████| 8/8 [00:01<00:00,  4.36it/s]"
     ]
    },
    {
     "name": "stdout",
     "output_type": "stream",
     "text": [
      "                   all        229        264      0.164      0.215      0.175     0.0707\n"
     ]
    },
    {
     "name": "stderr",
     "output_type": "stream",
     "text": [
      "\n"
     ]
    },
    {
     "name": "stdout",
     "output_type": "stream",
     "text": [
      "\n",
      "      Epoch    GPU_mem   box_loss   cls_loss   dfl_loss  Instances       Size\n"
     ]
    },
    {
     "name": "stderr",
     "output_type": "stream",
     "text": [
      "      34/50      2.47G      1.901      2.145      1.764         24        640: 100%|██████████| 57/57 [00:17<00:00,  3.18it/s]\n",
      "                 Class     Images  Instances      Box(P          R      mAP50  mAP50-95): 100%|██████████| 8/8 [00:01<00:00,  4.19it/s]"
     ]
    },
    {
     "name": "stdout",
     "output_type": "stream",
     "text": [
      "                   all        229        264      0.175      0.201      0.144     0.0654\n"
     ]
    },
    {
     "name": "stderr",
     "output_type": "stream",
     "text": [
      "\n"
     ]
    },
    {
     "name": "stdout",
     "output_type": "stream",
     "text": [
      "\n",
      "      Epoch    GPU_mem   box_loss   cls_loss   dfl_loss  Instances       Size\n"
     ]
    },
    {
     "name": "stderr",
     "output_type": "stream",
     "text": [
      "      35/50      2.47G       1.89      2.146      1.745         18        640: 100%|██████████| 57/57 [00:18<00:00,  3.11it/s]\n",
      "                 Class     Images  Instances      Box(P          R      mAP50  mAP50-95): 100%|██████████| 8/8 [00:01<00:00,  4.22it/s]"
     ]
    },
    {
     "name": "stdout",
     "output_type": "stream",
     "text": [
      "                   all        229        264      0.394       0.18      0.175     0.0722\n"
     ]
    },
    {
     "name": "stderr",
     "output_type": "stream",
     "text": [
      "\n"
     ]
    },
    {
     "name": "stdout",
     "output_type": "stream",
     "text": [
      "\n",
      "      Epoch    GPU_mem   box_loss   cls_loss   dfl_loss  Instances       Size\n"
     ]
    },
    {
     "name": "stderr",
     "output_type": "stream",
     "text": [
      "      36/50      2.47G      1.832      2.069       1.74         35        640: 100%|██████████| 57/57 [00:17<00:00,  3.19it/s]\n",
      "                 Class     Images  Instances      Box(P          R      mAP50  mAP50-95): 100%|██████████| 8/8 [00:02<00:00,  3.92it/s]"
     ]
    },
    {
     "name": "stdout",
     "output_type": "stream",
     "text": [
      "                   all        229        264      0.181      0.265      0.161     0.0709\n"
     ]
    },
    {
     "name": "stderr",
     "output_type": "stream",
     "text": [
      "\n"
     ]
    },
    {
     "name": "stdout",
     "output_type": "stream",
     "text": [
      "\n",
      "      Epoch    GPU_mem   box_loss   cls_loss   dfl_loss  Instances       Size\n"
     ]
    },
    {
     "name": "stderr",
     "output_type": "stream",
     "text": [
      "      37/50      2.47G       1.77      1.995      1.682         24        640: 100%|██████████| 57/57 [00:18<00:00,  3.15it/s]\n",
      "                 Class     Images  Instances      Box(P          R      mAP50  mAP50-95): 100%|██████████| 8/8 [00:01<00:00,  4.29it/s]"
     ]
    },
    {
     "name": "stdout",
     "output_type": "stream",
     "text": [
      "                   all        229        264       0.24      0.229        0.2     0.0773\n"
     ]
    },
    {
     "name": "stderr",
     "output_type": "stream",
     "text": [
      "\n"
     ]
    },
    {
     "name": "stdout",
     "output_type": "stream",
     "text": [
      "\n",
      "      Epoch    GPU_mem   box_loss   cls_loss   dfl_loss  Instances       Size\n"
     ]
    },
    {
     "name": "stderr",
     "output_type": "stream",
     "text": [
      "      38/50      2.47G      1.806       2.01      1.706         18        640: 100%|██████████| 57/57 [00:18<00:00,  3.17it/s]\n",
      "                 Class     Images  Instances      Box(P          R      mAP50  mAP50-95): 100%|██████████| 8/8 [00:01<00:00,  4.28it/s]"
     ]
    },
    {
     "name": "stdout",
     "output_type": "stream",
     "text": [
      "                   all        229        264      0.409      0.169      0.174     0.0763\n"
     ]
    },
    {
     "name": "stderr",
     "output_type": "stream",
     "text": [
      "\n"
     ]
    },
    {
     "name": "stdout",
     "output_type": "stream",
     "text": [
      "\n",
      "      Epoch    GPU_mem   box_loss   cls_loss   dfl_loss  Instances       Size\n"
     ]
    },
    {
     "name": "stderr",
     "output_type": "stream",
     "text": [
      "      39/50      2.49G      1.766      1.992      1.659         16        640: 100%|██████████| 57/57 [00:18<00:00,  3.14it/s]\n",
      "                 Class     Images  Instances      Box(P          R      mAP50  mAP50-95): 100%|██████████| 8/8 [00:01<00:00,  4.24it/s]"
     ]
    },
    {
     "name": "stdout",
     "output_type": "stream",
     "text": [
      "                   all        229        264      0.194      0.229      0.181     0.0736\n"
     ]
    },
    {
     "name": "stderr",
     "output_type": "stream",
     "text": [
      "\n"
     ]
    },
    {
     "name": "stdout",
     "output_type": "stream",
     "text": [
      "\n",
      "      Epoch    GPU_mem   box_loss   cls_loss   dfl_loss  Instances       Size\n"
     ]
    },
    {
     "name": "stderr",
     "output_type": "stream",
     "text": [
      "      40/50      2.47G      1.772      1.952      1.681         35        640: 100%|██████████| 57/57 [00:18<00:00,  3.08it/s]\n",
      "                 Class     Images  Instances      Box(P          R      mAP50  mAP50-95): 100%|██████████| 8/8 [00:01<00:00,  4.09it/s]"
     ]
    },
    {
     "name": "stdout",
     "output_type": "stream",
     "text": [
      "                   all        229        264      0.187      0.259      0.185     0.0793\n"
     ]
    },
    {
     "name": "stderr",
     "output_type": "stream",
     "text": [
      "\n"
     ]
    },
    {
     "name": "stdout",
     "output_type": "stream",
     "text": [
      "Closing dataloader mosaic\n",
      "\n",
      "      Epoch    GPU_mem   box_loss   cls_loss   dfl_loss  Instances       Size\n"
     ]
    },
    {
     "name": "stderr",
     "output_type": "stream",
     "text": [
      "      41/50      2.47G      1.802      2.059      1.756         16        640: 100%|██████████| 57/57 [00:18<00:00,  3.01it/s]\n",
      "                 Class     Images  Instances      Box(P          R      mAP50  mAP50-95): 100%|██████████| 8/8 [00:01<00:00,  4.12it/s]"
     ]
    },
    {
     "name": "stdout",
     "output_type": "stream",
     "text": [
      "                   all        229        264      0.166      0.236      0.162     0.0685\n"
     ]
    },
    {
     "name": "stderr",
     "output_type": "stream",
     "text": [
      "\n"
     ]
    },
    {
     "name": "stdout",
     "output_type": "stream",
     "text": [
      "\n",
      "      Epoch    GPU_mem   box_loss   cls_loss   dfl_loss  Instances       Size\n"
     ]
    },
    {
     "name": "stderr",
     "output_type": "stream",
     "text": [
      "      42/50      2.47G      1.702      1.847      1.693         11        640: 100%|██████████| 57/57 [00:17<00:00,  3.17it/s]\n",
      "                 Class     Images  Instances      Box(P          R      mAP50  mAP50-95): 100%|██████████| 8/8 [00:01<00:00,  4.61it/s]"
     ]
    },
    {
     "name": "stdout",
     "output_type": "stream",
     "text": [
      "                   all        229        264      0.172      0.222      0.156     0.0686\n"
     ]
    },
    {
     "name": "stderr",
     "output_type": "stream",
     "text": [
      "\n"
     ]
    },
    {
     "name": "stdout",
     "output_type": "stream",
     "text": [
      "\n",
      "      Epoch    GPU_mem   box_loss   cls_loss   dfl_loss  Instances       Size\n"
     ]
    },
    {
     "name": "stderr",
     "output_type": "stream",
     "text": [
      "      43/50      2.47G      1.707      1.796      1.683         15        640: 100%|██████████| 57/57 [00:17<00:00,  3.29it/s]\n",
      "                 Class     Images  Instances      Box(P          R      mAP50  mAP50-95): 100%|██████████| 8/8 [00:01<00:00,  4.03it/s]"
     ]
    },
    {
     "name": "stdout",
     "output_type": "stream",
     "text": [
      "                   all        229        264       0.37      0.177        0.2     0.0794\n"
     ]
    },
    {
     "name": "stderr",
     "output_type": "stream",
     "text": [
      "\n"
     ]
    },
    {
     "name": "stdout",
     "output_type": "stream",
     "text": [
      "\n",
      "      Epoch    GPU_mem   box_loss   cls_loss   dfl_loss  Instances       Size\n"
     ]
    },
    {
     "name": "stderr",
     "output_type": "stream",
     "text": [
      "      44/50      2.47G      1.657      1.765      1.647         15        640: 100%|██████████| 57/57 [00:17<00:00,  3.17it/s]\n",
      "                 Class     Images  Instances      Box(P          R      mAP50  mAP50-95): 100%|██████████| 8/8 [00:01<00:00,  4.00it/s]"
     ]
    },
    {
     "name": "stdout",
     "output_type": "stream",
     "text": [
      "                   all        229        264       0.17      0.246      0.182     0.0753\n"
     ]
    },
    {
     "name": "stderr",
     "output_type": "stream",
     "text": [
      "\n"
     ]
    },
    {
     "name": "stdout",
     "output_type": "stream",
     "text": [
      "\n",
      "      Epoch    GPU_mem   box_loss   cls_loss   dfl_loss  Instances       Size\n"
     ]
    },
    {
     "name": "stderr",
     "output_type": "stream",
     "text": [
      "      45/50      2.47G      1.643      1.704      1.664         15        640: 100%|██████████| 57/57 [00:17<00:00,  3.23it/s]\n",
      "                 Class     Images  Instances      Box(P          R      mAP50  mAP50-95): 100%|██████████| 8/8 [00:01<00:00,  4.08it/s]"
     ]
    },
    {
     "name": "stdout",
     "output_type": "stream",
     "text": [
      "                   all        229        264       0.26      0.224      0.198     0.0822\n"
     ]
    },
    {
     "name": "stderr",
     "output_type": "stream",
     "text": [
      "\n"
     ]
    },
    {
     "name": "stdout",
     "output_type": "stream",
     "text": [
      "\n",
      "      Epoch    GPU_mem   box_loss   cls_loss   dfl_loss  Instances       Size\n"
     ]
    },
    {
     "name": "stderr",
     "output_type": "stream",
     "text": [
      "      46/50      2.47G       1.58      1.675      1.606         12        640: 100%|██████████| 57/57 [00:17<00:00,  3.20it/s]\n",
      "                 Class     Images  Instances      Box(P          R      mAP50  mAP50-95): 100%|██████████| 8/8 [00:01<00:00,  4.33it/s]"
     ]
    },
    {
     "name": "stdout",
     "output_type": "stream",
     "text": [
      "                   all        229        264      0.248      0.252      0.213     0.0875\n"
     ]
    },
    {
     "name": "stderr",
     "output_type": "stream",
     "text": [
      "\n"
     ]
    },
    {
     "name": "stdout",
     "output_type": "stream",
     "text": [
      "\n",
      "      Epoch    GPU_mem   box_loss   cls_loss   dfl_loss  Instances       Size\n"
     ]
    },
    {
     "name": "stderr",
     "output_type": "stream",
     "text": [
      "      47/50      2.47G      1.603      1.677      1.618         10        640: 100%|██████████| 57/57 [00:18<00:00,  3.15it/s]\n",
      "                 Class     Images  Instances      Box(P          R      mAP50  mAP50-95): 100%|██████████| 8/8 [00:01<00:00,  4.83it/s]"
     ]
    },
    {
     "name": "stdout",
     "output_type": "stream",
     "text": [
      "                   all        229        264      0.339       0.19      0.199     0.0803\n"
     ]
    },
    {
     "name": "stderr",
     "output_type": "stream",
     "text": [
      "\n"
     ]
    },
    {
     "name": "stdout",
     "output_type": "stream",
     "text": [
      "\n",
      "      Epoch    GPU_mem   box_loss   cls_loss   dfl_loss  Instances       Size\n"
     ]
    },
    {
     "name": "stderr",
     "output_type": "stream",
     "text": [
      "      48/50      2.47G      1.572      1.612      1.604         12        640: 100%|██████████| 57/57 [00:18<00:00,  3.09it/s]\n",
      "                 Class     Images  Instances      Box(P          R      mAP50  mAP50-95): 100%|██████████| 8/8 [00:01<00:00,  4.26it/s]"
     ]
    },
    {
     "name": "stdout",
     "output_type": "stream",
     "text": [
      "                   all        229        264      0.291       0.22      0.201     0.0792\n"
     ]
    },
    {
     "name": "stderr",
     "output_type": "stream",
     "text": [
      "\n"
     ]
    },
    {
     "name": "stdout",
     "output_type": "stream",
     "text": [
      "\n",
      "      Epoch    GPU_mem   box_loss   cls_loss   dfl_loss  Instances       Size\n"
     ]
    },
    {
     "name": "stderr",
     "output_type": "stream",
     "text": [
      "      49/50      2.47G      1.559      1.583      1.567         14        640: 100%|██████████| 57/57 [00:17<00:00,  3.22it/s]\n",
      "                 Class     Images  Instances      Box(P          R      mAP50  mAP50-95): 100%|██████████| 8/8 [00:02<00:00,  3.92it/s]"
     ]
    },
    {
     "name": "stdout",
     "output_type": "stream",
     "text": [
      "                   all        229        264      0.206      0.241       0.19      0.081\n"
     ]
    },
    {
     "name": "stderr",
     "output_type": "stream",
     "text": [
      "\n"
     ]
    },
    {
     "name": "stdout",
     "output_type": "stream",
     "text": [
      "\n",
      "      Epoch    GPU_mem   box_loss   cls_loss   dfl_loss  Instances       Size\n"
     ]
    },
    {
     "name": "stderr",
     "output_type": "stream",
     "text": [
      "      50/50      2.47G      1.527      1.607       1.58         12        640: 100%|██████████| 57/57 [00:18<00:00,  3.09it/s]\n",
      "                 Class     Images  Instances      Box(P          R      mAP50  mAP50-95): 100%|██████████| 8/8 [00:01<00:00,  4.48it/s]"
     ]
    },
    {
     "name": "stdout",
     "output_type": "stream",
     "text": [
      "                   all        229        264      0.213      0.248      0.192     0.0845\n"
     ]
    },
    {
     "name": "stderr",
     "output_type": "stream",
     "text": [
      "\n"
     ]
    },
    {
     "name": "stdout",
     "output_type": "stream",
     "text": [
      "\n",
      "50 epochs completed in 0.300 hours.\n",
      "Optimizer stripped from C:\\Users\\Administrator\\sf_project_2\\part_damage_detection\\weights\\last.pt, 5.4MB\n",
      "Optimizer stripped from C:\\Users\\Administrator\\sf_project_2\\part_damage_detection\\weights\\best.pt, 5.4MB\n",
      "\n",
      "Validating C:\\Users\\Administrator\\sf_project_2\\part_damage_detection\\weights\\best.pt...\n",
      "Ultralytics 8.3.64  Python-3.12.8 torch-2.5.1 CUDA:0 (NVIDIA GeForce RTX 4050 Laptop GPU, 6140MiB)\n",
      "YOLO11n summary (fused): 238 layers, 2,583,127 parameters, 0 gradients, 6.3 GFLOPs\n"
     ]
    },
    {
     "name": "stderr",
     "output_type": "stream",
     "text": [
      "                 Class     Images  Instances      Box(P          R      mAP50  mAP50-95): 100%|██████████| 8/8 [00:02<00:00,  3.45it/s]\n"
     ]
    },
    {
     "name": "stdout",
     "output_type": "stream",
     "text": [
      "                   all        229        264      0.249      0.254      0.213     0.0865\n",
      "                    ok         95         95      0.151     0.0211     0.0101    0.00468\n",
      "         bumper_faulty         31         46      0.109      0.147      0.055     0.0182\n",
      "           door_faulty         33         53      0.103     0.0943     0.0734     0.0209\n",
      "         fender_faulty         12         12      0.282       0.25      0.219     0.0405\n",
      "          frame_faulty         58         58      0.601      0.759      0.706      0.348\n",
      "Speed: 0.2ms preprocess, 2.0ms inference, 0.0ms loss, 2.0ms postprocess per image\n",
      "Results saved to \u001b[1mC:\\Users\\Administrator\\sf_project_2\\part_damage_detection\u001b[0m\n"
     ]
    }
   ],
   "source": [
    "import os\n",
    "from ultralytics import YOLO\n",
    "\n",
    "# 데이터 설정 파일 경로\n",
    "data_yaml = \"data.yaml\"\n",
    "\n",
    "# YOLO 모델 정의 (랜덤 초기화로 학습 시작)\n",
    "\n",
    "# n-s-m-l-x\n",
    "model = YOLO(\"yolo11n.pt\")  # 'yolov5n'은 작은 모델, 필요에 따라 yolov5s, yolov5m 선택 가능\n",
    "# model.model = model.model.reset_parameters()  # 가중치 초기화 (랜덤 가중치)\n",
    "\n",
    "# 학습 설정\n",
    "model.train(\n",
    "    data=data_yaml,           # 데이터 설정 파일 경로\n",
    "    epochs=50,               # 학습 에폭 수\n",
    "    batch=16,                 # 배치 크기\n",
    "    imgsz=640,                # 입력 이미지 크기\n",
    "    device=0,                 # GPU 사용\n",
    "    workers=4,                # 데이터 로드 병렬 처리 워커 수\n",
    "    project=\"C:/Users/Administrator/sf_project_2\",     # 결과 저장 디렉토리\n",
    "    name=\"part_damage_detection\"       # 실험 이름\n",
    ")\n",
    "\n",
    "model.save('model_11_n_50_16_944.pt')"
   ]
  },
  {
   "cell_type": "code",
   "execution_count": 14,
   "metadata": {},
   "outputs": [
    {
     "name": "stdout",
     "output_type": "stream",
     "text": [
      "\n",
      "image 1/295 C:\\Users\\Administrator\\sf_project_2\\test\\images\\204_101_10_0ef88ead-0d7d-4230-8bb1-7d49c063ae3f.jpg: 320x640 (no detections), 62.5ms\n",
      "image 2/295 C:\\Users\\Administrator\\sf_project_2\\test\\images\\204_101_10_1bddf87a-2fec-45ab-9021-c9c6051939e0.jpg: 320x640 (no detections), 15.6ms\n",
      "image 3/295 C:\\Users\\Administrator\\sf_project_2\\test\\images\\204_101_10_22030eca-f5f3-4fc4-9f57-3460d45273c6.jpg: 320x640 (no detections), 6.7ms\n",
      "image 4/295 C:\\Users\\Administrator\\sf_project_2\\test\\images\\204_101_10_63ee21f2-8e2f-436e-8065-1638d12bc38a.jpg: 320x640 (no detections), 12.5ms\n",
      "image 5/295 C:\\Users\\Administrator\\sf_project_2\\test\\images\\204_101_10_66e438da-99ad-4ce7-bc95-96033bc6d2db.jpg: 320x640 (no detections), 0.0ms\n",
      "image 6/295 C:\\Users\\Administrator\\sf_project_2\\test\\images\\204_101_10_74c86cc8-e672-4c38-bb9f-333ae1504582.jpg: 320x640 (no detections), 0.0ms\n",
      "image 7/295 C:\\Users\\Administrator\\sf_project_2\\test\\images\\204_101_10_921c47c8-9786-4838-97ca-74aad33584a7.jpg: 320x640 (no detections), 0.0ms\n",
      "image 8/295 C:\\Users\\Administrator\\sf_project_2\\test\\images\\204_101_10_afbcbdf5-8035-4a25-ab24-cbb6e3ea713d.jpg: 320x640 (no detections), 15.6ms\n",
      "image 9/295 C:\\Users\\Administrator\\sf_project_2\\test\\images\\204_101_10_b457a572-b6e0-4436-89cc-cc6f5ad30463.jpg: 320x640 (no detections), 0.0ms\n",
      "image 10/295 C:\\Users\\Administrator\\sf_project_2\\test\\images\\204_101_10_b7072728-42da-411c-85dd-4b2acd08f7ff.jpg: 320x640 (no detections), 10.3ms\n",
      "image 11/295 C:\\Users\\Administrator\\sf_project_2\\test\\images\\204_101_10_c9c8929a-2bfb-4745-bc0e-c0822e91781c.jpg: 320x640 (no detections), 15.6ms\n",
      "image 12/295 C:\\Users\\Administrator\\sf_project_2\\test\\images\\204_101_10_d78fadbf-4483-4d89-8e78-666da9edd2ca.jpg: 320x640 (no detections), 18.8ms\n",
      "image 13/295 C:\\Users\\Administrator\\sf_project_2\\test\\images\\204_101_10_d9a5d93e-d876-4f03-8e18-f39f5430c4c2.jpg: 320x640 (no detections), 7.8ms\n",
      "image 14/295 C:\\Users\\Administrator\\sf_project_2\\test\\images\\204_101_10_dc1c7975-3093-4a2e-ba2e-f6a39d46f78d.jpg: 320x640 (no detections), 0.0ms\n",
      "image 15/295 C:\\Users\\Administrator\\sf_project_2\\test\\images\\204_101_10_e98c4b9f-8b77-421b-854a-b2f79c833111.jpg: 320x640 (no detections), 17.6ms\n",
      "image 16/295 C:\\Users\\Administrator\\sf_project_2\\test\\images\\204_101_10_eda2478a-a8cf-4317-8731-25a8ffa0da01.jpg: 320x640 (no detections), 0.0ms\n",
      "image 17/295 C:\\Users\\Administrator\\sf_project_2\\test\\images\\204_101_10_fd75778f-5c95-4456-9d47-b07b7773718c.jpg: 320x640 (no detections), 15.6ms\n",
      "image 18/295 C:\\Users\\Administrator\\sf_project_2\\test\\images\\204_101_20_0f8ef468-cc8d-4330-a62a-03e1bd7659b2.jpg: 320x640 1 bumper_faulty, 0.0ms\n",
      "image 19/295 C:\\Users\\Administrator\\sf_project_2\\test\\images\\204_101_20_2da66264-692d-4453-9cdd-acd49f2106fd.jpg: 320x640 (no detections), 0.0ms\n",
      "image 20/295 C:\\Users\\Administrator\\sf_project_2\\test\\images\\204_101_20_3707bf39-72c4-418a-aa5b-61dba3f5f9b4.jpg: 320x640 1 door_faulty, 3.8ms\n",
      "image 21/295 C:\\Users\\Administrator\\sf_project_2\\test\\images\\204_101_20_49b31289-535a-422f-9fcc-7b7aafd3fa8f.jpg: 320x640 (no detections), 15.7ms\n",
      "image 22/295 C:\\Users\\Administrator\\sf_project_2\\test\\images\\204_101_20_7b5712cd-eccc-4904-8eb2-90a2d9512a67.jpg: 320x640 (no detections), 7.7ms\n",
      "image 23/295 C:\\Users\\Administrator\\sf_project_2\\test\\images\\204_101_20_80e8715f-069f-4ceb-974d-4b5102b089de.jpg: 320x640 (no detections), 10.4ms\n",
      "image 24/295 C:\\Users\\Administrator\\sf_project_2\\test\\images\\204_101_20_81366219-4159-440a-8767-2b3a544e6ead.jpg: 320x640 (no detections), 4.9ms\n",
      "image 25/295 C:\\Users\\Administrator\\sf_project_2\\test\\images\\204_101_20_8806a027-0f46-4e83-921f-529ba8263cf5.jpg: 320x640 (no detections), 0.0ms\n",
      "image 26/295 C:\\Users\\Administrator\\sf_project_2\\test\\images\\204_101_20_88dd7a9c-22c8-4d8e-bdb3-73428e866104.jpg: 320x640 (no detections), 0.0ms\n",
      "image 27/295 C:\\Users\\Administrator\\sf_project_2\\test\\images\\204_101_20_9afe9cb4-3937-4c36-b9aa-0aaa8895b6bc.JPG: 320x640 1 bumper_faulty, 0.0ms\n",
      "image 28/295 C:\\Users\\Administrator\\sf_project_2\\test\\images\\204_101_20_9c8fd099-46d8-4dd1-b4d7-04f8c7f6dfc3.jpg: 320x640 (no detections), 15.6ms\n",
      "image 29/295 C:\\Users\\Administrator\\sf_project_2\\test\\images\\204_101_20_a9b4d766-ebd6-48a4-82f8-88793ea3744c.jpg: 320x640 (no detections), 15.6ms\n",
      "image 30/295 C:\\Users\\Administrator\\sf_project_2\\test\\images\\204_101_20_b69778a1-6577-4057-a601-2293ce61d3ed.jpg: 320x640 (no detections), 15.6ms\n",
      "image 31/295 C:\\Users\\Administrator\\sf_project_2\\test\\images\\204_101_20_c017f392-bb07-4b5a-8f73-a6e612ac5158.jpg: 320x640 1 door_faulty, 0.0ms\n",
      "image 32/295 C:\\Users\\Administrator\\sf_project_2\\test\\images\\204_101_20_cca67659-093d-4a39-b395-0ad7539b5e20.jpg: 320x640 (no detections), 15.6ms\n",
      "image 33/295 C:\\Users\\Administrator\\sf_project_2\\test\\images\\204_101_20_d08d01a6-0967-4e0c-bf17-d1510ec07698.JPG: 320x640 1 door_faulty, 15.6ms\n",
      "image 34/295 C:\\Users\\Administrator\\sf_project_2\\test\\images\\204_101_20_d6874b6d-4fb5-4548-9cfa-4901e6a01292.jpg: 320x640 (no detections), 0.0ms\n",
      "image 35/295 C:\\Users\\Administrator\\sf_project_2\\test\\images\\204_101_20_e75a2b21-a3fa-4121-b573-424edefb427f.jpg: 320x640 (no detections), 15.6ms\n",
      "image 36/295 C:\\Users\\Administrator\\sf_project_2\\test\\images\\204_102_10_06d648cb-588c-4b27-b47e-1fe5b4a25c64.jpg: 320x640 (no detections), 15.6ms\n",
      "image 37/295 C:\\Users\\Administrator\\sf_project_2\\test\\images\\204_102_10_08ebedd5-5492-4b98-aab6-a7ace43a565a.jpg: 320x640 (no detections), 15.6ms\n",
      "image 38/295 C:\\Users\\Administrator\\sf_project_2\\test\\images\\204_102_10_23b81b27-5e3b-43f3-bc6f-d17361bdd544.jpg: 320x640 (no detections), 0.0ms\n",
      "image 39/295 C:\\Users\\Administrator\\sf_project_2\\test\\images\\204_102_10_3325761e-e65b-4481-9821-3d5b8f482cb6.jpg: 320x640 (no detections), 0.0ms\n",
      "image 40/295 C:\\Users\\Administrator\\sf_project_2\\test\\images\\204_102_10_392c33cb-ff84-4c14-8d56-ec2b3a88481a.jpg: 320x640 (no detections), 0.0ms\n",
      "image 41/295 C:\\Users\\Administrator\\sf_project_2\\test\\images\\204_102_10_591ce03f-6ad3-4918-a310-5982cba143ac.jpg: 320x640 (no detections), 15.6ms\n",
      "image 42/295 C:\\Users\\Administrator\\sf_project_2\\test\\images\\204_102_10_5f2d2e2c-8c60-408c-b023-1ef7aa04c948.jpg: 320x640 (no detections), 28.4ms\n",
      "image 43/295 C:\\Users\\Administrator\\sf_project_2\\test\\images\\204_102_10_630c3dd2-7b11-4317-934d-fec1efd391bc.jpg: 320x640 (no detections), 0.0ms\n",
      "image 44/295 C:\\Users\\Administrator\\sf_project_2\\test\\images\\204_102_10_6815fe5e-c42b-4ba5-9eb7-7576756ae4e7.jpg: 320x640 (no detections), 15.7ms\n",
      "image 45/295 C:\\Users\\Administrator\\sf_project_2\\test\\images\\204_102_10_82da6b80-517b-4c3c-b472-c3bf6a53a384.jpg: 320x640 (no detections), 6.8ms\n",
      "image 46/295 C:\\Users\\Administrator\\sf_project_2\\test\\images\\204_102_10_e7c41f4c-dd0e-4ac6-b147-c5edb8b65376.jpg: 320x640 (no detections), 6.9ms\n",
      "image 47/295 C:\\Users\\Administrator\\sf_project_2\\test\\images\\204_102_10_ea01d765-b4b4-4122-9718-0ad5d25a67f1.jpg: 320x640 (no detections), 9.5ms\n",
      "image 48/295 C:\\Users\\Administrator\\sf_project_2\\test\\images\\204_102_20_064aeb44-0493-4aef-8a9f-4499f3d1e753.jpg: 320x640 (no detections), 0.0ms\n",
      "image 49/295 C:\\Users\\Administrator\\sf_project_2\\test\\images\\204_102_20_360fcae5-5114-4ec3-aad2-31cf4bec4e74.jpg: 320x640 (no detections), 13.8ms\n",
      "image 50/295 C:\\Users\\Administrator\\sf_project_2\\test\\images\\204_102_20_3a4a14d3-e80c-45b4-9ee8-422f910e062c.jpg: 320x640 (no detections), 7.3ms\n",
      "image 51/295 C:\\Users\\Administrator\\sf_project_2\\test\\images\\204_102_20_4b7c7372-3890-47db-affb-865cb0035792.jpg: 320x640 (no detections), 0.0ms\n",
      "image 52/295 C:\\Users\\Administrator\\sf_project_2\\test\\images\\204_102_20_7970a7bd-5911-4a5f-9f04-afbcd3f62cf2.jpg: 320x640 (no detections), 15.6ms\n",
      "image 53/295 C:\\Users\\Administrator\\sf_project_2\\test\\images\\204_102_20_7c253775-9404-49a7-b073-fac272f9ba8a.jpg: 320x640 (no detections), 0.0ms\n",
      "image 54/295 C:\\Users\\Administrator\\sf_project_2\\test\\images\\204_102_20_7c3620dd-54f1-47cb-9fb8-e835e371c626.jpg: 320x640 (no detections), 0.0ms\n",
      "image 55/295 C:\\Users\\Administrator\\sf_project_2\\test\\images\\204_102_20_8451f331-886c-4152-885a-6571739270f7.jpg: 320x640 (no detections), 0.2ms\n",
      "image 56/295 C:\\Users\\Administrator\\sf_project_2\\test\\images\\204_102_20_8a70fb22-600d-4c6b-a481-0261270cffcc.jpg: 320x640 (no detections), 13.8ms\n",
      "image 57/295 C:\\Users\\Administrator\\sf_project_2\\test\\images\\204_102_20_a5d4931a-c3a3-4ffa-af59-e1042eddb826.jpg: 320x640 (no detections), 9.9ms\n",
      "image 58/295 C:\\Users\\Administrator\\sf_project_2\\test\\images\\204_102_20_babfbc65-029b-4f73-8945-f83d9caaa8bb.jpg: 320x640 (no detections), 4.0ms\n",
      "image 59/295 C:\\Users\\Administrator\\sf_project_2\\test\\images\\204_102_20_bc676000-d348-4991-b5ea-bb8f4338dee7.jpg: 320x640 (no detections), 0.0ms\n",
      "image 60/295 C:\\Users\\Administrator\\sf_project_2\\test\\images\\204_102_20_ddde5f8d-b8b1-4937-9475-aaf95bb8c229.jpg: 320x640 (no detections), 0.0ms\n",
      "image 61/295 C:\\Users\\Administrator\\sf_project_2\\test\\images\\204_102_20_e22e9a4b-a640-448d-844e-f17e5c7cf478.jpg: 320x640 (no detections), 0.0ms\n",
      "image 62/295 C:\\Users\\Administrator\\sf_project_2\\test\\images\\204_102_20_ecd1fb23-8f9e-4096-8ca3-825bc6fa089c.jpg: 320x640 (no detections), 11.1ms\n",
      "image 63/295 C:\\Users\\Administrator\\sf_project_2\\test\\images\\204_102_20_fa3ecf23-92a1-4b22-bc1a-0faabca1d078.jpg: 320x640 (no detections), 15.6ms\n",
      "image 64/295 C:\\Users\\Administrator\\sf_project_2\\test\\images\\205_101_10_0107f873-8e8a-43d6-94c5-703a77b87e08.jpg: 320x640 (no detections), 0.0ms\n",
      "image 65/295 C:\\Users\\Administrator\\sf_project_2\\test\\images\\205_101_10_01ba8ed7-8669-4af9-ad2f-7c73a124e769.jpg: 320x640 (no detections), 15.6ms\n",
      "image 66/295 C:\\Users\\Administrator\\sf_project_2\\test\\images\\205_101_10_028d795e-7d46-4494-8349-d075fff41180.jpg: 320x640 (no detections), 7.1ms\n",
      "image 67/295 C:\\Users\\Administrator\\sf_project_2\\test\\images\\205_101_10_095b39d0-c431-42bf-93ca-88d57c5cf6d6.jpg: 320x640 (no detections), 9.0ms\n",
      "image 68/295 C:\\Users\\Administrator\\sf_project_2\\test\\images\\205_101_10_12ee7973-7d73-4b7d-83b4-c83f67c15804.jpg: 320x640 (no detections), 17.8ms\n",
      "image 69/295 C:\\Users\\Administrator\\sf_project_2\\test\\images\\205_101_10_19221269-fd9c-437f-bbb3-06b9f7d38281.jpg: 320x640 (no detections), 15.6ms\n",
      "image 70/295 C:\\Users\\Administrator\\sf_project_2\\test\\images\\205_101_10_23664aee-48df-407c-a838-50690844f440.jpg: 320x640 (no detections), 7.3ms\n",
      "image 71/295 C:\\Users\\Administrator\\sf_project_2\\test\\images\\205_101_10_26291af5-21d5-4e8c-9b03-f5bb04e31da0.jpg: 320x640 (no detections), 11.3ms\n",
      "image 72/295 C:\\Users\\Administrator\\sf_project_2\\test\\images\\205_101_10_322aee69-fc0e-44f3-b6a5-ebbe577a86cc.jpg: 320x640 (no detections), 9.0ms\n",
      "image 73/295 C:\\Users\\Administrator\\sf_project_2\\test\\images\\205_101_10_4a4ecf3a-9af8-431b-be57-93477ce17ae5.jpg: 320x640 (no detections), 13.5ms\n",
      "image 74/295 C:\\Users\\Administrator\\sf_project_2\\test\\images\\205_101_10_57257c5b-ae2a-4bee-a71f-f6f16c7af2c3.jpg: 320x640 (no detections), 0.0ms\n",
      "image 75/295 C:\\Users\\Administrator\\sf_project_2\\test\\images\\205_101_10_5c92d368-3473-43aa-9848-181e4fa45b25.jpg: 320x640 (no detections), 0.0ms\n",
      "image 76/295 C:\\Users\\Administrator\\sf_project_2\\test\\images\\205_101_10_631f6d2e-e9e1-4f2f-a75d-984a92e3b9cd.jpg: 320x640 (no detections), 0.0ms\n",
      "image 77/295 C:\\Users\\Administrator\\sf_project_2\\test\\images\\205_101_10_77f81171-97b4-4726-8648-dcc2318fc269.jpg: 320x640 (no detections), 0.0ms\n",
      "image 78/295 C:\\Users\\Administrator\\sf_project_2\\test\\images\\205_101_10_88f9ad15-6a5f-4523-a98e-b5cc5080b070.jpg: 320x640 (no detections), 15.1ms\n",
      "image 79/295 C:\\Users\\Administrator\\sf_project_2\\test\\images\\205_101_10_8e6ab61f-8668-45e7-9612-958aea3c5820.jpg: 320x640 (no detections), 14.5ms\n",
      "image 80/295 C:\\Users\\Administrator\\sf_project_2\\test\\images\\205_101_10_90d48c3b-18d7-4b14-a852-050f53f4bb5c.jpg: 320x640 (no detections), 15.6ms\n",
      "image 81/295 C:\\Users\\Administrator\\sf_project_2\\test\\images\\205_101_10_97916077-47ed-444e-907e-c343638eab35.jpg: 320x640 (no detections), 13.8ms\n",
      "image 82/295 C:\\Users\\Administrator\\sf_project_2\\test\\images\\205_101_10_9f195ebf-47c7-4648-868a-9e6e77c9af57.jpeg: 320x640 (no detections), 15.6ms\n",
      "image 83/295 C:\\Users\\Administrator\\sf_project_2\\test\\images\\205_101_10_a4b71e7c-cd79-4232-bb2b-338a2e727ac7.jpg: 320x640 (no detections), 8.5ms\n",
      "image 84/295 C:\\Users\\Administrator\\sf_project_2\\test\\images\\205_101_10_ae769cb2-7ec9-4757-b2b3-5a5d1af2b41d.jpg: 320x640 (no detections), 0.0ms\n",
      "image 85/295 C:\\Users\\Administrator\\sf_project_2\\test\\images\\205_101_10_c5f51cb8-c49c-4a21-b02d-03f7a64b0bd2.jpg: 320x640 (no detections), 15.6ms\n",
      "image 86/295 C:\\Users\\Administrator\\sf_project_2\\test\\images\\205_101_10_ca1b7b98-a792-4592-a2e3-9082b5057ad7.jpg: 320x640 (no detections), 15.6ms\n",
      "image 87/295 C:\\Users\\Administrator\\sf_project_2\\test\\images\\205_101_10_cc664179-875c-44ba-9d81-17f257fb2d17.jpg: 320x640 (no detections), 0.0ms\n",
      "image 88/295 C:\\Users\\Administrator\\sf_project_2\\test\\images\\205_101_10_dda1fc98-3824-4f33-b0f4-8b0ccb295d46.jpg: 320x640 (no detections), 15.6ms\n",
      "image 89/295 C:\\Users\\Administrator\\sf_project_2\\test\\images\\205_101_10_de3f9826-796c-4bce-a99e-006fd851d2bb.jpg: 320x640 (no detections), 0.0ms\n",
      "image 90/295 C:\\Users\\Administrator\\sf_project_2\\test\\images\\205_101_10_e0926795-f78f-416d-bb1b-6bc0c9107c81.jpg: 320x640 (no detections), 15.6ms\n",
      "image 91/295 C:\\Users\\Administrator\\sf_project_2\\test\\images\\205_101_10_e267e2b4-71f3-41d8-8b98-0455a4f1512a.jpg: 320x640 (no detections), 0.0ms\n",
      "image 92/295 C:\\Users\\Administrator\\sf_project_2\\test\\images\\205_101_10_e87fbc1c-f87f-4c02-94d2-cdf5f044d510.jpg: 320x640 (no detections), 0.0ms\n",
      "image 93/295 C:\\Users\\Administrator\\sf_project_2\\test\\images\\205_101_20_00474950-ce70-4fc8-98a0-bb29012a8fc6.jpg: 320x640 (no detections), 0.0ms\n",
      "image 94/295 C:\\Users\\Administrator\\sf_project_2\\test\\images\\205_101_20_0deff392-b79e-485e-92a5-2b7163d54794.JPG: 320x640 (no detections), 0.0ms\n",
      "image 95/295 C:\\Users\\Administrator\\sf_project_2\\test\\images\\205_101_20_100aa52b-a6f4-4760-9bf9-c2a9fdfea3b9.jpg: 320x640 2 bumper_faultys, 0.0ms\n",
      "image 96/295 C:\\Users\\Administrator\\sf_project_2\\test\\images\\205_101_20_1046bf68-7bf0-4598-a86b-300993dd5610.jpg: 320x640 1 bumper_faulty, 8.2ms\n",
      "image 97/295 C:\\Users\\Administrator\\sf_project_2\\test\\images\\205_101_20_12260922-4451-4c59-af7a-72475ac18d49.jpg: 320x640 2 bumper_faultys, 0.0ms\n",
      "image 98/295 C:\\Users\\Administrator\\sf_project_2\\test\\images\\205_101_20_1316ef6d-d8d9-4cd7-93ed-7f72733815a4.jpg: 320x640 1 bumper_faulty, 0.0ms\n",
      "image 99/295 C:\\Users\\Administrator\\sf_project_2\\test\\images\\205_101_20_137ec740-8674-498e-91c3-d94af3240d33.jpg: 320x640 (no detections), 0.0ms\n",
      "image 100/295 C:\\Users\\Administrator\\sf_project_2\\test\\images\\205_101_20_14de7192-2cf4-4806-9338-7e651862b528.JPG: 320x640 1 bumper_faulty, 15.6ms\n",
      "image 101/295 C:\\Users\\Administrator\\sf_project_2\\test\\images\\205_101_20_154be667-19b3-4edf-943e-5ee414663142.jpg: 320x640 (no detections), 15.5ms\n",
      "image 102/295 C:\\Users\\Administrator\\sf_project_2\\test\\images\\205_101_20_17db6d15-1b86-4bfe-84b3-9249c8fa7f26.jpg: 320x640 (no detections), 15.7ms\n",
      "image 103/295 C:\\Users\\Administrator\\sf_project_2\\test\\images\\205_101_20_195c0c6c-69fb-4acc-ae8d-27227b6ea1a1.jpg: 320x640 (no detections), 2.1ms\n",
      "image 104/295 C:\\Users\\Administrator\\sf_project_2\\test\\images\\205_101_20_1a306481-8012-4893-8cd1-c2523231b8ad.jpg: 320x640 1 bumper_faulty, 6.6ms\n",
      "image 105/295 C:\\Users\\Administrator\\sf_project_2\\test\\images\\205_101_20_212aec81-b7d1-4400-a563-1a7e5355d75e.jpg: 320x640 (no detections), 15.6ms\n",
      "image 106/295 C:\\Users\\Administrator\\sf_project_2\\test\\images\\205_101_20_237d38a5-589a-409d-82e3-495705c61988.jpg: 320x640 1 bumper_faulty, 0.0ms\n",
      "image 107/295 C:\\Users\\Administrator\\sf_project_2\\test\\images\\205_101_20_2681b978-6752-430e-9a6e-9328126a38d7.jpg: 320x640 1 bumper_faulty, 0.0ms\n",
      "image 108/295 C:\\Users\\Administrator\\sf_project_2\\test\\images\\205_101_20_27c9d89f-9093-4fa5-8602-be1f9f6de1b1.jpg: 320x640 2 bumper_faultys, 18.3ms\n",
      "image 109/295 C:\\Users\\Administrator\\sf_project_2\\test\\images\\205_101_20_332b21dd-fa08-4d93-9f75-2bfd90949744.jpg: 320x640 (no detections), 15.6ms\n",
      "image 110/295 C:\\Users\\Administrator\\sf_project_2\\test\\images\\205_101_20_356c36cb-aafb-4bb8-bdcc-31134ec9ce34.jpg: 320x640 1 bumper_faulty, 15.6ms\n",
      "image 111/295 C:\\Users\\Administrator\\sf_project_2\\test\\images\\205_101_20_358a2d1c-a422-4ee7-b455-a4b3bfc37616.jpg: 320x640 (no detections), 7.6ms\n",
      "image 112/295 C:\\Users\\Administrator\\sf_project_2\\test\\images\\205_101_20_4c4d56fc-e2d3-460f-a1b0-c116e7096c7c.jpg: 320x640 (no detections), 10.2ms\n",
      "image 113/295 C:\\Users\\Administrator\\sf_project_2\\test\\images\\205_101_20_519b586e-85af-4d6a-8e9e-0619cf55c514.jpg: 320x640 1 bumper_faulty, 8.7ms\n",
      "image 114/295 C:\\Users\\Administrator\\sf_project_2\\test\\images\\205_101_20_5c5784cc-0579-477b-9bda-44bde1468903.jpg: 320x640 (no detections), 8.5ms\n",
      "image 115/295 C:\\Users\\Administrator\\sf_project_2\\test\\images\\205_101_20_5c8da6da-85b9-4852-95c9-b0f685a25927.jpg: 320x640 1 bumper_faulty, 0.0ms\n",
      "image 116/295 C:\\Users\\Administrator\\sf_project_2\\test\\images\\205_101_20_5d04bc9a-9b6b-4fa0-a155-540c46e5c9a4.jpg: 320x640 3 bumper_faultys, 4.9ms\n",
      "image 117/295 C:\\Users\\Administrator\\sf_project_2\\test\\images\\205_101_20_6054a8d2-0403-49e2-9cfc-c26b50820e26.jpg: 320x640 (no detections), 9.4ms\n",
      "image 118/295 C:\\Users\\Administrator\\sf_project_2\\test\\images\\205_101_20_6abfe7ac-5c99-439f-9e9a-5dd28657c1c0.jpg: 320x640 1 bumper_faulty, 6.1ms\n",
      "image 119/295 C:\\Users\\Administrator\\sf_project_2\\test\\images\\205_101_20_6c5624d3-568b-410a-b776-b7ea6974eb73.jpg: 320x640 1 frame_faulty, 8.4ms\n",
      "image 120/295 C:\\Users\\Administrator\\sf_project_2\\test\\images\\205_101_20_6d878dc5-7ac4-456c-8b7b-f22e7cabe3a5.jpg: 320x640 (no detections), 15.7ms\n",
      "image 121/295 C:\\Users\\Administrator\\sf_project_2\\test\\images\\205_101_20_8c7e2b42-350d-49eb-8be9-d91a76ad2688.JPEG: 320x640 1 bumper_faulty, 14.0ms\n",
      "image 122/295 C:\\Users\\Administrator\\sf_project_2\\test\\images\\205_101_20_957e1337-3b43-4b5d-8ecb-205292eadd41.jpg: 320x640 2 bumper_faultys, 8.8ms\n",
      "image 123/295 C:\\Users\\Administrator\\sf_project_2\\test\\images\\205_101_20_95f113ab-9a98-4bf5-bb6c-1b253f2b485f.jpg: 320x640 1 bumper_faulty, 6.1ms\n",
      "image 124/295 C:\\Users\\Administrator\\sf_project_2\\test\\images\\205_101_20_9e6cd4da-f7e9-4c88-890d-5e9fc8ad13d8.jpg: 320x640 (no detections), 6.2ms\n",
      "image 125/295 C:\\Users\\Administrator\\sf_project_2\\test\\images\\205_101_20_a71e59f4-3e3d-4e22-a31f-c140e936f4d2.jpg: 320x640 (no detections), 10.4ms\n",
      "image 126/295 C:\\Users\\Administrator\\sf_project_2\\test\\images\\205_101_20_a7bbb641-49f9-49d3-a80d-62b73ca4b2a8.jpg: 320x640 (no detections), 11.4ms\n",
      "image 127/295 C:\\Users\\Administrator\\sf_project_2\\test\\images\\205_101_20_bb380f04-a5d3-4c5c-bd18-49930a22c2cd.jpg: 320x640 (no detections), 10.8ms\n",
      "image 128/295 C:\\Users\\Administrator\\sf_project_2\\test\\images\\205_101_20_bcb97be9-2936-4259-a7b3-fa4443fb648a.jpg: 320x640 (no detections), 11.6ms\n",
      "image 129/295 C:\\Users\\Administrator\\sf_project_2\\test\\images\\205_101_20_bec616dc-86fd-4494-9537-8e02a4622fb8.JPG: 320x640 (no detections), 12.0ms\n",
      "image 130/295 C:\\Users\\Administrator\\sf_project_2\\test\\images\\205_101_20_c7e08cf6-a6cc-4217-a21f-1653a44d8e5b.jpg: 320x640 1 bumper_faulty, 8.0ms\n",
      "image 131/295 C:\\Users\\Administrator\\sf_project_2\\test\\images\\205_101_20_ce71fd66-691f-4b1e-9839-ffd5e10ec19a.jpg: 320x640 (no detections), 4.8ms\n",
      "image 132/295 C:\\Users\\Administrator\\sf_project_2\\test\\images\\205_101_20_d00503d4-16fd-4f99-a844-eec297b4aafa.jpg: 320x640 1 bumper_faulty, 7.4ms\n",
      "image 133/295 C:\\Users\\Administrator\\sf_project_2\\test\\images\\205_101_20_d6931a13-6c1b-4af0-8f70-041f17c5ba7f.jpg: 320x640 (no detections), 6.3ms\n",
      "image 134/295 C:\\Users\\Administrator\\sf_project_2\\test\\images\\205_101_20_e6502f9d-55fd-47a3-8631-786aa87d8dc9.JPG: 320x640 1 bumper_faulty, 7.3ms\n",
      "image 135/295 C:\\Users\\Administrator\\sf_project_2\\test\\images\\205_101_20_e6a5f318-d9d0-4967-b68c-72fe63cd336b.jpg: 320x640 (no detections), 6.6ms\n",
      "image 136/295 C:\\Users\\Administrator\\sf_project_2\\test\\images\\205_101_20_efc8496c-4d22-46f0-ab58-417ae44a2a41.jpg: 320x640 (no detections), 6.7ms\n",
      "image 137/295 C:\\Users\\Administrator\\sf_project_2\\test\\images\\205_101_20_efe6f8fb-83c3-43e2-8cf1-95d1487a683c.jpg: 320x640 1 bumper_faulty, 7.8ms\n",
      "image 138/295 C:\\Users\\Administrator\\sf_project_2\\test\\images\\205_101_20_f085171b-ed13-45ea-bed8-bc7a6c3a96bb.jpg: 320x640 (no detections), 12.6ms\n",
      "image 139/295 C:\\Users\\Administrator\\sf_project_2\\test\\images\\205_101_20_f307996f-6a31-4fe9-8b3a-0a68d848e750.JPG: 320x640 1 bumper_faulty, 0.0ms\n",
      "image 140/295 C:\\Users\\Administrator\\sf_project_2\\test\\images\\205_101_20_f754cc19-dc93-45ec-8119-e4b14f3bb287.jpg: 320x640 1 bumper_faulty, 0.0ms\n",
      "image 141/295 C:\\Users\\Administrator\\sf_project_2\\test\\images\\207_102_10_08f4cefb-57fb-4dce-9e74-f2cb76a9dacc.jpg: 320x640 (no detections), 6.7ms\n",
      "image 142/295 C:\\Users\\Administrator\\sf_project_2\\test\\images\\207_102_10_0f119355-22ef-4d1d-9f1b-0179546f9e66.jpg: 320x640 1 ok, 1 frame_faulty, 7.2ms\n",
      "image 143/295 C:\\Users\\Administrator\\sf_project_2\\test\\images\\207_102_10_223712df-018e-4ceb-a2cc-788590216f8c.jpg: 320x640 (no detections), 0.0ms\n",
      "image 144/295 C:\\Users\\Administrator\\sf_project_2\\test\\images\\207_102_10_2bc3969e-62e0-4618-b9ae-90c9ae3862d8.jpg: 320x640 (no detections), 0.0ms\n",
      "image 145/295 C:\\Users\\Administrator\\sf_project_2\\test\\images\\207_102_10_340669a5-cb89-4a00-9c1b-f9afd48a0b42.jpg: 320x640 (no detections), 0.0ms\n",
      "image 146/295 C:\\Users\\Administrator\\sf_project_2\\test\\images\\207_102_10_37822852-a682-47e7-af7e-27fbe5f0f95d.jpg: 320x640 (no detections), 0.0ms\n",
      "image 147/295 C:\\Users\\Administrator\\sf_project_2\\test\\images\\207_102_10_495c06b1-b46a-48f0-8e4c-a3888ad56cfd.jpg: 320x640 (no detections), 7.3ms\n",
      "image 148/295 C:\\Users\\Administrator\\sf_project_2\\test\\images\\207_102_10_766e6cd5-33cf-42ee-9f8f-89a900caaa7d.jpg: 320x640 (no detections), 7.0ms\n",
      "image 149/295 C:\\Users\\Administrator\\sf_project_2\\test\\images\\207_102_10_76b7fc2e-a7ed-4d2e-a6d3-d2d5725707a6.jpg: 320x640 (no detections), 5.3ms\n",
      "image 150/295 C:\\Users\\Administrator\\sf_project_2\\test\\images\\207_102_10_7c8fe640-0070-43eb-9d9a-46f66786d746.jpg: 320x640 1 ok, 1 frame_faulty, 10.9ms\n",
      "image 151/295 C:\\Users\\Administrator\\sf_project_2\\test\\images\\207_102_10_837d9018-976f-443e-99b9-80978d32af9d.jpg: 320x640 (no detections), 0.0ms\n",
      "image 152/295 C:\\Users\\Administrator\\sf_project_2\\test\\images\\207_102_10_98b4982e-8713-4666-992b-27652aea77db.jpg: 320x640 2 frame_faultys, 0.0ms\n",
      "image 153/295 C:\\Users\\Administrator\\sf_project_2\\test\\images\\207_102_10_d7f9e585-6467-4bba-8d31-2e337d9151a3.jpg: 320x640 (no detections), 13.7ms\n",
      "image 154/295 C:\\Users\\Administrator\\sf_project_2\\test\\images\\207_102_20_0eff424c-9682-49b6-9a3d-9539f5be372a.jpg: 320x640 1 ok, 1 frame_faulty, 15.6ms\n",
      "image 155/295 C:\\Users\\Administrator\\sf_project_2\\test\\images\\207_102_20_3102b890-f7ee-43c1-a73c-67dc239bd0be.jpg: 320x640 1 frame_faulty, 12.8ms\n",
      "image 156/295 C:\\Users\\Administrator\\sf_project_2\\test\\images\\207_102_20_36a1e07b-38a1-428c-a15e-1540abafcfb0.jpg: 320x640 1 frame_faulty, 15.7ms\n",
      "image 157/295 C:\\Users\\Administrator\\sf_project_2\\test\\images\\207_102_20_42650a26-739e-42ee-bee4-613a0df13671.jpg: 320x640 1 frame_faulty, 0.0ms\n",
      "image 158/295 C:\\Users\\Administrator\\sf_project_2\\test\\images\\207_102_20_4978eb05-3c01-44de-8668-5ef151fdd487.jpg: 320x640 (no detections), 13.8ms\n",
      "image 159/295 C:\\Users\\Administrator\\sf_project_2\\test\\images\\207_102_20_5f553635-6aa8-4c0c-af51-eaa34e735d95.jpg: 320x640 2 frame_faultys, 0.0ms\n",
      "image 160/295 C:\\Users\\Administrator\\sf_project_2\\test\\images\\207_102_20_68aa5d3f-21f6-4c35-a597-45c5a5c721d5.jpg: 320x640 2 frame_faultys, 7.2ms\n",
      "image 161/295 C:\\Users\\Administrator\\sf_project_2\\test\\images\\207_102_20_7241770c-ea62-49f0-80ec-9edcc5d73f36.jpg: 320x640 3 frame_faultys, 15.6ms\n",
      "image 162/295 C:\\Users\\Administrator\\sf_project_2\\test\\images\\207_102_20_739cb4ae-c563-473a-ab8f-acf4c2908e2b.jpg: 320x640 (no detections), 14.1ms\n",
      "image 163/295 C:\\Users\\Administrator\\sf_project_2\\test\\images\\207_102_20_965b689a-af81-42b3-b715-64e76e36d0bd.jpg: 320x640 (no detections), 0.0ms\n",
      "image 164/295 C:\\Users\\Administrator\\sf_project_2\\test\\images\\207_102_20_a4465daf-461f-4f6a-ad66-87b304fac0b9.jpg: 320x640 1 frame_faulty, 15.0ms\n",
      "image 165/295 C:\\Users\\Administrator\\sf_project_2\\test\\images\\207_102_20_b755cbfa-224c-41d1-b2f3-f6180ffa0364.jpg: 320x640 1 frame_faulty, 15.6ms\n",
      "image 166/295 C:\\Users\\Administrator\\sf_project_2\\test\\images\\207_102_20_eaf9cafe-7036-495e-b16c-3f0da5ce1a63.jpg: 320x640 1 frame_faulty, 6.9ms\n",
      "image 167/295 C:\\Users\\Administrator\\sf_project_2\\test\\images\\207_204_10_0be32ef8-e14f-4bbb-b4bd-485645bbb09c.jpg: 320x640 2 frame_faultys, 16.3ms\n",
      "image 168/295 C:\\Users\\Administrator\\sf_project_2\\test\\images\\207_204_10_45fbfc4c-a597-4576-a324-2795d331bc79.jpg: 320x640 1 frame_faulty, 6.9ms\n",
      "image 169/295 C:\\Users\\Administrator\\sf_project_2\\test\\images\\207_204_10_4c1628c8-2cb4-4b2c-8d72-1a6c3713aaaf.jpg: 320x640 (no detections), 15.6ms\n",
      "image 170/295 C:\\Users\\Administrator\\sf_project_2\\test\\images\\207_204_10_72d7cbe0-ece7-4e8f-8b29-304c7c766d06.jpg: 320x640 (no detections), 15.7ms\n",
      "image 171/295 C:\\Users\\Administrator\\sf_project_2\\test\\images\\207_204_20_1385214e-e759-487d-b65c-2ed29dbf3127.jpg: 320x640 (no detections), 13.7ms\n",
      "image 172/295 C:\\Users\\Administrator\\sf_project_2\\test\\images\\207_204_20_23ae3556-8021-44f7-9872-87eb06609e13.jpg: 320x640 1 frame_faulty, 5.7ms\n",
      "image 173/295 C:\\Users\\Administrator\\sf_project_2\\test\\images\\207_204_20_34ae3ace-cfc0-43a2-880f-3e7dc745e5ac.jpg: 320x640 1 frame_faulty, 15.6ms\n",
      "image 174/295 C:\\Users\\Administrator\\sf_project_2\\test\\images\\207_204_20_4dcccfc2-6696-4a3a-af6e-d4fd3b064c5c.jpg: 320x640 1 frame_faulty, 0.0ms\n",
      "image 175/295 C:\\Users\\Administrator\\sf_project_2\\test\\images\\207_204_20_569d5838-cf61-4fef-8da3-22adea8ea5be.jpg: 320x640 1 frame_faulty, 15.7ms\n",
      "image 176/295 C:\\Users\\Administrator\\sf_project_2\\test\\images\\207_204_20_59bcac13-993e-4655-ae8a-4113b251e897.jpg: 320x640 1 frame_faulty, 18.9ms\n",
      "image 177/295 C:\\Users\\Administrator\\sf_project_2\\test\\images\\207_204_20_64538083-f586-4aae-b136-737fcc486b50.jpg: 320x640 3 frame_faultys, 0.0ms\n",
      "image 178/295 C:\\Users\\Administrator\\sf_project_2\\test\\images\\207_204_20_67d4465d-9c8b-418e-86ef-7f723b6f7f56.jpg: 320x640 1 ok, 2 frame_faultys, 15.6ms\n",
      "image 179/295 C:\\Users\\Administrator\\sf_project_2\\test\\images\\207_204_20_6e120258-49b8-4870-8def-c5aa7651af46.jpg: 320x640 2 frame_faultys, 0.0ms\n",
      "image 180/295 C:\\Users\\Administrator\\sf_project_2\\test\\images\\207_204_20_b60c31f9-ba7e-4cf5-9d5f-16def72e02cd.jpg: 320x640 1 frame_faulty, 0.0ms\n",
      "image 181/295 C:\\Users\\Administrator\\sf_project_2\\test\\images\\207_204_20_c1bb0e9a-e90e-467c-ade8-416e45537b38.jpg: 320x640 1 frame_faulty, 13.9ms\n",
      "image 182/295 C:\\Users\\Administrator\\sf_project_2\\test\\images\\207_204_20_d7232d85-f29d-4ee0-aca8-d6011637abfb.jpg: 320x640 (no detections), 12.3ms\n",
      "image 183/295 C:\\Users\\Administrator\\sf_project_2\\test\\images\\207_204_20_f1fa1cba-9cbf-44c0-9eb7-bf44f596c49a.jpg: 320x640 1 frame_faulty, 0.0ms\n",
      "image 184/295 C:\\Users\\Administrator\\sf_project_2\\test\\images\\207_212_10_1aa242fd-1945-4ae9-990a-fee94ed6e53a.png: 320x640 (no detections), 4.1ms\n",
      "image 185/295 C:\\Users\\Administrator\\sf_project_2\\test\\images\\207_212_10_1b7857e5-c25c-4536-91fc-e0bab64cb75c.png: 320x640 (no detections), 0.0ms\n",
      "image 186/295 C:\\Users\\Administrator\\sf_project_2\\test\\images\\207_212_10_2a10ec2c-db2f-4da0-bc67-821c955c9f5f.jpg: 320x640 (no detections), 12.1ms\n",
      "image 187/295 C:\\Users\\Administrator\\sf_project_2\\test\\images\\207_212_10_2f4db8a2-3086-4d20-b89c-df69b04e76e3.png: 320x640 (no detections), 0.0ms\n",
      "image 188/295 C:\\Users\\Administrator\\sf_project_2\\test\\images\\207_212_10_74ccfc21-2fec-4506-98b5-90789166040a.png: 320x640 (no detections), 3.9ms\n",
      "image 189/295 C:\\Users\\Administrator\\sf_project_2\\test\\images\\207_212_10_7a4a4c1b-6847-466e-8010-2efcf70b26f9.png: 320x640 (no detections), 15.6ms\n",
      "image 190/295 C:\\Users\\Administrator\\sf_project_2\\test\\images\\207_212_10_7a929d1a-559d-4bc0-a3f9-f25e749a5295.png: 320x640 (no detections), 0.0ms\n",
      "image 191/295 C:\\Users\\Administrator\\sf_project_2\\test\\images\\207_212_10_8102910f-902e-458d-a045-120f597a3fe0.png: 320x640 (no detections), 14.4ms\n",
      "image 192/295 C:\\Users\\Administrator\\sf_project_2\\test\\images\\207_212_10_82bef973-1df1-4ff5-9095-ea1b2bdbcdff.png: 320x640 (no detections), 0.0ms\n",
      "image 193/295 C:\\Users\\Administrator\\sf_project_2\\test\\images\\207_212_10_85164ab8-b1f2-4067-ab88-cce9339d1441.png: 320x640 (no detections), 8.7ms\n",
      "image 194/295 C:\\Users\\Administrator\\sf_project_2\\test\\images\\207_212_10_882428ec-01ef-4f69-9296-8bec970a46fa.png: 320x640 (no detections), 15.6ms\n",
      "image 195/295 C:\\Users\\Administrator\\sf_project_2\\test\\images\\207_212_10_94012978-33ea-4266-9e41-debc72892129.png: 320x640 (no detections), 15.6ms\n",
      "image 196/295 C:\\Users\\Administrator\\sf_project_2\\test\\images\\207_212_10_adb50bff-e9e7-4a50-a328-2d7f66e24ae5.png: 320x640 (no detections), 14.0ms\n",
      "image 197/295 C:\\Users\\Administrator\\sf_project_2\\test\\images\\207_212_10_b0becc72-e78e-49b8-8913-098ab821c570.png: 320x640 (no detections), 8.4ms\n",
      "image 198/295 C:\\Users\\Administrator\\sf_project_2\\test\\images\\207_212_10_d7c9ecaa-4beb-46da-9492-cabb5883abd2.png: 320x640 (no detections), 0.0ms\n",
      "image 199/295 C:\\Users\\Administrator\\sf_project_2\\test\\images\\207_212_10_da353ebb-faa6-4f2d-88b9-8b2624d27aa0.png: 320x640 (no detections), 15.6ms\n",
      "image 200/295 C:\\Users\\Administrator\\sf_project_2\\test\\images\\207_212_10_f1204532-f516-43b4-8e49-1455ff8fa8d8.png: 320x640 (no detections), 19.2ms\n",
      "image 201/295 C:\\Users\\Administrator\\sf_project_2\\test\\images\\207_212_10_f69bd35c-5c8b-46b2-b98e-940878f08b1a.png: 320x640 (no detections), 17.5ms\n",
      "image 202/295 C:\\Users\\Administrator\\sf_project_2\\test\\images\\207_212_10_f9f7bbbf-cbb7-4921-94f6-c267190f8a0d.jpg: 320x640 (no detections), 12.1ms\n",
      "image 203/295 C:\\Users\\Administrator\\sf_project_2\\test\\images\\207_212_20_07d1c368-1a3e-465e-b3ae-093690a9098b.jpg: 320x640 (no detections), 13.9ms\n",
      "image 204/295 C:\\Users\\Administrator\\sf_project_2\\test\\images\\207_212_20_11f94812-9964-4ec7-ac18-89adce1d33e1.jpg: 320x640 1 frame_faulty, 0.0ms\n",
      "image 205/295 C:\\Users\\Administrator\\sf_project_2\\test\\images\\207_212_20_135dad15-b02c-42af-b783-e7469964d74d.jpg: 320x640 1 frame_faulty, 0.0ms\n",
      "image 206/295 C:\\Users\\Administrator\\sf_project_2\\test\\images\\207_212_20_2554abc2-4765-484c-aff9-715d21bbcc10.jpg: 320x640 2 frame_faultys, 15.6ms\n",
      "image 207/295 C:\\Users\\Administrator\\sf_project_2\\test\\images\\207_212_20_2983390a-8c17-4fb3-be58-3890c32bb633.jpg: 320x640 3 frame_faultys, 15.7ms\n",
      "image 208/295 C:\\Users\\Administrator\\sf_project_2\\test\\images\\207_212_20_36f32bdf-3968-4460-bb35-a992bf71291f.jpg: 320x640 1 frame_faulty, 10.1ms\n",
      "image 209/295 C:\\Users\\Administrator\\sf_project_2\\test\\images\\207_212_20_38bb2e70-85b0-4227-af09-56dee1e7e477.jpg: 320x640 (no detections), 7.6ms\n",
      "image 210/295 C:\\Users\\Administrator\\sf_project_2\\test\\images\\207_212_20_38e28d37-14be-475d-a7bf-b6ba7e96783c.jpg: 320x640 (no detections), 15.6ms\n",
      "image 211/295 C:\\Users\\Administrator\\sf_project_2\\test\\images\\207_212_20_4dae5fa5-90f3-47c7-91ce-58d26544972a.jpg: 320x640 2 frame_faultys, 15.6ms\n",
      "image 212/295 C:\\Users\\Administrator\\sf_project_2\\test\\images\\207_212_20_53438282-0acb-4de8-b078-4e28c2351aef.jpg: 320x640 2 frame_faultys, 0.0ms\n",
      "image 213/295 C:\\Users\\Administrator\\sf_project_2\\test\\images\\207_212_20_5b92b516-700d-42a8-92f0-5732fb11d0ea.jpg: 320x640 1 frame_faulty, 15.6ms\n",
      "image 214/295 C:\\Users\\Administrator\\sf_project_2\\test\\images\\207_212_20_5f036451-6486-454d-ae49-acc03e0d1564.jpg: 320x640 1 frame_faulty, 0.0ms\n",
      "image 215/295 C:\\Users\\Administrator\\sf_project_2\\test\\images\\207_212_20_671f3a50-e57b-4a4f-b20a-2520ad5f869b.jpg: 320x640 1 frame_faulty, 0.0ms\n",
      "image 216/295 C:\\Users\\Administrator\\sf_project_2\\test\\images\\207_212_20_777baaf2-34c7-4d7e-9fa1-af2c6026c676.jpg: 320x640 (no detections), 12.0ms\n",
      "image 217/295 C:\\Users\\Administrator\\sf_project_2\\test\\images\\207_212_20_90d9795f-7ff9-4f5f-8f8c-01e2ec771589.jpg: 320x640 (no detections), 12.1ms\n",
      "image 218/295 C:\\Users\\Administrator\\sf_project_2\\test\\images\\207_212_20_95911721-8256-49d4-b9eb-9b422f9b99c7.jpg: 320x640 (no detections), 15.6ms\n",
      "image 219/295 C:\\Users\\Administrator\\sf_project_2\\test\\images\\207_212_20_9a21af9e-a857-4c9c-8955-16db0174e43c.jpg: 320x640 1 frame_faulty, 0.0ms\n",
      "image 220/295 C:\\Users\\Administrator\\sf_project_2\\test\\images\\207_212_20_9f64e84c-accc-4772-8fa1-4d3e75d3bd7c.jpg: 320x640 1 frame_faulty, 15.6ms\n",
      "image 221/295 C:\\Users\\Administrator\\sf_project_2\\test\\images\\207_212_20_a88c1710-f0e5-427a-883b-154513570bef.jpg: 320x640 1 frame_faulty, 11.1ms\n",
      "image 222/295 C:\\Users\\Administrator\\sf_project_2\\test\\images\\207_212_20_bdda04bc-b0c4-4816-9471-6c9b786c0501.jpg: 320x640 1 frame_faulty, 6.9ms\n",
      "image 223/295 C:\\Users\\Administrator\\sf_project_2\\test\\images\\207_212_20_c899defb-4dfd-4ca8-81cf-7692ca48243e.jpg: 320x640 1 frame_faulty, 15.6ms\n",
      "image 224/295 C:\\Users\\Administrator\\sf_project_2\\test\\images\\207_212_20_ca47ced5-d782-48bd-8afd-df4fa5c89e04.jpg: 320x640 (no detections), 15.6ms\n",
      "image 225/295 C:\\Users\\Administrator\\sf_project_2\\test\\images\\207_212_20_d73a5890-a639-4232-8236-efd0a0e87ad5.jpg: 320x640 (no detections), 7.9ms\n",
      "image 226/295 C:\\Users\\Administrator\\sf_project_2\\test\\images\\207_212_20_f91ac717-5ff3-47aa-8e9d-eead1d7decd2.jpg: 320x640 2 frame_faultys, 8.0ms\n",
      "image 227/295 C:\\Users\\Administrator\\sf_project_2\\test\\images\\207_213_10_07579cf9-936b-4fc8-bdbe-62066ae0a19d.png: 320x640 (no detections), 15.6ms\n",
      "image 228/295 C:\\Users\\Administrator\\sf_project_2\\test\\images\\207_213_10_1f4bf9f4-4961-446e-9351-5f17dfc5c792.png: 320x640 (no detections), 0.0ms\n",
      "image 229/295 C:\\Users\\Administrator\\sf_project_2\\test\\images\\207_213_10_27b078bd-24df-4eaa-a0b4-84fa5f521934.png: 320x640 (no detections), 0.0ms\n",
      "image 230/295 C:\\Users\\Administrator\\sf_project_2\\test\\images\\207_213_10_31afb37a-fe51-4265-afcc-0ffa290ec6f6.png: 320x640 (no detections), 0.0ms\n",
      "image 231/295 C:\\Users\\Administrator\\sf_project_2\\test\\images\\207_213_10_34b0d9eb-e098-4a32-9280-139d14361e46.png: 320x640 (no detections), 15.2ms\n",
      "image 232/295 C:\\Users\\Administrator\\sf_project_2\\test\\images\\207_213_10_364c9624-52c1-4964-a63c-fd7f4d9b872d.png: 320x640 (no detections), 15.6ms\n",
      "image 233/295 C:\\Users\\Administrator\\sf_project_2\\test\\images\\207_213_10_3d6287db-1bcc-4a18-9d9e-446a82cfe7c1.jpg: 320x640 1 frame_faulty, 26.3ms\n",
      "image 234/295 C:\\Users\\Administrator\\sf_project_2\\test\\images\\207_213_10_5701240e-3709-4b65-aaba-57b0a4752805.jpg: 320x640 1 ok, 1 frame_faulty, 15.6ms\n",
      "image 235/295 C:\\Users\\Administrator\\sf_project_2\\test\\images\\207_213_10_57ae4f50-22b9-4c5b-b7ca-7be1dab19f97.jpg: 320x640 1 frame_faulty, 3.3ms\n",
      "image 236/295 C:\\Users\\Administrator\\sf_project_2\\test\\images\\207_213_10_5c8325d4-2d15-4e99-8d5e-5e0021d3b4f3.png: 320x640 (no detections), 15.6ms\n",
      "image 237/295 C:\\Users\\Administrator\\sf_project_2\\test\\images\\207_213_10_7794f3ec-df03-4aa9-a6ce-bf368d91816b.png: 320x640 (no detections), 15.6ms\n",
      "image 238/295 C:\\Users\\Administrator\\sf_project_2\\test\\images\\207_213_10_96fadcec-2463-483a-8cfe-72ae27531bdd.jpg: 320x640 1 frame_faulty, 15.6ms\n",
      "image 239/295 C:\\Users\\Administrator\\sf_project_2\\test\\images\\207_213_10_9b1b17af-bd9d-4bb3-8e81-30364322dbef.png: 320x640 (no detections), 10.3ms\n",
      "image 240/295 C:\\Users\\Administrator\\sf_project_2\\test\\images\\207_213_10_bcc98f63-84de-4079-92b2-e3042f88739e.jpg: 320x640 1 ok, 15.6ms\n",
      "image 241/295 C:\\Users\\Administrator\\sf_project_2\\test\\images\\207_213_10_bd1b7f65-77ee-4de3-b9fe-6e2c47dc5531.png: 320x640 (no detections), 13.7ms\n",
      "image 242/295 C:\\Users\\Administrator\\sf_project_2\\test\\images\\207_213_10_c0c2fb5e-2853-4ba8-8693-2baee4bae8a3.jpg: 320x640 (no detections), 3.4ms\n",
      "image 243/295 C:\\Users\\Administrator\\sf_project_2\\test\\images\\207_213_10_d67f3d98-bfab-49f8-90b4-acb89f9fc78c.png: 320x640 (no detections), 0.0ms\n",
      "image 244/295 C:\\Users\\Administrator\\sf_project_2\\test\\images\\207_213_10_e4996c30-fe4d-4034-b56a-588e282a930f.png: 320x640 (no detections), 4.8ms\n",
      "image 245/295 C:\\Users\\Administrator\\sf_project_2\\test\\images\\207_213_10_eb0edf97-0154-4fd1-9294-82c838187c3d.png: 320x640 (no detections), 15.8ms\n",
      "image 246/295 C:\\Users\\Administrator\\sf_project_2\\test\\images\\207_213_10_fbd544cc-912d-48cc-afa5-7b69e314649a.jpg: 320x640 (no detections), 15.1ms\n",
      "image 247/295 C:\\Users\\Administrator\\sf_project_2\\test\\images\\207_213_20_00f18c64-6177-4aac-ae68-811204476c71.jpg: 320x640 1 frame_faulty, 13.5ms\n",
      "image 248/295 C:\\Users\\Administrator\\sf_project_2\\test\\images\\207_213_20_03f043b2-4111-4a82-9a9f-42cb2433c548.jpg: 320x640 1 frame_faulty, 7.0ms\n",
      "image 249/295 C:\\Users\\Administrator\\sf_project_2\\test\\images\\207_213_20_09836168-fe72-4819-bff5-48f170d50237.jpg: 320x640 1 frame_faulty, 15.9ms\n",
      "image 250/295 C:\\Users\\Administrator\\sf_project_2\\test\\images\\207_213_20_21925b6e-2119-4fab-8d2b-439fb16a61d9.jpg: 320x640 (no detections), 15.6ms\n",
      "image 251/295 C:\\Users\\Administrator\\sf_project_2\\test\\images\\207_213_20_28c9f027-0a3c-46bb-b362-d97218084320.jpg: 320x640 1 frame_faulty, 17.5ms\n",
      "image 252/295 C:\\Users\\Administrator\\sf_project_2\\test\\images\\207_213_20_307e5057-5337-4124-a6ce-206d7094fe15.jpg: 320x640 1 frame_faulty, 11.2ms\n",
      "image 253/295 C:\\Users\\Administrator\\sf_project_2\\test\\images\\207_213_20_3094da98-15c5-4580-8e67-3ffb88cc002f.jpg: 320x640 1 frame_faulty, 18.9ms\n",
      "image 254/295 C:\\Users\\Administrator\\sf_project_2\\test\\images\\207_213_20_44bc9c62-7429-429a-a79e-a93c2a877cb4.jpg: 320x640 1 ok, 15.6ms\n",
      "image 255/295 C:\\Users\\Administrator\\sf_project_2\\test\\images\\207_213_20_51cd93e1-2fb4-4b89-9cb9-61dd8f2577a0.jpg: 320x640 1 frame_faulty, 17.1ms\n",
      "image 256/295 C:\\Users\\Administrator\\sf_project_2\\test\\images\\207_213_20_60e28225-1c1a-45d3-8be0-811297d863ba.jpg: 320x640 1 frame_faulty, 15.9ms\n",
      "image 257/295 C:\\Users\\Administrator\\sf_project_2\\test\\images\\207_213_20_60e31db0-ed5a-4451-baba-51ccc2494c7f.jpg: 320x640 (no detections), 16.7ms\n",
      "image 258/295 C:\\Users\\Administrator\\sf_project_2\\test\\images\\207_213_20_69facea4-5460-450d-b557-90abca43bb24.jpg: 320x640 (no detections), 13.3ms\n",
      "image 259/295 C:\\Users\\Administrator\\sf_project_2\\test\\images\\207_213_20_7a2a7582-4869-4e98-8c5d-88de1316794b.jpg: 320x640 2 frame_faultys, 2.1ms\n",
      "image 260/295 C:\\Users\\Administrator\\sf_project_2\\test\\images\\207_213_20_7df4540d-8260-48b2-a887-beb12633b623.jpg: 320x640 1 frame_faulty, 15.6ms\n",
      "image 261/295 C:\\Users\\Administrator\\sf_project_2\\test\\images\\207_213_20_a834b97f-263b-4c29-b455-93b3b04d3b7c.jpg: 320x640 (no detections), 16.4ms\n",
      "image 262/295 C:\\Users\\Administrator\\sf_project_2\\test\\images\\207_213_20_b20d9b18-665c-40cb-8815-4dff2e244561.jpg: 320x640 1 frame_faulty, 15.7ms\n",
      "image 263/295 C:\\Users\\Administrator\\sf_project_2\\test\\images\\207_213_20_c3766e67-7472-4e7f-af54-c698ce56dcc4.jpg: 320x640 1 frame_faulty, 7.1ms\n",
      "image 264/295 C:\\Users\\Administrator\\sf_project_2\\test\\images\\207_213_20_ddc52360-f135-4c66-8fde-22d070845eda.jpg: 320x640 (no detections), 6.5ms\n",
      "image 265/295 C:\\Users\\Administrator\\sf_project_2\\test\\images\\209_102_10_1a1be3a1-fbb3-4305-98ce-ffe049b14657.jpg: 320x640 (no detections), 11.0ms\n",
      "image 266/295 C:\\Users\\Administrator\\sf_project_2\\test\\images\\209_102_10_1c49163e-ab29-4de3-b2a2-80e7c073ab06.jpg: 320x640 (no detections), 10.2ms\n",
      "image 267/295 C:\\Users\\Administrator\\sf_project_2\\test\\images\\209_102_10_586bf20e-5241-49df-80c0-496850f5ca11.jpg: 320x640 (no detections), 8.4ms\n",
      "image 268/295 C:\\Users\\Administrator\\sf_project_2\\test\\images\\209_102_10_599959fa-1fbc-4f12-92f4-baff760a28cc.jpg: 320x640 (no detections), 10.5ms\n",
      "image 269/295 C:\\Users\\Administrator\\sf_project_2\\test\\images\\209_102_10_5ec8d1c6-08cd-4c59-9f28-295ef7bf8074.jpg: 320x640 (no detections), 9.6ms\n",
      "image 270/295 C:\\Users\\Administrator\\sf_project_2\\test\\images\\209_102_10_734e044d-fc86-4940-af94-3fbde8cff96d.jpg: 320x640 (no detections), 7.1ms\n",
      "image 271/295 C:\\Users\\Administrator\\sf_project_2\\test\\images\\209_102_10_8fc5cbc4-0ab4-4219-9a83-a7cc16a38a15.jpg: 320x640 (no detections), 14.1ms\n",
      "image 272/295 C:\\Users\\Administrator\\sf_project_2\\test\\images\\209_102_10_92a7e547-b9d1-4103-803c-e3aa73a92010.jpg: 320x640 1 bumper_faulty, 7.1ms\n",
      "image 273/295 C:\\Users\\Administrator\\sf_project_2\\test\\images\\209_102_10_9ec40324-67e1-402e-a042-f057b93dfb1c.jpg: 320x640 (no detections), 16.4ms\n",
      "image 274/295 C:\\Users\\Administrator\\sf_project_2\\test\\images\\209_102_10_b50251a7-112d-4a22-ad3a-7b4a37f7f187.jpg: 320x640 (no detections), 14.5ms\n",
      "image 275/295 C:\\Users\\Administrator\\sf_project_2\\test\\images\\209_102_10_c2ff73ee-66a7-46a6-a81f-96cbb811d4f3.jpg: 320x640 (no detections), 13.7ms\n",
      "image 276/295 C:\\Users\\Administrator\\sf_project_2\\test\\images\\209_102_10_e20e7344-35f8-482f-a48e-2544096bfa74.jpg: 320x640 (no detections), 18.1ms\n",
      "image 277/295 C:\\Users\\Administrator\\sf_project_2\\test\\images\\209_102_10_e85d3bdf-2274-4dbb-bd97-0db48a86ba11.jpg: 320x640 (no detections), 10.9ms\n",
      "image 278/295 C:\\Users\\Administrator\\sf_project_2\\test\\images\\209_102_10_eaeb6981-d064-424e-9922-fc65338d8beb.jpg: 320x640 (no detections), 13.3ms\n",
      "image 279/295 C:\\Users\\Administrator\\sf_project_2\\test\\images\\209_102_10_eedaa441-5e16-4404-af3e-ac1beaef6edf.jpg: 320x640 (no detections), 7.0ms\n",
      "image 280/295 C:\\Users\\Administrator\\sf_project_2\\test\\images\\209_102_10_f2e073be-a335-4fcd-b865-9cd339141e35.jpg: 320x640 (no detections), 15.9ms\n",
      "image 281/295 C:\\Users\\Administrator\\sf_project_2\\test\\images\\209_102_20_0b93f450-976b-46a9-9037-45a8965dd7f1.jpg: 320x640 1 bumper_faulty, 13.7ms\n",
      "image 282/295 C:\\Users\\Administrator\\sf_project_2\\test\\images\\209_102_20_395c03a4-9d36-409e-b6e8-2fa22ae381e0.JPG: 320x640 (no detections), 15.7ms\n",
      "image 283/295 C:\\Users\\Administrator\\sf_project_2\\test\\images\\209_102_20_3a893f70-1e89-4570-b1ec-51fd3c03d263.jpg: 320x640 (no detections), 15.4ms\n",
      "image 284/295 C:\\Users\\Administrator\\sf_project_2\\test\\images\\209_102_20_4abb4631-eab6-4850-b3f6-f777078307a9.jpg: 320x640 (no detections), 10.2ms\n",
      "image 285/295 C:\\Users\\Administrator\\sf_project_2\\test\\images\\209_102_20_6aee2ec1-0baa-4188-860f-40d01425741b.jpg: 320x640 (no detections), 16.1ms\n",
      "image 286/295 C:\\Users\\Administrator\\sf_project_2\\test\\images\\209_102_20_72d1c2e3-0ef2-475f-a5ba-1feae3c870a6.jpg: 320x640 1 fender_faulty, 6.9ms\n",
      "image 287/295 C:\\Users\\Administrator\\sf_project_2\\test\\images\\209_102_20_7831e126-7391-46b0-8afc-2564f7d77356.jpg: 320x640 1 bumper_faulty, 15.6ms\n",
      "image 288/295 C:\\Users\\Administrator\\sf_project_2\\test\\images\\209_102_20_a6ed96a4-0833-4ba9-8d71-c532169bf384.jpg: 320x640 (no detections), 10.2ms\n",
      "image 289/295 C:\\Users\\Administrator\\sf_project_2\\test\\images\\209_102_20_b424e74f-2a3a-472e-8a07-c956b5b0017f.jpg: 320x640 (no detections), 15.6ms\n",
      "image 290/295 C:\\Users\\Administrator\\sf_project_2\\test\\images\\209_102_20_cb5d996e-0961-43fe-aff0-378e7dc838f9.jpg: 320x640 (no detections), 12.2ms\n",
      "image 291/295 C:\\Users\\Administrator\\sf_project_2\\test\\images\\209_102_20_ce4b29c9-196b-4f69-ae02-a87c3dc1bd68.jpg: 320x640 (no detections), 10.0ms\n",
      "image 292/295 C:\\Users\\Administrator\\sf_project_2\\test\\images\\209_102_20_d3e914cf-04ad-405f-964c-fd2ed6194482.jpg: 320x640 (no detections), 6.8ms\n",
      "image 293/295 C:\\Users\\Administrator\\sf_project_2\\test\\images\\209_102_20_ed444b5a-8346-48f5-80f9-8a55b3e0d784.jpg: 320x640 (no detections), 13.5ms\n",
      "image 294/295 C:\\Users\\Administrator\\sf_project_2\\test\\images\\209_102_20_f1c95f61-0966-4781-92bc-b89f92704023.jpg: 320x640 (no detections), 9.7ms\n",
      "image 295/295 C:\\Users\\Administrator\\sf_project_2\\test\\images\\209_102_20_fcbd6944-7bf4-4e30-bcd5-add502f0dae2.jpg: 320x640 (no detections), 13.9ms\n",
      "Speed: 1.9ms preprocess, 9.3ms inference, 1.1ms postprocess per image at shape (1, 3, 320, 640)\n"
     ]
    }
   ],
   "source": [
    "\n",
    "from ultralytics import YOLO\n",
    "\n",
    "# 저장된 모델 불러오기\n",
    "model = YOLO(\"model_11_n_50_16_944.pt\")\n",
    "\n",
    "# 추론\n",
    "results = model.predict(source=\"C:/Users/Administrator/sf_project_2/test/images\", imgsz=640)"
   ]
  },
  {
   "cell_type": "code",
   "execution_count": null,
   "metadata": {},
   "outputs": [],
   "source": [
    "import numpy as np\n",
    "from sklearn.metrics import classification_report, confusion_matrix\n",
    "\n",
    "pred = []\n",
    "\n",
    "for result in results:\n",
    "    if len(result.boxes) > 0:  # Detection이 있을 경우\n",
    "        # 각 box에서 confidence가 가장 높은 클래스 선택\n",
    "        pred.append(int(result.boxes[0].cls))\n",
    "    else:\n",
    "        pred.append(0)  # No Detection은 '0'으로 처리\n",
    "\n",
    "\n",
    "# y_test 생성\n",
    "y_test = []\n",
    "\n",
    "for i in range(len(test_test_20)):\n",
    "    if test_test_20.iloc[i, 1] == 0:  # 열 1에 접근\n",
    "        y_test.append(0)\n",
    "    elif test_test_20.iloc[i, 2] == '범퍼':  # 열 2에 접근\n",
    "        y_test.append(1)\n",
    "    elif test_test_20.iloc[i, 2] == '도어':\n",
    "        y_test.append(2)\n",
    "    elif test_test_20.iloc[i, 2] == '휀더':\n",
    "        y_test.append(3)\n",
    "    elif test_test_20.iloc[i, 2] == '프레임':\n",
    "        y_test.append(4)\n",
    "\n",
    "\n",
    "## data evaluation\n",
    "\n",
    "from sklearn.metrics import accuracy_score, precision_score, recall_score, confusion_matrix, roc_curve, roc_auc_score\n",
    "import matplotlib.pyplot as plt\n",
    "\n",
    "\n",
    "# 위의 ROC 커브 코드 재사용 가능\n",
    "\n",
    "print(y_test)\n",
    "print(pred)\n",
    "\n",
    "# 혼동 행렬\n",
    "confmat = confusion_matrix(y_true=y_test, y_pred=pred)\n",
    "print('혼동 행렬: ', confmat)\n",
    "\n",
    "\n",
    "# 정확도\n",
    "accuracy=accuracy_score(y_true=y_test, y_pred=pred)\n",
    "print('정확도: ', accuracy)\n",
    "\n",
    "\n",
    "# 정밀도(precision)\n",
    "precision = precision_score(y_true=y_test, y_pred=pred, average='macro')\n",
    "print('정밀도: ', precision)\n",
    "\n",
    "\n",
    "# 재현율(recall)\n",
    "recall = recall_score(y_true=y_test, y_pred=pred, average='macro')\n",
    "print('재현율: ', recall)"
   ]
  },
  {
   "cell_type": "code",
   "execution_count": null,
   "metadata": {},
   "outputs": [
    {
     "name": "stdout",
     "output_type": "stream",
     "text": [
      "[0, 0, 2, 1, 0, 0, 2, 0, 4, 0, 0, 0, 0, 0, 4, 0, 1, 4, 0, 1, 3, 0, 0, 0, 1, 0, 2, 3, 0, 2, 4, 0, 4, 4, 1, 4, 0, 0, 4, 0, 1, 0, 4, 4, 0, 0, 0, 0, 0, 0, 2, 0, 0, 0, 3, 4, 0, 0, 2, 0, 4, 0, 0, 0, 0, 2, 0, 0, 1, 0, 4, 0, 2, 3, 0, 1, 0, 0, 4, 1, 2, 0, 4, 4, 4, 2, 4, 0, 4, 0, 4, 0, 4, 0, 1, 1, 0, 4, 0, 0, 4, 0, 4, 4, 4, 4, 0, 0, 1, 1, 0, 2, 4, 0, 1, 0, 3, 4, 0, 1, 0, 0, 4, 2, 1, 0, 3, 4, 0, 1, 0, 0, 3, 1, 0, 1, 0, 0, 3, 0, 0, 4, 2, 0, 0, 0, 0, 4, 4, 0, 0, 0, 0, 0, 0, 0, 2, 0, 1, 3, 2, 1, 0, 1, 0, 0, 0, 0, 0, 0, 0, 0, 0, 4, 4, 0, 0, 0, 1, 4, 2, 0, 3, 0, 0, 4, 0, 0, 0, 2, 4, 0, 0, 1, 0, 0, 0, 0, 4, 2, 2, 0, 4, 4, 0, 0, 2, 0, 0, 2, 0, 0, 0, 0, 2, 4, 0, 0, 4, 0, 0, 3, 1, 4, 0, 2, 4, 0, 0, 4, 4, 0, 3, 4, 0, 0, 0, 0, 3, 0, 0, 0, 0, 4, 0, 4, 0, 0, 0, 0, 0, 0, 0, 2, 0, 2, 0, 0, 0, 0, 0, 0, 4, 2, 0, 3, 1, 0, 2, 0, 0, 0, 0, 0, 1, 0, 1, 0, 4, 0, 0, 0, 0, 4, 0, 2, 4, 0, 0, 4, 0, 1, 3, 3, 2]\n",
      "[0, 0, 0, 0, 0, 0, 0, 0, 0, 0, 0, 0, 0, 0, 0, 0, 0, 1, 0, 2, 0, 0, 0, 0, 0, 0, 1, 0, 0, 0, 2, 0, 2, 0, 0, 0, 0, 0, 0, 0, 0, 0, 0, 0, 0, 0, 0, 0, 0, 0, 0, 0, 0, 0, 0, 0, 0, 0, 0, 0, 0, 0, 0, 0, 0, 0, 0, 0, 0, 0, 0, 0, 0, 0, 0, 0, 0, 0, 0, 0, 0, 0, 0, 0, 0, 0, 0, 0, 0, 0, 0, 0, 0, 0, 1, 1, 1, 1, 0, 1, 0, 0, 0, 1, 0, 1, 1, 1, 0, 1, 0, 0, 1, 0, 1, 1, 0, 1, 4, 0, 1, 1, 1, 0, 0, 0, 0, 0, 0, 1, 0, 1, 0, 1, 0, 0, 1, 0, 1, 1, 0, 0, 0, 0, 0, 0, 0, 0, 0, 0, 0, 4, 0, 0, 4, 4, 4, 0, 4, 4, 4, 0, 0, 4, 4, 4, 4, 4, 0, 0, 0, 4, 4, 4, 4, 4, 4, 4, 4, 4, 4, 0, 4, 0, 0, 0, 0, 0, 0, 0, 0, 0, 0, 0, 0, 0, 0, 0, 0, 0, 0, 0, 0, 4, 4, 4, 4, 4, 0, 0, 4, 4, 4, 4, 4, 0, 0, 0, 4, 4, 4, 4, 4, 0, 0, 4, 0, 0, 0, 0, 0, 0, 4, 4, 4, 0, 0, 4, 0, 0, 0, 0, 0, 0, 0, 0, 4, 4, 4, 0, 4, 4, 4, 0, 4, 4, 0, 0, 4, 4, 0, 4, 4, 0, 0, 0, 0, 0, 0, 0, 0, 1, 0, 0, 0, 0, 0, 0, 0, 0, 1, 0, 0, 0, 0, 3, 1, 0, 0, 0, 0, 0, 0, 0, 0]\n",
      "혼동 행렬:  [[119  12   0   0  34]\n",
      " [ 18   6   1   0   4]\n",
      " [ 20   1   0   1   7]\n",
      " [ 11   1   0   0   4]\n",
      " [ 39   8   2   0   7]]\n",
      "정확도:  0.44745762711864406\n",
      "정밀도:  0.1828329882677709\n",
      "재현율:  0.2106217345872518\n"
     ]
    }
   ],
   "source": []
  },
  {
   "cell_type": "code",
   "execution_count": null,
   "metadata": {},
   "outputs": [],
   "source": []
  }
 ],
 "metadata": {
  "kernelspec": {
   "display_name": "pytorch-env",
   "language": "python",
   "name": "python3"
  },
  "language_info": {
   "codemirror_mode": {
    "name": "ipython",
    "version": 3
   },
   "file_extension": ".py",
   "mimetype": "text/x-python",
   "name": "python",
   "nbconvert_exporter": "python",
   "pygments_lexer": "ipython3",
   "version": "3.12.8"
  }
 },
 "nbformat": 4,
 "nbformat_minor": 2
}
