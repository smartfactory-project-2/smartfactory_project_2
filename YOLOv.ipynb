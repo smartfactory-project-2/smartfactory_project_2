{
 "cells": [
  {
   "cell_type": "code",
   "execution_count": null,
   "metadata": {},
   "outputs": [],
   "source": [
    "# %pip install ultralytics"
   ]
  },
  {
   "cell_type": "code",
   "execution_count": 1,
   "metadata": {},
   "outputs": [
    {
     "name": "stdout",
     "output_type": "stream",
     "text": [
      "(1587, 4)\n"
     ]
    }
   ],
   "source": [
    "import pandas as pd\n",
    "import numpy as np\n",
    "\n",
    "# CSV 파일 읽기 (따옴표 처리 자동)\n",
    "data_bumper = pd.read_csv('data/data/output/bumper/bumper_data.csv')\n",
    "\n",
    "# 데이터 확인\n",
    "print(data_bumper.shape)\n",
    "data=np.array(data_bumper)"
   ]
  },
  {
   "cell_type": "code",
   "execution_count": null,
   "metadata": {},
   "outputs": [],
   "source": [
    "'''\n",
    "1. 데이터 불러오기 (데이터에 오류가 섞여 있음)\n",
    "2. 데이터 x, y, z로 분류하기\n",
    "3. yolo에 넣기기\n",
    "'''"
   ]
  },
  {
   "cell_type": "code",
   "execution_count": 2,
   "metadata": {},
   "outputs": [
    {
     "name": "stdout",
     "output_type": "stream",
     "text": [
      "[1511  541 1407 1580  516 1120  169 1286 1081 1013]\n"
     ]
    }
   ],
   "source": [
    "from numpy import random\n",
    "\n",
    "data_num=10  #100개당 35초\n",
    "num=random.randint(len(data), size=data_num)\n",
    "\n",
    "print(num)"
   ]
  },
  {
   "cell_type": "code",
   "execution_count": 77,
   "metadata": {},
   "outputs": [
    {
     "name": "stdout",
     "output_type": "stream",
     "text": [
      "./data/data/source_data/bumper/scratch\\205_101_10_0107f873-8e8a-43d6-94c5-703a77b87e08.jpg\n",
      "1\n",
      "범퍼\n",
      "[]\n"
     ]
    }
   ],
   "source": [
    "print(data[0,0])\n",
    "print(data[0,1])\n",
    "print(data[0,2])\n",
    "print(data[0,3])"
   ]
  },
  {
   "cell_type": "code",
   "execution_count": 3,
   "metadata": {},
   "outputs": [
    {
     "name": "stdout",
     "output_type": "stream",
     "text": [
      "진행현황: 0.0%\n",
      "(10, 2000, 4000, 3)\n",
      "(10, 1)\n",
      "(10, 1)\n"
     ]
    }
   ],
   "source": [
    "from PIL import Image\n",
    "\n",
    "img_1 = Image.open(data[0,0])\n",
    "\n",
    "a=np.array(img_1)\n",
    "x=np.expand_dims(a, axis=0)     #0\n",
    "y=[]                            # 1,2\n",
    "bbox=[]                         # 3\n",
    "\n",
    "for i, i2 in enumerate(num):\n",
    "    img = Image.open(data[i2,0])\n",
    "    x_3=np.array(img)\n",
    "    x_4=np.expand_dims(x_3, axis=0)\n",
    "    x = np.concatenate((x, x_4), axis=0)  # axis=0: 배치 축\n",
    "    y.append(data[i2,1])\n",
    "    bbox.append(data[i2,3])\n",
    "\n",
    "    if i%10==0:\n",
    "        print(f'진행현황: {i/data_num*100}%')\n",
    "\n",
    "x=np.delete(x, 0 , axis = 0)\n",
    "y=np.array(y).reshape(data_num,1)\n",
    "z=np.array(bbox).reshape(data_num,1)\n",
    "#print(x)\n",
    "\n",
    "print(x.shape)\n",
    "print(y.shape)\n",
    "print(z.shape)\n"
   ]
  },
  {
   "cell_type": "code",
   "execution_count": null,
   "metadata": {},
   "outputs": [],
   "source": []
  },
  {
   "cell_type": "code",
   "execution_count": null,
   "metadata": {},
   "outputs": [],
   "source": [
    "from ultralytics import YOLO\n",
    "\n",
    "model = YOLO(\"yolo8n.pt\")\n",
    "\n",
    "# Start training on your custom dataset\n",
    "model.train(data=\"path/to/dataset.yaml\", epochs=100, imgsz=640)"
   ]
  },
  {
   "cell_type": "code",
   "execution_count": null,
   "metadata": {},
   "outputs": [],
   "source": []
  },
  {
   "cell_type": "code",
   "execution_count": null,
   "metadata": {},
   "outputs": [],
   "source": []
  },
  {
   "cell_type": "code",
   "execution_count": null,
   "metadata": {},
   "outputs": [],
   "source": []
  },
  {
   "cell_type": "code",
   "execution_count": null,
   "metadata": {},
   "outputs": [],
   "source": []
  }
 ],
 "metadata": {
  "kernelspec": {
   "display_name": "pytorch-env",
   "language": "python",
   "name": "python3"
  },
  "language_info": {
   "codemirror_mode": {
    "name": "ipython",
    "version": 3
   },
   "file_extension": ".py",
   "mimetype": "text/x-python",
   "name": "python",
   "nbconvert_exporter": "python",
   "pygments_lexer": "ipython3",
   "version": "3.12.8"
  }
 },
 "nbformat": 4,
 "nbformat_minor": 2
}
