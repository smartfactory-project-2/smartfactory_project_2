{
 "cells": [
  {
   "cell_type": "code",
   "execution_count": 1,
   "metadata": {},
   "outputs": [],
   "source": [
    "\n",
    "import pandas as pd\n",
    "import numpy as np\n",
    "from numpy import random\n",
    "from sklearn.model_selection import train_test_split\n",
    "import ast\n",
    "import os\n",
    "from PIL import Image\n",
    "import yaml"
   ]
  },
  {
   "cell_type": "code",
   "execution_count": 9,
   "metadata": {},
   "outputs": [
    {
     "name": "stdout",
     "output_type": "stream",
     "text": [
      "총 데이터 개수: 7381\n",
      "학습 데이터 개수: 4723\n",
      "테스트 데이터 개수: 1477\n",
      "검증 데이터 개수: 1181\n"
     ]
    }
   ],
   "source": [
    "from sklearn.model_selection import train_test_split\n",
    "import pandas as pd\n",
    "\n",
    "# CSV 파일 로드 함수\n",
    "def load_data_with_pandas(file_path):\n",
    "    data = pd.read_csv(file_path)\n",
    "    return data\n",
    "\n",
    "# 데이터 로드\n",
    "data_bumper = load_data_with_pandas('./data/data/output/bumper/bumper_data.csv')\n",
    "data_door_ed = load_data_with_pandas('./data/data/output/door/door_ed_data.csv')\n",
    "data_door_scratch = load_data_with_pandas('./data/data/output/door/door_scratch_data.csv')\n",
    "data_fender = load_data_with_pandas('./data/data/output/fender/fender_ed_data.csv')\n",
    "data_frame_ed = load_data_with_pandas('./data/data/output/frame/frame_ed_data.csv')\n",
    "data_frame_hd = load_data_with_pandas('./data/data/output/frame/frame_hd_data.csv')\n",
    "data_frame_sealf = load_data_with_pandas('./data/data/output/frame/frame_sealf_data.csv')\n",
    "data_frame_seamf = load_data_with_pandas('./data/data/output/frame/frame_seamf_data.csv')\n",
    "\n",
    "# 데이터 결합\n",
    "data = pd.concat([\n",
    "    data_bumper,\n",
    "    data_door_ed,\n",
    "    data_door_scratch,\n",
    "    data_fender,\n",
    "    data_frame_ed,\n",
    "    data_frame_hd,\n",
    "    data_frame_sealf,\n",
    "    data_frame_seamf\n",
    "], axis=0)\n",
    "\n",
    "# y에는 라벨, x에는 나머지 특성 정보\n",
    "y = data['quality']\n",
    "\n",
    "# Stratified Split: 학습 데이터와 검증 데이터 비율을 80:20으로 설정, 클래스 비율을 유지\n",
    "train_data, test_data = train_test_split(data, test_size=0.2, stratify=y, random_state=60)\n",
    "\n",
    "# 학습 데이터에서 다시 80:20 비율로 나누어 검증 데이터 분리\n",
    "train_data_80, valid_data = train_test_split(train_data, test_size=0.2, stratify=train_data['quality'], random_state=60)\n",
    "\n",
    "# CSV로 저장\n",
    "train_data_80.to_csv('./data/train_data.csv', index=False)\n",
    "test_data.to_csv('./data/test_data.csv', index=False)\n",
    "valid_data.to_csv('./data/valid_data.csv', index=False)\n",
    "\n",
    "# 결과 출력\n",
    "print(f\"총 데이터 개수: {len(data)}\")\n",
    "print(f\"학습 데이터 개수: {len(train_data_80)}\")\n",
    "print(f\"테스트 데이터 개수: {len(test_data)}\")\n",
    "print(f\"검증 데이터 개수: {len(valid_data)}\")\n"
   ]
  },
  {
   "cell_type": "code",
   "execution_count": 3,
   "metadata": {},
   "outputs": [],
   "source": [
    "# # 빈 리스트의 개수를 세는 코드\n",
    "# empty_bbox_count = sum(1 for bbox in train_data[\"bboxes\"] if bbox == '[]')\n",
    "\n",
    "# # 결과 출력\n",
    "# print(f\"빈 리스트의 개수: {empty_bbox_count}\")\n",
    "\n",
    "\n",
    "# # 리스트의 개수를 세는 코드\n",
    "# bbox_count = sum(1 for bbox in train_data[\"bboxes\"] if not bbox == '[]')\n",
    "\n",
    "# # 결과 출력\n",
    "# print(f\"리스트의 개수: {bbox_count}\")\n",
    "\n"
   ]
  },
  {
   "cell_type": "markdown",
   "metadata": {},
   "source": [
    "# 테스트 데이터"
   ]
  },
  {
   "cell_type": "code",
   "execution_count": 11,
   "metadata": {},
   "outputs": [],
   "source": [
    "# Step 1: 학습 데이터에서 20% 추출\n",
    "train_20, _ = train_test_split(train_data_80, test_size=0.8, random_state=35)\n",
    "\n",
    "# Step 2: 검증 데이터에서 20% 추출\n",
    "valid_20, _ = train_test_split(valid_data, test_size=0.8, random_state=35)\n",
    "\n",
    "# Step 3: 테스트 데이터에서 20% 추출\n",
    "test_20, _ = train_test_split(test_data, test_size=0.8, random_state=35)\n",
    "\n",
    "# Step 4: 각각의 20%에서 다시 20% 추출 (성능 검증용 데이터 생성)\n",
    "train_test_20, _ = train_test_split(train_20, test_size=0.8, random_state=42)  # 학습 데이터 20%에서 20% 추출\n",
    "test_test_20, _ = train_test_split(test_20, test_size=0.8, random_state=42)  # 테스트 데이터 20%에서 20% 추출\n",
    "valid_test_20, _ = train_test_split(valid_20, test_size=0.8, random_state=42)  # 검증 데이터 20%에서 20% 추출\n",
    "\n",
    "# CSV로 저장\n",
    "train_test_20.to_csv('./data/test/train_test_20.csv', index=False)\n",
    "test_test_20.to_csv('./data/test/test_test_20.csv', index=False)\n",
    "valid_test_20.to_csv('./data/test/valid_test_20.csv', index=False)\n"
   ]
  },
  {
   "cell_type": "code",
   "execution_count": null,
   "metadata": {},
   "outputs": [],
   "source": [
    "print(len(train_test_20))"
   ]
  },
  {
   "cell_type": "code",
   "execution_count": 12,
   "metadata": {},
   "outputs": [],
   "source": [
    "# 이미지 복사\n",
    "import shutil\n",
    "\n",
    "def copy_images(data, output_dir):\n",
    "    image_dir = os.path.join(output_dir, 'images')\n",
    "    os.makedirs(image_dir, exist_ok=True)\n",
    "\n",
    "    for index, row in data.iterrows():\n",
    "        image_path = row['path']\n",
    "        shutil.copy(image_path, image_dir)\n",
    "\n",
    "\n",
    "# 학습 데이터와 검증 데이터를 각각 처리\n",
    "copy_images(train_test_20, './train')\n",
    "copy_images(test_test_20, './test')\n",
    "copy_images(valid_test_20,'./valid')"
   ]
  },
  {
   "cell_type": "markdown",
   "metadata": {},
   "source": [
    "### bboxes 데이터 추출"
   ]
  },
  {
   "cell_type": "code",
   "execution_count": 13,
   "metadata": {},
   "outputs": [
    {
     "name": "stdout",
     "output_type": "stream",
     "text": [
      "[[[1740.5581395348836, 123.23353293413173, 293.02325581395354, 727.6646706586827]], [], [[1637.2855297157623, 721.7964071856287, 478.34237726098195, 391.2130368891845]], [], [[1806.2015503875966, 1582.3643410852712, 639.5348837209306, 213.1782945736436]]]\n",
      "[[[1327.1860465116279, 1450.6666666666665, 103.18604651162791, 408.8888888888889]], [[1886.464577950043, 835.3688636102283, 170.3661175710581, 183.93652766483478]], [[1966.954425000801, 756.0, 912.8780973692933, 737.1229368932038]], [[1699.5348837209303, 780.4790419161677, 363.3488372093023, 311.01796407185634]], [[1540.6976744186047, 250.2305295950156, 436.04651162790697, 1617.7694704049836]]]\n",
      "[[[1922.2325581395348, 733.5329341317365, 380.93023255813955, 539.8802395209581]], [[1768.705103359173, 942.6804538280419, 313.24020241171434, 119.47835323483491], [2604.79737295435, 1493.1584840654605, 270.8467915590013, 193.125538329027], [2837.9611326442723, 2107.862941429802, 120.11466408268734, 134.24580103359176]], [[1847.4438087995663, 636.7933094384706, 444.2829457364358, 410.2001194743125]], [[1549.6444411227726, 501.2481415929204, 1104.989816465765, 540.7134260429838]], [[1358.7039597887224, 1333.3333333333335, 43.692503469231546, 330.6594725059453]]]\n"
     ]
    }
   ],
   "source": [
    "import ast\n",
    "\n",
    "def parse_bboxes(data):\n",
    "    \"\"\"\n",
    "    문자열 형태의 bounding box 정보를 파싱하여 리스트 형태로 변환하는 함수\n",
    "\n",
    "    Args:\n",
    "        data: 파싱할 데이터셋\n",
    "\n",
    "    Returns:\n",
    "        list: 파싱된 bounding box 리스트\n",
    "    \"\"\"\n",
    "\n",
    "    bboxes_list = []\n",
    "    for bbox_str in data[\"bboxes\"]:\n",
    "        try:\n",
    "            bboxes = ast.literal_eval(bbox_str)\n",
    "            bbox_list = []\n",
    "            for bbox in bboxes:\n",
    "                x, y, w, h = bbox\n",
    "                bbox_list.append([x, y, w, h])\n",
    "            bboxes_list.append(bbox_list)\n",
    "        except (ValueError, SyntaxError) as e:\n",
    "            print(f\"Error parsing bbox: {e}\")\n",
    "    return bboxes_list\n",
    "\n",
    "# 데이터셋별 bounding box 파싱\n",
    "train_bboxes = parse_bboxes(train_test_20)\n",
    "valid_bboxes = parse_bboxes(valid_test_20)\n",
    "test_bboxes = parse_bboxes(test_test_20)\n",
    "\n",
    "# 결과 출력 (예시)\n",
    "print(train_bboxes[:5])\n",
    "print(valid_bboxes[:5])\n",
    "print(test_bboxes[:5])"
   ]
  },
  {
   "cell_type": "markdown",
   "metadata": {},
   "source": [
    "# .yaml label 데이터 생성"
   ]
  },
  {
   "cell_type": "markdown",
   "metadata": {},
   "source": [
    "### 1. 디렉토리 경로 전처리"
   ]
  },
  {
   "cell_type": "code",
   "execution_count": 14,
   "metadata": {},
   "outputs": [
    {
     "name": "stdout",
     "output_type": "stream",
     "text": [
      "Train 이미지 크기: [(4032, 1960), (2848, 1356), (4032, 1960), (4032, 3024), (4000, 3000)]\n",
      "Train 이미지 디렉토리: ['.\\\\data\\\\data\\\\source_data\\\\frame\\\\Sealing_failure\\\\', '.\\\\data\\\\data\\\\source_data\\\\fender\\\\Exterior_damage\\\\', '.\\\\data\\\\data\\\\source_data\\\\frame/Hole_distortion\\\\', '.\\\\data\\\\data\\\\source_data\\\\bumper\\\\scratch\\\\', '.\\\\data\\\\data\\\\source_data\\\\bumper\\\\scratch\\\\']\n",
      "Train 파일 이름: ['207_204_10_45e5328f-55bc-43f2-90b3-672e0d16a8b3', '209_102_10_90e58559-2487-433b-917e-4fbf3153f370', '207_213_10_3c1d7006-886c-489f-b1df-6cf449e408b6', '205_101_10_d25f2945-3e74-4680-a58a-26a3673c6373', '205_101_20_3839cf57-4b8f-470d-b473-112e4e7a8daa']\n",
      "\n",
      "Validation 이미지 크기: [(2448, 2048), (4032, 1960), (4032, 3024), (4032, 1960), (4000, 1868)]\n",
      "Validation 이미지 디렉토리: ['.\\\\data\\\\data\\\\source_data\\\\frame\\\\Seam_failure\\\\', '.\\\\data\\\\data\\\\source_data\\\\frame\\\\Exterior_damage\\\\', '.\\\\data\\\\data\\\\source_data\\\\fender\\\\Exterior_damage\\\\', '.\\\\data\\\\data\\\\source_data\\\\frame\\\\Exterior_damage\\\\', '.\\\\data\\\\data\\\\source_data\\\\bumper\\\\scratch\\\\']\n",
      "Validation 파일 이름: ['207_212_10_48cdb52a-c1d7-4d97-b508-4abc59a29fb4', '207_102_20_837103c2-7378-4733-94c2-ec9889e39f9d', '209_102_20_ce7ad297-eab7-4dfa-852a-83718f0b264e', '207_102_20_fd5e384e-dc12-493d-95f8-ccfb036bb843', '205_101_20_55b371ad-d1ae-4a99-8dc3-d32c30bad818']\n",
      "\n",
      "test 이미지 크기: [(4032, 1960), (4032, 3024), (4032, 1816), (4032, 1816), (2448, 2048)]\n",
      "test 이미지 디렉토리: ['.\\\\data\\\\data\\\\source_data\\\\frame\\\\Exterior_damage\\\\', '.\\\\data\\\\data\\\\source_data\\\\bumper\\\\scratch\\\\', '.\\\\data\\\\data\\\\source_data\\\\frame/Hole_distortion\\\\', '.\\\\data\\\\data\\\\source_data\\\\frame/Hole_distortion\\\\', '.\\\\data\\\\data\\\\source_data\\\\frame\\\\Seam_failure\\\\']\n",
      "test 파일 이름: ['207_102_20_7241770c-ea62-49f0-80ec-9edcc5d73f36', '205_101_20_5007fd13-2403-4c4f-b34c-fe6ff28c4f89', '207_213_20_51cd93e1-2fb4-4b89-9cb9-61dd8f2577a0', '207_213_20_a5fadc37-bc7b-43ad-b25f-2e1b04cc1600', '207_212_10_752c5a3f-27fb-45cd-825d-2a58c1d61ac5']\n"
     ]
    },
    {
     "name": "stderr",
     "output_type": "stream",
     "text": [
      "c:\\Users\\dawoo\\Desktop\\SF7\\coding\\PYTORCH\\pytorch-env\\Lib\\site-packages\\PIL\\Image.py:3186: DecompressionBombWarning: Image size (108000000 pixels) exceeds limit of 89478485 pixels, could be decompression bomb DOS attack.\n",
      "  warnings.warn(\n"
     ]
    }
   ],
   "source": [
    "import os\n",
    "from PIL import Image\n",
    "\n",
    "\n",
    "def extract_image_info(image_paths):\n",
    "    \"\"\"\n",
    "    이미지 경로 리스트에서 이미지 크기, 디렉토리 경로, 파일 이름을 추출하는 함수\n",
    "\n",
    "    Args:\n",
    "        image_paths (list): 이미지 경로 리스트\n",
    "\n",
    "    Returns:\n",
    "        tuple: (image_sizes, image_dirs, file_names)\n",
    "            image_sizes (list): 이미지 크기 리스트\n",
    "            image_dirs (list): 이미지 디렉토리 경로 리스트\n",
    "            file_names (list): 이미지 파일 이름 리스트\n",
    "    \"\"\"\n",
    "\n",
    "    image_sizes = []\n",
    "    image_dirs = []\n",
    "    file_names = []\n",
    "\n",
    "    for path in image_paths:\n",
    "        try:\n",
    "            image = Image.open(path)\n",
    "            width, height = image.size\n",
    "            image_sizes.append((width, height))\n",
    "            image_dirs.append(os.path.dirname(path) + os.sep)\n",
    "            file_names.append(os.path.splitext(os.path.basename(path))[0])\n",
    "        except FileNotFoundError:\n",
    "            print(f\"파일을 찾을 수 없습니다: {path}\")\n",
    "\n",
    "    return image_sizes, image_dirs, file_names\n",
    "\n",
    "\n",
    "# 데이터 준비 (예시)\n",
    "train_image_paths = train_test_20.iloc[:, 0].tolist()\n",
    "valid_image_paths = valid_test_20.iloc[:, 0].tolist()\n",
    "test_image_paths = test_test_20.iloc[:, 0].tolist()\n",
    "\n",
    "# 이미지 정보 추출\n",
    "train_sizes, train_dirs, train_names = extract_image_info(train_image_paths)\n",
    "valid_sizes, valid_dirs, valid_names = extract_image_info(valid_image_paths)\n",
    "test_sizes, test_dirs, test_names = extract_image_info(test_image_paths)\n",
    "\n",
    "# 결과 출력\n",
    "print(\"Train 이미지 크기:\", train_sizes[:5])\n",
    "print(\"Train 이미지 디렉토리:\", train_dirs[:5])\n",
    "print(\"Train 파일 이름:\", train_names[:5])\n",
    "print()\n",
    "print(\"Validation 이미지 크기:\", valid_sizes[:5])\n",
    "print(\"Validation 이미지 디렉토리:\", valid_dirs[:5])\n",
    "print(\"Validation 파일 이름:\", valid_names[:5])\n",
    "print()\n",
    "print(\"test 이미지 크기:\", test_sizes[:5])\n",
    "print(\"test 이미지 디렉토리:\", test_dirs[:5])\n",
    "print(\"test 파일 이름:\", test_names[:5])"
   ]
  },
  {
   "cell_type": "markdown",
   "metadata": {},
   "source": [
    "### 3. 부품 상태 전처리"
   ]
  },
  {
   "cell_type": "code",
   "execution_count": 15,
   "metadata": {},
   "outputs": [
    {
     "name": "stdout",
     "output_type": "stream",
     "text": [
      "parts_and_status_train : [{'part': '프레임', 'status': 1}, {'part': '휀더', 'status': 1}, {'part': '프레임', 'status': 1}, {'part': '범퍼', 'status': 1}, {'part': '범퍼', 'status': 0}, {'part': '도어', 'status': 0}, {'part': '프레임', 'status': 1}, {'part': '프레임', 'status': 1}, {'part': '프레임', 'status': 1}, {'part': '휀더', 'status': 0}, {'part': '범퍼', 'status': 0}, {'part': '도어', 'status': 0}, {'part': '휀더', 'status': 0}, {'part': '프레임', 'status': 0}, {'part': '프레임', 'status': 0}, {'part': '프레임', 'status': 0}, {'part': '범퍼', 'status': 1}, {'part': '도어', 'status': 1}, {'part': '프레임', 'status': 1}, {'part': '범퍼', 'status': 0}, {'part': '프레임', 'status': 0}, {'part': '도어', 'status': 0}, {'part': '프레임', 'status': 1}, {'part': '도어', 'status': 1}, {'part': '도어', 'status': 1}, {'part': '프레임', 'status': 0}, {'part': '도어', 'status': 1}, {'part': '프레임', 'status': 0}, {'part': '프레임', 'status': 0}, {'part': '프레임', 'status': 0}, {'part': '프레임', 'status': 1}, {'part': '범퍼', 'status': 0}, {'part': '휀더', 'status': 0}, {'part': '프레임', 'status': 1}, {'part': '프레임', 'status': 0}, {'part': '범퍼', 'status': 0}, {'part': '프레임', 'status': 1}, {'part': '프레임', 'status': 1}, {'part': '프레임', 'status': 0}, {'part': '범퍼', 'status': 1}, {'part': '범퍼', 'status': 0}, {'part': '도어', 'status': 0}, {'part': '범퍼', 'status': 1}, {'part': '범퍼', 'status': 1}, {'part': '프레임', 'status': 0}, {'part': '휀더', 'status': 1}, {'part': '도어', 'status': 0}, {'part': '도어', 'status': 1}, {'part': '도어', 'status': 0}, {'part': '도어', 'status': 0}, {'part': '도어', 'status': 1}, {'part': '범퍼', 'status': 1}, {'part': '휀더', 'status': 1}, {'part': '프레임', 'status': 0}, {'part': '프레임', 'status': 1}, {'part': '도어', 'status': 0}, {'part': '도어', 'status': 0}, {'part': '범퍼', 'status': 1}, {'part': '범퍼', 'status': 1}, {'part': '프레임', 'status': 0}, {'part': '도어', 'status': 1}, {'part': '범퍼', 'status': 0}, {'part': '도어', 'status': 1}, {'part': '휀더', 'status': 1}, {'part': '프레임', 'status': 0}, {'part': '도어', 'status': 0}, {'part': '프레임', 'status': 0}, {'part': '도어', 'status': 0}, {'part': '프레임', 'status': 0}, {'part': '도어', 'status': 1}, {'part': '도어', 'status': 0}, {'part': '도어', 'status': 0}, {'part': '휀더', 'status': 1}, {'part': '범퍼', 'status': 1}, {'part': '범퍼', 'status': 0}, {'part': '범퍼', 'status': 0}, {'part': '도어', 'status': 0}, {'part': '범퍼', 'status': 1}, {'part': '프레임', 'status': 1}, {'part': '도어', 'status': 0}, {'part': '범퍼', 'status': 0}, {'part': '휀더', 'status': 0}, {'part': '도어', 'status': 0}, {'part': '프레임', 'status': 1}, {'part': '범퍼', 'status': 0}, {'part': '프레임', 'status': 1}, {'part': '프레임', 'status': 1}, {'part': '범퍼', 'status': 0}, {'part': '프레임', 'status': 0}, {'part': '프레임', 'status': 0}, {'part': '범퍼', 'status': 0}, {'part': '도어', 'status': 0}, {'part': '프레임', 'status': 1}, {'part': '범퍼', 'status': 0}, {'part': '도어', 'status': 1}, {'part': '도어', 'status': 0}, {'part': '휀더', 'status': 1}, {'part': '도어', 'status': 1}, {'part': '도어', 'status': 0}, {'part': '프레임', 'status': 0}, {'part': '휀더', 'status': 0}, {'part': '프레임', 'status': 1}, {'part': '프레임', 'status': 1}, {'part': '프레임', 'status': 0}, {'part': '도어', 'status': 1}, {'part': '프레임', 'status': 1}, {'part': '도어', 'status': 1}, {'part': '휀더', 'status': 0}, {'part': '도어', 'status': 0}, {'part': '프레임', 'status': 0}, {'part': '도어', 'status': 1}, {'part': '프레임', 'status': 1}, {'part': '도어', 'status': 1}, {'part': '범퍼', 'status': 1}, {'part': '범퍼', 'status': 0}, {'part': '프레임', 'status': 0}, {'part': '휀더', 'status': 0}, {'part': '범퍼', 'status': 1}, {'part': '프레임', 'status': 0}, {'part': '범퍼', 'status': 0}, {'part': '범퍼', 'status': 1}, {'part': '프레임', 'status': 1}, {'part': '도어', 'status': 1}, {'part': '프레임', 'status': 0}, {'part': '프레임', 'status': 0}, {'part': '휀더', 'status': 0}, {'part': '범퍼', 'status': 0}, {'part': '도어', 'status': 0}, {'part': '도어', 'status': 0}, {'part': '도어', 'status': 0}, {'part': '도어', 'status': 1}, {'part': '프레임', 'status': 1}, {'part': '도어', 'status': 1}, {'part': '프레임', 'status': 0}, {'part': '휀더', 'status': 1}, {'part': '범퍼', 'status': 0}, {'part': '휀더', 'status': 1}, {'part': '범퍼', 'status': 0}, {'part': '프레임', 'status': 0}, {'part': '도어', 'status': 0}, {'part': '휀더', 'status': 1}, {'part': '프레임', 'status': 0}, {'part': '도어', 'status': 1}, {'part': '도어', 'status': 1}, {'part': '범퍼', 'status': 0}, {'part': '도어', 'status': 0}, {'part': '범퍼', 'status': 0}, {'part': '도어', 'status': 1}, {'part': '프레임', 'status': 0}, {'part': '프레임', 'status': 0}, {'part': '휀더', 'status': 0}, {'part': '프레임', 'status': 1}, {'part': '프레임', 'status': 0}, {'part': '프레임', 'status': 0}, {'part': '프레임', 'status': 1}, {'part': '범퍼', 'status': 0}, {'part': '범퍼', 'status': 0}, {'part': '프레임', 'status': 1}, {'part': '프레임', 'status': 1}, {'part': '프레임', 'status': 0}, {'part': '도어', 'status': 0}, {'part': '도어', 'status': 1}, {'part': '프레임', 'status': 1}, {'part': '프레임', 'status': 0}, {'part': '범퍼', 'status': 1}, {'part': '도어', 'status': 0}, {'part': '도어', 'status': 1}, {'part': '도어', 'status': 1}, {'part': '도어', 'status': 0}, {'part': '도어', 'status': 1}, {'part': '범퍼', 'status': 0}, {'part': '범퍼', 'status': 0}, {'part': '도어', 'status': 1}, {'part': '프레임', 'status': 0}, {'part': '도어', 'status': 1}, {'part': '범퍼', 'status': 0}, {'part': '범퍼', 'status': 1}, {'part': '프레임', 'status': 1}, {'part': '프레임', 'status': 1}, {'part': '프레임', 'status': 1}, {'part': '도어', 'status': 0}, {'part': '프레임', 'status': 0}, {'part': '휀더', 'status': 1}, {'part': '도어', 'status': 1}, {'part': '휀더', 'status': 1}, {'part': '프레임', 'status': 0}, {'part': '휀더', 'status': 0}, {'part': '범퍼', 'status': 1}]\n",
      "parts_and_status_test : [{'part': '프레임', 'status': 0}, {'part': '범퍼', 'status': 0}, {'part': '프레임', 'status': 0}, {'part': '프레임', 'status': 0}, {'part': '프레임', 'status': 1}, {'part': '프레임', 'status': 0}, {'part': '프레임', 'status': 0}, {'part': '범퍼', 'status': 0}, {'part': '범퍼', 'status': 0}, {'part': '프레임', 'status': 1}, {'part': '프레임', 'status': 1}, {'part': '범퍼', 'status': 1}, {'part': '범퍼', 'status': 0}, {'part': '범퍼', 'status': 0}, {'part': '범퍼', 'status': 0}, {'part': '프레임', 'status': 1}, {'part': '프레임', 'status': 1}, {'part': '프레임', 'status': 0}, {'part': '범퍼', 'status': 0}, {'part': '프레임', 'status': 1}, {'part': '휀더', 'status': 0}, {'part': '휀더', 'status': 0}, {'part': '프레임', 'status': 0}, {'part': '범퍼', 'status': 0}, {'part': '프레임', 'status': 0}, {'part': '도어', 'status': 0}, {'part': '프레임', 'status': 1}, {'part': '휀더', 'status': 1}, {'part': '프레임', 'status': 0}, {'part': '범퍼', 'status': 0}, {'part': '범퍼', 'status': 1}, {'part': '범퍼', 'status': 0}, {'part': '범퍼', 'status': 1}, {'part': '휀더', 'status': 1}, {'part': '도어', 'status': 0}, {'part': '프레임', 'status': 1}, {'part': '범퍼', 'status': 1}, {'part': '범퍼', 'status': 1}, {'part': '도어', 'status': 0}, {'part': '프레임', 'status': 0}, {'part': '범퍼', 'status': 0}, {'part': '범퍼', 'status': 0}, {'part': '프레임', 'status': 0}, {'part': '휀더', 'status': 1}, {'part': '범퍼', 'status': 0}, {'part': '휀더', 'status': 0}, {'part': '프레임', 'status': 0}, {'part': '프레임', 'status': 1}, {'part': '프레임', 'status': 1}, {'part': '도어', 'status': 0}, {'part': '프레임', 'status': 0}, {'part': '프레임', 'status': 0}, {'part': '도어', 'status': 1}, {'part': '범퍼', 'status': 0}, {'part': '휀더', 'status': 1}, {'part': '도어', 'status': 0}, {'part': '휀더', 'status': 0}, {'part': '프레임', 'status': 0}, {'part': '범퍼', 'status': 0}]\n",
      "parts_and_status_valid : [{'part': '프레임', 'status': 1}, {'part': '프레임', 'status': 0}, {'part': '휀더', 'status': 0}, {'part': '프레임', 'status': 0}, {'part': '범퍼', 'status': 0}, {'part': '프레임', 'status': 0}, {'part': '프레임', 'status': 1}, {'part': '도어', 'status': 0}, {'part': '프레임', 'status': 1}, {'part': '프레임', 'status': 0}, {'part': '프레임', 'status': 1}, {'part': '프레임', 'status': 1}, {'part': '도어', 'status': 0}, {'part': '도어', 'status': 1}, {'part': '프레임', 'status': 0}, {'part': '휀더', 'status': 1}, {'part': '범퍼', 'status': 0}, {'part': '프레임', 'status': 0}, {'part': '도어', 'status': 1}, {'part': '범퍼', 'status': 0}, {'part': '프레임', 'status': 1}, {'part': '프레임', 'status': 1}, {'part': '도어', 'status': 1}, {'part': '범퍼', 'status': 0}, {'part': '프레임', 'status': 0}, {'part': '범퍼', 'status': 0}, {'part': '도어', 'status': 0}, {'part': '도어', 'status': 0}, {'part': '프레임', 'status': 0}, {'part': '휀더', 'status': 1}, {'part': '프레임', 'status': 0}, {'part': '휀더', 'status': 1}, {'part': '휀더', 'status': 1}, {'part': '범퍼', 'status': 0}, {'part': '프레임', 'status': 1}, {'part': '범퍼', 'status': 0}, {'part': '휀더', 'status': 1}, {'part': '도어', 'status': 0}, {'part': '도어', 'status': 0}, {'part': '프레임', 'status': 1}, {'part': '도어', 'status': 0}, {'part': '프레임', 'status': 1}, {'part': '도어', 'status': 0}, {'part': '범퍼', 'status': 1}, {'part': '프레임', 'status': 1}, {'part': '휀더', 'status': 0}, {'part': '범퍼', 'status': 0}]\n",
      "train 라벨링 결과 : [6, 4, 6, 0, 1, 3, 6, 6, 6, 5, 1, 3, 5, 7, 7, 7, 0, 2, 6, 1, 7, 3, 6, 2, 2, 7, 2, 7, 7, 7, 6, 1, 5, 6, 7, 1, 6, 6, 7, 0, 1, 3, 0, 0, 7, 4, 3, 2, 3, 3, 2, 0, 4, 7, 6, 3, 3, 0, 0, 7, 2, 1, 2, 4, 7, 3, 7, 3, 7, 2, 3, 3, 4, 0, 1, 1, 3, 0, 6, 3, 1, 5, 3, 6, 1, 6, 6, 1, 7, 7, 1, 3, 6, 1, 2, 3, 4, 2, 3, 7, 5, 6, 6, 7, 2, 6, 2, 5, 3, 7, 2, 6, 2, 0, 1, 7, 5, 0, 7, 1, 0, 6, 2, 7, 7, 5, 1, 3, 3, 3, 2, 6, 2, 7, 4, 1, 4, 1, 7, 3, 4, 7, 2, 2, 1, 3, 1, 2, 7, 7, 5, 6, 7, 7, 6, 1, 1, 6, 6, 7, 3, 2, 6, 7, 0, 3, 2, 2, 3, 2, 1, 1, 2, 7, 2, 1, 0, 6, 6, 6, 3, 7, 4, 2, 4, 7, 5, 0]\n",
      "valid 라벨링 결과 : [6, 7, 5, 7, 1, 7, 6, 3, 6, 7, 6, 6, 3, 2, 7, 4, 1, 7, 2, 1, 6, 6, 2, 1, 7, 1, 3, 3, 7, 4, 7, 4, 4, 1, 6, 1, 4, 3, 3, 6, 3, 6, 3, 0, 6, 5, 1]\n",
      "test 라벨링 결과 : [7, 1, 7, 7, 6, 7, 7, 1, 1, 6, 6, 0, 1, 1, 1, 6, 6, 7, 1, 6, 5, 5, 7, 1, 7, 3, 6, 4, 7, 1, 0, 1, 0, 4, 3, 6, 0, 0, 3, 7, 1, 1, 7, 4, 1, 5, 7, 6, 6, 3, 7, 7, 2, 1, 4, 3, 5, 7, 1]\n"
     ]
    }
   ],
   "source": [
    "# 부품 상태를 체크하는 함수\n",
    "def get_label(part, status):\n",
    "    if part == \"범퍼\":\n",
    "        if status == 1:\n",
    "            return 0\n",
    "        elif status == 0:\n",
    "            return 1\n",
    "    elif part == \"도어\":\n",
    "        if status == 1:\n",
    "            return 2\n",
    "        elif status == 0:\n",
    "            return 3\n",
    "    elif part == \"휀더\":\n",
    "        if status == 1:\n",
    "            return 4\n",
    "        elif status == 0:\n",
    "            return 5\n",
    "    elif part == \"프레임\":\n",
    "        if status == 1:\n",
    "            return 6\n",
    "        elif status == 0:\n",
    "            return 7\n",
    "    return None  # 기본적으로 반환할 값이 없으면 None\n",
    "\n",
    "\n",
    "# 예시 부품과 상태\n",
    "parts_and_status_train = []\n",
    "parts_and_status_valid = []\n",
    "parts_and_status_test = []\n",
    "for quality, part in zip(train_test_20.iloc[:, 1], train_test_20.iloc[:, 2]):\n",
    "    parts_and_status_train.append({\"part\": part, \"status\": quality})\n",
    "\n",
    "for quality, part in zip(test_test_20.iloc[:, 1], test_test_20.iloc[:, 2]):\n",
    "    parts_and_status_test.append({\"part\": part, \"status\": quality})\n",
    "\n",
    "for quality, part in zip(valid_test_20.iloc[:, 1], valid_test_20.iloc[:, 2]):\n",
    "    parts_and_status_valid.append({\"part\": part, \"status\": quality})\n",
    "\n",
    "print(f\"parts_and_status_train : {parts_and_status_train}\")\n",
    "print(f\"parts_and_status_test : {parts_and_status_test}\")\n",
    "print(f\"parts_and_status_valid : {parts_and_status_valid}\")\n",
    "\n",
    "# 라벨링 결과를 저장할 리스트\n",
    "labels_train = []\n",
    "labels_valid = []\n",
    "label_test = []\n",
    "\n",
    "# 각 부품 상태에 대해 라벨을 설정\n",
    "for item in parts_and_status_train:\n",
    "    label = get_label(item[\"part\"], item[\"status\"])\n",
    "    labels_train.append(label)\n",
    "for item in parts_and_status_valid:\n",
    "    label = get_label(item[\"part\"], item[\"status\"])\n",
    "    labels_valid.append(label)\n",
    "for item in parts_and_status_test:\n",
    "    label = get_label(item[\"part\"], item[\"status\"])\n",
    "    label_test.append(label)\n",
    "\n",
    "# # 결과 출력\n",
    "print(\"train 라벨링 결과 :\", labels_train)\n",
    "print(\"valid 라벨링 결과 :\", labels_valid)\n",
    "print(\"test 라벨링 결과 :\", label_test)"
   ]
  },
  {
   "cell_type": "code",
   "execution_count": 16,
   "metadata": {},
   "outputs": [],
   "source": [
    "def convert_to_yolo_format(bbox, label, image_width, image_height):\n",
    "    yolo_labels = []  # 각 이미지에 대한 라벨을 담을 리스트\n",
    "\n",
    "    if not bbox:\n",
    "        # bbox가 비어있으면 기본값으로 라벨을 설정\n",
    "        yolo_labels.append(f\"{label} 0.5 0.5 0.0 0.0\")\n",
    "    else:\n",
    "        # bbox가 있으면 여러 개의 파손 부위를 처리\n",
    "        for x_min, y_min, width, height in bbox:\n",
    "            # YOLO 형식에 맞게 좌표를 정규화\n",
    "            x_center = (x_min + width / 2) / image_width\n",
    "            y_center = (y_min + height / 2) / image_height\n",
    "            norm_width = width / image_width\n",
    "            norm_height = height / image_height\n",
    "            # 정규화된 좌표와 함께 라벨을 저장\n",
    "            yolo_labels.append(f\"{label} {x_center:.6f} {y_center:.6f} {\n",
    "                               norm_width:.6f} {norm_height:.6f}\")\n",
    "\n",
    "    return yolo_labels\n",
    "\n",
    "\n",
    "def save_yolo_labels(output_dir, bboxes, labels, size, names):\n",
    "    # 각 이미지에 대해 라벨을 텍스트 파일로 저장\n",
    "    for bbox, label, (w, h), name in zip(bboxes, labels, size, names):\n",
    "        yolo_labels = convert_to_yolo_format(bbox, label, w, h)\n",
    "\n",
    "        # 라벨을 .txt 파일로 저장\n",
    "        txt_file_path = os.path.join(output_dir, f\"{name}.txt\")\n",
    "        with open(txt_file_path, 'w') as txt_file:\n",
    "            for yolo_data in yolo_labels:\n",
    "                txt_file.write(f\"{yolo_data}\\n\")\n",
    "\n",
    "\n",
    "\n",
    "# 라벨을 저장할 디렉토리\n",
    "train_output_dir = './train/labels'\n",
    "os.makedirs(train_output_dir, exist_ok=True)\n",
    "\n",
    "# YOLO 라벨 저장\n",
    "save_yolo_labels(train_output_dir, train_bboxes, labels_train, train_sizes, train_names)\n",
    "\n",
    "# 라벨을 저장할 디렉토리\n",
    "valid_output_dir = './valid/labels'\n",
    "os.makedirs(valid_output_dir, exist_ok=True)\n",
    "\n",
    "# YOLO 라벨 저장\n",
    "save_yolo_labels(valid_output_dir, valid_bboxes, labels_valid, valid_sizes, valid_names)\n",
    "\n",
    "\n",
    "# 라벨을 저장할 디렉토리\n",
    "test_output_dir = './test/labels'\n",
    "os.makedirs(test_output_dir, exist_ok=True)\n",
    "\n",
    "# YOLO 라벨 저장\n",
    "save_yolo_labels(test_output_dir, test_bboxes, label_test, test_sizes, test_names)"
   ]
  },
  {
   "cell_type": "code",
   "execution_count": 17,
   "metadata": {},
   "outputs": [],
   "source": [
    "# YAML 파일에 저장\n",
    "yaml_data = {\n",
    "    \"train\": \"C:/Users/dawoo/desktop/sf7/coding/pytorch/project/train/images\",\n",
    "    \"test\": \"C:/Users/dawoo/desktop/sf7/coding/pytorch/project/test/images\",\n",
    "    \"val\": \"C:/Users/dawoo/desktop/sf7/coding/pytorch/project/valid/images\",\n",
    "    \"nc\": 8,\n",
    "    \"names\": [\"bumper_ok\",\n",
    "              \"bumper_faulty\",\n",
    "              \"door_ok\",\n",
    "              \"door_faulty\",\n",
    "              \"fender_ok\",\n",
    "              \"fender_faulty\",\n",
    "              \"frame_ok\",\n",
    "              \"frame_faulty\"]\n",
    "}\n",
    "\n",
    "with open(f\"data.yaml\", \"w\") as yaml_file:\n",
    "    yaml.dump(yaml_data, yaml_file, default_flow_style=False, sort_keys=False)\n",
    "\n",
    "# print(\"YAML 파일이 생성되었습니다.\")"
   ]
  },
  {
   "cell_type": "markdown",
   "metadata": {},
   "source": [
    "## 모델 코드 작성"
   ]
  },
  {
   "cell_type": "code",
   "execution_count": null,
   "metadata": {},
   "outputs": [],
   "source": [
    "from ultralytics import YOLO\n",
    "\n",
    "# YOLO 모델 객체 생성\n",
    "model = YOLO(\"yolov8s.pt\")  # 사전 학습된 YOLOv8 모델 로드\n",
    "\n",
    "# 모델 학습 시작\n",
    "results = model.train(\n",
    "    data=\"data.yaml\",       # YAML 파일 경로\n",
    "    epochs=20,              # 학습 에포크 수\n",
    "    imgsz=640,              # 입력 이미지 크기 (기본값: 640)\n",
    "    batch=16,               # 배치 크기\n",
    "    project=\"C:\\\\Users\\\\dawoo\\\\Desktop\\\\SF7\\\\coding\\\\PYTORCH\\\\project\\\\YOLO\", # 학습 결과를 저장할 프로젝트 이름\n",
    "    name=\"part_damage_detection\",   # 저장될 실행 이름\n",
    "    workers=4,              # 데이터 로드 병렬 처리 수\n",
    "    device=0                # GPU ID (0은 첫 번째 GPU를 의미, -1은 CPU)\n",
    ")\n"
   ]
  },
  {
   "cell_type": "code",
   "execution_count": null,
   "metadata": {},
   "outputs": [],
   "source": [
    "# 모델 평가\n",
    "metrics = model.val()"
   ]
  },
  {
   "cell_type": "code",
   "execution_count": null,
   "metadata": {},
   "outputs": [],
   "source": [
    "# 단일 이미지 추론\n",
    "results = model(\"C:\\\\Users\\\\dawoo\\\\desktop\\\\sf7\\\\coding\\\\pytorch\\\\project\\\\valid\\\\images\\\\207_102_10_6820e837-ab58-4649-817d-83ab59fab0f2.jpg\")\n",
    "\n",
    "# 추론 결과 시각화\n",
    "results.show()  # 결과를 이미지로 보여줌\n",
    "results.save()  # 결과를 저장"
   ]
  },
  {
   "cell_type": "code",
   "execution_count": null,
   "metadata": {},
   "outputs": [],
   "source": []
  },
  {
   "cell_type": "markdown",
   "metadata": {},
   "source": [
    "## 손실 그래프"
   ]
  },
  {
   "cell_type": "code",
   "execution_count": null,
   "metadata": {},
   "outputs": [],
   "source": [
    "# loss function\n",
    "import matplotlib.pyplot as plt\n",
    "\n",
    "# 손실 감소 그래프\n",
    "plt.subplot(1, 2, 1)\n",
    "plt.plot(losses)\n",
    "plt.grid()\n",
    "plt.title('Loss over Epochs')\n",
    "plt.xlabel('epoch')\n",
    "plt.ylabel('Loss')"
   ]
  },
  {
   "cell_type": "markdown",
   "metadata": {},
   "source": [
    "## 데이터 검증"
   ]
  },
  {
   "cell_type": "code",
   "execution_count": null,
   "metadata": {},
   "outputs": [],
   "source": [
    "## data evaluation\n",
    "\n",
    "from sklearn.metrics import accuracy_score, precision_score, recall_score, confusion_matrix, roc_curve, roc_auc_score\n",
    "pred=model(y_test)\n",
    "\n",
    "\n",
    "# 혼동 행렬\n",
    "confmat = confusion_matrix(y_true=y_test, y_pred=pred)\n",
    "print('혼동 행렬: ', confmat)\n",
    "\n",
    "\n",
    "# 정확도\n",
    "accuracy=accuracy_score(y_true=y_test, y_pred=pred)\n",
    "print('정확도: ', accuracy)\n",
    "\n",
    "\n",
    "# 정밀도(precision)\n",
    "precision = precision_score(y_true=y_test, y_pred=pred)\n",
    "print('정밀도: ', precision)\n",
    "\n",
    "\n",
    "# 재현율(recall)\n",
    "recall = recall_score(y_true=y_test, y_pred=pred)\n",
    "print('재현율: ', recall)\n",
    "\n",
    "\n",
    "# roc auc\n",
    "fpr, tpr, _ = roc_curve(y_true=y_test, y_pred=pred)\n",
    "\n",
    "plt.plot(fpr, tpr)\n",
    "plt.xlabel('FP Rate')\n",
    "plt.ylabel('TP Rate')\n",
    "\n",
    "plt.show()\n",
    "\n",
    "print('auc 점수: ', roc_auc_score(y_test, pred))"
   ]
  }
 ],
 "metadata": {
  "kernelspec": {
   "display_name": "pytorch-env",
   "language": "python",
   "name": "python3"
  },
  "language_info": {
   "codemirror_mode": {
    "name": "ipython",
    "version": 3
   },
   "file_extension": ".py",
   "mimetype": "text/x-python",
   "name": "python",
   "nbconvert_exporter": "python",
   "pygments_lexer": "ipython3",
   "version": "3.12.0"
  }
 },
 "nbformat": 4,
 "nbformat_minor": 2
}
