{
 "cells": [
  {
   "cell_type": "code",
   "execution_count": 1,
   "metadata": {},
   "outputs": [],
   "source": [
    "\n",
    "import pandas as pd\n",
    "import numpy as np\n",
    "from numpy import random\n",
    "from sklearn.model_selection import train_test_split\n",
    "import ast\n",
    "import os\n",
    "from PIL import Image\n",
    "import yaml"
   ]
  },
  {
   "cell_type": "code",
   "execution_count": 2,
   "metadata": {},
   "outputs": [
    {
     "name": "stdout",
     "output_type": "stream",
     "text": [
      "학습 데이터 개수: 5904\n",
      "검증 데이터 개수: 1477\n"
     ]
    }
   ],
   "source": [
    "# CSV 파일 로드\n",
    "\n",
    "\n",
    "def load_data_with_pandas(file_path):\n",
    "    data = pd.read_csv(file_path)\n",
    "    return data\n",
    "\n",
    "\n",
    "# 데이터 로드\n",
    "data_bumper = load_data_with_pandas(\n",
    "    './data/data/output/bumper/bumper_data.csv')\n",
    "data_door_ed = load_data_with_pandas(\n",
    "    './data/data/output/door/door_ed_data.csv')\n",
    "data_door_scratch = load_data_with_pandas(\n",
    "    './data/data/output/door/door_scratch_data.csv')\n",
    "data_fender = load_data_with_pandas(\n",
    "    './data/data/output/fender/fender_ed_data.csv')\n",
    "data_frame_ed = load_data_with_pandas(\n",
    "    './data/data/output/frame/frame_ed_data.csv')\n",
    "data_frame_hd = load_data_with_pandas(\n",
    "    './data/data/output/frame/frame_hd_data.csv')\n",
    "data_frame_sealf = load_data_with_pandas(\n",
    "    './data/data/output/frame/frame_sealf_data.csv')\n",
    "data_frame_seamf = load_data_with_pandas(\n",
    "    './data/data/output/frame/frame_seamf_data.csv')\n",
    "\n",
    "# 데이터 결합\n",
    "data = pd.concat([\n",
    "    data_bumper,\n",
    "    data_door_ed,\n",
    "    data_door_scratch,\n",
    "    data_fender,\n",
    "    data_frame_ed,\n",
    "    data_frame_hd,\n",
    "    data_frame_sealf,\n",
    "    data_frame_seamf\n",
    "], axis=0)\n",
    "\n",
    "# data.to_csv('./data/data.csv', index=False)\n",
    "\n",
    "# 학습 데이터와 검증 데이터로 나누기 (Stratified Sampling)\n",
    "# y에는 라벨, x에는 나머지 특성 정보\n",
    "# x = data.drop('quality', axis=1)  # 'label' 컬럼은 실제 클래스 라벨이 들어있는 컬럼\n",
    "y = data['quality']\n",
    "\n",
    "# Stratified Split: 학습 데이터와 검증 데이터 비율을 80:20으로 설정, 클래스 비율을 유지\n",
    "train_data, valid_data = train_test_split(\n",
    "    data, test_size=0.2, stratify=y, random_state=55)\n",
    "\n",
    "# CSV로 저장\n",
    "train_data.to_csv('./data/train_data.csv', index=False)\n",
    "valid_data.to_csv('./data/valid_data.csv', index=False)\n",
    "\n",
    "# 결과 출력\n",
    "print(f\"학습 데이터 개수: {len(train_data)}\")\n",
    "print(f\"검증 데이터 개수: {len(valid_data)}\")"
   ]
  },
  {
   "cell_type": "code",
   "execution_count": 3,
   "metadata": {},
   "outputs": [],
   "source": [
    "# # 빈 리스트의 개수를 세는 코드\n",
    "# empty_bbox_count = sum(1 for bbox in train_data[\"bboxes\"] if bbox == '[]')\n",
    "\n",
    "# # 결과 출력\n",
    "# print(f\"빈 리스트의 개수: {empty_bbox_count}\")\n",
    "\n",
    "\n",
    "# # 리스트의 개수를 세는 코드\n",
    "# bbox_count = sum(1 for bbox in train_data[\"bboxes\"] if not bbox == '[]')\n",
    "\n",
    "# # 결과 출력\n",
    "# print(f\"리스트의 개수: {bbox_count}\")\n",
    "\n"
   ]
  },
  {
   "cell_type": "markdown",
   "metadata": {},
   "source": [
    "# 테스트 데이터"
   ]
  },
  {
   "cell_type": "code",
   "execution_count": 4,
   "metadata": {},
   "outputs": [],
   "source": [
    "# Step 1: 학습 데이터에서 20% 추출\n",
    "train_20, _ = train_test_split(train_data, test_size=0.8, random_state=35)\n",
    "\n",
    "# Step 2: 검증 데이터에서 20% 추출\n",
    "valid_20, _ = train_test_split(valid_data, test_size=0.8, random_state=35)\n",
    "\n",
    "# Step 3: 각각의 20%에서 다시 20% 추출 (성능 검증용 데이터 생성)\n",
    "train_test_20, _ = train_test_split(train_20, test_size=0.8, random_state=42)  # 학습 데이터 20%에서 20% 추출\n",
    "valid_test_20, _ = train_test_split(valid_20, test_size=0.8, random_state=42)  # 검증 데이터 20%에서 20% 추출\n",
    "\n",
    "# CSV로 저장\n",
    "train_test_20.to_csv('./data/test/train_test_20.csv', index=False)\n",
    "valid_test_20.to_csv('./data/test/valid_test_20.csv', index=False)\n"
   ]
  },
  {
   "cell_type": "code",
   "execution_count": 5,
   "metadata": {},
   "outputs": [
    {
     "name": "stdout",
     "output_type": "stream",
     "text": [
      "236\n"
     ]
    }
   ],
   "source": [
    "print(len(train_test_20))"
   ]
  },
  {
   "cell_type": "code",
   "execution_count": 6,
   "metadata": {},
   "outputs": [],
   "source": [
    "# 이미지 복사\n",
    "import shutil\n",
    "\n",
    "def copy_images(data, output_dir):\n",
    "    image_dir = os.path.join(output_dir, 'images')\n",
    "    os.makedirs(image_dir, exist_ok=True)\n",
    "\n",
    "    for index, row in data.iterrows():\n",
    "        image_path = row['path']\n",
    "        shutil.copy(image_path, image_dir)\n",
    "\n",
    "\n",
    "# 학습 데이터와 검증 데이터를 각각 처리\n",
    "copy_images(train_test_20, './train')\n",
    "copy_images(valid_test_20, './valid')"
   ]
  },
  {
   "cell_type": "code",
   "execution_count": 7,
   "metadata": {},
   "outputs": [
    {
     "name": "stdout",
     "output_type": "stream",
     "text": [
      "236\n"
     ]
    }
   ],
   "source": [
    "print(len(train_test_20))"
   ]
  },
  {
   "cell_type": "markdown",
   "metadata": {},
   "source": [
    "### bboxes 데이터 추출"
   ]
  },
  {
   "cell_type": "code",
   "execution_count": 8,
   "metadata": {},
   "outputs": [
    {
     "name": "stdout",
     "output_type": "stream",
     "text": [
      "[[[2305.3953488372094, 644.6511627906976, 558.6976744186047, 233.30232558139537]], [[1062.7009664036666, 929.466618422309, 1754.4165579313199, 255.92260313457723]], [[1488.5581395348836, 1012.5276073619633, 808.7441860465119, 251.6687116564416]], [], [[1483.439402095895, 918.8834355828221, 479.81641185759327, 134.6134969325151]]]\n",
      "[[[1780.3282928673666, 702.7805816986404, 604.8810094582147, 210.7061323385657]], [[1760.4836851607922, 678.9202453987729, 996.2790697674418, 298.49079754601223]], [[1594.046511627907, 784.9806451612903, 720.8372093023255, 193.31612903225806]], [], [[946.7289634630656, 1612.6145009810286, 152.71064846121396, 162.55190492641364]]]\n"
     ]
    }
   ],
   "source": [
    "import ast\n",
    "\n",
    "def parse_bboxes(data):\n",
    "    \"\"\"\n",
    "    문자열 형태의 bounding box 정보를 파싱하여 리스트 형태로 변환하는 함수\n",
    "\n",
    "    Args:\n",
    "        data: 파싱할 데이터셋\n",
    "\n",
    "    Returns:\n",
    "        list: 파싱된 bounding box 리스트\n",
    "    \"\"\"\n",
    "\n",
    "    bboxes_list = []\n",
    "    for bbox_str in data[\"bboxes\"]:\n",
    "        try:\n",
    "            bboxes = ast.literal_eval(bbox_str)\n",
    "            bbox_list = []\n",
    "            for bbox in bboxes:\n",
    "                x, y, w, h = bbox\n",
    "                bbox_list.append([x, y, w, h])\n",
    "            bboxes_list.append(bbox_list)\n",
    "        except (ValueError, SyntaxError) as e:\n",
    "            print(f\"Error parsing bbox: {e}\")\n",
    "    return bboxes_list\n",
    "\n",
    "# 데이터셋별 bounding box 파싱\n",
    "train_bboxes = parse_bboxes(train_test_20)\n",
    "valid_bboxes = parse_bboxes(valid_test_20)\n",
    "\n",
    "# 결과 출력 (예시)\n",
    "print(train_bboxes[:5])\n",
    "print(valid_bboxes[:5])"
   ]
  },
  {
   "cell_type": "markdown",
   "metadata": {},
   "source": [
    "# .yaml label 데이터 생성"
   ]
  },
  {
   "cell_type": "markdown",
   "metadata": {},
   "source": [
    "### 1. 디렉토리 경로 전처리"
   ]
  },
  {
   "cell_type": "code",
   "execution_count": 9,
   "metadata": {},
   "outputs": [
    {
     "name": "stdout",
     "output_type": "stream",
     "text": [
      "Train 이미지 크기: [(4224, 2376), (4032, 1960), (4032, 1908), (4032, 1908), (4032, 1908)]\n",
      "Train 이미지 디렉토리: ['.\\\\data\\\\data\\\\source_data\\\\door\\\\Exterior_damage\\\\', '.\\\\data\\\\data\\\\source_data\\\\frame\\\\Seam_failure\\\\', '.\\\\data\\\\data\\\\source_data\\\\bumper\\\\scratch\\\\', '.\\\\data\\\\data\\\\source_data\\\\door\\\\scratch\\\\', '.\\\\data\\\\data\\\\source_data\\\\bumper\\\\scratch\\\\']\n",
      "Train 파일 이름: ['204_102_20_6d79e1bc-442e-45d6-bd7f-a09baeefee49', '207_212_20_33af8e26-7021-421c-88fe-683c37c5e565', '205_101_20_d7504074-f53e-4c44-84ec-636e61f902ac', '204_101_10_5620de38-ef45-4fb1-a051-4067b7704f1c', '205_101_20_05b4b1a5-6a7a-4e68-bdb5-17316ae94eb4']\n",
      "\n",
      "Validation 이미지 크기: [(4032, 1908), (4032, 1908), (4032, 1816), (4224, 2376), (2448, 2048)]\n",
      "Validation 이미지 디렉토리: ['.\\\\data\\\\data\\\\source_data\\\\door\\\\Exterior_damage\\\\', '.\\\\data\\\\data\\\\source_data\\\\frame\\\\Seam_failure\\\\', '.\\\\data\\\\data\\\\source_data\\\\frame\\\\Seam_failure\\\\', '.\\\\data\\\\data\\\\source_data\\\\door\\\\scratch\\\\', '.\\\\data\\\\data\\\\source_data\\\\frame/Hole_distortion\\\\']\n",
      "Validation 파일 이름: ['204_102_20_019dc27d-2034-44b5-aea2-d519c5209082', '207_212_20_6a95d860-be29-4937-a4fd-af7e34afbf78', '207_212_20_c7b748a2-d95d-4754-9a26-8bb37da1d57d', '204_101_10_2922bb55-cd6d-4b1f-b717-d6829c434df8', '207_213_10_ed398417-76ef-4485-8bc2-d9b8a9378d7c']\n"
     ]
    }
   ],
   "source": [
    "import os\n",
    "from PIL import Image\n",
    "\n",
    "\n",
    "def extract_image_info(image_paths):\n",
    "    \"\"\"\n",
    "    이미지 경로 리스트에서 이미지 크기, 디렉토리 경로, 파일 이름을 추출하는 함수\n",
    "\n",
    "    Args:\n",
    "        image_paths (list): 이미지 경로 리스트\n",
    "\n",
    "    Returns:\n",
    "        tuple: (image_sizes, image_dirs, file_names)\n",
    "            image_sizes (list): 이미지 크기 리스트\n",
    "            image_dirs (list): 이미지 디렉토리 경로 리스트\n",
    "            file_names (list): 이미지 파일 이름 리스트\n",
    "    \"\"\"\n",
    "\n",
    "    image_sizes = []\n",
    "    image_dirs = []\n",
    "    file_names = []\n",
    "\n",
    "    for path in image_paths:\n",
    "        try:\n",
    "            image = Image.open(path)\n",
    "            width, height = image.size\n",
    "            image_sizes.append((width, height))\n",
    "            image_dirs.append(os.path.dirname(path) + os.sep)\n",
    "            file_names.append(os.path.splitext(os.path.basename(path))[0])\n",
    "        except FileNotFoundError:\n",
    "            print(f\"파일을 찾을 수 없습니다: {path}\")\n",
    "\n",
    "    return image_sizes, image_dirs, file_names\n",
    "\n",
    "\n",
    "# 데이터 준비 (예시)\n",
    "train_image_paths = train_test_20.iloc[:, 0].tolist()\n",
    "valid_image_paths = valid_test_20.iloc[:, 0].tolist()\n",
    "\n",
    "# 이미지 정보 추출\n",
    "train_sizes, train_dirs, train_names = extract_image_info(train_image_paths)\n",
    "valid_sizes, valid_dirs, valid_names = extract_image_info(valid_image_paths)\n",
    "\n",
    "# 결과 출력\n",
    "print(\"Train 이미지 크기:\", train_sizes[:5])\n",
    "print(\"Train 이미지 디렉토리:\", train_dirs[:5])\n",
    "print(\"Train 파일 이름:\", train_names[:5])\n",
    "print()\n",
    "print(\"Validation 이미지 크기:\", valid_sizes[:5])\n",
    "print(\"Validation 이미지 디렉토리:\", valid_dirs[:5])\n",
    "print(\"Validation 파일 이름:\", valid_names[:5])"
   ]
  },
  {
   "cell_type": "markdown",
   "metadata": {},
   "source": [
    "### 3. 부품 상태 전처리"
   ]
  },
  {
   "cell_type": "code",
   "execution_count": 10,
   "metadata": {},
   "outputs": [
    {
     "name": "stdout",
     "output_type": "stream",
     "text": [
      "[{'part': '도어', 'status': 0}, {'part': '프레임', 'status': 0}, {'part': '범퍼', 'status': 0}, {'part': '도어', 'status': 1}, {'part': '범퍼', 'status': 0}, {'part': '범퍼', 'status': 0}, {'part': '도어', 'status': 1}, {'part': '프레임', 'status': 0}, {'part': '범퍼', 'status': 1}, {'part': '프레임', 'status': 0}, {'part': '도어', 'status': 1}, {'part': '범퍼', 'status': 0}, {'part': '프레임', 'status': 1}, {'part': '범퍼', 'status': 0}, {'part': '프레임', 'status': 1}, {'part': '프레임', 'status': 1}, {'part': '프레임', 'status': 1}, {'part': '프레임', 'status': 1}, {'part': '프레임', 'status': 1}, {'part': '도어', 'status': 0}, {'part': '범퍼', 'status': 0}, {'part': '범퍼', 'status': 0}, {'part': '프레임', 'status': 1}, {'part': '도어', 'status': 1}, {'part': '프레임', 'status': 0}, {'part': '프레임', 'status': 1}, {'part': '범퍼', 'status': 0}, {'part': '프레임', 'status': 0}, {'part': '도어', 'status': 1}, {'part': '프레임', 'status': 0}, {'part': '프레임', 'status': 0}, {'part': '도어', 'status': 0}, {'part': '휀더', 'status': 1}, {'part': '프레임', 'status': 1}, {'part': '범퍼', 'status': 0}, {'part': '프레임', 'status': 0}, {'part': '휀더', 'status': 1}, {'part': '휀더', 'status': 0}, {'part': '프레임', 'status': 0}, {'part': '프레임', 'status': 1}, {'part': '범퍼', 'status': 0}, {'part': '범퍼', 'status': 0}, {'part': '범퍼', 'status': 1}, {'part': '프레임', 'status': 0}, {'part': '도어', 'status': 1}, {'part': '프레임', 'status': 1}, {'part': '도어', 'status': 1}, {'part': '도어', 'status': 1}, {'part': '범퍼', 'status': 1}, {'part': '도어', 'status': 1}, {'part': '범퍼', 'status': 0}, {'part': '프레임', 'status': 0}, {'part': '도어', 'status': 1}, {'part': '도어', 'status': 1}, {'part': '휀더', 'status': 1}, {'part': '프레임', 'status': 1}, {'part': '프레임', 'status': 1}, {'part': '프레임', 'status': 1}, {'part': '프레임', 'status': 1}, {'part': '도어', 'status': 0}, {'part': '도어', 'status': 0}, {'part': '범퍼', 'status': 1}, {'part': '도어', 'status': 1}, {'part': '범퍼', 'status': 0}, {'part': '범퍼', 'status': 0}, {'part': '범퍼', 'status': 0}, {'part': '프레임', 'status': 0}, {'part': '도어', 'status': 1}, {'part': '프레임', 'status': 1}, {'part': '프레임', 'status': 0}, {'part': '프레임', 'status': 0}, {'part': '도어', 'status': 1}, {'part': '도어', 'status': 0}, {'part': '프레임', 'status': 1}, {'part': '도어', 'status': 0}, {'part': '범퍼', 'status': 0}, {'part': '범퍼', 'status': 0}, {'part': '범퍼', 'status': 0}, {'part': '범퍼', 'status': 0}, {'part': '프레임', 'status': 0}, {'part': '프레임', 'status': 0}, {'part': '도어', 'status': 1}, {'part': '범퍼', 'status': 0}, {'part': '범퍼', 'status': 0}, {'part': '프레임', 'status': 0}, {'part': '프레임', 'status': 1}, {'part': '프레임', 'status': 1}, {'part': '범퍼', 'status': 0}, {'part': '범퍼', 'status': 0}, {'part': '범퍼', 'status': 0}, {'part': '휀더', 'status': 1}, {'part': '도어', 'status': 0}, {'part': '범퍼', 'status': 1}, {'part': '프레임', 'status': 1}, {'part': '프레임', 'status': 0}, {'part': '프레임', 'status': 1}, {'part': '프레임', 'status': 0}, {'part': '프레임', 'status': 1}, {'part': '범퍼', 'status': 1}, {'part': '휀더', 'status': 1}, {'part': '프레임', 'status': 0}, {'part': '휀더', 'status': 1}, {'part': '프레임', 'status': 0}, {'part': '프레임', 'status': 0}, {'part': '프레임', 'status': 0}, {'part': '범퍼', 'status': 1}, {'part': '프레임', 'status': 0}, {'part': '프레임', 'status': 0}, {'part': '프레임', 'status': 0}, {'part': '프레임', 'status': 0}, {'part': '프레임', 'status': 0}, {'part': '범퍼', 'status': 1}, {'part': '범퍼', 'status': 0}, {'part': '프레임', 'status': 1}, {'part': '범퍼', 'status': 0}, {'part': '범퍼', 'status': 0}, {'part': '도어', 'status': 0}, {'part': '도어', 'status': 0}, {'part': '프레임', 'status': 0}, {'part': '프레임', 'status': 0}, {'part': '도어', 'status': 1}, {'part': '범퍼', 'status': 0}, {'part': '도어', 'status': 0}, {'part': '도어', 'status': 0}, {'part': '도어', 'status': 1}, {'part': '범퍼', 'status': 0}, {'part': '범퍼', 'status': 1}, {'part': '프레임', 'status': 0}, {'part': '도어', 'status': 1}, {'part': '프레임', 'status': 0}, {'part': '프레임', 'status': 1}, {'part': '프레임', 'status': 0}, {'part': '도어', 'status': 1}, {'part': '범퍼', 'status': 1}, {'part': '범퍼', 'status': 1}, {'part': '도어', 'status': 0}, {'part': '프레임', 'status': 0}, {'part': '프레임', 'status': 1}, {'part': '프레임', 'status': 0}, {'part': '프레임', 'status': 1}, {'part': '프레임', 'status': 0}, {'part': '프레임', 'status': 1}, {'part': '도어', 'status': 0}, {'part': '도어', 'status': 0}, {'part': '휀더', 'status': 0}, {'part': '범퍼', 'status': 0}, {'part': '프레임', 'status': 0}, {'part': '도어', 'status': 1}, {'part': '범퍼', 'status': 0}, {'part': '프레임', 'status': 1}, {'part': '도어', 'status': 1}, {'part': '프레임', 'status': 1}, {'part': '도어', 'status': 0}, {'part': '프레임', 'status': 1}, {'part': '범퍼', 'status': 0}, {'part': '프레임', 'status': 0}, {'part': '도어', 'status': 0}, {'part': '휀더', 'status': 0}, {'part': '도어', 'status': 0}, {'part': '프레임', 'status': 1}, {'part': '도어', 'status': 0}, {'part': '범퍼', 'status': 1}, {'part': '프레임', 'status': 0}, {'part': '프레임', 'status': 0}, {'part': '프레임', 'status': 0}, {'part': '범퍼', 'status': 0}, {'part': '도어', 'status': 1}, {'part': '도어', 'status': 0}, {'part': '도어', 'status': 0}, {'part': '프레임', 'status': 0}, {'part': '프레임', 'status': 1}, {'part': '범퍼', 'status': 0}, {'part': '휀더', 'status': 1}, {'part': '프레임', 'status': 1}, {'part': '도어', 'status': 0}, {'part': '프레임', 'status': 0}, {'part': '도어', 'status': 1}, {'part': '프레임', 'status': 1}, {'part': '프레임', 'status': 0}, {'part': '범퍼', 'status': 0}, {'part': '프레임', 'status': 1}, {'part': '휀더', 'status': 1}, {'part': '도어', 'status': 1}, {'part': '프레임', 'status': 1}, {'part': '프레임', 'status': 1}, {'part': '프레임', 'status': 1}, {'part': '휀더', 'status': 0}, {'part': '프레임', 'status': 0}, {'part': '범퍼', 'status': 1}, {'part': '범퍼', 'status': 0}, {'part': '범퍼', 'status': 0}, {'part': '범퍼', 'status': 0}, {'part': '휀더', 'status': 0}, {'part': '프레임', 'status': 0}, {'part': '범퍼', 'status': 0}, {'part': '휀더', 'status': 0}, {'part': '도어', 'status': 1}, {'part': '프레임', 'status': 0}, {'part': '프레임', 'status': 0}, {'part': '프레임', 'status': 0}, {'part': '프레임', 'status': 0}, {'part': '프레임', 'status': 0}, {'part': '프레임', 'status': 1}, {'part': '프레임', 'status': 0}, {'part': '도어', 'status': 1}, {'part': '범퍼', 'status': 1}, {'part': '프레임', 'status': 0}, {'part': '프레임', 'status': 1}, {'part': '프레임', 'status': 1}, {'part': '프레임', 'status': 0}, {'part': '프레임', 'status': 0}, {'part': '범퍼', 'status': 1}, {'part': '프레임', 'status': 1}, {'part': '프레임', 'status': 1}, {'part': '프레임', 'status': 1}, {'part': '도어', 'status': 0}, {'part': '범퍼', 'status': 0}, {'part': '프레임', 'status': 1}, {'part': '범퍼', 'status': 0}, {'part': '프레임', 'status': 1}, {'part': '휀더', 'status': 1}, {'part': '프레임', 'status': 0}, {'part': '프레임', 'status': 1}, {'part': '휀더', 'status': 0}, {'part': '프레임', 'status': 0}, {'part': '프레임', 'status': 0}, {'part': '휀더', 'status': 0}, {'part': '휀더', 'status': 0}, {'part': '범퍼', 'status': 0}, {'part': '도어', 'status': 1}, {'part': '프레임', 'status': 0}, {'part': '도어', 'status': 1}, {'part': '도어', 'status': 0}, {'part': '프레임', 'status': 0}, {'part': '범퍼', 'status': 0}, {'part': '범퍼', 'status': 0}]\n",
      "라벨링 결과: [3, 7, 1, 2, 1, 1, 2, 7, 0, 7, 2, 1, 6, 1, 6, 6, 6, 6, 6, 3, 1, 1, 6, 2, 7, 6, 1, 7, 2, 7, 7, 3, 4, 6, 1, 7, 4, 5, 7, 6, 1, 1, 0, 7, 2, 6, 2, 2, 0, 2, 1, 7, 2, 2, 4, 6, 6, 6, 6, 3, 3, 0, 2, 1, 1, 1, 7, 2, 6, 7, 7, 2, 3, 6, 3, 1, 1, 1, 1, 7, 7, 2, 1, 1, 7, 6, 6, 1, 1, 1, 4, 3, 0, 6, 7, 6, 7, 6, 0, 4, 7, 4, 7, 7, 7, 0, 7, 7, 7, 7, 7, 0, 1, 6, 1, 1, 3, 3, 7, 7, 2, 1, 3, 3, 2, 1, 0, 7, 2, 7, 6, 7, 2, 0, 0, 3, 7, 6, 7, 6, 7, 6, 3, 3, 5, 1, 7, 2, 1, 6, 2, 6, 3, 6, 1, 7, 3, 5, 3, 6, 3, 0, 7, 7, 7, 1, 2, 3, 3, 7, 6, 1, 4, 6, 3, 7, 2, 6, 7, 1, 6, 4, 2, 6, 6, 6, 5, 7, 0, 1, 1, 1, 5, 7, 1, 5, 2, 7, 7, 7, 7, 7, 6, 7, 2, 0, 7, 6, 6, 7, 7, 0, 6, 6, 6, 3, 1, 6, 1, 6, 4, 7, 6, 5, 7, 7, 5, 5, 1, 2, 7, 2, 3, 7, 1, 1]\n"
     ]
    }
   ],
   "source": [
    "# 부품 상태를 체크하는 함수\n",
    "def get_label(part, status):\n",
    "    if part == \"범퍼\":\n",
    "        if status == 1:\n",
    "            return 0\n",
    "        elif status == 0:\n",
    "            return 1\n",
    "    elif part == \"도어\":\n",
    "        if status == 1:\n",
    "            return 2\n",
    "        elif status == 0:\n",
    "            return 3\n",
    "    elif part == \"휀더\":\n",
    "        if status == 1:\n",
    "            return 4\n",
    "        elif status == 0:\n",
    "            return 5\n",
    "    elif part == \"프레임\":\n",
    "        if status == 1:\n",
    "            return 6\n",
    "        elif status == 0:\n",
    "            return 7\n",
    "    return None  # 기본적으로 반환할 값이 없으면 None\n",
    "\n",
    "\n",
    "# 예시 부품과 상태\n",
    "parts_and_status = []\n",
    "\n",
    "for quality, part in zip(train_test_20.iloc[:, 1], train_test_20.iloc[:, 2]):\n",
    "    parts_and_status.append({\"part\": part, \"status\": quality})\n",
    "\n",
    "print(parts_and_status)\n",
    "\n",
    "# 라벨링 결과를 저장할 리스트\n",
    "labels = []\n",
    "\n",
    "# 각 부품 상태에 대해 라벨을 설정\n",
    "for item in parts_and_status:\n",
    "    label = get_label(item[\"part\"], item[\"status\"])\n",
    "    labels.append(label)\n",
    "\n",
    "# # 결과 출력\n",
    "print(\"라벨링 결과:\", labels)"
   ]
  },
  {
   "cell_type": "code",
   "execution_count": 22,
   "metadata": {},
   "outputs": [],
   "source": [
    "# def convert_to_yolo_format(bboxes, labels, image_width, image_height):\n",
    "#     yolo_labels = []\n",
    "#     for bbox, label in zip(bboxes, labels):\n",
    "#         if not bbox:\n",
    "#             yolo_labels.append(f\"{label} 0.5 0.5 0.0 0.0\")\n",
    "#         else:\n",
    "#             for x_min, y_min, width, height in bbox:\n",
    "#                 x_center = (x_min + width / 2) / image_width\n",
    "#                 y_center = (y_min + height / 2) / image_height\n",
    "#                 norm_width = width / image_width\n",
    "#                 norm_height = height / image_height\n",
    "#                 yolo_labels.append(f\"{label} {x_center:.6f} {y_center:.6f} {\n",
    "#                                    norm_width:.6f} {norm_height:.6f}\")\n",
    "#     return yolo_labels\n",
    "\n",
    "\n",
    "# for w, h in train_sizes:\n",
    "#     yolo_labels = convert_to_yolo_format(train_bboxes, labels, w, h)\n",
    "# print(yolo_labels)\n",
    "# print(len(yolo_labels))"
   ]
  },
  {
   "cell_type": "code",
   "execution_count": null,
   "metadata": {},
   "outputs": [],
   "source": [
    "def convert_to_yolo_format(bbox, label, image_width, image_height):\n",
    "    yolo_labels = []  # 각 이미지에 대한 라벨을 담을 리스트\n",
    "\n",
    "    if not bbox:\n",
    "        # bbox가 비어있으면 기본값으로 라벨을 설정\n",
    "        yolo_labels.append(f\"{label} 0.5 0.5 0.0 0.0\")\n",
    "    else:\n",
    "        # bbox가 있으면 여러 개의 파손 부위를 처리\n",
    "        for x_min, y_min, width, height in bbox:\n",
    "            # YOLO 형식에 맞게 좌표를 정규화\n",
    "            x_center = (x_min + width / 2) / image_width\n",
    "            y_center = (y_min + height / 2) / image_height\n",
    "            norm_width = width / image_width\n",
    "            norm_height = height / image_height\n",
    "            # 정규화된 좌표와 함께 라벨을 저장\n",
    "            yolo_labels.append(f\"{label} {x_center:.6f} {y_center:.6f} {\n",
    "                               norm_width:.6f} {norm_height:.6f}\")\n",
    "\n",
    "    return yolo_labels\n",
    "\n",
    "\n",
    "def save_yolo_labels(output_dir, bboxes, labels, size, names):\n",
    "    # 각 이미지에 대해 라벨을 텍스트 파일로 저장\n",
    "    for bbox, label, (w, h), name in zip(bboxes, labels, size, names):\n",
    "        yolo_labels = convert_to_yolo_format(bbox, label, w, h)\n",
    "\n",
    "        # 라벨을 .txt 파일로 저장\n",
    "        txt_file_path = os.path.join(output_dir, f\"{name}.txt\")\n",
    "        with open(txt_file_path, 'w') as txt_file:\n",
    "            for yolo_data in yolo_labels:\n",
    "                txt_file.write(f\"{yolo_data}\\n\")\n",
    "\n",
    "\n",
    "\n",
    "# 라벨을 저장할 디렉토리\n",
    "output_dir = './train/labels'\n",
    "os.makedirs(output_dir, exist_ok=True)\n",
    "\n",
    "# YOLO 라벨 저장\n",
    "save_yolo_labels(output_dir, train_bboxes, labels, train_sizes, train_names)"
   ]
  },
  {
   "cell_type": "code",
   "execution_count": 31,
   "metadata": {},
   "outputs": [],
   "source": [
    "def convert_to_yolo_format(bbox, label, image_width, image_height):\n",
    "    yolo_labels = []  # 각 이미지에 대한 라벨을 담을 리스트\n",
    "\n",
    "    if not bbox:\n",
    "        # bbox가 비어있으면 기본값으로 라벨을 설정\n",
    "        yolo_labels.append(f\"{label} 0.5 0.5 0.0 0.0\")\n",
    "    else:\n",
    "        # bbox가 있으면 여러 개의 파손 부위를 처리\n",
    "        for x_min, y_min, width, height in bbox:\n",
    "            # YOLO 형식에 맞게 좌표를 정규화\n",
    "            x_center = (x_min + width / 2) / image_width\n",
    "            y_center = (y_min + height / 2) / image_height\n",
    "            norm_width = width / image_width\n",
    "            norm_height = height / image_height\n",
    "            # 정규화된 좌표와 함께 라벨을 저장\n",
    "            yolo_labels.append(f\"{label} {x_center:.6f} {y_center:.6f} {\n",
    "                               norm_width:.6f} {norm_height:.6f}\")\n",
    "\n",
    "    return yolo_labels\n",
    "\n",
    "\n",
    "def save_yolo_labels(output_dir, bboxes, labels, size, names):\n",
    "    # 각 이미지에 대해 라벨을 텍스트 파일로 저장\n",
    "    for bbox, label, (w, h), name in zip(bboxes, labels, size, names):\n",
    "        yolo_labels = convert_to_yolo_format(bbox, label, w, h)\n",
    "\n",
    "        # 라벨을 .txt 파일로 저장\n",
    "        txt_file_path = os.path.join(output_dir, f\"{name}.txt\")\n",
    "        with open(txt_file_path, 'w') as txt_file:\n",
    "            for yolo_data in yolo_labels:\n",
    "                txt_file.write(f\"{yolo_data}\\n\")\n",
    "\n",
    "\n",
    "# 라벨을 저장할 디렉토리\n",
    "output_dir = './valid/labels'\n",
    "os.makedirs(output_dir, exist_ok=True)\n",
    "\n",
    "# YOLO 라벨 저장\n",
    "save_yolo_labels(output_dir, valid_bboxes, labels, valid_sizes, valid_names)"
   ]
  },
  {
   "cell_type": "code",
   "execution_count": 45,
   "metadata": {},
   "outputs": [],
   "source": [
    "# YAML 파일에 저장\n",
    "yaml_data = {\n",
    "    \"train\": \"C:/Users/dawoo/desktop/sf7/coding/pytorch/project/train/images\",\n",
    "    \"val\": \"C:/Users/dawoo/desktop/sf7/coding/pytorch/project/valid/images\",\n",
    "    \"nc\": 6,\n",
    "    \"names\": [\"bumper_ok\",\n",
    "              \"bumper_faulty\",\n",
    "              \"door_ok\",\n",
    "              \"door_faulty\",\n",
    "              \"fender_ok\",\n",
    "              \"fender_faulty\",\n",
    "              \"frame_ok\",\n",
    "              \"frame_faulty\"]\n",
    "\n",
    "\n",
    "}\n",
    "\n",
    "with open(f\"data.yaml\", \"w\") as yaml_file:\n",
    "    yaml.dump(yaml_data, yaml_file, default_flow_style=False, sort_keys=False)\n",
    "\n",
    "# print(\"YAML 파일이 생성되었습니다.\")"
   ]
  },
  {
   "cell_type": "markdown",
   "metadata": {},
   "source": [
    "## 모델 코드 작성"
   ]
  },
  {
   "cell_type": "code",
   "execution_count": 60,
   "metadata": {},
   "outputs": [
    {
     "ename": "ModuleNotFoundError",
     "evalue": "No module named 'ultralytics'",
     "output_type": "error",
     "traceback": [
      "\u001b[1;31m---------------------------------------------------------------------------\u001b[0m",
      "\u001b[1;31mModuleNotFoundError\u001b[0m                       Traceback (most recent call last)",
      "Cell \u001b[1;32mIn[60], line 1\u001b[0m\n\u001b[1;32m----> 1\u001b[0m \u001b[38;5;28;01mfrom\u001b[39;00m\u001b[38;5;250m \u001b[39m\u001b[38;5;21;01multralytics\u001b[39;00m\u001b[38;5;250m \u001b[39m\u001b[38;5;28;01mimport\u001b[39;00m YOLO\n\u001b[0;32m      2\u001b[0m \u001b[38;5;28;01mimport\u001b[39;00m\u001b[38;5;250m \u001b[39m\u001b[38;5;21;01mcv2\u001b[39;00m\n\u001b[0;32m      3\u001b[0m model \u001b[38;5;241m=\u001b[39m YOLO(\u001b[38;5;124m\"\u001b[39m\u001b[38;5;124myolov8s.pt\u001b[39m\u001b[38;5;124m\"\u001b[39m)\n",
      "\u001b[1;31mModuleNotFoundError\u001b[0m: No module named 'ultralytics'"
     ]
    }
   ],
   "source": [
    "from ultralytics import YOLO\n",
    "import cv2\n",
    "model = YOLO(\"yolov8s.pt\")"
   ]
  },
  {
   "cell_type": "markdown",
   "metadata": {},
   "source": [
    "## 손실 그래프"
   ]
  },
  {
   "cell_type": "code",
   "execution_count": null,
   "metadata": {},
   "outputs": [],
   "source": [
    "# loss function\n",
    "import matplotlib.pyplot as plt\n",
    "\n",
    "# 손실 감소 그래프\n",
    "plt.subplot(1, 2, 1)\n",
    "plt.plot(losses)\n",
    "plt.grid()\n",
    "plt.title('Loss over Epochs')\n",
    "plt.xlabel('epoch')\n",
    "plt.ylabel('Loss')"
   ]
  },
  {
   "cell_type": "markdown",
   "metadata": {},
   "source": [
    "## 데이터 검증"
   ]
  },
  {
   "cell_type": "code",
   "execution_count": null,
   "metadata": {},
   "outputs": [],
   "source": [
    "## data evaluation\n",
    "\n",
    "from sklearn.metrics import accuracy_score, precision_score, recall_score, confusion_matrix, roc_curve, roc_auc_score\n",
    "pred=model(y_test)\n",
    "\n",
    "\n",
    "# 혼동 행렬\n",
    "confmat = confusion_matrix(y_true=y_test, y_pred=pred)\n",
    "print('혼동 행렬: ', confmat)\n",
    "\n",
    "\n",
    "# 정확도\n",
    "accuracy=accuracy_score(y_true=y_test, y_pred=pred)\n",
    "print('정확도: ', accuracy)\n",
    "\n",
    "\n",
    "# 정밀도(precision)\n",
    "precision = precision_score(y_true=y_test, y_pred=pred)\n",
    "print('정밀도: ', precision)\n",
    "\n",
    "\n",
    "# 재현율(recall)\n",
    "recall = recall_score(y_true=y_test, y_pred=pred)\n",
    "print('재현율: ', recall)\n",
    "\n",
    "\n",
    "# roc auc\n",
    "fpr, tpr, _ = roc_curve(y_true=y_test, y_pred=pred)\n",
    "\n",
    "plt.plot(fpr, tpr)\n",
    "plt.xlabel('FP Rate')\n",
    "plt.ylabel('TP Rate')\n",
    "\n",
    "plt.show()\n",
    "\n",
    "print('auc 점수: ', roc_auc_score(y_test, pred))"
   ]
  }
 ],
 "metadata": {
  "kernelspec": {
   "display_name": "pytorch-env",
   "language": "python",
   "name": "python3"
  },
  "language_info": {
   "codemirror_mode": {
    "name": "ipython",
    "version": 3
   },
   "file_extension": ".py",
   "mimetype": "text/x-python",
   "name": "python",
   "nbconvert_exporter": "python",
   "pygments_lexer": "ipython3",
   "version": "3.12.0"
  }
 },
 "nbformat": 4,
 "nbformat_minor": 2
}
