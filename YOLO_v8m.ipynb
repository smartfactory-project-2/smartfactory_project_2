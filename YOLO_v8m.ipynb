{
  "cells": [
    {
      "cell_type": "code",
      "execution_count": 46,
      "metadata": {
        "id": "g9daxZlVhtio"
      },
      "outputs": [],
      "source": [
        "import pandas as pd\n",
        "import numpy as np\n",
        "from numpy import random\n",
        "from sklearn.model_selection import train_test_split\n",
        "import ast\n",
        "import os\n",
        "from PIL import Image\n",
        "import yaml"
      ]
    },
    {
      "cell_type": "code",
      "execution_count": null,
      "metadata": {
        "colab": {
          "base_uri": "https://localhost:8080/"
        },
        "id": "BdQWNdQliAf5",
        "outputId": "c81f04f9-cb3d-493e-e604-ce74fada71c2"
      },
      "outputs": [
        {
          "name": "stdout",
          "output_type": "stream",
          "text": [
            "Drive already mounted at /content/drive; to attempt to forcibly remount, call drive.mount(\"/content/drive\", force_remount=True).\n"
          ]
        }
      ],
      "source": [
        "from google.colab import drive\n",
        "drive.mount('/content/drive')"
      ]
    },
    {
      "cell_type": "markdown",
      "metadata": {
        "id": "UXezEtFNvWKD"
      },
      "source": [
        "### 경로설정\n",
        "- pwd\n",
        "- %cd"
      ]
    },
    {
      "cell_type": "markdown",
      "metadata": {},
      "source": [
        "12"
      ]
    },
    {
      "cell_type": "code",
      "execution_count": 47,
      "metadata": {
        "colab": {
          "base_uri": "https://localhost:8080/"
        },
        "id": "j-G_5QTevUV3",
        "outputId": "bd94990e-f70a-4469-8951-466b97dd972d"
      },
      "outputs": [
        {
          "name": "stdout",
          "output_type": "stream",
          "text": [
            "/content/drive/MyDrive/A_I/Ai\n"
          ]
        }
      ],
      "source": [
        "%cd /content/drive/MyDrive/A_I/Ai"
      ]
    },
    {
      "cell_type": "code",
      "execution_count": 48,
      "metadata": {
        "colab": {
          "base_uri": "https://localhost:8080/"
        },
        "id": "at_P_TmXhtiq",
        "outputId": "8aa73e23-c3d8-42cf-d76f-c34bce418d69"
      },
      "outputs": [
        {
          "name": "stdout",
          "output_type": "stream",
          "text": [
            "학습 데이터 개수: 5904\n",
            "검증 데이터 개수: 1477\n"
          ]
        }
      ],
      "source": [
        "# CSV 파일 로드\n",
        "\n",
        "\n",
        "def load_data_with_pandas(file_path):\n",
        "    data = pd.read_csv(file_path)\n",
        "    return data\n",
        "\n",
        "\n",
        "# 데이터 로드\n",
        "data_bumper = load_data_with_pandas(\n",
        "    '/content/drive/MyDrive/A_I/Ai/data/data/output/bumper/bumper_data3.csv')\n",
        "data_door_ed = load_data_with_pandas(\n",
        "    '/content/drive/MyDrive/A_I/Ai/data/data/output/door/door_ed_data3.csv')\n",
        "data_door_scratch = load_data_with_pandas(\n",
        "    '/content/drive/MyDrive/A_I/Ai/data/data/output/door/door_scratch_data3.csv')\n",
        "data_fender = load_data_with_pandas(\n",
        "    '/content/drive/MyDrive/A_I/Ai/data/data/output/fender/fender_ed_data3.csv')\n",
        "data_frame_ed = load_data_with_pandas(\n",
        "    '/content/drive/MyDrive/A_I/Ai/data/data/output/frame/frame_ed_data3.csv')\n",
        "data_frame_hd = load_data_with_pandas(\n",
        "    '/content/drive/MyDrive/A_I/Ai/data/data/output/frame/frame_hd_data3.csv')\n",
        "data_frame_sealf = load_data_with_pandas(\n",
        "    '/content/drive/MyDrive/A_I/Ai/data/data/output/frame/frame_sealf_data3.csv')\n",
        "data_frame_seamf = load_data_with_pandas(\n",
        "    '/content/drive/MyDrive/A_I/Ai/data/data/output/frame/frame_seamf_data3.csv')\n",
        "\n",
        "# 데이터 결합\n",
        "data = pd.concat([\n",
        "    data_bumper,\n",
        "    data_door_ed,\n",
        "    data_door_scratch,\n",
        "    data_fender,\n",
        "    data_frame_ed,\n",
        "    data_frame_hd,\n",
        "    data_frame_sealf,\n",
        "    data_frame_seamf\n",
        "], axis=0)\n",
        "\n",
        "# data.to_csv('./data/data.csv', index=False)\n",
        "\n",
        "# 학습 데이터와 검증 데이터로 나누기 (Stratified Sampling)\n",
        "# y에는 라벨, x에는 나머지 특성 정보\n",
        "# x = data.drop('quality', axis=1)  # 'label' 컬럼은 실제 클래스 라벨이 들어있는 컬럼\n",
        "y = data['quality']\n",
        "\n",
        "# Stratified Split: 학습 데이터와 검증 데이터 비율을 80:20으로 설정, 클래스 비율을 유지\n",
        "train_data, valid_data = train_test_split(\n",
        "    data, test_size=0.2, stratify=y, random_state=55)\n",
        "\n",
        "# CSV로 저장\n",
        "train_data.to_csv('/content/drive/MyDrive/A_I/Ai/data/data/train_data.csv', index=False)\n",
        "valid_data.to_csv('/content/drive/MyDrive/A_I/Ai/data/data/valid_data.csv', index=False)\n",
        "\n",
        "# 결과 출력\n",
        "print(f\"학습 데이터 개수: {len(train_data)}\")\n",
        "print(f\"검증 데이터 개수: {len(valid_data)}\")"
      ]
    },
    {
      "cell_type": "code",
      "execution_count": 95,
      "metadata": {
        "id": "K1lz-S4Jhtis"
      },
      "outputs": [],
      "source": [
        "# Step 1: 학습 데이터에서 20% 추출\n",
        "train_20, _ = train_test_split(train_data, test_size=1, random_state=35)\n",
        "\n",
        "# Step 2: 검증 데이터에서 20% 추출\n",
        "valid_20, _ = train_test_split(valid_data, test_size=1, random_state=35)\n",
        "\n",
        "# Step 3: 각각의 20%에서 다시 20% 추출 (성능 검증용 데이터 생성)\n",
        "train_test_20, _ = train_test_split(train_20, test_size=0.8, random_state=42)  # 학습 데이터 20%에서 20% 추출\n",
        "valid_test_20, _ = train_test_split(valid_20, test_size=0.8, random_state=42)  # 검증 데이터 20%에서 20% 추출\n",
        "#test_test_20\n",
        "\n",
        "# CSV로 저장\n",
        "train_test_20.to_csv('/content/drive/MyDrive/A_I/Ai/data/data/train_test_20.csv', index=False)\n",
        "valid_test_20.to_csv('/content/drive/MyDrive/A_I/Ai/data/data/valid_test_20.csv', index=False)"
      ]
    },
    {
      "cell_type": "code",
      "execution_count": 50,
      "metadata": {
        "id": "7BDpqidfhtis"
      },
      "outputs": [],
      "source": [
        "import os\n",
        "import shutil\n",
        "\n",
        "def normalize_paths(data, path_column):\n",
        "    \"\"\"\n",
        "    데이터프레임의 경로를 정규화하고 슬래시를 통일합니다.\n",
        "\n",
        "    Args:\n",
        "        data (pd.DataFrame): 경로가 포함된 데이터프레임\n",
        "        path_column (str): 경로 열의 이름\n",
        "\n",
        "    Returns:\n",
        "        pd.DataFrame: 경로가 정규화된 데이터프레임\n",
        "    \"\"\"\n",
        "    data[path_column] = data[path_column].apply(lambda x: os.path.normpath(x).replace(\"\\\\\", \"/\"))\n",
        "    return data\n",
        "\n",
        "def copy_images(data, output_dir):\n",
        "    \"\"\"\n",
        "    데이터프레임의 이미지 파일을 지정된 출력 디렉토리로 복사합니다.\n",
        "\n",
        "    Args:\n",
        "        data (pd.DataFrame): 이미지 경로가 포함된 데이터프레임\n",
        "        output_dir (str): 출력 디렉토리 경로\n",
        "    \"\"\"\n",
        "    # 이미지 디렉토리 생성\n",
        "    image_dir = os.path.join(output_dir, 'images')\n",
        "    os.makedirs(image_dir, exist_ok=True)\n",
        "\n",
        "    # 이미지 복사\n",
        "    for index, row in data.iterrows():\n",
        "        image_path = row['path']\n",
        "        try:\n",
        "            # 파일 존재 여부 확인\n",
        "            if not os.path.exists(image_path):\n",
        "                print(f\"경고: 파일이 존재하지 않습니다 - {image_path}\")\n",
        "                continue\n",
        "\n",
        "            # 복사 대상 파일 이름 생성\n",
        "            destination = os.path.join(image_dir, os.path.basename(image_path))\n",
        "\n",
        "            # 파일 복사\n",
        "            shutil.copy(image_path, destination)\n",
        "        except Exception as e:\n",
        "            print(f\"오류: {image_path} 복사 실패 - {e}\")\n",
        "\n",
        "# 데이터프레임의 경로 정규화 및 슬래시 통일\n",
        "train_test_20 = normalize_paths(train_test_20, 'path')\n",
        "valid_test_20 = normalize_paths(valid_test_20, 'path')\n",
        "\n",
        "# 학습 데이터와 검증 데이터를 각각 처리\n",
        "copy_images(train_test_20, './train')\n",
        "copy_images(valid_test_20, './valid')\n"
      ]
    },
    {
      "cell_type": "code",
      "execution_count": 51,
      "metadata": {
        "colab": {
          "base_uri": "https://localhost:8080/"
        },
        "id": "ulA91OuBhtit",
        "outputId": "8086f5f7-c9f9-4a14-d7be-5afedd7970f5"
      },
      "outputs": [
        {
          "name": "stdout",
          "output_type": "stream",
          "text": [
            "Train 이미지 크기: [(4224, 2376), (4032, 1960), (4032, 1908), (4032, 1908), (4032, 1908)]\n",
            "Train 이미지 디렉토리: ['data/data/source_data/door/Exterior_damage/', 'data/data/source_data/frame/Seam_failure/', 'data/data/source_data/bumper/scratch/', 'data/data/source_data/door/scratch/', 'data/data/source_data/bumper/scratch/']\n",
            "Train 파일 이름: ['204_102_20_6d79e1bc-442e-45d6-bd7f-a09baeefee49', '207_212_20_33af8e26-7021-421c-88fe-683c37c5e565', '205_101_20_d7504074-f53e-4c44-84ec-636e61f902ac', '204_101_10_5620de38-ef45-4fb1-a051-4067b7704f1c', '205_101_20_05b4b1a5-6a7a-4e68-bdb5-17316ae94eb4']\n",
            "\n",
            "Validation 이미지 크기: [(4032, 1908), (4032, 1908), (4032, 1816), (4224, 2376), (2448, 2048)]\n",
            "Validation 이미지 디렉토리: ['data/data/source_data/door/Exterior_damage/', 'data/data/source_data/frame/Seam_failure/', 'data/data/source_data/frame/Seam_failure/', 'data/data/source_data/door/scratch/', 'data/data/source_data/frame/Hole_distortion/']\n",
            "Validation 파일 이름: ['204_102_20_019dc27d-2034-44b5-aea2-d519c5209082', '207_212_20_6a95d860-be29-4937-a4fd-af7e34afbf78', '207_212_20_c7b748a2-d95d-4754-9a26-8bb37da1d57d', '204_101_10_2922bb55-cd6d-4b1f-b717-d6829c434df8', '207_213_10_ed398417-76ef-4485-8bc2-d9b8a9378d7c']\n"
          ]
        }
      ],
      "source": [
        "import os\n",
        "from PIL import Image\n",
        "\n",
        "\n",
        "def extract_image_info(image_paths):\n",
        "    \"\"\"\n",
        "    이미지 경로 리스트에서 이미지 크기, 디렉토리 경로, 파일 이름을 추출하는 함수\n",
        "\n",
        "    Args:\n",
        "        image_paths (list): 이미지 경로 리스트\n",
        "\n",
        "    Returns:\n",
        "        tuple: (image_sizes, image_dirs, file_names)\n",
        "            image_sizes (list): 이미지 크기 리스트\n",
        "            image_dirs (list): 이미지 디렉토리 경로 리스트\n",
        "            file_names (list): 이미지 파일 이름 리스트\n",
        "    \"\"\"\n",
        "\n",
        "    image_sizes = []\n",
        "    image_dirs = []\n",
        "    file_names = []\n",
        "\n",
        "    for path in image_paths:\n",
        "        try:\n",
        "            image = Image.open(path)\n",
        "            width, height = image.size\n",
        "            image_sizes.append((width, height))\n",
        "            image_dirs.append(os.path.dirname(path) + os.sep)\n",
        "            file_names.append(os.path.splitext(os.path.basename(path))[0])\n",
        "        except FileNotFoundError:\n",
        "            print(f\"파일을 찾을 수 없습니다: {path}\")\n",
        "\n",
        "    return image_sizes, image_dirs, file_names\n",
        "\n",
        "\n",
        "# 데이터 준비 (예시)\n",
        "train_image_paths = train_test_20.iloc[:, 0].tolist()\n",
        "valid_image_paths = valid_test_20.iloc[:, 0].tolist()\n",
        "\n",
        "# 이미지 정보 추출\n",
        "train_sizes, train_dirs, train_names = extract_image_info(train_image_paths)\n",
        "valid_sizes, valid_dirs, valid_names = extract_image_info(valid_image_paths)\n",
        "\n",
        "# 결과 출력\n",
        "print(\"Train 이미지 크기:\", train_sizes[:5])\n",
        "print(\"Train 이미지 디렉토리:\", train_dirs[:5])\n",
        "print(\"Train 파일 이름:\", train_names[:5])\n",
        "print()\n",
        "print(\"Validation 이미지 크기:\", valid_sizes[:5])\n",
        "print(\"Validation 이미지 디렉토리:\", valid_dirs[:5])\n",
        "print(\"Validation 파일 이름:\", valid_names[:5])"
      ]
    },
    {
      "cell_type": "code",
      "execution_count": 52,
      "metadata": {
        "colab": {
          "base_uri": "https://localhost:8080/"
        },
        "id": "DJb9NGTdhtiu",
        "outputId": "740ab431-f3fa-427c-cac8-31ee4b8d2093"
      },
      "outputs": [
        {
          "name": "stdout",
          "output_type": "stream",
          "text": [
            "Train 이미지 크기: [(4224, 2376), (4032, 1960), (4032, 1908), (4032, 1908), (4032, 1908)]\n",
            "Train 이미지 디렉토리: ['data/data/source_data/door/Exterior_damage/', 'data/data/source_data/frame/Seam_failure/', 'data/data/source_data/bumper/scratch/', 'data/data/source_data/door/scratch/', 'data/data/source_data/bumper/scratch/']\n",
            "Train 파일 이름: ['204_102_20_6d79e1bc-442e-45d6-bd7f-a09baeefee49', '207_212_20_33af8e26-7021-421c-88fe-683c37c5e565', '205_101_20_d7504074-f53e-4c44-84ec-636e61f902ac', '204_101_10_5620de38-ef45-4fb1-a051-4067b7704f1c', '205_101_20_05b4b1a5-6a7a-4e68-bdb5-17316ae94eb4']\n",
            "\n",
            "Validation 이미지 크기: [(4032, 1908), (4032, 1908), (4032, 1816), (4224, 2376), (2448, 2048)]\n",
            "Validation 이미지 디렉토리: ['data/data/source_data/door/Exterior_damage/', 'data/data/source_data/frame/Seam_failure/', 'data/data/source_data/frame/Seam_failure/', 'data/data/source_data/door/scratch/', 'data/data/source_data/frame/Hole_distortion/']\n",
            "Validation 파일 이름: ['204_102_20_019dc27d-2034-44b5-aea2-d519c5209082', '207_212_20_6a95d860-be29-4937-a4fd-af7e34afbf78', '207_212_20_c7b748a2-d95d-4754-9a26-8bb37da1d57d', '204_101_10_2922bb55-cd6d-4b1f-b717-d6829c434df8', '207_213_10_ed398417-76ef-4485-8bc2-d9b8a9378d7c']\n"
          ]
        }
      ],
      "source": [
        "import os\n",
        "from PIL import Image\n",
        "\n",
        "\n",
        "def extract_image_info(image_paths):\n",
        "    \"\"\"\n",
        "    이미지 경로 리스트에서 이미지 크기, 디렉토리 경로, 파일 이름을 추출하는 함수\n",
        "\n",
        "    Args:\n",
        "        image_paths (list): 이미지 경로 리스트\n",
        "\n",
        "    Returns:\n",
        "        tuple: (image_sizes, image_dirs, file_names)\n",
        "            image_sizes (list): 이미지 크기 리스트\n",
        "            image_dirs (list): 이미지 디렉토리 경로 리스트\n",
        "            file_names (list): 이미지 파일 이름 리스트\n",
        "    \"\"\"\n",
        "\n",
        "    image_sizes = []\n",
        "    image_dirs = []\n",
        "    file_names = []\n",
        "\n",
        "    for path in image_paths:\n",
        "        try:\n",
        "            image = Image.open(path)\n",
        "            width, height = image.size\n",
        "            image_sizes.append((width, height))\n",
        "            image_dirs.append(os.path.dirname(path) + os.sep)\n",
        "            file_names.append(os.path.splitext(os.path.basename(path))[0])\n",
        "        except FileNotFoundError:\n",
        "            print(f\"파일을 찾을 수 없습니다: {path}\")\n",
        "\n",
        "    return image_sizes, image_dirs, file_names\n",
        "\n",
        "\n",
        "# 데이터 준비 (예시)\n",
        "train_image_paths = train_test_20.iloc[:, 0].tolist()\n",
        "valid_image_paths = valid_test_20.iloc[:, 0].tolist()\n",
        "\n",
        "# 이미지 정보 추출\n",
        "train_sizes, train_dirs, train_names = extract_image_info(train_image_paths)\n",
        "valid_sizes, valid_dirs, valid_names = extract_image_info(valid_image_paths)\n",
        "\n",
        "# 결과 출력\n",
        "print(\"Train 이미지 크기:\", train_sizes[:5])\n",
        "print(\"Train 이미지 디렉토리:\", train_dirs[:5])\n",
        "print(\"Train 파일 이름:\", train_names[:5])\n",
        "print()\n",
        "print(\"Validation 이미지 크기:\", valid_sizes[:5])\n",
        "print(\"Validation 이미지 디렉토리:\", valid_dirs[:5])\n",
        "print(\"Validation 파일 이름:\", valid_names[:5])"
      ]
    },
    {
      "cell_type": "code",
      "execution_count": 53,
      "metadata": {
        "colab": {
          "base_uri": "https://localhost:8080/"
        },
        "id": "qdqLkjPChtiv",
        "outputId": "9f73c120-97a9-4785-8cd8-5e21bac16a3c"
      },
      "outputs": [
        {
          "name": "stdout",
          "output_type": "stream",
          "text": [
            "parts_and_status_train : [{'part': '도어', 'status': 0}, {'part': '프레임', 'status': 0}, {'part': '범퍼', 'status': 0}, {'part': '도어', 'status': 1}, {'part': '범퍼', 'status': 0}, {'part': '범퍼', 'status': 0}, {'part': '도어', 'status': 1}, {'part': '프레임', 'status': 0}, {'part': '범퍼', 'status': 1}, {'part': '프레임', 'status': 0}, {'part': '도어', 'status': 1}, {'part': '범퍼', 'status': 0}, {'part': '프레임', 'status': 1}, {'part': '범퍼', 'status': 0}, {'part': '프레임', 'status': 1}, {'part': '프레임', 'status': 1}, {'part': '프레임', 'status': 1}, {'part': '프레임', 'status': 1}, {'part': '프레임', 'status': 1}, {'part': '도어', 'status': 0}, {'part': '범퍼', 'status': 0}, {'part': '범퍼', 'status': 0}, {'part': '프레임', 'status': 1}, {'part': '도어', 'status': 1}, {'part': '프레임', 'status': 0}, {'part': '프레임', 'status': 1}, {'part': '범퍼', 'status': 0}, {'part': '프레임', 'status': 0}, {'part': '도어', 'status': 1}, {'part': '프레임', 'status': 0}, {'part': '프레임', 'status': 0}, {'part': '도어', 'status': 0}, {'part': '휀더', 'status': 1}, {'part': '프레임', 'status': 1}, {'part': '범퍼', 'status': 0}, {'part': '프레임', 'status': 0}, {'part': '휀더', 'status': 1}, {'part': '휀더', 'status': 0}, {'part': '프레임', 'status': 0}, {'part': '프레임', 'status': 1}, {'part': '범퍼', 'status': 0}, {'part': '범퍼', 'status': 0}, {'part': '범퍼', 'status': 1}, {'part': '프레임', 'status': 0}, {'part': '도어', 'status': 1}, {'part': '프레임', 'status': 1}, {'part': '도어', 'status': 1}, {'part': '도어', 'status': 1}, {'part': '범퍼', 'status': 1}, {'part': '도어', 'status': 1}, {'part': '범퍼', 'status': 0}, {'part': '프레임', 'status': 0}, {'part': '도어', 'status': 1}, {'part': '도어', 'status': 1}, {'part': '휀더', 'status': 1}, {'part': '프레임', 'status': 1}, {'part': '프레임', 'status': 1}, {'part': '프레임', 'status': 1}, {'part': '프레임', 'status': 1}, {'part': '도어', 'status': 0}, {'part': '도어', 'status': 0}, {'part': '범퍼', 'status': 1}, {'part': '도어', 'status': 1}, {'part': '범퍼', 'status': 0}, {'part': '범퍼', 'status': 0}, {'part': '범퍼', 'status': 0}, {'part': '프레임', 'status': 0}, {'part': '도어', 'status': 1}, {'part': '프레임', 'status': 1}, {'part': '프레임', 'status': 0}, {'part': '프레임', 'status': 0}, {'part': '도어', 'status': 1}, {'part': '도어', 'status': 0}, {'part': '프레임', 'status': 1}, {'part': '도어', 'status': 0}, {'part': '범퍼', 'status': 0}, {'part': '범퍼', 'status': 0}, {'part': '범퍼', 'status': 0}, {'part': '범퍼', 'status': 0}, {'part': '프레임', 'status': 0}, {'part': '프레임', 'status': 0}, {'part': '도어', 'status': 1}, {'part': '범퍼', 'status': 0}, {'part': '범퍼', 'status': 0}, {'part': '프레임', 'status': 0}, {'part': '프레임', 'status': 1}, {'part': '프레임', 'status': 1}, {'part': '범퍼', 'status': 0}, {'part': '범퍼', 'status': 0}, {'part': '범퍼', 'status': 0}, {'part': '휀더', 'status': 1}, {'part': '도어', 'status': 0}, {'part': '범퍼', 'status': 1}, {'part': '프레임', 'status': 1}, {'part': '프레임', 'status': 0}, {'part': '프레임', 'status': 1}, {'part': '프레임', 'status': 0}, {'part': '프레임', 'status': 1}, {'part': '범퍼', 'status': 1}, {'part': '휀더', 'status': 1}, {'part': '프레임', 'status': 0}, {'part': '휀더', 'status': 1}, {'part': '프레임', 'status': 0}, {'part': '프레임', 'status': 0}, {'part': '프레임', 'status': 0}, {'part': '범퍼', 'status': 1}, {'part': '프레임', 'status': 0}, {'part': '프레임', 'status': 0}, {'part': '프레임', 'status': 0}, {'part': '프레임', 'status': 0}, {'part': '프레임', 'status': 0}, {'part': '범퍼', 'status': 1}, {'part': '범퍼', 'status': 0}, {'part': '프레임', 'status': 1}, {'part': '범퍼', 'status': 0}, {'part': '범퍼', 'status': 0}, {'part': '도어', 'status': 0}, {'part': '도어', 'status': 0}, {'part': '프레임', 'status': 0}, {'part': '프레임', 'status': 0}, {'part': '도어', 'status': 1}, {'part': '범퍼', 'status': 0}, {'part': '도어', 'status': 0}, {'part': '도어', 'status': 0}, {'part': '도어', 'status': 1}, {'part': '범퍼', 'status': 0}, {'part': '범퍼', 'status': 1}, {'part': '프레임', 'status': 0}, {'part': '도어', 'status': 1}, {'part': '프레임', 'status': 0}, {'part': '프레임', 'status': 1}, {'part': '프레임', 'status': 0}, {'part': '도어', 'status': 1}, {'part': '범퍼', 'status': 1}, {'part': '범퍼', 'status': 1}, {'part': '도어', 'status': 0}, {'part': '프레임', 'status': 0}, {'part': '프레임', 'status': 1}, {'part': '프레임', 'status': 0}, {'part': '프레임', 'status': 1}, {'part': '프레임', 'status': 0}, {'part': '프레임', 'status': 1}, {'part': '도어', 'status': 0}, {'part': '도어', 'status': 0}, {'part': '휀더', 'status': 0}, {'part': '범퍼', 'status': 0}, {'part': '프레임', 'status': 0}, {'part': '도어', 'status': 1}, {'part': '범퍼', 'status': 0}, {'part': '프레임', 'status': 1}, {'part': '도어', 'status': 1}, {'part': '프레임', 'status': 1}, {'part': '도어', 'status': 0}, {'part': '프레임', 'status': 1}, {'part': '범퍼', 'status': 0}, {'part': '프레임', 'status': 0}, {'part': '도어', 'status': 0}, {'part': '휀더', 'status': 0}, {'part': '도어', 'status': 0}, {'part': '프레임', 'status': 1}, {'part': '도어', 'status': 0}, {'part': '범퍼', 'status': 1}, {'part': '프레임', 'status': 0}, {'part': '프레임', 'status': 0}, {'part': '프레임', 'status': 0}, {'part': '범퍼', 'status': 0}, {'part': '도어', 'status': 1}, {'part': '도어', 'status': 0}, {'part': '도어', 'status': 0}, {'part': '프레임', 'status': 0}, {'part': '프레임', 'status': 1}, {'part': '범퍼', 'status': 0}, {'part': '휀더', 'status': 1}, {'part': '프레임', 'status': 1}, {'part': '도어', 'status': 0}, {'part': '프레임', 'status': 0}, {'part': '도어', 'status': 1}, {'part': '프레임', 'status': 1}, {'part': '프레임', 'status': 0}, {'part': '범퍼', 'status': 0}, {'part': '프레임', 'status': 1}, {'part': '휀더', 'status': 1}, {'part': '도어', 'status': 1}, {'part': '프레임', 'status': 1}, {'part': '프레임', 'status': 1}, {'part': '프레임', 'status': 1}, {'part': '휀더', 'status': 0}, {'part': '프레임', 'status': 0}, {'part': '범퍼', 'status': 1}, {'part': '범퍼', 'status': 0}, {'part': '범퍼', 'status': 0}, {'part': '범퍼', 'status': 0}, {'part': '휀더', 'status': 0}, {'part': '프레임', 'status': 0}, {'part': '범퍼', 'status': 0}, {'part': '휀더', 'status': 0}, {'part': '도어', 'status': 1}, {'part': '프레임', 'status': 0}, {'part': '프레임', 'status': 0}, {'part': '프레임', 'status': 0}, {'part': '프레임', 'status': 0}, {'part': '프레임', 'status': 0}, {'part': '프레임', 'status': 1}, {'part': '프레임', 'status': 0}, {'part': '도어', 'status': 1}, {'part': '범퍼', 'status': 1}, {'part': '프레임', 'status': 0}, {'part': '프레임', 'status': 1}, {'part': '프레임', 'status': 1}, {'part': '프레임', 'status': 0}, {'part': '프레임', 'status': 0}, {'part': '범퍼', 'status': 1}, {'part': '프레임', 'status': 1}, {'part': '프레임', 'status': 1}, {'part': '프레임', 'status': 1}, {'part': '도어', 'status': 0}, {'part': '범퍼', 'status': 0}, {'part': '프레임', 'status': 1}, {'part': '범퍼', 'status': 0}, {'part': '프레임', 'status': 1}, {'part': '휀더', 'status': 1}, {'part': '프레임', 'status': 0}, {'part': '프레임', 'status': 1}, {'part': '휀더', 'status': 0}, {'part': '프레임', 'status': 0}, {'part': '프레임', 'status': 0}, {'part': '휀더', 'status': 0}, {'part': '휀더', 'status': 0}, {'part': '범퍼', 'status': 0}, {'part': '도어', 'status': 1}, {'part': '프레임', 'status': 0}, {'part': '도어', 'status': 1}, {'part': '도어', 'status': 0}, {'part': '프레임', 'status': 0}, {'part': '범퍼', 'status': 0}, {'part': '범퍼', 'status': 0}]\n",
            "parts_and_status_valid : [{'part': '도어', 'status': 0}, {'part': '프레임', 'status': 0}, {'part': '프레임', 'status': 0}, {'part': '도어', 'status': 1}, {'part': '프레임', 'status': 1}, {'part': '범퍼', 'status': 1}, {'part': '범퍼', 'status': 1}, {'part': '도어', 'status': 0}, {'part': '프레임', 'status': 1}, {'part': '도어', 'status': 1}, {'part': '프레임', 'status': 1}, {'part': '프레임', 'status': 0}, {'part': '프레임', 'status': 0}, {'part': '도어', 'status': 1}, {'part': '프레임', 'status': 0}, {'part': '프레임', 'status': 0}, {'part': '프레임', 'status': 1}, {'part': '도어', 'status': 0}, {'part': '휀더', 'status': 0}, {'part': '도어', 'status': 1}, {'part': '범퍼', 'status': 0}, {'part': '범퍼', 'status': 0}, {'part': '범퍼', 'status': 0}, {'part': '휀더', 'status': 0}, {'part': '범퍼', 'status': 1}, {'part': '범퍼', 'status': 1}, {'part': '도어', 'status': 0}, {'part': '도어', 'status': 1}, {'part': '프레임', 'status': 0}, {'part': '범퍼', 'status': 1}, {'part': '범퍼', 'status': 1}, {'part': '프레임', 'status': 1}, {'part': '범퍼', 'status': 0}, {'part': '도어', 'status': 0}, {'part': '프레임', 'status': 1}, {'part': '범퍼', 'status': 1}, {'part': '프레임', 'status': 0}, {'part': '프레임', 'status': 1}, {'part': '프레임', 'status': 0}, {'part': '프레임', 'status': 1}, {'part': '프레임', 'status': 0}, {'part': '도어', 'status': 1}, {'part': '프레임', 'status': 1}, {'part': '프레임', 'status': 0}, {'part': '프레임', 'status': 0}, {'part': '도어', 'status': 1}, {'part': '범퍼', 'status': 0}, {'part': '휀더', 'status': 1}, {'part': '도어', 'status': 1}, {'part': '도어', 'status': 0}, {'part': '프레임', 'status': 0}, {'part': '휀더', 'status': 0}, {'part': '프레임', 'status': 1}, {'part': '프레임', 'status': 1}, {'part': '프레임', 'status': 1}, {'part': '휀더', 'status': 0}, {'part': '휀더', 'status': 1}, {'part': '프레임', 'status': 0}, {'part': '휀더', 'status': 1}]\n",
            "train 라벨링 결과 : [3, 7, 1, 2, 1, 1, 2, 7, 0, 7, 2, 1, 6, 1, 6, 6, 6, 6, 6, 3, 1, 1, 6, 2, 7, 6, 1, 7, 2, 7, 7, 3, 4, 6, 1, 7, 4, 5, 7, 6, 1, 1, 0, 7, 2, 6, 2, 2, 0, 2, 1, 7, 2, 2, 4, 6, 6, 6, 6, 3, 3, 0, 2, 1, 1, 1, 7, 2, 6, 7, 7, 2, 3, 6, 3, 1, 1, 1, 1, 7, 7, 2, 1, 1, 7, 6, 6, 1, 1, 1, 4, 3, 0, 6, 7, 6, 7, 6, 0, 4, 7, 4, 7, 7, 7, 0, 7, 7, 7, 7, 7, 0, 1, 6, 1, 1, 3, 3, 7, 7, 2, 1, 3, 3, 2, 1, 0, 7, 2, 7, 6, 7, 2, 0, 0, 3, 7, 6, 7, 6, 7, 6, 3, 3, 5, 1, 7, 2, 1, 6, 2, 6, 3, 6, 1, 7, 3, 5, 3, 6, 3, 0, 7, 7, 7, 1, 2, 3, 3, 7, 6, 1, 4, 6, 3, 7, 2, 6, 7, 1, 6, 4, 2, 6, 6, 6, 5, 7, 0, 1, 1, 1, 5, 7, 1, 5, 2, 7, 7, 7, 7, 7, 6, 7, 2, 0, 7, 6, 6, 7, 7, 0, 6, 6, 6, 3, 1, 6, 1, 6, 4, 7, 6, 5, 7, 7, 5, 5, 1, 2, 7, 2, 3, 7, 1, 1]\n",
            "valid 라벨링 결과 : [3, 7, 7, 2, 6, 0, 0, 3, 6, 2, 6, 7, 7, 2, 7, 7, 6, 3, 5, 2, 1, 1, 1, 5, 0, 0, 3, 2, 7, 0, 0, 6, 1, 3, 6, 0, 7, 6, 7, 6, 7, 2, 6, 7, 7, 2, 1, 4, 2, 3, 7, 5, 6, 6, 6, 5, 4, 7, 4]\n"
          ]
        }
      ],
      "source": [
        "# 부품 상태를 체크하는 함수\n",
        "def get_label(part, status):\n",
        "    if part == \"범퍼\":\n",
        "        if status == 1:\n",
        "            return 0\n",
        "        elif status == 0:\n",
        "            return 1\n",
        "    elif part == \"도어\":\n",
        "        if status == 1:\n",
        "            return 2\n",
        "        elif status == 0:\n",
        "            return 3\n",
        "    elif part == \"휀더\":\n",
        "        if status == 1:\n",
        "            return 4\n",
        "        elif status == 0:\n",
        "            return 5\n",
        "    elif part == \"프레임\":\n",
        "        if status == 1:\n",
        "            return 6\n",
        "        elif status == 0:\n",
        "            return 7\n",
        "    return None  # 기본적으로 반환할 값이 없으면 None\n",
        "\n",
        "\n",
        "# 예시 부품과 상태\n",
        "parts_and_status_train = []\n",
        "parts_and_status_valid = []\n",
        "for quality, part in zip(train_test_20.iloc[:, 1], train_test_20.iloc[:, 2]):\n",
        "    parts_and_status_train.append({\"part\": part, \"status\": quality})\n",
        "\n",
        "for quality, part in zip(valid_test_20.iloc[:, 1], valid_test_20.iloc[:, 2]):\n",
        "    parts_and_status_valid.append({\"part\": part, \"status\": quality})\n",
        "\n",
        "print(f\"parts_and_status_train : {parts_and_status_train}\")\n",
        "print(f\"parts_and_status_valid : {parts_and_status_valid}\")\n",
        "\n",
        "# 라벨링 결과를 저장할 리스트\n",
        "labels_train = []\n",
        "labels_valid = []\n",
        "\n",
        "# 각 부품 상태에 대해 라벨을 설정\n",
        "for item in parts_and_status_train:\n",
        "    label = get_label(item[\"part\"], item[\"status\"])\n",
        "    labels_train.append(label)\n",
        "for item in parts_and_status_valid:\n",
        "    label = get_label(item[\"part\"], item[\"status\"])\n",
        "    labels_valid.append(label)\n",
        "\n",
        "# # 결과 출력\n",
        "print(\"train 라벨링 결과 :\", labels_train)\n",
        "print(\"valid 라벨링 결과 :\", labels_valid)"
      ]
    },
    {
      "cell_type": "code",
      "execution_count": 62,
      "metadata": {
        "id": "8hpOx1schtiw"
      },
      "outputs": [],
      "source": [
        "def convert_to_yolo_format(bbox, label, image_width, image_height):\n",
        "    yolo_labels = []  # 각 이미지에 대한 라벨을 담을 리스트\n",
        "\n",
        "    if not bbox:\n",
        "        # bbox가 비어있으면 기본값으로 라벨을 설정\n",
        "        yolo_labels.append(f\"{label} 0.5 0.5 0.0 0.0\")\n",
        "    else:\n",
        "        # bbox가 있으면 여러 개의 파손 부위를 처리\n",
        "        for x_min, y_min, width, height in bbox:\n",
        "            # YOLO 형식에 맞게 좌표를 정규화\n",
        "            x_center = (x_min + width / 2) / image_width\n",
        "            y_center = (y_min + height / 2) / image_height\n",
        "            norm_width = width / image_width\n",
        "            norm_height = height / image_height\n",
        "            # 정규화된 좌표와 함께 라벨을 저장\n",
        "            yolo_labels.append(f\"{label} {x_center:.6f} {y_center:.6f} {norm_width:.6f} {norm_height:.6f}\")\n",
        "\n",
        "    return yolo_labels\n",
        "\n",
        "\n",
        "def save_yolo_labels(output_dir, bboxes, labels, size, names):\n",
        "    # 각 이미지에 대해 라벨을 텍스트 파일로 저장\n",
        "    for bbox, label, (w, h), name in zip(bboxes, labels, size, names):\n",
        "        yolo_labels = convert_to_yolo_format(bbox, label, w, h)\n",
        "\n",
        "        # 라벨을 .txt 파일로 저장\n",
        "        txt_file_path = os.path.join(output_dir, f\"{name}.txt\")\n",
        "        with open(txt_file_path, 'w') as txt_file:\n",
        "            for yolo_data in yolo_labels:\n",
        "                txt_file.write(f\"{yolo_data}\\n\")\n",
        "\n",
        "\n",
        "\n",
        "# 라벨을 저장할 디렉토리\n",
        "train_output_dir = './train/labels'\n",
        "os.makedirs(train_output_dir, exist_ok=True)\n",
        "\n",
        "# YOLO 라벨 저장\n",
        "save_yolo_labels(train_output_dir, train_bboxes, labels_train, train_sizes, train_names)\n",
        "\n",
        "# 라벨을 저장할 디렉토리\n",
        "valid_output_dir = './valid/labels'\n",
        "os.makedirs(valid_output_dir, exist_ok=True)\n",
        "\n",
        "# YOLO 라벨 저장\n",
        "save_yolo_labels(valid_output_dir, valid_bboxes, labels_valid, valid_sizes, valid_names)"
      ]
    },
    {
      "cell_type": "code",
      "execution_count": 69,
      "metadata": {
        "id": "nchZx2Tvhtix"
      },
      "outputs": [],
      "source": [
        "# YAML 파일에 저장\n",
        "yaml_data = {\n",
        "    \"train\": \"/content/drive/MyDrive/A_I/Ai/train/images\",\n",
        "    \"val\": \"/content/drive/MyDrive/A_I/Ai/valid/images\",\n",
        "    \"nc\": 8,\n",
        "    \"names\": [\"bumper_ok\",\n",
        "              \"bumper_faulty\",\n",
        "              \"door_ok\",\n",
        "              \"door_faulty\",\n",
        "              \"fender_ok\",\n",
        "              \"fender_faulty\",\n",
        "              \"frame_ok\",\n",
        "              \"frame_faulty\"]\n",
        "}\n",
        "\n",
        "\n",
        "with open(f\"data.yaml\", \"w\") as yaml_file:\n",
        "    yaml.dump(yaml_data, yaml_file, default_flow_style=False, sort_keys=False)\n",
        "\n",
        "# print(\"YAML 파일이 생성되었습니다.\")"
      ]
    },
    {
      "cell_type": "code",
      "execution_count": 57,
      "metadata": {
        "colab": {
          "base_uri": "https://localhost:8080/"
        },
        "id": "h2RGrgFUqkod",
        "outputId": "ae68236f-49e3-4cec-e87f-dd8368f9f783"
      },
      "outputs": [
        {
          "name": "stdout",
          "output_type": "stream",
          "text": [
            "Requirement already satisfied: ultralytics in /usr/local/lib/python3.11/dist-packages (8.3.64)\n",
            "Requirement already satisfied: numpy>=1.23.0 in /usr/local/lib/python3.11/dist-packages (from ultralytics) (1.26.4)\n",
            "Requirement already satisfied: matplotlib>=3.3.0 in /usr/local/lib/python3.11/dist-packages (from ultralytics) (3.10.0)\n",
            "Requirement already satisfied: opencv-python>=4.6.0 in /usr/local/lib/python3.11/dist-packages (from ultralytics) (4.10.0.84)\n",
            "Requirement already satisfied: pillow>=7.1.2 in /usr/local/lib/python3.11/dist-packages (from ultralytics) (11.1.0)\n",
            "Requirement already satisfied: pyyaml>=5.3.1 in /usr/local/lib/python3.11/dist-packages (from ultralytics) (6.0.2)\n",
            "Requirement already satisfied: requests>=2.23.0 in /usr/local/lib/python3.11/dist-packages (from ultralytics) (2.32.3)\n",
            "Requirement already satisfied: scipy>=1.4.1 in /usr/local/lib/python3.11/dist-packages (from ultralytics) (1.13.1)\n",
            "Requirement already satisfied: torch>=1.8.0 in /usr/local/lib/python3.11/dist-packages (from ultralytics) (2.5.1+cu121)\n",
            "Requirement already satisfied: torchvision>=0.9.0 in /usr/local/lib/python3.11/dist-packages (from ultralytics) (0.20.1+cu121)\n",
            "Requirement already satisfied: tqdm>=4.64.0 in /usr/local/lib/python3.11/dist-packages (from ultralytics) (4.67.1)\n",
            "Requirement already satisfied: psutil in /usr/local/lib/python3.11/dist-packages (from ultralytics) (5.9.5)\n",
            "Requirement already satisfied: py-cpuinfo in /usr/local/lib/python3.11/dist-packages (from ultralytics) (9.0.0)\n",
            "Requirement already satisfied: pandas>=1.1.4 in /usr/local/lib/python3.11/dist-packages (from ultralytics) (2.2.2)\n",
            "Requirement already satisfied: seaborn>=0.11.0 in /usr/local/lib/python3.11/dist-packages (from ultralytics) (0.13.2)\n",
            "Requirement already satisfied: ultralytics-thop>=2.0.0 in /usr/local/lib/python3.11/dist-packages (from ultralytics) (2.0.14)\n",
            "Requirement already satisfied: contourpy>=1.0.1 in /usr/local/lib/python3.11/dist-packages (from matplotlib>=3.3.0->ultralytics) (1.3.1)\n",
            "Requirement already satisfied: cycler>=0.10 in /usr/local/lib/python3.11/dist-packages (from matplotlib>=3.3.0->ultralytics) (0.12.1)\n",
            "Requirement already satisfied: fonttools>=4.22.0 in /usr/local/lib/python3.11/dist-packages (from matplotlib>=3.3.0->ultralytics) (4.55.3)\n",
            "Requirement already satisfied: kiwisolver>=1.3.1 in /usr/local/lib/python3.11/dist-packages (from matplotlib>=3.3.0->ultralytics) (1.4.8)\n",
            "Requirement already satisfied: packaging>=20.0 in /usr/local/lib/python3.11/dist-packages (from matplotlib>=3.3.0->ultralytics) (24.2)\n",
            "Requirement already satisfied: pyparsing>=2.3.1 in /usr/local/lib/python3.11/dist-packages (from matplotlib>=3.3.0->ultralytics) (3.2.1)\n",
            "Requirement already satisfied: python-dateutil>=2.7 in /usr/local/lib/python3.11/dist-packages (from matplotlib>=3.3.0->ultralytics) (2.8.2)\n",
            "Requirement already satisfied: pytz>=2020.1 in /usr/local/lib/python3.11/dist-packages (from pandas>=1.1.4->ultralytics) (2024.2)\n",
            "Requirement already satisfied: tzdata>=2022.7 in /usr/local/lib/python3.11/dist-packages (from pandas>=1.1.4->ultralytics) (2024.2)\n",
            "Requirement already satisfied: charset-normalizer<4,>=2 in /usr/local/lib/python3.11/dist-packages (from requests>=2.23.0->ultralytics) (3.4.1)\n",
            "Requirement already satisfied: idna<4,>=2.5 in /usr/local/lib/python3.11/dist-packages (from requests>=2.23.0->ultralytics) (3.10)\n",
            "Requirement already satisfied: urllib3<3,>=1.21.1 in /usr/local/lib/python3.11/dist-packages (from requests>=2.23.0->ultralytics) (2.3.0)\n",
            "Requirement already satisfied: certifi>=2017.4.17 in /usr/local/lib/python3.11/dist-packages (from requests>=2.23.0->ultralytics) (2024.12.14)\n",
            "Requirement already satisfied: filelock in /usr/local/lib/python3.11/dist-packages (from torch>=1.8.0->ultralytics) (3.16.1)\n",
            "Requirement already satisfied: typing-extensions>=4.8.0 in /usr/local/lib/python3.11/dist-packages (from torch>=1.8.0->ultralytics) (4.12.2)\n",
            "Requirement already satisfied: networkx in /usr/local/lib/python3.11/dist-packages (from torch>=1.8.0->ultralytics) (3.4.2)\n",
            "Requirement already satisfied: jinja2 in /usr/local/lib/python3.11/dist-packages (from torch>=1.8.0->ultralytics) (3.1.5)\n",
            "Requirement already satisfied: fsspec in /usr/local/lib/python3.11/dist-packages (from torch>=1.8.0->ultralytics) (2024.10.0)\n",
            "Requirement already satisfied: nvidia-cuda-nvrtc-cu12==12.1.105 in /usr/local/lib/python3.11/dist-packages (from torch>=1.8.0->ultralytics) (12.1.105)\n",
            "Requirement already satisfied: nvidia-cuda-runtime-cu12==12.1.105 in /usr/local/lib/python3.11/dist-packages (from torch>=1.8.0->ultralytics) (12.1.105)\n",
            "Requirement already satisfied: nvidia-cuda-cupti-cu12==12.1.105 in /usr/local/lib/python3.11/dist-packages (from torch>=1.8.0->ultralytics) (12.1.105)\n",
            "Requirement already satisfied: nvidia-cudnn-cu12==9.1.0.70 in /usr/local/lib/python3.11/dist-packages (from torch>=1.8.0->ultralytics) (9.1.0.70)\n",
            "Requirement already satisfied: nvidia-cublas-cu12==12.1.3.1 in /usr/local/lib/python3.11/dist-packages (from torch>=1.8.0->ultralytics) (12.1.3.1)\n",
            "Requirement already satisfied: nvidia-cufft-cu12==11.0.2.54 in /usr/local/lib/python3.11/dist-packages (from torch>=1.8.0->ultralytics) (11.0.2.54)\n",
            "Requirement already satisfied: nvidia-curand-cu12==10.3.2.106 in /usr/local/lib/python3.11/dist-packages (from torch>=1.8.0->ultralytics) (10.3.2.106)\n",
            "Requirement already satisfied: nvidia-cusolver-cu12==11.4.5.107 in /usr/local/lib/python3.11/dist-packages (from torch>=1.8.0->ultralytics) (11.4.5.107)\n",
            "Requirement already satisfied: nvidia-cusparse-cu12==12.1.0.106 in /usr/local/lib/python3.11/dist-packages (from torch>=1.8.0->ultralytics) (12.1.0.106)\n",
            "Requirement already satisfied: nvidia-nccl-cu12==2.21.5 in /usr/local/lib/python3.11/dist-packages (from torch>=1.8.0->ultralytics) (2.21.5)\n",
            "Requirement already satisfied: nvidia-nvtx-cu12==12.1.105 in /usr/local/lib/python3.11/dist-packages (from torch>=1.8.0->ultralytics) (12.1.105)\n",
            "Requirement already satisfied: triton==3.1.0 in /usr/local/lib/python3.11/dist-packages (from torch>=1.8.0->ultralytics) (3.1.0)\n",
            "Requirement already satisfied: sympy==1.13.1 in /usr/local/lib/python3.11/dist-packages (from torch>=1.8.0->ultralytics) (1.13.1)\n",
            "Requirement already satisfied: nvidia-nvjitlink-cu12 in /usr/local/lib/python3.11/dist-packages (from nvidia-cusolver-cu12==11.4.5.107->torch>=1.8.0->ultralytics) (12.6.85)\n",
            "Requirement already satisfied: mpmath<1.4,>=1.1.0 in /usr/local/lib/python3.11/dist-packages (from sympy==1.13.1->torch>=1.8.0->ultralytics) (1.3.0)\n",
            "Requirement already satisfied: six>=1.5 in /usr/local/lib/python3.11/dist-packages (from python-dateutil>=2.7->matplotlib>=3.3.0->ultralytics) (1.17.0)\n",
            "Requirement already satisfied: MarkupSafe>=2.0 in /usr/local/lib/python3.11/dist-packages (from jinja2->torch>=1.8.0->ultralytics) (3.0.2)\n"
          ]
        }
      ],
      "source": [
        "%pip install ultralytics"
      ]
    },
    {
      "cell_type": "code",
      "execution_count": 85,
      "metadata": {
        "colab": {
          "base_uri": "https://localhost:8080/"
        },
        "id": "-KwX4pMWhtiy",
        "outputId": "9e005d08-ea8d-4e9e-c44d-9b81169ec942"
      },
      "outputs": [
        {
          "name": "stdout",
          "output_type": "stream",
          "text": [
            "Ultralytics 8.3.64 🚀 Python-3.11.11 torch-2.5.1+cu121 CUDA:0 (Tesla T4, 15102MiB)\n",
            "\u001b[34m\u001b[1mengine/trainer: \u001b[0mtask=detect, mode=train, model=yolov8m.pt, data=data.yaml, epochs=10, time=None, patience=100, batch=16, imgsz=640, save=True, save_period=-1, cache=False, device=0, workers=4, project=None, name=train11, exist_ok=False, pretrained=True, optimizer=auto, verbose=True, seed=0, deterministic=True, single_cls=False, rect=False, cos_lr=False, close_mosaic=10, resume=False, amp=True, fraction=1.0, profile=False, freeze=None, multi_scale=False, overlap_mask=True, mask_ratio=4, dropout=0.0, val=True, split=val, save_json=False, save_hybrid=False, conf=None, iou=0.7, max_det=300, half=False, dnn=False, plots=True, source=None, vid_stride=1, stream_buffer=False, visualize=False, augment=False, agnostic_nms=False, classes=None, retina_masks=False, embed=None, show=False, save_frames=False, save_txt=False, save_conf=False, save_crop=False, show_labels=True, show_conf=True, show_boxes=True, line_width=None, format=torchscript, keras=False, optimize=False, int8=False, dynamic=False, simplify=True, opset=None, workspace=None, nms=False, lr0=0.01, lrf=0.01, momentum=0.937, weight_decay=0.0005, warmup_epochs=3.0, warmup_momentum=0.8, warmup_bias_lr=0.1, box=7.5, cls=0.5, dfl=1.5, pose=12.0, kobj=1.0, nbs=64, hsv_h=0.015, hsv_s=0.7, hsv_v=0.4, degrees=0.0, translate=0.1, scale=0.5, shear=0.0, perspective=0.0, flipud=0.0, fliplr=0.5, bgr=0.0, mosaic=1.0, mixup=0.0, copy_paste=0.0, copy_paste_mode=flip, auto_augment=randaugment, erasing=0.4, crop_fraction=1.0, cfg=None, tracker=botsort.yaml, save_dir=runs/detect/train11\n",
            "Overriding model.yaml nc=80 with nc=8\n",
            "\n",
            "                   from  n    params  module                                       arguments                     \n",
            "  0                  -1  1      1392  ultralytics.nn.modules.conv.Conv             [3, 48, 3, 2]                 \n",
            "  1                  -1  1     41664  ultralytics.nn.modules.conv.Conv             [48, 96, 3, 2]                \n",
            "  2                  -1  2    111360  ultralytics.nn.modules.block.C2f             [96, 96, 2, True]             \n",
            "  3                  -1  1    166272  ultralytics.nn.modules.conv.Conv             [96, 192, 3, 2]               \n",
            "  4                  -1  4    813312  ultralytics.nn.modules.block.C2f             [192, 192, 4, True]           \n",
            "  5                  -1  1    664320  ultralytics.nn.modules.conv.Conv             [192, 384, 3, 2]              \n",
            "  6                  -1  4   3248640  ultralytics.nn.modules.block.C2f             [384, 384, 4, True]           \n",
            "  7                  -1  1   1991808  ultralytics.nn.modules.conv.Conv             [384, 576, 3, 2]              \n",
            "  8                  -1  2   3985920  ultralytics.nn.modules.block.C2f             [576, 576, 2, True]           \n",
            "  9                  -1  1    831168  ultralytics.nn.modules.block.SPPF            [576, 576, 5]                 \n",
            " 10                  -1  1         0  torch.nn.modules.upsampling.Upsample         [None, 2, 'nearest']          \n",
            " 11             [-1, 6]  1         0  ultralytics.nn.modules.conv.Concat           [1]                           \n",
            " 12                  -1  2   1993728  ultralytics.nn.modules.block.C2f             [960, 384, 2]                 \n",
            " 13                  -1  1         0  torch.nn.modules.upsampling.Upsample         [None, 2, 'nearest']          \n",
            " 14             [-1, 4]  1         0  ultralytics.nn.modules.conv.Concat           [1]                           \n",
            " 15                  -1  2    517632  ultralytics.nn.modules.block.C2f             [576, 192, 2]                 \n",
            " 16                  -1  1    332160  ultralytics.nn.modules.conv.Conv             [192, 192, 3, 2]              \n",
            " 17            [-1, 12]  1         0  ultralytics.nn.modules.conv.Concat           [1]                           \n",
            " 18                  -1  2   1846272  ultralytics.nn.modules.block.C2f             [576, 384, 2]                 \n",
            " 19                  -1  1   1327872  ultralytics.nn.modules.conv.Conv             [384, 384, 3, 2]              \n",
            " 20             [-1, 9]  1         0  ultralytics.nn.modules.conv.Concat           [1]                           \n",
            " 21                  -1  2   4207104  ultralytics.nn.modules.block.C2f             [960, 576, 2]                 \n",
            " 22        [15, 18, 21]  1   3780328  ultralytics.nn.modules.head.Detect           [8, [192, 384, 576]]          \n",
            "Model summary: 295 layers, 25,860,952 parameters, 25,860,936 gradients, 79.1 GFLOPs\n",
            "\n",
            "Transferred 469/475 items from pretrained weights\n",
            "\u001b[34m\u001b[1mTensorBoard: \u001b[0mStart with 'tensorboard --logdir runs/detect/train11', view at http://localhost:6006/\n",
            "Freezing layer 'model.22.dfl.conv.weight'\n",
            "\u001b[34m\u001b[1mAMP: \u001b[0mrunning Automatic Mixed Precision (AMP) checks...\n",
            "\u001b[34m\u001b[1mAMP: \u001b[0mchecks passed ✅\n"
          ]
        },
        {
          "name": "stderr",
          "output_type": "stream",
          "text": [
            "\u001b[34m\u001b[1mtrain: \u001b[0mScanning /content/drive/MyDrive/A_I/Ai/train/labels.cache... 236 images, 0 backgrounds, 0 corrupt: 100%|██████████| 236/236 [00:00<?, ?it/s]"
          ]
        },
        {
          "name": "stdout",
          "output_type": "stream",
          "text": [
            "\u001b[34m\u001b[1mtrain: \u001b[0mWARNING ⚠️ /content/drive/MyDrive/A_I/Ai/train/images/204_101_10_0a2a187d-ffc9-4358-8b41-da86465cd02d.jpg: corrupt JPEG restored and saved\n",
            "\u001b[34m\u001b[1mtrain: \u001b[0mWARNING ⚠️ /content/drive/MyDrive/A_I/Ai/train/images/204_101_10_2ba0bfd5-d0c7-41df-859a-286f27badb75.jpg: corrupt JPEG restored and saved\n",
            "\u001b[34m\u001b[1mtrain: \u001b[0mWARNING ⚠️ /content/drive/MyDrive/A_I/Ai/train/images/204_101_10_2cf1b80f-698e-4027-b508-1d524e9597b3.jpg: corrupt JPEG restored and saved\n",
            "\u001b[34m\u001b[1mtrain: \u001b[0mWARNING ⚠️ /content/drive/MyDrive/A_I/Ai/train/images/204_101_10_32f5de4b-d17b-44ef-bf80-ccc01e425304.jpg: corrupt JPEG restored and saved\n",
            "\u001b[34m\u001b[1mtrain: \u001b[0mWARNING ⚠️ /content/drive/MyDrive/A_I/Ai/train/images/204_101_10_51c63e60-6ee7-43d4-b106-2ca3a00f4577.jpg: corrupt JPEG restored and saved\n",
            "\u001b[34m\u001b[1mtrain: \u001b[0mWARNING ⚠️ /content/drive/MyDrive/A_I/Ai/train/images/204_101_10_5620de38-ef45-4fb1-a051-4067b7704f1c.jpg: corrupt JPEG restored and saved\n",
            "\u001b[34m\u001b[1mtrain: \u001b[0mWARNING ⚠️ /content/drive/MyDrive/A_I/Ai/train/images/204_101_10_563d12d6-13da-4b91-8591-474d32b80b9f.jpg: corrupt JPEG restored and saved\n",
            "\u001b[34m\u001b[1mtrain: \u001b[0mWARNING ⚠️ /content/drive/MyDrive/A_I/Ai/train/images/204_101_10_5cf6e308-930d-47e0-aad4-434e33028daa.jpg: corrupt JPEG restored and saved\n",
            "\u001b[34m\u001b[1mtrain: \u001b[0mWARNING ⚠️ /content/drive/MyDrive/A_I/Ai/train/images/204_101_10_68cd74b4-b8ed-4977-81f8-9f6de5dcdcd9.jpg: corrupt JPEG restored and saved\n",
            "\u001b[34m\u001b[1mtrain: \u001b[0mWARNING ⚠️ /content/drive/MyDrive/A_I/Ai/train/images/204_101_10_84966a23-3fdb-44a7-89be-2c628ea0ce78.jpg: corrupt JPEG restored and saved\n",
            "\u001b[34m\u001b[1mtrain: \u001b[0mWARNING ⚠️ /content/drive/MyDrive/A_I/Ai/train/images/204_101_10_9fd17520-ff57-416e-a6bb-dde9189a9790.jpg: corrupt JPEG restored and saved\n",
            "\u001b[34m\u001b[1mtrain: \u001b[0mWARNING ⚠️ /content/drive/MyDrive/A_I/Ai/train/images/204_101_10_bc231277-dde6-4863-8a0d-68b585eaab7a.jpg: corrupt JPEG restored and saved\n",
            "\u001b[34m\u001b[1mtrain: \u001b[0mWARNING ⚠️ /content/drive/MyDrive/A_I/Ai/train/images/204_101_10_eacdce61-0cef-47fb-829f-52432214e06b.jpg: corrupt JPEG restored and saved\n",
            "\u001b[34m\u001b[1mtrain: \u001b[0mWARNING ⚠️ /content/drive/MyDrive/A_I/Ai/train/images/204_101_10_f8b74492-d679-4177-85c2-a0460cb6f5d9.jpg: corrupt JPEG restored and saved\n",
            "\u001b[34m\u001b[1mtrain: \u001b[0mWARNING ⚠️ /content/drive/MyDrive/A_I/Ai/train/images/204_101_20_0e556ff0-34e3-453a-abcf-9e991f2fc138.jpg: corrupt JPEG restored and saved\n",
            "\u001b[34m\u001b[1mtrain: \u001b[0mWARNING ⚠️ /content/drive/MyDrive/A_I/Ai/train/images/204_101_20_5a394146-52b2-4e4c-802b-d66a0860b704.jpg: corrupt JPEG restored and saved\n",
            "\u001b[34m\u001b[1mtrain: \u001b[0mWARNING ⚠️ /content/drive/MyDrive/A_I/Ai/train/images/204_101_20_6fb55d2a-1026-47a7-966a-8ff966e3a0c9.jpeg: corrupt JPEG restored and saved\n",
            "\u001b[34m\u001b[1mtrain: \u001b[0mWARNING ⚠️ /content/drive/MyDrive/A_I/Ai/train/images/204_101_20_c46e91c6-ca88-430a-ba4f-e1d4cc0e5a04.jpg: corrupt JPEG restored and saved\n",
            "\u001b[34m\u001b[1mtrain: \u001b[0mWARNING ⚠️ /content/drive/MyDrive/A_I/Ai/train/images/204_101_20_ee4493e6-f9c6-47f6-9a16-5a9a321abb06.jpg: corrupt JPEG restored and saved\n",
            "\u001b[34m\u001b[1mtrain: \u001b[0mWARNING ⚠️ /content/drive/MyDrive/A_I/Ai/train/images/204_102_10_23d01ce6-53b0-4aa3-9cc9-d2cb8a9d16d5.jpg: corrupt JPEG restored and saved\n",
            "\u001b[34m\u001b[1mtrain: \u001b[0mWARNING ⚠️ /content/drive/MyDrive/A_I/Ai/train/images/204_102_10_3325761e-e65b-4481-9821-3d5b8f482cb6.jpg: corrupt JPEG restored and saved\n",
            "\u001b[34m\u001b[1mtrain: \u001b[0mWARNING ⚠️ /content/drive/MyDrive/A_I/Ai/train/images/204_102_10_33f74fe0-6481-42bb-a3cf-cf4904f24728.jpg: corrupt JPEG restored and saved\n",
            "\u001b[34m\u001b[1mtrain: \u001b[0mWARNING ⚠️ /content/drive/MyDrive/A_I/Ai/train/images/204_102_10_36f7ff45-e1aa-4bb1-89ba-3bb39e0596f4.jpg: corrupt JPEG restored and saved\n",
            "\u001b[34m\u001b[1mtrain: \u001b[0mWARNING ⚠️ /content/drive/MyDrive/A_I/Ai/train/images/204_102_10_40606b9f-4d42-4566-af0a-da4d2be5b4d2.jpg: corrupt JPEG restored and saved\n",
            "\u001b[34m\u001b[1mtrain: \u001b[0mWARNING ⚠️ /content/drive/MyDrive/A_I/Ai/train/images/204_102_10_6ba46b1b-31a2-4467-aaec-e13da1d5e0f4.jpg: corrupt JPEG restored and saved\n",
            "\u001b[34m\u001b[1mtrain: \u001b[0mWARNING ⚠️ /content/drive/MyDrive/A_I/Ai/train/images/204_102_10_6cc3e83e-6bc8-40c4-a0ef-b42db375accc.jpg: corrupt JPEG restored and saved\n",
            "\u001b[34m\u001b[1mtrain: \u001b[0mWARNING ⚠️ /content/drive/MyDrive/A_I/Ai/train/images/204_102_10_7cd44798-685e-45db-85c0-7be28d374be9.jpg: corrupt JPEG restored and saved\n",
            "\u001b[34m\u001b[1mtrain: \u001b[0mWARNING ⚠️ /content/drive/MyDrive/A_I/Ai/train/images/204_102_10_a39bbd58-6768-4fc1-9801-22f951b23992.jpg: corrupt JPEG restored and saved\n",
            "\u001b[34m\u001b[1mtrain: \u001b[0mWARNING ⚠️ /content/drive/MyDrive/A_I/Ai/train/images/204_102_10_aab091a7-c385-4e17-af61-11c6a37377f9.jpg: corrupt JPEG restored and saved\n",
            "\u001b[34m\u001b[1mtrain: \u001b[0mWARNING ⚠️ /content/drive/MyDrive/A_I/Ai/train/images/204_102_10_d794c9f3-f813-4c2c-9424-bd47713a3241.jpg: corrupt JPEG restored and saved\n",
            "\u001b[34m\u001b[1mtrain: \u001b[0mWARNING ⚠️ /content/drive/MyDrive/A_I/Ai/train/images/204_102_20_7acf32cd-113b-4d11-b6a9-6087528666b4.jpg: corrupt JPEG restored and saved\n",
            "\u001b[34m\u001b[1mtrain: \u001b[0mWARNING ⚠️ /content/drive/MyDrive/A_I/Ai/train/images/204_102_20_7c54a64e-988e-4f99-80e4-f35a4d9e41db.jpg: corrupt JPEG restored and saved\n",
            "\u001b[34m\u001b[1mtrain: \u001b[0mWARNING ⚠️ /content/drive/MyDrive/A_I/Ai/train/images/205_101_10_053a2d06-aec9-4456-b888-2787e38b3715.jpg: corrupt JPEG restored and saved\n",
            "\u001b[34m\u001b[1mtrain: \u001b[0mWARNING ⚠️ /content/drive/MyDrive/A_I/Ai/train/images/205_101_10_0ad6dedd-808a-485d-bdc4-3e30743c41d8.jpg: corrupt JPEG restored and saved\n",
            "\u001b[34m\u001b[1mtrain: \u001b[0mWARNING ⚠️ /content/drive/MyDrive/A_I/Ai/train/images/205_101_10_4e372ab8-4642-4f47-8766-1dd2ff186f14.jpg: corrupt JPEG restored and saved\n",
            "\u001b[34m\u001b[1mtrain: \u001b[0mWARNING ⚠️ /content/drive/MyDrive/A_I/Ai/train/images/205_101_10_888c302c-d6d4-4fbc-b7d5-c94074c6d0fb.jpg: corrupt JPEG restored and saved\n",
            "\u001b[34m\u001b[1mtrain: \u001b[0mWARNING ⚠️ /content/drive/MyDrive/A_I/Ai/train/images/205_101_10_b0339a40-d429-4291-b583-e912044a28b8.jpg: corrupt JPEG restored and saved\n",
            "\u001b[34m\u001b[1mtrain: \u001b[0mWARNING ⚠️ /content/drive/MyDrive/A_I/Ai/train/images/205_101_10_cedccb63-5e2c-4b8c-a9cd-c367b8658fbb.jpg: corrupt JPEG restored and saved\n",
            "\u001b[34m\u001b[1mtrain: \u001b[0mWARNING ⚠️ /content/drive/MyDrive/A_I/Ai/train/images/205_101_10_f6af5b86-992a-4e7e-a720-9d5ea61ccfe6.jpg: corrupt JPEG restored and saved\n",
            "\u001b[34m\u001b[1mtrain: \u001b[0mWARNING ⚠️ /content/drive/MyDrive/A_I/Ai/train/images/205_101_20_05b4b1a5-6a7a-4e68-bdb5-17316ae94eb4.jpg: corrupt JPEG restored and saved\n",
            "\u001b[34m\u001b[1mtrain: \u001b[0mWARNING ⚠️ /content/drive/MyDrive/A_I/Ai/train/images/205_101_20_19298b71-ba9a-4c6e-92b9-ca7db4b38a7f.jpg: corrupt JPEG restored and saved\n",
            "\u001b[34m\u001b[1mtrain: \u001b[0mWARNING ⚠️ /content/drive/MyDrive/A_I/Ai/train/images/205_101_20_1bc4abca-5213-4919-b562-f8fd7ff5437f.jpg: corrupt JPEG restored and saved\n",
            "\u001b[34m\u001b[1mtrain: \u001b[0mWARNING ⚠️ /content/drive/MyDrive/A_I/Ai/train/images/205_101_20_245828fd-5d9f-44d3-8fd5-133ee59e829c.jpg: corrupt JPEG restored and saved\n",
            "\u001b[34m\u001b[1mtrain: \u001b[0mWARNING ⚠️ /content/drive/MyDrive/A_I/Ai/train/images/205_101_20_28b7e211-4a69-492d-ab6d-4a772169cd1d.jpg: corrupt JPEG restored and saved\n",
            "\u001b[34m\u001b[1mtrain: \u001b[0mWARNING ⚠️ /content/drive/MyDrive/A_I/Ai/train/images/205_101_20_2da2a079-a3d1-4bb9-aa74-ba5f81429435.jpg: corrupt JPEG restored and saved\n",
            "\u001b[34m\u001b[1mtrain: \u001b[0mWARNING ⚠️ /content/drive/MyDrive/A_I/Ai/train/images/205_101_20_37ba50f3-7010-407c-879f-67b6da4705d7.jpg: corrupt JPEG restored and saved\n",
            "\u001b[34m\u001b[1mtrain: \u001b[0mWARNING ⚠️ /content/drive/MyDrive/A_I/Ai/train/images/205_101_20_391a1bb6-b396-4d9d-a892-96557f567c51.jpg: corrupt JPEG restored and saved\n",
            "\u001b[34m\u001b[1mtrain: \u001b[0mWARNING ⚠️ /content/drive/MyDrive/A_I/Ai/train/images/205_101_20_3982165c-8ba0-4d8d-a88f-8b7e7528ae67.jpg: corrupt JPEG restored and saved\n",
            "\u001b[34m\u001b[1mtrain: \u001b[0mWARNING ⚠️ /content/drive/MyDrive/A_I/Ai/train/images/205_101_20_40200343-40e3-4269-a82a-2bbe877ee402.jpg: corrupt JPEG restored and saved\n",
            "\u001b[34m\u001b[1mtrain: \u001b[0mWARNING ⚠️ /content/drive/MyDrive/A_I/Ai/train/images/205_101_20_493aa76f-dec8-4bdf-accb-97c98cf81c7e.jpg: corrupt JPEG restored and saved\n",
            "\u001b[34m\u001b[1mtrain: \u001b[0mWARNING ⚠️ /content/drive/MyDrive/A_I/Ai/train/images/205_101_20_5974472e-e3dd-4fcb-82df-07d4d35e0fa7.jpg: corrupt JPEG restored and saved\n",
            "\u001b[34m\u001b[1mtrain: \u001b[0mWARNING ⚠️ /content/drive/MyDrive/A_I/Ai/train/images/205_101_20_6af24df1-7a6c-423c-8d8e-ed6168d6d835.jpg: corrupt JPEG restored and saved\n",
            "\u001b[34m\u001b[1mtrain: \u001b[0mWARNING ⚠️ /content/drive/MyDrive/A_I/Ai/train/images/205_101_20_7af7a506-22d2-4c78-b23d-082d58c10865.jpg: corrupt JPEG restored and saved\n",
            "\u001b[34m\u001b[1mtrain: \u001b[0mWARNING ⚠️ /content/drive/MyDrive/A_I/Ai/train/images/205_101_20_8daf9a40-036e-4a8a-8a09-0d59d4d99327.jpg: corrupt JPEG restored and saved\n",
            "\u001b[34m\u001b[1mtrain: \u001b[0mWARNING ⚠️ /content/drive/MyDrive/A_I/Ai/train/images/205_101_20_91eed014-2855-4f76-b1be-277823911c11.jpg: corrupt JPEG restored and saved\n",
            "\u001b[34m\u001b[1mtrain: \u001b[0mWARNING ⚠️ /content/drive/MyDrive/A_I/Ai/train/images/205_101_20_96ef38fa-2e29-4852-8481-054ac6c8d4b9.jpg: corrupt JPEG restored and saved\n",
            "\u001b[34m\u001b[1mtrain: \u001b[0mWARNING ⚠️ /content/drive/MyDrive/A_I/Ai/train/images/205_101_20_9bcf39f2-b7d7-4465-86aa-b1d13e43793f.jpg: corrupt JPEG restored and saved\n",
            "\u001b[34m\u001b[1mtrain: \u001b[0mWARNING ⚠️ /content/drive/MyDrive/A_I/Ai/train/images/205_101_20_a7ba597e-eac4-4351-bf09-43e6a878eb1a.jpg: corrupt JPEG restored and saved\n",
            "\u001b[34m\u001b[1mtrain: \u001b[0mWARNING ⚠️ /content/drive/MyDrive/A_I/Ai/train/images/205_101_20_c691ec01-3cfc-4466-952c-ff877dcc411a.jpg: corrupt JPEG restored and saved\n",
            "\u001b[34m\u001b[1mtrain: \u001b[0mWARNING ⚠️ /content/drive/MyDrive/A_I/Ai/train/images/205_101_20_c7e08cf6-a6cc-4217-a21f-1653a44d8e5b.jpg: corrupt JPEG restored and saved\n",
            "\u001b[34m\u001b[1mtrain: \u001b[0mWARNING ⚠️ /content/drive/MyDrive/A_I/Ai/train/images/205_101_20_d7504074-f53e-4c44-84ec-636e61f902ac.jpg: corrupt JPEG restored and saved\n",
            "\u001b[34m\u001b[1mtrain: \u001b[0mWARNING ⚠️ /content/drive/MyDrive/A_I/Ai/train/images/205_101_20_d883545a-0f72-4479-ada9-6e5ef9cea178.jpg: corrupt JPEG restored and saved\n",
            "\u001b[34m\u001b[1mtrain: \u001b[0mWARNING ⚠️ /content/drive/MyDrive/A_I/Ai/train/images/205_101_20_d9ba7385-ade1-4c34-9b5c-a499a16c5b70.jpg: corrupt JPEG restored and saved\n",
            "\u001b[34m\u001b[1mtrain: \u001b[0mWARNING ⚠️ /content/drive/MyDrive/A_I/Ai/train/images/205_101_20_de0c7734-c69c-481d-9b4c-4d597f8717ad.jpg: corrupt JPEG restored and saved\n",
            "\u001b[34m\u001b[1mtrain: \u001b[0mWARNING ⚠️ /content/drive/MyDrive/A_I/Ai/train/images/205_101_20_e3e88099-0cf6-40da-8ac0-88bba0b7d1d6.jpg: corrupt JPEG restored and saved\n",
            "\u001b[34m\u001b[1mtrain: \u001b[0mWARNING ⚠️ /content/drive/MyDrive/A_I/Ai/train/images/205_101_20_e77f8752-e878-4654-9584-4a5320a556f5.jpg: corrupt JPEG restored and saved\n",
            "\u001b[34m\u001b[1mtrain: \u001b[0mWARNING ⚠️ /content/drive/MyDrive/A_I/Ai/train/images/205_101_20_ed3bf2a4-17d4-4677-a39b-4b67d083f507.jpg: corrupt JPEG restored and saved\n",
            "\u001b[34m\u001b[1mtrain: \u001b[0mWARNING ⚠️ /content/drive/MyDrive/A_I/Ai/train/images/205_101_20_f085171b-ed13-45ea-bed8-bc7a6c3a96bb.jpg: corrupt JPEG restored and saved\n",
            "\u001b[34m\u001b[1mtrain: \u001b[0mWARNING ⚠️ /content/drive/MyDrive/A_I/Ai/train/images/205_101_20_fb836cb1-4cd9-480e-9465-30f0d56cd8e0.jpg: corrupt JPEG restored and saved\n",
            "\u001b[34m\u001b[1mtrain: \u001b[0mWARNING ⚠️ /content/drive/MyDrive/A_I/Ai/train/images/207_102_10_0b59fb1f-094b-4b41-b898-e20b23e2b32a.jpg: corrupt JPEG restored and saved\n",
            "\u001b[34m\u001b[1mtrain: \u001b[0mWARNING ⚠️ /content/drive/MyDrive/A_I/Ai/train/images/207_102_10_223712df-018e-4ceb-a2cc-788590216f8c.jpg: corrupt JPEG restored and saved\n",
            "\u001b[34m\u001b[1mtrain: \u001b[0mWARNING ⚠️ /content/drive/MyDrive/A_I/Ai/train/images/207_102_10_28030d39-cf4f-428f-8613-0bab5fb292ef.jpg: corrupt JPEG restored and saved\n",
            "\u001b[34m\u001b[1mtrain: \u001b[0mWARNING ⚠️ /content/drive/MyDrive/A_I/Ai/train/images/207_102_10_329a47d8-5135-4a23-8f04-88570a7fc580.jpg: corrupt JPEG restored and saved\n",
            "\u001b[34m\u001b[1mtrain: \u001b[0mWARNING ⚠️ /content/drive/MyDrive/A_I/Ai/train/images/207_102_10_37822852-a682-47e7-af7e-27fbe5f0f95d.jpg: corrupt JPEG restored and saved\n",
            "\u001b[34m\u001b[1mtrain: \u001b[0mWARNING ⚠️ /content/drive/MyDrive/A_I/Ai/train/images/207_102_10_40d62cc2-6580-4c91-a0de-9e0731e448ab.jpg: corrupt JPEG restored and saved\n",
            "\u001b[34m\u001b[1mtrain: \u001b[0mWARNING ⚠️ /content/drive/MyDrive/A_I/Ai/train/images/207_102_10_46971917-39b0-4b86-8da6-eec4b3ef3156.jpg: corrupt JPEG restored and saved\n",
            "\u001b[34m\u001b[1mtrain: \u001b[0mWARNING ⚠️ /content/drive/MyDrive/A_I/Ai/train/images/207_102_10_632d0086-f4f8-4a29-bffd-05354cba4a9d.jpg: corrupt JPEG restored and saved\n",
            "\u001b[34m\u001b[1mtrain: \u001b[0mWARNING ⚠️ /content/drive/MyDrive/A_I/Ai/train/images/207_102_10_98b4982e-8713-4666-992b-27652aea77db.jpg: corrupt JPEG restored and saved\n",
            "\u001b[34m\u001b[1mtrain: \u001b[0mWARNING ⚠️ /content/drive/MyDrive/A_I/Ai/train/images/207_102_10_a7084583-d80b-4bc7-bfad-1678353d68f8.jpg: corrupt JPEG restored and saved\n",
            "\u001b[34m\u001b[1mtrain: \u001b[0mWARNING ⚠️ /content/drive/MyDrive/A_I/Ai/train/images/207_102_10_ad20cb9e-f10f-4320-b4dd-35cb6dbecc79.jpg: corrupt JPEG restored and saved\n",
            "\u001b[34m\u001b[1mtrain: \u001b[0mWARNING ⚠️ /content/drive/MyDrive/A_I/Ai/train/images/207_102_10_af05da65-f2e9-4e92-8c4e-a6710a2f0752.jpg: corrupt JPEG restored and saved\n",
            "\u001b[34m\u001b[1mtrain: \u001b[0mWARNING ⚠️ /content/drive/MyDrive/A_I/Ai/train/images/207_102_10_d546b60f-3d09-4956-a414-38b276a874d2.jpg: corrupt JPEG restored and saved\n",
            "\u001b[34m\u001b[1mtrain: \u001b[0mWARNING ⚠️ /content/drive/MyDrive/A_I/Ai/train/images/207_102_10_e2510781-cc19-47b5-93b7-cb1ad792bd84.jpg: corrupt JPEG restored and saved\n",
            "\u001b[34m\u001b[1mtrain: \u001b[0mWARNING ⚠️ /content/drive/MyDrive/A_I/Ai/train/images/207_102_10_f677a8a8-972d-4bcd-8501-7d9f946171e4.jpg: corrupt JPEG restored and saved\n",
            "\u001b[34m\u001b[1mtrain: \u001b[0mWARNING ⚠️ /content/drive/MyDrive/A_I/Ai/train/images/207_102_20_1827d0ba-48ca-4f84-b94f-438f9c7bf806.jpg: corrupt JPEG restored and saved\n",
            "\u001b[34m\u001b[1mtrain: \u001b[0mWARNING ⚠️ /content/drive/MyDrive/A_I/Ai/train/images/207_102_20_18c7e0b2-f2d0-457b-b933-b19cbe66c197.jpg: corrupt JPEG restored and saved\n",
            "\u001b[34m\u001b[1mtrain: \u001b[0mWARNING ⚠️ /content/drive/MyDrive/A_I/Ai/train/images/207_102_20_1ed3b7ab-81ed-4760-bd6c-4c796482ea4a.jpg: corrupt JPEG restored and saved\n",
            "\u001b[34m\u001b[1mtrain: \u001b[0mWARNING ⚠️ /content/drive/MyDrive/A_I/Ai/train/images/207_102_20_20e37fd0-2cf9-4d57-b3a8-a4b6c52b543b.jpg: corrupt JPEG restored and saved\n",
            "\u001b[34m\u001b[1mtrain: \u001b[0mWARNING ⚠️ /content/drive/MyDrive/A_I/Ai/train/images/207_102_20_304b74bb-a7c5-4c00-9b24-1f1fbbe9cce3.jpg: corrupt JPEG restored and saved\n",
            "\u001b[34m\u001b[1mtrain: \u001b[0mWARNING ⚠️ /content/drive/MyDrive/A_I/Ai/train/images/207_102_20_34555353-31c5-4290-8b82-2fe47234733b.jpg: corrupt JPEG restored and saved\n",
            "\u001b[34m\u001b[1mtrain: \u001b[0mWARNING ⚠️ /content/drive/MyDrive/A_I/Ai/train/images/207_102_20_34bd56b2-bf57-412d-bbd4-a4fddcc394a7.jpg: corrupt JPEG restored and saved\n",
            "\u001b[34m\u001b[1mtrain: \u001b[0mWARNING ⚠️ /content/drive/MyDrive/A_I/Ai/train/images/207_102_20_3d68d91e-bd6f-47ed-a179-90eb9652f949.jpg: corrupt JPEG restored and saved\n",
            "\u001b[34m\u001b[1mtrain: \u001b[0mWARNING ⚠️ /content/drive/MyDrive/A_I/Ai/train/images/207_102_20_4bb98d21-08ff-41d5-a66e-ca6e28056234.jpg: corrupt JPEG restored and saved\n",
            "\u001b[34m\u001b[1mtrain: \u001b[0mWARNING ⚠️ /content/drive/MyDrive/A_I/Ai/train/images/207_102_20_5132a130-a03e-4658-9ea0-66f669546334.jpg: corrupt JPEG restored and saved\n",
            "\u001b[34m\u001b[1mtrain: \u001b[0mWARNING ⚠️ /content/drive/MyDrive/A_I/Ai/train/images/207_102_20_8c2a5f29-c4a6-4acb-b5ac-aef1550bf22c.jpg: corrupt JPEG restored and saved\n",
            "\u001b[34m\u001b[1mtrain: \u001b[0mWARNING ⚠️ /content/drive/MyDrive/A_I/Ai/train/images/207_102_20_9ae20fce-e6c8-4c6f-9b71-aefba9cacd77.jpg: corrupt JPEG restored and saved\n",
            "\u001b[34m\u001b[1mtrain: \u001b[0mWARNING ⚠️ /content/drive/MyDrive/A_I/Ai/train/images/207_102_20_e57c0350-57f1-45b7-9c28-ddbd95a621b2.jpg: corrupt JPEG restored and saved\n",
            "\u001b[34m\u001b[1mtrain: \u001b[0mWARNING ⚠️ /content/drive/MyDrive/A_I/Ai/train/images/207_102_20_f41d3750-5e2a-4eaa-8ba4-d4d2b65bce01.jpg: corrupt JPEG restored and saved\n",
            "\u001b[34m\u001b[1mtrain: \u001b[0mWARNING ⚠️ /content/drive/MyDrive/A_I/Ai/train/images/207_102_20_ff4807ea-5f43-492f-9cf3-88fc2d364cd8.jpg: corrupt JPEG restored and saved\n",
            "\u001b[34m\u001b[1mtrain: \u001b[0mWARNING ⚠️ /content/drive/MyDrive/A_I/Ai/train/images/207_204_10_3aad1f26-88ae-4fb8-a034-b773283b9312.jpg: corrupt JPEG restored and saved\n",
            "\u001b[34m\u001b[1mtrain: \u001b[0mWARNING ⚠️ /content/drive/MyDrive/A_I/Ai/train/images/207_204_10_6b8e0083-d726-4350-89ef-46efbdc2f5dc.jpg: corrupt JPEG restored and saved\n",
            "\u001b[34m\u001b[1mtrain: \u001b[0mWARNING ⚠️ /content/drive/MyDrive/A_I/Ai/train/images/207_204_10_a5768f76-b929-4296-b764-a5d6906d45e4.jpg: corrupt JPEG restored and saved\n",
            "\u001b[34m\u001b[1mtrain: \u001b[0mWARNING ⚠️ /content/drive/MyDrive/A_I/Ai/train/images/207_204_10_c3cb46fc-eaff-4416-95e8-66da7eae7f98.jpg: corrupt JPEG restored and saved\n",
            "\u001b[34m\u001b[1mtrain: \u001b[0mWARNING ⚠️ /content/drive/MyDrive/A_I/Ai/train/images/207_204_10_dc776675-48a4-4512-8bb5-9ce614a058ae.jpg: corrupt JPEG restored and saved\n",
            "\u001b[34m\u001b[1mtrain: \u001b[0mWARNING ⚠️ /content/drive/MyDrive/A_I/Ai/train/images/207_204_20_000733ee-de1c-4483-a8fd-9c1afe985a38.jpg: corrupt JPEG restored and saved\n",
            "\u001b[34m\u001b[1mtrain: \u001b[0mWARNING ⚠️ /content/drive/MyDrive/A_I/Ai/train/images/207_204_20_15f1a857-ee1f-45a9-a915-496d4f1af8a4.jpg: corrupt JPEG restored and saved\n",
            "\u001b[34m\u001b[1mtrain: \u001b[0mWARNING ⚠️ /content/drive/MyDrive/A_I/Ai/train/images/207_204_20_17d28aa2-56cb-4fc0-9595-18c2dac83a99.jpg: corrupt JPEG restored and saved\n",
            "\u001b[34m\u001b[1mtrain: \u001b[0mWARNING ⚠️ /content/drive/MyDrive/A_I/Ai/train/images/207_204_20_256b6b0a-3eff-4ff1-93e4-c80ebf52b240.jpg: corrupt JPEG restored and saved\n",
            "\u001b[34m\u001b[1mtrain: \u001b[0mWARNING ⚠️ /content/drive/MyDrive/A_I/Ai/train/images/207_204_20_2a94bd52-2336-48db-bdef-47a262cd39ca.jpg: corrupt JPEG restored and saved\n",
            "\u001b[34m\u001b[1mtrain: \u001b[0mWARNING ⚠️ /content/drive/MyDrive/A_I/Ai/train/images/207_204_20_2ef111ad-52be-4637-8dcd-8086017e7c93.jpg: corrupt JPEG restored and saved\n",
            "\u001b[34m\u001b[1mtrain: \u001b[0mWARNING ⚠️ /content/drive/MyDrive/A_I/Ai/train/images/207_204_20_34ae3ace-cfc0-43a2-880f-3e7dc745e5ac.jpg: corrupt JPEG restored and saved\n",
            "\u001b[34m\u001b[1mtrain: \u001b[0mWARNING ⚠️ /content/drive/MyDrive/A_I/Ai/train/images/207_204_20_38e75323-4e9e-4b24-b83f-e4b1f7fa9428.jpg: corrupt JPEG restored and saved\n",
            "\u001b[34m\u001b[1mtrain: \u001b[0mWARNING ⚠️ /content/drive/MyDrive/A_I/Ai/train/images/207_204_20_53376b7f-dfaf-4fc5-a1aa-2c5814ab7a28.jpg: corrupt JPEG restored and saved\n",
            "\u001b[34m\u001b[1mtrain: \u001b[0mWARNING ⚠️ /content/drive/MyDrive/A_I/Ai/train/images/207_204_20_6c261597-c1e3-4751-b5d7-6fd7da7eea65.jpg: corrupt JPEG restored and saved\n",
            "\u001b[34m\u001b[1mtrain: \u001b[0mWARNING ⚠️ /content/drive/MyDrive/A_I/Ai/train/images/207_204_20_8b95c2d7-8e6e-4b28-9430-5c0c08afaea8.jpg: corrupt JPEG restored and saved\n",
            "\u001b[34m\u001b[1mtrain: \u001b[0mWARNING ⚠️ /content/drive/MyDrive/A_I/Ai/train/images/207_204_20_8f1bd272-a0a1-4f4b-829d-b6441691eaaf.jpg: corrupt JPEG restored and saved\n",
            "\u001b[34m\u001b[1mtrain: \u001b[0mWARNING ⚠️ /content/drive/MyDrive/A_I/Ai/train/images/207_204_20_a4f71700-9b57-4b0c-9605-c34a56f37ed5.jpg: corrupt JPEG restored and saved\n",
            "\u001b[34m\u001b[1mtrain: \u001b[0mWARNING ⚠️ /content/drive/MyDrive/A_I/Ai/train/images/207_204_20_cddc564a-435e-42f8-ac1c-016d8f8d7d2c.jpg: corrupt JPEG restored and saved\n",
            "\u001b[34m\u001b[1mtrain: \u001b[0mWARNING ⚠️ /content/drive/MyDrive/A_I/Ai/train/images/207_204_20_d8c4fcda-9b6e-40ce-9014-228cfae3855e.jpg: corrupt JPEG restored and saved\n",
            "\u001b[34m\u001b[1mtrain: \u001b[0mWARNING ⚠️ /content/drive/MyDrive/A_I/Ai/train/images/207_204_20_dac2be9e-5a87-4b87-a295-34f1a8ab646c.jpg: corrupt JPEG restored and saved\n",
            "\u001b[34m\u001b[1mtrain: \u001b[0mWARNING ⚠️ /content/drive/MyDrive/A_I/Ai/train/images/207_204_20_e01b690e-09c0-4407-9cfa-8745ba0778cd.jpg: corrupt JPEG restored and saved\n",
            "\u001b[34m\u001b[1mtrain: \u001b[0mWARNING ⚠️ /content/drive/MyDrive/A_I/Ai/train/images/207_204_20_f3dca5e2-3b46-4081-991d-b8246f238990.jpg: corrupt JPEG restored and saved\n",
            "\u001b[34m\u001b[1mtrain: \u001b[0mWARNING ⚠️ /content/drive/MyDrive/A_I/Ai/train/images/207_204_20_f948bdaf-154a-4f45-ae73-ca70d895cdbc.jpg: corrupt JPEG restored and saved\n",
            "\u001b[34m\u001b[1mtrain: \u001b[0mWARNING ⚠️ /content/drive/MyDrive/A_I/Ai/train/images/207_204_20_fe1a7aaa-cb95-452f-a2f7-bdeba34e9132.jpg: corrupt JPEG restored and saved\n",
            "\u001b[34m\u001b[1mtrain: \u001b[0mWARNING ⚠️ /content/drive/MyDrive/A_I/Ai/train/images/207_212_10_18df72bf-65de-4af7-917d-ce3bec540768.jpg: corrupt JPEG restored and saved\n",
            "\u001b[34m\u001b[1mtrain: \u001b[0mWARNING ⚠️ /content/drive/MyDrive/A_I/Ai/train/images/207_212_20_0a7c77b6-46d6-409f-8d46-a0647b5770d5.jpg: corrupt JPEG restored and saved\n",
            "\u001b[34m\u001b[1mtrain: \u001b[0mWARNING ⚠️ /content/drive/MyDrive/A_I/Ai/train/images/207_212_20_1fa79b85-824a-4ac7-8b27-b154845eb4bb.jpg: corrupt JPEG restored and saved\n",
            "\u001b[34m\u001b[1mtrain: \u001b[0mWARNING ⚠️ /content/drive/MyDrive/A_I/Ai/train/images/207_212_20_2d7907a5-5e6e-4cf6-9586-f69c99dadd64.jpg: corrupt JPEG restored and saved\n",
            "\u001b[34m\u001b[1mtrain: \u001b[0mWARNING ⚠️ /content/drive/MyDrive/A_I/Ai/train/images/207_212_20_2f2ea53a-703b-4341-b36f-716642a2dd17.jpg: corrupt JPEG restored and saved\n",
            "\u001b[34m\u001b[1mtrain: \u001b[0mWARNING ⚠️ /content/drive/MyDrive/A_I/Ai/train/images/207_212_20_33af8e26-7021-421c-88fe-683c37c5e565.jpg: corrupt JPEG restored and saved\n",
            "\u001b[34m\u001b[1mtrain: \u001b[0mWARNING ⚠️ /content/drive/MyDrive/A_I/Ai/train/images/207_212_20_432ebb29-984e-4f3d-92a0-de47c3e04d47.jpg: corrupt JPEG restored and saved\n",
            "\u001b[34m\u001b[1mtrain: \u001b[0mWARNING ⚠️ /content/drive/MyDrive/A_I/Ai/train/images/207_212_20_49f99135-033c-4014-917a-9e3a41b90841.jpg: corrupt JPEG restored and saved\n",
            "\u001b[34m\u001b[1mtrain: \u001b[0mWARNING ⚠️ /content/drive/MyDrive/A_I/Ai/train/images/207_212_20_7a575767-5948-4d22-a600-de6e176216ee.jpg: corrupt JPEG restored and saved\n",
            "\u001b[34m\u001b[1mtrain: \u001b[0mWARNING ⚠️ /content/drive/MyDrive/A_I/Ai/train/images/207_212_20_9a7ec8a5-a704-4be4-8623-d913c7d0eb86.jpg: corrupt JPEG restored and saved\n",
            "\u001b[34m\u001b[1mtrain: \u001b[0mWARNING ⚠️ /content/drive/MyDrive/A_I/Ai/train/images/207_212_20_9ff2536c-4ea9-457b-a073-3cdf79d0c3e5.jpg: corrupt JPEG restored and saved\n",
            "\u001b[34m\u001b[1mtrain: \u001b[0mWARNING ⚠️ /content/drive/MyDrive/A_I/Ai/train/images/207_212_20_a7662c8b-dbdb-4b27-89a2-3cd079beed0e.jpg: corrupt JPEG restored and saved\n",
            "\u001b[34m\u001b[1mtrain: \u001b[0mWARNING ⚠️ /content/drive/MyDrive/A_I/Ai/train/images/207_212_20_ab5ebac4-4369-4347-bf0a-44dacc89183c.jpg: corrupt JPEG restored and saved\n",
            "\u001b[34m\u001b[1mtrain: \u001b[0mWARNING ⚠️ /content/drive/MyDrive/A_I/Ai/train/images/207_212_20_c62ee3fd-11ec-4fe5-b87b-10ed619f3528.jpg: corrupt JPEG restored and saved\n",
            "\u001b[34m\u001b[1mtrain: \u001b[0mWARNING ⚠️ /content/drive/MyDrive/A_I/Ai/train/images/207_212_20_dc07eb0b-c43d-4eaa-9b3c-5fa23f6b1604.jpg: corrupt JPEG restored and saved\n",
            "\u001b[34m\u001b[1mtrain: \u001b[0mWARNING ⚠️ /content/drive/MyDrive/A_I/Ai/train/images/207_212_20_fc27eee2-1705-4c07-a9f4-cf95a7099167.jpg: corrupt JPEG restored and saved\n",
            "\u001b[34m\u001b[1mtrain: \u001b[0mWARNING ⚠️ /content/drive/MyDrive/A_I/Ai/train/images/207_213_10_ebeae3bd-ab18-4a72-ad3f-a8f2ce1aa035.jpg: corrupt JPEG restored and saved\n",
            "\u001b[34m\u001b[1mtrain: \u001b[0mWARNING ⚠️ /content/drive/MyDrive/A_I/Ai/train/images/207_213_20_417f18b2-30b3-46a6-ad19-085d1ba28272.jpg: corrupt JPEG restored and saved\n",
            "\u001b[34m\u001b[1mtrain: \u001b[0mWARNING ⚠️ /content/drive/MyDrive/A_I/Ai/train/images/207_213_20_427e8a05-0be0-4fb3-8adb-704e0639fdf5.jpg: corrupt JPEG restored and saved\n",
            "\u001b[34m\u001b[1mtrain: \u001b[0mWARNING ⚠️ /content/drive/MyDrive/A_I/Ai/train/images/207_213_20_6773abc5-74eb-40f5-8e58-a7d32b5c21fe.jpg: corrupt JPEG restored and saved\n",
            "\u001b[34m\u001b[1mtrain: \u001b[0mWARNING ⚠️ /content/drive/MyDrive/A_I/Ai/train/images/207_213_20_69f0f652-1cbb-4c9a-b6e6-28e2bfb36244.jpg: corrupt JPEG restored and saved\n",
            "\u001b[34m\u001b[1mtrain: \u001b[0mWARNING ⚠️ /content/drive/MyDrive/A_I/Ai/train/images/207_213_20_7bb62103-3cd9-433e-a6ad-34a2186916c7.jpg: corrupt JPEG restored and saved\n",
            "\u001b[34m\u001b[1mtrain: \u001b[0mWARNING ⚠️ /content/drive/MyDrive/A_I/Ai/train/images/207_213_20_91654d09-b07f-46a5-9411-9f3b70638ca3.jpg: corrupt JPEG restored and saved\n",
            "\u001b[34m\u001b[1mtrain: \u001b[0mWARNING ⚠️ /content/drive/MyDrive/A_I/Ai/train/images/207_213_20_ba83ebde-0826-4fc2-895b-f76bf4047da1.jpg: corrupt JPEG restored and saved\n",
            "\u001b[34m\u001b[1mtrain: \u001b[0mWARNING ⚠️ /content/drive/MyDrive/A_I/Ai/train/images/207_213_20_d1e5b528-e2ec-460e-ae70-57fb23d84d14.jpg: corrupt JPEG restored and saved\n",
            "\u001b[34m\u001b[1mtrain: \u001b[0mWARNING ⚠️ /content/drive/MyDrive/A_I/Ai/train/images/207_213_20_daad2f4f-d08b-41a8-a8ec-f0a5025ce128.jpg: corrupt JPEG restored and saved\n",
            "\u001b[34m\u001b[1mtrain: \u001b[0mWARNING ⚠️ /content/drive/MyDrive/A_I/Ai/train/images/207_213_20_e1c903a6-d396-40ce-b979-ba8891b1bd0d.jpg: corrupt JPEG restored and saved\n",
            "\u001b[34m\u001b[1mtrain: \u001b[0mWARNING ⚠️ /content/drive/MyDrive/A_I/Ai/train/images/209_102_10_46d8439e-a7ec-4b08-8db2-e019f75e1573.jpg: corrupt JPEG restored and saved\n",
            "\u001b[34m\u001b[1mtrain: \u001b[0mWARNING ⚠️ /content/drive/MyDrive/A_I/Ai/train/images/209_102_10_5ece4952-a804-422e-be9f-b5203a784aef.jpg: corrupt JPEG restored and saved\n",
            "\u001b[34m\u001b[1mtrain: \u001b[0mWARNING ⚠️ /content/drive/MyDrive/A_I/Ai/train/images/209_102_10_c4895035-3530-4946-b090-70b4fae22eff.jpg: corrupt JPEG restored and saved\n",
            "\u001b[34m\u001b[1mtrain: \u001b[0mWARNING ⚠️ /content/drive/MyDrive/A_I/Ai/train/images/209_102_10_d3d38b9e-b7c6-4fa6-97c6-7fae9fb0a6c6.jpg: corrupt JPEG restored and saved\n",
            "\u001b[34m\u001b[1mtrain: \u001b[0mWARNING ⚠️ /content/drive/MyDrive/A_I/Ai/train/images/209_102_10_eaaabcea-61d5-4760-a263-6aa199adc253.jpg: corrupt JPEG restored and saved\n",
            "\u001b[34m\u001b[1mtrain: \u001b[0mWARNING ⚠️ /content/drive/MyDrive/A_I/Ai/train/images/209_102_20_26e97dad-532a-4096-bf9b-fdb5033f0030.jpg: corrupt JPEG restored and saved\n",
            "\u001b[34m\u001b[1mtrain: \u001b[0mWARNING ⚠️ /content/drive/MyDrive/A_I/Ai/train/images/209_102_20_3952258d-7ef4-4b1d-822a-692cdf790302.jpg: corrupt JPEG restored and saved\n",
            "\u001b[34m\u001b[1mtrain: \u001b[0mWARNING ⚠️ /content/drive/MyDrive/A_I/Ai/train/images/209_102_20_ad8b07dc-9de6-4642-b3f8-ac94ff30a952.jpeg: corrupt JPEG restored and saved\n",
            "\u001b[34m\u001b[1malbumentations: \u001b[0mBlur(p=0.01, blur_limit=(3, 7)), MedianBlur(p=0.01, blur_limit=(3, 7)), ToGray(p=0.01, num_output_channels=3, method='weighted_average'), CLAHE(p=0.01, clip_limit=(1.0, 4.0), tile_grid_size=(8, 8))\n"
          ]
        },
        {
          "name": "stderr",
          "output_type": "stream",
          "text": [
            "\n",
            "\u001b[34m\u001b[1mval: \u001b[0mScanning /content/drive/MyDrive/A_I/Ai/valid/labels.cache... 59 images, 0 backgrounds, 0 corrupt: 100%|██████████| 59/59 [00:00<?, ?it/s]"
          ]
        },
        {
          "name": "stdout",
          "output_type": "stream",
          "text": [
            "\u001b[34m\u001b[1mval: \u001b[0mWARNING ⚠️ /content/drive/MyDrive/A_I/Ai/valid/images/204_101_10_814f2bff-c85f-40b8-89a6-bae9a47350ff.jpg: corrupt JPEG restored and saved\n",
            "\u001b[34m\u001b[1mval: \u001b[0mWARNING ⚠️ /content/drive/MyDrive/A_I/Ai/valid/images/204_101_10_e67d6a52-d240-4161-b7d4-9e08a53731f4.jpg: corrupt JPEG restored and saved\n",
            "\u001b[34m\u001b[1mval: \u001b[0mWARNING ⚠️ /content/drive/MyDrive/A_I/Ai/valid/images/204_101_20_d8add5a1-debc-42e7-8dfa-6f5a952f5c82.jpg: corrupt JPEG restored and saved\n",
            "\u001b[34m\u001b[1mval: \u001b[0mWARNING ⚠️ /content/drive/MyDrive/A_I/Ai/valid/images/204_101_20_e472c8cd-8a2a-4d28-ba01-9be28185eb16.jpg: corrupt JPEG restored and saved\n",
            "\u001b[34m\u001b[1mval: \u001b[0mWARNING ⚠️ /content/drive/MyDrive/A_I/Ai/valid/images/204_102_10_7ce09908-4cd1-4a6a-8372-dd0edfaa3367.jpg: corrupt JPEG restored and saved\n",
            "\u001b[34m\u001b[1mval: \u001b[0mWARNING ⚠️ /content/drive/MyDrive/A_I/Ai/valid/images/204_102_10_c1fcfdfa-58a7-41b4-8910-dfb65661e024.jpg: corrupt JPEG restored and saved\n",
            "\u001b[34m\u001b[1mval: \u001b[0mWARNING ⚠️ /content/drive/MyDrive/A_I/Ai/valid/images/204_102_10_d1d9822a-ff0f-42c9-8952-2132179a9fc9.jpg: corrupt JPEG restored and saved\n",
            "\u001b[34m\u001b[1mval: \u001b[0mWARNING ⚠️ /content/drive/MyDrive/A_I/Ai/valid/images/204_102_20_019dc27d-2034-44b5-aea2-d519c5209082.jpg: corrupt JPEG restored and saved\n",
            "\u001b[34m\u001b[1mval: \u001b[0mWARNING ⚠️ /content/drive/MyDrive/A_I/Ai/valid/images/205_101_10_01ba8ed7-8669-4af9-ad2f-7c73a124e769.jpg: corrupt JPEG restored and saved\n",
            "\u001b[34m\u001b[1mval: \u001b[0mWARNING ⚠️ /content/drive/MyDrive/A_I/Ai/valid/images/205_101_10_27c201c3-fcbe-418c-af51-92079937fbdf.jpg: corrupt JPEG restored and saved\n",
            "\u001b[34m\u001b[1mval: \u001b[0mWARNING ⚠️ /content/drive/MyDrive/A_I/Ai/valid/images/205_101_10_345105a9-3ed1-4112-9554-8cc76d8351bb.jpg: corrupt JPEG restored and saved\n",
            "\u001b[34m\u001b[1mval: \u001b[0mWARNING ⚠️ /content/drive/MyDrive/A_I/Ai/valid/images/205_101_10_41651f41-140a-4c32-a8e2-4cda37dbc98a.jpg: corrupt JPEG restored and saved\n",
            "\u001b[34m\u001b[1mval: \u001b[0mWARNING ⚠️ /content/drive/MyDrive/A_I/Ai/valid/images/205_101_10_99dd8adb-a08e-4029-86df-daff43b6bd63.jpg: corrupt JPEG restored and saved\n",
            "\u001b[34m\u001b[1mval: \u001b[0mWARNING ⚠️ /content/drive/MyDrive/A_I/Ai/valid/images/205_101_10_f4433798-6cf7-40ff-98ba-4370eecc5cbc.jpg: corrupt JPEG restored and saved\n",
            "\u001b[34m\u001b[1mval: \u001b[0mWARNING ⚠️ /content/drive/MyDrive/A_I/Ai/valid/images/205_101_20_0c88fd07-9466-4aeb-951f-355c55279dda.jpg: corrupt JPEG restored and saved\n",
            "\u001b[34m\u001b[1mval: \u001b[0mWARNING ⚠️ /content/drive/MyDrive/A_I/Ai/valid/images/205_101_20_830ed8d4-16ad-4217-b072-0e914c0a63c8.jpg: corrupt JPEG restored and saved\n",
            "\u001b[34m\u001b[1mval: \u001b[0mWARNING ⚠️ /content/drive/MyDrive/A_I/Ai/valid/images/207_102_10_6820e837-ab58-4649-817d-83ab59fab0f2.jpg: corrupt JPEG restored and saved\n",
            "\u001b[34m\u001b[1mval: \u001b[0mWARNING ⚠️ /content/drive/MyDrive/A_I/Ai/valid/images/207_102_10_753825b0-cc5c-4cc7-b807-b08f6d314db6.jpg: corrupt JPEG restored and saved\n",
            "\u001b[34m\u001b[1mval: \u001b[0mWARNING ⚠️ /content/drive/MyDrive/A_I/Ai/valid/images/207_102_20_48edf2fe-8545-4710-8922-1b75aece5982.jpg: corrupt JPEG restored and saved\n",
            "\u001b[34m\u001b[1mval: \u001b[0mWARNING ⚠️ /content/drive/MyDrive/A_I/Ai/valid/images/207_102_20_770d28e6-42e5-4d5a-a7cd-b8118cafe555.jpg: corrupt JPEG restored and saved\n",
            "\u001b[34m\u001b[1mval: \u001b[0mWARNING ⚠️ /content/drive/MyDrive/A_I/Ai/valid/images/207_102_20_9cb7d6fc-06a5-4cb0-a481-bf4ec7634c9f.jpg: corrupt JPEG restored and saved\n",
            "\u001b[34m\u001b[1mval: \u001b[0mWARNING ⚠️ /content/drive/MyDrive/A_I/Ai/valid/images/207_204_10_6b2d16b8-6a8d-48ac-9565-e0770dd85ab7.jpg: corrupt JPEG restored and saved\n",
            "\u001b[34m\u001b[1mval: \u001b[0mWARNING ⚠️ /content/drive/MyDrive/A_I/Ai/valid/images/207_204_10_eed77bae-eb0b-4bf0-8c9d-88ebc15603c9.jpg: corrupt JPEG restored and saved\n",
            "\u001b[34m\u001b[1mval: \u001b[0mWARNING ⚠️ /content/drive/MyDrive/A_I/Ai/valid/images/207_204_20_0e791ffc-a72b-4aa0-9929-a62b2ab5d12d.jpg: corrupt JPEG restored and saved\n",
            "\u001b[34m\u001b[1mval: \u001b[0mWARNING ⚠️ /content/drive/MyDrive/A_I/Ai/valid/images/207_204_20_22aa0587-22fb-4bbf-a01a-8dd353dd527a.jpg: corrupt JPEG restored and saved\n",
            "\u001b[34m\u001b[1mval: \u001b[0mWARNING ⚠️ /content/drive/MyDrive/A_I/Ai/valid/images/207_204_20_7ccfaf7e-a6fb-4871-a5f9-cd39a2441561.jpg: corrupt JPEG restored and saved\n",
            "\u001b[34m\u001b[1mval: \u001b[0mWARNING ⚠️ /content/drive/MyDrive/A_I/Ai/valid/images/207_204_20_a915d440-1294-4331-9309-341538fabf6f.jpg: corrupt JPEG restored and saved\n",
            "\u001b[34m\u001b[1mval: \u001b[0mWARNING ⚠️ /content/drive/MyDrive/A_I/Ai/valid/images/207_204_20_b83fe0a5-1f42-4806-acab-73058184a893.jpg: corrupt JPEG restored and saved\n",
            "\u001b[34m\u001b[1mval: \u001b[0mWARNING ⚠️ /content/drive/MyDrive/A_I/Ai/valid/images/207_212_10_d1f9f17e-e2e0-47f1-9fae-f43bcdacb7d4.jpg: corrupt JPEG restored and saved\n",
            "\u001b[34m\u001b[1mval: \u001b[0mWARNING ⚠️ /content/drive/MyDrive/A_I/Ai/valid/images/207_212_20_6a95d860-be29-4937-a4fd-af7e34afbf78.jpg: corrupt JPEG restored and saved\n",
            "\u001b[34m\u001b[1mval: \u001b[0mWARNING ⚠️ /content/drive/MyDrive/A_I/Ai/valid/images/207_212_20_c7b748a2-d95d-4754-9a26-8bb37da1d57d.jpg: corrupt JPEG restored and saved\n",
            "\u001b[34m\u001b[1mval: \u001b[0mWARNING ⚠️ /content/drive/MyDrive/A_I/Ai/valid/images/207_212_20_ca47ced5-d782-48bd-8afd-df4fa5c89e04.jpg: corrupt JPEG restored and saved\n",
            "\u001b[34m\u001b[1mval: \u001b[0mWARNING ⚠️ /content/drive/MyDrive/A_I/Ai/valid/images/207_213_10_aea5c5cc-71f9-4d6f-9476-76c7cd522f7f.jpg: corrupt JPEG restored and saved\n",
            "\u001b[34m\u001b[1mval: \u001b[0mWARNING ⚠️ /content/drive/MyDrive/A_I/Ai/valid/images/207_213_20_9ad7d9fe-b7fe-416b-8064-46ca54e0dbb3.jpg: corrupt JPEG restored and saved\n",
            "\u001b[34m\u001b[1mval: \u001b[0mWARNING ⚠️ /content/drive/MyDrive/A_I/Ai/valid/images/207_213_20_ddc52360-f135-4c66-8fde-22d070845eda.jpg: corrupt JPEG restored and saved\n",
            "\u001b[34m\u001b[1mval: \u001b[0mWARNING ⚠️ /content/drive/MyDrive/A_I/Ai/valid/images/207_213_20_ec941cda-63f3-4d79-8e1c-07d42bcef2c4.jpg: corrupt JPEG restored and saved\n",
            "\u001b[34m\u001b[1mval: \u001b[0mWARNING ⚠️ /content/drive/MyDrive/A_I/Ai/valid/images/209_102_10_21d44777-c8cf-4801-b625-7c3118d8ebd7.jpg: corrupt JPEG restored and saved\n",
            "\u001b[34m\u001b[1mval: \u001b[0mWARNING ⚠️ /content/drive/MyDrive/A_I/Ai/valid/images/209_102_10_f51f8269-5dda-4e3b-a282-64ac07c290fb.jpg: corrupt JPEG restored and saved\n",
            "\u001b[34m\u001b[1mval: \u001b[0mWARNING ⚠️ /content/drive/MyDrive/A_I/Ai/valid/images/209_102_20_9c7af6e3-b5ab-4a05-b3cb-a75a2151571b.jpg: corrupt JPEG restored and saved\n",
            "\u001b[34m\u001b[1mval: \u001b[0mWARNING ⚠️ /content/drive/MyDrive/A_I/Ai/valid/images/209_102_20_ef96f2aa-0d24-4b46-809d-feda167ac3f5.jpg: corrupt JPEG restored and saved\n"
          ]
        },
        {
          "name": "stderr",
          "output_type": "stream",
          "text": [
            "\n"
          ]
        },
        {
          "name": "stdout",
          "output_type": "stream",
          "text": [
            "Plotting labels to runs/detect/train11/labels.jpg... \n",
            "\u001b[34m\u001b[1moptimizer:\u001b[0m 'optimizer=auto' found, ignoring 'lr0=0.01' and 'momentum=0.937' and determining best 'optimizer', 'lr0' and 'momentum' automatically... \n",
            "\u001b[34m\u001b[1moptimizer:\u001b[0m AdamW(lr=0.000833, momentum=0.9) with parameter groups 77 weight(decay=0.0), 84 weight(decay=0.0005), 83 bias(decay=0.0)\n",
            "\u001b[34m\u001b[1mTensorBoard: \u001b[0mmodel graph visualization added ✅\n",
            "Image sizes 640 train, 640 val\n",
            "Using 2 dataloader workers\n",
            "Logging results to \u001b[1mruns/detect/train11\u001b[0m\n",
            "Starting training for 10 epochs...\n",
            "Closing dataloader mosaic\n",
            "\u001b[34m\u001b[1malbumentations: \u001b[0mBlur(p=0.01, blur_limit=(3, 7)), MedianBlur(p=0.01, blur_limit=(3, 7)), ToGray(p=0.01, num_output_channels=3, method='weighted_average'), CLAHE(p=0.01, clip_limit=(1.0, 4.0), tile_grid_size=(8, 8))\n",
            "\n",
            "      Epoch    GPU_mem   box_loss   cls_loss   dfl_loss  Instances       Size\n"
          ]
        },
        {
          "name": "stderr",
          "output_type": "stream",
          "text": [
            "       1/10       7.4G      2.713      15.58      2.392         12        640: 100%|██████████| 15/15 [00:38<00:00,  2.56s/it]\n",
            "                 Class     Images  Instances      Box(P          R      mAP50  mAP50-95): 100%|██████████| 2/2 [00:01<00:00,  1.10it/s]"
          ]
        },
        {
          "name": "stdout",
          "output_type": "stream",
          "text": [
            "                   all         59         62      0.253     0.0521     0.0011   0.000807\n"
          ]
        },
        {
          "name": "stderr",
          "output_type": "stream",
          "text": [
            "\n"
          ]
        },
        {
          "name": "stdout",
          "output_type": "stream",
          "text": [
            "\n",
            "      Epoch    GPU_mem   box_loss   cls_loss   dfl_loss  Instances       Size\n"
          ]
        },
        {
          "name": "stderr",
          "output_type": "stream",
          "text": [
            "       2/10       6.8G      2.184      7.411      1.951         17        640: 100%|██████████| 15/15 [00:23<00:00,  1.54s/it]\n",
            "                 Class     Images  Instances      Box(P          R      mAP50  mAP50-95): 100%|██████████| 2/2 [00:01<00:00,  1.56it/s]"
          ]
        },
        {
          "name": "stdout",
          "output_type": "stream",
          "text": [
            "                   all         59         62      0.137      0.176    0.00503    0.00224\n"
          ]
        },
        {
          "name": "stderr",
          "output_type": "stream",
          "text": [
            "\n"
          ]
        },
        {
          "name": "stdout",
          "output_type": "stream",
          "text": [
            "\n",
            "      Epoch    GPU_mem   box_loss   cls_loss   dfl_loss  Instances       Size\n"
          ]
        },
        {
          "name": "stderr",
          "output_type": "stream",
          "text": [
            "       3/10      6.88G      2.113      5.235      1.902          9        640: 100%|██████████| 15/15 [00:24<00:00,  1.66s/it]\n",
            "                 Class     Images  Instances      Box(P          R      mAP50  mAP50-95): 100%|██████████| 2/2 [00:01<00:00,  1.25it/s]"
          ]
        },
        {
          "name": "stdout",
          "output_type": "stream",
          "text": [
            "                   all         59         62      0.261      0.096     0.0072    0.00192\n"
          ]
        },
        {
          "name": "stderr",
          "output_type": "stream",
          "text": [
            "\n"
          ]
        },
        {
          "name": "stdout",
          "output_type": "stream",
          "text": [
            "\n",
            "      Epoch    GPU_mem   box_loss   cls_loss   dfl_loss  Instances       Size\n"
          ]
        },
        {
          "name": "stderr",
          "output_type": "stream",
          "text": [
            "       4/10      6.78G      2.211      4.636      1.986         10        640: 100%|██████████| 15/15 [00:26<00:00,  1.74s/it]\n",
            "                 Class     Images  Instances      Box(P          R      mAP50  mAP50-95): 100%|██████████| 2/2 [00:01<00:00,  1.22it/s]"
          ]
        },
        {
          "name": "stdout",
          "output_type": "stream",
          "text": [
            "                   all         59         62      0.195     0.0491     0.0242     0.0103\n"
          ]
        },
        {
          "name": "stderr",
          "output_type": "stream",
          "text": [
            "\n"
          ]
        },
        {
          "name": "stdout",
          "output_type": "stream",
          "text": [
            "\n",
            "      Epoch    GPU_mem   box_loss   cls_loss   dfl_loss  Instances       Size\n"
          ]
        },
        {
          "name": "stderr",
          "output_type": "stream",
          "text": [
            "       5/10      6.78G      2.075      4.118      1.877         13        640: 100%|██████████| 15/15 [00:25<00:00,  1.71s/it]\n",
            "                 Class     Images  Instances      Box(P          R      mAP50  mAP50-95): 100%|██████████| 2/2 [00:01<00:00,  1.88it/s]"
          ]
        },
        {
          "name": "stdout",
          "output_type": "stream",
          "text": [
            "                   all         59         62      0.144     0.0424     0.0132     0.0057\n"
          ]
        },
        {
          "name": "stderr",
          "output_type": "stream",
          "text": [
            "\n"
          ]
        },
        {
          "name": "stdout",
          "output_type": "stream",
          "text": [
            "\n",
            "      Epoch    GPU_mem   box_loss   cls_loss   dfl_loss  Instances       Size\n"
          ]
        },
        {
          "name": "stderr",
          "output_type": "stream",
          "text": [
            "       6/10      6.78G      2.032      3.572      1.837         10        640: 100%|██████████| 15/15 [00:22<00:00,  1.53s/it]\n",
            "                 Class     Images  Instances      Box(P          R      mAP50  mAP50-95): 100%|██████████| 2/2 [00:01<00:00,  1.19it/s]"
          ]
        },
        {
          "name": "stdout",
          "output_type": "stream",
          "text": [
            "                   all         59         62      0.284     0.0848     0.0234     0.0087\n"
          ]
        },
        {
          "name": "stderr",
          "output_type": "stream",
          "text": [
            "\n"
          ]
        },
        {
          "name": "stdout",
          "output_type": "stream",
          "text": [
            "\n",
            "      Epoch    GPU_mem   box_loss   cls_loss   dfl_loss  Instances       Size\n"
          ]
        },
        {
          "name": "stderr",
          "output_type": "stream",
          "text": [
            "       7/10      6.87G      2.021      3.379      1.851         15        640: 100%|██████████| 15/15 [00:25<00:00,  1.67s/it]\n",
            "                 Class     Images  Instances      Box(P          R      mAP50  mAP50-95): 100%|██████████| 2/2 [00:00<00:00,  2.15it/s]"
          ]
        },
        {
          "name": "stdout",
          "output_type": "stream",
          "text": [
            "                   all         59         62      0.714     0.0335     0.0375      0.015\n"
          ]
        },
        {
          "name": "stderr",
          "output_type": "stream",
          "text": [
            "\n"
          ]
        },
        {
          "name": "stdout",
          "output_type": "stream",
          "text": [
            "\n",
            "      Epoch    GPU_mem   box_loss   cls_loss   dfl_loss  Instances       Size\n"
          ]
        },
        {
          "name": "stderr",
          "output_type": "stream",
          "text": [
            "       8/10      6.88G      1.908      3.227      1.771          8        640: 100%|██████████| 15/15 [00:24<00:00,  1.62s/it]\n",
            "                 Class     Images  Instances      Box(P          R      mAP50  mAP50-95): 100%|██████████| 2/2 [00:01<00:00,  1.19it/s]"
          ]
        },
        {
          "name": "stdout",
          "output_type": "stream",
          "text": [
            "                   all         59         62      0.273      0.067     0.0226     0.0113\n"
          ]
        },
        {
          "name": "stderr",
          "output_type": "stream",
          "text": [
            "\n"
          ]
        },
        {
          "name": "stdout",
          "output_type": "stream",
          "text": [
            "\n",
            "      Epoch    GPU_mem   box_loss   cls_loss   dfl_loss  Instances       Size\n"
          ]
        },
        {
          "name": "stderr",
          "output_type": "stream",
          "text": [
            "       9/10      6.78G      1.843      2.785      1.788         13        640: 100%|██████████| 15/15 [00:23<00:00,  1.56s/it]\n",
            "                 Class     Images  Instances      Box(P          R      mAP50  mAP50-95): 100%|██████████| 2/2 [00:01<00:00,  1.82it/s]"
          ]
        },
        {
          "name": "stdout",
          "output_type": "stream",
          "text": [
            "                   all         59         62      0.308     0.0439     0.0426     0.0176\n"
          ]
        },
        {
          "name": "stderr",
          "output_type": "stream",
          "text": [
            "\n"
          ]
        },
        {
          "name": "stdout",
          "output_type": "stream",
          "text": [
            "\n",
            "      Epoch    GPU_mem   box_loss   cls_loss   dfl_loss  Instances       Size\n"
          ]
        },
        {
          "name": "stderr",
          "output_type": "stream",
          "text": [
            "      10/10      6.86G      1.765       2.62      1.718          9        640: 100%|██████████| 15/15 [00:23<00:00,  1.54s/it]\n",
            "                 Class     Images  Instances      Box(P          R      mAP50  mAP50-95): 100%|██████████| 2/2 [00:01<00:00,  1.48it/s]"
          ]
        },
        {
          "name": "stdout",
          "output_type": "stream",
          "text": [
            "                   all         59         62      0.401      0.143     0.0679     0.0268\n"
          ]
        },
        {
          "name": "stderr",
          "output_type": "stream",
          "text": [
            "\n"
          ]
        },
        {
          "name": "stdout",
          "output_type": "stream",
          "text": [
            "\n",
            "10 epochs completed in 0.106 hours.\n",
            "Optimizer stripped from runs/detect/train11/weights/last.pt, 52.0MB\n",
            "Optimizer stripped from runs/detect/train11/weights/best.pt, 52.0MB\n",
            "\n",
            "Validating runs/detect/train11/weights/best.pt...\n",
            "Ultralytics 8.3.64 🚀 Python-3.11.11 torch-2.5.1+cu121 CUDA:0 (Tesla T4, 15102MiB)\n",
            "Model summary (fused): 218 layers, 25,844,392 parameters, 0 gradients, 78.7 GFLOPs\n"
          ]
        },
        {
          "name": "stderr",
          "output_type": "stream",
          "text": [
            "                 Class     Images  Instances      Box(P          R      mAP50  mAP50-95): 100%|██████████| 2/2 [00:01<00:00,  1.30it/s]\n"
          ]
        },
        {
          "name": "stdout",
          "output_type": "stream",
          "text": [
            "                   all         59         62      0.401      0.143      0.068     0.0268\n",
            "             bumper_ok          7          7          1          0          0          0\n",
            "         bumper_faulty          5          8      0.115       0.25     0.0881     0.0307\n",
            "               door_ok          8          8          0          0          0          0\n",
            "           door_faulty          6          6      0.164      0.167     0.0866     0.0422\n",
            "             fender_ok          3          3          0          0          0          0\n",
            "         fender_faulty          4          4          1          0          0          0\n",
            "              frame_ok         12         12      0.675     0.0833     0.0921      0.045\n",
            "          frame_faulty         14         14      0.255      0.643      0.277     0.0963\n",
            "Speed: 0.2ms preprocess, 8.5ms inference, 0.0ms loss, 4.2ms postprocess per image\n",
            "Results saved to \u001b[1mruns/detect/train11\u001b[0m\n"
          ]
        }
      ],
      "source": [
        "\n",
        "import os\n",
        "from ultralytics import YOLO\n",
        "\n",
        "# 데이터 설정 파일 경로\n",
        "data_yaml = \"data.yaml\"\n",
        "\n",
        "# YOLO 모델 정의 (랜덤 초기화로 학습 시작)\n",
        "model = YOLO(\"yolov8m.pt\")  # 'yolov5n'은 작은 모델, 필요에 따라 yolov5s, yolov5m 선택 가능\n",
        "# model.model = model.model.reset_parameters()  # 가중치 초기화 (랜덤 가중치)\n",
        "\n",
        "# 학습 설정\n",
        "model.train(\n",
        "    data=data_yaml,           # 데이터 설정 파일 경로\n",
        "    epochs=10,               # 학습 에폭 수\n",
        "    batch=16,            # 배치 크기\n",
        "    imgsz=640,                # 입력 이미지 크기\n",
        "    device=0,                 # GPU 사용\n",
        "    workers=4,                # 데이터 로드 병렬 처리 워커 수\n",
        "    )\n",
        "\n",
        "model.save(\"model.pt\")"
      ]
    },
    {
      "cell_type": "code",
      "execution_count": 83,
      "metadata": {
        "colab": {
          "base_uri": "https://localhost:8080/",
          "height": 371
        },
        "id": "cQ7cDiuB93Uv",
        "outputId": "29248a33-fee5-4242-d052-c93f7dca59f6"
      },
      "outputs": [
        {
          "ename": "FileNotFoundError",
          "evalue": "[Errno 2] No such file or directory: 'runs/train/custom_model/weights/best.pt'",
          "output_type": "error",
          "traceback": [
            "\u001b[0;31m---------------------------------------------------------------------------\u001b[0m",
            "\u001b[0;31mFileNotFoundError\u001b[0m                         Traceback (most recent call last)",
            "\u001b[0;32m<ipython-input-83-38da8fc3f1cb>\u001b[0m in \u001b[0;36m<cell line: 0>\u001b[0;34m()\u001b[0m\n\u001b[0;32m----> 1\u001b[0;31m \u001b[0mmodel\u001b[0m \u001b[0;34m=\u001b[0m \u001b[0mYOLO\u001b[0m\u001b[0;34m(\u001b[0m\u001b[0;34m\"runs/train/custom_model/weights/best.pt\"\u001b[0m\u001b[0;34m)\u001b[0m\u001b[0;34m\u001b[0m\u001b[0;34m\u001b[0m\u001b[0m\n\u001b[0m\u001b[1;32m      2\u001b[0m \u001b[0;34m\u001b[0m\u001b[0m\n\u001b[1;32m      3\u001b[0m \u001b[0;31m# 추론\u001b[0m\u001b[0;34m\u001b[0m\u001b[0;34m\u001b[0m\u001b[0m\n\u001b[1;32m      4\u001b[0m results = model.predict(\n\u001b[1;32m      5\u001b[0m     \u001b[0msource\u001b[0m\u001b[0;34m=\u001b[0m\u001b[0;34m\"/content/drive/MyDrive/A_I/Ai/test_images\"\u001b[0m\u001b[0;34m,\u001b[0m  \u001b[0;31m# 테스트 이미지 경로\u001b[0m\u001b[0;34m\u001b[0m\u001b[0;34m\u001b[0m\u001b[0m\n",
            "\u001b[0;32m/usr/local/lib/python3.11/dist-packages/ultralytics/models/yolo/model.py\u001b[0m in \u001b[0;36m__init__\u001b[0;34m(self, model, task, verbose)\u001b[0m\n\u001b[1;32m     21\u001b[0m         \u001b[0;32melse\u001b[0m\u001b[0;34m:\u001b[0m\u001b[0;34m\u001b[0m\u001b[0;34m\u001b[0m\u001b[0m\n\u001b[1;32m     22\u001b[0m             \u001b[0;31m# Continue with default YOLO initialization\u001b[0m\u001b[0;34m\u001b[0m\u001b[0;34m\u001b[0m\u001b[0m\n\u001b[0;32m---> 23\u001b[0;31m             \u001b[0msuper\u001b[0m\u001b[0;34m(\u001b[0m\u001b[0;34m)\u001b[0m\u001b[0;34m.\u001b[0m\u001b[0m__init__\u001b[0m\u001b[0;34m(\u001b[0m\u001b[0mmodel\u001b[0m\u001b[0;34m=\u001b[0m\u001b[0mmodel\u001b[0m\u001b[0;34m,\u001b[0m \u001b[0mtask\u001b[0m\u001b[0;34m=\u001b[0m\u001b[0mtask\u001b[0m\u001b[0;34m,\u001b[0m \u001b[0mverbose\u001b[0m\u001b[0;34m=\u001b[0m\u001b[0mverbose\u001b[0m\u001b[0;34m)\u001b[0m\u001b[0;34m\u001b[0m\u001b[0;34m\u001b[0m\u001b[0m\n\u001b[0m\u001b[1;32m     24\u001b[0m \u001b[0;34m\u001b[0m\u001b[0m\n\u001b[1;32m     25\u001b[0m     \u001b[0;34m@\u001b[0m\u001b[0mproperty\u001b[0m\u001b[0;34m\u001b[0m\u001b[0;34m\u001b[0m\u001b[0m\n",
            "\u001b[0;32m/usr/local/lib/python3.11/dist-packages/ultralytics/engine/model.py\u001b[0m in \u001b[0;36m__init__\u001b[0;34m(self, model, task, verbose)\u001b[0m\n\u001b[1;32m    144\u001b[0m             \u001b[0mself\u001b[0m\u001b[0;34m.\u001b[0m\u001b[0m_new\u001b[0m\u001b[0;34m(\u001b[0m\u001b[0mmodel\u001b[0m\u001b[0;34m,\u001b[0m \u001b[0mtask\u001b[0m\u001b[0;34m=\u001b[0m\u001b[0mtask\u001b[0m\u001b[0;34m,\u001b[0m \u001b[0mverbose\u001b[0m\u001b[0;34m=\u001b[0m\u001b[0mverbose\u001b[0m\u001b[0;34m)\u001b[0m\u001b[0;34m\u001b[0m\u001b[0;34m\u001b[0m\u001b[0m\n\u001b[1;32m    145\u001b[0m         \u001b[0;32melse\u001b[0m\u001b[0;34m:\u001b[0m\u001b[0;34m\u001b[0m\u001b[0;34m\u001b[0m\u001b[0m\n\u001b[0;32m--> 146\u001b[0;31m             \u001b[0mself\u001b[0m\u001b[0;34m.\u001b[0m\u001b[0m_load\u001b[0m\u001b[0;34m(\u001b[0m\u001b[0mmodel\u001b[0m\u001b[0;34m,\u001b[0m \u001b[0mtask\u001b[0m\u001b[0;34m=\u001b[0m\u001b[0mtask\u001b[0m\u001b[0;34m)\u001b[0m\u001b[0;34m\u001b[0m\u001b[0;34m\u001b[0m\u001b[0m\n\u001b[0m\u001b[1;32m    147\u001b[0m \u001b[0;34m\u001b[0m\u001b[0m\n\u001b[1;32m    148\u001b[0m         \u001b[0;31m# Delete super().training for accessing self.model.training\u001b[0m\u001b[0;34m\u001b[0m\u001b[0;34m\u001b[0m\u001b[0m\n",
            "\u001b[0;32m/usr/local/lib/python3.11/dist-packages/ultralytics/engine/model.py\u001b[0m in \u001b[0;36m_load\u001b[0;34m(self, weights, task)\u001b[0m\n\u001b[1;32m    287\u001b[0m \u001b[0;34m\u001b[0m\u001b[0m\n\u001b[1;32m    288\u001b[0m         \u001b[0;32mif\u001b[0m \u001b[0mPath\u001b[0m\u001b[0;34m(\u001b[0m\u001b[0mweights\u001b[0m\u001b[0;34m)\u001b[0m\u001b[0;34m.\u001b[0m\u001b[0msuffix\u001b[0m \u001b[0;34m==\u001b[0m \u001b[0;34m\".pt\"\u001b[0m\u001b[0;34m:\u001b[0m\u001b[0;34m\u001b[0m\u001b[0;34m\u001b[0m\u001b[0m\n\u001b[0;32m--> 289\u001b[0;31m             \u001b[0mself\u001b[0m\u001b[0;34m.\u001b[0m\u001b[0mmodel\u001b[0m\u001b[0;34m,\u001b[0m \u001b[0mself\u001b[0m\u001b[0;34m.\u001b[0m\u001b[0mckpt\u001b[0m \u001b[0;34m=\u001b[0m \u001b[0mattempt_load_one_weight\u001b[0m\u001b[0;34m(\u001b[0m\u001b[0mweights\u001b[0m\u001b[0;34m)\u001b[0m\u001b[0;34m\u001b[0m\u001b[0;34m\u001b[0m\u001b[0m\n\u001b[0m\u001b[1;32m    290\u001b[0m             \u001b[0mself\u001b[0m\u001b[0;34m.\u001b[0m\u001b[0mtask\u001b[0m \u001b[0;34m=\u001b[0m \u001b[0mself\u001b[0m\u001b[0;34m.\u001b[0m\u001b[0mmodel\u001b[0m\u001b[0;34m.\u001b[0m\u001b[0margs\u001b[0m\u001b[0;34m[\u001b[0m\u001b[0;34m\"task\"\u001b[0m\u001b[0;34m]\u001b[0m\u001b[0;34m\u001b[0m\u001b[0;34m\u001b[0m\u001b[0m\n\u001b[1;32m    291\u001b[0m             \u001b[0mself\u001b[0m\u001b[0;34m.\u001b[0m\u001b[0moverrides\u001b[0m \u001b[0;34m=\u001b[0m \u001b[0mself\u001b[0m\u001b[0;34m.\u001b[0m\u001b[0mmodel\u001b[0m\u001b[0;34m.\u001b[0m\u001b[0margs\u001b[0m \u001b[0;34m=\u001b[0m \u001b[0mself\u001b[0m\u001b[0;34m.\u001b[0m\u001b[0m_reset_ckpt_args\u001b[0m\u001b[0;34m(\u001b[0m\u001b[0mself\u001b[0m\u001b[0;34m.\u001b[0m\u001b[0mmodel\u001b[0m\u001b[0;34m.\u001b[0m\u001b[0margs\u001b[0m\u001b[0;34m)\u001b[0m\u001b[0;34m\u001b[0m\u001b[0;34m\u001b[0m\u001b[0m\n",
            "\u001b[0;32m/usr/local/lib/python3.11/dist-packages/ultralytics/nn/tasks.py\u001b[0m in \u001b[0;36mattempt_load_one_weight\u001b[0;34m(weight, device, inplace, fuse)\u001b[0m\n\u001b[1;32m    906\u001b[0m \u001b[0;32mdef\u001b[0m \u001b[0mattempt_load_one_weight\u001b[0m\u001b[0;34m(\u001b[0m\u001b[0mweight\u001b[0m\u001b[0;34m,\u001b[0m \u001b[0mdevice\u001b[0m\u001b[0;34m=\u001b[0m\u001b[0;32mNone\u001b[0m\u001b[0;34m,\u001b[0m \u001b[0minplace\u001b[0m\u001b[0;34m=\u001b[0m\u001b[0;32mTrue\u001b[0m\u001b[0;34m,\u001b[0m \u001b[0mfuse\u001b[0m\u001b[0;34m=\u001b[0m\u001b[0;32mFalse\u001b[0m\u001b[0;34m)\u001b[0m\u001b[0;34m:\u001b[0m\u001b[0;34m\u001b[0m\u001b[0;34m\u001b[0m\u001b[0m\n\u001b[1;32m    907\u001b[0m     \u001b[0;34m\"\"\"Loads a single model weights.\"\"\"\u001b[0m\u001b[0;34m\u001b[0m\u001b[0;34m\u001b[0m\u001b[0m\n\u001b[0;32m--> 908\u001b[0;31m     \u001b[0mckpt\u001b[0m\u001b[0;34m,\u001b[0m \u001b[0mweight\u001b[0m \u001b[0;34m=\u001b[0m \u001b[0mtorch_safe_load\u001b[0m\u001b[0;34m(\u001b[0m\u001b[0mweight\u001b[0m\u001b[0;34m)\u001b[0m  \u001b[0;31m# load ckpt\u001b[0m\u001b[0;34m\u001b[0m\u001b[0;34m\u001b[0m\u001b[0m\n\u001b[0m\u001b[1;32m    909\u001b[0m     \u001b[0margs\u001b[0m \u001b[0;34m=\u001b[0m \u001b[0;34m{\u001b[0m\u001b[0;34m**\u001b[0m\u001b[0mDEFAULT_CFG_DICT\u001b[0m\u001b[0;34m,\u001b[0m \u001b[0;34m**\u001b[0m\u001b[0;34m(\u001b[0m\u001b[0mckpt\u001b[0m\u001b[0;34m.\u001b[0m\u001b[0mget\u001b[0m\u001b[0;34m(\u001b[0m\u001b[0;34m\"train_args\"\u001b[0m\u001b[0;34m,\u001b[0m \u001b[0;34m{\u001b[0m\u001b[0;34m}\u001b[0m\u001b[0;34m)\u001b[0m\u001b[0;34m)\u001b[0m\u001b[0;34m}\u001b[0m  \u001b[0;31m# combine model and default args, preferring model args\u001b[0m\u001b[0;34m\u001b[0m\u001b[0;34m\u001b[0m\u001b[0m\n\u001b[1;32m    910\u001b[0m     \u001b[0mmodel\u001b[0m \u001b[0;34m=\u001b[0m \u001b[0;34m(\u001b[0m\u001b[0mckpt\u001b[0m\u001b[0;34m.\u001b[0m\u001b[0mget\u001b[0m\u001b[0;34m(\u001b[0m\u001b[0;34m\"ema\"\u001b[0m\u001b[0;34m)\u001b[0m \u001b[0;32mor\u001b[0m \u001b[0mckpt\u001b[0m\u001b[0;34m[\u001b[0m\u001b[0;34m\"model\"\u001b[0m\u001b[0;34m]\u001b[0m\u001b[0;34m)\u001b[0m\u001b[0;34m.\u001b[0m\u001b[0mto\u001b[0m\u001b[0;34m(\u001b[0m\u001b[0mdevice\u001b[0m\u001b[0;34m)\u001b[0m\u001b[0;34m.\u001b[0m\u001b[0mfloat\u001b[0m\u001b[0;34m(\u001b[0m\u001b[0;34m)\u001b[0m  \u001b[0;31m# FP32 model\u001b[0m\u001b[0;34m\u001b[0m\u001b[0;34m\u001b[0m\u001b[0m\n",
            "\u001b[0;32m/usr/local/lib/python3.11/dist-packages/ultralytics/nn/tasks.py\u001b[0m in \u001b[0;36mtorch_safe_load\u001b[0;34m(weight, safe_only)\u001b[0m\n\u001b[1;32m    833\u001b[0m                     \u001b[0mckpt\u001b[0m \u001b[0;34m=\u001b[0m \u001b[0mtorch\u001b[0m\u001b[0;34m.\u001b[0m\u001b[0mload\u001b[0m\u001b[0;34m(\u001b[0m\u001b[0mf\u001b[0m\u001b[0;34m,\u001b[0m \u001b[0mpickle_module\u001b[0m\u001b[0;34m=\u001b[0m\u001b[0msafe_pickle\u001b[0m\u001b[0;34m)\u001b[0m\u001b[0;34m\u001b[0m\u001b[0;34m\u001b[0m\u001b[0m\n\u001b[1;32m    834\u001b[0m             \u001b[0;32melse\u001b[0m\u001b[0;34m:\u001b[0m\u001b[0;34m\u001b[0m\u001b[0;34m\u001b[0m\u001b[0m\n\u001b[0;32m--> 835\u001b[0;31m                 \u001b[0mckpt\u001b[0m \u001b[0;34m=\u001b[0m \u001b[0mtorch\u001b[0m\u001b[0;34m.\u001b[0m\u001b[0mload\u001b[0m\u001b[0;34m(\u001b[0m\u001b[0mfile\u001b[0m\u001b[0;34m,\u001b[0m \u001b[0mmap_location\u001b[0m\u001b[0;34m=\u001b[0m\u001b[0;34m\"cpu\"\u001b[0m\u001b[0;34m)\u001b[0m\u001b[0;34m\u001b[0m\u001b[0;34m\u001b[0m\u001b[0m\n\u001b[0m\u001b[1;32m    836\u001b[0m \u001b[0;34m\u001b[0m\u001b[0m\n\u001b[1;32m    837\u001b[0m     \u001b[0;32mexcept\u001b[0m \u001b[0mModuleNotFoundError\u001b[0m \u001b[0;32mas\u001b[0m \u001b[0me\u001b[0m\u001b[0;34m:\u001b[0m  \u001b[0;31m# e.name is missing module name\u001b[0m\u001b[0;34m\u001b[0m\u001b[0;34m\u001b[0m\u001b[0m\n",
            "\u001b[0;32m/usr/local/lib/python3.11/dist-packages/ultralytics/utils/patches.py\u001b[0m in \u001b[0;36mtorch_load\u001b[0;34m(*args, **kwargs)\u001b[0m\n\u001b[1;32m     84\u001b[0m         \u001b[0mkwargs\u001b[0m\u001b[0;34m[\u001b[0m\u001b[0;34m\"weights_only\"\u001b[0m\u001b[0;34m]\u001b[0m \u001b[0;34m=\u001b[0m \u001b[0;32mFalse\u001b[0m\u001b[0;34m\u001b[0m\u001b[0;34m\u001b[0m\u001b[0m\n\u001b[1;32m     85\u001b[0m \u001b[0;34m\u001b[0m\u001b[0m\n\u001b[0;32m---> 86\u001b[0;31m     \u001b[0;32mreturn\u001b[0m \u001b[0m_torch_load\u001b[0m\u001b[0;34m(\u001b[0m\u001b[0;34m*\u001b[0m\u001b[0margs\u001b[0m\u001b[0;34m,\u001b[0m \u001b[0;34m**\u001b[0m\u001b[0mkwargs\u001b[0m\u001b[0;34m)\u001b[0m\u001b[0;34m\u001b[0m\u001b[0;34m\u001b[0m\u001b[0m\n\u001b[0m\u001b[1;32m     87\u001b[0m \u001b[0;34m\u001b[0m\u001b[0m\n\u001b[1;32m     88\u001b[0m \u001b[0;34m\u001b[0m\u001b[0m\n",
            "\u001b[0;32m/usr/local/lib/python3.11/dist-packages/torch/serialization.py\u001b[0m in \u001b[0;36mload\u001b[0;34m(f, map_location, pickle_module, weights_only, mmap, **pickle_load_args)\u001b[0m\n\u001b[1;32m   1317\u001b[0m         \u001b[0mpickle_load_args\u001b[0m\u001b[0;34m[\u001b[0m\u001b[0;34m\"encoding\"\u001b[0m\u001b[0;34m]\u001b[0m \u001b[0;34m=\u001b[0m \u001b[0;34m\"utf-8\"\u001b[0m\u001b[0;34m\u001b[0m\u001b[0;34m\u001b[0m\u001b[0m\n\u001b[1;32m   1318\u001b[0m \u001b[0;34m\u001b[0m\u001b[0m\n\u001b[0;32m-> 1319\u001b[0;31m     \u001b[0;32mwith\u001b[0m \u001b[0m_open_file_like\u001b[0m\u001b[0;34m(\u001b[0m\u001b[0mf\u001b[0m\u001b[0;34m,\u001b[0m \u001b[0;34m\"rb\"\u001b[0m\u001b[0;34m)\u001b[0m \u001b[0;32mas\u001b[0m \u001b[0mopened_file\u001b[0m\u001b[0;34m:\u001b[0m\u001b[0;34m\u001b[0m\u001b[0;34m\u001b[0m\u001b[0m\n\u001b[0m\u001b[1;32m   1320\u001b[0m         \u001b[0;32mif\u001b[0m \u001b[0m_is_zipfile\u001b[0m\u001b[0;34m(\u001b[0m\u001b[0mopened_file\u001b[0m\u001b[0;34m)\u001b[0m\u001b[0;34m:\u001b[0m\u001b[0;34m\u001b[0m\u001b[0;34m\u001b[0m\u001b[0m\n\u001b[1;32m   1321\u001b[0m             \u001b[0;31m# The zipfile reader is going to advance the current file position.\u001b[0m\u001b[0;34m\u001b[0m\u001b[0;34m\u001b[0m\u001b[0m\n",
            "\u001b[0;32m/usr/local/lib/python3.11/dist-packages/torch/serialization.py\u001b[0m in \u001b[0;36m_open_file_like\u001b[0;34m(name_or_buffer, mode)\u001b[0m\n\u001b[1;32m    657\u001b[0m \u001b[0;32mdef\u001b[0m \u001b[0m_open_file_like\u001b[0m\u001b[0;34m(\u001b[0m\u001b[0mname_or_buffer\u001b[0m\u001b[0;34m,\u001b[0m \u001b[0mmode\u001b[0m\u001b[0;34m)\u001b[0m\u001b[0;34m:\u001b[0m\u001b[0;34m\u001b[0m\u001b[0;34m\u001b[0m\u001b[0m\n\u001b[1;32m    658\u001b[0m     \u001b[0;32mif\u001b[0m \u001b[0m_is_path\u001b[0m\u001b[0;34m(\u001b[0m\u001b[0mname_or_buffer\u001b[0m\u001b[0;34m)\u001b[0m\u001b[0;34m:\u001b[0m\u001b[0;34m\u001b[0m\u001b[0;34m\u001b[0m\u001b[0m\n\u001b[0;32m--> 659\u001b[0;31m         \u001b[0;32mreturn\u001b[0m \u001b[0m_open_file\u001b[0m\u001b[0;34m(\u001b[0m\u001b[0mname_or_buffer\u001b[0m\u001b[0;34m,\u001b[0m \u001b[0mmode\u001b[0m\u001b[0;34m)\u001b[0m\u001b[0;34m\u001b[0m\u001b[0;34m\u001b[0m\u001b[0m\n\u001b[0m\u001b[1;32m    660\u001b[0m     \u001b[0;32melse\u001b[0m\u001b[0;34m:\u001b[0m\u001b[0;34m\u001b[0m\u001b[0;34m\u001b[0m\u001b[0m\n\u001b[1;32m    661\u001b[0m         \u001b[0;32mif\u001b[0m \u001b[0;34m\"w\"\u001b[0m \u001b[0;32min\u001b[0m \u001b[0mmode\u001b[0m\u001b[0;34m:\u001b[0m\u001b[0;34m\u001b[0m\u001b[0;34m\u001b[0m\u001b[0m\n",
            "\u001b[0;32m/usr/local/lib/python3.11/dist-packages/torch/serialization.py\u001b[0m in \u001b[0;36m__init__\u001b[0;34m(self, name, mode)\u001b[0m\n\u001b[1;32m    638\u001b[0m \u001b[0;32mclass\u001b[0m \u001b[0m_open_file\u001b[0m\u001b[0;34m(\u001b[0m\u001b[0m_opener\u001b[0m\u001b[0;34m)\u001b[0m\u001b[0;34m:\u001b[0m\u001b[0;34m\u001b[0m\u001b[0;34m\u001b[0m\u001b[0m\n\u001b[1;32m    639\u001b[0m     \u001b[0;32mdef\u001b[0m \u001b[0m__init__\u001b[0m\u001b[0;34m(\u001b[0m\u001b[0mself\u001b[0m\u001b[0;34m,\u001b[0m \u001b[0mname\u001b[0m\u001b[0;34m,\u001b[0m \u001b[0mmode\u001b[0m\u001b[0;34m)\u001b[0m\u001b[0;34m:\u001b[0m\u001b[0;34m\u001b[0m\u001b[0;34m\u001b[0m\u001b[0m\n\u001b[0;32m--> 640\u001b[0;31m         \u001b[0msuper\u001b[0m\u001b[0;34m(\u001b[0m\u001b[0;34m)\u001b[0m\u001b[0;34m.\u001b[0m\u001b[0m__init__\u001b[0m\u001b[0;34m(\u001b[0m\u001b[0mopen\u001b[0m\u001b[0;34m(\u001b[0m\u001b[0mname\u001b[0m\u001b[0;34m,\u001b[0m \u001b[0mmode\u001b[0m\u001b[0;34m)\u001b[0m\u001b[0;34m)\u001b[0m\u001b[0;34m\u001b[0m\u001b[0;34m\u001b[0m\u001b[0m\n\u001b[0m\u001b[1;32m    641\u001b[0m \u001b[0;34m\u001b[0m\u001b[0m\n\u001b[1;32m    642\u001b[0m     \u001b[0;32mdef\u001b[0m \u001b[0m__exit__\u001b[0m\u001b[0;34m(\u001b[0m\u001b[0mself\u001b[0m\u001b[0;34m,\u001b[0m \u001b[0;34m*\u001b[0m\u001b[0margs\u001b[0m\u001b[0;34m)\u001b[0m\u001b[0;34m:\u001b[0m\u001b[0;34m\u001b[0m\u001b[0;34m\u001b[0m\u001b[0m\n",
            "\u001b[0;31mFileNotFoundError\u001b[0m: [Errno 2] No such file or directory: 'runs/train/custom_model/weights/best.pt'"
          ]
        }
      ],
      "source": [
        "model = YOLO(\"runs/train/custom_model/weights/best.pt\")\n",
        "\n",
        "# 추론\n",
        "results = model.predict(\n",
        "    source=\"/content/drive/MyDrive/A_I/Ai/test_images\",  # 테스트 이미지 경로\n",
        "    save=True,                # 결과 저장\n",
        "    imgsz=640                 # 입력 이미지 크기\n",
        ")\n",
        "\n",
        "# 결과 저장 경로 출력\n",
        "print(f\"Results saved to {results.save_dir}\")"
      ]
    },
    {
      "cell_type": "code",
      "execution_count": 87,
      "metadata": {
        "colab": {
          "base_uri": "https://localhost:8080/"
        },
        "id": "7ZsJ93NV-RbM",
        "outputId": "d2b41e65-7502-43c7-9b29-ad45f29223f2"
      },
      "outputs": [
        {
          "name": "stdout",
          "output_type": "stream",
          "text": [
            "Weights directory not found: runs/train/custom_model/weights\n"
          ]
        }
      ],
      "source": [
        "import os\n",
        "\n",
        "# 가중치 파일 경로 확인\n",
        "weights_dir = \"runs/train/custom_model/weights\"\n",
        "if os.path.exists(weights_dir):\n",
        "    print(\"Weights directory found. Files:\")\n",
        "    print(os.listdir(weights_dir))\n",
        "else:\n",
        "    print(f\"Weights directory not found: {weights_dir}\")"
      ]
    },
    {
      "cell_type": "code",
      "execution_count": 96,
      "metadata": {
        "colab": {
          "base_uri": "https://localhost:8080/"
        },
        "id": "g8ybS0hE2r2d",
        "outputId": "e91e4a90-e675-4406-e8a9-7002cea28152"
      },
      "outputs": [
        {
          "name": "stdout",
          "output_type": "stream",
          "text": [
            "\n",
            "image 1/59 /content/drive/MyDrive/A_I/Ai/valid/images/204_101_10_08e9e2fe-6870-4b41-98b9-1812b886e1e6.jpg: 320x640 (no detections), 23.6ms\n",
            "image 2/59 /content/drive/MyDrive/A_I/Ai/valid/images/204_101_10_0cfc1ec4-c32d-49da-a79f-5cc96979537d.jpg: 480x640 (no detections), 29.1ms\n",
            "image 3/59 /content/drive/MyDrive/A_I/Ai/valid/images/204_101_10_2922bb55-cd6d-4b1f-b717-d6829c434df8.jpg: 384x640 (no detections), 26.1ms\n",
            "image 4/59 /content/drive/MyDrive/A_I/Ai/valid/images/204_101_10_814f2bff-c85f-40b8-89a6-bae9a47350ff.jpg: 320x640 (no detections), 23.7ms\n",
            "image 5/59 /content/drive/MyDrive/A_I/Ai/valid/images/204_101_10_e67d6a52-d240-4161-b7d4-9e08a53731f4.jpg: 480x640 (no detections), 28.9ms\n",
            "image 6/59 /content/drive/MyDrive/A_I/Ai/valid/images/204_101_20_d8add5a1-debc-42e7-8dfa-6f5a952f5c82.jpg: 288x640 (no detections), 22.8ms\n",
            "image 7/59 /content/drive/MyDrive/A_I/Ai/valid/images/204_101_20_e472c8cd-8a2a-4d28-ba01-9be28185eb16.jpg: 320x640 (no detections), 24.6ms\n",
            "image 8/59 /content/drive/MyDrive/A_I/Ai/valid/images/204_101_20_fc8cd8da-5ba0-4a8e-9133-85ca3663c57d.jpg: 384x640 (no detections), 26.2ms\n",
            "image 9/59 /content/drive/MyDrive/A_I/Ai/valid/images/204_102_10_7ce09908-4cd1-4a6a-8372-dd0edfaa3367.jpg: 320x640 (no detections), 24.3ms\n",
            "image 10/59 /content/drive/MyDrive/A_I/Ai/valid/images/204_102_10_c1fcfdfa-58a7-41b4-8910-dfb65661e024.jpg: 320x640 (no detections), 22.8ms\n",
            "image 11/59 /content/drive/MyDrive/A_I/Ai/valid/images/204_102_10_d1d9822a-ff0f-42c9-8952-2132179a9fc9.jpg: 320x640 (no detections), 22.8ms\n",
            "image 12/59 /content/drive/MyDrive/A_I/Ai/valid/images/204_102_20_019dc27d-2034-44b5-aea2-d519c5209082.jpg: 320x640 (no detections), 22.8ms\n",
            "image 13/59 /content/drive/MyDrive/A_I/Ai/valid/images/204_102_20_3eb77ce4-6cd7-4a4c-8356-c2b684514dca.jpg: 480x640 (no detections), 29.0ms\n",
            "image 14/59 /content/drive/MyDrive/A_I/Ai/valid/images/204_102_20_6fb8571d-416e-4179-9988-bcd65a6aa653.JPG: 384x640 (no detections), 26.2ms\n",
            "image 15/59 /content/drive/MyDrive/A_I/Ai/valid/images/205_101_10_01ba8ed7-8669-4af9-ad2f-7c73a124e769.jpg: 480x640 (no detections), 29.1ms\n",
            "image 16/59 /content/drive/MyDrive/A_I/Ai/valid/images/205_101_10_27c201c3-fcbe-418c-af51-92079937fbdf.jpg: 320x640 (no detections), 24.2ms\n",
            "image 17/59 /content/drive/MyDrive/A_I/Ai/valid/images/205_101_10_345105a9-3ed1-4112-9554-8cc76d8351bb.jpg: 480x640 (no detections), 28.9ms\n",
            "image 18/59 /content/drive/MyDrive/A_I/Ai/valid/images/205_101_10_41651f41-140a-4c32-a8e2-4cda37dbc98a.jpg: 320x640 (no detections), 23.7ms\n",
            "image 19/59 /content/drive/MyDrive/A_I/Ai/valid/images/205_101_10_99dd8adb-a08e-4029-86df-daff43b6bd63.jpg: 320x640 (no detections), 22.8ms\n",
            "image 20/59 /content/drive/MyDrive/A_I/Ai/valid/images/205_101_10_d13dc21c-a587-44c1-9bcb-e0d50f4d9c30.jpg: 384x640 (no detections), 27.0ms\n",
            "image 21/59 /content/drive/MyDrive/A_I/Ai/valid/images/205_101_10_f4433798-6cf7-40ff-98ba-4370eecc5cbc.jpg: 480x640 (no detections), 29.6ms\n",
            "image 22/59 /content/drive/MyDrive/A_I/Ai/valid/images/205_101_20_014a5e33-ff16-48fa-931f-bcb525e26031.jpg: 384x640 (no detections), 26.2ms\n",
            "image 23/59 /content/drive/MyDrive/A_I/Ai/valid/images/205_101_20_0c88fd07-9466-4aeb-951f-355c55279dda.jpg: 320x640 (no detections), 23.7ms\n",
            "image 24/59 /content/drive/MyDrive/A_I/Ai/valid/images/205_101_20_830ed8d4-16ad-4217-b072-0e914c0a63c8.jpg: 320x640 1 bumper_faulty, 22.8ms\n",
            "image 25/59 /content/drive/MyDrive/A_I/Ai/valid/images/205_101_20_9ade1dad-770d-402c-b4cd-b78d05d15056.JPG: 384x640 2 bumper_faultys, 26.2ms\n",
            "image 26/59 /content/drive/MyDrive/A_I/Ai/valid/images/205_101_20_a9ff5dc2-b9db-445b-9ab0-91e309a88a5c.jpg: 480x640 1 bumper_faulty, 29.0ms\n",
            "image 27/59 /content/drive/MyDrive/A_I/Ai/valid/images/207_102_10_6820e837-ab58-4649-817d-83ab59fab0f2.jpg: 320x640 (no detections), 24.1ms\n",
            "image 28/59 /content/drive/MyDrive/A_I/Ai/valid/images/207_102_10_753825b0-cc5c-4cc7-b807-b08f6d314db6.jpg: 320x640 (no detections), 22.9ms\n",
            "image 29/59 /content/drive/MyDrive/A_I/Ai/valid/images/207_102_20_48edf2fe-8545-4710-8922-1b75aece5982.jpg: 320x640 (no detections), 22.8ms\n",
            "image 30/59 /content/drive/MyDrive/A_I/Ai/valid/images/207_102_20_770d28e6-42e5-4d5a-a7cd-b8118cafe555.jpg: 320x640 (no detections), 22.8ms\n",
            "image 31/59 /content/drive/MyDrive/A_I/Ai/valid/images/207_102_20_9cb7d6fc-06a5-4cb0-a481-bf4ec7634c9f.jpg: 320x640 1 bumper_faulty, 22.9ms\n",
            "image 32/59 /content/drive/MyDrive/A_I/Ai/valid/images/207_204_10_6b2d16b8-6a8d-48ac-9565-e0770dd85ab7.jpg: 320x640 (no detections), 22.8ms\n",
            "image 33/59 /content/drive/MyDrive/A_I/Ai/valid/images/207_204_10_eed77bae-eb0b-4bf0-8c9d-88ebc15603c9.jpg: 320x640 (no detections), 22.8ms\n",
            "image 34/59 /content/drive/MyDrive/A_I/Ai/valid/images/207_204_20_0e791ffc-a72b-4aa0-9929-a62b2ab5d12d.jpg: 320x640 (no detections), 22.8ms\n",
            "image 35/59 /content/drive/MyDrive/A_I/Ai/valid/images/207_204_20_22aa0587-22fb-4bbf-a01a-8dd353dd527a.jpg: 320x640 (no detections), 22.8ms\n",
            "image 36/59 /content/drive/MyDrive/A_I/Ai/valid/images/207_204_20_7ccfaf7e-a6fb-4871-a5f9-cd39a2441561.jpg: 320x640 (no detections), 23.8ms\n",
            "image 37/59 /content/drive/MyDrive/A_I/Ai/valid/images/207_204_20_a915d440-1294-4331-9309-341538fabf6f.jpg: 320x640 1 frame_faulty, 22.8ms\n",
            "image 38/59 /content/drive/MyDrive/A_I/Ai/valid/images/207_204_20_b83fe0a5-1f42-4806-acab-73058184a893.jpg: 320x640 (no detections), 22.8ms\n",
            "image 39/59 /content/drive/MyDrive/A_I/Ai/valid/images/207_212_10_89f95b46-5a62-40d8-a9c6-e0baba37a1da.png: 544x640 (no detections), 37.4ms\n",
            "image 40/59 /content/drive/MyDrive/A_I/Ai/valid/images/207_212_10_c102e586-9c06-43cf-92ad-e351b1d07f38.png: 544x640 (no detections), 35.3ms\n",
            "image 41/59 /content/drive/MyDrive/A_I/Ai/valid/images/207_212_10_d1f9f17e-e2e0-47f1-9fae-f43bcdacb7d4.jpg: 320x640 (no detections), 25.0ms\n",
            "image 42/59 /content/drive/MyDrive/A_I/Ai/valid/images/207_212_10_f56e784c-19ca-4de7-910d-2466c4c20183.png: 544x640 (no detections), 36.7ms\n",
            "image 43/59 /content/drive/MyDrive/A_I/Ai/valid/images/207_212_20_6a95d860-be29-4937-a4fd-af7e34afbf78.jpg: 320x640 (no detections), 24.2ms\n",
            "image 44/59 /content/drive/MyDrive/A_I/Ai/valid/images/207_212_20_c7b748a2-d95d-4754-9a26-8bb37da1d57d.jpg: 288x640 (no detections), 23.9ms\n",
            "image 45/59 /content/drive/MyDrive/A_I/Ai/valid/images/207_212_20_ca47ced5-d782-48bd-8afd-df4fa5c89e04.jpg: 320x640 (no detections), 24.2ms\n",
            "image 46/59 /content/drive/MyDrive/A_I/Ai/valid/images/207_213_10_a9ac34b9-db3f-431e-8b23-33c1e35aaaa0.png: 544x640 (no detections), 36.9ms\n",
            "image 47/59 /content/drive/MyDrive/A_I/Ai/valid/images/207_213_10_aea5c5cc-71f9-4d6f-9476-76c7cd522f7f.jpg: 320x640 (no detections), 24.1ms\n",
            "image 48/59 /content/drive/MyDrive/A_I/Ai/valid/images/207_213_10_e7d6e6b6-4ea4-4234-b180-1fae63fd7af5.png: 544x640 (no detections), 36.8ms\n",
            "image 49/59 /content/drive/MyDrive/A_I/Ai/valid/images/207_213_10_ed398417-76ef-4485-8bc2-d9b8a9378d7c.png: 544x640 (no detections), 35.2ms\n",
            "image 50/59 /content/drive/MyDrive/A_I/Ai/valid/images/207_213_20_9ad7d9fe-b7fe-416b-8064-46ca54e0dbb3.jpg: 320x640 (no detections), 23.8ms\n",
            "image 51/59 /content/drive/MyDrive/A_I/Ai/valid/images/207_213_20_ddc52360-f135-4c66-8fde-22d070845eda.jpg: 320x640 (no detections), 22.8ms\n",
            "image 52/59 /content/drive/MyDrive/A_I/Ai/valid/images/207_213_20_ec941cda-63f3-4d79-8e1c-07d42bcef2c4.jpg: 320x640 (no detections), 22.8ms\n",
            "image 53/59 /content/drive/MyDrive/A_I/Ai/valid/images/209_102_10_21d44777-c8cf-4801-b625-7c3118d8ebd7.jpg: 480x640 (no detections), 30.2ms\n",
            "image 54/59 /content/drive/MyDrive/A_I/Ai/valid/images/209_102_10_f51f8269-5dda-4e3b-a282-64ac07c290fb.jpg: 320x640 (no detections), 23.8ms\n",
            "image 55/59 /content/drive/MyDrive/A_I/Ai/valid/images/209_102_10_ff24bc2f-065e-4fe3-a5f5-8437312d5c3d.jpg: 384x640 (no detections), 26.7ms\n",
            "image 56/59 /content/drive/MyDrive/A_I/Ai/valid/images/209_102_20_6756e9d7-5ecf-4af1-be2d-742a462bc6f9.JPG: 384x640 (no detections), 25.9ms\n",
            "image 57/59 /content/drive/MyDrive/A_I/Ai/valid/images/209_102_20_9c7af6e3-b5ab-4a05-b3cb-a75a2151571b.jpg: 480x640 (no detections), 29.0ms\n",
            "image 58/59 /content/drive/MyDrive/A_I/Ai/valid/images/209_102_20_c84cd344-22e5-439a-8ccd-cfb62e8646b7.jpg: 384x640 (no detections), 27.2ms\n",
            "image 59/59 /content/drive/MyDrive/A_I/Ai/valid/images/209_102_20_ef96f2aa-0d24-4b46-809d-feda167ac3f5.jpg: 480x640 (no detections), 29.4ms\n",
            "Speed: 3.3ms preprocess, 26.2ms inference, 0.9ms postprocess per image at shape (1, 3, 480, 640)\n",
            "Results saved to \u001b[1mruns/detect/predict2\u001b[0m\n"
          ]
        }
      ],
      "source": [
        "# 모델 로드 및 추론\n",
        "model = YOLO(\"/content/drive/MyDrive/A_I/Ai/runs/detect/train11/weights/best.pt\") # ex)train11 바꾸기\n",
        "results = model.predict(source=\"/content/drive/MyDrive/A_I/Ai/valid/images\", save=True, imgsz=640)"
      ]
    }
  ],
  "metadata": {
    "accelerator": "GPU",
    "colab": {
      "gpuType": "T4",
      "provenance": []
    },
    "kernelspec": {
      "display_name": "Python 3",
      "name": "python3"
    },
    "language_info": {
      "codemirror_mode": {
        "name": "ipython",
        "version": 3
      },
      "file_extension": ".py",
      "mimetype": "text/x-python",
      "name": "python",
      "nbconvert_exporter": "python",
      "pygments_lexer": "ipython3",
      "version": "3.12.8"
    }
  },
  "nbformat": 4,
  "nbformat_minor": 0
}
