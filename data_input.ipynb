{
 "cells": [
  {
   "cell_type": "code",
   "execution_count": 1,
   "metadata": {},
   "outputs": [
    {
     "name": "stdout",
     "output_type": "stream",
     "text": [
      "7381\n",
      "[['./data/data/source_data/bumper/scratch\\\\205_101_10_0107f873-8e8a-43d6-94c5-703a77b87e08.jpg'\n",
      "  '1']\n",
      " ['./data/data/source_data/bumper/scratch\\\\205_101_10_01ba8ed7-8669-4af9-ad2f-7c73a124e769.jpg'\n",
      "  '1']\n",
      " ['./data/data/source_data/bumper/scratch\\\\205_101_10_0232027f-bfd3-460b-b92d-b14537879e9a.jpg'\n",
      "  '1']\n",
      " ...\n",
      " ['./data/data/source_data/frame/Seam_failure\\\\207_212_20_ff60575c-e8ea-4308-99ba-9ab01930c37a.jpg'\n",
      "  '0']\n",
      " ['./data/data/source_data/frame/Seam_failure\\\\207_212_20_ff8e6b23-6f57-47d2-b6c2-4fd4eb50e9f7.jpg'\n",
      "  '0']\n",
      " ['./data/data/source_data/frame/Seam_failure\\\\207_212_20_ffa0491f-762f-41be-8040-007d56f2d01f.jpg'\n",
      "  '0']]\n"
     ]
    }
   ],
   "source": [
    "import numpy as np\n",
    "\n",
    "data_bumper = np.genfromtxt('data/data/output/bumper/bumper_data.csv', delimiter=',', dtype=None, encoding='UTF-8')\n",
    "data_bumper = np.delete(data_bumper, 0 , axis = 0)\n",
    "\n",
    "data_door_ed = np.genfromtxt('data/data/output/door/door_ed_data.csv', delimiter=',', dtype=None, encoding='UTF-8')\n",
    "data_door_ed = np.delete(data_door_ed, 0 , axis = 0)\n",
    "data_door_scratch = np.genfromtxt('data/data/output/door/door_scratch_data.csv', delimiter=',', dtype=None, encoding='UTF-8')\n",
    "data_door_scratch = np.delete(data_door_scratch, 0 , axis = 0)\n",
    "\n",
    "data_fender = np.genfromtxt('data/data/output/fender/fender_ed_data.csv', delimiter=',', dtype=None, encoding='UTF-8')\n",
    "data_fender = np.delete(data_fender, 0 , axis = 0)\n",
    "\n",
    "data_frame_ed = np.genfromtxt('data/data/output/frame/frame_ed_data.csv', delimiter=',', dtype=None, encoding='UTF-8')\n",
    "data_frame_ed = np.delete(data_frame_ed, 0 , axis = 0)\n",
    "data_frame_hd = np.genfromtxt('data/data/output/frame/frame_hd_data.csv', delimiter=',', dtype=None, encoding='UTF-8')\n",
    "data_frame_hd = np.delete(data_frame_hd, 0 , axis = 0)\n",
    "data_frame_sealf = np.genfromtxt('data/data/output/frame/frame_sealf_data.csv', delimiter=',', dtype=None, encoding='UTF-8')\n",
    "data_frame_sealf = np.delete(data_frame_sealf, 0 , axis = 0)\n",
    "data_frame_seamf = np.genfromtxt('data/data/output/frame/frame_seamf_data.csv', delimiter=',', dtype=None, encoding='UTF-8')\n",
    "data_frame_seamf = np.delete(data_frame_seamf, 0 , axis = 0)\n",
    "\n",
    "data_1=np.array((data_bumper))\n",
    "data_2=np.array((data_door_ed))\n",
    "data_3=np.array((data_door_scratch))\n",
    "data_4=np.array((data_fender))\n",
    "data_5=np.array((data_frame_ed))\n",
    "data_6=np.array((data_frame_hd))\n",
    "data_7=np.array((data_frame_sealf))\n",
    "data_8=np.array((data_frame_seamf))\n",
    "\n",
    "data= np.concatenate((data_1, data_2, data_3, data_4, data_5, data_6, data_7, data_8), axis=0)  # axis=0: 배치 축\n",
    "print(len(data))\n",
    "print(data)"
   ]
  },
  {
   "cell_type": "code",
   "execution_count": null,
   "metadata": {},
   "outputs": [
    {
     "name": "stdout",
     "output_type": "stream",
     "text": [
      "[4292 3407 6152 2151 2224   74 5011  642 4125 1694 3580 3105 5603 6158\n",
      " 4299  540 2335 4119 7096 5409  456 2987  823 4205  834 7322 3560 5528\n",
      "  872 2024 5738 3233 6942 3535 6291    1 3630 2466 1403 5304  604 1088\n",
      "  518 6622  820 6009 6487 2738  308 3337 1742 1706 3309 5923 6774 6282\n",
      " 5467 3380  382 5788 1336 3004 2624 3328 3440 6149 3678 5923 1221 1951\n",
      " 5227 7231 3552 7190   44 4510 4855 3374 6246 6139  272 4041 4992 5093\n",
      " 4691  208   80 6612 1871 5290 1336 6918 3473 4745  203 3178 2023  235\n",
      " 2160  618 4331  809 6949 1539 5857  597 7196 5001 1194  270 4458  231\n",
      " 5941 4533 6334 2299 1396 6118 4347 1047 1805 3214 6459  810 5469 2790\n",
      " 4523 1017 2598 3098 2280 7142  338 4927 2260 3467 4081 2928 5236 4086\n",
      " 2376 1773 1833  925 3908 5444 5748 6915  655 2609 3590 5741  306 3442\n",
      " 6616 5865 5614 2407 7221 4657 2299 3916 6168 1006 5799 2311 1853 6108\n",
      " 2069  677 4389 2655 6958 2617 4847 2739 3373 2831 2430 2722 6865 3342\n",
      " 2231  526 1779 1099  606 2813 4352 5299 5558 5500 2929 5147 2293 3590\n",
      " 4226 2263 3656   19]\n"
     ]
    }
   ],
   "source": [
    "from numpy import random\n",
    "\n",
    "data_num=200  #100개당 35초\n",
    "\n",
    "num=random.randint(len(data), size=data_num)\n",
    "\n",
    "print(num)"
   ]
  },
  {
   "cell_type": "code",
   "execution_count": 20,
   "metadata": {},
   "outputs": [
    {
     "name": "stdout",
     "output_type": "stream",
     "text": [
      "진행현황: 0.0%\n",
      "진행현황: 5.0%\n",
      "진행현황: 10.0%\n",
      "진행현황: 15.0%\n",
      "진행현황: 20.0%\n",
      "진행현황: 25.0%\n",
      "진행현황: 30.0%\n",
      "진행현황: 35.0%\n",
      "진행현황: 40.0%\n",
      "진행현황: 45.0%\n",
      "진행현황: 50.0%\n",
      "진행현황: 55.00000000000001%\n",
      "진행현황: 60.0%\n",
      "진행현황: 65.0%\n",
      "진행현황: 70.0%\n",
      "진행현황: 75.0%\n",
      "진행현황: 80.0%\n",
      "진행현황: 85.0%\n",
      "진행현황: 90.0%\n",
      "진행현황: 95.0%\n",
      "(200, 2000, 4000, 3)\n",
      "(200, 1)\n"
     ]
    }
   ],
   "source": [
    "from PIL import Image\n",
    "\n",
    "img_1 = Image.open(data[0,0])\n",
    "\n",
    "a=np.array(img_1)\n",
    "x=np.expand_dims(a, axis=0)\n",
    "y=[]\n",
    "\n",
    "for i, i2 in enumerate(num):\n",
    "    img = Image.open(data[i2,0])\n",
    "    x_3=np.array(img)\n",
    "    x_4=np.expand_dims(x_3, axis=0)\n",
    "    x = np.concatenate((x, x_4), axis=0)  # axis=0: 배치 축\n",
    "    y.append(data[i2,1])\n",
    "    if i%10==0:\n",
    "        print(f'진행현황: {i/data_num*100}%')\n",
    "\n",
    "x=np.delete(x, 0 , axis = 0)\n",
    "y=np.array(y).reshape(data_num,1)\n",
    "#print(x)\n",
    "\n",
    "print(x.shape)\n",
    "print(y.shape)\n"
   ]
  },
  {
   "cell_type": "code",
   "execution_count": null,
   "metadata": {},
   "outputs": [],
   "source": []
  },
  {
   "cell_type": "code",
   "execution_count": null,
   "metadata": {},
   "outputs": [],
   "source": []
  },
  {
   "cell_type": "code",
   "execution_count": null,
   "metadata": {},
   "outputs": [],
   "source": []
  },
  {
   "cell_type": "code",
   "execution_count": null,
   "metadata": {},
   "outputs": [],
   "source": []
  },
  {
   "cell_type": "code",
   "execution_count": null,
   "metadata": {},
   "outputs": [],
   "source": []
  },
  {
   "cell_type": "code",
   "execution_count": null,
   "metadata": {},
   "outputs": [],
   "source": []
  }
 ],
 "metadata": {
  "kernelspec": {
   "display_name": "pytorch-env",
   "language": "python",
   "name": "python3"
  },
  "language_info": {
   "codemirror_mode": {
    "name": "ipython",
    "version": 3
   },
   "file_extension": ".py",
   "mimetype": "text/x-python",
   "name": "python",
   "nbconvert_exporter": "python",
   "pygments_lexer": "ipython3",
   "version": "3.12.8"
  }
 },
 "nbformat": 4,
 "nbformat_minor": 2
}
