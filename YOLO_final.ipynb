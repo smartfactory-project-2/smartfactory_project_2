{
 "cells": [
  {
   "cell_type": "code",
   "execution_count": 5,
   "metadata": {},
   "outputs": [],
   "source": [
    "\n",
    "import pandas as pd\n",
    "import numpy as np\n",
    "from numpy import random\n",
    "from sklearn.model_selection import train_test_split\n",
    "import ast\n",
    "import os\n",
    "from PIL import Image\n",
    "import yaml"
   ]
  },
  {
   "cell_type": "markdown",
   "metadata": {},
   "source": [
    "# 데이터 전처리\n",
    "- 양품 : 75 * 4 = 300\n",
    "- 불량품 : 300 * 4 = 1200 랜덤 샘플링"
   ]
  },
  {
   "cell_type": "code",
   "execution_count": 6,
   "metadata": {},
   "outputs": [],
   "source": [
    "from sklearn.model_selection import train_test_split\n",
    "import pandas as pd\n",
    "\n",
    "# CSV 파일 로드 함수\n",
    "def load_data_with_pandas(file_path):\n",
    "    data = pd.read_csv(file_path)\n",
    "    return data\n",
    "\n",
    "# 데이터 로드\n",
    "data_bumper = load_data_with_pandas('./data/data/output/bumper/bumper_data.csv')\n",
    "data_door_ed = load_data_with_pandas('./data/data/output/door/door_ed_data.csv')\n",
    "data_door_scratch = load_data_with_pandas('./data/data/output/door/door_scratch_data.csv')\n",
    "data_fender = load_data_with_pandas('./data/data/output/fender/fender_ed_data.csv')\n",
    "data_frame_ed = load_data_with_pandas('./data/data/output/frame/frame_ed_data.csv')\n",
    "data_frame_hd = load_data_with_pandas('./data/data/output/frame/frame_hd_data_modify.csv')\n",
    "data_frame_sealf = load_data_with_pandas('./data/data/output/frame/frame_sealf_data_modify.csv')\n",
    "data_frame_seamf = load_data_with_pandas('./data/data/output/frame/frame_seamf_data_modify.csv')\n",
    "\n",
    "\n",
    "# 0이 처음 출력되는 index 값 추출\n",
    "first_zero_bumper = data_bumper[data_bumper['quality'] == 0].index[0]\n",
    "\n",
    "first_zero_door_ed = data_door_ed[data_door_ed['quality'] == 0].index[0]\n",
    "first_zero_door_scratch = data_door_scratch[data_door_scratch['quality'] == 0].index[0]\n",
    "\n",
    "first_zero_fender = data_fender[data_fender['quality'] == 0].index[0]\n",
    "\n",
    "first_zero_frame_ed = data_frame_ed[data_frame_ed['quality'] == 0].index[0]\n",
    "first_zero_frame_hd = data_frame_hd[data_frame_hd['quality'] == 0].index[0]\n",
    "first_zero_frame_sealf = data_frame_sealf[data_frame_sealf['quality'] == 0].index[0]\n",
    "first_zero_frame_seamf = data_frame_seamf[data_frame_seamf['quality'] == 0].index[0]\n",
    "\n"
   ]
  },
  {
   "cell_type": "markdown",
   "metadata": {},
   "source": [
    "# 일부 에러 데이터 정규화"
   ]
  },
  {
   "cell_type": "code",
   "execution_count": 3,
   "metadata": {},
   "outputs": [],
   "source": [
    "# import pandas as pd\n",
    "\n",
    "# def modify_csv(input_file, output_file, column_name, new_value, first_zero):\n",
    "#     # CSV 파일 읽기\n",
    "#     df = pd.read_csv(input_file)\n",
    "\n",
    "#     # 조건 설정: 첫 번째 0이 나오기 전까지만\n",
    "#     row_condition = df.index < first_zero_frame_hd\n",
    "\n",
    "#     # 조건에 해당하는 값 수정\n",
    "#     df.loc[row_condition, column_name] = new_value\n",
    "\n",
    "#     # 수정된 데이터 저장\n",
    "#     df.to_csv(output_file, index=False)\n",
    "\n",
    "# # 함수 사용 예시\n",
    "# # modify_csv(\n",
    "# #     \"C:\\\\Users\\\\dawoo\\\\desktop\\\\sf7\\\\coding\\\\pytorch\\\\project\\\\data\\\\data\\\\output\\\\frame\\\\frame_hd_data.csv\", \n",
    "# #     \"./data/data/output/frame/frame_hd_data_modify.csv\", \n",
    "# #     \"bboxes\", \n",
    "# #     \"[]\", \n",
    "# #     first_zero_frame_hd\n",
    "# # )\n",
    "\n",
    "# # modify_csv(\n",
    "# #     \"./data/data/output/frame/frame_sealf_data.csv\", \n",
    "# #     \"./data/data/output/frame/frame_sealf_data_modify.csv\", \n",
    "# #     \"bboxes\", \n",
    "# #     \"[]\", \n",
    "# #     first_zero_frame_sealf\n",
    "# # )\n",
    "\n",
    "# # modify_csv(\n",
    "# #     \"./data/data/output/frame/frame_seamf_data.csv\", \n",
    "# #     \"./data/data/output/frame/frame_seamf_data_modify.csv\", \n",
    "# #     \"bboxes\", \n",
    "# #     \"[]\", \n",
    "# #     first_zero_frame_seamf\n",
    "# # )\n"
   ]
  },
  {
   "cell_type": "markdown",
   "metadata": {},
   "source": [
    "### index을 통해서 양품과 불량품의 위치를 구분"
   ]
  },
  {
   "cell_type": "code",
   "execution_count": 4,
   "metadata": {},
   "outputs": [],
   "source": [
    "# print(f\"bumper 양품 : {len(data_bumper.iloc[:first_zero_bumper])}\")\n",
    "# print(f\"bumper 불량품 : {len(data_bumper.iloc[first_zero_bumper:])}\")\n",
    "\n",
    "# print(f\"door_ed 양품 : {len(data_door_ed.iloc[:first_zero_door_ed])}\")\n",
    "# print(f\"door_ed 불양품 : {len(data_door_ed.iloc[first_zero_door_ed:])}\")\n",
    "# print(f\"door_scratch 양품 : {len(data_door_scratch.iloc[:first_zero_door_scratch])}\")\n",
    "# print(f\"door_scratch 불양품 : {len(data_door_scratch.iloc[first_zero_door_scratch:])}\")\n",
    "\n",
    "# print(f\"data_fender 양품 : {len(data_fender.iloc[:first_zero_fender])}\")\n",
    "# print(f\"data_fender 불량품 : {len(data_fender.iloc[first_zero_fender:])}\")\n",
    "\n",
    "# print(f\"data_frame_ed 양품 : {len(data_frame_ed.iloc[:first_zero_frame_ed])}\")\n",
    "# print(f\"data_frame_ed 불양품 : {len(data_frame_ed.iloc[first_zero_frame_ed:])}\")\n",
    "# print(f\"data_frame_hd 양품 : {len(data_frame_hd.iloc[:first_zero_frame_hd])}\")\n",
    "# print(f\"data_frame_hd 불양품 : {len(data_frame_hd.iloc[first_zero_frame_hd:])}\")\n",
    "# print(f\"data_frame_sealf 양품 : {len(data_frame_sealf.iloc[:first_zero_frame_sealf])}\")\n",
    "# print(f\"data_frame_sealf 불양품 : {len(data_frame_sealf.iloc[first_zero_frame_sealf:])}\")\n",
    "# print(f\"data_frame_seamf 양품 : {len(data_frame_seamf.iloc[:first_zero_frame_seamf])}\")\n",
    "# print(f\"data_frame_seamf 불양품 : {len(data_frame_seamf.iloc[first_zero_frame_seamf:])}\")\n",
    "\n"
   ]
  },
  {
   "cell_type": "markdown",
   "metadata": {},
   "source": [
    "### 양품 데이터 추출"
   ]
  },
  {
   "cell_type": "code",
   "execution_count": 7,
   "metadata": {},
   "outputs": [],
   "source": [
    "import pandas as pd\n",
    "data_door = pd.concat([data_door_ed.iloc[:first_zero_door_ed],\n",
    "                      data_door_scratch.iloc[:first_zero_door_scratch]], ignore_index=True)\n",
    "data_frame = pd.concat([data_frame_ed.iloc[:first_zero_frame_ed],\n",
    "                        data_frame_hd.iloc[:first_zero_frame_hd], data_frame_sealf.iloc[:first_zero_frame_sealf], data_frame_seamf.iloc[:first_zero_frame_seamf]], ignore_index=True)\n",
    "\n",
    "bumper_before_zero = data_bumper.iloc[:first_zero_bumper]\n",
    "fender_before_zero = data_fender.iloc[:first_zero_fender]\n",
    "\n",
    "\n",
    "# 75개를 무작위로 추출 (복원 추출, random_state 설정)\n",
    "bumper_ok_random_sample = bumper_before_zero.sample(\n",
    "    n=min(450, len(bumper_before_zero)), replace=False, random_state=55)\n",
    "fender_ok_random_sample = fender_before_zero.sample(\n",
    "    n=min(300, len(fender_before_zero)), replace=False, random_state=55)\n",
    "door_ok_random_sample = data_door.sample(n=300, replace=False)\n",
    "frame_ok_random_sample = data_frame.sample(n=300, replace=False)\n",
    "# 결과 출력\n",
    "# print(bumper_ok_random_sample)\n",
    "# print(len(bumper_ok_random_sample))\n",
    "\n",
    "# print(fender_ok_random_sample)\n",
    "# print(len(fender_ok_random_sample))\n",
    "\n",
    "# print(door_ok_random_sample)\n",
    "# print(len(door_ok_random_sample))\n",
    "\n",
    "# print(frame_ok_random_sample)\n",
    "# print(len(frame_ok_random_sample))\n",
    "\n",
    "ok_data = pd.concat([bumper_ok_random_sample], ignore_index=True, axis=0)\n",
    "\n",
    "# ok_data"
   ]
  },
  {
   "cell_type": "markdown",
   "metadata": {},
   "source": [
    "### 불량품 데이터 추출"
   ]
  },
  {
   "cell_type": "code",
   "execution_count": 8,
   "metadata": {},
   "outputs": [],
   "source": [
    "import pandas as pd\n",
    "data_fault_bumper = data_bumper.iloc[first_zero_bumper:]\n",
    "data_fault_door = pd.concat([data_door_ed.iloc[first_zero_door_ed:],\n",
    "                             data_door_scratch.iloc[first_zero_door_scratch:]], ignore_index=True)\n",
    "data_fault_fender = data_fender.iloc[first_zero_fender:]\n",
    "data_fault_frame = pd.concat([data_frame_ed.iloc[first_zero_frame_ed:],\n",
    "                              data_frame_hd.iloc[first_zero_frame_hd:], data_frame_sealf.iloc[first_zero_frame_sealf:], data_frame_seamf.iloc[first_zero_frame_seamf:]], ignore_index=True)\n",
    "\n",
    "\n",
    "# 300개를 무작위로 추출 (복원 추출, random_state 설정)\n",
    "bumper_fault_random_sample = data_fault_bumper.sample(n=450, replace=False)\n",
    "fender_fault_random_sample = data_fault_fender.sample(n=300, replace=False)\n",
    "door_fault_random_sample = data_fault_door.sample(n=300, replace=False)\n",
    "frame_fault_random_sample = data_fault_frame.sample(n=300, replace=False)\n",
    "# 결과 출력\n",
    "# print(bumper_fault_random_sample)\n",
    "# print(len(bumper_fault_random_sample))\n",
    "\n",
    "# print(fender_fault_random_sample)\n",
    "# print(len(fender_fault_random_sample))\n",
    "\n",
    "# print(door_fault_random_sample)\n",
    "# print(len(door_fault_random_sample))\n",
    "\n",
    "# print(frame_fault_random_sample)\n",
    "# print(len(frame_fault_random_sample))\n",
    "\n",
    "fault_data = pd.concat([bumper_fault_random_sample], ignore_index=True, axis=0)\n",
    "\n",
    "# fault_data"
   ]
  },
  {
   "cell_type": "code",
   "execution_count": 9,
   "metadata": {},
   "outputs": [
    {
     "name": "stdout",
     "output_type": "stream",
     "text": [
      "y_ok 총 데이터 개수: 450\n",
      "y_fault 총 데이터 개수: 450\n",
      "train_data_80_ok 학습 데이터 개수: 288\n",
      "train_data_80_fault 학습 데이터 개수: 288\n",
      "test_data_ok 테스트 데이터 개수: 90\n",
      "test_data_fault 테스트 데이터 개수: 90\n",
      "valid_data_ok 검증 데이터 개수: 72\n",
      "valid_data_fault 검증 데이터 개수: 72\n"
     ]
    }
   ],
   "source": [
    "from sklearn.model_selection import train_test_split\n",
    "import pandas as pd\n",
    "\n",
    "# y에는 라벨, x에는 나머지 특성 정보\n",
    "y_ok = ok_data['quality']\n",
    "y_fault = fault_data['quality']\n",
    "\n",
    "# Stratified Split: 학습 데이터와 검증 데이터 비율을 80:20으로 설정, 클래스 비율을 유지\n",
    "train_data_ok, test_data_ok = train_test_split(\n",
    "    ok_data, test_size=0.2, stratify=y_ok, random_state=60\n",
    ")\n",
    "train_data_fault, test_data_fault = train_test_split(\n",
    "    fault_data, test_size=0.2, stratify=y_fault, random_state=60\n",
    ")\n",
    "\n",
    "# 학습 데이터에서 다시 80:20 비율로 나누어 검증 데이터 분리\n",
    "train_data_80_ok, valid_data_ok = train_test_split(\n",
    "    train_data_ok, test_size=0.2, stratify=train_data_ok['quality'], random_state=60)\n",
    "train_data_80_fault, valid_data_fault = train_test_split(\n",
    "    train_data_fault, test_size=0.2, stratify=train_data_fault['quality'], random_state=60)\n",
    "\n",
    "# CSV로 저장\n",
    "train_data_80_ok.to_csv('./data/train_data_80_ok.csv', index=False)\n",
    "train_data_80_fault.to_csv('./data/train_data_80_fault.csv', index=False)\n",
    "test_data_ok.to_csv('./data/test_data_ok.csv', index=False)\n",
    "test_data_fault.to_csv('./data/test_data_fault.csv', index=False)\n",
    "valid_data_ok.to_csv('./data/valid_data_ok.csv', index=False)\n",
    "valid_data_fault.to_csv('./data/valid_data_fault.csv', index=False)\n",
    "\n",
    "# 결과 출력\n",
    "print(f\"y_ok 총 데이터 개수: {len(y_ok)}\")\n",
    "print(f\"y_fault 총 데이터 개수: {len(y_fault)}\")\n",
    "print(f\"train_data_80_ok 학습 데이터 개수: {len(train_data_80_ok)}\")\n",
    "print(f\"train_data_80_fault 학습 데이터 개수: {len(train_data_80_fault)}\")\n",
    "print(f\"test_data_ok 테스트 데이터 개수: {len(test_data_ok)}\")\n",
    "print(f\"test_data_fault 테스트 데이터 개수: {len(test_data_fault)}\")\n",
    "print(f\"valid_data_ok 검증 데이터 개수: {len(valid_data_ok)}\")\n",
    "print(f\"valid_data_fault 검증 데이터 개수: {len(valid_data_fault)}\")\n"
   ]
  },
  {
   "cell_type": "markdown",
   "metadata": {},
   "source": [
    "# 테스트 데이터"
   ]
  },
  {
   "cell_type": "markdown",
   "metadata": {},
   "source": [
    "### bboxes 데이터 추출"
   ]
  },
  {
   "cell_type": "code",
   "execution_count": 8,
   "metadata": {},
   "outputs": [],
   "source": [
    "import ast\n",
    "\n",
    "def parse_bboxes(data):\n",
    "    \"\"\"\n",
    "    문자열 형태의 bounding box 정보를 파싱하여 리스트 형태로 변환하는 함수\n",
    "\n",
    "    Args:\n",
    "        data: 파싱할 데이터셋\n",
    "\n",
    "    Returns:\n",
    "        list: 파싱된 bounding box 리스트\n",
    "    \"\"\"\n",
    "\n",
    "    bboxes_list = []\n",
    "    for bbox_str in data[\"bboxes\"]:\n",
    "        try:\n",
    "            bboxes = ast.literal_eval(bbox_str)\n",
    "            bbox_list = []\n",
    "            for bbox in bboxes:\n",
    "                x, y, w, h = bbox\n",
    "                bbox_list.append([x, y, w, h])\n",
    "            bboxes_list.append(bbox_list)\n",
    "        except (ValueError, SyntaxError) as e:\n",
    "            print(f\"Error parsing bbox: {e}\")\n",
    "    return bboxes_list\n",
    "\n",
    "# 데이터셋별 bounding box 파싱\n",
    "train_ok_bboxes = parse_bboxes(train_data_80_ok)\n",
    "valid_ok_bboxes = parse_bboxes(valid_data_ok)\n",
    "test_ok_bboxes = parse_bboxes(test_data_ok)\n",
    "train_fault_bboxes = parse_bboxes(train_data_80_fault)\n",
    "valid_fault_bboxes = parse_bboxes(valid_data_fault)\n",
    "test_fault_bboxes = parse_bboxes(test_data_fault)\n",
    "\n",
    "# 결과 출력 (예시)\n",
    "# print(train_ok_bboxes[:5])\n",
    "# print(valid_ok_bboxes[:5])\n",
    "# print(test_ok_bboxes[:5])\n",
    "# print(train_fault_bboxes[:5])\n",
    "# print(valid_fault_bboxes[:5])\n",
    "# print(test_fault_bboxes[:5])"
   ]
  },
  {
   "cell_type": "markdown",
   "metadata": {},
   "source": [
    "# .yaml label 데이터 생성"
   ]
  },
  {
   "cell_type": "markdown",
   "metadata": {},
   "source": [
    "### 1. 디렉토리 경로 전처리"
   ]
  },
  {
   "cell_type": "code",
   "execution_count": 9,
   "metadata": {},
   "outputs": [
    {
     "name": "stderr",
     "output_type": "stream",
     "text": [
      "c:\\Users\\dawoo\\Desktop\\SF7\\coding\\PYTORCH\\pytorch-env\\Lib\\site-packages\\PIL\\Image.py:3186: DecompressionBombWarning: Image size (108000000 pixels) exceeds limit of 89478485 pixels, could be decompression bomb DOS attack.\n",
      "  warnings.warn(\n"
     ]
    }
   ],
   "source": [
    "import os\n",
    "from PIL import Image\n",
    "\n",
    "\n",
    "def extract_image_info(image_paths):\n",
    "    \"\"\"\n",
    "    이미지 경로 리스트에서 이미지 크기, 디렉토리 경로, 파일 이름을 추출하는 함수\n",
    "\n",
    "    Args:\n",
    "        image_paths (list): 이미지 경로 리스트\n",
    "\n",
    "    Returns:\n",
    "        tuple: (image_sizes, image_dirs, file_names)\n",
    "            image_sizes (list): 이미지 크기 리스트\n",
    "            image_dirs (list): 이미지 디렉토리 경로 리스트\n",
    "            file_names (list): 이미지 파일 이름 리스트\n",
    "    \"\"\"\n",
    "\n",
    "    image_sizes = []\n",
    "    image_dirs = []\n",
    "    file_names = []\n",
    "\n",
    "    for path in image_paths:\n",
    "        try:\n",
    "            image = Image.open(path)\n",
    "            width, height = image.size\n",
    "            image_sizes.append((width, height))\n",
    "            image_dirs.append(os.path.dirname(path) + os.sep)\n",
    "            file_names.append(os.path.splitext(os.path.basename(path))[0])\n",
    "        except FileNotFoundError:\n",
    "            print(f\"파일을 찾을 수 없습니다: {path}\")\n",
    "\n",
    "    return image_sizes, image_dirs, file_names\n",
    "\n",
    "\n",
    "# 데이터 준비 (예시)\n",
    "train_ok_image_paths = train_data_80_ok.iloc[:, 0].tolist()\n",
    "valid_ok_image_paths = valid_data_ok.iloc[:, 0].tolist()\n",
    "test_ok_image_paths = test_data_ok.iloc[:, 0].tolist()\n",
    "train_fault_image_paths = train_data_80_fault.iloc[:, 0].tolist()\n",
    "valid_fault_image_paths = valid_data_fault.iloc[:, 0].tolist()\n",
    "test_fault_image_paths = test_data_fault.iloc[:, 0].tolist()\n",
    "\n",
    "# 이미지 정보 추출\n",
    "train_sizes_ok, train_dirs_ok, train_names_ok = extract_image_info(train_ok_image_paths)\n",
    "valid_sizes_ok, valid_dirs_ok, valid_names_ok = extract_image_info(valid_ok_image_paths)\n",
    "test_sizes_ok, test_dirs_ok, test_names_ok = extract_image_info(test_ok_image_paths)\n",
    "train_sizes_fault, train_dirs_fault, train_names_fault = extract_image_info(train_fault_image_paths)\n",
    "valid_sizes_fault, valid_dirs_fault, valid_names_fault = extract_image_info(valid_fault_image_paths)\n",
    "test_sizes_fault, test_dirs_fault, test_names_fault = extract_image_info(test_fault_image_paths)\n",
    "\n",
    "# 결과 출력 ok\n",
    "# print(\"train_sizes_ok 이미지 크기:\", train_sizes_ok[:5])\n",
    "# print(\"train_dirs_ok 이미지 디렉토리:\", train_dirs_ok[:5])\n",
    "# print(\"train_names_ok 파일 이름:\", train_names_ok[:5])\n",
    "# print()\n",
    "# print(\"valid_sizes_ok 이미지 크기:\", valid_sizes_ok[:5])\n",
    "# print(\"valid_dirs_ok 이미지 디렉토리:\", valid_dirs_ok[:5])\n",
    "# print(\"valid_names_ok 파일 이름:\", valid_names_ok[:5])\n",
    "# print()\n",
    "# print(\"test_sizes_ok 이미지 크기:\", test_sizes_ok[:5])\n",
    "# print(\"test_dirs_ok 이미지 디렉토리:\", test_dirs_ok[:5])\n",
    "# print(\"test_names_ok 파일 이름:\", test_names_ok[:5])\n",
    "# 결과 출력 fault\n",
    "# print(\"train_sizes_fault 이미지 크기:\", train_sizes_fault[:5])\n",
    "# print(\"train_dirs_fault 이미지 디렉토리:\", train_dirs_fault[:5])\n",
    "# print(\"train_names_fault 파일 이름:\", train_names_fault[:5])\n",
    "# print()\n",
    "# print(\"valid_sizes_fault 이미지 크기:\", valid_sizes_fault[:5])\n",
    "# print(\"valid_dirs_fault 이미지 디렉토리:\", valid_dirs_fault[:5])\n",
    "# print(\"valid_names_fault 파일 이름:\", valid_names_fault[:5])\n",
    "# print()\n",
    "# print(\"test_sizes_fault 이미지 크기:\", test_sizes_fault[:5])\n",
    "# print(\"test_dirs_fault 이미지 디렉토리:\", test_dirs_fault[:5])\n",
    "# print(\"test_names_fault 파일 이름:\", test_names_fault[:5])"
   ]
  },
  {
   "cell_type": "markdown",
   "metadata": {},
   "source": [
    "### 3. 부품 상태 전처리"
   ]
  },
  {
   "cell_type": "code",
   "execution_count": 10,
   "metadata": {},
   "outputs": [],
   "source": [
    "# 부품 상태를 체크하는 함수\n",
    "def get_label(part, status):\n",
    "    if part == \"범퍼\":\n",
    "        if status == 1:\n",
    "            return 0\n",
    "        elif status == 0:\n",
    "            return 1\n",
    "    elif part == \"도어\":\n",
    "        if status == 1:\n",
    "            return 0\n",
    "        elif status == 0:\n",
    "            return 1\n",
    "    elif part == \"휀더\":\n",
    "        if status == 1:\n",
    "            return 0\n",
    "        elif status == 0:\n",
    "            return 1\n",
    "    elif part == \"프레임\":\n",
    "        if status == 1:\n",
    "            return 0\n",
    "        elif status == 0:\n",
    "            return 1\n",
    "    return None  # 기본적으로 반환할 값이 없으면 None\n",
    "\n",
    "# 예시 부품과 상태\n",
    "parts_and_status_train_ok = []\n",
    "parts_and_status_valid_ok = []\n",
    "parts_and_status_test_ok = []\n",
    "for quality, part in zip(train_data_80_ok.iloc[:, 1], train_data_80_ok.iloc[:, 2]):\n",
    "    parts_and_status_train_ok.append({\"part\": part, \"status\": quality})\n",
    "\n",
    "for quality, part in zip(test_data_ok.iloc[:, 1], test_data_ok.iloc[:, 2]):\n",
    "    parts_and_status_test_ok.append({\"part\": part, \"status\": quality})\n",
    "\n",
    "for quality, part in zip(valid_data_ok.iloc[:, 1], valid_data_ok.iloc[:, 2]):\n",
    "    parts_and_status_valid_ok.append({\"part\": part, \"status\": quality})\n",
    "\n",
    "parts_and_status_train_fault = []\n",
    "parts_and_status_valid_fault = []\n",
    "parts_and_status_test_fault = []\n",
    "for quality, part in zip(train_data_80_fault.iloc[:, 1], train_data_80_fault.iloc[:, 2]):\n",
    "    parts_and_status_train_fault.append({\"part\": part, \"status\": quality})\n",
    "\n",
    "for quality, part in zip(test_data_fault.iloc[:, 1], test_data_fault.iloc[:, 2]):\n",
    "    parts_and_status_test_fault.append({\"part\": part, \"status\": quality})\n",
    "\n",
    "for quality, part in zip(valid_data_fault.iloc[:, 1], valid_data_fault.iloc[:, 2]):\n",
    "    parts_and_status_valid_fault.append({\"part\": part, \"status\": quality})\n",
    "\n",
    "# print(f\"parts_and_status_train : {parts_and_status_train_ok}\")\n",
    "# print(f\"parts_and_status_test : {parts_and_status_test_ok}\")\n",
    "# print(f\"parts_and_status_valid : {parts_and_status_valid_ok}\")\n",
    "\n",
    "# print(f\"parts_and_status_train : {parts_and_status_train_fault}\")\n",
    "# print(f\"parts_and_status_test : {parts_and_status_test_fault}\")\n",
    "# print(f\"parts_and_status_valid : {parts_and_status_valid_fault}\")\n",
    "\n",
    "# 라벨링 결과를 저장할 리스트\n",
    "labels_train_ok = []\n",
    "labels_valid_ok = []\n",
    "label_test_ok = []\n",
    "\n",
    "# 각 부품 상태에 대해 라벨을 설정\n",
    "for item in parts_and_status_train_ok:\n",
    "    label = get_label(item[\"part\"], item[\"status\"])\n",
    "    labels_train_ok.append(label)\n",
    "for item in parts_and_status_test_ok:\n",
    "    label = get_label(item[\"part\"], item[\"status\"])\n",
    "    label_test_ok.append(label)\n",
    "for item in parts_and_status_valid_ok:\n",
    "    label = get_label(item[\"part\"], item[\"status\"])\n",
    "    labels_valid_ok.append(label)\n",
    "\n",
    "# # 결과 출력\n",
    "# print(\"labels_train_ok 라벨링 결과 :\", labels_train_ok)\n",
    "# print(\"labels_valid_ok 라벨링 결과 :\", labels_valid_ok)\n",
    "# print(\"label_test_ok 라벨링 결과 :\", label_test_ok)\n",
    "\n",
    "# 라벨링 결과를 저장할 리스트\n",
    "labels_train_fault = []\n",
    "labels_valid_fault = []\n",
    "label_test_fault = []\n",
    "\n",
    "# 각 부품 상태에 대해 라벨을 설정\n",
    "for item in parts_and_status_train_fault:\n",
    "    label = get_label(item[\"part\"], item[\"status\"])\n",
    "    labels_train_fault.append(label)\n",
    "for item in parts_and_status_test_fault:\n",
    "    label = get_label(item[\"part\"], item[\"status\"])\n",
    "    label_test_fault.append(label)\n",
    "for item in parts_and_status_valid_fault:\n",
    "    label = get_label(item[\"part\"], item[\"status\"])\n",
    "    labels_valid_fault.append(label)\n",
    "\n",
    "# # 결과 출력\n",
    "# print(\"labels_train_fault 라벨링 결과 :\", labels_train_fault)\n",
    "# print(\"labels_valid_fault 라벨링 결과 :\", labels_valid_fault)\n",
    "# print(\"label_test_fualt 라벨링 결과 :\", label_test_fault)"
   ]
  },
  {
   "cell_type": "code",
   "execution_count": 11,
   "metadata": {},
   "outputs": [
    {
     "name": "stdout",
     "output_type": "stream",
     "text": [
      "[INFO] Saved YOLO label: .\\train\\labels\\205_101_10_37fae6d4-aa18-4fe2-89aa-392c349e0aba.txt (bbox count: 0)\n",
      "[INFO] Saved YOLO label: .\\train\\labels\\205_101_10_bf6fabc8-0a0e-439c-b794-c07c4f5385c1.txt (bbox count: 0)\n",
      "[INFO] Saved YOLO label: .\\train\\labels\\205_101_10_d25f2945-3e74-4680-a58a-26a3673c6373.txt (bbox count: 0)\n",
      "[INFO] Saved YOLO label: .\\train\\labels\\205_101_10_c528abeb-a6b0-4794-b623-e86f53706126.txt (bbox count: 0)\n",
      "[INFO] Saved YOLO label: .\\train\\labels\\205_101_10_039c8043-435f-4bfc-8404-3615fab3b126.txt (bbox count: 0)\n",
      "[INFO] Saved YOLO label: .\\train\\labels\\205_101_10_19316aaa-afb3-472b-bd66-493692e377d2.txt (bbox count: 0)\n",
      "[INFO] Saved YOLO label: .\\train\\labels\\205_101_10_d3a3419e-adb3-4695-a333-94c26c00d684.txt (bbox count: 0)\n",
      "[INFO] Saved YOLO label: .\\train\\labels\\205_101_10_8823fb91-bf4c-4a7c-826e-99188406e3cd.txt (bbox count: 0)\n",
      "[INFO] Saved YOLO label: .\\train\\labels\\205_101_10_31117839-200a-4bbc-95de-5f1038a82222.txt (bbox count: 0)\n",
      "[INFO] Saved YOLO label: .\\train\\labels\\205_101_10_0ad6dedd-808a-485d-bdc4-3e30743c41d8.txt (bbox count: 0)\n",
      "[INFO] Saved YOLO label: .\\train\\labels\\205_101_10_353f142e-9c60-4831-8a05-5d8ca0122bd8.txt (bbox count: 0)\n",
      "[INFO] Saved YOLO label: .\\train\\labels\\205_101_10_e067bd7c-4e2c-4d0b-b41f-1bffa40e1cae.txt (bbox count: 0)\n",
      "[INFO] Saved YOLO label: .\\train\\labels\\205_101_10_eb93cb7e-bf72-42a6-b7c1-098d94459360.txt (bbox count: 0)\n",
      "[INFO] Saved YOLO label: .\\train\\labels\\205_101_10_fe1f6548-f22b-47aa-b59d-6ae3b2578095.txt (bbox count: 0)\n",
      "[INFO] Saved YOLO label: .\\train\\labels\\205_101_10_689ec9cb-47f2-4244-b100-3136bd6e3ac5.txt (bbox count: 0)\n",
      "[INFO] Saved YOLO label: .\\train\\labels\\205_101_10_e3b3e6a8-7678-48ee-8728-9547c3a56113.txt (bbox count: 0)\n",
      "[INFO] Saved YOLO label: .\\train\\labels\\205_101_10_063b59e1-56d7-42c9-8699-e252cf41ba8e.txt (bbox count: 0)\n",
      "[INFO] Saved YOLO label: .\\train\\labels\\205_101_10_0fcdaed6-3b24-4649-a3c9-061d252a07e2.txt (bbox count: 0)\n",
      "[INFO] Saved YOLO label: .\\train\\labels\\205_101_10_943ffb80-b417-4276-8129-dafe4d9f386a.txt (bbox count: 0)\n",
      "[INFO] Saved YOLO label: .\\train\\labels\\205_101_10_390e6315-b6e7-4523-a0fd-da57f6c7b383.txt (bbox count: 0)\n",
      "[INFO] Saved YOLO label: .\\train\\labels\\205_101_10_cada21d8-283e-4a1d-b5d9-ab267e0b100a.txt (bbox count: 0)\n",
      "[INFO] Saved YOLO label: .\\train\\labels\\205_101_10_3420ebd6-da9f-4bd1-a353-590af78eade9.txt (bbox count: 0)\n",
      "[INFO] Saved YOLO label: .\\train\\labels\\205_101_10_a9a963d9-acff-45be-8ced-2721cdc05b8d.txt (bbox count: 0)\n",
      "[INFO] Saved YOLO label: .\\train\\labels\\205_101_10_41651f41-140a-4c32-a8e2-4cda37dbc98a.txt (bbox count: 0)\n",
      "[INFO] Saved YOLO label: .\\train\\labels\\205_101_10_cdd732b0-596a-4ff2-b407-5e2e4f2f90e5.txt (bbox count: 0)\n",
      "[INFO] Saved YOLO label: .\\train\\labels\\205_101_10_a07de047-ca7c-4a4c-9a92-8b64f9f66994.txt (bbox count: 0)\n",
      "[INFO] Saved YOLO label: .\\train\\labels\\205_101_10_da139e17-36df-4584-9145-44036053cb84.txt (bbox count: 0)\n",
      "[INFO] Saved YOLO label: .\\train\\labels\\205_101_10_8f775140-89aa-4ea9-8fd2-dd1153bb5357.txt (bbox count: 0)\n",
      "[INFO] Saved YOLO label: .\\train\\labels\\205_101_10_324976bb-f4f1-4075-917a-44530b34696e.txt (bbox count: 0)\n",
      "[INFO] Saved YOLO label: .\\train\\labels\\205_101_10_6fb4d67b-56ac-4e04-b63b-6140a9a48b0c.txt (bbox count: 0)\n",
      "[INFO] Saved YOLO label: .\\train\\labels\\205_101_10_90d48c3b-18d7-4b14-a852-050f53f4bb5c.txt (bbox count: 0)\n",
      "[INFO] Saved YOLO label: .\\train\\labels\\205_101_10_27c201c3-fcbe-418c-af51-92079937fbdf.txt (bbox count: 0)\n",
      "[INFO] Saved YOLO label: .\\train\\labels\\205_101_10_7078ef78-2397-4ae6-af72-38ad4620b222.txt (bbox count: 0)\n",
      "[INFO] Saved YOLO label: .\\train\\labels\\205_101_10_0c58cc22-cdd5-4ecb-930c-07a9fe84e0a2.txt (bbox count: 0)\n",
      "[INFO] Saved YOLO label: .\\train\\labels\\205_101_10_9c981fd1-08a7-41bd-8263-1afbd228a7ec.txt (bbox count: 0)\n",
      "[INFO] Saved YOLO label: .\\train\\labels\\205_101_10_2add47c0-129d-4f1f-8f2b-fbb9efb299df.txt (bbox count: 0)\n",
      "[INFO] Saved YOLO label: .\\train\\labels\\205_101_10_176d7379-48c7-40a3-9434-116d1160b6a9.txt (bbox count: 0)\n",
      "[INFO] Saved YOLO label: .\\train\\labels\\205_101_10_ba5b50af-8f89-4a64-aa78-4d5a6e6e92cb.txt (bbox count: 0)\n",
      "[INFO] Saved YOLO label: .\\train\\labels\\205_101_10_50dc330d-979e-4a11-8106-216280bfb9d3.txt (bbox count: 0)\n",
      "[INFO] Saved YOLO label: .\\train\\labels\\205_101_10_24ef2262-154d-4a4f-8888-7824970cd442.txt (bbox count: 0)\n",
      "[INFO] Saved YOLO label: .\\train\\labels\\205_101_10_400c634c-1b69-4b12-bd5a-c6da9b4a4b6e.txt (bbox count: 0)\n",
      "[INFO] Saved YOLO label: .\\train\\labels\\205_101_10_c544a371-9522-45c1-93c2-b5569f86df13.txt (bbox count: 0)\n",
      "[INFO] Saved YOLO label: .\\train\\labels\\205_101_10_45ee0def-1da1-4a91-a18b-c174c3cf9b13.txt (bbox count: 0)\n",
      "[INFO] Saved YOLO label: .\\train\\labels\\205_101_10_fe6c81fb-77d6-4258-8fbb-c7a516630d0f.txt (bbox count: 0)\n",
      "[INFO] Saved YOLO label: .\\train\\labels\\205_101_10_1419f342-b811-454f-a371-57c02c6343c8.txt (bbox count: 0)\n",
      "[INFO] Saved YOLO label: .\\train\\labels\\205_101_10_b0339a40-d429-4291-b583-e912044a28b8.txt (bbox count: 0)\n",
      "[INFO] Saved YOLO label: .\\train\\labels\\205_101_10_bbcec1e2-8fc4-4af0-8e9e-767baff7f6bd.txt (bbox count: 0)\n",
      "[INFO] Saved YOLO label: .\\train\\labels\\205_101_10_3e836b3e-fc9d-4e67-9006-07104136c824.txt (bbox count: 0)\n",
      "[INFO] Saved YOLO label: .\\train\\labels\\205_101_10_ec232853-98c1-48f5-9443-8f7b0d85cb2a.txt (bbox count: 0)\n",
      "[INFO] Saved YOLO label: .\\train\\labels\\205_101_10_88c27830-7a1a-4874-a0bf-247f43ac3293.txt (bbox count: 0)\n",
      "[INFO] Saved YOLO label: .\\train\\labels\\205_101_10_8949e121-3b96-4750-b7ec-21b52ba1ea3e.txt (bbox count: 0)\n",
      "[INFO] Saved YOLO label: .\\train\\labels\\205_101_10_826bb934-e30d-4d69-aaec-e3d05f9fb2de.txt (bbox count: 0)\n",
      "[INFO] Saved YOLO label: .\\train\\labels\\205_101_10_31809889-65a7-47eb-be63-7ba60dd4b3d4.txt (bbox count: 0)\n",
      "[INFO] Saved YOLO label: .\\train\\labels\\205_101_10_05aa7dcb-0903-47eb-8e40-4b523c04ebf6.txt (bbox count: 0)\n",
      "[INFO] Saved YOLO label: .\\train\\labels\\205_101_10_f36342ea-4cf8-4a05-9d6d-66a8633de660.txt (bbox count: 0)\n",
      "[INFO] Saved YOLO label: .\\train\\labels\\205_101_10_3a52135b-fda8-4275-9141-f8edbf170c38.txt (bbox count: 0)\n",
      "[INFO] Saved YOLO label: .\\train\\labels\\205_101_10_dd7946c4-e206-46f7-a83a-ed7ed7aab9cf.txt (bbox count: 0)\n",
      "[INFO] Saved YOLO label: .\\train\\labels\\205_101_10_b8832f35-c814-46c4-b452-77523bb7d538.txt (bbox count: 0)\n",
      "[INFO] Saved YOLO label: .\\train\\labels\\205_101_10_68ed6ee2-cfd9-4914-94af-4c3682a99cf5.txt (bbox count: 0)\n",
      "[INFO] Saved YOLO label: .\\train\\labels\\205_101_10_386c6c2d-b126-4b53-8619-9541d3aa5070.txt (bbox count: 0)\n",
      "[INFO] Saved YOLO label: .\\train\\labels\\205_101_10_1a90918e-8005-4fae-a088-12ef04b2dcde.txt (bbox count: 0)\n",
      "[INFO] Saved YOLO label: .\\train\\labels\\205_101_10_5ea3decd-9007-4b7a-939a-024a03d4dcc6.txt (bbox count: 0)\n",
      "[INFO] Saved YOLO label: .\\train\\labels\\205_101_10_fe5f96d7-c02c-40d8-b641-e307b9c2a5b2.txt (bbox count: 0)\n",
      "[INFO] Saved YOLO label: .\\train\\labels\\205_101_10_477888f2-3969-42df-aaff-2e86981c4a42.txt (bbox count: 0)\n",
      "[INFO] Saved YOLO label: .\\train\\labels\\205_101_10_23664aee-48df-407c-a838-50690844f440.txt (bbox count: 0)\n",
      "[INFO] Saved YOLO label: .\\train\\labels\\205_101_10_071caba1-16ea-4672-8017-c45887367e9d.txt (bbox count: 0)\n",
      "[INFO] Saved YOLO label: .\\train\\labels\\205_101_10_0c629b1b-9e2c-475c-831f-819dad04940b.txt (bbox count: 0)\n",
      "[INFO] Saved YOLO label: .\\train\\labels\\205_101_10_204f82f7-32e9-403a-8970-45d26ad8c96f.txt (bbox count: 0)\n",
      "[INFO] Saved YOLO label: .\\train\\labels\\205_101_10_b8db9d35-6181-4c9e-9bb1-f91ae4af602c.txt (bbox count: 0)\n",
      "[INFO] Saved YOLO label: .\\train\\labels\\205_101_10_345105a9-3ed1-4112-9554-8cc76d8351bb.txt (bbox count: 0)\n",
      "[INFO] Saved YOLO label: .\\train\\labels\\205_101_10_d30a3e4a-6a6d-4816-955e-b444254a9e8b.txt (bbox count: 0)\n",
      "[INFO] Saved YOLO label: .\\train\\labels\\205_101_10_2274fee9-b278-4802-a01b-cc5d0946e01b.txt (bbox count: 0)\n",
      "[INFO] Saved YOLO label: .\\train\\labels\\205_101_10_3e1ba5e1-eaa5-4dcb-a088-67667d32c221.txt (bbox count: 0)\n",
      "[INFO] Saved YOLO label: .\\train\\labels\\205_101_10_322aee69-fc0e-44f3-b6a5-ebbe577a86cc.txt (bbox count: 0)\n",
      "[INFO] Saved YOLO label: .\\train\\labels\\205_101_10_f79d8cf9-0376-439a-83fc-7c0f8ec102bf.txt (bbox count: 0)\n",
      "[INFO] Saved YOLO label: .\\train\\labels\\205_101_10_1c216083-dbb0-4f4c-ad1a-286b29f3fd26.txt (bbox count: 0)\n",
      "[INFO] Saved YOLO label: .\\train\\labels\\205_101_10_e46b9bd9-0eb4-42ee-9d3c-129fb8b72577.txt (bbox count: 0)\n",
      "[INFO] Saved YOLO label: .\\train\\labels\\205_101_10_724dc36a-2eb2-49ac-a869-8b9d82eb00fc.txt (bbox count: 0)\n",
      "[INFO] Saved YOLO label: .\\train\\labels\\205_101_10_30b04c66-0351-41b8-b0e8-c0dc8a47a5aa.txt (bbox count: 0)\n",
      "[INFO] Saved YOLO label: .\\train\\labels\\205_101_10_ca6b1e39-c472-4595-b0be-5a2b48e9e7c8.txt (bbox count: 0)\n",
      "[INFO] Saved YOLO label: .\\train\\labels\\205_101_10_3d0fb97f-fc6e-48fe-9c26-448bf031a61e.txt (bbox count: 0)\n",
      "[INFO] Saved YOLO label: .\\train\\labels\\205_101_10_71795e69-2747-41bd-ba0d-6d7e0fc0da67.txt (bbox count: 0)\n",
      "[INFO] Saved YOLO label: .\\train\\labels\\205_101_10_43a320a2-4923-43e8-9abc-4c616f6ad0f8.txt (bbox count: 0)\n",
      "[INFO] Saved YOLO label: .\\train\\labels\\205_101_10_a368b17a-cbf2-4efc-834c-2d0284dfd677.txt (bbox count: 0)\n",
      "[INFO] Saved YOLO label: .\\train\\labels\\205_101_10_4f60ffc9-b24b-464a-bab4-ecb3769fc867.txt (bbox count: 0)\n",
      "[INFO] Saved YOLO label: .\\train\\labels\\205_101_10_77f81171-97b4-4726-8648-dcc2318fc269.txt (bbox count: 0)\n",
      "[INFO] Saved YOLO label: .\\train\\labels\\205_101_10_4a4ecf3a-9af8-431b-be57-93477ce17ae5.txt (bbox count: 0)\n",
      "[INFO] Saved YOLO label: .\\train\\labels\\205_101_10_a7f5169d-e51b-4cc5-a083-40f2a2f6e8e5.txt (bbox count: 0)\n",
      "[INFO] Saved YOLO label: .\\train\\labels\\205_101_10_20bbdf71-3e60-4e28-8b35-21fcec0a5a0d.txt (bbox count: 0)\n",
      "[INFO] Saved YOLO label: .\\train\\labels\\205_101_10_58dcc91f-161c-4155-9af7-d6d573a1214c.txt (bbox count: 0)\n",
      "[INFO] Saved YOLO label: .\\train\\labels\\205_101_10_29469341-2c1e-4fb0-9a89-3b3b26bfa45f.txt (bbox count: 0)\n",
      "[INFO] Saved YOLO label: .\\train\\labels\\205_101_10_095b39d0-c431-42bf-93ca-88d57c5cf6d6.txt (bbox count: 0)\n",
      "[INFO] Saved YOLO label: .\\train\\labels\\205_101_10_09a78c32-1a7f-4ab8-8449-bc5f0ff7df82.txt (bbox count: 0)\n",
      "[INFO] Saved YOLO label: .\\train\\labels\\205_101_10_2c4c4752-2a83-42d5-a433-3ba04e479c78.txt (bbox count: 0)\n",
      "[INFO] Saved YOLO label: .\\train\\labels\\205_101_10_736bf6be-31f3-459e-8a24-35ba60c6e6e5.txt (bbox count: 0)\n",
      "[INFO] Saved YOLO label: .\\train\\labels\\205_101_10_abe9e64d-2896-4507-bb79-628a550be872.txt (bbox count: 0)\n",
      "[INFO] Saved YOLO label: .\\train\\labels\\205_101_10_eeacf339-28c5-41e0-b83b-1d552a06997d.txt (bbox count: 0)\n",
      "[INFO] Saved YOLO label: .\\train\\labels\\205_101_10_3839af1c-7dd2-479c-a0cf-d44c2789b658.txt (bbox count: 0)\n",
      "[INFO] Saved YOLO label: .\\train\\labels\\205_101_10_ae4a32f5-36fc-4d04-a0e8-9f842a781e76.txt (bbox count: 0)\n",
      "[INFO] Saved YOLO label: .\\train\\labels\\205_101_10_873e4772-0c61-4436-81d5-28d642ac1546.txt (bbox count: 0)\n",
      "[INFO] Saved YOLO label: .\\train\\labels\\205_101_10_d05a93c0-12e1-4298-9ee5-027cc494e7ae.txt (bbox count: 0)\n",
      "[INFO] Saved YOLO label: .\\train\\labels\\205_101_10_88f9ad15-6a5f-4523-a98e-b5cc5080b070.txt (bbox count: 0)\n",
      "[INFO] Saved YOLO label: .\\train\\labels\\205_101_10_e1cdb468-b399-4ba2-a275-94a96c83f0ec.txt (bbox count: 0)\n",
      "[INFO] Saved YOLO label: .\\train\\labels\\205_101_10_20d02791-4f3b-4e22-a880-0176ef6d693d.txt (bbox count: 0)\n",
      "[INFO] Saved YOLO label: .\\train\\labels\\205_101_10_f5742eab-88ca-4d84-b551-1b270fafc5d7.txt (bbox count: 0)\n",
      "[INFO] Saved YOLO label: .\\train\\labels\\205_101_10_0232027f-bfd3-460b-b92d-b14537879e9a.txt (bbox count: 0)\n",
      "[INFO] Saved YOLO label: .\\train\\labels\\205_101_10_8e6ab61f-8668-45e7-9612-958aea3c5820.txt (bbox count: 0)\n",
      "[INFO] Saved YOLO label: .\\train\\labels\\205_101_10_5e2f78a8-b0b7-4395-84e7-bc9cd437a718.txt (bbox count: 0)\n",
      "[INFO] Saved YOLO label: .\\train\\labels\\205_101_10_d9e4148d-a8f7-4037-a6b4-6285d8e541a4.txt (bbox count: 0)\n",
      "[INFO] Saved YOLO label: .\\train\\labels\\205_101_10_0b4d57cf-1477-45af-9c26-059772d9d18f.txt (bbox count: 0)\n",
      "[INFO] Saved YOLO label: .\\train\\labels\\205_101_10_d03a273e-97d3-43ea-8c2c-c2817fa97e2c.txt (bbox count: 0)\n",
      "[INFO] Saved YOLO label: .\\train\\labels\\205_101_10_8a088ea1-1895-4667-a3b1-f9caf3d46b70.txt (bbox count: 0)\n",
      "[INFO] Saved YOLO label: .\\train\\labels\\205_101_10_ae7cd8d7-9274-4d2d-842a-af9459dce842.txt (bbox count: 0)\n",
      "[INFO] Saved YOLO label: .\\train\\labels\\205_101_10_2d0fe052-6dc0-4e75-b4a7-b868d9adda65.txt (bbox count: 0)\n",
      "[INFO] Saved YOLO label: .\\train\\labels\\205_101_10_9762b299-d27c-4b75-94f9-5d6d62a3215e.txt (bbox count: 0)\n",
      "[INFO] Saved YOLO label: .\\train\\labels\\205_101_10_5db122f3-3852-4d1c-a402-7d8a69432086.txt (bbox count: 0)\n",
      "[INFO] Saved YOLO label: .\\train\\labels\\205_101_10_5d66e8c5-8eaa-4466-bc32-18978e684caa.txt (bbox count: 0)\n",
      "[INFO] Saved YOLO label: .\\train\\labels\\205_101_10_4ff37b00-9d9a-4175-9f19-5967dd6f0586.txt (bbox count: 0)\n",
      "[INFO] Saved YOLO label: .\\train\\labels\\205_101_10_9f195ebf-47c7-4648-868a-9e6e77c9af57.txt (bbox count: 0)\n",
      "[INFO] Saved YOLO label: .\\train\\labels\\205_101_10_2d1b1891-a371-46a4-a36e-8224095076f0.txt (bbox count: 0)\n",
      "[INFO] Saved YOLO label: .\\train\\labels\\205_101_10_89f9c54c-a22b-4024-96d3-bca3759a7501.txt (bbox count: 0)\n",
      "[INFO] Saved YOLO label: .\\train\\labels\\205_101_10_631f6d2e-e9e1-4f2f-a75d-984a92e3b9cd.txt (bbox count: 0)\n",
      "[INFO] Saved YOLO label: .\\train\\labels\\205_101_10_8afb46e1-f09f-4548-8000-14f4c6538096.txt (bbox count: 0)\n",
      "[INFO] Saved YOLO label: .\\train\\labels\\205_101_10_c2367b78-5e49-4a99-9971-c87c9ec044bb.txt (bbox count: 0)\n",
      "[INFO] Saved YOLO label: .\\train\\labels\\205_101_10_55b8c862-0bd2-48c2-99bb-75be494662a0.txt (bbox count: 0)\n",
      "[INFO] Saved YOLO label: .\\train\\labels\\205_101_10_ae769cb2-7ec9-4757-b2b3-5a5d1af2b41d.txt (bbox count: 0)\n",
      "[INFO] Saved YOLO label: .\\train\\labels\\205_101_10_1196582e-786d-4fc6-b600-1cbe90acdec3.txt (bbox count: 0)\n",
      "[INFO] Saved YOLO label: .\\train\\labels\\205_101_10_1a0711f3-458b-4652-8af5-ad5803f8ed01.txt (bbox count: 0)\n",
      "[INFO] Saved YOLO label: .\\train\\labels\\205_101_10_4a663197-3b1c-4666-b6a0-4c7f5f1d4ef1.txt (bbox count: 0)\n",
      "[INFO] Saved YOLO label: .\\train\\labels\\205_101_10_f411af21-3677-4813-8f29-2fbf9f2207d4.txt (bbox count: 0)\n",
      "[INFO] Saved YOLO label: .\\train\\labels\\205_101_10_7411eb43-50f5-4e4f-aeee-443ffc5d5930.txt (bbox count: 0)\n",
      "[INFO] Saved YOLO label: .\\train\\labels\\205_101_10_d94b4017-3585-40e9-bf31-9f3f81e37caf.txt (bbox count: 0)\n",
      "[INFO] Saved YOLO label: .\\train\\labels\\205_101_10_27d9955e-f4c8-484b-b602-25a3a06a802e.txt (bbox count: 0)\n",
      "[INFO] Saved YOLO label: .\\train\\labels\\205_101_10_61705547-ba91-46a5-82f1-9e04c15cc89f.txt (bbox count: 0)\n",
      "[INFO] Saved YOLO label: .\\train\\labels\\205_101_10_2661392e-4c1c-481d-9676-0716371f83d3.txt (bbox count: 0)\n",
      "[INFO] Saved YOLO label: .\\train\\labels\\205_101_10_defbcb8e-c7f7-4238-bd16-cc0bee6be32f.txt (bbox count: 0)\n",
      "[INFO] Saved YOLO label: .\\train\\labels\\205_101_10_c42d558a-0285-486b-83ed-616c39084da0.txt (bbox count: 0)\n",
      "[INFO] Saved YOLO label: .\\train\\labels\\205_101_10_5cd736c4-483b-490c-adf7-b19a4d56a297.txt (bbox count: 0)\n",
      "[INFO] Saved YOLO label: .\\train\\labels\\205_101_10_ba84275a-0005-4a32-9e2b-ce9b1ed1f63c.txt (bbox count: 0)\n",
      "[INFO] Saved YOLO label: .\\train\\labels\\205_101_10_cb87c602-1e57-4a20-b9d1-48d959b7a1b0.txt (bbox count: 0)\n",
      "[INFO] Saved YOLO label: .\\train\\labels\\205_101_10_c841d8a4-aa0b-41f4-aa9c-f116f9bfd9a7.txt (bbox count: 0)\n",
      "[INFO] Saved YOLO label: .\\train\\labels\\205_101_10_99dd8adb-a08e-4029-86df-daff43b6bd63.txt (bbox count: 0)\n",
      "[INFO] Saved YOLO label: .\\train\\labels\\205_101_10_0bcf452c-bac3-4569-bb70-3a4131c1bc6c.txt (bbox count: 0)\n",
      "[INFO] Saved YOLO label: .\\train\\labels\\205_101_10_8ef06101-d26d-43c3-bc44-c38e442c1e7b.txt (bbox count: 0)\n",
      "[INFO] Saved YOLO label: .\\train\\labels\\205_101_10_2b30f55d-9d1c-4175-b02f-6af66e8ab033.txt (bbox count: 0)\n",
      "[INFO] Saved YOLO label: .\\train\\labels\\205_101_10_1d98b04c-ef4e-4351-b26e-a878b43b5306.txt (bbox count: 0)\n",
      "[INFO] Saved YOLO label: .\\train\\labels\\205_101_10_38894396-a6f0-40c5-82f2-333f888aa45d.txt (bbox count: 0)\n",
      "[INFO] Saved YOLO label: .\\train\\labels\\205_101_10_68de1d22-0e4b-47bb-875b-ad016d663e79.txt (bbox count: 0)\n",
      "[INFO] Saved YOLO label: .\\train\\labels\\205_101_10_50d8cf41-a219-450b-a117-72660a7ba8f6.txt (bbox count: 0)\n",
      "[INFO] Saved YOLO label: .\\train\\labels\\205_101_10_94a8e2bd-8409-4fda-8537-2b7651f952cb.txt (bbox count: 0)\n",
      "[INFO] Saved YOLO label: .\\train\\labels\\205_101_10_592278aa-e84a-4dcc-ac25-3b9751ce8151.txt (bbox count: 0)\n",
      "[INFO] Saved YOLO label: .\\train\\labels\\205_101_10_84801cfd-571d-4ea9-9216-8a5b3485522d.txt (bbox count: 0)\n",
      "[INFO] Saved YOLO label: .\\train\\labels\\205_101_10_53221a11-0235-4271-b9ce-08a3d8e316b8.txt (bbox count: 0)\n",
      "[INFO] Saved YOLO label: .\\train\\labels\\205_101_10_6e3d6df9-767f-4f7b-a4f0-4d09c13929f5.txt (bbox count: 0)\n",
      "[INFO] Saved YOLO label: .\\train\\labels\\205_101_10_d13dc21c-a587-44c1-9bcb-e0d50f4d9c30.txt (bbox count: 0)\n",
      "[INFO] Saved YOLO label: .\\train\\labels\\205_101_10_b4388845-6c6c-406c-9fe0-57fb9b8211f0.txt (bbox count: 0)\n",
      "[INFO] Saved YOLO label: .\\train\\labels\\205_101_10_fcff2933-0715-44f1-b659-545bb6602a1a.txt (bbox count: 0)\n",
      "[INFO] Saved YOLO label: .\\train\\labels\\205_101_10_426a0c25-018d-44e8-aa87-9b4252535b92.txt (bbox count: 0)\n",
      "[INFO] Saved YOLO label: .\\train\\labels\\205_101_10_e8764ae1-efdf-47b7-a813-a080495f0307.txt (bbox count: 0)\n",
      "[INFO] Saved YOLO label: .\\train\\labels\\205_101_10_091a30a5-e96b-40ce-a150-4c926552cd1d.txt (bbox count: 0)\n",
      "[INFO] Saved YOLO label: .\\train\\labels\\205_101_10_86fdc76d-8d88-4198-a053-27eb59d9096a.txt (bbox count: 0)\n",
      "[INFO] Saved YOLO label: .\\train\\labels\\205_101_10_0984f953-13b2-4e4b-889e-c44f83b0c499.txt (bbox count: 0)\n",
      "[INFO] Saved YOLO label: .\\train\\labels\\205_101_10_ef4df0b8-4bcc-4504-88b9-577df23c6065.txt (bbox count: 0)\n",
      "[INFO] Saved YOLO label: .\\train\\labels\\205_101_10_0671b6bd-31a9-4bbd-88cd-d865a9301cb7.txt (bbox count: 0)\n",
      "[INFO] Saved YOLO label: .\\train\\labels\\205_101_10_9a30c2bb-4b4f-4d9c-8827-2185bd042695.txt (bbox count: 0)\n",
      "[INFO] Saved YOLO label: .\\train\\labels\\205_101_10_b3fa0be0-c509-431c-835f-0cad9717cf64.txt (bbox count: 0)\n",
      "[INFO] Saved YOLO label: .\\train\\labels\\205_101_10_d91cda38-43d1-4181-9849-7748758136e3.txt (bbox count: 0)\n",
      "[INFO] Saved YOLO label: .\\train\\labels\\205_101_10_04de214e-8fa1-40c6-a325-df2e612a893f.txt (bbox count: 0)\n",
      "[INFO] Saved YOLO label: .\\train\\labels\\205_101_10_7af9cf85-c7b8-4841-a93f-beaae86c9d8f.txt (bbox count: 0)\n",
      "[INFO] Saved YOLO label: .\\train\\labels\\205_101_10_4e372ab8-4642-4f47-8766-1dd2ff186f14.txt (bbox count: 0)\n",
      "[INFO] Saved YOLO label: .\\train\\labels\\205_101_10_57257c5b-ae2a-4bee-a71f-f6f16c7af2c3.txt (bbox count: 0)\n",
      "[INFO] Saved YOLO label: .\\train\\labels\\205_101_10_e8147cac-dbd7-49ff-98c5-d72e7c891053.txt (bbox count: 0)\n",
      "[INFO] Saved YOLO label: .\\train\\labels\\205_101_10_3377dd40-c421-4ca1-83b7-78e18e8d83da.txt (bbox count: 0)\n",
      "[INFO] Saved YOLO label: .\\train\\labels\\205_101_10_e927a56b-7375-499a-9c3c-0e47cad26f45.txt (bbox count: 0)\n",
      "[INFO] Saved YOLO label: .\\train\\labels\\205_101_10_0398e98c-fd1f-47e2-af49-f3a505525447.txt (bbox count: 0)\n",
      "[INFO] Saved YOLO label: .\\train\\labels\\205_101_10_8b4dd263-12f1-49f1-8d4a-38226a1f6887.txt (bbox count: 0)\n",
      "[INFO] Saved YOLO label: .\\train\\labels\\205_101_10_8a03f9b6-9738-4ace-8f9f-3593ff7de2fc.txt (bbox count: 0)\n",
      "[INFO] Saved YOLO label: .\\train\\labels\\205_101_10_0fb1d2a2-7743-49d3-bc0b-654a380894ce.txt (bbox count: 0)\n",
      "[INFO] Saved YOLO label: .\\train\\labels\\205_101_10_e2f7df8c-889f-4893-8458-79271c65b85d.txt (bbox count: 0)\n",
      "[INFO] Saved YOLO label: .\\train\\labels\\205_101_10_d8171eff-6225-4286-98bb-2f759bf7861f.txt (bbox count: 0)\n",
      "[INFO] Saved YOLO label: .\\train\\labels\\205_101_10_dda1fc98-3824-4f33-b0f4-8b0ccb295d46.txt (bbox count: 0)\n",
      "[INFO] Saved YOLO label: .\\train\\labels\\205_101_10_099cdb5c-ca33-442e-baec-f414ffd2385e.txt (bbox count: 0)\n",
      "[INFO] Saved YOLO label: .\\train\\labels\\205_101_10_ca1b7b98-a792-4592-a2e3-9082b5057ad7.txt (bbox count: 0)\n",
      "[INFO] Saved YOLO label: .\\train\\labels\\205_101_10_ca25a27d-690d-4c05-b294-9bd9a54f2b53.txt (bbox count: 0)\n",
      "[INFO] Saved YOLO label: .\\train\\labels\\205_101_10_bca621ad-2378-4b7a-926c-b2353c5ca88d.txt (bbox count: 0)\n",
      "[INFO] Saved YOLO label: .\\train\\labels\\205_101_10_13737ec9-9526-4428-b72f-7718a24f792c.txt (bbox count: 0)\n",
      "[INFO] Saved YOLO label: .\\train\\labels\\205_101_10_3be1e04f-b4c7-4170-b195-61a597c0c26d.txt (bbox count: 0)\n",
      "[INFO] Saved YOLO label: .\\train\\labels\\205_101_10_734f6f8c-904d-4d85-a022-c64fb8b7baa4.txt (bbox count: 0)\n",
      "[INFO] Saved YOLO label: .\\train\\labels\\205_101_10_fd774c51-f677-4239-87a2-fdbdab34d35f.txt (bbox count: 0)\n",
      "[INFO] Saved YOLO label: .\\train\\labels\\205_101_10_c5f51cb8-c49c-4a21-b02d-03f7a64b0bd2.txt (bbox count: 0)\n",
      "[INFO] Saved YOLO label: .\\train\\labels\\205_101_10_78ab0d18-9fd7-4ecc-a01d-777f2a69367b.txt (bbox count: 0)\n",
      "[INFO] Saved YOLO label: .\\train\\labels\\205_101_10_bedf71aa-f7f1-4a61-8ed2-9232d370478e.txt (bbox count: 0)\n",
      "[INFO] Saved YOLO label: .\\train\\labels\\205_101_10_17747c99-4644-4971-ab14-ca97b66cde61.txt (bbox count: 0)\n",
      "[INFO] Saved YOLO label: .\\train\\labels\\205_101_10_5c92d368-3473-43aa-9848-181e4fa45b25.txt (bbox count: 0)\n",
      "[INFO] Saved YOLO label: .\\train\\labels\\205_101_10_a276e504-f00e-4c4c-b600-251575d86114.txt (bbox count: 0)\n",
      "[INFO] Saved YOLO label: .\\train\\labels\\205_101_10_613e764e-6053-4bcd-b100-a8950705c32b.txt (bbox count: 0)\n",
      "[INFO] Saved YOLO label: .\\train\\labels\\205_101_10_3897323c-8735-4b7f-8ca1-88fda16f7203.txt (bbox count: 0)\n",
      "[INFO] Saved YOLO label: .\\train\\labels\\205_101_10_8a9f1b60-345c-4bbb-b2ab-6fa02fcccec7.txt (bbox count: 0)\n",
      "[INFO] Saved YOLO label: .\\train\\labels\\205_101_10_2cc7a8df-9a8b-48ec-856a-b85a2bd783b8.txt (bbox count: 0)\n",
      "[INFO] Saved YOLO label: .\\train\\labels\\205_101_10_630e6c7a-6ab2-48ea-a81d-e28903803a31.txt (bbox count: 0)\n",
      "[INFO] Saved YOLO label: .\\train\\labels\\205_101_10_232906a4-2abd-4fed-b8d8-bb102c658b4d.txt (bbox count: 0)\n",
      "[INFO] Saved YOLO label: .\\train\\labels\\205_101_10_ff049368-49fb-47ae-bca6-0808c33b9045.txt (bbox count: 0)\n",
      "[INFO] Saved YOLO label: .\\train\\labels\\205_101_10_342fbe4b-1bfe-4a37-9f12-1b802d02d01d.txt (bbox count: 0)\n",
      "[INFO] Saved YOLO label: .\\train\\labels\\205_101_10_3c67bbf5-adbe-4bb8-b361-6745a0cb4fb0.txt (bbox count: 0)\n",
      "[INFO] Saved YOLO label: .\\train\\labels\\205_101_10_3b53674e-95d7-4b13-8950-9e91c993228c.txt (bbox count: 0)\n",
      "[INFO] Saved YOLO label: .\\train\\labels\\205_101_10_421f6619-9837-4f99-8aa1-37ccf2708bb7.txt (bbox count: 0)\n",
      "[INFO] Saved YOLO label: .\\train\\labels\\205_101_10_7e5fa3dd-c60d-43a0-8c60-9154e5c693f0.txt (bbox count: 0)\n",
      "[INFO] Saved YOLO label: .\\train\\labels\\205_101_10_f7a0e9e1-b578-4ebd-83bf-95d1ea83f7ba.txt (bbox count: 0)\n",
      "[INFO] Saved YOLO label: .\\train\\labels\\205_101_10_33752b96-31ac-47c2-be1a-229bd6714c30.txt (bbox count: 0)\n",
      "[INFO] Saved YOLO label: .\\train\\labels\\205_101_10_beb121d6-3dc4-4c62-93f4-42d362d0d645.txt (bbox count: 0)\n",
      "[INFO] Saved YOLO label: .\\train\\labels\\205_101_10_e00b0ad3-ab8c-40c6-bd0b-ca457cab7182.txt (bbox count: 0)\n",
      "[INFO] Saved YOLO label: .\\train\\labels\\205_101_10_edfb821c-5e27-4e9e-8c37-ded98635754c.txt (bbox count: 0)\n",
      "[INFO] Saved YOLO label: .\\train\\labels\\205_101_10_220216bc-b949-4b39-8928-e4f0ab4cf2cb.txt (bbox count: 0)\n",
      "[INFO] Saved YOLO label: .\\train\\labels\\205_101_10_af32d1a1-8352-4b12-8ba9-ac83c18934bc.txt (bbox count: 0)\n",
      "[INFO] Saved YOLO label: .\\train\\labels\\205_101_10_95b3a6bc-9220-45ad-967d-6c433431e512.txt (bbox count: 0)\n",
      "[INFO] Saved YOLO label: .\\train\\labels\\205_101_10_7987712d-3a8b-47c7-8c13-47382bc07eaf.txt (bbox count: 0)\n",
      "[INFO] Saved YOLO label: .\\train\\labels\\205_101_10_cbc232e3-1faa-4a29-a23d-35c82f8d9c50.txt (bbox count: 0)\n",
      "[INFO] Saved YOLO label: .\\train\\labels\\205_101_10_7d820a6b-0073-49cd-a71a-d2b4a3154164.txt (bbox count: 0)\n",
      "[INFO] Saved YOLO label: .\\train\\labels\\205_101_10_3bdd5245-0593-4f41-886f-67d72406d70a.txt (bbox count: 0)\n",
      "[INFO] Saved YOLO label: .\\train\\labels\\205_101_10_63a20db8-2748-4753-8529-0b9634c1aa09.txt (bbox count: 0)\n",
      "[INFO] Saved YOLO label: .\\train\\labels\\205_101_10_3fbdf61b-04ee-4a72-8651-4e8e2f2804b8.txt (bbox count: 0)\n",
      "[INFO] Saved YOLO label: .\\train\\labels\\205_101_10_4ee6d443-2ec3-4585-bd4d-76149469a63a.txt (bbox count: 0)\n",
      "[INFO] Saved YOLO label: .\\train\\labels\\205_101_10_e4571bc6-7bcb-479f-b5ce-3d424b4123f2.txt (bbox count: 0)\n",
      "[INFO] Saved YOLO label: .\\train\\labels\\205_101_10_dffc6261-40df-405e-b491-9bcc7068d5b7.txt (bbox count: 0)\n",
      "[INFO] Saved YOLO label: .\\train\\labels\\205_101_10_f2cd8a58-f5f0-4189-995c-7ca66093c19d.txt (bbox count: 0)\n",
      "[INFO] Saved YOLO label: .\\train\\labels\\205_101_10_c64b70fa-f5c9-4ed3-8b0c-20e6029fb7f0.txt (bbox count: 0)\n",
      "[INFO] Saved YOLO label: .\\train\\labels\\205_101_10_f0678e91-a7d5-4a73-9683-eeca1018fe28.txt (bbox count: 0)\n",
      "[INFO] Saved YOLO label: .\\train\\labels\\205_101_10_6fb4d7a0-f0d0-42c8-84ed-4dca4a446ddf.txt (bbox count: 0)\n",
      "[INFO] Saved YOLO label: .\\train\\labels\\205_101_10_c9d2bbd3-79a8-44ce-a8d5-76e12defed46.txt (bbox count: 0)\n",
      "[INFO] Saved YOLO label: .\\train\\labels\\205_101_10_35824e91-c59b-4237-a14b-409d311217a8.txt (bbox count: 0)\n",
      "[INFO] Saved YOLO label: .\\train\\labels\\205_101_10_375c76af-45f4-4a56-ba61-bdf3a35d1f16.txt (bbox count: 0)\n",
      "[INFO] Saved YOLO label: .\\train\\labels\\205_101_10_1fc3c143-d872-4bc2-9e04-3dbea3141997.txt (bbox count: 0)\n",
      "[INFO] Saved YOLO label: .\\train\\labels\\205_101_10_f4433798-6cf7-40ff-98ba-4370eecc5cbc.txt (bbox count: 0)\n",
      "[INFO] Saved YOLO label: .\\train\\labels\\205_101_10_9d0aafac-e7c3-4df5-83ba-1949f255d916.txt (bbox count: 0)\n",
      "[INFO] Saved YOLO label: .\\train\\labels\\205_101_10_74de25ed-1fb1-404c-b879-4b0a949aebb1.txt (bbox count: 0)\n",
      "[INFO] Saved YOLO label: .\\train\\labels\\205_101_10_3221c976-312a-4228-8e2b-128832a13066.txt (bbox count: 0)\n",
      "[INFO] Saved YOLO label: .\\train\\labels\\205_101_10_cb8b1a22-e5f7-4bd2-a426-2d9fb111c95f.txt (bbox count: 0)\n",
      "[INFO] Saved YOLO label: .\\train\\labels\\205_101_10_c31dffad-55ad-460d-9ec1-8d9e13c471e2.txt (bbox count: 0)\n",
      "[INFO] Saved YOLO label: .\\train\\labels\\205_101_10_87d2f79a-1102-4d08-9583-52170552f005.txt (bbox count: 0)\n",
      "[INFO] Saved YOLO label: .\\train\\labels\\205_101_10_944454e8-914f-4903-90e4-297dd297a410.txt (bbox count: 0)\n",
      "[INFO] Saved YOLO label: .\\train\\labels\\205_101_10_e82606dc-add6-48a9-b4e7-33facd002ba1.txt (bbox count: 0)\n",
      "[INFO] Saved YOLO label: .\\train\\labels\\205_101_10_220c7621-5df5-4cba-a356-3707c4cf39db.txt (bbox count: 0)\n",
      "[INFO] Saved YOLO label: .\\train\\labels\\205_101_10_280c974e-a25e-40e1-a1c0-4e6375cfc6c7.txt (bbox count: 0)\n",
      "[INFO] Saved YOLO label: .\\train\\labels\\205_101_10_b88751f2-7fcb-4c5d-a7fb-14909c04c8da.txt (bbox count: 0)\n",
      "[INFO] Saved YOLO label: .\\train\\labels\\205_101_10_1e22b1e5-b238-491a-84c6-6cd76a988654.txt (bbox count: 0)\n",
      "[INFO] Saved YOLO label: .\\train\\labels\\205_101_10_58a78692-5536-4f24-a170-d0ddc1bed0b7.txt (bbox count: 0)\n",
      "[INFO] Saved YOLO label: .\\train\\labels\\205_101_10_d450adf3-2161-41fb-a7ec-c2e8af40fb47.txt (bbox count: 0)\n",
      "[INFO] Saved YOLO label: .\\train\\labels\\205_101_10_078792b9-3bf4-477b-9c7b-6a8df1ff0b6f.txt (bbox count: 0)\n",
      "[INFO] Saved YOLO label: .\\train\\labels\\205_101_10_3e2eb71a-c630-4353-a697-0d7e920c029d.txt (bbox count: 0)\n",
      "[INFO] Saved YOLO label: .\\train\\labels\\205_101_10_cdfd6309-6c23-42f6-9584-ac401e7e3e3a.txt (bbox count: 0)\n",
      "[INFO] Saved YOLO label: .\\train\\labels\\205_101_10_c5534293-1363-4f5b-b95c-678a7ba79264.txt (bbox count: 0)\n",
      "[INFO] Saved YOLO label: .\\train\\labels\\205_101_10_60da5008-10b2-40b9-a0f6-e7dc22d2f11c.txt (bbox count: 0)\n",
      "[INFO] Saved YOLO label: .\\train\\labels\\205_101_10_9fd695cc-9cb8-41b1-83e3-dbda25ca951c.txt (bbox count: 0)\n",
      "[INFO] Saved YOLO label: .\\train\\labels\\205_101_10_9c4c0829-42fb-4b10-aac9-9002b49032da.txt (bbox count: 0)\n",
      "[INFO] Saved YOLO label: .\\train\\labels\\205_101_10_e7ed5598-bf70-4dda-ab3f-1366e23eaa98.txt (bbox count: 0)\n",
      "[INFO] Saved YOLO label: .\\train\\labels\\205_101_10_43d6e1c4-e614-409f-ab96-d9ffc1cc2f06.txt (bbox count: 0)\n",
      "[INFO] Saved YOLO label: .\\train\\labels\\205_101_10_d4456bfe-d411-4ef7-bcf5-02af39091274.txt (bbox count: 0)\n",
      "[INFO] Saved YOLO label: .\\train\\labels\\205_101_10_5ce97eb3-db17-42f6-9b11-2169ce7a3ded.txt (bbox count: 0)\n",
      "[INFO] Saved YOLO label: .\\train\\labels\\205_101_10_f15e5a99-227a-4d64-b93d-5c868e9dd7f6.txt (bbox count: 0)\n",
      "[INFO] Saved YOLO label: .\\train\\labels\\205_101_10_f7489ca1-10de-47a8-92ad-a87ef3d1b3d9.txt (bbox count: 0)\n",
      "[INFO] Saved YOLO label: .\\train\\labels\\205_101_10_ca1a9985-fee4-4b5f-b3d5-01b54ef776ca.txt (bbox count: 0)\n",
      "[INFO] Saved YOLO label: .\\train\\labels\\205_101_10_459081d6-ec8d-4b78-b09e-3fe5364504bd.txt (bbox count: 0)\n",
      "[INFO] Saved YOLO label: .\\train\\labels\\205_101_10_e15a72fc-0849-4a79-ab7c-b48561bc9720.txt (bbox count: 0)\n",
      "[INFO] Saved YOLO label: .\\train\\labels\\205_101_10_cc664179-875c-44ba-9d81-17f257fb2d17.txt (bbox count: 0)\n",
      "[INFO] Saved YOLO label: .\\train\\labels\\205_101_10_f14d6970-37ea-4dc0-9a9b-56c1d6c37ece.txt (bbox count: 0)\n",
      "[INFO] Saved YOLO label: .\\train\\labels\\205_101_10_dcce2184-b95c-4158-b06a-8cec35cb3968.txt (bbox count: 0)\n",
      "[INFO] Saved YOLO label: .\\train\\labels\\205_101_10_5a28507f-7c34-4130-b06c-0880e8cf3a54.txt (bbox count: 0)\n",
      "[INFO] Saved YOLO label: .\\train\\labels\\205_101_10_84273b7a-9b1c-4c4d-bd45-35436140f2e6.txt (bbox count: 0)\n",
      "[INFO] Saved YOLO label: .\\train\\labels\\205_101_10_1fed613f-dda1-444f-b65a-6159a15668f3.txt (bbox count: 0)\n",
      "[INFO] Saved YOLO label: .\\train\\labels\\205_101_10_3c51b106-893a-4291-93a7-5dafefb5f1bd.txt (bbox count: 0)\n",
      "[INFO] Saved YOLO label: .\\train\\labels\\205_101_10_480a2564-d2f2-47a1-8de5-2d0c4a4d9d63.txt (bbox count: 0)\n",
      "[INFO] Saved YOLO label: .\\train\\labels\\205_101_10_9a2cf654-cd9f-4925-ba8f-57f7ab8ea927.txt (bbox count: 0)\n",
      "[INFO] Saved YOLO label: .\\train\\labels\\205_101_10_bfc5f5f2-bc4b-494a-a27d-00276f7ca775.txt (bbox count: 0)\n",
      "[INFO] Saved YOLO label: .\\train\\labels\\205_101_10_ee9a2e6d-0ae9-4a8c-8f55-49bd4c82f7ef.txt (bbox count: 0)\n",
      "[INFO] Saved YOLO label: .\\train\\labels\\205_101_10_f0e30f4b-68c2-4f36-9007-cb9eeb49f84b.txt (bbox count: 0)\n",
      "[INFO] Saved YOLO label: .\\train\\labels\\205_101_10_baf9b287-8cab-4c33-82c6-5ffc1eb21d8c.txt (bbox count: 0)\n",
      "[INFO] Saved YOLO label: .\\train\\labels\\205_101_10_e0926795-f78f-416d-bb1b-6bc0c9107c81.txt (bbox count: 0)\n",
      "[INFO] Saved YOLO label: .\\train\\labels\\205_101_10_a5160ea8-e51a-4a13-a469-adbd8b311492.txt (bbox count: 0)\n",
      "[INFO] Saved YOLO label: .\\train\\labels\\205_101_10_b7416ae5-3a9f-4153-ba06-1bf705aba3d9.txt (bbox count: 0)\n",
      "[INFO] Saved YOLO label: .\\train\\labels\\205_101_10_1114f013-10bf-4b76-90ff-78aedd1eb490.txt (bbox count: 0)\n",
      "[INFO] Saved YOLO label: .\\train\\labels\\205_101_10_5e233ede-76b0-4498-9f66-1bfb6093e1eb.txt (bbox count: 0)\n",
      "[INFO] Saved YOLO label: .\\train\\labels\\205_101_10_34da6fdb-6a14-47e3-9382-14bbb53ba7f1.txt (bbox count: 0)\n",
      "[INFO] Saved YOLO label: .\\train\\labels\\205_101_10_7a8b3aec-f3db-41a1-b4c1-fef46213d6db.txt (bbox count: 0)\n",
      "[INFO] Saved YOLO label: .\\train\\labels\\205_101_10_de3f9826-796c-4bce-a99e-006fd851d2bb.txt (bbox count: 0)\n",
      "[INFO] Saved YOLO label: .\\train\\labels\\205_101_10_79dceb93-0f52-48f1-a86a-63c1673d5a8d.txt (bbox count: 0)\n",
      "[INFO] Saved YOLO label: .\\train\\labels\\205_101_10_13ce3022-41b6-4157-8dee-60cf1220162b.txt (bbox count: 0)\n",
      "[INFO] Saved YOLO label: .\\train\\labels\\205_101_10_338f596c-6ea2-4446-bba1-e063d291e3f0.txt (bbox count: 0)\n",
      "[INFO] Saved YOLO label: .\\train\\labels\\205_101_10_57b96bf8-4fbe-47cd-973c-657709942847.txt (bbox count: 0)\n",
      "[INFO] Saved YOLO label: .\\test\\labels\\205_101_10_19221269-fd9c-437f-bbb3-06b9f7d38281.txt (bbox count: 0)\n",
      "[INFO] Saved YOLO label: .\\test\\labels\\205_101_10_95adca26-d577-4b9e-8921-7591b63ad410.txt (bbox count: 0)\n",
      "[INFO] Saved YOLO label: .\\test\\labels\\205_101_10_603f7811-841c-429f-b874-2c84b11e4c26.txt (bbox count: 0)\n",
      "[INFO] Saved YOLO label: .\\test\\labels\\205_101_10_903c5401-3d7c-46d3-bafa-ab3f3d9da451.txt (bbox count: 0)\n",
      "[INFO] Saved YOLO label: .\\test\\labels\\205_101_10_7b0106a2-e0b5-4d99-a9b0-3ceb885e7cf6.txt (bbox count: 0)\n",
      "[INFO] Saved YOLO label: .\\test\\labels\\205_101_10_7b0fb114-7da1-4a16-aae0-525a992bcf95.txt (bbox count: 0)\n",
      "[INFO] Saved YOLO label: .\\test\\labels\\205_101_10_71011e5b-2a78-4054-ac61-52638f430d09.txt (bbox count: 0)\n",
      "[INFO] Saved YOLO label: .\\test\\labels\\205_101_10_9f53788b-ff1a-43f8-9de1-e699bc7f1d7a.txt (bbox count: 0)\n",
      "[INFO] Saved YOLO label: .\\test\\labels\\205_101_10_671ba60e-7cb0-43ab-8da6-2c4be1a24069.txt (bbox count: 0)\n",
      "[INFO] Saved YOLO label: .\\test\\labels\\205_101_10_01ba8ed7-8669-4af9-ad2f-7c73a124e769.txt (bbox count: 0)\n",
      "[INFO] Saved YOLO label: .\\test\\labels\\205_101_10_23c9864a-e142-46f0-b9d6-4bb4b3e3c21a.txt (bbox count: 0)\n",
      "[INFO] Saved YOLO label: .\\test\\labels\\205_101_10_0107f873-8e8a-43d6-94c5-703a77b87e08.txt (bbox count: 0)\n",
      "[INFO] Saved YOLO label: .\\test\\labels\\205_101_10_322d311b-2e9a-4fa6-a930-08091e352835.txt (bbox count: 0)\n",
      "[INFO] Saved YOLO label: .\\test\\labels\\205_101_10_a4b71e7c-cd79-4232-bb2b-338a2e727ac7.txt (bbox count: 0)\n",
      "[INFO] Saved YOLO label: .\\test\\labels\\205_101_10_e87fbc1c-f87f-4c02-94d2-cdf5f044d510.txt (bbox count: 0)\n",
      "[INFO] Saved YOLO label: .\\test\\labels\\205_101_10_bdade1e7-f46e-476d-afef-f20cb639046c.txt (bbox count: 0)\n",
      "[INFO] Saved YOLO label: .\\test\\labels\\205_101_10_d3d42d48-4df3-40b1-8a2c-3680155b7cd5.txt (bbox count: 0)\n",
      "[INFO] Saved YOLO label: .\\test\\labels\\205_101_10_e755302e-7672-42f2-9dbe-acb255e2b519.txt (bbox count: 0)\n",
      "[INFO] Saved YOLO label: .\\test\\labels\\205_101_10_bb12f069-c4e3-43cb-a5ad-38d2812f5c58.txt (bbox count: 0)\n",
      "[INFO] Saved YOLO label: .\\test\\labels\\205_101_10_59794188-d151-4ec1-b880-7912e5ded057.txt (bbox count: 0)\n",
      "[INFO] Saved YOLO label: .\\test\\labels\\205_101_10_c7a5dec0-5164-4cb4-9c30-79fff6754977.txt (bbox count: 0)\n",
      "[INFO] Saved YOLO label: .\\test\\labels\\205_101_10_0501f4ab-216c-4b39-bb2e-fd17f52b8143.txt (bbox count: 0)\n",
      "[INFO] Saved YOLO label: .\\test\\labels\\205_101_10_e23d0e97-6c3f-4688-9f39-0193980d8c8d.txt (bbox count: 0)\n",
      "[INFO] Saved YOLO label: .\\test\\labels\\205_101_10_be73a2bd-a6e9-4f44-9723-4a84f57b751f.txt (bbox count: 0)\n",
      "[INFO] Saved YOLO label: .\\test\\labels\\205_101_10_5f0a764d-5559-4ac0-836d-a9dd75b9d8b5.txt (bbox count: 0)\n",
      "[INFO] Saved YOLO label: .\\test\\labels\\205_101_10_29d3ee09-1482-4cb7-919a-c7e8dd570f32.txt (bbox count: 0)\n",
      "[INFO] Saved YOLO label: .\\test\\labels\\205_101_10_053a2d06-aec9-4456-b888-2787e38b3715.txt (bbox count: 0)\n",
      "[INFO] Saved YOLO label: .\\test\\labels\\205_101_10_61567150-babb-4a56-acc2-1c3cb4ef5b43.txt (bbox count: 0)\n",
      "[INFO] Saved YOLO label: .\\test\\labels\\205_101_10_bc14ad51-5a80-459b-acd5-da7d51dd863d.txt (bbox count: 0)\n",
      "[INFO] Saved YOLO label: .\\test\\labels\\205_101_10_5fcc917c-1ff4-42ee-8ad7-2e26a9f1ecca.txt (bbox count: 0)\n",
      "[INFO] Saved YOLO label: .\\test\\labels\\205_101_10_35f1cda1-624b-4b06-a011-aa9b3b63df75.txt (bbox count: 0)\n",
      "[INFO] Saved YOLO label: .\\test\\labels\\205_101_10_d57eb92a-c2af-4483-95f0-e0789e5e51a6.txt (bbox count: 0)\n",
      "[INFO] Saved YOLO label: .\\test\\labels\\205_101_10_98cc5097-cdb2-454e-b137-856b8f8592f3.txt (bbox count: 0)\n",
      "[INFO] Saved YOLO label: .\\test\\labels\\205_101_10_425706ae-fa28-4d6f-93af-a8a14d4f44d5.txt (bbox count: 0)\n",
      "[INFO] Saved YOLO label: .\\test\\labels\\205_101_10_e267e2b4-71f3-41d8-8b98-0455a4f1512a.txt (bbox count: 0)\n",
      "[INFO] Saved YOLO label: .\\test\\labels\\205_101_10_7aa14b29-c894-4e61-a9e7-4d810522042d.txt (bbox count: 0)\n",
      "[INFO] Saved YOLO label: .\\test\\labels\\205_101_10_bddbb33c-2f9d-4f6f-8da5-d7dd1269bda6.txt (bbox count: 0)\n",
      "[INFO] Saved YOLO label: .\\test\\labels\\205_101_10_ca991d24-9794-42b1-b521-e8a28b330d4f.txt (bbox count: 0)\n",
      "[INFO] Saved YOLO label: .\\test\\labels\\205_101_10_df2ee103-4ed6-4f21-8301-089cc9c9e480.txt (bbox count: 0)\n",
      "[INFO] Saved YOLO label: .\\test\\labels\\205_101_10_b8148ebe-3187-4950-ad0d-907b26a70b9b.txt (bbox count: 0)\n",
      "[INFO] Saved YOLO label: .\\test\\labels\\205_101_10_9462d520-e8d3-458a-96b2-75fb5e359602.txt (bbox count: 0)\n",
      "[INFO] Saved YOLO label: .\\test\\labels\\205_101_10_448a630d-f4bf-486a-9849-c5ae68bc81bf.txt (bbox count: 0)\n",
      "[INFO] Saved YOLO label: .\\test\\labels\\205_101_10_0df5c670-61d0-44e8-bb87-8083848a7cdd.txt (bbox count: 0)\n",
      "[INFO] Saved YOLO label: .\\test\\labels\\205_101_10_fbf3a989-97cc-4ecf-b3c2-b795c1f3ecba.txt (bbox count: 0)\n",
      "[INFO] Saved YOLO label: .\\test\\labels\\205_101_10_3a6b7e95-a70e-4327-9768-56e622f1c172.txt (bbox count: 0)\n",
      "[INFO] Saved YOLO label: .\\test\\labels\\205_101_10_821971bd-833b-47ba-b9fc-55f7ccc5cc95.txt (bbox count: 0)\n",
      "[INFO] Saved YOLO label: .\\test\\labels\\205_101_10_a84e1ec9-1cee-4d71-b51b-66a137909d3f.txt (bbox count: 0)\n",
      "[INFO] Saved YOLO label: .\\test\\labels\\205_101_10_97916077-47ed-444e-907e-c343638eab35.txt (bbox count: 0)\n",
      "[INFO] Saved YOLO label: .\\test\\labels\\205_101_10_7485b44e-faf1-482f-baf0-537717b06592.txt (bbox count: 0)\n",
      "[INFO] Saved YOLO label: .\\test\\labels\\205_101_10_b0b1d9be-12ea-4995-9fa1-8833c5986b78.txt (bbox count: 0)\n",
      "[INFO] Saved YOLO label: .\\test\\labels\\205_101_10_42dccf45-d98d-4a1f-987a-0e4054d7d30c.txt (bbox count: 0)\n",
      "[INFO] Saved YOLO label: .\\test\\labels\\205_101_10_cf3b0396-0a73-47fd-90df-db62913bf566.txt (bbox count: 0)\n",
      "[INFO] Saved YOLO label: .\\test\\labels\\205_101_10_b73553da-1aa3-4b3b-875f-549b75487aab.txt (bbox count: 0)\n",
      "[INFO] Saved YOLO label: .\\test\\labels\\205_101_10_357201b4-dc34-4f29-8956-1c591cc7a5a6.txt (bbox count: 0)\n",
      "[INFO] Saved YOLO label: .\\test\\labels\\205_101_10_7b93a856-c5fb-4fef-bc05-64928b588ec7.txt (bbox count: 0)\n",
      "[INFO] Saved YOLO label: .\\test\\labels\\205_101_10_de8ba37b-94f9-46e0-9511-9cce97454310.txt (bbox count: 0)\n",
      "[INFO] Saved YOLO label: .\\test\\labels\\205_101_10_33c555b4-21fd-452c-b004-85974ba31b17.txt (bbox count: 0)\n",
      "[INFO] Saved YOLO label: .\\test\\labels\\205_101_10_5832847c-c4e3-4db1-8f73-677c5e696132.txt (bbox count: 0)\n",
      "[INFO] Saved YOLO label: .\\test\\labels\\205_101_10_abe3dcc7-66d1-4617-b514-b522f7a376ca.txt (bbox count: 0)\n",
      "[INFO] Saved YOLO label: .\\test\\labels\\205_101_10_32a13f1e-eb5c-4c36-b3a6-3093b844d1e0.txt (bbox count: 0)\n",
      "[INFO] Saved YOLO label: .\\test\\labels\\205_101_10_1ceca81a-5ac1-4776-8e1f-6cf4c62a2059.txt (bbox count: 0)\n",
      "[INFO] Saved YOLO label: .\\test\\labels\\205_101_10_521350ce-28f1-4364-a499-26d29cb23ade.txt (bbox count: 0)\n",
      "[INFO] Saved YOLO label: .\\test\\labels\\205_101_10_12345793-b0f6-40c2-a56a-80af6af6fadd.txt (bbox count: 0)\n",
      "[INFO] Saved YOLO label: .\\test\\labels\\205_101_10_eff0a9bc-10c7-4b61-87dc-22094638ed81.txt (bbox count: 0)\n",
      "[INFO] Saved YOLO label: .\\test\\labels\\205_101_10_8b5ebfa2-7803-46d6-b749-2cf84300dfb5.txt (bbox count: 0)\n",
      "[INFO] Saved YOLO label: .\\test\\labels\\205_101_10_fd6933bf-f51d-4d9d-a4e8-77ded59d5823.txt (bbox count: 0)\n",
      "[INFO] Saved YOLO label: .\\test\\labels\\205_101_10_e9657c25-17fd-48ef-a259-569442baa1c4.txt (bbox count: 0)\n",
      "[INFO] Saved YOLO label: .\\test\\labels\\205_101_10_912955d4-0250-4daa-b9e5-11b97e6b3ff2.txt (bbox count: 0)\n",
      "[INFO] Saved YOLO label: .\\test\\labels\\205_101_10_f95ca14b-6adb-496d-bac8-9f51697f1228.txt (bbox count: 0)\n",
      "[INFO] Saved YOLO label: .\\test\\labels\\205_101_10_79fb8d04-cdff-4896-ab0e-8d51d610c6a8.txt (bbox count: 0)\n",
      "[INFO] Saved YOLO label: .\\test\\labels\\205_101_10_0a4032d1-888a-4857-99af-601146fdd784.txt (bbox count: 0)\n",
      "[INFO] Saved YOLO label: .\\test\\labels\\205_101_10_42a613bf-8501-4d93-a203-4be7373da9da.txt (bbox count: 0)\n",
      "[INFO] Saved YOLO label: .\\test\\labels\\205_101_10_9f9be389-51f1-4e02-95ec-8bdc15c5806c.txt (bbox count: 0)\n",
      "[INFO] Saved YOLO label: .\\test\\labels\\205_101_10_084265be-6211-4393-acb7-e45b195d96d4.txt (bbox count: 0)\n",
      "[INFO] Saved YOLO label: .\\test\\labels\\205_101_10_1aa6981e-42de-4eb5-a38e-68e2ed716ad3.txt (bbox count: 0)\n",
      "[INFO] Saved YOLO label: .\\test\\labels\\205_101_10_b512a599-33d1-4c87-bf5e-cae262d1264c.txt (bbox count: 0)\n",
      "[INFO] Saved YOLO label: .\\test\\labels\\205_101_10_6e204f11-5a8f-4d7d-82c5-d30493ece158.txt (bbox count: 0)\n",
      "[INFO] Saved YOLO label: .\\test\\labels\\205_101_10_46976864-63bd-4cc0-b33e-66e11cbc0ca3.txt (bbox count: 0)\n",
      "[INFO] Saved YOLO label: .\\test\\labels\\205_101_10_79cbf8ff-e39a-4013-8462-80084c6a7a08.txt (bbox count: 0)\n",
      "[INFO] Saved YOLO label: .\\test\\labels\\205_101_10_97d54d1c-ccca-416b-9269-2e6b43b694b6.txt (bbox count: 0)\n",
      "[INFO] Saved YOLO label: .\\test\\labels\\205_101_10_4462c72c-6842-4194-82d4-a70377d8ba79.txt (bbox count: 0)\n",
      "[INFO] Saved YOLO label: .\\test\\labels\\205_101_10_4c5dca06-511d-47c7-b42c-72ee719d7fbf.txt (bbox count: 0)\n",
      "[INFO] Saved YOLO label: .\\test\\labels\\205_101_10_f6af5b86-992a-4e7e-a720-9d5ea61ccfe6.txt (bbox count: 0)\n",
      "[INFO] Saved YOLO label: .\\test\\labels\\205_101_10_52f77786-2778-4658-a2a6-b6f432ebffec.txt (bbox count: 0)\n",
      "[INFO] Saved YOLO label: .\\test\\labels\\205_101_10_7063453a-e10f-4330-9c64-50268fac4592.txt (bbox count: 0)\n",
      "[INFO] Saved YOLO label: .\\test\\labels\\205_101_10_a1e3e8ae-9477-4bb2-831a-9d77622be936.txt (bbox count: 0)\n",
      "[INFO] Saved YOLO label: .\\test\\labels\\205_101_10_3172a7d2-9799-4985-8e08-2c9d13ac052e.txt (bbox count: 0)\n",
      "[INFO] Saved YOLO label: .\\test\\labels\\205_101_10_6904c1de-b8c0-4268-ad60-fb67e533a96e.txt (bbox count: 0)\n",
      "[INFO] Saved YOLO label: .\\test\\labels\\205_101_10_9992b5bb-db40-482f-b9a5-0d4ac315c221.txt (bbox count: 0)\n",
      "[INFO] Saved YOLO label: .\\test\\labels\\205_101_10_d947f82c-d5a1-41ce-aca3-bdf5bbb31e51.txt (bbox count: 0)\n",
      "[INFO] Saved YOLO label: .\\valid\\labels\\205_101_10_3f660343-b293-4b4e-b581-e32f9c3563d6.txt (bbox count: 0)\n",
      "[INFO] Saved YOLO label: .\\valid\\labels\\205_101_10_443edc20-4e2a-42f9-b275-a77f1b7e4b05.txt (bbox count: 0)\n",
      "[INFO] Saved YOLO label: .\\valid\\labels\\205_101_10_1302030f-3b36-47d0-a2e4-c2066b3e41bd.txt (bbox count: 0)\n",
      "[INFO] Saved YOLO label: .\\valid\\labels\\205_101_10_19ca83a1-aeee-4e97-a347-be7270fa0bc1.txt (bbox count: 0)\n",
      "[INFO] Saved YOLO label: .\\valid\\labels\\205_101_10_1ea2c2e8-95da-4dad-b1ca-6698384f0f20.txt (bbox count: 0)\n",
      "[INFO] Saved YOLO label: .\\valid\\labels\\205_101_10_394d802d-3851-4b7f-a177-24265460ca13.txt (bbox count: 0)\n",
      "[INFO] Saved YOLO label: .\\valid\\labels\\205_101_10_cda8efa4-cabf-46ed-b865-78e2bac93321.txt (bbox count: 0)\n",
      "[INFO] Saved YOLO label: .\\valid\\labels\\205_101_10_d9f02d1a-b5a6-4a93-ac0b-5c611953fa94.txt (bbox count: 0)\n",
      "[INFO] Saved YOLO label: .\\valid\\labels\\205_101_10_cebb51ff-1051-4c68-ae33-80694cc24018.txt (bbox count: 0)\n",
      "[INFO] Saved YOLO label: .\\valid\\labels\\205_101_10_cedccb63-5e2c-4b8c-a9cd-c367b8658fbb.txt (bbox count: 0)\n",
      "[INFO] Saved YOLO label: .\\valid\\labels\\205_101_10_dece3689-1f56-4223-964b-d3b8ce71cce3.txt (bbox count: 0)\n",
      "[INFO] Saved YOLO label: .\\valid\\labels\\205_101_10_3ec17d0e-0bff-40ad-bf09-8ce311fa9bd0.txt (bbox count: 0)\n",
      "[INFO] Saved YOLO label: .\\valid\\labels\\205_101_10_c129cb24-5c81-4b46-9bf2-2111c8583c6a.txt (bbox count: 0)\n",
      "[INFO] Saved YOLO label: .\\valid\\labels\\205_101_10_a37929e5-c26c-4ef1-9fff-9cfc81609e11.txt (bbox count: 0)\n",
      "[INFO] Saved YOLO label: .\\valid\\labels\\205_101_10_ed04c7a5-49e9-4b24-9828-bce69cd30ad7.txt (bbox count: 0)\n",
      "[INFO] Saved YOLO label: .\\valid\\labels\\205_101_10_dd6485e4-7b6a-4065-b8a3-1707cba035c0.txt (bbox count: 0)\n",
      "[INFO] Saved YOLO label: .\\valid\\labels\\205_101_10_140debbb-5660-49c4-b2ad-4eccb1125eb3.txt (bbox count: 0)\n",
      "[INFO] Saved YOLO label: .\\valid\\labels\\205_101_10_028d795e-7d46-4494-8349-d075fff41180.txt (bbox count: 0)\n",
      "[INFO] Saved YOLO label: .\\valid\\labels\\205_101_10_d26fb3b6-5845-452e-bd2a-fd8d65e76733.txt (bbox count: 0)\n",
      "[INFO] Saved YOLO label: .\\valid\\labels\\205_101_10_fbda2013-b1e7-4eb1-b8ed-7421eccf4f9d.txt (bbox count: 0)\n",
      "[INFO] Saved YOLO label: .\\valid\\labels\\205_101_10_ab23d789-5072-475d-bd88-a0158a7dcfbc.txt (bbox count: 0)\n",
      "[INFO] Saved YOLO label: .\\valid\\labels\\205_101_10_a24ed2a5-48a9-4fd6-bfa2-9a127d5436ea.txt (bbox count: 0)\n",
      "[INFO] Saved YOLO label: .\\valid\\labels\\205_101_10_d89d77d2-0c9c-40e0-809d-aa903b290347.txt (bbox count: 0)\n",
      "[INFO] Saved YOLO label: .\\valid\\labels\\205_101_10_97e21015-b7c9-4d5a-816b-d4f86d79e09d.txt (bbox count: 0)\n",
      "[INFO] Saved YOLO label: .\\valid\\labels\\205_101_10_8a6edf7f-56e9-4c0a-be64-1c82f35d9e94.txt (bbox count: 0)\n",
      "[INFO] Saved YOLO label: .\\valid\\labels\\205_101_10_bbe3d274-32c9-4c67-9d9d-1f4bc2a73a98.txt (bbox count: 0)\n",
      "[INFO] Saved YOLO label: .\\valid\\labels\\205_101_10_e562db8b-e7fb-4063-abe6-05a01d0e914e.txt (bbox count: 0)\n",
      "[INFO] Saved YOLO label: .\\valid\\labels\\205_101_10_0bbdb37c-2855-4fbb-9f14-4e42471fad7b.txt (bbox count: 0)\n",
      "[INFO] Saved YOLO label: .\\valid\\labels\\205_101_10_888c302c-d6d4-4fbc-b7d5-c94074c6d0fb.txt (bbox count: 0)\n",
      "[INFO] Saved YOLO label: .\\valid\\labels\\205_101_10_26291af5-21d5-4e8c-9b03-f5bb04e31da0.txt (bbox count: 0)\n",
      "[INFO] Saved YOLO label: .\\valid\\labels\\205_101_10_3eb26a11-f136-4bd7-b43f-aaf3939ce978.txt (bbox count: 0)\n",
      "[INFO] Saved YOLO label: .\\valid\\labels\\205_101_10_59d43e47-0ebc-4ebd-9b9e-38f2a4e5fcdd.txt (bbox count: 0)\n",
      "[INFO] Saved YOLO label: .\\valid\\labels\\205_101_10_47df5e83-6950-4bab-a7f7-30a348256962.txt (bbox count: 0)\n",
      "[INFO] Saved YOLO label: .\\valid\\labels\\205_101_10_b6724180-7ee9-4c7f-bf7d-22ed112bb17f.txt (bbox count: 0)\n",
      "[INFO] Saved YOLO label: .\\valid\\labels\\205_101_10_7e28e1f6-a2f5-4351-9575-0c92b6045059.txt (bbox count: 0)\n",
      "[INFO] Saved YOLO label: .\\valid\\labels\\205_101_10_b36f1190-89c8-4629-b64c-a83c0621363f.txt (bbox count: 0)\n",
      "[INFO] Saved YOLO label: .\\valid\\labels\\205_101_10_6ce439d7-c31e-4f7f-9e05-ad297f3c6520.txt (bbox count: 0)\n",
      "[INFO] Saved YOLO label: .\\valid\\labels\\205_101_10_7ea4da98-4177-4848-842b-1bf270178e37.txt (bbox count: 0)\n",
      "[INFO] Saved YOLO label: .\\valid\\labels\\205_101_10_81c07a8b-afef-4f66-92b2-1aee890c4134.txt (bbox count: 0)\n",
      "[INFO] Saved YOLO label: .\\valid\\labels\\205_101_10_e689671a-60fd-4abc-8fd8-dff9d557b805.txt (bbox count: 0)\n",
      "[INFO] Saved YOLO label: .\\valid\\labels\\205_101_10_e79be75b-b4c0-407a-8659-033070d76b23.txt (bbox count: 0)\n",
      "[INFO] Saved YOLO label: .\\valid\\labels\\205_101_10_5a2493dd-7a66-43eb-90b3-801035bb0d65.txt (bbox count: 0)\n",
      "[INFO] Saved YOLO label: .\\valid\\labels\\205_101_10_17627f97-48ac-4370-9c1a-17293ef4d903.txt (bbox count: 0)\n",
      "[INFO] Saved YOLO label: .\\valid\\labels\\205_101_10_0deaf2ab-af84-47d3-9018-08fbec8ae3f3.txt (bbox count: 0)\n",
      "[INFO] Saved YOLO label: .\\valid\\labels\\205_101_10_b253058a-7034-4d95-9f1f-98d7a34c8290.txt (bbox count: 0)\n",
      "[INFO] Saved YOLO label: .\\valid\\labels\\205_101_10_145438b6-c35c-4bd3-b045-e602af630d04.txt (bbox count: 0)\n",
      "[INFO] Saved YOLO label: .\\valid\\labels\\205_101_10_65c9a660-6b32-4d51-a6ba-2527f2b950d1.txt (bbox count: 0)\n",
      "[INFO] Saved YOLO label: .\\valid\\labels\\205_101_10_f7fa2d86-811e-489c-b2e2-c6636e0b3939.txt (bbox count: 0)\n",
      "[INFO] Saved YOLO label: .\\valid\\labels\\205_101_10_a97f8ed9-11e6-4bad-9836-da7a5cd7711c.txt (bbox count: 0)\n",
      "[INFO] Saved YOLO label: .\\valid\\labels\\205_101_10_5bb95bbe-0238-4e02-911a-261892631975.txt (bbox count: 0)\n",
      "[INFO] Saved YOLO label: .\\valid\\labels\\205_101_10_45b87114-8ad6-4c64-a7db-2919f1662dc8.txt (bbox count: 0)\n",
      "[INFO] Saved YOLO label: .\\valid\\labels\\205_101_10_6e8f5cc4-5968-4ade-8924-2a9148666f95.txt (bbox count: 0)\n",
      "[INFO] Saved YOLO label: .\\valid\\labels\\205_101_10_a56972d4-c820-4a89-b206-98e33d7f9985.txt (bbox count: 0)\n",
      "[INFO] Saved YOLO label: .\\valid\\labels\\205_101_10_7bcb5656-cd03-4f9b-9895-ef9a5338d807.txt (bbox count: 0)\n",
      "[INFO] Saved YOLO label: .\\valid\\labels\\205_101_10_c4712a88-9bb1-4c88-99d5-8ffd626fe21b.txt (bbox count: 0)\n",
      "[INFO] Saved YOLO label: .\\valid\\labels\\205_101_10_384ddb4f-a2e8-4d4a-87be-11fa9eb21270.txt (bbox count: 0)\n",
      "[INFO] Saved YOLO label: .\\valid\\labels\\205_101_10_bc9fbb27-9eb0-48a2-b6ce-119cceca5d20.txt (bbox count: 0)\n",
      "[INFO] Saved YOLO label: .\\valid\\labels\\205_101_10_8849b420-31ca-4acc-a497-8f87301786fb.txt (bbox count: 0)\n",
      "[INFO] Saved YOLO label: .\\valid\\labels\\205_101_10_80320384-4a4e-4379-a34c-4c1efe71deaa.txt (bbox count: 0)\n",
      "[INFO] Saved YOLO label: .\\valid\\labels\\205_101_10_719ffea0-08c0-4bc9-8e50-849a8e02c954.txt (bbox count: 0)\n",
      "[INFO] Saved YOLO label: .\\valid\\labels\\205_101_10_0f8ce033-5697-4b3b-b8f9-3c3f9a12f9e1.txt (bbox count: 0)\n",
      "[INFO] Saved YOLO label: .\\valid\\labels\\205_101_10_b4414c04-39c7-40ca-8cf1-848d1f521688.txt (bbox count: 0)\n",
      "[INFO] Saved YOLO label: .\\valid\\labels\\205_101_10_91aeabbf-854c-4ff4-b896-3affd4cc7498.txt (bbox count: 0)\n",
      "[INFO] Saved YOLO label: .\\valid\\labels\\205_101_10_edf3db25-6c15-43a1-a21f-744b59d7a1e5.txt (bbox count: 0)\n",
      "[INFO] Saved YOLO label: .\\valid\\labels\\205_101_10_704cdf27-2686-426f-b52b-b43c448b38da.txt (bbox count: 0)\n",
      "[INFO] Saved YOLO label: .\\valid\\labels\\205_101_10_a97e38c8-92e8-4826-bb72-af3aa79b12be.txt (bbox count: 0)\n",
      "[INFO] Saved YOLO label: .\\valid\\labels\\205_101_10_12ee7973-7d73-4b7d-83b4-c83f67c15804.txt (bbox count: 0)\n",
      "[INFO] Saved YOLO label: .\\valid\\labels\\205_101_10_56c37a32-94bf-49d4-bebf-e4bdfdf69028.txt (bbox count: 0)\n",
      "[INFO] Saved YOLO label: .\\valid\\labels\\205_101_10_18856874-9d47-43e1-866f-0b19dde6b8b2.txt (bbox count: 0)\n",
      "[INFO] Saved YOLO label: .\\valid\\labels\\205_101_10_98bf390e-d8d6-4eb8-aa76-95565132c80d.txt (bbox count: 0)\n",
      "[INFO] Saved YOLO label: .\\valid\\labels\\205_101_10_8bfbf84d-9603-462b-a2cb-7fb2867b25ea.txt (bbox count: 0)\n",
      "[INFO] Saved YOLO label: .\\valid\\labels\\205_101_10_da1717c4-03dd-4864-850f-8d109d5ccc87.txt (bbox count: 0)\n",
      "[INFO] Saved YOLO label: .\\train\\labels\\205_101_20_bde20d28-dff0-4c25-a531-b91f6fb82c2d.txt (bbox count: 1)\n",
      "[INFO] Saved YOLO label: .\\train\\labels\\205_101_20_50be81fd-f75a-4e99-a569-b3a5dd623004.txt (bbox count: 3)\n",
      "[INFO] Saved YOLO label: .\\train\\labels\\205_101_20_dc150bfe-a97c-461c-8844-ce22c86480ab.txt (bbox count: 2)\n",
      "[INFO] Saved YOLO label: .\\train\\labels\\205_101_20_d8bc0cff-da42-40ff-8a60-81aea0a79529.txt (bbox count: 3)\n",
      "[INFO] Saved YOLO label: .\\train\\labels\\205_101_20_0deff392-b79e-485e-92a5-2b7163d54794.txt (bbox count: 1)\n",
      "[INFO] Saved YOLO label: .\\train\\labels\\205_101_20_3f1090b8-52ff-44b3-87d0-9ee4ce3ff616.txt (bbox count: 1)\n",
      "[INFO] Saved YOLO label: .\\train\\labels\\205_101_20_e760c334-b52c-4985-a534-650f64dbd217.txt (bbox count: 2)\n",
      "[INFO] Saved YOLO label: .\\train\\labels\\205_101_20_b56e853b-ca88-49ab-a293-a99407f53c24.txt (bbox count: 2)\n",
      "[INFO] Saved YOLO label: .\\train\\labels\\205_101_20_f7bdb295-b899-4e7c-b658-ce53780d59d1.txt (bbox count: 2)\n",
      "[INFO] Saved YOLO label: .\\train\\labels\\205_101_20_d22a0964-eb00-49b6-8de9-535f5335403c.txt (bbox count: 3)\n",
      "[INFO] Saved YOLO label: .\\train\\labels\\205_101_20_3525b89b-87e9-47a4-86df-47f1604c0dd2.txt (bbox count: 1)\n",
      "[INFO] Saved YOLO label: .\\train\\labels\\205_101_20_2a3fea4d-91c8-4a07-8e3d-f8a557d5cd5a.txt (bbox count: 1)\n",
      "[INFO] Saved YOLO label: .\\train\\labels\\205_101_20_1046bf68-7bf0-4598-a86b-300993dd5610.txt (bbox count: 2)\n",
      "[INFO] Saved YOLO label: .\\train\\labels\\205_101_20_1e762bf8-18e1-4bd4-8840-2881f83e53c5.txt (bbox count: 1)\n",
      "[INFO] Saved YOLO label: .\\train\\labels\\205_101_20_9af4b4ae-8b85-4561-9bb4-368186992f96.txt (bbox count: 1)\n",
      "[INFO] Saved YOLO label: .\\train\\labels\\205_101_20_e77f8752-e878-4654-9584-4a5320a556f5.txt (bbox count: 1)\n",
      "[INFO] Saved YOLO label: .\\train\\labels\\205_101_20_d62ebda6-3a35-4557-8072-6de84d057cee.txt (bbox count: 3)\n",
      "[INFO] Saved YOLO label: .\\train\\labels\\205_101_20_ee94d262-0ade-401c-8620-b61a99a4e18a.txt (bbox count: 3)\n",
      "[INFO] Saved YOLO label: .\\train\\labels\\205_101_20_51e8d900-0c57-47f4-ba38-abead21dc5c7.txt (bbox count: 1)\n",
      "[INFO] Saved YOLO label: .\\train\\labels\\205_101_20_dae7c964-b710-4587-ae34-f85f009cdf90.txt (bbox count: 1)\n",
      "[INFO] Saved YOLO label: .\\train\\labels\\205_101_20_39c975c4-0a4c-4c35-90ae-d166293d61a8.txt (bbox count: 1)\n",
      "[INFO] Saved YOLO label: .\\train\\labels\\205_101_20_e8e46eac-2ae5-4368-81ab-8a0a52257583.txt (bbox count: 1)\n",
      "[INFO] Saved YOLO label: .\\train\\labels\\205_101_20_70036b4c-edc3-458c-8718-564f1b36a090.txt (bbox count: 2)\n",
      "[INFO] Saved YOLO label: .\\train\\labels\\205_101_20_3bc7b41a-70e3-4d4f-80e9-324f033b596e.txt (bbox count: 2)\n",
      "[INFO] Saved YOLO label: .\\train\\labels\\205_101_20_b8629ee5-9798-4128-997c-f6c75594b020.txt (bbox count: 2)\n",
      "[INFO] Saved YOLO label: .\\train\\labels\\205_101_20_2f65890c-625e-4bb8-8187-4ea34cbb8a19.txt (bbox count: 3)\n",
      "[INFO] Saved YOLO label: .\\train\\labels\\205_101_20_9f450518-d108-4756-a57d-9a0689e395d7.txt (bbox count: 1)\n",
      "[INFO] Saved YOLO label: .\\train\\labels\\205_101_20_6d4a9cec-e7ae-4a97-92ed-6ec1791a4ee3.txt (bbox count: 2)\n",
      "[INFO] Saved YOLO label: .\\train\\labels\\205_101_20_581086ef-f871-4c53-9faf-fdece53762db.txt (bbox count: 3)\n",
      "[INFO] Saved YOLO label: .\\train\\labels\\205_101_20_db8b0130-2118-4143-84fd-d2d6012c7f98.txt (bbox count: 1)\n",
      "[INFO] Saved YOLO label: .\\train\\labels\\205_101_20_d3a77b00-8cb8-4ebc-a2c7-ae96d8310800.txt (bbox count: 1)\n",
      "[INFO] Saved YOLO label: .\\train\\labels\\205_101_20_38dfba58-ac51-46e7-b02a-bfb128aac374.txt (bbox count: 1)\n",
      "[INFO] Saved YOLO label: .\\train\\labels\\205_101_20_9345907c-9bae-48d8-9cdd-b4a6d903fb69.txt (bbox count: 2)\n",
      "[INFO] Saved YOLO label: .\\train\\labels\\205_101_20_ecdbfc7f-e502-4adb-bb3f-540d3662d21d.txt (bbox count: 1)\n",
      "[INFO] Saved YOLO label: .\\train\\labels\\205_101_20_5e980c58-684d-4fa8-9015-5833ab7cd433.txt (bbox count: 1)\n",
      "[INFO] Saved YOLO label: .\\train\\labels\\205_101_20_a36039aa-d63d-411b-81a6-d00b23cfdd9a.txt (bbox count: 2)\n",
      "[INFO] Saved YOLO label: .\\train\\labels\\205_101_20_cf7eed9d-5f35-4fd3-925c-965e066c5c0f.txt (bbox count: 3)\n",
      "[INFO] Saved YOLO label: .\\train\\labels\\205_101_20_8ae4fa83-78e5-4414-92d4-c3e0d17f5884.txt (bbox count: 1)\n",
      "[INFO] Saved YOLO label: .\\train\\labels\\205_101_20_37dadd61-aac9-46c4-84fd-0e397b7d0d1b.txt (bbox count: 1)\n",
      "[INFO] Saved YOLO label: .\\train\\labels\\205_101_20_ff2e7e65-73f4-41a8-8a63-c43a4b6a4d52.txt (bbox count: 2)\n",
      "[INFO] Saved YOLO label: .\\train\\labels\\205_101_20_c8b336fd-8c92-4266-bd33-1a1a2ddf6710.txt (bbox count: 2)\n",
      "[INFO] Saved YOLO label: .\\train\\labels\\205_101_20_3ef47031-8b3f-49b3-a826-c9bd2d9364c8.txt (bbox count: 3)\n",
      "[INFO] Saved YOLO label: .\\train\\labels\\205_101_20_3839cf57-4b8f-470d-b473-112e4e7a8daa.txt (bbox count: 1)\n",
      "[INFO] Saved YOLO label: .\\train\\labels\\205_101_20_8c7e2b42-350d-49eb-8be9-d91a76ad2688.txt (bbox count: 1)\n",
      "[INFO] Saved YOLO label: .\\train\\labels\\205_101_20_08dca05c-0919-49a7-8c07-d9195409da62.txt (bbox count: 3)\n",
      "[INFO] Saved YOLO label: .\\train\\labels\\205_101_20_f307996f-6a31-4fe9-8b3a-0a68d848e750.txt (bbox count: 1)\n",
      "[INFO] Saved YOLO label: .\\train\\labels\\205_101_20_298c5a6e-1df8-442d-8df4-687ff88cc3b9.txt (bbox count: 2)\n",
      "[INFO] Saved YOLO label: .\\train\\labels\\205_101_20_07def539-41d1-4e01-9eda-3245f4861415.txt (bbox count: 2)\n",
      "[INFO] Saved YOLO label: .\\train\\labels\\205_101_20_57dae893-ed8d-487b-94b1-efd0bc4fb049.txt (bbox count: 1)\n",
      "[INFO] Saved YOLO label: .\\train\\labels\\205_101_20_2abe45ec-b5fd-4495-88a9-ddefc0bba6e9.txt (bbox count: 2)\n",
      "[INFO] Saved YOLO label: .\\train\\labels\\205_101_20_acfb1b34-94f3-47cd-a6a2-16224f5b4579.txt (bbox count: 1)\n",
      "[INFO] Saved YOLO label: .\\train\\labels\\205_101_20_f19ef7cd-bc89-4fb0-831d-a790f27d2d2d.txt (bbox count: 1)\n",
      "[INFO] Saved YOLO label: .\\train\\labels\\205_101_20_e52bcabe-5fe3-4305-ab01-0c90eb1666ab.txt (bbox count: 1)\n",
      "[INFO] Saved YOLO label: .\\train\\labels\\205_101_20_a70ca82d-2af1-41d5-a47b-c1c8ce5560a9.txt (bbox count: 1)\n",
      "[INFO] Saved YOLO label: .\\train\\labels\\205_101_20_c7718998-a8aa-478f-95fe-ac7945430817.txt (bbox count: 1)\n",
      "[INFO] Saved YOLO label: .\\train\\labels\\205_101_20_32788fca-c7b0-4f78-aa22-a96939ced08f.txt (bbox count: 2)\n",
      "[INFO] Saved YOLO label: .\\train\\labels\\205_101_20_4571b6e4-2fe1-4220-a5f9-463c1f644882.txt (bbox count: 2)\n",
      "[INFO] Saved YOLO label: .\\train\\labels\\205_101_20_d1e87108-80e2-4547-af93-4ee52bcffab0.txt (bbox count: 2)\n",
      "[INFO] Saved YOLO label: .\\train\\labels\\205_101_20_9afcc5f4-b048-4014-ab9a-f439a889718d.txt (bbox count: 1)\n",
      "[INFO] Saved YOLO label: .\\train\\labels\\205_101_20_04936bbd-7250-4de2-b535-b3b320fb3a0b.txt (bbox count: 1)\n",
      "[INFO] Saved YOLO label: .\\train\\labels\\205_101_20_7e405295-6541-466a-93f7-3d2a724c60fb.txt (bbox count: 2)\n",
      "[INFO] Saved YOLO label: .\\train\\labels\\205_101_20_a2b32e64-a42d-4775-8134-20deca41d960.txt (bbox count: 4)\n",
      "[INFO] Saved YOLO label: .\\train\\labels\\205_101_20_8f831638-efa5-47e2-bb5a-17007a8fe4de.txt (bbox count: 3)\n",
      "[INFO] Saved YOLO label: .\\train\\labels\\205_101_20_69349f42-55b1-41dd-a02e-b95c7a133284.txt (bbox count: 1)\n",
      "[INFO] Saved YOLO label: .\\train\\labels\\205_101_20_0ce525b6-33e3-4982-a60f-49f67ba58c1c.txt (bbox count: 1)\n",
      "[INFO] Saved YOLO label: .\\train\\labels\\205_101_20_2d997edd-b11d-44e2-b6ab-f5535e40331e.txt (bbox count: 1)\n",
      "[INFO] Saved YOLO label: .\\train\\labels\\205_101_20_27c9d89f-9093-4fa5-8602-be1f9f6de1b1.txt (bbox count: 1)\n",
      "[INFO] Saved YOLO label: .\\train\\labels\\205_101_20_cf52b338-95e1-4c54-be2a-da7ebfc2a344.txt (bbox count: 1)\n",
      "[INFO] Saved YOLO label: .\\train\\labels\\205_101_20_01b310ee-67a2-4e23-bcdc-0bb456bb2f88.txt (bbox count: 3)\n",
      "[INFO] Saved YOLO label: .\\train\\labels\\205_101_20_843b9d03-4bee-44a0-928d-8af2f103c499.txt (bbox count: 3)\n",
      "[INFO] Saved YOLO label: .\\train\\labels\\205_101_20_e6b73ee1-7df8-4ccd-b3bf-d6212f128557.txt (bbox count: 2)\n",
      "[INFO] Saved YOLO label: .\\train\\labels\\205_101_20_b95e1a44-2006-42e2-b7b6-93bb67e7eef4.txt (bbox count: 2)\n",
      "[INFO] Saved YOLO label: .\\train\\labels\\205_101_20_88c2a71b-980b-42a6-aa57-7f9d960cd873.txt (bbox count: 1)\n",
      "[INFO] Saved YOLO label: .\\train\\labels\\205_101_20_6e6f5fcc-d610-41fa-8cf3-9e02494eeaad.txt (bbox count: 2)\n",
      "[INFO] Saved YOLO label: .\\train\\labels\\205_101_20_7200783d-eca1-48a5-9284-7006359cea47.txt (bbox count: 4)\n",
      "[INFO] Saved YOLO label: .\\train\\labels\\205_101_20_7d11fe51-5ef6-4c80-8105-76056ec5821e.txt (bbox count: 1)\n",
      "[INFO] Saved YOLO label: .\\train\\labels\\205_101_20_343a88bb-e161-4b69-92b7-d4dddbd5be7e.txt (bbox count: 1)\n",
      "[INFO] Saved YOLO label: .\\train\\labels\\205_101_20_9c31be2f-2369-48cc-90a9-8fcd1201f239.txt (bbox count: 1)\n",
      "[INFO] Saved YOLO label: .\\train\\labels\\205_101_20_f839f8cb-8bfe-4925-aca7-2c3c8bec7e24.txt (bbox count: 1)\n",
      "[INFO] Saved YOLO label: .\\train\\labels\\205_101_20_fbc6d24e-e5b1-4d28-847c-c898c31bcc66.txt (bbox count: 1)\n",
      "[INFO] Saved YOLO label: .\\train\\labels\\205_101_20_bb13741d-772d-4ccd-8265-c2f67ad22ad2.txt (bbox count: 3)\n",
      "[INFO] Saved YOLO label: .\\train\\labels\\205_101_20_69a5ffb4-cbe0-4975-9da4-cae8ebfc278c.txt (bbox count: 1)\n",
      "[INFO] Saved YOLO label: .\\train\\labels\\205_101_20_bda0a9c0-c029-4b8f-a144-92004814c046.txt (bbox count: 1)\n",
      "[INFO] Saved YOLO label: .\\train\\labels\\205_101_20_af575b4b-7f43-4908-b7b0-672d317b86e9.txt (bbox count: 1)\n",
      "[INFO] Saved YOLO label: .\\train\\labels\\205_101_20_0378f13b-e04b-49ba-972f-de6951d5778f.txt (bbox count: 1)\n",
      "[INFO] Saved YOLO label: .\\train\\labels\\205_101_20_37b62452-edb8-4140-8170-fa287b42ae30.txt (bbox count: 2)\n",
      "[INFO] Saved YOLO label: .\\train\\labels\\205_101_20_4ca4da72-17c1-40a1-abcf-1dcb9014b789.txt (bbox count: 2)\n",
      "[INFO] Saved YOLO label: .\\train\\labels\\205_101_20_ed0a6038-7706-4e6a-8187-ee313dfbbcd7.txt (bbox count: 1)\n",
      "[INFO] Saved YOLO label: .\\train\\labels\\205_101_20_b3de614b-30f0-4392-bac2-6c204918ee0c.txt (bbox count: 2)\n",
      "[INFO] Saved YOLO label: .\\train\\labels\\205_101_20_222b9735-3843-4812-b3ad-b9037205440b.txt (bbox count: 1)\n",
      "[INFO] Saved YOLO label: .\\train\\labels\\205_101_20_a27e7c13-c933-4697-b59c-cab812593a0a.txt (bbox count: 1)\n",
      "[INFO] Saved YOLO label: .\\train\\labels\\205_101_20_6c5624d3-568b-410a-b776-b7ea6974eb73.txt (bbox count: 2)\n",
      "[INFO] Saved YOLO label: .\\train\\labels\\205_101_20_85081e43-1ded-4472-bacc-38f8616dd882.txt (bbox count: 1)\n",
      "[INFO] Saved YOLO label: .\\train\\labels\\205_101_20_d6ed70de-a576-4a20-bf47-568372117dc4.txt (bbox count: 3)\n",
      "[INFO] Saved YOLO label: .\\train\\labels\\205_101_20_e5ea6f71-8593-4e4b-b0a9-e689811ccaea.txt (bbox count: 3)\n",
      "[INFO] Saved YOLO label: .\\train\\labels\\205_101_20_592f74fb-5af5-4abe-8a91-165979e2ab3a.txt (bbox count: 1)\n",
      "[INFO] Saved YOLO label: .\\train\\labels\\205_101_20_4d4f1287-c53f-4971-b801-2fd4bc85ed6d.txt (bbox count: 1)\n",
      "[INFO] Saved YOLO label: .\\train\\labels\\205_101_20_1e21c368-2357-4524-a099-8e97fedf87d8.txt (bbox count: 1)\n",
      "[INFO] Saved YOLO label: .\\train\\labels\\205_101_20_364e5337-0faa-42c0-a2c4-e825c83d3879.txt (bbox count: 2)\n",
      "[INFO] Saved YOLO label: .\\train\\labels\\205_101_20_7f4ce6c7-b56d-46cb-b8c1-5f2b364f8647.txt (bbox count: 1)\n",
      "[INFO] Saved YOLO label: .\\train\\labels\\205_101_20_2d797496-fecb-4324-a681-c4d5da22d245.txt (bbox count: 2)\n",
      "[INFO] Saved YOLO label: .\\train\\labels\\205_101_20_2694c33d-ad4b-4aec-8262-a61488ba1f32.txt (bbox count: 1)\n",
      "[INFO] Saved YOLO label: .\\train\\labels\\205_101_20_918912e5-e3fa-438f-b4ca-d899b5834e07.txt (bbox count: 1)\n",
      "[INFO] Saved YOLO label: .\\train\\labels\\205_101_20_3982165c-8ba0-4d8d-a88f-8b7e7528ae67.txt (bbox count: 1)\n",
      "[INFO] Saved YOLO label: .\\train\\labels\\205_101_20_05ebb275-44c6-4428-bdd1-267723b4328e.txt (bbox count: 2)\n",
      "[INFO] Saved YOLO label: .\\train\\labels\\205_101_20_1fe0d862-424f-4111-975c-de0e697c78ae.txt (bbox count: 3)\n",
      "[INFO] Saved YOLO label: .\\train\\labels\\205_101_20_2001b1d6-76cd-4d76-90c1-0863a76adca9.txt (bbox count: 1)\n",
      "[INFO] Saved YOLO label: .\\train\\labels\\205_101_20_43cc39c1-858c-4444-850e-0a761775a914.txt (bbox count: 2)\n",
      "[INFO] Saved YOLO label: .\\train\\labels\\205_101_20_ce923b6b-f826-4353-bd25-6eeb377178f2.txt (bbox count: 1)\n",
      "[INFO] Saved YOLO label: .\\train\\labels\\205_101_20_e798323e-6424-484e-80a5-929aca0dfb77.txt (bbox count: 2)\n",
      "[INFO] Saved YOLO label: .\\train\\labels\\205_101_20_bdfb0b26-980b-4e7b-8938-da21336864b0.txt (bbox count: 1)\n",
      "[INFO] Saved YOLO label: .\\train\\labels\\205_101_20_f0a801fa-71e5-485f-854e-2bb6194d3edb.txt (bbox count: 1)\n",
      "[INFO] Saved YOLO label: .\\train\\labels\\205_101_20_8955fd64-e635-445b-8c7f-b59925598769.txt (bbox count: 2)\n",
      "[INFO] Saved YOLO label: .\\train\\labels\\205_101_20_33c71a76-595c-439d-86f3-aa2cde1cdee0.txt (bbox count: 2)\n",
      "[INFO] Saved YOLO label: .\\train\\labels\\205_101_20_f8569e46-7bf9-487d-9cc4-16cdc4c36770.txt (bbox count: 1)\n",
      "[INFO] Saved YOLO label: .\\train\\labels\\205_101_20_2e4c2b16-50dd-4f9e-ace7-891d75a3f3ee.txt (bbox count: 1)\n",
      "[INFO] Saved YOLO label: .\\train\\labels\\205_101_20_1e3a9c8e-b02b-4b60-a564-20504bcffa35.txt (bbox count: 2)\n",
      "[INFO] Saved YOLO label: .\\train\\labels\\205_101_20_1f00dc08-b536-4614-8e0a-e5dfbe47df98.txt (bbox count: 3)\n",
      "[INFO] Saved YOLO label: .\\train\\labels\\205_101_20_6f121fc7-396b-463a-8616-4abaaba73459.txt (bbox count: 2)\n",
      "[INFO] Saved YOLO label: .\\train\\labels\\205_101_20_7602e188-3dda-4a1a-9be4-c7263f86cbd8.txt (bbox count: 1)\n",
      "[INFO] Saved YOLO label: .\\train\\labels\\205_101_20_da5bb7c3-f004-459e-b4fc-a0ee3f161a2d.txt (bbox count: 1)\n",
      "[INFO] Saved YOLO label: .\\train\\labels\\205_101_20_677c45da-11a2-4782-9111-d0b90e972050.txt (bbox count: 3)\n",
      "[INFO] Saved YOLO label: .\\train\\labels\\205_101_20_5d04bc9a-9b6b-4fa0-a155-540c46e5c9a4.txt (bbox count: 1)\n",
      "[INFO] Saved YOLO label: .\\train\\labels\\205_101_20_4b2f2d8a-807c-47e7-a13b-857fe090d089.txt (bbox count: 5)\n",
      "[INFO] Saved YOLO label: .\\train\\labels\\205_101_20_21fa8d39-dc4a-4c2b-b0a1-8370595dbada.txt (bbox count: 1)\n",
      "[INFO] Saved YOLO label: .\\train\\labels\\205_101_20_292850e5-2e05-4a61-922b-e8532fa79e28.txt (bbox count: 3)\n",
      "[INFO] Saved YOLO label: .\\train\\labels\\205_101_20_bf86774c-e977-4f63-885e-298cc646fa51.txt (bbox count: 1)\n",
      "[INFO] Saved YOLO label: .\\train\\labels\\205_101_20_d47b77f3-3061-4ecf-b9d6-fd450fd832f9.txt (bbox count: 2)\n",
      "[INFO] Saved YOLO label: .\\train\\labels\\205_101_20_c3ffbb35-b545-4328-95f5-2d836d37e510.txt (bbox count: 1)\n",
      "[INFO] Saved YOLO label: .\\train\\labels\\205_101_20_a93023e6-38c2-4b49-adf1-7e6cc8560f79.txt (bbox count: 5)\n",
      "[INFO] Saved YOLO label: .\\train\\labels\\205_101_20_87569f25-e1e6-4b6f-b62a-4e1a0675aa32.txt (bbox count: 1)\n",
      "[INFO] Saved YOLO label: .\\train\\labels\\205_101_20_d91af9ca-03c2-4f21-9a41-68392d1575ca.txt (bbox count: 5)\n",
      "[INFO] Saved YOLO label: .\\train\\labels\\205_101_20_6d878dc5-7ac4-456c-8b7b-f22e7cabe3a5.txt (bbox count: 1)\n",
      "[INFO] Saved YOLO label: .\\train\\labels\\205_101_20_80630eb6-eeea-4731-a23e-379c218f15e9.txt (bbox count: 2)\n",
      "[INFO] Saved YOLO label: .\\train\\labels\\205_101_20_81cf739e-ebb4-464e-aa5c-46b422c7641a.txt (bbox count: 1)\n",
      "[INFO] Saved YOLO label: .\\train\\labels\\205_101_20_74729189-f284-4597-8887-9a536e92544a.txt (bbox count: 3)\n",
      "[INFO] Saved YOLO label: .\\train\\labels\\205_101_20_572fad9d-67a4-4eeb-8815-b2669ef4c16b.txt (bbox count: 2)\n",
      "[INFO] Saved YOLO label: .\\train\\labels\\205_101_20_4d85baa7-4474-4c18-ae5d-10024c017991.txt (bbox count: 2)\n",
      "[INFO] Saved YOLO label: .\\train\\labels\\205_101_20_317417f6-2ed4-4320-a7c9-18e35cb9413d.txt (bbox count: 1)\n",
      "[INFO] Saved YOLO label: .\\train\\labels\\205_101_20_d8a8210c-9e1e-45fd-87af-7a3b4273af12.txt (bbox count: 3)\n",
      "[INFO] Saved YOLO label: .\\train\\labels\\205_101_20_e862627c-9f5c-4b11-8885-ab4b2a5f3dee.txt (bbox count: 1)\n",
      "[INFO] Saved YOLO label: .\\train\\labels\\205_101_20_ec1bcdf1-d5c3-4f1c-bf76-cab3093cf2d8.txt (bbox count: 2)\n",
      "[INFO] Saved YOLO label: .\\train\\labels\\205_101_20_8f96d9b9-055a-432f-9212-7a4ad38011ea.txt (bbox count: 1)\n",
      "[INFO] Saved YOLO label: .\\train\\labels\\205_101_20_458efc7a-9a30-4a42-bbfc-4eb82d8386e4.txt (bbox count: 1)\n",
      "[INFO] Saved YOLO label: .\\train\\labels\\205_101_20_3bbbfebb-3a11-46a7-8d69-c2cc600b670f.txt (bbox count: 2)\n",
      "[INFO] Saved YOLO label: .\\train\\labels\\205_101_20_2b075d64-db7e-4059-bbfd-c57a00add56f.txt (bbox count: 1)\n",
      "[INFO] Saved YOLO label: .\\train\\labels\\205_101_20_e2367223-69c2-4bbe-aba7-ed97ebd59b6c.txt (bbox count: 2)\n",
      "[INFO] Saved YOLO label: .\\train\\labels\\205_101_20_d1d30104-9956-45a9-a05a-0fba31b12907.txt (bbox count: 2)\n",
      "[INFO] Saved YOLO label: .\\train\\labels\\205_101_20_e089fe0b-af1e-40ca-bf1f-8b48fe43f684.txt (bbox count: 3)\n",
      "[INFO] Saved YOLO label: .\\train\\labels\\205_101_20_e09009b9-b251-4dfd-8d65-c1188d6c7130.txt (bbox count: 3)\n",
      "[INFO] Saved YOLO label: .\\train\\labels\\205_101_20_81afb12a-eeaa-4740-9c12-fa1735841966.txt (bbox count: 1)\n",
      "[INFO] Saved YOLO label: .\\train\\labels\\205_101_20_09fedf30-4935-49ca-aff0-fc716496c074.txt (bbox count: 3)\n",
      "[INFO] Saved YOLO label: .\\train\\labels\\205_101_20_45cb3507-a36d-4dca-949c-1be3b23813e9.txt (bbox count: 2)\n",
      "[INFO] Saved YOLO label: .\\train\\labels\\205_101_20_05b4b1a5-6a7a-4e68-bdb5-17316ae94eb4.txt (bbox count: 1)\n",
      "[INFO] Saved YOLO label: .\\train\\labels\\205_101_20_3b803f41-b312-4393-bd49-a0b96f15d336.txt (bbox count: 3)\n",
      "[INFO] Saved YOLO label: .\\train\\labels\\205_101_20_51d90fef-4a14-4d31-961c-14dd08870f7a.txt (bbox count: 2)\n",
      "[INFO] Saved YOLO label: .\\train\\labels\\205_101_20_1a2daf53-7a99-49ed-b30e-08aa4f37ec6b.txt (bbox count: 1)\n",
      "[INFO] Saved YOLO label: .\\train\\labels\\205_101_20_4333faf5-aa66-4397-b2d8-de1eb466bd81.txt (bbox count: 1)\n",
      "[INFO] Saved YOLO label: .\\train\\labels\\205_101_20_2b39299d-2932-4db5-97c0-265f5dc5218c.txt (bbox count: 2)\n",
      "[INFO] Saved YOLO label: .\\train\\labels\\205_101_20_c9650d8e-3217-4072-9894-7fa3a65de3a6.txt (bbox count: 1)\n",
      "[INFO] Saved YOLO label: .\\train\\labels\\205_101_20_b48aeba4-4927-44a4-82ad-f0eeda00cd76.txt (bbox count: 2)\n",
      "[INFO] Saved YOLO label: .\\train\\labels\\205_101_20_bae531bb-b08b-4f45-bfcf-460a6dc773f0.txt (bbox count: 1)\n",
      "[INFO] Saved YOLO label: .\\train\\labels\\205_101_20_5c5784cc-0579-477b-9bda-44bde1468903.txt (bbox count: 1)\n",
      "[INFO] Saved YOLO label: .\\train\\labels\\205_101_20_0825dbb7-87c6-4d18-8dc4-2f17b7d86cfd.txt (bbox count: 1)\n",
      "[INFO] Saved YOLO label: .\\train\\labels\\205_101_20_4ddf52e2-7e34-467c-aafe-5a5ddcaacb19.txt (bbox count: 2)\n",
      "[INFO] Saved YOLO label: .\\train\\labels\\205_101_20_b22b6d63-bee0-4cf2-9301-02dc62b1b379.txt (bbox count: 1)\n",
      "[INFO] Saved YOLO label: .\\train\\labels\\205_101_20_d2c758a3-6fb0-4e25-a452-5d00dada30bd.txt (bbox count: 4)\n",
      "[INFO] Saved YOLO label: .\\train\\labels\\205_101_20_90cb4424-6029-4711-8e7c-d4698d86b110.txt (bbox count: 1)\n",
      "[INFO] Saved YOLO label: .\\train\\labels\\205_101_20_904edf80-6b6b-4262-bfbd-d64c0b09f505.txt (bbox count: 3)\n",
      "[INFO] Saved YOLO label: .\\train\\labels\\205_101_20_cc353b0b-6bd6-492b-9fcb-46c9bf0b4969.txt (bbox count: 1)\n",
      "[INFO] Saved YOLO label: .\\train\\labels\\205_101_20_5fb02897-f737-48a3-8290-b7295b483e04.txt (bbox count: 1)\n",
      "[INFO] Saved YOLO label: .\\train\\labels\\205_101_20_cc236f81-0fb7-4d6d-b76d-5c227cd7776b.txt (bbox count: 3)\n",
      "[INFO] Saved YOLO label: .\\train\\labels\\205_101_20_e43e0aa1-2aba-4be9-91df-c103deccc9ec.txt (bbox count: 2)\n",
      "[INFO] Saved YOLO label: .\\train\\labels\\205_101_20_ae9f85c6-51b6-465c-86c6-d1d5c4756a71.txt (bbox count: 2)\n",
      "[INFO] Saved YOLO label: .\\train\\labels\\205_101_20_471148e0-cb3c-464d-8047-a753dc55441f.txt (bbox count: 2)\n",
      "[INFO] Saved YOLO label: .\\train\\labels\\205_101_20_fd2ebfe0-3446-471b-866f-3ea1aeee91c4.txt (bbox count: 1)\n",
      "[INFO] Saved YOLO label: .\\train\\labels\\205_101_20_35a450d8-bff6-41e3-a321-6553ba950a03.txt (bbox count: 1)\n",
      "[INFO] Saved YOLO label: .\\train\\labels\\205_101_20_35e60a9c-c7d3-4dbd-8689-ad920faab428.txt (bbox count: 3)\n",
      "[INFO] Saved YOLO label: .\\train\\labels\\205_101_20_bec616dc-86fd-4494-9537-8e02a4622fb8.txt (bbox count: 1)\n",
      "[INFO] Saved YOLO label: .\\train\\labels\\205_101_20_1801294d-4d23-4432-856e-218e61446a1f.txt (bbox count: 3)\n",
      "[INFO] Saved YOLO label: .\\train\\labels\\205_101_20_4fa2270f-79b0-4c90-943d-9da4b5dcb731.txt (bbox count: 2)\n",
      "[INFO] Saved YOLO label: .\\train\\labels\\205_101_20_c80eb5eb-89d0-4516-a7bb-3bff5f4e0dfc.txt (bbox count: 3)\n",
      "[INFO] Saved YOLO label: .\\train\\labels\\205_101_20_3ce4cdbe-931e-40a0-8ce4-bc0c01371aaa.txt (bbox count: 1)\n",
      "[INFO] Saved YOLO label: .\\train\\labels\\205_101_20_37ba50f3-7010-407c-879f-67b6da4705d7.txt (bbox count: 2)\n",
      "[INFO] Saved YOLO label: .\\train\\labels\\205_101_20_30fcbae1-73c6-46eb-ac37-c10e84a70872.txt (bbox count: 2)\n",
      "[INFO] Saved YOLO label: .\\train\\labels\\205_101_20_ec648095-cb9c-4b14-8262-20713e67a5d5.txt (bbox count: 1)\n",
      "[INFO] Saved YOLO label: .\\train\\labels\\205_101_20_66ea970f-d8fe-4379-ad38-f83879661083.txt (bbox count: 1)\n",
      "[INFO] Saved YOLO label: .\\train\\labels\\205_101_20_f12fc322-112c-4611-8499-bff276e4ebdc.txt (bbox count: 3)\n",
      "[INFO] Saved YOLO label: .\\train\\labels\\205_101_20_293a34bc-ad60-4ebe-a5bb-dcfeabc5f76c.txt (bbox count: 1)\n",
      "[INFO] Saved YOLO label: .\\train\\labels\\205_101_20_fd85d45d-a85c-4f17-9f98-2cdc7def12b9.txt (bbox count: 2)\n",
      "[INFO] Saved YOLO label: .\\train\\labels\\205_101_20_0ab7f0b7-92c1-4fb3-9cac-a1cff98b250c.txt (bbox count: 1)\n",
      "[INFO] Saved YOLO label: .\\train\\labels\\205_101_20_e83b2ec1-99ae-4131-b9c0-5cad76784e5d.txt (bbox count: 2)\n",
      "[INFO] Saved YOLO label: .\\train\\labels\\205_101_20_d68ee394-141e-412f-a57a-624ddf065cf2.txt (bbox count: 1)\n",
      "[INFO] Saved YOLO label: .\\train\\labels\\205_101_20_4bd0f5ee-5b9b-4870-8e00-b1b9adea6c05.txt (bbox count: 5)\n",
      "[INFO] Saved YOLO label: .\\train\\labels\\205_101_20_d4dd72fa-23cf-4476-9301-c18542142899.txt (bbox count: 1)\n",
      "[INFO] Saved YOLO label: .\\train\\labels\\205_101_20_7d91ad09-65b3-42c7-b2d6-cf9807c4a99b.txt (bbox count: 1)\n",
      "[INFO] Saved YOLO label: .\\train\\labels\\205_101_20_1e7f70cf-79fd-43ce-8e4a-557774678d38.txt (bbox count: 2)\n",
      "[INFO] Saved YOLO label: .\\train\\labels\\205_101_20_8740637f-5227-43f4-ad94-29846a4dbfe8.txt (bbox count: 3)\n",
      "[INFO] Saved YOLO label: .\\train\\labels\\205_101_20_ff6ba079-79db-4da7-abbd-fc9443cc1379.txt (bbox count: 2)\n",
      "[INFO] Saved YOLO label: .\\train\\labels\\205_101_20_0b80a5ba-8372-4dda-ae69-7d9d9582937d.txt (bbox count: 2)\n",
      "[INFO] Saved YOLO label: .\\train\\labels\\205_101_20_52bbb332-e84e-43b9-a5f7-b9548529d172.txt (bbox count: 6)\n",
      "[INFO] Saved YOLO label: .\\train\\labels\\205_101_20_76bd8642-2fec-4dae-a963-69924bf9e566.txt (bbox count: 1)\n",
      "[INFO] Saved YOLO label: .\\train\\labels\\205_101_20_7d47509a-b975-453f-b166-97e2dc99681e.txt (bbox count: 1)\n",
      "[INFO] Saved YOLO label: .\\train\\labels\\205_101_20_54a0a222-7c71-4598-968a-82f04002251a.txt (bbox count: 1)\n",
      "[INFO] Saved YOLO label: .\\train\\labels\\205_101_20_0cc8cbec-0af9-4b26-90b9-b2d506b64797.txt (bbox count: 3)\n",
      "[INFO] Saved YOLO label: .\\train\\labels\\205_101_20_1bab7dfa-0ab3-4e27-8259-a4025ed6ac28.txt (bbox count: 1)\n",
      "[INFO] Saved YOLO label: .\\train\\labels\\205_101_20_a8fe2138-b6e9-4c8f-a9d7-baa87783b5d7.txt (bbox count: 1)\n",
      "[INFO] Saved YOLO label: .\\train\\labels\\205_101_20_c66de6f4-0bb3-4222-b4d4-3c141ba14ffe.txt (bbox count: 1)\n",
      "[INFO] Saved YOLO label: .\\train\\labels\\205_101_20_5606195f-67a2-4c97-b447-ff9d33d8b703.txt (bbox count: 2)\n",
      "[INFO] Saved YOLO label: .\\train\\labels\\205_101_20_75be7c3b-843a-49e9-8b3d-aa96351d9b56.txt (bbox count: 3)\n",
      "[INFO] Saved YOLO label: .\\train\\labels\\205_101_20_343554c4-2117-4edc-a4a9-4ad0be12b2f0.txt (bbox count: 2)\n",
      "[INFO] Saved YOLO label: .\\train\\labels\\205_101_20_6c1a0c20-440d-401f-a249-33cfdfcde8d2.txt (bbox count: 1)\n",
      "[INFO] Saved YOLO label: .\\train\\labels\\205_101_20_bc0d5bb2-e449-481c-ae21-3b62311fd50e.txt (bbox count: 1)\n",
      "[INFO] Saved YOLO label: .\\train\\labels\\205_101_20_e7052c30-cbf2-4987-a61a-1b13db3fc578.txt (bbox count: 1)\n",
      "[INFO] Saved YOLO label: .\\train\\labels\\205_101_20_f5bced6b-6a85-41a6-a541-ca755b1ac729.txt (bbox count: 1)\n",
      "[INFO] Saved YOLO label: .\\train\\labels\\205_101_20_48061129-fee0-4b59-babb-b9f60779c864.txt (bbox count: 2)\n",
      "[INFO] Saved YOLO label: .\\train\\labels\\205_101_20_f77c9c6c-1760-4b37-8627-dac89c696f4f.txt (bbox count: 1)\n",
      "[INFO] Saved YOLO label: .\\train\\labels\\205_101_20_391a1bb6-b396-4d9d-a892-96557f567c51.txt (bbox count: 1)\n",
      "[INFO] Saved YOLO label: .\\train\\labels\\205_101_20_f5c6873a-3a7f-41fa-a211-adfd40585361.txt (bbox count: 1)\n",
      "[INFO] Saved YOLO label: .\\train\\labels\\205_101_20_b785b451-91bf-41d9-85d9-584ae117bdef.txt (bbox count: 2)\n",
      "[INFO] Saved YOLO label: .\\train\\labels\\205_101_20_c30faec7-57f5-4a1e-8216-d6566a22f825.txt (bbox count: 1)\n",
      "[INFO] Saved YOLO label: .\\train\\labels\\205_101_20_c97741f7-9e84-4bf8-b933-6639e70b047d.txt (bbox count: 1)\n",
      "[INFO] Saved YOLO label: .\\train\\labels\\205_101_20_880a6eec-4d4d-4d1f-9d08-8c14c7811d01.txt (bbox count: 1)\n",
      "[INFO] Saved YOLO label: .\\train\\labels\\205_101_20_9bcf39f2-b7d7-4465-86aa-b1d13e43793f.txt (bbox count: 1)\n",
      "[INFO] Saved YOLO label: .\\train\\labels\\205_101_20_b0f357b6-f42d-408e-ad50-8cf1c11fc070.txt (bbox count: 3)\n",
      "[INFO] Saved YOLO label: .\\train\\labels\\205_101_20_8e7b84e5-ff3a-4873-bf71-18da1871273a.txt (bbox count: 1)\n",
      "[INFO] Saved YOLO label: .\\train\\labels\\205_101_20_39ae6fbc-5817-4368-8531-d136ba5f3121.txt (bbox count: 2)\n",
      "[INFO] Saved YOLO label: .\\train\\labels\\205_101_20_606f7618-44b1-4906-ba7e-0dd1fda64f8d.txt (bbox count: 3)\n",
      "[INFO] Saved YOLO label: .\\train\\labels\\205_101_20_4c4d56fc-e2d3-460f-a1b0-c116e7096c7c.txt (bbox count: 2)\n",
      "[INFO] Saved YOLO label: .\\train\\labels\\205_101_20_6fe0203a-778c-4b94-a245-bd9cac255008.txt (bbox count: 4)\n",
      "[INFO] Saved YOLO label: .\\train\\labels\\205_101_20_e4cb56d1-febf-4259-940e-80dd6a5c528b.txt (bbox count: 2)\n",
      "[INFO] Saved YOLO label: .\\train\\labels\\205_101_20_42b4f38e-0de4-4b8b-a597-0a78879d12d0.txt (bbox count: 2)\n",
      "[INFO] Saved YOLO label: .\\train\\labels\\205_101_20_98544049-f391-4c40-a4f9-10c1a56dd17c.txt (bbox count: 1)\n",
      "[INFO] Saved YOLO label: .\\train\\labels\\205_101_20_0ed60f05-6669-4825-a9c5-92b6896b7d3d.txt (bbox count: 1)\n",
      "[INFO] Saved YOLO label: .\\train\\labels\\205_101_20_3dc24dcc-7af6-4348-8a7a-b51e61dba531.txt (bbox count: 2)\n",
      "[INFO] Saved YOLO label: .\\train\\labels\\205_101_20_ce71fd66-691f-4b1e-9839-ffd5e10ec19a.txt (bbox count: 1)\n",
      "[INFO] Saved YOLO label: .\\train\\labels\\205_101_20_358a2d1c-a422-4ee7-b455-a4b3bfc37616.txt (bbox count: 1)\n",
      "[INFO] Saved YOLO label: .\\train\\labels\\205_101_20_bd5d5975-751d-4bdc-83eb-5c91d9baad37.txt (bbox count: 3)\n",
      "[INFO] Saved YOLO label: .\\train\\labels\\205_101_20_245de493-3d2b-4806-93d0-194693b3fc71.txt (bbox count: 1)\n",
      "[INFO] Saved YOLO label: .\\train\\labels\\205_101_20_edb88aa2-114a-41de-9069-e6d6a40e6d83.txt (bbox count: 1)\n",
      "[INFO] Saved YOLO label: .\\train\\labels\\205_101_20_81dd397a-c93e-4925-9173-9e54e69025e2.txt (bbox count: 1)\n",
      "[INFO] Saved YOLO label: .\\train\\labels\\205_101_20_4616df8f-8aa7-428d-9a57-fda4f1aa8fd2.txt (bbox count: 3)\n",
      "[INFO] Saved YOLO label: .\\train\\labels\\205_101_20_848215e0-79a1-4a73-bfb1-552211e681cf.txt (bbox count: 2)\n",
      "[INFO] Saved YOLO label: .\\train\\labels\\205_101_20_0b22e787-9d6b-4a8f-8bb7-e2af1343383c.txt (bbox count: 2)\n",
      "[INFO] Saved YOLO label: .\\train\\labels\\205_101_20_ada99bc1-2e41-43fa-823c-458e3e6e39ac.txt (bbox count: 3)\n",
      "[INFO] Saved YOLO label: .\\train\\labels\\205_101_20_97fb3f46-5cf8-420d-88f1-d8ffa594309a.txt (bbox count: 2)\n",
      "[INFO] Saved YOLO label: .\\train\\labels\\205_101_20_a008af73-d2e4-452f-b431-62ca843c15bf.txt (bbox count: 2)\n",
      "[INFO] Saved YOLO label: .\\train\\labels\\205_101_20_d4c7a924-70fb-4db3-a19f-ef551f4568f4.txt (bbox count: 4)\n",
      "[INFO] Saved YOLO label: .\\train\\labels\\205_101_20_aae368b9-8105-4a77-9f84-5df2a5d829fa.txt (bbox count: 3)\n",
      "[INFO] Saved YOLO label: .\\train\\labels\\205_101_20_5c8da6da-85b9-4852-95c9-b0f685a25927.txt (bbox count: 4)\n",
      "[INFO] Saved YOLO label: .\\train\\labels\\205_101_20_336da4da-0a2e-418a-9b5a-cb398b7c0878.txt (bbox count: 4)\n",
      "[INFO] Saved YOLO label: .\\train\\labels\\205_101_20_a095c500-ba02-4b3c-864e-7bfb8005f9d9.txt (bbox count: 1)\n",
      "[INFO] Saved YOLO label: .\\train\\labels\\205_101_20_48e19a64-9294-4b5a-9048-3e358cabd770.txt (bbox count: 2)\n",
      "[INFO] Saved YOLO label: .\\train\\labels\\205_101_20_55cb57b3-e1fb-4c08-aa34-8d96feb1685e.txt (bbox count: 2)\n",
      "[INFO] Saved YOLO label: .\\train\\labels\\205_101_20_a9fde0ee-0100-4fa1-8f35-696420b80d7a.txt (bbox count: 1)\n",
      "[INFO] Saved YOLO label: .\\train\\labels\\205_101_20_723bbd7e-27e4-4957-89cd-c8ff761a2982.txt (bbox count: 2)\n",
      "[INFO] Saved YOLO label: .\\train\\labels\\205_101_20_b514a0d9-9eb3-433b-8eba-98cfa0bef3cc.txt (bbox count: 1)\n",
      "[INFO] Saved YOLO label: .\\train\\labels\\205_101_20_ed6c7438-f3dc-48f0-a548-e347f096c7ad.txt (bbox count: 2)\n",
      "[INFO] Saved YOLO label: .\\train\\labels\\205_101_20_e26e0def-7058-4933-935b-0b681adea9b0.txt (bbox count: 1)\n",
      "[INFO] Saved YOLO label: .\\train\\labels\\205_101_20_74ed4a90-a4d4-4e97-8dad-01b6ca0e35eb.txt (bbox count: 1)\n",
      "[INFO] Saved YOLO label: .\\train\\labels\\205_101_20_2f28c279-77e4-432d-a649-1bc4df7a9a87.txt (bbox count: 1)\n",
      "[INFO] Saved YOLO label: .\\train\\labels\\205_101_20_519b586e-85af-4d6a-8e9e-0619cf55c514.txt (bbox count: 2)\n",
      "[INFO] Saved YOLO label: .\\train\\labels\\205_101_20_a160ab24-608f-4c64-af1b-2bfe4542f86f.txt (bbox count: 1)\n",
      "[INFO] Saved YOLO label: .\\train\\labels\\205_101_20_0fa87749-64b6-4414-ac9e-87f602eb553f.txt (bbox count: 2)\n",
      "[INFO] Saved YOLO label: .\\train\\labels\\205_101_20_ea9850e7-4e46-4e55-a808-1e4e78577b65.txt (bbox count: 2)\n",
      "[INFO] Saved YOLO label: .\\train\\labels\\205_101_20_19df0d41-e312-4b00-9604-aeb34fc4ef0d.txt (bbox count: 1)\n",
      "[INFO] Saved YOLO label: .\\train\\labels\\205_101_20_30e95f96-a4da-45b9-9a12-f34637889737.txt (bbox count: 2)\n",
      "[INFO] Saved YOLO label: .\\train\\labels\\205_101_20_7a0da1d8-59a9-4253-906e-bed47bb1a09c.txt (bbox count: 3)\n",
      "[INFO] Saved YOLO label: .\\train\\labels\\205_101_20_c2924221-b381-4780-a4ed-61f736244fa3.txt (bbox count: 2)\n",
      "[INFO] Saved YOLO label: .\\train\\labels\\205_101_20_e65203f5-db99-4662-911c-f24e857c207a.txt (bbox count: 1)\n",
      "[INFO] Saved YOLO label: .\\train\\labels\\205_101_20_c48d5b71-a86c-46e3-89e4-5e008648562b.txt (bbox count: 3)\n",
      "[INFO] Saved YOLO label: .\\train\\labels\\205_101_20_db098842-7659-4698-bd76-032736e71678.txt (bbox count: 2)\n",
      "[INFO] Saved YOLO label: .\\train\\labels\\205_101_20_dffa27ee-3a54-4f81-8e96-c88d38fce98c.txt (bbox count: 4)\n",
      "[INFO] Saved YOLO label: .\\train\\labels\\205_101_20_79961cd6-1536-4ea3-afb7-1043a3d7baab.txt (bbox count: 1)\n",
      "[INFO] Saved YOLO label: .\\train\\labels\\205_101_20_561ed1db-5f10-4323-bdd6-2280579c93b1.txt (bbox count: 2)\n",
      "[INFO] Saved YOLO label: .\\train\\labels\\205_101_20_936f6332-7ba4-4a35-8487-3fc0aa3aa422.txt (bbox count: 2)\n",
      "[INFO] Saved YOLO label: .\\train\\labels\\205_101_20_cba8e23f-5fd0-4838-989d-d665a88a9ad8.txt (bbox count: 1)\n",
      "[INFO] Saved YOLO label: .\\train\\labels\\205_101_20_95edeb83-fedf-48e9-b3c0-23d33ad27f7e.txt (bbox count: 1)\n",
      "[INFO] Saved YOLO label: .\\train\\labels\\205_101_20_1fa4eb42-f470-46a0-aad2-179b267f33bc.txt (bbox count: 1)\n",
      "[INFO] Saved YOLO label: .\\train\\labels\\205_101_20_21a25acd-952a-41ed-a376-075e1c384dbd.txt (bbox count: 1)\n",
      "[INFO] Saved YOLO label: .\\train\\labels\\205_101_20_b413979d-53ac-4ada-b9b2-b4b34fa27a16.txt (bbox count: 1)\n",
      "[INFO] Saved YOLO label: .\\train\\labels\\205_101_20_f67c7ad4-433c-406a-96ca-02012a0d225a.txt (bbox count: 2)\n",
      "[INFO] Saved YOLO label: .\\train\\labels\\205_101_20_203963b8-57f2-405f-8d54-e06ccfd00ec9.txt (bbox count: 1)\n",
      "[INFO] Saved YOLO label: .\\train\\labels\\205_101_20_06b24f6e-cb52-435c-ae09-22cf90ee7576.txt (bbox count: 1)\n",
      "[INFO] Saved YOLO label: .\\train\\labels\\205_101_20_a3556099-a30a-4302-90af-dc4544a11124.txt (bbox count: 1)\n",
      "[INFO] Saved YOLO label: .\\train\\labels\\205_101_20_c737409f-de0f-4e30-93b3-d0e5253c6235.txt (bbox count: 2)\n",
      "[INFO] Saved YOLO label: .\\train\\labels\\205_101_20_5862613d-bc21-4c1c-9157-6a4e33d6badb.txt (bbox count: 1)\n",
      "[INFO] Saved YOLO label: .\\train\\labels\\205_101_20_307af0b6-998f-4acc-b04e-795f83feaaba.txt (bbox count: 1)\n",
      "[INFO] Saved YOLO label: .\\test\\labels\\205_101_20_a982a90b-2d80-4597-b3bf-b5f82e64f299.txt (bbox count: 2)\n",
      "[INFO] Saved YOLO label: .\\test\\labels\\205_101_20_fa4960c1-71e5-4d1d-8dd8-44a8dbabe7d6.txt (bbox count: 1)\n",
      "[INFO] Saved YOLO label: .\\test\\labels\\205_101_20_830ed8d4-16ad-4217-b072-0e914c0a63c8.txt (bbox count: 1)\n",
      "[INFO] Saved YOLO label: .\\test\\labels\\205_101_20_f97043f0-8aa3-40c9-9cc1-6bcbdbd32e67.txt (bbox count: 3)\n",
      "[INFO] Saved YOLO label: .\\test\\labels\\205_101_20_195c0c6c-69fb-4acc-ae8d-27227b6ea1a1.txt (bbox count: 4)\n",
      "[INFO] Saved YOLO label: .\\test\\labels\\205_101_20_716160f5-a777-4bc0-9829-b007db9308e0.txt (bbox count: 1)\n",
      "[INFO] Saved YOLO label: .\\test\\labels\\205_101_20_d390cb1f-5ab6-4e09-b360-5923f84ffff0.txt (bbox count: 3)\n",
      "[INFO] Saved YOLO label: .\\test\\labels\\205_101_20_6748cde4-2fb1-46eb-a8ac-4e94ed657f99.txt (bbox count: 1)\n",
      "[INFO] Saved YOLO label: .\\test\\labels\\205_101_20_f8a8bcd7-056b-4ed1-be9d-7da8071caa00.txt (bbox count: 1)\n",
      "[INFO] Saved YOLO label: .\\test\\labels\\205_101_20_729f9526-c48a-4ac8-a173-c97d420fe7aa.txt (bbox count: 1)\n",
      "[INFO] Saved YOLO label: .\\test\\labels\\205_101_20_c9e5abbd-b783-4764-b90f-c08ac16d50d0.txt (bbox count: 1)\n",
      "[INFO] Saved YOLO label: .\\test\\labels\\205_101_20_6366641a-c2a0-40c6-9e2c-db1fa6e8b841.txt (bbox count: 2)\n",
      "[INFO] Saved YOLO label: .\\test\\labels\\205_101_20_318b7453-a2dd-4316-bab3-fc19d77dba0a.txt (bbox count: 1)\n",
      "[INFO] Saved YOLO label: .\\test\\labels\\205_101_20_c28ba06a-4132-4503-b022-245fb3e26954.txt (bbox count: 1)\n",
      "[INFO] Saved YOLO label: .\\test\\labels\\205_101_20_42d7ae36-7f0b-47c8-9924-112494fbcbea.txt (bbox count: 3)\n",
      "[INFO] Saved YOLO label: .\\test\\labels\\205_101_20_5ad24091-7537-4199-9788-ebca64e357aa.txt (bbox count: 1)\n",
      "[INFO] Saved YOLO label: .\\test\\labels\\205_101_20_f6f5c2e8-db88-4609-ac8c-335d845ffda7.txt (bbox count: 3)\n",
      "[INFO] Saved YOLO label: .\\test\\labels\\205_101_20_e414c589-f3dc-457a-a6fb-6f83d5394797.txt (bbox count: 1)\n",
      "[INFO] Saved YOLO label: .\\test\\labels\\205_101_20_08cc1dae-c87c-4ee3-9046-038ac5f6de13.txt (bbox count: 1)\n",
      "[INFO] Saved YOLO label: .\\test\\labels\\205_101_20_5f7a3cf0-ee9d-4d84-9601-a378d96aceff.txt (bbox count: 1)\n",
      "[INFO] Saved YOLO label: .\\test\\labels\\205_101_20_896f6bbb-f1f6-47f2-9426-70689d2bd709.txt (bbox count: 1)\n",
      "[INFO] Saved YOLO label: .\\test\\labels\\205_101_20_5b9e2c8d-572c-4ce0-93df-ba2a23ac3c04.txt (bbox count: 1)\n",
      "[INFO] Saved YOLO label: .\\test\\labels\\205_101_20_d38fb8b1-bf6b-403b-b56f-d907de8b591b.txt (bbox count: 1)\n",
      "[INFO] Saved YOLO label: .\\test\\labels\\205_101_20_96ef38fa-2e29-4852-8481-054ac6c8d4b9.txt (bbox count: 1)\n",
      "[INFO] Saved YOLO label: .\\test\\labels\\205_101_20_131ef0b9-36ec-493e-bae4-b95c3f2d5f4f.txt (bbox count: 4)\n",
      "[INFO] Saved YOLO label: .\\test\\labels\\205_101_20_f754cc19-dc93-45ec-8119-e4b14f3bb287.txt (bbox count: 1)\n",
      "[INFO] Saved YOLO label: .\\test\\labels\\205_101_20_dc2a51ea-febc-4176-935f-4a7b8071e989.txt (bbox count: 2)\n",
      "[INFO] Saved YOLO label: .\\test\\labels\\205_101_20_d7401bb8-5fc3-4ebf-9230-c22d4a963a24.txt (bbox count: 1)\n",
      "[INFO] Saved YOLO label: .\\test\\labels\\205_101_20_33266202-03b7-41c2-8c46-bdfcb6521a15.txt (bbox count: 3)\n",
      "[INFO] Saved YOLO label: .\\test\\labels\\205_101_20_a1b2c658-a43a-482f-b3e8-d0a6553fca65.txt (bbox count: 1)\n",
      "[INFO] Saved YOLO label: .\\test\\labels\\205_101_20_7b703936-b097-47b9-8d5c-b8fbd97843a5.txt (bbox count: 1)\n",
      "[INFO] Saved YOLO label: .\\test\\labels\\205_101_20_11d4cd16-230a-4a84-9257-3e902e1fea39.txt (bbox count: 1)\n",
      "[INFO] Saved YOLO label: .\\test\\labels\\205_101_20_3023aa40-a4bc-4aa4-9d45-e6991d12644e.txt (bbox count: 3)\n",
      "[INFO] Saved YOLO label: .\\test\\labels\\205_101_20_29a29af1-2d9f-4349-bfea-797b7a472b30.txt (bbox count: 1)\n",
      "[INFO] Saved YOLO label: .\\test\\labels\\205_101_20_d406c6ee-7995-4e20-a94e-c43789b1984e.txt (bbox count: 3)\n",
      "[INFO] Saved YOLO label: .\\test\\labels\\205_101_20_79ad1afb-2fdc-4060-91f4-3f64a6684902.txt (bbox count: 1)\n",
      "[INFO] Saved YOLO label: .\\test\\labels\\205_101_20_3e4ceb0c-7403-47d3-9ee5-0b06750c9e49.txt (bbox count: 1)\n",
      "[INFO] Saved YOLO label: .\\test\\labels\\205_101_20_9e13bea4-b2ad-443a-b6d1-4ec48fc3c9e0.txt (bbox count: 2)\n",
      "[INFO] Saved YOLO label: .\\test\\labels\\205_101_20_cdc4aa12-06dc-4600-bdf8-2e355ff59ee3.txt (bbox count: 2)\n",
      "[INFO] Saved YOLO label: .\\test\\labels\\205_101_20_97131f53-11b4-4506-a64f-b38518b36bee.txt (bbox count: 2)\n",
      "[INFO] Saved YOLO label: .\\test\\labels\\205_101_20_8c49fd00-2381-43ef-94f5-8fb125407a7a.txt (bbox count: 3)\n",
      "[INFO] Saved YOLO label: .\\test\\labels\\205_101_20_7e545001-4676-4a00-8587-3b0436cf91b2.txt (bbox count: 2)\n",
      "[INFO] Saved YOLO label: .\\test\\labels\\205_101_20_493aa76f-dec8-4bdf-accb-97c98cf81c7e.txt (bbox count: 2)\n",
      "[INFO] Saved YOLO label: .\\test\\labels\\205_101_20_24a69458-1924-4886-a891-cf9dbe5421b2.txt (bbox count: 1)\n",
      "[INFO] Saved YOLO label: .\\test\\labels\\205_101_20_9ab8355f-9f49-40aa-a4c6-6e635c8b90ea.txt (bbox count: 3)\n",
      "[INFO] Saved YOLO label: .\\test\\labels\\205_101_20_a7cf9a9d-d4f3-4efd-9c68-c24e4dee7ed6.txt (bbox count: 3)\n",
      "[INFO] Saved YOLO label: .\\test\\labels\\205_101_20_541c51d4-895a-4835-b451-361b8d81d59c.txt (bbox count: 2)\n",
      "[INFO] Saved YOLO label: .\\test\\labels\\205_101_20_2da2a079-a3d1-4bb9-aa74-ba5f81429435.txt (bbox count: 2)\n",
      "[INFO] Saved YOLO label: .\\test\\labels\\205_101_20_134c0973-9592-4cd6-89d6-7480ec93753e.txt (bbox count: 1)\n",
      "[INFO] Saved YOLO label: .\\test\\labels\\205_101_20_f6799ae6-5a52-48c6-9fe7-0926e39b9058.txt (bbox count: 2)\n",
      "[INFO] Saved YOLO label: .\\test\\labels\\205_101_20_c0c3bec9-c650-431e-b451-58ee1f940ef6.txt (bbox count: 1)\n",
      "[INFO] Saved YOLO label: .\\test\\labels\\205_101_20_6bd6c7d6-75a2-4953-8568-03cbe4719e6f.txt (bbox count: 1)\n",
      "[INFO] Saved YOLO label: .\\test\\labels\\205_101_20_7958a516-3192-4f03-a53e-6d184f9da540.txt (bbox count: 3)\n",
      "[INFO] Saved YOLO label: .\\test\\labels\\205_101_20_0b696597-135a-4b0b-aec9-8c5ceae04af3.txt (bbox count: 3)\n",
      "[INFO] Saved YOLO label: .\\test\\labels\\205_101_20_c8520984-ccac-484f-8de1-821e9e475e21.txt (bbox count: 4)\n",
      "[INFO] Saved YOLO label: .\\test\\labels\\205_101_20_b051a80f-17fb-40b3-9170-f94751d4b24d.txt (bbox count: 1)\n",
      "[INFO] Saved YOLO label: .\\test\\labels\\205_101_20_d78c47ed-6b54-46cb-9a91-a38a336ee376.txt (bbox count: 1)\n",
      "[INFO] Saved YOLO label: .\\test\\labels\\205_101_20_5fbfb1c9-e78d-4930-bd36-1aa4d79f8005.txt (bbox count: 3)\n",
      "[INFO] Saved YOLO label: .\\test\\labels\\205_101_20_b347cf42-1ad6-46f0-96c2-5e77bc0eac79.txt (bbox count: 1)\n",
      "[INFO] Saved YOLO label: .\\test\\labels\\205_101_20_289fb8b0-28f9-45f3-b0bb-901a231fd227.txt (bbox count: 3)\n",
      "[INFO] Saved YOLO label: .\\test\\labels\\205_101_20_c8c8c8a8-43af-4621-ae9a-a4ac6acff255.txt (bbox count: 4)\n",
      "[INFO] Saved YOLO label: .\\test\\labels\\205_101_20_40200343-40e3-4269-a82a-2bbe877ee402.txt (bbox count: 1)\n",
      "[INFO] Saved YOLO label: .\\test\\labels\\205_101_20_ed3bf2a4-17d4-4677-a39b-4b67d083f507.txt (bbox count: 1)\n",
      "[INFO] Saved YOLO label: .\\test\\labels\\205_101_20_8735ab7c-dd23-4c57-a2fb-0596bf03c058.txt (bbox count: 1)\n",
      "[INFO] Saved YOLO label: .\\test\\labels\\205_101_20_64059004-f6a7-4fb6-a8b9-31466966a956.txt (bbox count: 1)\n",
      "[INFO] Saved YOLO label: .\\test\\labels\\205_101_20_026adee8-7bdf-4c16-aead-b175bb2d5b2f.txt (bbox count: 1)\n",
      "[INFO] Saved YOLO label: .\\test\\labels\\205_101_20_5045d0ce-0d1c-4bbd-adae-46a20a9bee7e.txt (bbox count: 1)\n",
      "[INFO] Saved YOLO label: .\\test\\labels\\205_101_20_e4fed6e4-f41f-4e7c-8091-7e98f80b6572.txt (bbox count: 1)\n",
      "[INFO] Saved YOLO label: .\\test\\labels\\205_101_20_5d258be0-a56a-497a-85d1-d062baa78eeb.txt (bbox count: 1)\n",
      "[INFO] Saved YOLO label: .\\test\\labels\\205_101_20_758c9b50-49b7-4f0f-a409-a445e3425206.txt (bbox count: 4)\n",
      "[INFO] Saved YOLO label: .\\test\\labels\\205_101_20_06b52607-6770-47dd-93bb-5c7e81486739.txt (bbox count: 1)\n",
      "[INFO] Saved YOLO label: .\\test\\labels\\205_101_20_9cd824a9-8c26-4a04-aefb-8d4ac8ae73e3.txt (bbox count: 2)\n",
      "[INFO] Saved YOLO label: .\\test\\labels\\205_101_20_2f9af7c2-8ca0-440f-ada1-20f199203753.txt (bbox count: 1)\n",
      "[INFO] Saved YOLO label: .\\test\\labels\\205_101_20_40acd7ea-adcd-4a36-a2e1-d28e8203d94d.txt (bbox count: 1)\n",
      "[INFO] Saved YOLO label: .\\test\\labels\\205_101_20_fa15b154-54d9-41c3-a6bb-2a3b6e7df6cc.txt (bbox count: 4)\n",
      "[INFO] Saved YOLO label: .\\test\\labels\\205_101_20_c33efc90-befb-418c-b043-464abc7b0a61.txt (bbox count: 2)\n",
      "[INFO] Saved YOLO label: .\\test\\labels\\205_101_20_ec15c34f-bf6a-4818-9aa4-a9945d7421dd.txt (bbox count: 2)\n",
      "[INFO] Saved YOLO label: .\\test\\labels\\205_101_20_66d7bc9c-33b7-4aec-b43c-4b32967bc96f.txt (bbox count: 2)\n",
      "[INFO] Saved YOLO label: .\\test\\labels\\205_101_20_a7ba597e-eac4-4351-bf09-43e6a878eb1a.txt (bbox count: 1)\n",
      "[INFO] Saved YOLO label: .\\test\\labels\\205_101_20_e8165eaa-ac50-4fdf-8d5b-dcd5a6e6acb2.txt (bbox count: 1)\n",
      "[INFO] Saved YOLO label: .\\test\\labels\\205_101_20_5974472e-e3dd-4fcb-82df-07d4d35e0fa7.txt (bbox count: 2)\n",
      "[INFO] Saved YOLO label: .\\test\\labels\\205_101_20_10c12573-2715-4235-af78-ee8827971cdf.txt (bbox count: 2)\n",
      "[INFO] Saved YOLO label: .\\test\\labels\\205_101_20_c0dd1884-18f6-4d73-bddb-863384a3be3e.txt (bbox count: 1)\n",
      "[INFO] Saved YOLO label: .\\test\\labels\\205_101_20_8c5baa25-0e45-4261-9c12-95f1ebd74a46.txt (bbox count: 3)\n",
      "[INFO] Saved YOLO label: .\\test\\labels\\205_101_20_ccca8b22-255d-40a9-9511-7ed5cd00a54c.txt (bbox count: 2)\n",
      "[INFO] Saved YOLO label: .\\test\\labels\\205_101_20_0c88fd07-9466-4aeb-951f-355c55279dda.txt (bbox count: 2)\n",
      "[INFO] Saved YOLO label: .\\test\\labels\\205_101_20_a8ff6347-b01f-4bc2-af93-995af5ea6407.txt (bbox count: 3)\n",
      "[INFO] Saved YOLO label: .\\test\\labels\\205_101_20_8b195c02-84e7-4bf9-975c-a06af8eec4d7.txt (bbox count: 1)\n",
      "[INFO] Saved YOLO label: .\\test\\labels\\205_101_20_3a408bdb-785f-494d-85e7-e7fc111eb45d.txt (bbox count: 2)\n",
      "[INFO] Saved YOLO label: .\\test\\labels\\205_101_20_c0c1e544-916c-48ad-8a17-6f7190cb3e4e.txt (bbox count: 1)\n",
      "[INFO] Saved YOLO label: .\\valid\\labels\\205_101_20_fba2c485-8da2-4267-9ec0-386967a90a9a.txt (bbox count: 1)\n",
      "[INFO] Saved YOLO label: .\\valid\\labels\\205_101_20_59d86553-a25c-4bd2-aed0-208dd9b2394e.txt (bbox count: 3)\n",
      "[INFO] Saved YOLO label: .\\valid\\labels\\205_101_20_845ed3cb-0078-4fa6-801f-35cf17c96672.txt (bbox count: 2)\n",
      "[INFO] Saved YOLO label: .\\valid\\labels\\205_101_20_ddafd7d3-8b1c-4d6b-84a2-4b619191f091.txt (bbox count: 2)\n",
      "[INFO] Saved YOLO label: .\\valid\\labels\\205_101_20_21ec2c4d-8827-46ca-a9c3-18d34c263a6c.txt (bbox count: 2)\n",
      "[INFO] Saved YOLO label: .\\valid\\labels\\205_101_20_91eed014-2855-4f76-b1be-277823911c11.txt (bbox count: 1)\n",
      "[INFO] Saved YOLO label: .\\valid\\labels\\205_101_20_44388f55-4d05-4715-b061-411b08c863b9.txt (bbox count: 2)\n",
      "[INFO] Saved YOLO label: .\\valid\\labels\\205_101_20_67ae40fd-1e36-4e0c-b2e9-e320bae09515.txt (bbox count: 3)\n",
      "[INFO] Saved YOLO label: .\\valid\\labels\\205_101_20_9d6758b5-06ec-4d8b-8f8b-3524ad70a4d0.txt (bbox count: 2)\n",
      "[INFO] Saved YOLO label: .\\valid\\labels\\205_101_20_324d4554-5aa1-43f1-97c0-eb8295be80d6.txt (bbox count: 2)\n",
      "[INFO] Saved YOLO label: .\\valid\\labels\\205_101_20_3170aec5-add3-4176-b4c5-be62c17f4452.txt (bbox count: 1)\n",
      "[INFO] Saved YOLO label: .\\valid\\labels\\205_101_20_4ceaa200-d3d8-4dab-bd3d-f9208b26a7c3.txt (bbox count: 2)\n",
      "[INFO] Saved YOLO label: .\\valid\\labels\\205_101_20_485ca50e-ffbd-4fbd-8775-3e50a0cc9358.txt (bbox count: 1)\n",
      "[INFO] Saved YOLO label: .\\valid\\labels\\205_101_20_a169ffda-ca2d-4f60-b9c5-2428c03cbb31.txt (bbox count: 4)\n",
      "[INFO] Saved YOLO label: .\\valid\\labels\\205_101_20_8e8229a4-cff4-4efb-b0f5-edd48f8a2dd7.txt (bbox count: 1)\n",
      "[INFO] Saved YOLO label: .\\valid\\labels\\205_101_20_28b7e211-4a69-492d-ab6d-4a772169cd1d.txt (bbox count: 2)\n",
      "[INFO] Saved YOLO label: .\\valid\\labels\\205_101_20_f99591d9-89f5-410b-9f38-eed2ee702539.txt (bbox count: 3)\n",
      "[INFO] Saved YOLO label: .\\valid\\labels\\205_101_20_8e085305-4004-4c25-9e0d-157c76f6fdb1.txt (bbox count: 2)\n",
      "[INFO] Saved YOLO label: .\\valid\\labels\\205_101_20_ebcf0251-5135-45ae-8539-88f0a262ae8f.txt (bbox count: 1)\n",
      "[INFO] Saved YOLO label: .\\valid\\labels\\205_101_20_b3b98c1d-6ca4-4e87-9c16-1ded010324c2.txt (bbox count: 1)\n",
      "[INFO] Saved YOLO label: .\\valid\\labels\\205_101_20_f8aa5628-9edc-427e-93c3-520f3aa5d298.txt (bbox count: 1)\n",
      "[INFO] Saved YOLO label: .\\valid\\labels\\205_101_20_c7e23940-ed93-4aea-b53b-a41ef6ee1d13.txt (bbox count: 1)\n",
      "[INFO] Saved YOLO label: .\\valid\\labels\\205_101_20_88e88695-5e8e-40ca-99fc-684fe2aa6ed3.txt (bbox count: 2)\n",
      "[INFO] Saved YOLO label: .\\valid\\labels\\205_101_20_8c276dcb-b0ec-4528-a71e-36702e197f45.txt (bbox count: 1)\n",
      "[INFO] Saved YOLO label: .\\valid\\labels\\205_101_20_1bf7c87d-49b6-4cff-b0bd-c3033fc90400.txt (bbox count: 2)\n",
      "[INFO] Saved YOLO label: .\\valid\\labels\\205_101_20_b51a96d5-06af-4800-b89f-3d7a7e185e55.txt (bbox count: 1)\n",
      "[INFO] Saved YOLO label: .\\valid\\labels\\205_101_20_5b73a353-0cfb-4616-964d-85a0a91b165e.txt (bbox count: 1)\n",
      "[INFO] Saved YOLO label: .\\valid\\labels\\205_101_20_e7b95228-c0bc-45ec-a902-5f3eb486229a.txt (bbox count: 4)\n",
      "[INFO] Saved YOLO label: .\\valid\\labels\\205_101_20_b1e7a5a6-bad0-481a-bc30-862b6d5e41c2.txt (bbox count: 1)\n",
      "[INFO] Saved YOLO label: .\\valid\\labels\\205_101_20_f085171b-ed13-45ea-bed8-bc7a6c3a96bb.txt (bbox count: 2)\n",
      "[INFO] Saved YOLO label: .\\valid\\labels\\205_101_20_bc87e47f-af07-401d-8646-8cada870e116.txt (bbox count: 4)\n",
      "[INFO] Saved YOLO label: .\\valid\\labels\\205_101_20_a8c900e5-9040-488d-9ab6-d1a8f9a89545.txt (bbox count: 2)\n",
      "[INFO] Saved YOLO label: .\\valid\\labels\\205_101_20_65fd6f23-c3b7-4103-a86a-1461d1570fc0.txt (bbox count: 2)\n",
      "[INFO] Saved YOLO label: .\\valid\\labels\\205_101_20_c924a6d2-f203-4dfa-9dc4-0419d363a744.txt (bbox count: 2)\n",
      "[INFO] Saved YOLO label: .\\valid\\labels\\205_101_20_c8b7809c-d0ac-4baa-8a98-563cc6390f48.txt (bbox count: 2)\n",
      "[INFO] Saved YOLO label: .\\valid\\labels\\205_101_20_b3900ac1-2562-47db-a216-0301bf23eac9.txt (bbox count: 1)\n",
      "[INFO] Saved YOLO label: .\\valid\\labels\\205_101_20_9247d60c-aa93-4e3f-8a6f-530f6904c9b1.txt (bbox count: 2)\n",
      "[INFO] Saved YOLO label: .\\valid\\labels\\205_101_20_49ad6f0b-5f84-468b-a866-cf061ace40a6.txt (bbox count: 1)\n",
      "[INFO] Saved YOLO label: .\\valid\\labels\\205_101_20_34a7a79a-98c3-406f-bc62-02caa759f465.txt (bbox count: 2)\n",
      "[INFO] Saved YOLO label: .\\valid\\labels\\205_101_20_a9ff5dc2-b9db-445b-9ab0-91e309a88a5c.txt (bbox count: 2)\n",
      "[INFO] Saved YOLO label: .\\valid\\labels\\205_101_20_0243ffd6-c53c-44f9-8a37-222a769da643.txt (bbox count: 1)\n",
      "[INFO] Saved YOLO label: .\\valid\\labels\\205_101_20_1acf936e-53bb-43f2-81e2-b93dc963e195.txt (bbox count: 3)\n",
      "[INFO] Saved YOLO label: .\\valid\\labels\\205_101_20_395449fa-e1c6-4beb-a678-66491227c2d3.txt (bbox count: 2)\n",
      "[INFO] Saved YOLO label: .\\valid\\labels\\205_101_20_d08fdddb-54ff-474e-85af-1d40ad8d3f5f.txt (bbox count: 2)\n",
      "[INFO] Saved YOLO label: .\\valid\\labels\\205_101_20_68606df3-d002-4d0d-afe3-721aabdb695e.txt (bbox count: 1)\n",
      "[INFO] Saved YOLO label: .\\valid\\labels\\205_101_20_da6602bb-353c-41de-84a9-fe63ea37a3be.txt (bbox count: 3)\n",
      "[INFO] Saved YOLO label: .\\valid\\labels\\205_101_20_332b21dd-fa08-4d93-9f75-2bfd90949744.txt (bbox count: 1)\n",
      "[INFO] Saved YOLO label: .\\valid\\labels\\205_101_20_4a10b76d-40c6-44c7-8292-b38b6394e04f.txt (bbox count: 1)\n",
      "[INFO] Saved YOLO label: .\\valid\\labels\\205_101_20_f7fde900-2220-4eda-9acf-f66807b5f2b9.txt (bbox count: 1)\n",
      "[INFO] Saved YOLO label: .\\valid\\labels\\205_101_20_2af66f2c-bddb-4c65-bc7c-6c3c0a18174d.txt (bbox count: 1)\n",
      "[INFO] Saved YOLO label: .\\valid\\labels\\205_101_20_2cf382f1-642e-4766-b2e5-914f62e4fbc7.txt (bbox count: 2)\n",
      "[INFO] Saved YOLO label: .\\valid\\labels\\205_101_20_db828f36-0828-4b69-b141-754679010861.txt (bbox count: 1)\n",
      "[INFO] Saved YOLO label: .\\valid\\labels\\205_101_20_b7bbb077-367e-428d-833c-5f4685222fc9.txt (bbox count: 1)\n",
      "[INFO] Saved YOLO label: .\\valid\\labels\\205_101_20_b01eac4d-53b0-4459-97c9-3e5399ba901b.txt (bbox count: 1)\n",
      "[INFO] Saved YOLO label: .\\valid\\labels\\205_101_20_1ba7388a-04f3-469d-9619-ca9d82561cc3.txt (bbox count: 1)\n",
      "[INFO] Saved YOLO label: .\\valid\\labels\\205_101_20_9ade1dad-770d-402c-b4cd-b78d05d15056.txt (bbox count: 2)\n",
      "[INFO] Saved YOLO label: .\\valid\\labels\\205_101_20_e6550617-9269-4fbd-af7b-16b1a9a5c14f.txt (bbox count: 2)\n",
      "[INFO] Saved YOLO label: .\\valid\\labels\\205_101_20_e94db873-b9b9-4c50-be3b-840fdafa9e09.txt (bbox count: 1)\n",
      "[INFO] Saved YOLO label: .\\valid\\labels\\205_101_20_24ee6d73-126c-4d41-8409-1caf836e7d12.txt (bbox count: 1)\n",
      "[INFO] Saved YOLO label: .\\valid\\labels\\205_101_20_7ba4d6af-4d81-45c5-8949-26bba0e9003f.txt (bbox count: 1)\n",
      "[INFO] Saved YOLO label: .\\valid\\labels\\205_101_20_d7504074-f53e-4c44-84ec-636e61f902ac.txt (bbox count: 1)\n",
      "[INFO] Saved YOLO label: .\\valid\\labels\\205_101_20_a151da56-6f72-4d44-9bd8-a3a1ed509298.txt (bbox count: 3)\n",
      "[INFO] Saved YOLO label: .\\valid\\labels\\205_101_20_d15b02a6-a12b-4ea6-b00b-d0db032c350b.txt (bbox count: 3)\n",
      "[INFO] Saved YOLO label: .\\valid\\labels\\205_101_20_f2aed706-2fa1-4934-9971-97688cd26a69.txt (bbox count: 2)\n",
      "[INFO] Saved YOLO label: .\\valid\\labels\\205_101_20_6ce620d7-fdfa-4bd1-b809-2fe93ec106f4.txt (bbox count: 2)\n",
      "[INFO] Saved YOLO label: .\\valid\\labels\\205_101_20_dfea840a-9c09-4dcf-a02e-a4719077756e.txt (bbox count: 1)\n",
      "[INFO] Saved YOLO label: .\\valid\\labels\\205_101_20_e6dd39d3-7dc0-483d-88e9-b095e6068a7f.txt (bbox count: 1)\n",
      "[INFO] Saved YOLO label: .\\valid\\labels\\205_101_20_0914b3a7-f7f9-4790-a0b9-9d339003995d.txt (bbox count: 3)\n",
      "[INFO] Saved YOLO label: .\\valid\\labels\\205_101_20_f6285f3d-f758-49af-882b-1ffbe2014b52.txt (bbox count: 2)\n",
      "[INFO] Saved YOLO label: .\\valid\\labels\\205_101_20_377230e9-3360-45d6-bb2f-f5e9a341c3af.txt (bbox count: 1)\n",
      "[INFO] Saved YOLO label: .\\valid\\labels\\205_101_20_e6502f9d-55fd-47a3-8631-786aa87d8dc9.txt (bbox count: 3)\n",
      "[INFO] Saved YOLO label: .\\valid\\labels\\205_101_20_02137c77-5050-45bc-b09b-2e52ff25aad7.txt (bbox count: 1)\n"
     ]
    }
   ],
   "source": [
    "import os\n",
    "import shutil\n",
    "\n",
    "# 폴더 초기화 함수\n",
    "def prepare_output_dir(output_dir):\n",
    "    if os.path.exists(output_dir):\n",
    "        shutil.rmtree(output_dir)  # 기존 폴더 삭제\n",
    "    os.makedirs(output_dir, exist_ok=True)  # 새 폴더 생성\n",
    "\n",
    "# 이미지 복사 함수\n",
    "def copy_images(output_dir, data):\n",
    "    image_dir = os.path.join(output_dir, 'images')\n",
    "    \n",
    "    # 이미지 폴더가 존재하는지 확인하고, 없으면 새로 생성\n",
    "    if not os.path.exists(image_dir):\n",
    "        os.makedirs(image_dir)\n",
    "\n",
    "    for index, row in data.iterrows():\n",
    "        image_path = row['path']\n",
    "        if os.path.exists(image_path):  # 이미지 경로 확인\n",
    "            shutil.copy(image_path, image_dir)\n",
    "        else:\n",
    "            print(f\"[WARNING] Image not found: {image_path}\")\n",
    "\n",
    "# YOLO 형식 변환 함수\n",
    "def convert_to_yolo_format(bbox, label, image_width, image_height):\n",
    "    yolo_labels = []\n",
    "\n",
    "    if not bbox or len(bbox) == 0:  # 바운딩 박스가 없을 경우\n",
    "        yolo_labels.append(f\"{label} 0.0 0.0 0.0 0.0\")\n",
    "    else:\n",
    "        for x_min, y_min, width, height in bbox:\n",
    "            x_center = (x_min + width / 2) / image_width\n",
    "            y_center = (y_min + height / 2) / image_height\n",
    "            norm_width = width / image_width\n",
    "            norm_height = height / image_height\n",
    "            yolo_labels.append(f\"{label} {x_center:.6f} {y_center:.6f} {norm_width:.6f} {norm_height:.6f}\")\n",
    "\n",
    "    return yolo_labels\n",
    "\n",
    "# YOLO 라벨 저장 함수\n",
    "def save_yolo_labels(output_dir, bboxes, labels, size, names):\n",
    "    label_dir = os.path.join(output_dir, 'labels')\n",
    "\n",
    "    # 라벨 폴더가 존재하는지 확인하고, 없으면 새로 생성\n",
    "    if not os.path.exists(label_dir):\n",
    "        os.makedirs(label_dir)\n",
    "\n",
    "    for bbox, label, (w, h), name in zip(bboxes, labels, size, names):\n",
    "        yolo_labels = convert_to_yolo_format(bbox, label, w, h)\n",
    "\n",
    "        txt_file_path = os.path.join(label_dir, f\"{name}.txt\")\n",
    "        with open(txt_file_path, 'w') as txt_file:\n",
    "            for yolo_data in yolo_labels:\n",
    "                txt_file.write(f\"{yolo_data}\\n\")\n",
    "\n",
    "        # 디버깅 로그 추가\n",
    "        print(f\"[INFO] Saved YOLO label: {txt_file_path} (bbox count: {len(bbox)})\")\n",
    "\n",
    "# 이미지 복사 및 라벨 저장 작업을 한 번만 처리하도록 수정\n",
    "def process_data(output_dir, data, bboxes, labels, sizes, names):\n",
    "    \n",
    "    copy_images(output_dir, data)  # 이미지 복사\n",
    "    save_yolo_labels(output_dir, bboxes, labels, sizes, names)  # YOLO 라벨 저장\n",
    "\n",
    "# 디렉토리 설정\n",
    "train_output_dir = '.\\\\train'\n",
    "valid_output_dir = '.\\\\valid'\n",
    "test_output_dir = '.\\\\test'\n",
    "prepare_output_dir(train_output_dir)\n",
    "prepare_output_dir(valid_output_dir)\n",
    "prepare_output_dir(test_output_dir)\n",
    "\n",
    "# 이미지 및 라벨 처리\n",
    "process_data(train_output_dir, train_data_80_ok, train_ok_bboxes, labels_train_ok, train_sizes_ok, train_names_ok)\n",
    "process_data(test_output_dir, test_data_ok, test_ok_bboxes, label_test_ok, test_sizes_ok, test_names_ok)\n",
    "process_data(valid_output_dir, valid_data_ok, valid_ok_bboxes, labels_valid_ok, valid_sizes_ok, valid_names_ok)\n",
    "\n",
    "process_data(train_output_dir, train_data_80_fault, train_fault_bboxes, labels_train_fault, train_sizes_fault, train_names_fault)\n",
    "process_data(test_output_dir, test_data_fault, test_fault_bboxes, label_test_fault, test_sizes_fault, test_names_fault)\n",
    "process_data(valid_output_dir, valid_data_fault, valid_fault_bboxes, labels_valid_fault, valid_sizes_fault, valid_names_fault)\n"
   ]
  },
  {
   "cell_type": "markdown",
   "metadata": {},
   "source": [
    "## 모델 코드 작성"
   ]
  },
  {
   "cell_type": "code",
   "execution_count": 12,
   "metadata": {},
   "outputs": [
    {
     "name": "stdout",
     "output_type": "stream",
     "text": [
      "YAML 파일이 성공적으로 생성되었습니다.\n"
     ]
    }
   ],
   "source": [
    "import yaml\n",
    "\n",
    "# YAML 파일에 저장할 데이터\n",
    "yaml_data = {\n",
    "    \"train\": \"C:/Users/dawoo/desktop/sf7/coding/pytorch/project/train/images\",\n",
    "    \"test\": \"C:/Users/dawoo/desktop/sf7/coding/pytorch/project/test/images\",\n",
    "    \"val\": \"C:/Users/dawoo/desktop/sf7/coding/pytorch/project/valid/images\",\n",
    "    \"nc\": 2,\n",
    "    \"names\": [\"ok\", \"faulty\",],\n",
    "    \"augment\": {\n",
    "        \"flipud\": 0.3,\n",
    "        \"fliplr\": 0.3,\n",
    "        \"rotate\": 5,  # 회전 범위 줄이기\n",
    "        \"mosaic\": 0.5,  # 모자이크 비율 줄이기\n",
    "        \"translate\": 0.2,\n",
    "        \"scale\": 0.7,\n",
    "        \"random_shadow\": 0.4,  # 그림자 효과를 증가시켜 밝기 변화에 강하게\n",
    "        \"random_fog\": 0.3,  # 안개 효과를 늘려서 다양한 시나리오 학습\n",
    "        \"crop\": 0.3,  # 잘라내기 영역을 증가시켜 모델의 일반화 성능 향상\n",
    "        \"brightness\": 0.4,  # 밝기 변화 범위 증가\n",
    "        \"contrast\": 0.4,  # 대비 범위 증가\n",
    "        \"sharpen\": 0.3,  # 이미지 샤프닝 강도를 높임\n",
    "        \"mixup\": 0.2,  # mixup 비율 줄이기\n",
    "        \"cutmix\": 0.1,  # cutmix 비율 줄이기\n",
    "        \"motion_blur\": 0.2,  # motion blur 적용 강도 줄이기\n",
    "        \"gauss_noise\": 0.2,  # 노이즈 강도 줄이기\n",
    "        \"hsv_h\": 0.015,  # 색조 변화 증가\n",
    "        \"hsv_s\": 0.7,  # 채도 변화 증가\n",
    "        \"hsv_v\": 0.4,  # 명도 변화 증가\n",
    "        \"shear\": 20,  # 전단 변환 강도 증가\n",
    "        \"perspective\": 0.2,  # 투시 변환 추가\n",
    "    },\n",
    "}\n",
    "\n",
    "# YAML 파일 생성\n",
    "with open(\"data.yaml\", \"w\") as yaml_file:\n",
    "    yaml.dump(yaml_data, yaml_file, default_flow_style=False, sort_keys=False)\n",
    "\n",
    "print(\"YAML 파일이 성공적으로 생성되었습니다.\")"
   ]
  },
  {
   "cell_type": "code",
   "execution_count": 2,
   "metadata": {},
   "outputs": [
    {
     "name": "stdout",
     "output_type": "stream",
     "text": [
      "Ultralytics 8.3.65  Python-3.12.0 torch-2.5.1+cu118 CUDA:0 (NVIDIA GeForce RTX 3050 Laptop GPU, 4096MiB)\n",
      "\u001b[34m\u001b[1mengine\\trainer: \u001b[0mtask=detect, mode=train, model=yolo11s.pt, data=data.yaml, epochs=50, time=None, patience=10, batch=12, imgsz=640, save=True, save_period=-1, cache=True, device=cuda, workers=4, project=C:\\Users\\dawoo\\Desktop\\SF7\\coding\\PYTORCH\\project\\detect, name=model_8_s_200_14_51215, exist_ok=False, pretrained=True, optimizer=Adam, verbose=True, seed=0, deterministic=True, single_cls=False, rect=False, cos_lr=True, close_mosaic=10, resume=False, amp=True, fraction=1.0, profile=False, freeze=None, multi_scale=False, overlap_mask=True, mask_ratio=4, dropout=0.0, val=True, split=val, save_json=False, save_hybrid=False, conf=0.5, iou=0.7, max_det=300, half=False, dnn=False, plots=True, source=None, vid_stride=1, stream_buffer=False, visualize=False, augment=True, agnostic_nms=False, classes=None, retina_masks=False, embed=None, show=False, save_frames=False, save_txt=False, save_conf=False, save_crop=False, show_labels=True, show_conf=True, show_boxes=True, line_width=None, format=torchscript, keras=False, optimize=False, int8=False, dynamic=False, simplify=True, opset=None, workspace=None, nms=False, lr0=0.0001, lrf=0.1, momentum=0.6, weight_decay=0.0005, warmup_epochs=3.0, warmup_momentum=0.8, warmup_bias_lr=0.1, box=7.5, cls=0.5, dfl=1.5, pose=12.0, kobj=1.0, nbs=64, hsv_h=0.015, hsv_s=0.7, hsv_v=0.4, degrees=0.0, translate=0.1, scale=0.5, shear=0.0, perspective=0.0, flipud=0.0, fliplr=0.5, bgr=0.0, mosaic=1.0, mixup=0.0, copy_paste=0.0, copy_paste_mode=flip, auto_augment=randaugment, erasing=0.4, crop_fraction=1.0, cfg=None, tracker=botsort.yaml, save_dir=C:\\Users\\dawoo\\Desktop\\SF7\\coding\\PYTORCH\\project\\detect\\model_8_s_200_14_51215\n",
      "Overriding model.yaml nc=80 with nc=2\n",
      "\n",
      "                   from  n    params  module                                       arguments                     \n",
      "  0                  -1  1       928  ultralytics.nn.modules.conv.Conv             [3, 32, 3, 2]                 \n",
      "  1                  -1  1     18560  ultralytics.nn.modules.conv.Conv             [32, 64, 3, 2]                \n",
      "  2                  -1  1     26080  ultralytics.nn.modules.block.C3k2            [64, 128, 1, False, 0.25]     \n",
      "  3                  -1  1    147712  ultralytics.nn.modules.conv.Conv             [128, 128, 3, 2]              \n",
      "  4                  -1  1    103360  ultralytics.nn.modules.block.C3k2            [128, 256, 1, False, 0.25]    \n",
      "  5                  -1  1    590336  ultralytics.nn.modules.conv.Conv             [256, 256, 3, 2]              \n",
      "  6                  -1  1    346112  ultralytics.nn.modules.block.C3k2            [256, 256, 1, True]           \n",
      "  7                  -1  1   1180672  ultralytics.nn.modules.conv.Conv             [256, 512, 3, 2]              \n",
      "  8                  -1  1   1380352  ultralytics.nn.modules.block.C3k2            [512, 512, 1, True]           \n",
      "  9                  -1  1    656896  ultralytics.nn.modules.block.SPPF            [512, 512, 5]                 \n",
      " 10                  -1  1    990976  ultralytics.nn.modules.block.C2PSA           [512, 512, 1]                 \n",
      " 11                  -1  1         0  torch.nn.modules.upsampling.Upsample         [None, 2, 'nearest']          \n",
      " 12             [-1, 6]  1         0  ultralytics.nn.modules.conv.Concat           [1]                           \n",
      " 13                  -1  1    443776  ultralytics.nn.modules.block.C3k2            [768, 256, 1, False]          \n",
      " 14                  -1  1         0  torch.nn.modules.upsampling.Upsample         [None, 2, 'nearest']          \n",
      " 15             [-1, 4]  1         0  ultralytics.nn.modules.conv.Concat           [1]                           \n",
      " 16                  -1  1    127680  ultralytics.nn.modules.block.C3k2            [512, 128, 1, False]          \n",
      " 17                  -1  1    147712  ultralytics.nn.modules.conv.Conv             [128, 128, 3, 2]              \n",
      " 18            [-1, 13]  1         0  ultralytics.nn.modules.conv.Concat           [1]                           \n",
      " 19                  -1  1    345472  ultralytics.nn.modules.block.C3k2            [384, 256, 1, False]          \n",
      " 20                  -1  1    590336  ultralytics.nn.modules.conv.Conv             [256, 256, 3, 2]              \n",
      " 21            [-1, 10]  1         0  ultralytics.nn.modules.conv.Concat           [1]                           \n",
      " 22                  -1  1   1511424  ultralytics.nn.modules.block.C3k2            [768, 512, 1, True]           \n",
      " 23        [16, 19, 22]  1    820182  ultralytics.nn.modules.head.Detect           [2, [128, 256, 512]]          \n",
      "YOLO11s summary: 319 layers, 9,428,566 parameters, 9,428,550 gradients, 21.6 GFLOPs\n",
      "\n",
      "Transferred 493/499 items from pretrained weights\n",
      "Freezing layer 'model.23.dfl.conv.weight'\n",
      "\u001b[34m\u001b[1mAMP: \u001b[0mrunning Automatic Mixed Precision (AMP) checks...\n",
      "\u001b[34m\u001b[1mAMP: \u001b[0mchecks passed \n"
     ]
    },
    {
     "name": "stderr",
     "output_type": "stream",
     "text": [
      "\u001b[34m\u001b[1mtrain: \u001b[0mScanning C:\\Users\\dawoo\\Desktop\\SF7\\coding\\PYTORCH\\project\\train\\labels.cache... 576 images, 0 backgrounds, 0 corrupt: 100%|██████████| 576/576 [00:00<?, ?it/s]"
     ]
    },
    {
     "name": "stdout",
     "output_type": "stream",
     "text": [
      "\u001b[34m\u001b[1mtrain: \u001b[0mWARNING  C:\\Users\\dawoo\\Desktop\\SF7\\coding\\PYTORCH\\project\\train\\images\\205_101_10_0232027f-bfd3-460b-b92d-b14537879e9a.jpg: corrupt JPEG restored and saved\n",
      "\u001b[34m\u001b[1mtrain: \u001b[0mWARNING  C:\\Users\\dawoo\\Desktop\\SF7\\coding\\PYTORCH\\project\\train\\images\\205_101_10_04de214e-8fa1-40c6-a325-df2e612a893f.jpg: corrupt JPEG restored and saved\n",
      "\u001b[34m\u001b[1mtrain: \u001b[0mWARNING  C:\\Users\\dawoo\\Desktop\\SF7\\coding\\PYTORCH\\project\\train\\images\\205_101_10_078792b9-3bf4-477b-9c7b-6a8df1ff0b6f.jpg: corrupt JPEG restored and saved\n",
      "\u001b[34m\u001b[1mtrain: \u001b[0mWARNING  C:\\Users\\dawoo\\Desktop\\SF7\\coding\\PYTORCH\\project\\train\\images\\205_101_10_091a30a5-e96b-40ce-a150-4c926552cd1d.jpg: corrupt JPEG restored and saved\n",
      "\u001b[34m\u001b[1mtrain: \u001b[0mWARNING  C:\\Users\\dawoo\\Desktop\\SF7\\coding\\PYTORCH\\project\\train\\images\\205_101_10_095b39d0-c431-42bf-93ca-88d57c5cf6d6.jpg: corrupt JPEG restored and saved\n",
      "\u001b[34m\u001b[1mtrain: \u001b[0mWARNING  C:\\Users\\dawoo\\Desktop\\SF7\\coding\\PYTORCH\\project\\train\\images\\205_101_10_0ad6dedd-808a-485d-bdc4-3e30743c41d8.jpg: corrupt JPEG restored and saved\n",
      "\u001b[34m\u001b[1mtrain: \u001b[0mWARNING  C:\\Users\\dawoo\\Desktop\\SF7\\coding\\PYTORCH\\project\\train\\images\\205_101_10_0bcf452c-bac3-4569-bb70-3a4131c1bc6c.jpg: corrupt JPEG restored and saved\n",
      "\u001b[34m\u001b[1mtrain: \u001b[0mWARNING  C:\\Users\\dawoo\\Desktop\\SF7\\coding\\PYTORCH\\project\\train\\images\\205_101_10_0c629b1b-9e2c-475c-831f-819dad04940b.jpg: corrupt JPEG restored and saved\n",
      "\u001b[34m\u001b[1mtrain: \u001b[0mWARNING  C:\\Users\\dawoo\\Desktop\\SF7\\coding\\PYTORCH\\project\\train\\images\\205_101_10_0fb1d2a2-7743-49d3-bc0b-654a380894ce.jpg: corrupt JPEG restored and saved\n",
      "\u001b[34m\u001b[1mtrain: \u001b[0mWARNING  C:\\Users\\dawoo\\Desktop\\SF7\\coding\\PYTORCH\\project\\train\\images\\205_101_10_13737ec9-9526-4428-b72f-7718a24f792c.jpg: corrupt JPEG restored and saved\n",
      "\u001b[34m\u001b[1mtrain: \u001b[0mWARNING  C:\\Users\\dawoo\\Desktop\\SF7\\coding\\PYTORCH\\project\\train\\images\\205_101_10_176d7379-48c7-40a3-9434-116d1160b6a9.jpg: corrupt JPEG restored and saved\n",
      "\u001b[34m\u001b[1mtrain: \u001b[0mWARNING  C:\\Users\\dawoo\\Desktop\\SF7\\coding\\PYTORCH\\project\\train\\images\\205_101_10_19316aaa-afb3-472b-bd66-493692e377d2.jpg: corrupt JPEG restored and saved\n",
      "\u001b[34m\u001b[1mtrain: \u001b[0mWARNING  C:\\Users\\dawoo\\Desktop\\SF7\\coding\\PYTORCH\\project\\train\\images\\205_101_10_1a0711f3-458b-4652-8af5-ad5803f8ed01.jpg: corrupt JPEG restored and saved\n",
      "\u001b[34m\u001b[1mtrain: \u001b[0mWARNING  C:\\Users\\dawoo\\Desktop\\SF7\\coding\\PYTORCH\\project\\train\\images\\205_101_10_1c216083-dbb0-4f4c-ad1a-286b29f3fd26.jpg: corrupt JPEG restored and saved\n",
      "\u001b[34m\u001b[1mtrain: \u001b[0mWARNING  C:\\Users\\dawoo\\Desktop\\SF7\\coding\\PYTORCH\\project\\train\\images\\205_101_10_1d98b04c-ef4e-4351-b26e-a878b43b5306.jpg: corrupt JPEG restored and saved\n",
      "\u001b[34m\u001b[1mtrain: \u001b[0mWARNING  C:\\Users\\dawoo\\Desktop\\SF7\\coding\\PYTORCH\\project\\train\\images\\205_101_10_1e22b1e5-b238-491a-84c6-6cd76a988654.jpg: corrupt JPEG restored and saved\n",
      "\u001b[34m\u001b[1mtrain: \u001b[0mWARNING  C:\\Users\\dawoo\\Desktop\\SF7\\coding\\PYTORCH\\project\\train\\images\\205_101_10_220216bc-b949-4b39-8928-e4f0ab4cf2cb.jpg: corrupt JPEG restored and saved\n",
      "\u001b[34m\u001b[1mtrain: \u001b[0mWARNING  C:\\Users\\dawoo\\Desktop\\SF7\\coding\\PYTORCH\\project\\train\\images\\205_101_10_220c7621-5df5-4cba-a356-3707c4cf39db.jpg: corrupt JPEG restored and saved\n",
      "\u001b[34m\u001b[1mtrain: \u001b[0mWARNING  C:\\Users\\dawoo\\Desktop\\SF7\\coding\\PYTORCH\\project\\train\\images\\205_101_10_2274fee9-b278-4802-a01b-cc5d0946e01b.jpg: corrupt JPEG restored and saved\n",
      "\u001b[34m\u001b[1mtrain: \u001b[0mWARNING  C:\\Users\\dawoo\\Desktop\\SF7\\coding\\PYTORCH\\project\\train\\images\\205_101_10_2661392e-4c1c-481d-9676-0716371f83d3.jpg: corrupt JPEG restored and saved\n",
      "\u001b[34m\u001b[1mtrain: \u001b[0mWARNING  C:\\Users\\dawoo\\Desktop\\SF7\\coding\\PYTORCH\\project\\train\\images\\205_101_10_27c201c3-fcbe-418c-af51-92079937fbdf.jpg: corrupt JPEG restored and saved\n",
      "\u001b[34m\u001b[1mtrain: \u001b[0mWARNING  C:\\Users\\dawoo\\Desktop\\SF7\\coding\\PYTORCH\\project\\train\\images\\205_101_10_27d9955e-f4c8-484b-b602-25a3a06a802e.jpg: corrupt JPEG restored and saved\n",
      "\u001b[34m\u001b[1mtrain: \u001b[0mWARNING  C:\\Users\\dawoo\\Desktop\\SF7\\coding\\PYTORCH\\project\\train\\images\\205_101_10_29469341-2c1e-4fb0-9a89-3b3b26bfa45f.jpg: corrupt JPEG restored and saved\n",
      "\u001b[34m\u001b[1mtrain: \u001b[0mWARNING  C:\\Users\\dawoo\\Desktop\\SF7\\coding\\PYTORCH\\project\\train\\images\\205_101_10_2add47c0-129d-4f1f-8f2b-fbb9efb299df.jpg: corrupt JPEG restored and saved\n",
      "\u001b[34m\u001b[1mtrain: \u001b[0mWARNING  C:\\Users\\dawoo\\Desktop\\SF7\\coding\\PYTORCH\\project\\train\\images\\205_101_10_2b30f55d-9d1c-4175-b02f-6af66e8ab033.jpg: corrupt JPEG restored and saved\n",
      "\u001b[34m\u001b[1mtrain: \u001b[0mWARNING  C:\\Users\\dawoo\\Desktop\\SF7\\coding\\PYTORCH\\project\\train\\images\\205_101_10_2c4c4752-2a83-42d5-a433-3ba04e479c78.jpg: corrupt JPEG restored and saved\n",
      "\u001b[34m\u001b[1mtrain: \u001b[0mWARNING  C:\\Users\\dawoo\\Desktop\\SF7\\coding\\PYTORCH\\project\\train\\images\\205_101_10_2cc7a8df-9a8b-48ec-856a-b85a2bd783b8.jpg: corrupt JPEG restored and saved\n",
      "\u001b[34m\u001b[1mtrain: \u001b[0mWARNING  C:\\Users\\dawoo\\Desktop\\SF7\\coding\\PYTORCH\\project\\train\\images\\205_101_10_2d0fe052-6dc0-4e75-b4a7-b868d9adda65.jpg: corrupt JPEG restored and saved\n",
      "\u001b[34m\u001b[1mtrain: \u001b[0mWARNING  C:\\Users\\dawoo\\Desktop\\SF7\\coding\\PYTORCH\\project\\train\\images\\205_101_10_30b04c66-0351-41b8-b0e8-c0dc8a47a5aa.jpg: corrupt JPEG restored and saved\n",
      "\u001b[34m\u001b[1mtrain: \u001b[0mWARNING  C:\\Users\\dawoo\\Desktop\\SF7\\coding\\PYTORCH\\project\\train\\images\\205_101_10_31117839-200a-4bbc-95de-5f1038a82222.jpg: corrupt JPEG restored and saved\n",
      "\u001b[34m\u001b[1mtrain: \u001b[0mWARNING  C:\\Users\\dawoo\\Desktop\\SF7\\coding\\PYTORCH\\project\\train\\images\\205_101_10_3221c976-312a-4228-8e2b-128832a13066.jpg: corrupt JPEG restored and saved\n",
      "\u001b[34m\u001b[1mtrain: \u001b[0mWARNING  C:\\Users\\dawoo\\Desktop\\SF7\\coding\\PYTORCH\\project\\train\\images\\205_101_10_33752b96-31ac-47c2-be1a-229bd6714c30.jpg: corrupt JPEG restored and saved\n",
      "\u001b[34m\u001b[1mtrain: \u001b[0mWARNING  C:\\Users\\dawoo\\Desktop\\SF7\\coding\\PYTORCH\\project\\train\\images\\205_101_10_338f596c-6ea2-4446-bba1-e063d291e3f0.jpg: corrupt JPEG restored and saved\n",
      "\u001b[34m\u001b[1mtrain: \u001b[0mWARNING  C:\\Users\\dawoo\\Desktop\\SF7\\coding\\PYTORCH\\project\\train\\images\\205_101_10_345105a9-3ed1-4112-9554-8cc76d8351bb.jpg: corrupt JPEG restored and saved\n",
      "\u001b[34m\u001b[1mtrain: \u001b[0mWARNING  C:\\Users\\dawoo\\Desktop\\SF7\\coding\\PYTORCH\\project\\train\\images\\205_101_10_34da6fdb-6a14-47e3-9382-14bbb53ba7f1.jpg: corrupt JPEG restored and saved\n",
      "\u001b[34m\u001b[1mtrain: \u001b[0mWARNING  C:\\Users\\dawoo\\Desktop\\SF7\\coding\\PYTORCH\\project\\train\\images\\205_101_10_353f142e-9c60-4831-8a05-5d8ca0122bd8.jpg: corrupt JPEG restored and saved\n",
      "\u001b[34m\u001b[1mtrain: \u001b[0mWARNING  C:\\Users\\dawoo\\Desktop\\SF7\\coding\\PYTORCH\\project\\train\\images\\205_101_10_375c76af-45f4-4a56-ba61-bdf3a35d1f16.jpg: corrupt JPEG restored and saved\n",
      "\u001b[34m\u001b[1mtrain: \u001b[0mWARNING  C:\\Users\\dawoo\\Desktop\\SF7\\coding\\PYTORCH\\project\\train\\images\\205_101_10_386c6c2d-b126-4b53-8619-9541d3aa5070.jpg: corrupt JPEG restored and saved\n",
      "\u001b[34m\u001b[1mtrain: \u001b[0mWARNING  C:\\Users\\dawoo\\Desktop\\SF7\\coding\\PYTORCH\\project\\train\\images\\205_101_10_38894396-a6f0-40c5-82f2-333f888aa45d.jpg: corrupt JPEG restored and saved\n",
      "\u001b[34m\u001b[1mtrain: \u001b[0mWARNING  C:\\Users\\dawoo\\Desktop\\SF7\\coding\\PYTORCH\\project\\train\\images\\205_101_10_3897323c-8735-4b7f-8ca1-88fda16f7203.jpg: corrupt JPEG restored and saved\n",
      "\u001b[34m\u001b[1mtrain: \u001b[0mWARNING  C:\\Users\\dawoo\\Desktop\\SF7\\coding\\PYTORCH\\project\\train\\images\\205_101_10_390e6315-b6e7-4523-a0fd-da57f6c7b383.jpg: corrupt JPEG restored and saved\n",
      "\u001b[34m\u001b[1mtrain: \u001b[0mWARNING  C:\\Users\\dawoo\\Desktop\\SF7\\coding\\PYTORCH\\project\\train\\images\\205_101_10_3a52135b-fda8-4275-9141-f8edbf170c38.jpg: corrupt JPEG restored and saved\n",
      "\u001b[34m\u001b[1mtrain: \u001b[0mWARNING  C:\\Users\\dawoo\\Desktop\\SF7\\coding\\PYTORCH\\project\\train\\images\\205_101_10_3b53674e-95d7-4b13-8950-9e91c993228c.jpg: corrupt JPEG restored and saved\n",
      "\u001b[34m\u001b[1mtrain: \u001b[0mWARNING  C:\\Users\\dawoo\\Desktop\\SF7\\coding\\PYTORCH\\project\\train\\images\\205_101_10_3bdd5245-0593-4f41-886f-67d72406d70a.jpg: corrupt JPEG restored and saved\n",
      "\u001b[34m\u001b[1mtrain: \u001b[0mWARNING  C:\\Users\\dawoo\\Desktop\\SF7\\coding\\PYTORCH\\project\\train\\images\\205_101_10_3be1e04f-b4c7-4170-b195-61a597c0c26d.jpg: corrupt JPEG restored and saved\n",
      "\u001b[34m\u001b[1mtrain: \u001b[0mWARNING  C:\\Users\\dawoo\\Desktop\\SF7\\coding\\PYTORCH\\project\\train\\images\\205_101_10_3c51b106-893a-4291-93a7-5dafefb5f1bd.jpg: corrupt JPEG restored and saved\n",
      "\u001b[34m\u001b[1mtrain: \u001b[0mWARNING  C:\\Users\\dawoo\\Desktop\\SF7\\coding\\PYTORCH\\project\\train\\images\\205_101_10_3e1ba5e1-eaa5-4dcb-a088-67667d32c221.jpg: corrupt JPEG restored and saved\n",
      "\u001b[34m\u001b[1mtrain: \u001b[0mWARNING  C:\\Users\\dawoo\\Desktop\\SF7\\coding\\PYTORCH\\project\\train\\images\\205_101_10_3e836b3e-fc9d-4e67-9006-07104136c824.jpg: corrupt JPEG restored and saved\n",
      "\u001b[34m\u001b[1mtrain: \u001b[0mWARNING  C:\\Users\\dawoo\\Desktop\\SF7\\coding\\PYTORCH\\project\\train\\images\\205_101_10_41651f41-140a-4c32-a8e2-4cda37dbc98a.jpg: corrupt JPEG restored and saved\n",
      "\u001b[34m\u001b[1mtrain: \u001b[0mWARNING  C:\\Users\\dawoo\\Desktop\\SF7\\coding\\PYTORCH\\project\\train\\images\\205_101_10_421f6619-9837-4f99-8aa1-37ccf2708bb7.jpg: corrupt JPEG restored and saved\n",
      "\u001b[34m\u001b[1mtrain: \u001b[0mWARNING  C:\\Users\\dawoo\\Desktop\\SF7\\coding\\PYTORCH\\project\\train\\images\\205_101_10_426a0c25-018d-44e8-aa87-9b4252535b92.jpg: corrupt JPEG restored and saved\n",
      "\u001b[34m\u001b[1mtrain: \u001b[0mWARNING  C:\\Users\\dawoo\\Desktop\\SF7\\coding\\PYTORCH\\project\\train\\images\\205_101_10_43a320a2-4923-43e8-9abc-4c616f6ad0f8.jpg: corrupt JPEG restored and saved\n",
      "\u001b[34m\u001b[1mtrain: \u001b[0mWARNING  C:\\Users\\dawoo\\Desktop\\SF7\\coding\\PYTORCH\\project\\train\\images\\205_101_10_459081d6-ec8d-4b78-b09e-3fe5364504bd.jpg: corrupt JPEG restored and saved\n",
      "\u001b[34m\u001b[1mtrain: \u001b[0mWARNING  C:\\Users\\dawoo\\Desktop\\SF7\\coding\\PYTORCH\\project\\train\\images\\205_101_10_477888f2-3969-42df-aaff-2e86981c4a42.jpg: corrupt JPEG restored and saved\n",
      "\u001b[34m\u001b[1mtrain: \u001b[0mWARNING  C:\\Users\\dawoo\\Desktop\\SF7\\coding\\PYTORCH\\project\\train\\images\\205_101_10_480a2564-d2f2-47a1-8de5-2d0c4a4d9d63.jpg: corrupt JPEG restored and saved\n",
      "\u001b[34m\u001b[1mtrain: \u001b[0mWARNING  C:\\Users\\dawoo\\Desktop\\SF7\\coding\\PYTORCH\\project\\train\\images\\205_101_10_4a4ecf3a-9af8-431b-be57-93477ce17ae5.jpg: corrupt JPEG restored and saved\n",
      "\u001b[34m\u001b[1mtrain: \u001b[0mWARNING  C:\\Users\\dawoo\\Desktop\\SF7\\coding\\PYTORCH\\project\\train\\images\\205_101_10_4e372ab8-4642-4f47-8766-1dd2ff186f14.jpg: corrupt JPEG restored and saved\n",
      "\u001b[34m\u001b[1mtrain: \u001b[0mWARNING  C:\\Users\\dawoo\\Desktop\\SF7\\coding\\PYTORCH\\project\\train\\images\\205_101_10_4f60ffc9-b24b-464a-bab4-ecb3769fc867.jpg: corrupt JPEG restored and saved\n",
      "\u001b[34m\u001b[1mtrain: \u001b[0mWARNING  C:\\Users\\dawoo\\Desktop\\SF7\\coding\\PYTORCH\\project\\train\\images\\205_101_10_4ff37b00-9d9a-4175-9f19-5967dd6f0586.jpg: corrupt JPEG restored and saved\n",
      "\u001b[34m\u001b[1mtrain: \u001b[0mWARNING  C:\\Users\\dawoo\\Desktop\\SF7\\coding\\PYTORCH\\project\\train\\images\\205_101_10_50dc330d-979e-4a11-8106-216280bfb9d3.jpg: corrupt JPEG restored and saved\n",
      "\u001b[34m\u001b[1mtrain: \u001b[0mWARNING  C:\\Users\\dawoo\\Desktop\\SF7\\coding\\PYTORCH\\project\\train\\images\\205_101_10_53221a11-0235-4271-b9ce-08a3d8e316b8.jpg: corrupt JPEG restored and saved\n",
      "\u001b[34m\u001b[1mtrain: \u001b[0mWARNING  C:\\Users\\dawoo\\Desktop\\SF7\\coding\\PYTORCH\\project\\train\\images\\205_101_10_55b8c862-0bd2-48c2-99bb-75be494662a0.jpg: corrupt JPEG restored and saved\n",
      "\u001b[34m\u001b[1mtrain: \u001b[0mWARNING  C:\\Users\\dawoo\\Desktop\\SF7\\coding\\PYTORCH\\project\\train\\images\\205_101_10_57257c5b-ae2a-4bee-a71f-f6f16c7af2c3.jpg: corrupt JPEG restored and saved\n",
      "\u001b[34m\u001b[1mtrain: \u001b[0mWARNING  C:\\Users\\dawoo\\Desktop\\SF7\\coding\\PYTORCH\\project\\train\\images\\205_101_10_57b96bf8-4fbe-47cd-973c-657709942847.jpg: corrupt JPEG restored and saved\n",
      "\u001b[34m\u001b[1mtrain: \u001b[0mWARNING  C:\\Users\\dawoo\\Desktop\\SF7\\coding\\PYTORCH\\project\\train\\images\\205_101_10_58dcc91f-161c-4155-9af7-d6d573a1214c.jpg: corrupt JPEG restored and saved\n",
      "\u001b[34m\u001b[1mtrain: \u001b[0mWARNING  C:\\Users\\dawoo\\Desktop\\SF7\\coding\\PYTORCH\\project\\train\\images\\205_101_10_592278aa-e84a-4dcc-ac25-3b9751ce8151.jpg: corrupt JPEG restored and saved\n",
      "\u001b[34m\u001b[1mtrain: \u001b[0mWARNING  C:\\Users\\dawoo\\Desktop\\SF7\\coding\\PYTORCH\\project\\train\\images\\205_101_10_5c92d368-3473-43aa-9848-181e4fa45b25.jpg: corrupt JPEG restored and saved\n",
      "\u001b[34m\u001b[1mtrain: \u001b[0mWARNING  C:\\Users\\dawoo\\Desktop\\SF7\\coding\\PYTORCH\\project\\train\\images\\205_101_10_5ce97eb3-db17-42f6-9b11-2169ce7a3ded.jpg: corrupt JPEG restored and saved\n",
      "\u001b[34m\u001b[1mtrain: \u001b[0mWARNING  C:\\Users\\dawoo\\Desktop\\SF7\\coding\\PYTORCH\\project\\train\\images\\205_101_10_5db122f3-3852-4d1c-a402-7d8a69432086.jpg: corrupt JPEG restored and saved\n",
      "\u001b[34m\u001b[1mtrain: \u001b[0mWARNING  C:\\Users\\dawoo\\Desktop\\SF7\\coding\\PYTORCH\\project\\train\\images\\205_101_10_5e233ede-76b0-4498-9f66-1bfb6093e1eb.jpg: corrupt JPEG restored and saved\n",
      "\u001b[34m\u001b[1mtrain: \u001b[0mWARNING  C:\\Users\\dawoo\\Desktop\\SF7\\coding\\PYTORCH\\project\\train\\images\\205_101_10_60da5008-10b2-40b9-a0f6-e7dc22d2f11c.jpg: corrupt JPEG restored and saved\n",
      "\u001b[34m\u001b[1mtrain: \u001b[0mWARNING  C:\\Users\\dawoo\\Desktop\\SF7\\coding\\PYTORCH\\project\\train\\images\\205_101_10_61705547-ba91-46a5-82f1-9e04c15cc89f.jpg: corrupt JPEG restored and saved\n",
      "\u001b[34m\u001b[1mtrain: \u001b[0mWARNING  C:\\Users\\dawoo\\Desktop\\SF7\\coding\\PYTORCH\\project\\train\\images\\205_101_10_630e6c7a-6ab2-48ea-a81d-e28903803a31.jpg: corrupt JPEG restored and saved\n",
      "\u001b[34m\u001b[1mtrain: \u001b[0mWARNING  C:\\Users\\dawoo\\Desktop\\SF7\\coding\\PYTORCH\\project\\train\\images\\205_101_10_68de1d22-0e4b-47bb-875b-ad016d663e79.jpg: corrupt JPEG restored and saved\n",
      "\u001b[34m\u001b[1mtrain: \u001b[0mWARNING  C:\\Users\\dawoo\\Desktop\\SF7\\coding\\PYTORCH\\project\\train\\images\\205_101_10_7078ef78-2397-4ae6-af72-38ad4620b222.jpg: corrupt JPEG restored and saved\n",
      "\u001b[34m\u001b[1mtrain: \u001b[0mWARNING  C:\\Users\\dawoo\\Desktop\\SF7\\coding\\PYTORCH\\project\\train\\images\\205_101_10_724dc36a-2eb2-49ac-a869-8b9d82eb00fc.jpg: corrupt JPEG restored and saved\n",
      "\u001b[34m\u001b[1mtrain: \u001b[0mWARNING  C:\\Users\\dawoo\\Desktop\\SF7\\coding\\PYTORCH\\project\\train\\images\\205_101_10_734f6f8c-904d-4d85-a022-c64fb8b7baa4.jpg: corrupt JPEG restored and saved\n",
      "\u001b[34m\u001b[1mtrain: \u001b[0mWARNING  C:\\Users\\dawoo\\Desktop\\SF7\\coding\\PYTORCH\\project\\train\\images\\205_101_10_77f81171-97b4-4726-8648-dcc2318fc269.jpg: corrupt JPEG restored and saved\n",
      "\u001b[34m\u001b[1mtrain: \u001b[0mWARNING  C:\\Users\\dawoo\\Desktop\\SF7\\coding\\PYTORCH\\project\\train\\images\\205_101_10_7987712d-3a8b-47c7-8c13-47382bc07eaf.jpg: corrupt JPEG restored and saved\n",
      "\u001b[34m\u001b[1mtrain: \u001b[0mWARNING  C:\\Users\\dawoo\\Desktop\\SF7\\coding\\PYTORCH\\project\\train\\images\\205_101_10_79dceb93-0f52-48f1-a86a-63c1673d5a8d.jpg: corrupt JPEG restored and saved\n",
      "\u001b[34m\u001b[1mtrain: \u001b[0mWARNING  C:\\Users\\dawoo\\Desktop\\SF7\\coding\\PYTORCH\\project\\train\\images\\205_101_10_7e5fa3dd-c60d-43a0-8c60-9154e5c693f0.jpg: corrupt JPEG restored and saved\n",
      "\u001b[34m\u001b[1mtrain: \u001b[0mWARNING  C:\\Users\\dawoo\\Desktop\\SF7\\coding\\PYTORCH\\project\\train\\images\\205_101_10_873e4772-0c61-4436-81d5-28d642ac1546.jpg: corrupt JPEG restored and saved\n",
      "\u001b[34m\u001b[1mtrain: \u001b[0mWARNING  C:\\Users\\dawoo\\Desktop\\SF7\\coding\\PYTORCH\\project\\train\\images\\205_101_10_88f9ad15-6a5f-4523-a98e-b5cc5080b070.jpg: corrupt JPEG restored and saved\n",
      "\u001b[34m\u001b[1mtrain: \u001b[0mWARNING  C:\\Users\\dawoo\\Desktop\\SF7\\coding\\PYTORCH\\project\\train\\images\\205_101_10_8949e121-3b96-4750-b7ec-21b52ba1ea3e.jpg: corrupt JPEG restored and saved\n",
      "\u001b[34m\u001b[1mtrain: \u001b[0mWARNING  C:\\Users\\dawoo\\Desktop\\SF7\\coding\\PYTORCH\\project\\train\\images\\205_101_10_89f9c54c-a22b-4024-96d3-bca3759a7501.jpg: corrupt JPEG restored and saved\n",
      "\u001b[34m\u001b[1mtrain: \u001b[0mWARNING  C:\\Users\\dawoo\\Desktop\\SF7\\coding\\PYTORCH\\project\\train\\images\\205_101_10_8a03f9b6-9738-4ace-8f9f-3593ff7de2fc.jpg: corrupt JPEG restored and saved\n",
      "\u001b[34m\u001b[1mtrain: \u001b[0mWARNING  C:\\Users\\dawoo\\Desktop\\SF7\\coding\\PYTORCH\\project\\train\\images\\205_101_10_8a088ea1-1895-4667-a3b1-f9caf3d46b70.jpg: corrupt JPEG restored and saved\n",
      "\u001b[34m\u001b[1mtrain: \u001b[0mWARNING  C:\\Users\\dawoo\\Desktop\\SF7\\coding\\PYTORCH\\project\\train\\images\\205_101_10_8a9f1b60-345c-4bbb-b2ab-6fa02fcccec7.jpg: corrupt JPEG restored and saved\n",
      "\u001b[34m\u001b[1mtrain: \u001b[0mWARNING  C:\\Users\\dawoo\\Desktop\\SF7\\coding\\PYTORCH\\project\\train\\images\\205_101_10_8afb46e1-f09f-4548-8000-14f4c6538096.jpg: corrupt JPEG restored and saved\n",
      "\u001b[34m\u001b[1mtrain: \u001b[0mWARNING  C:\\Users\\dawoo\\Desktop\\SF7\\coding\\PYTORCH\\project\\train\\images\\205_101_10_8e6ab61f-8668-45e7-9612-958aea3c5820.jpg: corrupt JPEG restored and saved\n",
      "\u001b[34m\u001b[1mtrain: \u001b[0mWARNING  C:\\Users\\dawoo\\Desktop\\SF7\\coding\\PYTORCH\\project\\train\\images\\205_101_10_90d48c3b-18d7-4b14-a852-050f53f4bb5c.jpg: corrupt JPEG restored and saved\n",
      "\u001b[34m\u001b[1mtrain: \u001b[0mWARNING  C:\\Users\\dawoo\\Desktop\\SF7\\coding\\PYTORCH\\project\\train\\images\\205_101_10_943ffb80-b417-4276-8129-dafe4d9f386a.jpg: corrupt JPEG restored and saved\n",
      "\u001b[34m\u001b[1mtrain: \u001b[0mWARNING  C:\\Users\\dawoo\\Desktop\\SF7\\coding\\PYTORCH\\project\\train\\images\\205_101_10_944454e8-914f-4903-90e4-297dd297a410.jpg: corrupt JPEG restored and saved\n",
      "\u001b[34m\u001b[1mtrain: \u001b[0mWARNING  C:\\Users\\dawoo\\Desktop\\SF7\\coding\\PYTORCH\\project\\train\\images\\205_101_10_94a8e2bd-8409-4fda-8537-2b7651f952cb.jpg: corrupt JPEG restored and saved\n",
      "\u001b[34m\u001b[1mtrain: \u001b[0mWARNING  C:\\Users\\dawoo\\Desktop\\SF7\\coding\\PYTORCH\\project\\train\\images\\205_101_10_99dd8adb-a08e-4029-86df-daff43b6bd63.jpg: corrupt JPEG restored and saved\n",
      "\u001b[34m\u001b[1mtrain: \u001b[0mWARNING  C:\\Users\\dawoo\\Desktop\\SF7\\coding\\PYTORCH\\project\\train\\images\\205_101_10_9a2cf654-cd9f-4925-ba8f-57f7ab8ea927.jpg: corrupt JPEG restored and saved\n",
      "\u001b[34m\u001b[1mtrain: \u001b[0mWARNING  C:\\Users\\dawoo\\Desktop\\SF7\\coding\\PYTORCH\\project\\train\\images\\205_101_10_9a30c2bb-4b4f-4d9c-8827-2185bd042695.jpg: corrupt JPEG restored and saved\n",
      "\u001b[34m\u001b[1mtrain: \u001b[0mWARNING  C:\\Users\\dawoo\\Desktop\\SF7\\coding\\PYTORCH\\project\\train\\images\\205_101_10_9c4c0829-42fb-4b10-aac9-9002b49032da.jpg: corrupt JPEG restored and saved\n",
      "\u001b[34m\u001b[1mtrain: \u001b[0mWARNING  C:\\Users\\dawoo\\Desktop\\SF7\\coding\\PYTORCH\\project\\train\\images\\205_101_10_9c981fd1-08a7-41bd-8263-1afbd228a7ec.jpg: corrupt JPEG restored and saved\n",
      "\u001b[34m\u001b[1mtrain: \u001b[0mWARNING  C:\\Users\\dawoo\\Desktop\\SF7\\coding\\PYTORCH\\project\\train\\images\\205_101_10_9d0aafac-e7c3-4df5-83ba-1949f255d916.jpg: corrupt JPEG restored and saved\n",
      "\u001b[34m\u001b[1mtrain: \u001b[0mWARNING  C:\\Users\\dawoo\\Desktop\\SF7\\coding\\PYTORCH\\project\\train\\images\\205_101_10_9f195ebf-47c7-4648-868a-9e6e77c9af57.jpeg: corrupt JPEG restored and saved\n",
      "\u001b[34m\u001b[1mtrain: \u001b[0mWARNING  C:\\Users\\dawoo\\Desktop\\SF7\\coding\\PYTORCH\\project\\train\\images\\205_101_10_a276e504-f00e-4c4c-b600-251575d86114.jpg: corrupt JPEG restored and saved\n",
      "\u001b[34m\u001b[1mtrain: \u001b[0mWARNING  C:\\Users\\dawoo\\Desktop\\SF7\\coding\\PYTORCH\\project\\train\\images\\205_101_10_a5160ea8-e51a-4a13-a469-adbd8b311492.jpg: corrupt JPEG restored and saved\n",
      "\u001b[34m\u001b[1mtrain: \u001b[0mWARNING  C:\\Users\\dawoo\\Desktop\\SF7\\coding\\PYTORCH\\project\\train\\images\\205_101_10_ae4a32f5-36fc-4d04-a0e8-9f842a781e76.jpg: corrupt JPEG restored and saved\n",
      "\u001b[34m\u001b[1mtrain: \u001b[0mWARNING  C:\\Users\\dawoo\\Desktop\\SF7\\coding\\PYTORCH\\project\\train\\images\\205_101_10_af32d1a1-8352-4b12-8ba9-ac83c18934bc.jpg: corrupt JPEG restored and saved\n",
      "\u001b[34m\u001b[1mtrain: \u001b[0mWARNING  C:\\Users\\dawoo\\Desktop\\SF7\\coding\\PYTORCH\\project\\train\\images\\205_101_10_b0339a40-d429-4291-b583-e912044a28b8.jpg: corrupt JPEG restored and saved\n",
      "\u001b[34m\u001b[1mtrain: \u001b[0mWARNING  C:\\Users\\dawoo\\Desktop\\SF7\\coding\\PYTORCH\\project\\train\\images\\205_101_10_b3fa0be0-c509-431c-835f-0cad9717cf64.jpg: corrupt JPEG restored and saved\n",
      "\u001b[34m\u001b[1mtrain: \u001b[0mWARNING  C:\\Users\\dawoo\\Desktop\\SF7\\coding\\PYTORCH\\project\\train\\images\\205_101_10_b8832f35-c814-46c4-b452-77523bb7d538.jpg: corrupt JPEG restored and saved\n",
      "\u001b[34m\u001b[1mtrain: \u001b[0mWARNING  C:\\Users\\dawoo\\Desktop\\SF7\\coding\\PYTORCH\\project\\train\\images\\205_101_10_b88751f2-7fcb-4c5d-a7fb-14909c04c8da.jpg: corrupt JPEG restored and saved\n",
      "\u001b[34m\u001b[1mtrain: \u001b[0mWARNING  C:\\Users\\dawoo\\Desktop\\SF7\\coding\\PYTORCH\\project\\train\\images\\205_101_10_ba5b50af-8f89-4a64-aa78-4d5a6e6e92cb.jpg: corrupt JPEG restored and saved\n",
      "\u001b[34m\u001b[1mtrain: \u001b[0mWARNING  C:\\Users\\dawoo\\Desktop\\SF7\\coding\\PYTORCH\\project\\train\\images\\205_101_10_baf9b287-8cab-4c33-82c6-5ffc1eb21d8c.jpg: corrupt JPEG restored and saved\n",
      "\u001b[34m\u001b[1mtrain: \u001b[0mWARNING  C:\\Users\\dawoo\\Desktop\\SF7\\coding\\PYTORCH\\project\\train\\images\\205_101_10_bbcec1e2-8fc4-4af0-8e9e-767baff7f6bd.jpg: corrupt JPEG restored and saved\n",
      "\u001b[34m\u001b[1mtrain: \u001b[0mWARNING  C:\\Users\\dawoo\\Desktop\\SF7\\coding\\PYTORCH\\project\\train\\images\\205_101_10_bca621ad-2378-4b7a-926c-b2353c5ca88d.jpg: corrupt JPEG restored and saved\n",
      "\u001b[34m\u001b[1mtrain: \u001b[0mWARNING  C:\\Users\\dawoo\\Desktop\\SF7\\coding\\PYTORCH\\project\\train\\images\\205_101_10_beb121d6-3dc4-4c62-93f4-42d362d0d645.jpg: corrupt JPEG restored and saved\n",
      "\u001b[34m\u001b[1mtrain: \u001b[0mWARNING  C:\\Users\\dawoo\\Desktop\\SF7\\coding\\PYTORCH\\project\\train\\images\\205_101_10_bedf71aa-f7f1-4a61-8ed2-9232d370478e.jpg: corrupt JPEG restored and saved\n",
      "\u001b[34m\u001b[1mtrain: \u001b[0mWARNING  C:\\Users\\dawoo\\Desktop\\SF7\\coding\\PYTORCH\\project\\train\\images\\205_101_10_bf6fabc8-0a0e-439c-b794-c07c4f5385c1.jpg: corrupt JPEG restored and saved\n",
      "\u001b[34m\u001b[1mtrain: \u001b[0mWARNING  C:\\Users\\dawoo\\Desktop\\SF7\\coding\\PYTORCH\\project\\train\\images\\205_101_10_c2367b78-5e49-4a99-9971-c87c9ec044bb.jpg: corrupt JPEG restored and saved\n",
      "\u001b[34m\u001b[1mtrain: \u001b[0mWARNING  C:\\Users\\dawoo\\Desktop\\SF7\\coding\\PYTORCH\\project\\train\\images\\205_101_10_c31dffad-55ad-460d-9ec1-8d9e13c471e2.jpg: corrupt JPEG restored and saved\n",
      "\u001b[34m\u001b[1mtrain: \u001b[0mWARNING  C:\\Users\\dawoo\\Desktop\\SF7\\coding\\PYTORCH\\project\\train\\images\\205_101_10_c528abeb-a6b0-4794-b623-e86f53706126.jpg: corrupt JPEG restored and saved\n",
      "\u001b[34m\u001b[1mtrain: \u001b[0mWARNING  C:\\Users\\dawoo\\Desktop\\SF7\\coding\\PYTORCH\\project\\train\\images\\205_101_10_c5534293-1363-4f5b-b95c-678a7ba79264.jpg: corrupt JPEG restored and saved\n",
      "\u001b[34m\u001b[1mtrain: \u001b[0mWARNING  C:\\Users\\dawoo\\Desktop\\SF7\\coding\\PYTORCH\\project\\train\\images\\205_101_10_c64b70fa-f5c9-4ed3-8b0c-20e6029fb7f0.jpg: corrupt JPEG restored and saved\n",
      "\u001b[34m\u001b[1mtrain: \u001b[0mWARNING  C:\\Users\\dawoo\\Desktop\\SF7\\coding\\PYTORCH\\project\\train\\images\\205_101_10_c841d8a4-aa0b-41f4-aa9c-f116f9bfd9a7.jpg: corrupt JPEG restored and saved\n",
      "\u001b[34m\u001b[1mtrain: \u001b[0mWARNING  C:\\Users\\dawoo\\Desktop\\SF7\\coding\\PYTORCH\\project\\train\\images\\205_101_10_c9d2bbd3-79a8-44ce-a8d5-76e12defed46.jpg: corrupt JPEG restored and saved\n",
      "\u001b[34m\u001b[1mtrain: \u001b[0mWARNING  C:\\Users\\dawoo\\Desktop\\SF7\\coding\\PYTORCH\\project\\train\\images\\205_101_10_ca1a9985-fee4-4b5f-b3d5-01b54ef776ca.jpg: corrupt JPEG restored and saved\n",
      "\u001b[34m\u001b[1mtrain: \u001b[0mWARNING  C:\\Users\\dawoo\\Desktop\\SF7\\coding\\PYTORCH\\project\\train\\images\\205_101_10_ca6b1e39-c472-4595-b0be-5a2b48e9e7c8.jpg: corrupt JPEG restored and saved\n",
      "\u001b[34m\u001b[1mtrain: \u001b[0mWARNING  C:\\Users\\dawoo\\Desktop\\SF7\\coding\\PYTORCH\\project\\train\\images\\205_101_10_cc664179-875c-44ba-9d81-17f257fb2d17.jpg: corrupt JPEG restored and saved\n",
      "\u001b[34m\u001b[1mtrain: \u001b[0mWARNING  C:\\Users\\dawoo\\Desktop\\SF7\\coding\\PYTORCH\\project\\train\\images\\205_101_10_cdfd6309-6c23-42f6-9584-ac401e7e3e3a.jpg: corrupt JPEG restored and saved\n",
      "\u001b[34m\u001b[1mtrain: \u001b[0mWARNING  C:\\Users\\dawoo\\Desktop\\SF7\\coding\\PYTORCH\\project\\train\\images\\205_101_10_d05a93c0-12e1-4298-9ee5-027cc494e7ae.jpg: corrupt JPEG restored and saved\n",
      "\u001b[34m\u001b[1mtrain: \u001b[0mWARNING  C:\\Users\\dawoo\\Desktop\\SF7\\coding\\PYTORCH\\project\\train\\images\\205_101_10_d25f2945-3e74-4680-a58a-26a3673c6373.jpg: corrupt JPEG restored and saved\n",
      "\u001b[34m\u001b[1mtrain: \u001b[0mWARNING  C:\\Users\\dawoo\\Desktop\\SF7\\coding\\PYTORCH\\project\\train\\images\\205_101_10_d8171eff-6225-4286-98bb-2f759bf7861f.jpg: corrupt JPEG restored and saved\n",
      "\u001b[34m\u001b[1mtrain: \u001b[0mWARNING  C:\\Users\\dawoo\\Desktop\\SF7\\coding\\PYTORCH\\project\\train\\images\\205_101_10_d91cda38-43d1-4181-9849-7748758136e3.jpg: corrupt JPEG restored and saved\n",
      "\u001b[34m\u001b[1mtrain: \u001b[0mWARNING  C:\\Users\\dawoo\\Desktop\\SF7\\coding\\PYTORCH\\project\\train\\images\\205_101_10_da139e17-36df-4584-9145-44036053cb84.jpg: corrupt JPEG restored and saved\n",
      "\u001b[34m\u001b[1mtrain: \u001b[0mWARNING  C:\\Users\\dawoo\\Desktop\\SF7\\coding\\PYTORCH\\project\\train\\images\\205_101_10_dcce2184-b95c-4158-b06a-8cec35cb3968.jpg: corrupt JPEG restored and saved\n",
      "\u001b[34m\u001b[1mtrain: \u001b[0mWARNING  C:\\Users\\dawoo\\Desktop\\SF7\\coding\\PYTORCH\\project\\train\\images\\205_101_10_de3f9826-796c-4bce-a99e-006fd851d2bb.jpg: corrupt JPEG restored and saved\n",
      "\u001b[34m\u001b[1mtrain: \u001b[0mWARNING  C:\\Users\\dawoo\\Desktop\\SF7\\coding\\PYTORCH\\project\\train\\images\\205_101_10_dffc6261-40df-405e-b491-9bcc7068d5b7.jpg: corrupt JPEG restored and saved\n",
      "\u001b[34m\u001b[1mtrain: \u001b[0mWARNING  C:\\Users\\dawoo\\Desktop\\SF7\\coding\\PYTORCH\\project\\train\\images\\205_101_10_e1cdb468-b399-4ba2-a275-94a96c83f0ec.jpg: corrupt JPEG restored and saved\n",
      "\u001b[34m\u001b[1mtrain: \u001b[0mWARNING  C:\\Users\\dawoo\\Desktop\\SF7\\coding\\PYTORCH\\project\\train\\images\\205_101_10_e2f7df8c-889f-4893-8458-79271c65b85d.jpg: corrupt JPEG restored and saved\n",
      "\u001b[34m\u001b[1mtrain: \u001b[0mWARNING  C:\\Users\\dawoo\\Desktop\\SF7\\coding\\PYTORCH\\project\\train\\images\\205_101_10_e3b3e6a8-7678-48ee-8728-9547c3a56113.jpg: corrupt JPEG restored and saved\n",
      "\u001b[34m\u001b[1mtrain: \u001b[0mWARNING  C:\\Users\\dawoo\\Desktop\\SF7\\coding\\PYTORCH\\project\\train\\images\\205_101_10_e4571bc6-7bcb-479f-b5ce-3d424b4123f2.jpg: corrupt JPEG restored and saved\n",
      "\u001b[34m\u001b[1mtrain: \u001b[0mWARNING  C:\\Users\\dawoo\\Desktop\\SF7\\coding\\PYTORCH\\project\\train\\images\\205_101_10_e46b9bd9-0eb4-42ee-9d3c-129fb8b72577.jpg: corrupt JPEG restored and saved\n",
      "\u001b[34m\u001b[1mtrain: \u001b[0mWARNING  C:\\Users\\dawoo\\Desktop\\SF7\\coding\\PYTORCH\\project\\train\\images\\205_101_10_e8147cac-dbd7-49ff-98c5-d72e7c891053.jpg: corrupt JPEG restored and saved\n",
      "\u001b[34m\u001b[1mtrain: \u001b[0mWARNING  C:\\Users\\dawoo\\Desktop\\SF7\\coding\\PYTORCH\\project\\train\\images\\205_101_10_e8764ae1-efdf-47b7-a813-a080495f0307.jpg: corrupt JPEG restored and saved\n",
      "\u001b[34m\u001b[1mtrain: \u001b[0mWARNING  C:\\Users\\dawoo\\Desktop\\SF7\\coding\\PYTORCH\\project\\train\\images\\205_101_10_eb93cb7e-bf72-42a6-b7c1-098d94459360.jpg: corrupt JPEG restored and saved\n",
      "\u001b[34m\u001b[1mtrain: \u001b[0mWARNING  C:\\Users\\dawoo\\Desktop\\SF7\\coding\\PYTORCH\\project\\train\\images\\205_101_10_ee9a2e6d-0ae9-4a8c-8f55-49bd4c82f7ef.jpg: corrupt JPEG restored and saved\n",
      "\u001b[34m\u001b[1mtrain: \u001b[0mWARNING  C:\\Users\\dawoo\\Desktop\\SF7\\coding\\PYTORCH\\project\\train\\images\\205_101_10_eeacf339-28c5-41e0-b83b-1d552a06997d.jpg: corrupt JPEG restored and saved\n",
      "\u001b[34m\u001b[1mtrain: \u001b[0mWARNING  C:\\Users\\dawoo\\Desktop\\SF7\\coding\\PYTORCH\\project\\train\\images\\205_101_10_ef4df0b8-4bcc-4504-88b9-577df23c6065.jpg: corrupt JPEG restored and saved\n",
      "\u001b[34m\u001b[1mtrain: \u001b[0mWARNING  C:\\Users\\dawoo\\Desktop\\SF7\\coding\\PYTORCH\\project\\train\\images\\205_101_10_f0678e91-a7d5-4a73-9683-eeca1018fe28.jpg: corrupt JPEG restored and saved\n",
      "\u001b[34m\u001b[1mtrain: \u001b[0mWARNING  C:\\Users\\dawoo\\Desktop\\SF7\\coding\\PYTORCH\\project\\train\\images\\205_101_10_f0e30f4b-68c2-4f36-9007-cb9eeb49f84b.jpg: corrupt JPEG restored and saved\n",
      "\u001b[34m\u001b[1mtrain: \u001b[0mWARNING  C:\\Users\\dawoo\\Desktop\\SF7\\coding\\PYTORCH\\project\\train\\images\\205_101_10_f2cd8a58-f5f0-4189-995c-7ca66093c19d.jpg: corrupt JPEG restored and saved\n",
      "\u001b[34m\u001b[1mtrain: \u001b[0mWARNING  C:\\Users\\dawoo\\Desktop\\SF7\\coding\\PYTORCH\\project\\train\\images\\205_101_10_f36342ea-4cf8-4a05-9d6d-66a8633de660.jpg: corrupt JPEG restored and saved\n",
      "\u001b[34m\u001b[1mtrain: \u001b[0mWARNING  C:\\Users\\dawoo\\Desktop\\SF7\\coding\\PYTORCH\\project\\train\\images\\205_101_10_f4433798-6cf7-40ff-98ba-4370eecc5cbc.jpg: corrupt JPEG restored and saved\n",
      "\u001b[34m\u001b[1mtrain: \u001b[0mWARNING  C:\\Users\\dawoo\\Desktop\\SF7\\coding\\PYTORCH\\project\\train\\images\\205_101_10_f5742eab-88ca-4d84-b551-1b270fafc5d7.jpg: corrupt JPEG restored and saved\n",
      "\u001b[34m\u001b[1mtrain: \u001b[0mWARNING  C:\\Users\\dawoo\\Desktop\\SF7\\coding\\PYTORCH\\project\\train\\images\\205_101_10_f79d8cf9-0376-439a-83fc-7c0f8ec102bf.jpg: corrupt JPEG restored and saved\n",
      "\u001b[34m\u001b[1mtrain: \u001b[0mWARNING  C:\\Users\\dawoo\\Desktop\\SF7\\coding\\PYTORCH\\project\\train\\images\\205_101_10_fd774c51-f677-4239-87a2-fdbdab34d35f.jpg: corrupt JPEG restored and saved\n",
      "\u001b[34m\u001b[1mtrain: \u001b[0mWARNING  C:\\Users\\dawoo\\Desktop\\SF7\\coding\\PYTORCH\\project\\train\\images\\205_101_10_fe5f96d7-c02c-40d8-b641-e307b9c2a5b2.jpg: corrupt JPEG restored and saved\n",
      "\u001b[34m\u001b[1mtrain: \u001b[0mWARNING  C:\\Users\\dawoo\\Desktop\\SF7\\coding\\PYTORCH\\project\\train\\images\\205_101_10_fe6c81fb-77d6-4258-8fbb-c7a516630d0f.jpg: corrupt JPEG restored and saved\n",
      "\u001b[34m\u001b[1mtrain: \u001b[0mWARNING  C:\\Users\\dawoo\\Desktop\\SF7\\coding\\PYTORCH\\project\\train\\images\\205_101_10_ff049368-49fb-47ae-bca6-0808c33b9045.jpg: corrupt JPEG restored and saved\n",
      "\u001b[34m\u001b[1mtrain: \u001b[0mWARNING  C:\\Users\\dawoo\\Desktop\\SF7\\coding\\PYTORCH\\project\\train\\images\\205_101_20_01b310ee-67a2-4e23-bcdc-0bb456bb2f88.jpg: corrupt JPEG restored and saved\n",
      "\u001b[34m\u001b[1mtrain: \u001b[0mWARNING  C:\\Users\\dawoo\\Desktop\\SF7\\coding\\PYTORCH\\project\\train\\images\\205_101_20_0378f13b-e04b-49ba-972f-de6951d5778f.jpg: corrupt JPEG restored and saved\n",
      "\u001b[34m\u001b[1mtrain: \u001b[0mWARNING  C:\\Users\\dawoo\\Desktop\\SF7\\coding\\PYTORCH\\project\\train\\images\\205_101_20_04936bbd-7250-4de2-b535-b3b320fb3a0b.jpg: corrupt JPEG restored and saved\n",
      "\u001b[34m\u001b[1mtrain: \u001b[0mWARNING  C:\\Users\\dawoo\\Desktop\\SF7\\coding\\PYTORCH\\project\\train\\images\\205_101_20_05b4b1a5-6a7a-4e68-bdb5-17316ae94eb4.jpg: corrupt JPEG restored and saved\n",
      "\u001b[34m\u001b[1mtrain: \u001b[0mWARNING  C:\\Users\\dawoo\\Desktop\\SF7\\coding\\PYTORCH\\project\\train\\images\\205_101_20_05ebb275-44c6-4428-bdd1-267723b4328e.jpg: corrupt JPEG restored and saved\n",
      "\u001b[34m\u001b[1mtrain: \u001b[0mWARNING  C:\\Users\\dawoo\\Desktop\\SF7\\coding\\PYTORCH\\project\\train\\images\\205_101_20_07def539-41d1-4e01-9eda-3245f4861415.jpg: corrupt JPEG restored and saved\n",
      "\u001b[34m\u001b[1mtrain: \u001b[0mWARNING  C:\\Users\\dawoo\\Desktop\\SF7\\coding\\PYTORCH\\project\\train\\images\\205_101_20_0825dbb7-87c6-4d18-8dc4-2f17b7d86cfd.jpg: corrupt JPEG restored and saved\n",
      "\u001b[34m\u001b[1mtrain: \u001b[0mWARNING  C:\\Users\\dawoo\\Desktop\\SF7\\coding\\PYTORCH\\project\\train\\images\\205_101_20_08dca05c-0919-49a7-8c07-d9195409da62.jpg: corrupt JPEG restored and saved\n",
      "\u001b[34m\u001b[1mtrain: \u001b[0mWARNING  C:\\Users\\dawoo\\Desktop\\SF7\\coding\\PYTORCH\\project\\train\\images\\205_101_20_09fedf30-4935-49ca-aff0-fc716496c074.jpg: corrupt JPEG restored and saved\n",
      "\u001b[34m\u001b[1mtrain: \u001b[0mWARNING  C:\\Users\\dawoo\\Desktop\\SF7\\coding\\PYTORCH\\project\\train\\images\\205_101_20_0ab7f0b7-92c1-4fb3-9cac-a1cff98b250c.jpg: corrupt JPEG restored and saved\n",
      "\u001b[34m\u001b[1mtrain: \u001b[0mWARNING  C:\\Users\\dawoo\\Desktop\\SF7\\coding\\PYTORCH\\project\\train\\images\\205_101_20_0b22e787-9d6b-4a8f-8bb7-e2af1343383c.jpg: corrupt JPEG restored and saved\n",
      "\u001b[34m\u001b[1mtrain: \u001b[0mWARNING  C:\\Users\\dawoo\\Desktop\\SF7\\coding\\PYTORCH\\project\\train\\images\\205_101_20_0b80a5ba-8372-4dda-ae69-7d9d9582937d.jpg: corrupt JPEG restored and saved\n",
      "\u001b[34m\u001b[1mtrain: \u001b[0mWARNING  C:\\Users\\dawoo\\Desktop\\SF7\\coding\\PYTORCH\\project\\train\\images\\205_101_20_0ce525b6-33e3-4982-a60f-49f67ba58c1c.jpg: corrupt JPEG restored and saved\n",
      "\u001b[34m\u001b[1mtrain: \u001b[0mWARNING  C:\\Users\\dawoo\\Desktop\\SF7\\coding\\PYTORCH\\project\\train\\images\\205_101_20_0ed60f05-6669-4825-a9c5-92b6896b7d3d.jpg: corrupt JPEG restored and saved\n",
      "\u001b[34m\u001b[1mtrain: \u001b[0mWARNING  C:\\Users\\dawoo\\Desktop\\SF7\\coding\\PYTORCH\\project\\train\\images\\205_101_20_0fa87749-64b6-4414-ac9e-87f602eb553f.jpg: corrupt JPEG restored and saved\n",
      "\u001b[34m\u001b[1mtrain: \u001b[0mWARNING  C:\\Users\\dawoo\\Desktop\\SF7\\coding\\PYTORCH\\project\\train\\images\\205_101_20_1046bf68-7bf0-4598-a86b-300993dd5610.jpg: corrupt JPEG restored and saved\n",
      "\u001b[34m\u001b[1mtrain: \u001b[0mWARNING  C:\\Users\\dawoo\\Desktop\\SF7\\coding\\PYTORCH\\project\\train\\images\\205_101_20_1801294d-4d23-4432-856e-218e61446a1f.jpg: corrupt JPEG restored and saved\n",
      "\u001b[34m\u001b[1mtrain: \u001b[0mWARNING  C:\\Users\\dawoo\\Desktop\\SF7\\coding\\PYTORCH\\project\\train\\images\\205_101_20_19df0d41-e312-4b00-9604-aeb34fc4ef0d.jpg: corrupt JPEG restored and saved\n",
      "\u001b[34m\u001b[1mtrain: \u001b[0mWARNING  C:\\Users\\dawoo\\Desktop\\SF7\\coding\\PYTORCH\\project\\train\\images\\205_101_20_1a2daf53-7a99-49ed-b30e-08aa4f37ec6b.jpg: corrupt JPEG restored and saved\n",
      "\u001b[34m\u001b[1mtrain: \u001b[0mWARNING  C:\\Users\\dawoo\\Desktop\\SF7\\coding\\PYTORCH\\project\\train\\images\\205_101_20_1bab7dfa-0ab3-4e27-8259-a4025ed6ac28.jpg: corrupt JPEG restored and saved\n",
      "\u001b[34m\u001b[1mtrain: \u001b[0mWARNING  C:\\Users\\dawoo\\Desktop\\SF7\\coding\\PYTORCH\\project\\train\\images\\205_101_20_1e3a9c8e-b02b-4b60-a564-20504bcffa35.jpg: corrupt JPEG restored and saved\n",
      "\u001b[34m\u001b[1mtrain: \u001b[0mWARNING  C:\\Users\\dawoo\\Desktop\\SF7\\coding\\PYTORCH\\project\\train\\images\\205_101_20_1e762bf8-18e1-4bd4-8840-2881f83e53c5.jpg: corrupt JPEG restored and saved\n",
      "\u001b[34m\u001b[1mtrain: \u001b[0mWARNING  C:\\Users\\dawoo\\Desktop\\SF7\\coding\\PYTORCH\\project\\train\\images\\205_101_20_1e7f70cf-79fd-43ce-8e4a-557774678d38.jpg: corrupt JPEG restored and saved\n",
      "\u001b[34m\u001b[1mtrain: \u001b[0mWARNING  C:\\Users\\dawoo\\Desktop\\SF7\\coding\\PYTORCH\\project\\train\\images\\205_101_20_1fe0d862-424f-4111-975c-de0e697c78ae.jpg: corrupt JPEG restored and saved\n",
      "\u001b[34m\u001b[1mtrain: \u001b[0mWARNING  C:\\Users\\dawoo\\Desktop\\SF7\\coding\\PYTORCH\\project\\train\\images\\205_101_20_2001b1d6-76cd-4d76-90c1-0863a76adca9.jpg: corrupt JPEG restored and saved\n",
      "\u001b[34m\u001b[1mtrain: \u001b[0mWARNING  C:\\Users\\dawoo\\Desktop\\SF7\\coding\\PYTORCH\\project\\train\\images\\205_101_20_203963b8-57f2-405f-8d54-e06ccfd00ec9.jpg: corrupt JPEG restored and saved\n",
      "\u001b[34m\u001b[1mtrain: \u001b[0mWARNING  C:\\Users\\dawoo\\Desktop\\SF7\\coding\\PYTORCH\\project\\train\\images\\205_101_20_21a25acd-952a-41ed-a376-075e1c384dbd.jpg: corrupt JPEG restored and saved\n",
      "\u001b[34m\u001b[1mtrain: \u001b[0mWARNING  C:\\Users\\dawoo\\Desktop\\SF7\\coding\\PYTORCH\\project\\train\\images\\205_101_20_21fa8d39-dc4a-4c2b-b0a1-8370595dbada.jpg: corrupt JPEG restored and saved\n",
      "\u001b[34m\u001b[1mtrain: \u001b[0mWARNING  C:\\Users\\dawoo\\Desktop\\SF7\\coding\\PYTORCH\\project\\train\\images\\205_101_20_245de493-3d2b-4806-93d0-194693b3fc71.jpg: corrupt JPEG restored and saved\n",
      "\u001b[34m\u001b[1mtrain: \u001b[0mWARNING  C:\\Users\\dawoo\\Desktop\\SF7\\coding\\PYTORCH\\project\\train\\images\\205_101_20_2694c33d-ad4b-4aec-8262-a61488ba1f32.jpg: corrupt JPEG restored and saved\n",
      "\u001b[34m\u001b[1mtrain: \u001b[0mWARNING  C:\\Users\\dawoo\\Desktop\\SF7\\coding\\PYTORCH\\project\\train\\images\\205_101_20_27c9d89f-9093-4fa5-8602-be1f9f6de1b1.jpg: corrupt JPEG restored and saved\n",
      "\u001b[34m\u001b[1mtrain: \u001b[0mWARNING  C:\\Users\\dawoo\\Desktop\\SF7\\coding\\PYTORCH\\project\\train\\images\\205_101_20_292850e5-2e05-4a61-922b-e8532fa79e28.jpg: corrupt JPEG restored and saved\n",
      "\u001b[34m\u001b[1mtrain: \u001b[0mWARNING  C:\\Users\\dawoo\\Desktop\\SF7\\coding\\PYTORCH\\project\\train\\images\\205_101_20_2a3fea4d-91c8-4a07-8e3d-f8a557d5cd5a.jpg: corrupt JPEG restored and saved\n",
      "\u001b[34m\u001b[1mtrain: \u001b[0mWARNING  C:\\Users\\dawoo\\Desktop\\SF7\\coding\\PYTORCH\\project\\train\\images\\205_101_20_2abe45ec-b5fd-4495-88a9-ddefc0bba6e9.jpg: corrupt JPEG restored and saved\n",
      "\u001b[34m\u001b[1mtrain: \u001b[0mWARNING  C:\\Users\\dawoo\\Desktop\\SF7\\coding\\PYTORCH\\project\\train\\images\\205_101_20_2b39299d-2932-4db5-97c0-265f5dc5218c.jpg: corrupt JPEG restored and saved\n",
      "\u001b[34m\u001b[1mtrain: \u001b[0mWARNING  C:\\Users\\dawoo\\Desktop\\SF7\\coding\\PYTORCH\\project\\train\\images\\205_101_20_2d997edd-b11d-44e2-b6ab-f5535e40331e.jpg: corrupt JPEG restored and saved\n",
      "\u001b[34m\u001b[1mtrain: \u001b[0mWARNING  C:\\Users\\dawoo\\Desktop\\SF7\\coding\\PYTORCH\\project\\train\\images\\205_101_20_307af0b6-998f-4acc-b04e-795f83feaaba.jpg: corrupt JPEG restored and saved\n",
      "\u001b[34m\u001b[1mtrain: \u001b[0mWARNING  C:\\Users\\dawoo\\Desktop\\SF7\\coding\\PYTORCH\\project\\train\\images\\205_101_20_30e95f96-a4da-45b9-9a12-f34637889737.jpg: corrupt JPEG restored and saved\n",
      "\u001b[34m\u001b[1mtrain: \u001b[0mWARNING  C:\\Users\\dawoo\\Desktop\\SF7\\coding\\PYTORCH\\project\\train\\images\\205_101_20_30fcbae1-73c6-46eb-ac37-c10e84a70872.jpg: corrupt JPEG restored and saved\n",
      "\u001b[34m\u001b[1mtrain: \u001b[0mWARNING  C:\\Users\\dawoo\\Desktop\\SF7\\coding\\PYTORCH\\project\\train\\images\\205_101_20_32788fca-c7b0-4f78-aa22-a96939ced08f.jpg: corrupt JPEG restored and saved\n",
      "\u001b[34m\u001b[1mtrain: \u001b[0mWARNING  C:\\Users\\dawoo\\Desktop\\SF7\\coding\\PYTORCH\\project\\train\\images\\205_101_20_33c71a76-595c-439d-86f3-aa2cde1cdee0.jpg: corrupt JPEG restored and saved\n",
      "\u001b[34m\u001b[1mtrain: \u001b[0mWARNING  C:\\Users\\dawoo\\Desktop\\SF7\\coding\\PYTORCH\\project\\train\\images\\205_101_20_343554c4-2117-4edc-a4a9-4ad0be12b2f0.jpg: corrupt JPEG restored and saved\n",
      "\u001b[34m\u001b[1mtrain: \u001b[0mWARNING  C:\\Users\\dawoo\\Desktop\\SF7\\coding\\PYTORCH\\project\\train\\images\\205_101_20_343a88bb-e161-4b69-92b7-d4dddbd5be7e.jpg: corrupt JPEG restored and saved\n",
      "\u001b[34m\u001b[1mtrain: \u001b[0mWARNING  C:\\Users\\dawoo\\Desktop\\SF7\\coding\\PYTORCH\\project\\train\\images\\205_101_20_3525b89b-87e9-47a4-86df-47f1604c0dd2.jpg: corrupt JPEG restored and saved\n",
      "\u001b[34m\u001b[1mtrain: \u001b[0mWARNING  C:\\Users\\dawoo\\Desktop\\SF7\\coding\\PYTORCH\\project\\train\\images\\205_101_20_358a2d1c-a422-4ee7-b455-a4b3bfc37616.jpg: corrupt JPEG restored and saved\n",
      "\u001b[34m\u001b[1mtrain: \u001b[0mWARNING  C:\\Users\\dawoo\\Desktop\\SF7\\coding\\PYTORCH\\project\\train\\images\\205_101_20_35a450d8-bff6-41e3-a321-6553ba950a03.jpg: corrupt JPEG restored and saved\n",
      "\u001b[34m\u001b[1mtrain: \u001b[0mWARNING  C:\\Users\\dawoo\\Desktop\\SF7\\coding\\PYTORCH\\project\\train\\images\\205_101_20_35e60a9c-c7d3-4dbd-8689-ad920faab428.jpg: corrupt JPEG restored and saved\n",
      "\u001b[34m\u001b[1mtrain: \u001b[0mWARNING  C:\\Users\\dawoo\\Desktop\\SF7\\coding\\PYTORCH\\project\\train\\images\\205_101_20_364e5337-0faa-42c0-a2c4-e825c83d3879.jpg: corrupt JPEG restored and saved\n",
      "\u001b[34m\u001b[1mtrain: \u001b[0mWARNING  C:\\Users\\dawoo\\Desktop\\SF7\\coding\\PYTORCH\\project\\train\\images\\205_101_20_37b62452-edb8-4140-8170-fa287b42ae30.jpg: corrupt JPEG restored and saved\n",
      "\u001b[34m\u001b[1mtrain: \u001b[0mWARNING  C:\\Users\\dawoo\\Desktop\\SF7\\coding\\PYTORCH\\project\\train\\images\\205_101_20_37ba50f3-7010-407c-879f-67b6da4705d7.jpg: corrupt JPEG restored and saved\n",
      "\u001b[34m\u001b[1mtrain: \u001b[0mWARNING  C:\\Users\\dawoo\\Desktop\\SF7\\coding\\PYTORCH\\project\\train\\images\\205_101_20_37dadd61-aac9-46c4-84fd-0e397b7d0d1b.jpg: corrupt JPEG restored and saved\n",
      "\u001b[34m\u001b[1mtrain: \u001b[0mWARNING  C:\\Users\\dawoo\\Desktop\\SF7\\coding\\PYTORCH\\project\\train\\images\\205_101_20_3839cf57-4b8f-470d-b473-112e4e7a8daa.jpg: corrupt JPEG restored and saved\n",
      "\u001b[34m\u001b[1mtrain: \u001b[0mWARNING  C:\\Users\\dawoo\\Desktop\\SF7\\coding\\PYTORCH\\project\\train\\images\\205_101_20_38dfba58-ac51-46e7-b02a-bfb128aac374.jpg: corrupt JPEG restored and saved\n",
      "\u001b[34m\u001b[1mtrain: \u001b[0mWARNING  C:\\Users\\dawoo\\Desktop\\SF7\\coding\\PYTORCH\\project\\train\\images\\205_101_20_391a1bb6-b396-4d9d-a892-96557f567c51.jpg: corrupt JPEG restored and saved\n",
      "\u001b[34m\u001b[1mtrain: \u001b[0mWARNING  C:\\Users\\dawoo\\Desktop\\SF7\\coding\\PYTORCH\\project\\train\\images\\205_101_20_3982165c-8ba0-4d8d-a88f-8b7e7528ae67.jpg: corrupt JPEG restored and saved\n",
      "\u001b[34m\u001b[1mtrain: \u001b[0mWARNING  C:\\Users\\dawoo\\Desktop\\SF7\\coding\\PYTORCH\\project\\train\\images\\205_101_20_39ae6fbc-5817-4368-8531-d136ba5f3121.jpg: corrupt JPEG restored and saved\n",
      "\u001b[34m\u001b[1mtrain: \u001b[0mWARNING  C:\\Users\\dawoo\\Desktop\\SF7\\coding\\PYTORCH\\project\\train\\images\\205_101_20_3b803f41-b312-4393-bd49-a0b96f15d336.jpg: corrupt JPEG restored and saved\n",
      "\u001b[34m\u001b[1mtrain: \u001b[0mWARNING  C:\\Users\\dawoo\\Desktop\\SF7\\coding\\PYTORCH\\project\\train\\images\\205_101_20_3ce4cdbe-931e-40a0-8ce4-bc0c01371aaa.jpg: corrupt JPEG restored and saved\n",
      "\u001b[34m\u001b[1mtrain: \u001b[0mWARNING  C:\\Users\\dawoo\\Desktop\\SF7\\coding\\PYTORCH\\project\\train\\images\\205_101_20_3ef47031-8b3f-49b3-a826-c9bd2d9364c8.jpg: corrupt JPEG restored and saved\n",
      "\u001b[34m\u001b[1mtrain: \u001b[0mWARNING  C:\\Users\\dawoo\\Desktop\\SF7\\coding\\PYTORCH\\project\\train\\images\\205_101_20_42b4f38e-0de4-4b8b-a597-0a78879d12d0.jpg: corrupt JPEG restored and saved\n",
      "\u001b[34m\u001b[1mtrain: \u001b[0mWARNING  C:\\Users\\dawoo\\Desktop\\SF7\\coding\\PYTORCH\\project\\train\\images\\205_101_20_4333faf5-aa66-4397-b2d8-de1eb466bd81.jpg: corrupt JPEG restored and saved\n",
      "\u001b[34m\u001b[1mtrain: \u001b[0mWARNING  C:\\Users\\dawoo\\Desktop\\SF7\\coding\\PYTORCH\\project\\train\\images\\205_101_20_43cc39c1-858c-4444-850e-0a761775a914.jpg: corrupt JPEG restored and saved\n",
      "\u001b[34m\u001b[1mtrain: \u001b[0mWARNING  C:\\Users\\dawoo\\Desktop\\SF7\\coding\\PYTORCH\\project\\train\\images\\205_101_20_4571b6e4-2fe1-4220-a5f9-463c1f644882.jpg: corrupt JPEG restored and saved\n",
      "\u001b[34m\u001b[1mtrain: \u001b[0mWARNING  C:\\Users\\dawoo\\Desktop\\SF7\\coding\\PYTORCH\\project\\train\\images\\205_101_20_458efc7a-9a30-4a42-bbfc-4eb82d8386e4.jpg: corrupt JPEG restored and saved\n",
      "\u001b[34m\u001b[1mtrain: \u001b[0mWARNING  C:\\Users\\dawoo\\Desktop\\SF7\\coding\\PYTORCH\\project\\train\\images\\205_101_20_471148e0-cb3c-464d-8047-a753dc55441f.jpg: corrupt JPEG restored and saved\n",
      "\u001b[34m\u001b[1mtrain: \u001b[0mWARNING  C:\\Users\\dawoo\\Desktop\\SF7\\coding\\PYTORCH\\project\\train\\images\\205_101_20_48061129-fee0-4b59-babb-b9f60779c864.jpg: corrupt JPEG restored and saved\n",
      "\u001b[34m\u001b[1mtrain: \u001b[0mWARNING  C:\\Users\\dawoo\\Desktop\\SF7\\coding\\PYTORCH\\project\\train\\images\\205_101_20_48e19a64-9294-4b5a-9048-3e358cabd770.jpg: corrupt JPEG restored and saved\n",
      "\u001b[34m\u001b[1mtrain: \u001b[0mWARNING  C:\\Users\\dawoo\\Desktop\\SF7\\coding\\PYTORCH\\project\\train\\images\\205_101_20_4b2f2d8a-807c-47e7-a13b-857fe090d089.jpg: corrupt JPEG restored and saved\n",
      "\u001b[34m\u001b[1mtrain: \u001b[0mWARNING  C:\\Users\\dawoo\\Desktop\\SF7\\coding\\PYTORCH\\project\\train\\images\\205_101_20_4bd0f5ee-5b9b-4870-8e00-b1b9adea6c05.jpg: corrupt JPEG restored and saved\n",
      "\u001b[34m\u001b[1mtrain: \u001b[0mWARNING  C:\\Users\\dawoo\\Desktop\\SF7\\coding\\PYTORCH\\project\\train\\images\\205_101_20_4c4d56fc-e2d3-460f-a1b0-c116e7096c7c.jpg: corrupt JPEG restored and saved\n",
      "\u001b[34m\u001b[1mtrain: \u001b[0mWARNING  C:\\Users\\dawoo\\Desktop\\SF7\\coding\\PYTORCH\\project\\train\\images\\205_101_20_4d4f1287-c53f-4971-b801-2fd4bc85ed6d.jpg: corrupt JPEG restored and saved\n",
      "\u001b[34m\u001b[1mtrain: \u001b[0mWARNING  C:\\Users\\dawoo\\Desktop\\SF7\\coding\\PYTORCH\\project\\train\\images\\205_101_20_4ddf52e2-7e34-467c-aafe-5a5ddcaacb19.jpg: corrupt JPEG restored and saved\n",
      "\u001b[34m\u001b[1mtrain: \u001b[0mWARNING  C:\\Users\\dawoo\\Desktop\\SF7\\coding\\PYTORCH\\project\\train\\images\\205_101_20_50be81fd-f75a-4e99-a569-b3a5dd623004.jpg: corrupt JPEG restored and saved\n",
      "\u001b[34m\u001b[1mtrain: \u001b[0mWARNING  C:\\Users\\dawoo\\Desktop\\SF7\\coding\\PYTORCH\\project\\train\\images\\205_101_20_51d90fef-4a14-4d31-961c-14dd08870f7a.jpg: corrupt JPEG restored and saved\n",
      "\u001b[34m\u001b[1mtrain: \u001b[0mWARNING  C:\\Users\\dawoo\\Desktop\\SF7\\coding\\PYTORCH\\project\\train\\images\\205_101_20_51e8d900-0c57-47f4-ba38-abead21dc5c7.jpg: corrupt JPEG restored and saved\n",
      "\u001b[34m\u001b[1mtrain: \u001b[0mWARNING  C:\\Users\\dawoo\\Desktop\\SF7\\coding\\PYTORCH\\project\\train\\images\\205_101_20_5606195f-67a2-4c97-b447-ff9d33d8b703.jpg: corrupt JPEG restored and saved\n",
      "\u001b[34m\u001b[1mtrain: \u001b[0mWARNING  C:\\Users\\dawoo\\Desktop\\SF7\\coding\\PYTORCH\\project\\train\\images\\205_101_20_561ed1db-5f10-4323-bdd6-2280579c93b1.jpg: corrupt JPEG restored and saved\n",
      "\u001b[34m\u001b[1mtrain: \u001b[0mWARNING  C:\\Users\\dawoo\\Desktop\\SF7\\coding\\PYTORCH\\project\\train\\images\\205_101_20_572fad9d-67a4-4eeb-8815-b2669ef4c16b.jpg: corrupt JPEG restored and saved\n",
      "\u001b[34m\u001b[1mtrain: \u001b[0mWARNING  C:\\Users\\dawoo\\Desktop\\SF7\\coding\\PYTORCH\\project\\train\\images\\205_101_20_57dae893-ed8d-487b-94b1-efd0bc4fb049.jpg: corrupt JPEG restored and saved\n",
      "\u001b[34m\u001b[1mtrain: \u001b[0mWARNING  C:\\Users\\dawoo\\Desktop\\SF7\\coding\\PYTORCH\\project\\train\\images\\205_101_20_581086ef-f871-4c53-9faf-fdece53762db.jpg: corrupt JPEG restored and saved\n",
      "\u001b[34m\u001b[1mtrain: \u001b[0mWARNING  C:\\Users\\dawoo\\Desktop\\SF7\\coding\\PYTORCH\\project\\train\\images\\205_101_20_5862613d-bc21-4c1c-9157-6a4e33d6badb.jpg: corrupt JPEG restored and saved\n",
      "\u001b[34m\u001b[1mtrain: \u001b[0mWARNING  C:\\Users\\dawoo\\Desktop\\SF7\\coding\\PYTORCH\\project\\train\\images\\205_101_20_592f74fb-5af5-4abe-8a91-165979e2ab3a.jpg: corrupt JPEG restored and saved\n",
      "\u001b[34m\u001b[1mtrain: \u001b[0mWARNING  C:\\Users\\dawoo\\Desktop\\SF7\\coding\\PYTORCH\\project\\train\\images\\205_101_20_5c5784cc-0579-477b-9bda-44bde1468903.jpg: corrupt JPEG restored and saved\n",
      "\u001b[34m\u001b[1mtrain: \u001b[0mWARNING  C:\\Users\\dawoo\\Desktop\\SF7\\coding\\PYTORCH\\project\\train\\images\\205_101_20_5c8da6da-85b9-4852-95c9-b0f685a25927.jpg: corrupt JPEG restored and saved\n",
      "\u001b[34m\u001b[1mtrain: \u001b[0mWARNING  C:\\Users\\dawoo\\Desktop\\SF7\\coding\\PYTORCH\\project\\train\\images\\205_101_20_5e980c58-684d-4fa8-9015-5833ab7cd433.jpg: corrupt JPEG restored and saved\n",
      "\u001b[34m\u001b[1mtrain: \u001b[0mWARNING  C:\\Users\\dawoo\\Desktop\\SF7\\coding\\PYTORCH\\project\\train\\images\\205_101_20_5fb02897-f737-48a3-8290-b7295b483e04.jpg: corrupt JPEG restored and saved\n",
      "\u001b[34m\u001b[1mtrain: \u001b[0mWARNING  C:\\Users\\dawoo\\Desktop\\SF7\\coding\\PYTORCH\\project\\train\\images\\205_101_20_66ea970f-d8fe-4379-ad38-f83879661083.jpg: corrupt JPEG restored and saved\n",
      "\u001b[34m\u001b[1mtrain: \u001b[0mWARNING  C:\\Users\\dawoo\\Desktop\\SF7\\coding\\PYTORCH\\project\\train\\images\\205_101_20_677c45da-11a2-4782-9111-d0b90e972050.jpg: corrupt JPEG restored and saved\n",
      "\u001b[34m\u001b[1mtrain: \u001b[0mWARNING  C:\\Users\\dawoo\\Desktop\\SF7\\coding\\PYTORCH\\project\\train\\images\\205_101_20_69349f42-55b1-41dd-a02e-b95c7a133284.jpg: corrupt JPEG restored and saved\n",
      "\u001b[34m\u001b[1mtrain: \u001b[0mWARNING  C:\\Users\\dawoo\\Desktop\\SF7\\coding\\PYTORCH\\project\\train\\images\\205_101_20_69a5ffb4-cbe0-4975-9da4-cae8ebfc278c.jpg: corrupt JPEG restored and saved\n",
      "\u001b[34m\u001b[1mtrain: \u001b[0mWARNING  C:\\Users\\dawoo\\Desktop\\SF7\\coding\\PYTORCH\\project\\train\\images\\205_101_20_6c1a0c20-440d-401f-a249-33cfdfcde8d2.jpg: corrupt JPEG restored and saved\n",
      "\u001b[34m\u001b[1mtrain: \u001b[0mWARNING  C:\\Users\\dawoo\\Desktop\\SF7\\coding\\PYTORCH\\project\\train\\images\\205_101_20_6c5624d3-568b-410a-b776-b7ea6974eb73.jpg: corrupt JPEG restored and saved\n",
      "\u001b[34m\u001b[1mtrain: \u001b[0mWARNING  C:\\Users\\dawoo\\Desktop\\SF7\\coding\\PYTORCH\\project\\train\\images\\205_101_20_6d4a9cec-e7ae-4a97-92ed-6ec1791a4ee3.jpg: corrupt JPEG restored and saved\n",
      "\u001b[34m\u001b[1mtrain: \u001b[0mWARNING  C:\\Users\\dawoo\\Desktop\\SF7\\coding\\PYTORCH\\project\\train\\images\\205_101_20_6fe0203a-778c-4b94-a245-bd9cac255008.jpg: corrupt JPEG restored and saved\n",
      "\u001b[34m\u001b[1mtrain: \u001b[0mWARNING  C:\\Users\\dawoo\\Desktop\\SF7\\coding\\PYTORCH\\project\\train\\images\\205_101_20_7200783d-eca1-48a5-9284-7006359cea47.jpg: corrupt JPEG restored and saved\n",
      "\u001b[34m\u001b[1mtrain: \u001b[0mWARNING  C:\\Users\\dawoo\\Desktop\\SF7\\coding\\PYTORCH\\project\\train\\images\\205_101_20_723bbd7e-27e4-4957-89cd-c8ff761a2982.jpg: corrupt JPEG restored and saved\n",
      "\u001b[34m\u001b[1mtrain: \u001b[0mWARNING  C:\\Users\\dawoo\\Desktop\\SF7\\coding\\PYTORCH\\project\\train\\images\\205_101_20_74729189-f284-4597-8887-9a536e92544a.jpg: corrupt JPEG restored and saved\n",
      "\u001b[34m\u001b[1mtrain: \u001b[0mWARNING  C:\\Users\\dawoo\\Desktop\\SF7\\coding\\PYTORCH\\project\\train\\images\\205_101_20_75be7c3b-843a-49e9-8b3d-aa96351d9b56.jpg: corrupt JPEG restored and saved\n",
      "\u001b[34m\u001b[1mtrain: \u001b[0mWARNING  C:\\Users\\dawoo\\Desktop\\SF7\\coding\\PYTORCH\\project\\train\\images\\205_101_20_7602e188-3dda-4a1a-9be4-c7263f86cbd8.jpg: corrupt JPEG restored and saved\n",
      "\u001b[34m\u001b[1mtrain: \u001b[0mWARNING  C:\\Users\\dawoo\\Desktop\\SF7\\coding\\PYTORCH\\project\\train\\images\\205_101_20_7a0da1d8-59a9-4253-906e-bed47bb1a09c.jpg: corrupt JPEG restored and saved\n",
      "\u001b[34m\u001b[1mtrain: \u001b[0mWARNING  C:\\Users\\dawoo\\Desktop\\SF7\\coding\\PYTORCH\\project\\train\\images\\205_101_20_7d11fe51-5ef6-4c80-8105-76056ec5821e.jpg: corrupt JPEG restored and saved\n",
      "\u001b[34m\u001b[1mtrain: \u001b[0mWARNING  C:\\Users\\dawoo\\Desktop\\SF7\\coding\\PYTORCH\\project\\train\\images\\205_101_20_7d47509a-b975-453f-b166-97e2dc99681e.jpg: corrupt JPEG restored and saved\n",
      "\u001b[34m\u001b[1mtrain: \u001b[0mWARNING  C:\\Users\\dawoo\\Desktop\\SF7\\coding\\PYTORCH\\project\\train\\images\\205_101_20_7e405295-6541-466a-93f7-3d2a724c60fb.jpg: corrupt JPEG restored and saved\n",
      "\u001b[34m\u001b[1mtrain: \u001b[0mWARNING  C:\\Users\\dawoo\\Desktop\\SF7\\coding\\PYTORCH\\project\\train\\images\\205_101_20_7f4ce6c7-b56d-46cb-b8c1-5f2b364f8647.jpg: corrupt JPEG restored and saved\n",
      "\u001b[34m\u001b[1mtrain: \u001b[0mWARNING  C:\\Users\\dawoo\\Desktop\\SF7\\coding\\PYTORCH\\project\\train\\images\\205_101_20_80630eb6-eeea-4731-a23e-379c218f15e9.jpg: corrupt JPEG restored and saved\n",
      "\u001b[34m\u001b[1mtrain: \u001b[0mWARNING  C:\\Users\\dawoo\\Desktop\\SF7\\coding\\PYTORCH\\project\\train\\images\\205_101_20_81afb12a-eeaa-4740-9c12-fa1735841966.jpg: corrupt JPEG restored and saved\n",
      "\u001b[34m\u001b[1mtrain: \u001b[0mWARNING  C:\\Users\\dawoo\\Desktop\\SF7\\coding\\PYTORCH\\project\\train\\images\\205_101_20_81dd397a-c93e-4925-9173-9e54e69025e2.jpg: corrupt JPEG restored and saved\n",
      "\u001b[34m\u001b[1mtrain: \u001b[0mWARNING  C:\\Users\\dawoo\\Desktop\\SF7\\coding\\PYTORCH\\project\\train\\images\\205_101_20_843b9d03-4bee-44a0-928d-8af2f103c499.jpg: corrupt JPEG restored and saved\n",
      "\u001b[34m\u001b[1mtrain: \u001b[0mWARNING  C:\\Users\\dawoo\\Desktop\\SF7\\coding\\PYTORCH\\project\\train\\images\\205_101_20_848215e0-79a1-4a73-bfb1-552211e681cf.jpg: corrupt JPEG restored and saved\n",
      "\u001b[34m\u001b[1mtrain: \u001b[0mWARNING  C:\\Users\\dawoo\\Desktop\\SF7\\coding\\PYTORCH\\project\\train\\images\\205_101_20_85081e43-1ded-4472-bacc-38f8616dd882.jpg: corrupt JPEG restored and saved\n",
      "\u001b[34m\u001b[1mtrain: \u001b[0mWARNING  C:\\Users\\dawoo\\Desktop\\SF7\\coding\\PYTORCH\\project\\train\\images\\205_101_20_8740637f-5227-43f4-ad94-29846a4dbfe8.jpg: corrupt JPEG restored and saved\n",
      "\u001b[34m\u001b[1mtrain: \u001b[0mWARNING  C:\\Users\\dawoo\\Desktop\\SF7\\coding\\PYTORCH\\project\\train\\images\\205_101_20_87569f25-e1e6-4b6f-b62a-4e1a0675aa32.jpg: corrupt JPEG restored and saved\n",
      "\u001b[34m\u001b[1mtrain: \u001b[0mWARNING  C:\\Users\\dawoo\\Desktop\\SF7\\coding\\PYTORCH\\project\\train\\images\\205_101_20_880a6eec-4d4d-4d1f-9d08-8c14c7811d01.jpg: corrupt JPEG restored and saved\n",
      "\u001b[34m\u001b[1mtrain: \u001b[0mWARNING  C:\\Users\\dawoo\\Desktop\\SF7\\coding\\PYTORCH\\project\\train\\images\\205_101_20_88c2a71b-980b-42a6-aa57-7f9d960cd873.jpg: corrupt JPEG restored and saved\n",
      "\u001b[34m\u001b[1mtrain: \u001b[0mWARNING  C:\\Users\\dawoo\\Desktop\\SF7\\coding\\PYTORCH\\project\\train\\images\\205_101_20_8955fd64-e635-445b-8c7f-b59925598769.jpg: corrupt JPEG restored and saved\n",
      "\u001b[34m\u001b[1mtrain: \u001b[0mWARNING  C:\\Users\\dawoo\\Desktop\\SF7\\coding\\PYTORCH\\project\\train\\images\\205_101_20_8ae4fa83-78e5-4414-92d4-c3e0d17f5884.jpg: corrupt JPEG restored and saved\n",
      "\u001b[34m\u001b[1mtrain: \u001b[0mWARNING  C:\\Users\\dawoo\\Desktop\\SF7\\coding\\PYTORCH\\project\\train\\images\\205_101_20_8e7b84e5-ff3a-4873-bf71-18da1871273a.jpg: corrupt JPEG restored and saved\n",
      "\u001b[34m\u001b[1mtrain: \u001b[0mWARNING  C:\\Users\\dawoo\\Desktop\\SF7\\coding\\PYTORCH\\project\\train\\images\\205_101_20_8f831638-efa5-47e2-bb5a-17007a8fe4de.jpg: corrupt JPEG restored and saved\n",
      "\u001b[34m\u001b[1mtrain: \u001b[0mWARNING  C:\\Users\\dawoo\\Desktop\\SF7\\coding\\PYTORCH\\project\\train\\images\\205_101_20_8f96d9b9-055a-432f-9212-7a4ad38011ea.jpg: corrupt JPEG restored and saved\n",
      "\u001b[34m\u001b[1mtrain: \u001b[0mWARNING  C:\\Users\\dawoo\\Desktop\\SF7\\coding\\PYTORCH\\project\\train\\images\\205_101_20_904edf80-6b6b-4262-bfbd-d64c0b09f505.jpg: corrupt JPEG restored and saved\n",
      "\u001b[34m\u001b[1mtrain: \u001b[0mWARNING  C:\\Users\\dawoo\\Desktop\\SF7\\coding\\PYTORCH\\project\\train\\images\\205_101_20_90cb4424-6029-4711-8e7c-d4698d86b110.jpg: corrupt JPEG restored and saved\n",
      "\u001b[34m\u001b[1mtrain: \u001b[0mWARNING  C:\\Users\\dawoo\\Desktop\\SF7\\coding\\PYTORCH\\project\\train\\images\\205_101_20_918912e5-e3fa-438f-b4ca-d899b5834e07.jpg: corrupt JPEG restored and saved\n",
      "\u001b[34m\u001b[1mtrain: \u001b[0mWARNING  C:\\Users\\dawoo\\Desktop\\SF7\\coding\\PYTORCH\\project\\train\\images\\205_101_20_9345907c-9bae-48d8-9cdd-b4a6d903fb69.jpg: corrupt JPEG restored and saved\n",
      "\u001b[34m\u001b[1mtrain: \u001b[0mWARNING  C:\\Users\\dawoo\\Desktop\\SF7\\coding\\PYTORCH\\project\\train\\images\\205_101_20_936f6332-7ba4-4a35-8487-3fc0aa3aa422.jpg: corrupt JPEG restored and saved\n",
      "\u001b[34m\u001b[1mtrain: \u001b[0mWARNING  C:\\Users\\dawoo\\Desktop\\SF7\\coding\\PYTORCH\\project\\train\\images\\205_101_20_95edeb83-fedf-48e9-b3c0-23d33ad27f7e.jpg: corrupt JPEG restored and saved\n",
      "\u001b[34m\u001b[1mtrain: \u001b[0mWARNING  C:\\Users\\dawoo\\Desktop\\SF7\\coding\\PYTORCH\\project\\train\\images\\205_101_20_97fb3f46-5cf8-420d-88f1-d8ffa594309a.jpg: corrupt JPEG restored and saved\n",
      "\u001b[34m\u001b[1mtrain: \u001b[0mWARNING  C:\\Users\\dawoo\\Desktop\\SF7\\coding\\PYTORCH\\project\\train\\images\\205_101_20_9afcc5f4-b048-4014-ab9a-f439a889718d.jpg: corrupt JPEG restored and saved\n",
      "\u001b[34m\u001b[1mtrain: \u001b[0mWARNING  C:\\Users\\dawoo\\Desktop\\SF7\\coding\\PYTORCH\\project\\train\\images\\205_101_20_9bcf39f2-b7d7-4465-86aa-b1d13e43793f.jpg: corrupt JPEG restored and saved\n",
      "\u001b[34m\u001b[1mtrain: \u001b[0mWARNING  C:\\Users\\dawoo\\Desktop\\SF7\\coding\\PYTORCH\\project\\train\\images\\205_101_20_9c31be2f-2369-48cc-90a9-8fcd1201f239.jpg: corrupt JPEG restored and saved\n",
      "\u001b[34m\u001b[1mtrain: \u001b[0mWARNING  C:\\Users\\dawoo\\Desktop\\SF7\\coding\\PYTORCH\\project\\train\\images\\205_101_20_9f450518-d108-4756-a57d-9a0689e395d7.jpg: corrupt JPEG restored and saved\n",
      "\u001b[34m\u001b[1mtrain: \u001b[0mWARNING  C:\\Users\\dawoo\\Desktop\\SF7\\coding\\PYTORCH\\project\\train\\images\\205_101_20_a008af73-d2e4-452f-b431-62ca843c15bf.jpg: corrupt JPEG restored and saved\n",
      "\u001b[34m\u001b[1mtrain: \u001b[0mWARNING  C:\\Users\\dawoo\\Desktop\\SF7\\coding\\PYTORCH\\project\\train\\images\\205_101_20_a095c500-ba02-4b3c-864e-7bfb8005f9d9.jpg: corrupt JPEG restored and saved\n",
      "\u001b[34m\u001b[1mtrain: \u001b[0mWARNING  C:\\Users\\dawoo\\Desktop\\SF7\\coding\\PYTORCH\\project\\train\\images\\205_101_20_a160ab24-608f-4c64-af1b-2bfe4542f86f.jpg: corrupt JPEG restored and saved\n",
      "\u001b[34m\u001b[1mtrain: \u001b[0mWARNING  C:\\Users\\dawoo\\Desktop\\SF7\\coding\\PYTORCH\\project\\train\\images\\205_101_20_a27e7c13-c933-4697-b59c-cab812593a0a.jpg: corrupt JPEG restored and saved\n",
      "\u001b[34m\u001b[1mtrain: \u001b[0mWARNING  C:\\Users\\dawoo\\Desktop\\SF7\\coding\\PYTORCH\\project\\train\\images\\205_101_20_a2b32e64-a42d-4775-8134-20deca41d960.jpg: corrupt JPEG restored and saved\n",
      "\u001b[34m\u001b[1mtrain: \u001b[0mWARNING  C:\\Users\\dawoo\\Desktop\\SF7\\coding\\PYTORCH\\project\\train\\images\\205_101_20_a36039aa-d63d-411b-81a6-d00b23cfdd9a.jpg: corrupt JPEG restored and saved\n",
      "\u001b[34m\u001b[1mtrain: \u001b[0mWARNING  C:\\Users\\dawoo\\Desktop\\SF7\\coding\\PYTORCH\\project\\train\\images\\205_101_20_a8fe2138-b6e9-4c8f-a9d7-baa87783b5d7.jpg: corrupt JPEG restored and saved\n",
      "\u001b[34m\u001b[1mtrain: \u001b[0mWARNING  C:\\Users\\dawoo\\Desktop\\SF7\\coding\\PYTORCH\\project\\train\\images\\205_101_20_a9fde0ee-0100-4fa1-8f35-696420b80d7a.jpg: corrupt JPEG restored and saved\n",
      "\u001b[34m\u001b[1mtrain: \u001b[0mWARNING  C:\\Users\\dawoo\\Desktop\\SF7\\coding\\PYTORCH\\project\\train\\images\\205_101_20_ada99bc1-2e41-43fa-823c-458e3e6e39ac.jpg: corrupt JPEG restored and saved\n",
      "\u001b[34m\u001b[1mtrain: \u001b[0mWARNING  C:\\Users\\dawoo\\Desktop\\SF7\\coding\\PYTORCH\\project\\train\\images\\205_101_20_ae9f85c6-51b6-465c-86c6-d1d5c4756a71.jpg: corrupt JPEG restored and saved\n",
      "\u001b[34m\u001b[1mtrain: \u001b[0mWARNING  C:\\Users\\dawoo\\Desktop\\SF7\\coding\\PYTORCH\\project\\train\\images\\205_101_20_b22b6d63-bee0-4cf2-9301-02dc62b1b379.jpg: corrupt JPEG restored and saved\n",
      "\u001b[34m\u001b[1mtrain: \u001b[0mWARNING  C:\\Users\\dawoo\\Desktop\\SF7\\coding\\PYTORCH\\project\\train\\images\\205_101_20_b3de614b-30f0-4392-bac2-6c204918ee0c.jpg: corrupt JPEG restored and saved\n",
      "\u001b[34m\u001b[1mtrain: \u001b[0mWARNING  C:\\Users\\dawoo\\Desktop\\SF7\\coding\\PYTORCH\\project\\train\\images\\205_101_20_b413979d-53ac-4ada-b9b2-b4b34fa27a16.jpg: corrupt JPEG restored and saved\n",
      "\u001b[34m\u001b[1mtrain: \u001b[0mWARNING  C:\\Users\\dawoo\\Desktop\\SF7\\coding\\PYTORCH\\project\\train\\images\\205_101_20_b48aeba4-4927-44a4-82ad-f0eeda00cd76.jpg: corrupt JPEG restored and saved\n",
      "\u001b[34m\u001b[1mtrain: \u001b[0mWARNING  C:\\Users\\dawoo\\Desktop\\SF7\\coding\\PYTORCH\\project\\train\\images\\205_101_20_b514a0d9-9eb3-433b-8eba-98cfa0bef3cc.jpg: corrupt JPEG restored and saved\n",
      "\u001b[34m\u001b[1mtrain: \u001b[0mWARNING  C:\\Users\\dawoo\\Desktop\\SF7\\coding\\PYTORCH\\project\\train\\images\\205_101_20_b56e853b-ca88-49ab-a293-a99407f53c24.jpg: corrupt JPEG restored and saved\n",
      "\u001b[34m\u001b[1mtrain: \u001b[0mWARNING  C:\\Users\\dawoo\\Desktop\\SF7\\coding\\PYTORCH\\project\\train\\images\\205_101_20_b785b451-91bf-41d9-85d9-584ae117bdef.jpg: corrupt JPEG restored and saved\n",
      "\u001b[34m\u001b[1mtrain: \u001b[0mWARNING  C:\\Users\\dawoo\\Desktop\\SF7\\coding\\PYTORCH\\project\\train\\images\\205_101_20_b8629ee5-9798-4128-997c-f6c75594b020.jpg: corrupt JPEG restored and saved\n",
      "\u001b[34m\u001b[1mtrain: \u001b[0mWARNING  C:\\Users\\dawoo\\Desktop\\SF7\\coding\\PYTORCH\\project\\train\\images\\205_101_20_b95e1a44-2006-42e2-b7b6-93bb67e7eef4.jpg: corrupt JPEG restored and saved\n",
      "\u001b[34m\u001b[1mtrain: \u001b[0mWARNING  C:\\Users\\dawoo\\Desktop\\SF7\\coding\\PYTORCH\\project\\train\\images\\205_101_20_bae531bb-b08b-4f45-bfcf-460a6dc773f0.jpg: corrupt JPEG restored and saved\n",
      "\u001b[34m\u001b[1mtrain: \u001b[0mWARNING  C:\\Users\\dawoo\\Desktop\\SF7\\coding\\PYTORCH\\project\\train\\images\\205_101_20_bb13741d-772d-4ccd-8265-c2f67ad22ad2.jpg: corrupt JPEG restored and saved\n",
      "\u001b[34m\u001b[1mtrain: \u001b[0mWARNING  C:\\Users\\dawoo\\Desktop\\SF7\\coding\\PYTORCH\\project\\train\\images\\205_101_20_bc0d5bb2-e449-481c-ae21-3b62311fd50e.jpg: corrupt JPEG restored and saved\n",
      "\u001b[34m\u001b[1mtrain: \u001b[0mWARNING  C:\\Users\\dawoo\\Desktop\\SF7\\coding\\PYTORCH\\project\\train\\images\\205_101_20_bd5d5975-751d-4bdc-83eb-5c91d9baad37.jpg: corrupt JPEG restored and saved\n",
      "\u001b[34m\u001b[1mtrain: \u001b[0mWARNING  C:\\Users\\dawoo\\Desktop\\SF7\\coding\\PYTORCH\\project\\train\\images\\205_101_20_bda0a9c0-c029-4b8f-a144-92004814c046.jpg: corrupt JPEG restored and saved\n",
      "\u001b[34m\u001b[1mtrain: \u001b[0mWARNING  C:\\Users\\dawoo\\Desktop\\SF7\\coding\\PYTORCH\\project\\train\\images\\205_101_20_bde20d28-dff0-4c25-a531-b91f6fb82c2d.jpg: corrupt JPEG restored and saved\n",
      "\u001b[34m\u001b[1mtrain: \u001b[0mWARNING  C:\\Users\\dawoo\\Desktop\\SF7\\coding\\PYTORCH\\project\\train\\images\\205_101_20_bdfb0b26-980b-4e7b-8938-da21336864b0.jpg: corrupt JPEG restored and saved\n",
      "\u001b[34m\u001b[1mtrain: \u001b[0mWARNING  C:\\Users\\dawoo\\Desktop\\SF7\\coding\\PYTORCH\\project\\train\\images\\205_101_20_bf86774c-e977-4f63-885e-298cc646fa51.jpg: corrupt JPEG restored and saved\n",
      "\u001b[34m\u001b[1mtrain: \u001b[0mWARNING  C:\\Users\\dawoo\\Desktop\\SF7\\coding\\PYTORCH\\project\\train\\images\\205_101_20_c2924221-b381-4780-a4ed-61f736244fa3.jpg: corrupt JPEG restored and saved\n",
      "\u001b[34m\u001b[1mtrain: \u001b[0mWARNING  C:\\Users\\dawoo\\Desktop\\SF7\\coding\\PYTORCH\\project\\train\\images\\205_101_20_c30faec7-57f5-4a1e-8216-d6566a22f825.jpg: corrupt JPEG restored and saved\n",
      "\u001b[34m\u001b[1mtrain: \u001b[0mWARNING  C:\\Users\\dawoo\\Desktop\\SF7\\coding\\PYTORCH\\project\\train\\images\\205_101_20_c3ffbb35-b545-4328-95f5-2d836d37e510.jpg: corrupt JPEG restored and saved\n",
      "\u001b[34m\u001b[1mtrain: \u001b[0mWARNING  C:\\Users\\dawoo\\Desktop\\SF7\\coding\\PYTORCH\\project\\train\\images\\205_101_20_c48d5b71-a86c-46e3-89e4-5e008648562b.jpg: corrupt JPEG restored and saved\n",
      "\u001b[34m\u001b[1mtrain: \u001b[0mWARNING  C:\\Users\\dawoo\\Desktop\\SF7\\coding\\PYTORCH\\project\\train\\images\\205_101_20_c7718998-a8aa-478f-95fe-ac7945430817.jpg: corrupt JPEG restored and saved\n",
      "\u001b[34m\u001b[1mtrain: \u001b[0mWARNING  C:\\Users\\dawoo\\Desktop\\SF7\\coding\\PYTORCH\\project\\train\\images\\205_101_20_c9650d8e-3217-4072-9894-7fa3a65de3a6.jpg: corrupt JPEG restored and saved\n",
      "\u001b[34m\u001b[1mtrain: \u001b[0mWARNING  C:\\Users\\dawoo\\Desktop\\SF7\\coding\\PYTORCH\\project\\train\\images\\205_101_20_c97741f7-9e84-4bf8-b933-6639e70b047d.jpg: corrupt JPEG restored and saved\n",
      "\u001b[34m\u001b[1mtrain: \u001b[0mWARNING  C:\\Users\\dawoo\\Desktop\\SF7\\coding\\PYTORCH\\project\\train\\images\\205_101_20_cba8e23f-5fd0-4838-989d-d665a88a9ad8.jpg: corrupt JPEG restored and saved\n",
      "\u001b[34m\u001b[1mtrain: \u001b[0mWARNING  C:\\Users\\dawoo\\Desktop\\SF7\\coding\\PYTORCH\\project\\train\\images\\205_101_20_ce71fd66-691f-4b1e-9839-ffd5e10ec19a.jpg: corrupt JPEG restored and saved\n",
      "\u001b[34m\u001b[1mtrain: \u001b[0mWARNING  C:\\Users\\dawoo\\Desktop\\SF7\\coding\\PYTORCH\\project\\train\\images\\205_101_20_cf52b338-95e1-4c54-be2a-da7ebfc2a344.jpg: corrupt JPEG restored and saved\n",
      "\u001b[34m\u001b[1mtrain: \u001b[0mWARNING  C:\\Users\\dawoo\\Desktop\\SF7\\coding\\PYTORCH\\project\\train\\images\\205_101_20_cf7eed9d-5f35-4fd3-925c-965e066c5c0f.jpg: corrupt JPEG restored and saved\n",
      "\u001b[34m\u001b[1mtrain: \u001b[0mWARNING  C:\\Users\\dawoo\\Desktop\\SF7\\coding\\PYTORCH\\project\\train\\images\\205_101_20_d1d30104-9956-45a9-a05a-0fba31b12907.jpg: corrupt JPEG restored and saved\n",
      "\u001b[34m\u001b[1mtrain: \u001b[0mWARNING  C:\\Users\\dawoo\\Desktop\\SF7\\coding\\PYTORCH\\project\\train\\images\\205_101_20_d22a0964-eb00-49b6-8de9-535f5335403c.jpg: corrupt JPEG restored and saved\n",
      "\u001b[34m\u001b[1mtrain: \u001b[0mWARNING  C:\\Users\\dawoo\\Desktop\\SF7\\coding\\PYTORCH\\project\\train\\images\\205_101_20_d2c758a3-6fb0-4e25-a452-5d00dada30bd.jpg: corrupt JPEG restored and saved\n",
      "\u001b[34m\u001b[1mtrain: \u001b[0mWARNING  C:\\Users\\dawoo\\Desktop\\SF7\\coding\\PYTORCH\\project\\train\\images\\205_101_20_d4c7a924-70fb-4db3-a19f-ef551f4568f4.jpg: corrupt JPEG restored and saved\n",
      "\u001b[34m\u001b[1mtrain: \u001b[0mWARNING  C:\\Users\\dawoo\\Desktop\\SF7\\coding\\PYTORCH\\project\\train\\images\\205_101_20_d4dd72fa-23cf-4476-9301-c18542142899.jpg: corrupt JPEG restored and saved\n",
      "\u001b[34m\u001b[1mtrain: \u001b[0mWARNING  C:\\Users\\dawoo\\Desktop\\SF7\\coding\\PYTORCH\\project\\train\\images\\205_101_20_d62ebda6-3a35-4557-8072-6de84d057cee.jpg: corrupt JPEG restored and saved\n",
      "\u001b[34m\u001b[1mtrain: \u001b[0mWARNING  C:\\Users\\dawoo\\Desktop\\SF7\\coding\\PYTORCH\\project\\train\\images\\205_101_20_d68ee394-141e-412f-a57a-624ddf065cf2.jpg: corrupt JPEG restored and saved\n",
      "\u001b[34m\u001b[1mtrain: \u001b[0mWARNING  C:\\Users\\dawoo\\Desktop\\SF7\\coding\\PYTORCH\\project\\train\\images\\205_101_20_d8a8210c-9e1e-45fd-87af-7a3b4273af12.jpg: corrupt JPEG restored and saved\n",
      "\u001b[34m\u001b[1mtrain: \u001b[0mWARNING  C:\\Users\\dawoo\\Desktop\\SF7\\coding\\PYTORCH\\project\\train\\images\\205_101_20_d8bc0cff-da42-40ff-8a60-81aea0a79529.jpg: corrupt JPEG restored and saved\n",
      "\u001b[34m\u001b[1mtrain: \u001b[0mWARNING  C:\\Users\\dawoo\\Desktop\\SF7\\coding\\PYTORCH\\project\\train\\images\\205_101_20_da5bb7c3-f004-459e-b4fc-a0ee3f161a2d.jpg: corrupt JPEG restored and saved\n",
      "\u001b[34m\u001b[1mtrain: \u001b[0mWARNING  C:\\Users\\dawoo\\Desktop\\SF7\\coding\\PYTORCH\\project\\train\\images\\205_101_20_db098842-7659-4698-bd76-032736e71678.jpg: corrupt JPEG restored and saved\n",
      "\u001b[34m\u001b[1mtrain: \u001b[0mWARNING  C:\\Users\\dawoo\\Desktop\\SF7\\coding\\PYTORCH\\project\\train\\images\\205_101_20_dc150bfe-a97c-461c-8844-ce22c86480ab.jpg: corrupt JPEG restored and saved\n",
      "\u001b[34m\u001b[1mtrain: \u001b[0mWARNING  C:\\Users\\dawoo\\Desktop\\SF7\\coding\\PYTORCH\\project\\train\\images\\205_101_20_e089fe0b-af1e-40ca-bf1f-8b48fe43f684.jpg: corrupt JPEG restored and saved\n",
      "\u001b[34m\u001b[1mtrain: \u001b[0mWARNING  C:\\Users\\dawoo\\Desktop\\SF7\\coding\\PYTORCH\\project\\train\\images\\205_101_20_e09009b9-b251-4dfd-8d65-c1188d6c7130.jpg: corrupt JPEG restored and saved\n",
      "\u001b[34m\u001b[1mtrain: \u001b[0mWARNING  C:\\Users\\dawoo\\Desktop\\SF7\\coding\\PYTORCH\\project\\train\\images\\205_101_20_e2367223-69c2-4bbe-aba7-ed97ebd59b6c.jpg: corrupt JPEG restored and saved\n",
      "\u001b[34m\u001b[1mtrain: \u001b[0mWARNING  C:\\Users\\dawoo\\Desktop\\SF7\\coding\\PYTORCH\\project\\train\\images\\205_101_20_e26e0def-7058-4933-935b-0b681adea9b0.jpg: corrupt JPEG restored and saved\n",
      "\u001b[34m\u001b[1mtrain: \u001b[0mWARNING  C:\\Users\\dawoo\\Desktop\\SF7\\coding\\PYTORCH\\project\\train\\images\\205_101_20_e43e0aa1-2aba-4be9-91df-c103deccc9ec.jpg: corrupt JPEG restored and saved\n",
      "\u001b[34m\u001b[1mtrain: \u001b[0mWARNING  C:\\Users\\dawoo\\Desktop\\SF7\\coding\\PYTORCH\\project\\train\\images\\205_101_20_e4cb56d1-febf-4259-940e-80dd6a5c528b.jpg: corrupt JPEG restored and saved\n",
      "\u001b[34m\u001b[1mtrain: \u001b[0mWARNING  C:\\Users\\dawoo\\Desktop\\SF7\\coding\\PYTORCH\\project\\train\\images\\205_101_20_e52bcabe-5fe3-4305-ab01-0c90eb1666ab.jpg: corrupt JPEG restored and saved\n",
      "\u001b[34m\u001b[1mtrain: \u001b[0mWARNING  C:\\Users\\dawoo\\Desktop\\SF7\\coding\\PYTORCH\\project\\train\\images\\205_101_20_e5ea6f71-8593-4e4b-b0a9-e689811ccaea.jpg: corrupt JPEG restored and saved\n",
      "\u001b[34m\u001b[1mtrain: \u001b[0mWARNING  C:\\Users\\dawoo\\Desktop\\SF7\\coding\\PYTORCH\\project\\train\\images\\205_101_20_e65203f5-db99-4662-911c-f24e857c207a.jpg: corrupt JPEG restored and saved\n",
      "\u001b[34m\u001b[1mtrain: \u001b[0mWARNING  C:\\Users\\dawoo\\Desktop\\SF7\\coding\\PYTORCH\\project\\train\\images\\205_101_20_e6b73ee1-7df8-4ccd-b3bf-d6212f128557.jpg: corrupt JPEG restored and saved\n",
      "\u001b[34m\u001b[1mtrain: \u001b[0mWARNING  C:\\Users\\dawoo\\Desktop\\SF7\\coding\\PYTORCH\\project\\train\\images\\205_101_20_e77f8752-e878-4654-9584-4a5320a556f5.jpg: corrupt JPEG restored and saved\n",
      "\u001b[34m\u001b[1mtrain: \u001b[0mWARNING  C:\\Users\\dawoo\\Desktop\\SF7\\coding\\PYTORCH\\project\\train\\images\\205_101_20_e862627c-9f5c-4b11-8885-ab4b2a5f3dee.jpg: corrupt JPEG restored and saved\n",
      "\u001b[34m\u001b[1mtrain: \u001b[0mWARNING  C:\\Users\\dawoo\\Desktop\\SF7\\coding\\PYTORCH\\project\\train\\images\\205_101_20_ea9850e7-4e46-4e55-a808-1e4e78577b65.jpg: corrupt JPEG restored and saved\n",
      "\u001b[34m\u001b[1mtrain: \u001b[0mWARNING  C:\\Users\\dawoo\\Desktop\\SF7\\coding\\PYTORCH\\project\\train\\images\\205_101_20_ec1bcdf1-d5c3-4f1c-bf76-cab3093cf2d8.jpg: corrupt JPEG restored and saved\n",
      "\u001b[34m\u001b[1mtrain: \u001b[0mWARNING  C:\\Users\\dawoo\\Desktop\\SF7\\coding\\PYTORCH\\project\\train\\images\\205_101_20_ec648095-cb9c-4b14-8262-20713e67a5d5.jpg: corrupt JPEG restored and saved\n",
      "\u001b[34m\u001b[1mtrain: \u001b[0mWARNING  C:\\Users\\dawoo\\Desktop\\SF7\\coding\\PYTORCH\\project\\train\\images\\205_101_20_ecdbfc7f-e502-4adb-bb3f-540d3662d21d.jpg: corrupt JPEG restored and saved\n",
      "\u001b[34m\u001b[1mtrain: \u001b[0mWARNING  C:\\Users\\dawoo\\Desktop\\SF7\\coding\\PYTORCH\\project\\train\\images\\205_101_20_ed6c7438-f3dc-48f0-a548-e347f096c7ad.jpg: corrupt JPEG restored and saved\n",
      "\u001b[34m\u001b[1mtrain: \u001b[0mWARNING  C:\\Users\\dawoo\\Desktop\\SF7\\coding\\PYTORCH\\project\\train\\images\\205_101_20_edb88aa2-114a-41de-9069-e6d6a40e6d83.jpg: corrupt JPEG restored and saved\n",
      "\u001b[34m\u001b[1mtrain: \u001b[0mWARNING  C:\\Users\\dawoo\\Desktop\\SF7\\coding\\PYTORCH\\project\\train\\images\\205_101_20_ee94d262-0ade-401c-8620-b61a99a4e18a.jpg: corrupt JPEG restored and saved\n",
      "\u001b[34m\u001b[1mtrain: \u001b[0mWARNING  C:\\Users\\dawoo\\Desktop\\SF7\\coding\\PYTORCH\\project\\train\\images\\205_101_20_f0a801fa-71e5-485f-854e-2bb6194d3edb.jpg: corrupt JPEG restored and saved\n",
      "\u001b[34m\u001b[1mtrain: \u001b[0mWARNING  C:\\Users\\dawoo\\Desktop\\SF7\\coding\\PYTORCH\\project\\train\\images\\205_101_20_f19ef7cd-bc89-4fb0-831d-a790f27d2d2d.jpg: corrupt JPEG restored and saved\n",
      "\u001b[34m\u001b[1mtrain: \u001b[0mWARNING  C:\\Users\\dawoo\\Desktop\\SF7\\coding\\PYTORCH\\project\\train\\images\\205_101_20_f5bced6b-6a85-41a6-a541-ca755b1ac729.jpg: corrupt JPEG restored and saved\n",
      "\u001b[34m\u001b[1mtrain: \u001b[0mWARNING  C:\\Users\\dawoo\\Desktop\\SF7\\coding\\PYTORCH\\project\\train\\images\\205_101_20_f67c7ad4-433c-406a-96ca-02012a0d225a.jpg: corrupt JPEG restored and saved\n",
      "\u001b[34m\u001b[1mtrain: \u001b[0mWARNING  C:\\Users\\dawoo\\Desktop\\SF7\\coding\\PYTORCH\\project\\train\\images\\205_101_20_f77c9c6c-1760-4b37-8627-dac89c696f4f.jpg: corrupt JPEG restored and saved\n",
      "\u001b[34m\u001b[1mtrain: \u001b[0mWARNING  C:\\Users\\dawoo\\Desktop\\SF7\\coding\\PYTORCH\\project\\train\\images\\205_101_20_f7bdb295-b899-4e7c-b658-ce53780d59d1.jpg: corrupt JPEG restored and saved\n",
      "\u001b[34m\u001b[1mtrain: \u001b[0mWARNING  C:\\Users\\dawoo\\Desktop\\SF7\\coding\\PYTORCH\\project\\train\\images\\205_101_20_fd2ebfe0-3446-471b-866f-3ea1aeee91c4.jpg: corrupt JPEG restored and saved\n",
      "\u001b[34m\u001b[1mtrain: \u001b[0mWARNING  C:\\Users\\dawoo\\Desktop\\SF7\\coding\\PYTORCH\\project\\train\\images\\205_101_20_fd85d45d-a85c-4f17-9f98-2cdc7def12b9.jpg: corrupt JPEG restored and saved\n",
      "\u001b[34m\u001b[1mtrain: \u001b[0mWARNING  C:\\Users\\dawoo\\Desktop\\SF7\\coding\\PYTORCH\\project\\train\\images\\205_101_20_ff2e7e65-73f4-41a8-8a63-c43a4b6a4d52.jpg: corrupt JPEG restored and saved\n",
      "\u001b[34m\u001b[1mtrain: \u001b[0mWARNING  C:\\Users\\dawoo\\Desktop\\SF7\\coding\\PYTORCH\\project\\train\\images\\205_101_20_ff6ba079-79db-4da7-abbd-fc9443cc1379.jpg: corrupt JPEG restored and saved\n"
     ]
    },
    {
     "name": "stderr",
     "output_type": "stream",
     "text": [
      "\n"
     ]
    },
    {
     "name": "stdout",
     "output_type": "stream",
     "text": [
      "WARNING  cache='ram' may produce non-deterministic training results. Consider cache='disk' as a deterministic alternative if your disk space allows.\n"
     ]
    },
    {
     "name": "stderr",
     "output_type": "stream",
     "text": [
      "\u001b[34m\u001b[1mtrain: \u001b[0mCaching images (0.4GB RAM): 100%|██████████| 576/576 [00:10<00:00, 55.29it/s]\n",
      "\u001b[34m\u001b[1mval: \u001b[0mScanning C:\\Users\\dawoo\\Desktop\\SF7\\coding\\PYTORCH\\project\\valid\\labels.cache... 144 images, 0 backgrounds, 0 corrupt: 100%|██████████| 144/144 [00:00<?, ?it/s]"
     ]
    },
    {
     "name": "stdout",
     "output_type": "stream",
     "text": [
      "\u001b[34m\u001b[1mval: \u001b[0mWARNING  C:\\Users\\dawoo\\Desktop\\SF7\\coding\\PYTORCH\\project\\valid\\images\\205_101_10_0bbdb37c-2855-4fbb-9f14-4e42471fad7b.jpg: corrupt JPEG restored and saved\n",
      "\u001b[34m\u001b[1mval: \u001b[0mWARNING  C:\\Users\\dawoo\\Desktop\\SF7\\coding\\PYTORCH\\project\\valid\\images\\205_101_10_0deaf2ab-af84-47d3-9018-08fbec8ae3f3.jpg: corrupt JPEG restored and saved\n",
      "\u001b[34m\u001b[1mval: \u001b[0mWARNING  C:\\Users\\dawoo\\Desktop\\SF7\\coding\\PYTORCH\\project\\valid\\images\\205_101_10_0f8ce033-5697-4b3b-b8f9-3c3f9a12f9e1.jpg: corrupt JPEG restored and saved\n",
      "\u001b[34m\u001b[1mval: \u001b[0mWARNING  C:\\Users\\dawoo\\Desktop\\SF7\\coding\\PYTORCH\\project\\valid\\images\\205_101_10_140debbb-5660-49c4-b2ad-4eccb1125eb3.jpg: corrupt JPEG restored and saved\n",
      "\u001b[34m\u001b[1mval: \u001b[0mWARNING  C:\\Users\\dawoo\\Desktop\\SF7\\coding\\PYTORCH\\project\\valid\\images\\205_101_10_17627f97-48ac-4370-9c1a-17293ef4d903.jpg: corrupt JPEG restored and saved\n",
      "\u001b[34m\u001b[1mval: \u001b[0mWARNING  C:\\Users\\dawoo\\Desktop\\SF7\\coding\\PYTORCH\\project\\valid\\images\\205_101_10_18856874-9d47-43e1-866f-0b19dde6b8b2.jpg: corrupt JPEG restored and saved\n",
      "\u001b[34m\u001b[1mval: \u001b[0mWARNING  C:\\Users\\dawoo\\Desktop\\SF7\\coding\\PYTORCH\\project\\valid\\images\\205_101_10_19ca83a1-aeee-4e97-a347-be7270fa0bc1.jpg: corrupt JPEG restored and saved\n",
      "\u001b[34m\u001b[1mval: \u001b[0mWARNING  C:\\Users\\dawoo\\Desktop\\SF7\\coding\\PYTORCH\\project\\valid\\images\\205_101_10_26291af5-21d5-4e8c-9b03-f5bb04e31da0.jpg: corrupt JPEG restored and saved\n",
      "\u001b[34m\u001b[1mval: \u001b[0mWARNING  C:\\Users\\dawoo\\Desktop\\SF7\\coding\\PYTORCH\\project\\valid\\images\\205_101_10_384ddb4f-a2e8-4d4a-87be-11fa9eb21270.jpg: corrupt JPEG restored and saved\n",
      "\u001b[34m\u001b[1mval: \u001b[0mWARNING  C:\\Users\\dawoo\\Desktop\\SF7\\coding\\PYTORCH\\project\\valid\\images\\205_101_10_443edc20-4e2a-42f9-b275-a77f1b7e4b05.jpg: corrupt JPEG restored and saved\n",
      "\u001b[34m\u001b[1mval: \u001b[0mWARNING  C:\\Users\\dawoo\\Desktop\\SF7\\coding\\PYTORCH\\project\\valid\\images\\205_101_10_56c37a32-94bf-49d4-bebf-e4bdfdf69028.jpg: corrupt JPEG restored and saved\n",
      "\u001b[34m\u001b[1mval: \u001b[0mWARNING  C:\\Users\\dawoo\\Desktop\\SF7\\coding\\PYTORCH\\project\\valid\\images\\205_101_10_5a2493dd-7a66-43eb-90b3-801035bb0d65.jpg: corrupt JPEG restored and saved\n",
      "\u001b[34m\u001b[1mval: \u001b[0mWARNING  C:\\Users\\dawoo\\Desktop\\SF7\\coding\\PYTORCH\\project\\valid\\images\\205_101_10_65c9a660-6b32-4d51-a6ba-2527f2b950d1.jpg: corrupt JPEG restored and saved\n",
      "\u001b[34m\u001b[1mval: \u001b[0mWARNING  C:\\Users\\dawoo\\Desktop\\SF7\\coding\\PYTORCH\\project\\valid\\images\\205_101_10_704cdf27-2686-426f-b52b-b43c448b38da.jpg: corrupt JPEG restored and saved\n",
      "\u001b[34m\u001b[1mval: \u001b[0mWARNING  C:\\Users\\dawoo\\Desktop\\SF7\\coding\\PYTORCH\\project\\valid\\images\\205_101_10_719ffea0-08c0-4bc9-8e50-849a8e02c954.jpg: corrupt JPEG restored and saved\n",
      "\u001b[34m\u001b[1mval: \u001b[0mWARNING  C:\\Users\\dawoo\\Desktop\\SF7\\coding\\PYTORCH\\project\\valid\\images\\205_101_10_7bcb5656-cd03-4f9b-9895-ef9a5338d807.jpg: corrupt JPEG restored and saved\n",
      "\u001b[34m\u001b[1mval: \u001b[0mWARNING  C:\\Users\\dawoo\\Desktop\\SF7\\coding\\PYTORCH\\project\\valid\\images\\205_101_10_7e28e1f6-a2f5-4351-9575-0c92b6045059.jpg: corrupt JPEG restored and saved\n",
      "\u001b[34m\u001b[1mval: \u001b[0mWARNING  C:\\Users\\dawoo\\Desktop\\SF7\\coding\\PYTORCH\\project\\valid\\images\\205_101_10_7ea4da98-4177-4848-842b-1bf270178e37.jpg: corrupt JPEG restored and saved\n",
      "\u001b[34m\u001b[1mval: \u001b[0mWARNING  C:\\Users\\dawoo\\Desktop\\SF7\\coding\\PYTORCH\\project\\valid\\images\\205_101_10_80320384-4a4e-4379-a34c-4c1efe71deaa.jpg: corrupt JPEG restored and saved\n",
      "\u001b[34m\u001b[1mval: \u001b[0mWARNING  C:\\Users\\dawoo\\Desktop\\SF7\\coding\\PYTORCH\\project\\valid\\images\\205_101_10_81c07a8b-afef-4f66-92b2-1aee890c4134.jpg: corrupt JPEG restored and saved\n",
      "\u001b[34m\u001b[1mval: \u001b[0mWARNING  C:\\Users\\dawoo\\Desktop\\SF7\\coding\\PYTORCH\\project\\valid\\images\\205_101_10_8849b420-31ca-4acc-a497-8f87301786fb.jpg: corrupt JPEG restored and saved\n",
      "\u001b[34m\u001b[1mval: \u001b[0mWARNING  C:\\Users\\dawoo\\Desktop\\SF7\\coding\\PYTORCH\\project\\valid\\images\\205_101_10_888c302c-d6d4-4fbc-b7d5-c94074c6d0fb.jpg: corrupt JPEG restored and saved\n",
      "\u001b[34m\u001b[1mval: \u001b[0mWARNING  C:\\Users\\dawoo\\Desktop\\SF7\\coding\\PYTORCH\\project\\valid\\images\\205_101_10_8a6edf7f-56e9-4c0a-be64-1c82f35d9e94.jpg: corrupt JPEG restored and saved\n",
      "\u001b[34m\u001b[1mval: \u001b[0mWARNING  C:\\Users\\dawoo\\Desktop\\SF7\\coding\\PYTORCH\\project\\valid\\images\\205_101_10_8bfbf84d-9603-462b-a2cb-7fb2867b25ea.jpg: corrupt JPEG restored and saved\n",
      "\u001b[34m\u001b[1mval: \u001b[0mWARNING  C:\\Users\\dawoo\\Desktop\\SF7\\coding\\PYTORCH\\project\\valid\\images\\205_101_10_91aeabbf-854c-4ff4-b896-3affd4cc7498.jpg: corrupt JPEG restored and saved\n",
      "\u001b[34m\u001b[1mval: \u001b[0mWARNING  C:\\Users\\dawoo\\Desktop\\SF7\\coding\\PYTORCH\\project\\valid\\images\\205_101_10_98bf390e-d8d6-4eb8-aa76-95565132c80d.jpg: corrupt JPEG restored and saved\n",
      "\u001b[34m\u001b[1mval: \u001b[0mWARNING  C:\\Users\\dawoo\\Desktop\\SF7\\coding\\PYTORCH\\project\\valid\\images\\205_101_10_a24ed2a5-48a9-4fd6-bfa2-9a127d5436ea.jpg: corrupt JPEG restored and saved\n",
      "\u001b[34m\u001b[1mval: \u001b[0mWARNING  C:\\Users\\dawoo\\Desktop\\SF7\\coding\\PYTORCH\\project\\valid\\images\\205_101_10_a37929e5-c26c-4ef1-9fff-9cfc81609e11.jpg: corrupt JPEG restored and saved\n",
      "\u001b[34m\u001b[1mval: \u001b[0mWARNING  C:\\Users\\dawoo\\Desktop\\SF7\\coding\\PYTORCH\\project\\valid\\images\\205_101_10_a97e38c8-92e8-4826-bb72-af3aa79b12be.jpg: corrupt JPEG restored and saved\n",
      "\u001b[34m\u001b[1mval: \u001b[0mWARNING  C:\\Users\\dawoo\\Desktop\\SF7\\coding\\PYTORCH\\project\\valid\\images\\205_101_10_a97f8ed9-11e6-4bad-9836-da7a5cd7711c.jpg: corrupt JPEG restored and saved\n",
      "\u001b[34m\u001b[1mval: \u001b[0mWARNING  C:\\Users\\dawoo\\Desktop\\SF7\\coding\\PYTORCH\\project\\valid\\images\\205_101_10_ab23d789-5072-475d-bd88-a0158a7dcfbc.jpg: corrupt JPEG restored and saved\n",
      "\u001b[34m\u001b[1mval: \u001b[0mWARNING  C:\\Users\\dawoo\\Desktop\\SF7\\coding\\PYTORCH\\project\\valid\\images\\205_101_10_b36f1190-89c8-4629-b64c-a83c0621363f.jpg: corrupt JPEG restored and saved\n",
      "\u001b[34m\u001b[1mval: \u001b[0mWARNING  C:\\Users\\dawoo\\Desktop\\SF7\\coding\\PYTORCH\\project\\valid\\images\\205_101_10_b6724180-7ee9-4c7f-bf7d-22ed112bb17f.jpg: corrupt JPEG restored and saved\n",
      "\u001b[34m\u001b[1mval: \u001b[0mWARNING  C:\\Users\\dawoo\\Desktop\\SF7\\coding\\PYTORCH\\project\\valid\\images\\205_101_10_bbe3d274-32c9-4c67-9d9d-1f4bc2a73a98.jpg: corrupt JPEG restored and saved\n",
      "\u001b[34m\u001b[1mval: \u001b[0mWARNING  C:\\Users\\dawoo\\Desktop\\SF7\\coding\\PYTORCH\\project\\valid\\images\\205_101_10_c129cb24-5c81-4b46-9bf2-2111c8583c6a.jpg: corrupt JPEG restored and saved\n",
      "\u001b[34m\u001b[1mval: \u001b[0mWARNING  C:\\Users\\dawoo\\Desktop\\SF7\\coding\\PYTORCH\\project\\valid\\images\\205_101_10_c4712a88-9bb1-4c88-99d5-8ffd626fe21b.jpg: corrupt JPEG restored and saved\n",
      "\u001b[34m\u001b[1mval: \u001b[0mWARNING  C:\\Users\\dawoo\\Desktop\\SF7\\coding\\PYTORCH\\project\\valid\\images\\205_101_10_cedccb63-5e2c-4b8c-a9cd-c367b8658fbb.jpg: corrupt JPEG restored and saved\n",
      "\u001b[34m\u001b[1mval: \u001b[0mWARNING  C:\\Users\\dawoo\\Desktop\\SF7\\coding\\PYTORCH\\project\\valid\\images\\205_101_10_d89d77d2-0c9c-40e0-809d-aa903b290347.jpg: corrupt JPEG restored and saved\n",
      "\u001b[34m\u001b[1mval: \u001b[0mWARNING  C:\\Users\\dawoo\\Desktop\\SF7\\coding\\PYTORCH\\project\\valid\\images\\205_101_10_d9f02d1a-b5a6-4a93-ac0b-5c611953fa94.jpg: corrupt JPEG restored and saved\n",
      "\u001b[34m\u001b[1mval: \u001b[0mWARNING  C:\\Users\\dawoo\\Desktop\\SF7\\coding\\PYTORCH\\project\\valid\\images\\205_101_10_da1717c4-03dd-4864-850f-8d109d5ccc87.jpg: corrupt JPEG restored and saved\n",
      "\u001b[34m\u001b[1mval: \u001b[0mWARNING  C:\\Users\\dawoo\\Desktop\\SF7\\coding\\PYTORCH\\project\\valid\\images\\205_101_10_dece3689-1f56-4223-964b-d3b8ce71cce3.jpg: corrupt JPEG restored and saved\n",
      "\u001b[34m\u001b[1mval: \u001b[0mWARNING  C:\\Users\\dawoo\\Desktop\\SF7\\coding\\PYTORCH\\project\\valid\\images\\205_101_10_e79be75b-b4c0-407a-8659-033070d76b23.jpg: corrupt JPEG restored and saved\n",
      "\u001b[34m\u001b[1mval: \u001b[0mWARNING  C:\\Users\\dawoo\\Desktop\\SF7\\coding\\PYTORCH\\project\\valid\\images\\205_101_10_ed04c7a5-49e9-4b24-9828-bce69cd30ad7.jpg: corrupt JPEG restored and saved\n",
      "\u001b[34m\u001b[1mval: \u001b[0mWARNING  C:\\Users\\dawoo\\Desktop\\SF7\\coding\\PYTORCH\\project\\valid\\images\\205_101_10_edf3db25-6c15-43a1-a21f-744b59d7a1e5.jpg: corrupt JPEG restored and saved\n",
      "\u001b[34m\u001b[1mval: \u001b[0mWARNING  C:\\Users\\dawoo\\Desktop\\SF7\\coding\\PYTORCH\\project\\valid\\images\\205_101_20_02137c77-5050-45bc-b09b-2e52ff25aad7.jpg: corrupt JPEG restored and saved\n",
      "\u001b[34m\u001b[1mval: \u001b[0mWARNING  C:\\Users\\dawoo\\Desktop\\SF7\\coding\\PYTORCH\\project\\valid\\images\\205_101_20_0243ffd6-c53c-44f9-8a37-222a769da643.jpg: corrupt JPEG restored and saved\n",
      "\u001b[34m\u001b[1mval: \u001b[0mWARNING  C:\\Users\\dawoo\\Desktop\\SF7\\coding\\PYTORCH\\project\\valid\\images\\205_101_20_0914b3a7-f7f9-4790-a0b9-9d339003995d.jpg: corrupt JPEG restored and saved\n",
      "\u001b[34m\u001b[1mval: \u001b[0mWARNING  C:\\Users\\dawoo\\Desktop\\SF7\\coding\\PYTORCH\\project\\valid\\images\\205_101_20_1acf936e-53bb-43f2-81e2-b93dc963e195.jpg: corrupt JPEG restored and saved\n",
      "\u001b[34m\u001b[1mval: \u001b[0mWARNING  C:\\Users\\dawoo\\Desktop\\SF7\\coding\\PYTORCH\\project\\valid\\images\\205_101_20_1ba7388a-04f3-469d-9619-ca9d82561cc3.jpg: corrupt JPEG restored and saved\n",
      "\u001b[34m\u001b[1mval: \u001b[0mWARNING  C:\\Users\\dawoo\\Desktop\\SF7\\coding\\PYTORCH\\project\\valid\\images\\205_101_20_1bf7c87d-49b6-4cff-b0bd-c3033fc90400.jpg: corrupt JPEG restored and saved\n",
      "\u001b[34m\u001b[1mval: \u001b[0mWARNING  C:\\Users\\dawoo\\Desktop\\SF7\\coding\\PYTORCH\\project\\valid\\images\\205_101_20_21ec2c4d-8827-46ca-a9c3-18d34c263a6c.jpg: corrupt JPEG restored and saved\n",
      "\u001b[34m\u001b[1mval: \u001b[0mWARNING  C:\\Users\\dawoo\\Desktop\\SF7\\coding\\PYTORCH\\project\\valid\\images\\205_101_20_24ee6d73-126c-4d41-8409-1caf836e7d12.jpg: corrupt JPEG restored and saved\n",
      "\u001b[34m\u001b[1mval: \u001b[0mWARNING  C:\\Users\\dawoo\\Desktop\\SF7\\coding\\PYTORCH\\project\\valid\\images\\205_101_20_28b7e211-4a69-492d-ab6d-4a772169cd1d.jpg: corrupt JPEG restored and saved\n",
      "\u001b[34m\u001b[1mval: \u001b[0mWARNING  C:\\Users\\dawoo\\Desktop\\SF7\\coding\\PYTORCH\\project\\valid\\images\\205_101_20_2af66f2c-bddb-4c65-bc7c-6c3c0a18174d.jpg: corrupt JPEG restored and saved\n",
      "\u001b[34m\u001b[1mval: \u001b[0mWARNING  C:\\Users\\dawoo\\Desktop\\SF7\\coding\\PYTORCH\\project\\valid\\images\\205_101_20_2cf382f1-642e-4766-b2e5-914f62e4fbc7.jpg: corrupt JPEG restored and saved\n",
      "\u001b[34m\u001b[1mval: \u001b[0mWARNING  C:\\Users\\dawoo\\Desktop\\SF7\\coding\\PYTORCH\\project\\valid\\images\\205_101_20_3170aec5-add3-4176-b4c5-be62c17f4452.jpg: corrupt JPEG restored and saved\n",
      "\u001b[34m\u001b[1mval: \u001b[0mWARNING  C:\\Users\\dawoo\\Desktop\\SF7\\coding\\PYTORCH\\project\\valid\\images\\205_101_20_324d4554-5aa1-43f1-97c0-eb8295be80d6.jpg: corrupt JPEG restored and saved\n",
      "\u001b[34m\u001b[1mval: \u001b[0mWARNING  C:\\Users\\dawoo\\Desktop\\SF7\\coding\\PYTORCH\\project\\valid\\images\\205_101_20_332b21dd-fa08-4d93-9f75-2bfd90949744.jpg: corrupt JPEG restored and saved\n",
      "\u001b[34m\u001b[1mval: \u001b[0mWARNING  C:\\Users\\dawoo\\Desktop\\SF7\\coding\\PYTORCH\\project\\valid\\images\\205_101_20_34a7a79a-98c3-406f-bc62-02caa759f465.jpg: corrupt JPEG restored and saved\n",
      "\u001b[34m\u001b[1mval: \u001b[0mWARNING  C:\\Users\\dawoo\\Desktop\\SF7\\coding\\PYTORCH\\project\\valid\\images\\205_101_20_395449fa-e1c6-4beb-a678-66491227c2d3.jpg: corrupt JPEG restored and saved\n",
      "\u001b[34m\u001b[1mval: \u001b[0mWARNING  C:\\Users\\dawoo\\Desktop\\SF7\\coding\\PYTORCH\\project\\valid\\images\\205_101_20_44388f55-4d05-4715-b061-411b08c863b9.jpg: corrupt JPEG restored and saved\n",
      "\u001b[34m\u001b[1mval: \u001b[0mWARNING  C:\\Users\\dawoo\\Desktop\\SF7\\coding\\PYTORCH\\project\\valid\\images\\205_101_20_485ca50e-ffbd-4fbd-8775-3e50a0cc9358.jpg: corrupt JPEG restored and saved\n",
      "\u001b[34m\u001b[1mval: \u001b[0mWARNING  C:\\Users\\dawoo\\Desktop\\SF7\\coding\\PYTORCH\\project\\valid\\images\\205_101_20_4a10b76d-40c6-44c7-8292-b38b6394e04f.jpg: corrupt JPEG restored and saved\n",
      "\u001b[34m\u001b[1mval: \u001b[0mWARNING  C:\\Users\\dawoo\\Desktop\\SF7\\coding\\PYTORCH\\project\\valid\\images\\205_101_20_4ceaa200-d3d8-4dab-bd3d-f9208b26a7c3.jpg: corrupt JPEG restored and saved\n",
      "\u001b[34m\u001b[1mval: \u001b[0mWARNING  C:\\Users\\dawoo\\Desktop\\SF7\\coding\\PYTORCH\\project\\valid\\images\\205_101_20_5b73a353-0cfb-4616-964d-85a0a91b165e.jpg: corrupt JPEG restored and saved\n",
      "\u001b[34m\u001b[1mval: \u001b[0mWARNING  C:\\Users\\dawoo\\Desktop\\SF7\\coding\\PYTORCH\\project\\valid\\images\\205_101_20_65fd6f23-c3b7-4103-a86a-1461d1570fc0.jpg: corrupt JPEG restored and saved\n",
      "\u001b[34m\u001b[1mval: \u001b[0mWARNING  C:\\Users\\dawoo\\Desktop\\SF7\\coding\\PYTORCH\\project\\valid\\images\\205_101_20_67ae40fd-1e36-4e0c-b2e9-e320bae09515.jpg: corrupt JPEG restored and saved\n",
      "\u001b[34m\u001b[1mval: \u001b[0mWARNING  C:\\Users\\dawoo\\Desktop\\SF7\\coding\\PYTORCH\\project\\valid\\images\\205_101_20_68606df3-d002-4d0d-afe3-721aabdb695e.jpg: corrupt JPEG restored and saved\n",
      "\u001b[34m\u001b[1mval: \u001b[0mWARNING  C:\\Users\\dawoo\\Desktop\\SF7\\coding\\PYTORCH\\project\\valid\\images\\205_101_20_6ce620d7-fdfa-4bd1-b809-2fe93ec106f4.jpg: corrupt JPEG restored and saved\n",
      "\u001b[34m\u001b[1mval: \u001b[0mWARNING  C:\\Users\\dawoo\\Desktop\\SF7\\coding\\PYTORCH\\project\\valid\\images\\205_101_20_7ba4d6af-4d81-45c5-8949-26bba0e9003f.jpg: corrupt JPEG restored and saved\n",
      "\u001b[34m\u001b[1mval: \u001b[0mWARNING  C:\\Users\\dawoo\\Desktop\\SF7\\coding\\PYTORCH\\project\\valid\\images\\205_101_20_845ed3cb-0078-4fa6-801f-35cf17c96672.jpg: corrupt JPEG restored and saved\n",
      "\u001b[34m\u001b[1mval: \u001b[0mWARNING  C:\\Users\\dawoo\\Desktop\\SF7\\coding\\PYTORCH\\project\\valid\\images\\205_101_20_88e88695-5e8e-40ca-99fc-684fe2aa6ed3.jpg: corrupt JPEG restored and saved\n",
      "\u001b[34m\u001b[1mval: \u001b[0mWARNING  C:\\Users\\dawoo\\Desktop\\SF7\\coding\\PYTORCH\\project\\valid\\images\\205_101_20_8c276dcb-b0ec-4528-a71e-36702e197f45.jpg: corrupt JPEG restored and saved\n",
      "\u001b[34m\u001b[1mval: \u001b[0mWARNING  C:\\Users\\dawoo\\Desktop\\SF7\\coding\\PYTORCH\\project\\valid\\images\\205_101_20_8e085305-4004-4c25-9e0d-157c76f6fdb1.jpg: corrupt JPEG restored and saved\n",
      "\u001b[34m\u001b[1mval: \u001b[0mWARNING  C:\\Users\\dawoo\\Desktop\\SF7\\coding\\PYTORCH\\project\\valid\\images\\205_101_20_91eed014-2855-4f76-b1be-277823911c11.jpg: corrupt JPEG restored and saved\n",
      "\u001b[34m\u001b[1mval: \u001b[0mWARNING  C:\\Users\\dawoo\\Desktop\\SF7\\coding\\PYTORCH\\project\\valid\\images\\205_101_20_9247d60c-aa93-4e3f-8a6f-530f6904c9b1.jpg: corrupt JPEG restored and saved\n",
      "\u001b[34m\u001b[1mval: \u001b[0mWARNING  C:\\Users\\dawoo\\Desktop\\SF7\\coding\\PYTORCH\\project\\valid\\images\\205_101_20_9d6758b5-06ec-4d8b-8f8b-3524ad70a4d0.jpg: corrupt JPEG restored and saved\n",
      "\u001b[34m\u001b[1mval: \u001b[0mWARNING  C:\\Users\\dawoo\\Desktop\\SF7\\coding\\PYTORCH\\project\\valid\\images\\205_101_20_a151da56-6f72-4d44-9bd8-a3a1ed509298.jpg: corrupt JPEG restored and saved\n",
      "\u001b[34m\u001b[1mval: \u001b[0mWARNING  C:\\Users\\dawoo\\Desktop\\SF7\\coding\\PYTORCH\\project\\valid\\images\\205_101_20_b01eac4d-53b0-4459-97c9-3e5399ba901b.jpg: corrupt JPEG restored and saved\n",
      "\u001b[34m\u001b[1mval: \u001b[0mWARNING  C:\\Users\\dawoo\\Desktop\\SF7\\coding\\PYTORCH\\project\\valid\\images\\205_101_20_b1e7a5a6-bad0-481a-bc30-862b6d5e41c2.jpg: corrupt JPEG restored and saved\n",
      "\u001b[34m\u001b[1mval: \u001b[0mWARNING  C:\\Users\\dawoo\\Desktop\\SF7\\coding\\PYTORCH\\project\\valid\\images\\205_101_20_b3b98c1d-6ca4-4e87-9c16-1ded010324c2.jpg: corrupt JPEG restored and saved\n",
      "\u001b[34m\u001b[1mval: \u001b[0mWARNING  C:\\Users\\dawoo\\Desktop\\SF7\\coding\\PYTORCH\\project\\valid\\images\\205_101_20_b51a96d5-06af-4800-b89f-3d7a7e185e55.jpg: corrupt JPEG restored and saved\n",
      "\u001b[34m\u001b[1mval: \u001b[0mWARNING  C:\\Users\\dawoo\\Desktop\\SF7\\coding\\PYTORCH\\project\\valid\\images\\205_101_20_bc87e47f-af07-401d-8646-8cada870e116.jpg: corrupt JPEG restored and saved\n",
      "\u001b[34m\u001b[1mval: \u001b[0mWARNING  C:\\Users\\dawoo\\Desktop\\SF7\\coding\\PYTORCH\\project\\valid\\images\\205_101_20_c7e23940-ed93-4aea-b53b-a41ef6ee1d13.jpg: corrupt JPEG restored and saved\n",
      "\u001b[34m\u001b[1mval: \u001b[0mWARNING  C:\\Users\\dawoo\\Desktop\\SF7\\coding\\PYTORCH\\project\\valid\\images\\205_101_20_c924a6d2-f203-4dfa-9dc4-0419d363a744.jpg: corrupt JPEG restored and saved\n",
      "\u001b[34m\u001b[1mval: \u001b[0mWARNING  C:\\Users\\dawoo\\Desktop\\SF7\\coding\\PYTORCH\\project\\valid\\images\\205_101_20_d15b02a6-a12b-4ea6-b00b-d0db032c350b.jpg: corrupt JPEG restored and saved\n",
      "\u001b[34m\u001b[1mval: \u001b[0mWARNING  C:\\Users\\dawoo\\Desktop\\SF7\\coding\\PYTORCH\\project\\valid\\images\\205_101_20_d7504074-f53e-4c44-84ec-636e61f902ac.jpg: corrupt JPEG restored and saved\n",
      "\u001b[34m\u001b[1mval: \u001b[0mWARNING  C:\\Users\\dawoo\\Desktop\\SF7\\coding\\PYTORCH\\project\\valid\\images\\205_101_20_db828f36-0828-4b69-b141-754679010861.jpg: corrupt JPEG restored and saved\n",
      "\u001b[34m\u001b[1mval: \u001b[0mWARNING  C:\\Users\\dawoo\\Desktop\\SF7\\coding\\PYTORCH\\project\\valid\\images\\205_101_20_ddafd7d3-8b1c-4d6b-84a2-4b619191f091.jpg: corrupt JPEG restored and saved\n",
      "\u001b[34m\u001b[1mval: \u001b[0mWARNING  C:\\Users\\dawoo\\Desktop\\SF7\\coding\\PYTORCH\\project\\valid\\images\\205_101_20_dfea840a-9c09-4dcf-a02e-a4719077756e.jpg: corrupt JPEG restored and saved\n",
      "\u001b[34m\u001b[1mval: \u001b[0mWARNING  C:\\Users\\dawoo\\Desktop\\SF7\\coding\\PYTORCH\\project\\valid\\images\\205_101_20_e6550617-9269-4fbd-af7b-16b1a9a5c14f.jpg: corrupt JPEG restored and saved\n",
      "\u001b[34m\u001b[1mval: \u001b[0mWARNING  C:\\Users\\dawoo\\Desktop\\SF7\\coding\\PYTORCH\\project\\valid\\images\\205_101_20_e6dd39d3-7dc0-483d-88e9-b095e6068a7f.jpg: corrupt JPEG restored and saved\n",
      "\u001b[34m\u001b[1mval: \u001b[0mWARNING  C:\\Users\\dawoo\\Desktop\\SF7\\coding\\PYTORCH\\project\\valid\\images\\205_101_20_e94db873-b9b9-4c50-be3b-840fdafa9e09.jpg: corrupt JPEG restored and saved\n",
      "\u001b[34m\u001b[1mval: \u001b[0mWARNING  C:\\Users\\dawoo\\Desktop\\SF7\\coding\\PYTORCH\\project\\valid\\images\\205_101_20_f085171b-ed13-45ea-bed8-bc7a6c3a96bb.jpg: corrupt JPEG restored and saved\n",
      "\u001b[34m\u001b[1mval: \u001b[0mWARNING  C:\\Users\\dawoo\\Desktop\\SF7\\coding\\PYTORCH\\project\\valid\\images\\205_101_20_f6285f3d-f758-49af-882b-1ffbe2014b52.jpg: corrupt JPEG restored and saved\n",
      "\u001b[34m\u001b[1mval: \u001b[0mWARNING  C:\\Users\\dawoo\\Desktop\\SF7\\coding\\PYTORCH\\project\\valid\\images\\205_101_20_f7fde900-2220-4eda-9acf-f66807b5f2b9.jpg: corrupt JPEG restored and saved\n",
      "\u001b[34m\u001b[1mval: \u001b[0mWARNING  C:\\Users\\dawoo\\Desktop\\SF7\\coding\\PYTORCH\\project\\valid\\images\\205_101_20_f8aa5628-9edc-427e-93c3-520f3aa5d298.jpg: corrupt JPEG restored and saved\n",
      "\u001b[34m\u001b[1mval: \u001b[0mWARNING  C:\\Users\\dawoo\\Desktop\\SF7\\coding\\PYTORCH\\project\\valid\\images\\205_101_20_fba2c485-8da2-4267-9ec0-386967a90a9a.jpg: corrupt JPEG restored and saved\n"
     ]
    },
    {
     "name": "stderr",
     "output_type": "stream",
     "text": [
      "\n"
     ]
    },
    {
     "name": "stdout",
     "output_type": "stream",
     "text": [
      "WARNING  cache='ram' may produce non-deterministic training results. Consider cache='disk' as a deterministic alternative if your disk space allows.\n"
     ]
    },
    {
     "name": "stderr",
     "output_type": "stream",
     "text": [
      "\u001b[34m\u001b[1mval: \u001b[0mCaching images (0.1GB RAM): 100%|██████████| 144/144 [00:03<00:00, 47.55it/s]\n"
     ]
    },
    {
     "name": "stdout",
     "output_type": "stream",
     "text": [
      "Plotting labels to C:\\Users\\dawoo\\Desktop\\SF7\\coding\\PYTORCH\\project\\detect\\model_8_s_200_14_51215\\labels.jpg... \n",
      "\u001b[34m\u001b[1moptimizer:\u001b[0m Adam(lr=0.0001, momentum=0.6) with parameter groups 81 weight(decay=0.0), 88 weight(decay=0.00046875), 87 bias(decay=0.0)\n",
      "Image sizes 640 train, 640 val\n",
      "Using 4 dataloader workers\n",
      "Logging results to \u001b[1mC:\\Users\\dawoo\\Desktop\\SF7\\coding\\PYTORCH\\project\\detect\\model_8_s_200_14_51215\u001b[0m\n",
      "Starting training for 50 epochs...\n",
      "\n",
      "      Epoch    GPU_mem   box_loss   cls_loss   dfl_loss  Instances       Size\n"
     ]
    },
    {
     "name": "stderr",
     "output_type": "stream",
     "text": [
      "       1/50      3.24G      1.874      3.412      1.658         38        640: 100%|██████████| 48/48 [00:15<00:00,  3.12it/s]\n",
      "                 Class     Images  Instances      Box(P          R      mAP50  mAP50-95): 100%|██████████| 6/6 [00:01<00:00,  5.53it/s]"
     ]
    },
    {
     "name": "stdout",
     "output_type": "stream",
     "text": [
      "                   all        144        198      0.125      0.103     0.0928     0.0467\n"
     ]
    },
    {
     "name": "stderr",
     "output_type": "stream",
     "text": [
      "\n"
     ]
    },
    {
     "name": "stdout",
     "output_type": "stream",
     "text": [
      "\n",
      "      Epoch    GPU_mem   box_loss   cls_loss   dfl_loss  Instances       Size\n"
     ]
    },
    {
     "name": "stderr",
     "output_type": "stream",
     "text": [
      "       2/50      3.31G      1.421      1.461      1.295         35        640: 100%|██████████| 48/48 [00:14<00:00,  3.35it/s]\n",
      "                 Class     Images  Instances      Box(P          R      mAP50  mAP50-95): 100%|██████████| 6/6 [00:01<00:00,  5.65it/s]"
     ]
    },
    {
     "name": "stdout",
     "output_type": "stream",
     "text": [
      "                   all        144        198      0.298      0.123      0.201      0.114\n"
     ]
    },
    {
     "name": "stderr",
     "output_type": "stream",
     "text": [
      "\n"
     ]
    },
    {
     "name": "stdout",
     "output_type": "stream",
     "text": [
      "\n",
      "      Epoch    GPU_mem   box_loss   cls_loss   dfl_loss  Instances       Size\n"
     ]
    },
    {
     "name": "stderr",
     "output_type": "stream",
     "text": [
      "       3/50      3.29G      1.345      1.239      1.237         29        640: 100%|██████████| 48/48 [00:14<00:00,  3.40it/s]\n",
      "                 Class     Images  Instances      Box(P          R      mAP50  mAP50-95): 100%|██████████| 6/6 [00:01<00:00,  5.52it/s]"
     ]
    },
    {
     "name": "stdout",
     "output_type": "stream",
     "text": [
      "                   all        144        198      0.236      0.238      0.223      0.124\n"
     ]
    },
    {
     "name": "stderr",
     "output_type": "stream",
     "text": [
      "\n"
     ]
    },
    {
     "name": "stdout",
     "output_type": "stream",
     "text": [
      "\n",
      "      Epoch    GPU_mem   box_loss   cls_loss   dfl_loss  Instances       Size\n"
     ]
    },
    {
     "name": "stderr",
     "output_type": "stream",
     "text": [
      "       4/50      3.27G      1.235      1.112      1.176         38        640: 100%|██████████| 48/48 [00:14<00:00,  3.42it/s]\n",
      "                 Class     Images  Instances      Box(P          R      mAP50  mAP50-95): 100%|██████████| 6/6 [00:01<00:00,  5.29it/s]"
     ]
    },
    {
     "name": "stdout",
     "output_type": "stream",
     "text": [
      "                   all        144        198       0.25      0.274      0.261       0.16\n"
     ]
    },
    {
     "name": "stderr",
     "output_type": "stream",
     "text": [
      "\n"
     ]
    },
    {
     "name": "stdout",
     "output_type": "stream",
     "text": [
      "\n",
      "      Epoch    GPU_mem   box_loss   cls_loss   dfl_loss  Instances       Size\n"
     ]
    },
    {
     "name": "stderr",
     "output_type": "stream",
     "text": [
      "       5/50       3.3G       1.19     0.9674      1.142         38        640: 100%|██████████| 48/48 [00:14<00:00,  3.40it/s]\n",
      "                 Class     Images  Instances      Box(P          R      mAP50  mAP50-95): 100%|██████████| 6/6 [00:01<00:00,  5.63it/s]"
     ]
    },
    {
     "name": "stdout",
     "output_type": "stream",
     "text": [
      "                   all        144        198       0.34      0.202      0.263      0.162\n"
     ]
    },
    {
     "name": "stderr",
     "output_type": "stream",
     "text": [
      "\n"
     ]
    },
    {
     "name": "stdout",
     "output_type": "stream",
     "text": [
      "\n",
      "      Epoch    GPU_mem   box_loss   cls_loss   dfl_loss  Instances       Size\n"
     ]
    },
    {
     "name": "stderr",
     "output_type": "stream",
     "text": [
      "       6/50      3.29G      1.152     0.9331      1.108         48        640: 100%|██████████| 48/48 [00:14<00:00,  3.42it/s]\n",
      "                 Class     Images  Instances      Box(P          R      mAP50  mAP50-95): 100%|██████████| 6/6 [00:01<00:00,  5.56it/s]"
     ]
    },
    {
     "name": "stdout",
     "output_type": "stream",
     "text": [
      "                   all        144        198      0.306      0.226      0.268      0.177\n"
     ]
    },
    {
     "name": "stderr",
     "output_type": "stream",
     "text": [
      "\n"
     ]
    },
    {
     "name": "stdout",
     "output_type": "stream",
     "text": [
      "\n",
      "      Epoch    GPU_mem   box_loss   cls_loss   dfl_loss  Instances       Size\n"
     ]
    },
    {
     "name": "stderr",
     "output_type": "stream",
     "text": [
      "       7/50      3.29G      1.067     0.8452       1.08         26        640: 100%|██████████| 48/48 [00:14<00:00,  3.38it/s]\n",
      "                 Class     Images  Instances      Box(P          R      mAP50  mAP50-95): 100%|██████████| 6/6 [00:01<00:00,  5.31it/s]"
     ]
    },
    {
     "name": "stdout",
     "output_type": "stream",
     "text": [
      "                   all        144        198      0.288      0.302      0.307      0.188\n"
     ]
    },
    {
     "name": "stderr",
     "output_type": "stream",
     "text": [
      "\n"
     ]
    },
    {
     "name": "stdout",
     "output_type": "stream",
     "text": [
      "\n",
      "      Epoch    GPU_mem   box_loss   cls_loss   dfl_loss  Instances       Size\n"
     ]
    },
    {
     "name": "stderr",
     "output_type": "stream",
     "text": [
      "       8/50      3.29G      1.038     0.8087      1.077         30        640: 100%|██████████| 48/48 [00:14<00:00,  3.37it/s]\n",
      "                 Class     Images  Instances      Box(P          R      mAP50  mAP50-95): 100%|██████████| 6/6 [00:01<00:00,  4.78it/s]"
     ]
    },
    {
     "name": "stdout",
     "output_type": "stream",
     "text": [
      "                   all        144        198      0.328      0.258      0.277      0.173\n"
     ]
    },
    {
     "name": "stderr",
     "output_type": "stream",
     "text": [
      "\n"
     ]
    },
    {
     "name": "stdout",
     "output_type": "stream",
     "text": [
      "\n",
      "      Epoch    GPU_mem   box_loss   cls_loss   dfl_loss  Instances       Size\n"
     ]
    },
    {
     "name": "stderr",
     "output_type": "stream",
     "text": [
      "       9/50      3.29G      1.055     0.8231      1.071         33        640: 100%|██████████| 48/48 [00:15<00:00,  3.16it/s]\n",
      "                 Class     Images  Instances      Box(P          R      mAP50  mAP50-95): 100%|██████████| 6/6 [00:01<00:00,  5.07it/s]"
     ]
    },
    {
     "name": "stdout",
     "output_type": "stream",
     "text": [
      "                   all        144        198      0.339      0.234      0.295      0.175\n"
     ]
    },
    {
     "name": "stderr",
     "output_type": "stream",
     "text": [
      "\n"
     ]
    },
    {
     "name": "stdout",
     "output_type": "stream",
     "text": [
      "\n",
      "      Epoch    GPU_mem   box_loss   cls_loss   dfl_loss  Instances       Size\n"
     ]
    },
    {
     "name": "stderr",
     "output_type": "stream",
     "text": [
      "      10/50      3.29G      1.016     0.7792      1.044         37        640: 100%|██████████| 48/48 [00:15<00:00,  3.13it/s]\n",
      "                 Class     Images  Instances      Box(P          R      mAP50  mAP50-95): 100%|██████████| 6/6 [00:01<00:00,  4.45it/s]"
     ]
    },
    {
     "name": "stdout",
     "output_type": "stream",
     "text": [
      "                   all        144        198      0.346      0.214      0.283       0.18\n"
     ]
    },
    {
     "name": "stderr",
     "output_type": "stream",
     "text": [
      "\n"
     ]
    },
    {
     "name": "stdout",
     "output_type": "stream",
     "text": [
      "\n",
      "      Epoch    GPU_mem   box_loss   cls_loss   dfl_loss  Instances       Size\n"
     ]
    },
    {
     "name": "stderr",
     "output_type": "stream",
     "text": [
      "      11/50      3.29G     0.9756      0.741       1.03         18        640: 100%|██████████| 48/48 [00:15<00:00,  3.16it/s]\n",
      "                 Class     Images  Instances      Box(P          R      mAP50  mAP50-95): 100%|██████████| 6/6 [00:01<00:00,  4.85it/s]"
     ]
    },
    {
     "name": "stdout",
     "output_type": "stream",
     "text": [
      "                   all        144        198       0.34      0.262       0.29      0.176\n"
     ]
    },
    {
     "name": "stderr",
     "output_type": "stream",
     "text": [
      "\n"
     ]
    },
    {
     "name": "stdout",
     "output_type": "stream",
     "text": [
      "\n",
      "      Epoch    GPU_mem   box_loss   cls_loss   dfl_loss  Instances       Size\n"
     ]
    },
    {
     "name": "stderr",
     "output_type": "stream",
     "text": [
      "      12/50      3.29G     0.9925     0.7434      1.054         33        640: 100%|██████████| 48/48 [00:14<00:00,  3.36it/s]\n",
      "                 Class     Images  Instances      Box(P          R      mAP50  mAP50-95): 100%|██████████| 6/6 [00:01<00:00,  5.44it/s]"
     ]
    },
    {
     "name": "stdout",
     "output_type": "stream",
     "text": [
      "                   all        144        198      0.361       0.27      0.318      0.192\n"
     ]
    },
    {
     "name": "stderr",
     "output_type": "stream",
     "text": [
      "\n"
     ]
    },
    {
     "name": "stdout",
     "output_type": "stream",
     "text": [
      "\n",
      "      Epoch    GPU_mem   box_loss   cls_loss   dfl_loss  Instances       Size\n"
     ]
    },
    {
     "name": "stderr",
     "output_type": "stream",
     "text": [
      "      13/50      3.31G     0.9432     0.7058      1.031         28        640: 100%|██████████| 48/48 [00:15<00:00,  3.19it/s]\n",
      "                 Class     Images  Instances      Box(P          R      mAP50  mAP50-95): 100%|██████████| 6/6 [00:01<00:00,  4.89it/s]"
     ]
    },
    {
     "name": "stdout",
     "output_type": "stream",
     "text": [
      "                   all        144        198      0.343      0.226       0.29      0.177\n"
     ]
    },
    {
     "name": "stderr",
     "output_type": "stream",
     "text": [
      "\n"
     ]
    },
    {
     "name": "stdout",
     "output_type": "stream",
     "text": [
      "\n",
      "      Epoch    GPU_mem   box_loss   cls_loss   dfl_loss  Instances       Size\n"
     ]
    },
    {
     "name": "stderr",
     "output_type": "stream",
     "text": [
      "      14/50      3.27G     0.9364     0.6971      1.011         35        640: 100%|██████████| 48/48 [00:15<00:00,  3.09it/s]\n",
      "                 Class     Images  Instances      Box(P          R      mAP50  mAP50-95): 100%|██████████| 6/6 [00:01<00:00,  4.30it/s]"
     ]
    },
    {
     "name": "stdout",
     "output_type": "stream",
     "text": [
      "                   all        144        198      0.313      0.246      0.293      0.182\n"
     ]
    },
    {
     "name": "stderr",
     "output_type": "stream",
     "text": [
      "\n"
     ]
    },
    {
     "name": "stdout",
     "output_type": "stream",
     "text": [
      "\n",
      "      Epoch    GPU_mem   box_loss   cls_loss   dfl_loss  Instances       Size\n"
     ]
    },
    {
     "name": "stderr",
     "output_type": "stream",
     "text": [
      "      15/50      3.29G     0.8827     0.6652     0.9918         36        640: 100%|██████████| 48/48 [00:15<00:00,  3.14it/s]\n",
      "                 Class     Images  Instances      Box(P          R      mAP50  mAP50-95): 100%|██████████| 6/6 [00:01<00:00,  4.44it/s]"
     ]
    },
    {
     "name": "stdout",
     "output_type": "stream",
     "text": [
      "                   all        144        198       0.36      0.226      0.293      0.183\n"
     ]
    },
    {
     "name": "stderr",
     "output_type": "stream",
     "text": [
      "\n"
     ]
    },
    {
     "name": "stdout",
     "output_type": "stream",
     "text": [
      "\n",
      "      Epoch    GPU_mem   box_loss   cls_loss   dfl_loss  Instances       Size\n"
     ]
    },
    {
     "name": "stderr",
     "output_type": "stream",
     "text": [
      "      16/50      3.31G     0.8633     0.6419     0.9887         44        640: 100%|██████████| 48/48 [00:15<00:00,  3.06it/s]\n",
      "                 Class     Images  Instances      Box(P          R      mAP50  mAP50-95): 100%|██████████| 6/6 [00:01<00:00,  4.71it/s]"
     ]
    },
    {
     "name": "stdout",
     "output_type": "stream",
     "text": [
      "                   all        144        198      0.352      0.246      0.308      0.194\n"
     ]
    },
    {
     "name": "stderr",
     "output_type": "stream",
     "text": [
      "\n"
     ]
    },
    {
     "name": "stdout",
     "output_type": "stream",
     "text": [
      "\n",
      "      Epoch    GPU_mem   box_loss   cls_loss   dfl_loss  Instances       Size\n"
     ]
    },
    {
     "name": "stderr",
     "output_type": "stream",
     "text": [
      "      17/50      3.29G     0.8377     0.6006     0.9701         35        640: 100%|██████████| 48/48 [00:15<00:00,  3.17it/s]\n",
      "                 Class     Images  Instances      Box(P          R      mAP50  mAP50-95): 100%|██████████| 6/6 [00:01<00:00,  4.95it/s]"
     ]
    },
    {
     "name": "stdout",
     "output_type": "stream",
     "text": [
      "                   all        144        198      0.327      0.262      0.306      0.187\n"
     ]
    },
    {
     "name": "stderr",
     "output_type": "stream",
     "text": [
      "\n"
     ]
    },
    {
     "name": "stdout",
     "output_type": "stream",
     "text": [
      "\n",
      "      Epoch    GPU_mem   box_loss   cls_loss   dfl_loss  Instances       Size\n"
     ]
    },
    {
     "name": "stderr",
     "output_type": "stream",
     "text": [
      "      18/50      3.31G     0.8416     0.6311      0.984         23        640: 100%|██████████| 48/48 [00:14<00:00,  3.32it/s]\n",
      "                 Class     Images  Instances      Box(P          R      mAP50  mAP50-95): 100%|██████████| 6/6 [00:01<00:00,  5.72it/s]"
     ]
    },
    {
     "name": "stdout",
     "output_type": "stream",
     "text": [
      "                   all        144        198      0.364      0.234      0.304      0.186\n"
     ]
    },
    {
     "name": "stderr",
     "output_type": "stream",
     "text": [
      "\n"
     ]
    },
    {
     "name": "stdout",
     "output_type": "stream",
     "text": [
      "\n",
      "      Epoch    GPU_mem   box_loss   cls_loss   dfl_loss  Instances       Size\n"
     ]
    },
    {
     "name": "stderr",
     "output_type": "stream",
     "text": [
      "      19/50      3.29G     0.8048     0.5956     0.9653         42        640: 100%|██████████| 48/48 [00:14<00:00,  3.38it/s]\n",
      "                 Class     Images  Instances      Box(P          R      mAP50  mAP50-95): 100%|██████████| 6/6 [00:01<00:00,  4.74it/s]"
     ]
    },
    {
     "name": "stdout",
     "output_type": "stream",
     "text": [
      "                   all        144        198      0.363      0.242      0.309      0.184\n"
     ]
    },
    {
     "name": "stderr",
     "output_type": "stream",
     "text": [
      "\n"
     ]
    },
    {
     "name": "stdout",
     "output_type": "stream",
     "text": [
      "\n",
      "      Epoch    GPU_mem   box_loss   cls_loss   dfl_loss  Instances       Size\n"
     ]
    },
    {
     "name": "stderr",
     "output_type": "stream",
     "text": [
      "      20/50      3.29G      0.788     0.5822     0.9676         28        640: 100%|██████████| 48/48 [00:15<00:00,  3.11it/s]\n",
      "                 Class     Images  Instances      Box(P          R      mAP50  mAP50-95): 100%|██████████| 6/6 [00:01<00:00,  5.03it/s]"
     ]
    },
    {
     "name": "stdout",
     "output_type": "stream",
     "text": [
      "                   all        144        198      0.337      0.254      0.303      0.185\n"
     ]
    },
    {
     "name": "stderr",
     "output_type": "stream",
     "text": [
      "\n"
     ]
    },
    {
     "name": "stdout",
     "output_type": "stream",
     "text": [
      "\n",
      "      Epoch    GPU_mem   box_loss   cls_loss   dfl_loss  Instances       Size\n"
     ]
    },
    {
     "name": "stderr",
     "output_type": "stream",
     "text": [
      "      21/50      3.29G     0.7894     0.5865     0.9657         24        640: 100%|██████████| 48/48 [00:14<00:00,  3.24it/s]\n",
      "                 Class     Images  Instances      Box(P          R      mAP50  mAP50-95): 100%|██████████| 6/6 [00:01<00:00,  4.63it/s]"
     ]
    },
    {
     "name": "stdout",
     "output_type": "stream",
     "text": [
      "                   all        144        198      0.324      0.278      0.302      0.186\n"
     ]
    },
    {
     "name": "stderr",
     "output_type": "stream",
     "text": [
      "\n"
     ]
    },
    {
     "name": "stdout",
     "output_type": "stream",
     "text": [
      "\n",
      "      Epoch    GPU_mem   box_loss   cls_loss   dfl_loss  Instances       Size\n"
     ]
    },
    {
     "name": "stderr",
     "output_type": "stream",
     "text": [
      "      22/50       3.3G      0.761      0.564     0.9725         32        640: 100%|██████████| 48/48 [00:14<00:00,  3.26it/s]\n",
      "                 Class     Images  Instances      Box(P          R      mAP50  mAP50-95): 100%|██████████| 6/6 [00:01<00:00,  5.28it/s]"
     ]
    },
    {
     "name": "stdout",
     "output_type": "stream",
     "text": [
      "                   all        144        198      0.331      0.218      0.289      0.177\n"
     ]
    },
    {
     "name": "stderr",
     "output_type": "stream",
     "text": [
      "\n"
     ]
    },
    {
     "name": "stdout",
     "output_type": "stream",
     "text": [
      "\n",
      "      Epoch    GPU_mem   box_loss   cls_loss   dfl_loss  Instances       Size\n"
     ]
    },
    {
     "name": "stderr",
     "output_type": "stream",
     "text": [
      "      23/50       3.3G     0.7478     0.5648     0.9573         39        640: 100%|██████████| 48/48 [00:14<00:00,  3.30it/s]\n",
      "                 Class     Images  Instances      Box(P          R      mAP50  mAP50-95): 100%|██████████| 6/6 [00:01<00:00,  5.77it/s]"
     ]
    },
    {
     "name": "stdout",
     "output_type": "stream",
     "text": [
      "                   all        144        198      0.371      0.261      0.317      0.192\n"
     ]
    },
    {
     "name": "stderr",
     "output_type": "stream",
     "text": [
      "\n"
     ]
    },
    {
     "name": "stdout",
     "output_type": "stream",
     "text": [
      "\n",
      "      Epoch    GPU_mem   box_loss   cls_loss   dfl_loss  Instances       Size\n"
     ]
    },
    {
     "name": "stderr",
     "output_type": "stream",
     "text": [
      "      24/50      3.27G     0.7353     0.5429     0.9491         31        640: 100%|██████████| 48/48 [00:14<00:00,  3.34it/s]\n",
      "                 Class     Images  Instances      Box(P          R      mAP50  mAP50-95): 100%|██████████| 6/6 [00:01<00:00,  4.78it/s]"
     ]
    },
    {
     "name": "stdout",
     "output_type": "stream",
     "text": [
      "                   all        144        198      0.393      0.278      0.331       0.21\n"
     ]
    },
    {
     "name": "stderr",
     "output_type": "stream",
     "text": [
      "\n"
     ]
    },
    {
     "name": "stdout",
     "output_type": "stream",
     "text": [
      "\n",
      "      Epoch    GPU_mem   box_loss   cls_loss   dfl_loss  Instances       Size\n"
     ]
    },
    {
     "name": "stderr",
     "output_type": "stream",
     "text": [
      "      25/50      3.29G      0.746     0.5448     0.9552         38        640: 100%|██████████| 48/48 [00:15<00:00,  3.10it/s]\n",
      "                 Class     Images  Instances      Box(P          R      mAP50  mAP50-95): 100%|██████████| 6/6 [00:01<00:00,  4.52it/s]"
     ]
    },
    {
     "name": "stdout",
     "output_type": "stream",
     "text": [
      "                   all        144        198      0.341      0.282      0.325      0.202\n"
     ]
    },
    {
     "name": "stderr",
     "output_type": "stream",
     "text": [
      "\n"
     ]
    },
    {
     "name": "stdout",
     "output_type": "stream",
     "text": [
      "\n",
      "      Epoch    GPU_mem   box_loss   cls_loss   dfl_loss  Instances       Size\n"
     ]
    },
    {
     "name": "stderr",
     "output_type": "stream",
     "text": [
      "      26/50       3.3G     0.7253     0.5216     0.9424         44        640: 100%|██████████| 48/48 [00:15<00:00,  3.06it/s]\n",
      "                 Class     Images  Instances      Box(P          R      mAP50  mAP50-95): 100%|██████████| 6/6 [00:01<00:00,  4.48it/s]"
     ]
    },
    {
     "name": "stdout",
     "output_type": "stream",
     "text": [
      "                   all        144        198      0.351      0.282      0.326        0.2\n"
     ]
    },
    {
     "name": "stderr",
     "output_type": "stream",
     "text": [
      "\n"
     ]
    },
    {
     "name": "stdout",
     "output_type": "stream",
     "text": [
      "\n",
      "      Epoch    GPU_mem   box_loss   cls_loss   dfl_loss  Instances       Size\n"
     ]
    },
    {
     "name": "stderr",
     "output_type": "stream",
     "text": [
      "      27/50      3.31G     0.6941     0.4931     0.9309         24        640: 100%|██████████| 48/48 [00:15<00:00,  3.06it/s]\n",
      "                 Class     Images  Instances      Box(P          R      mAP50  mAP50-95): 100%|██████████| 6/6 [00:01<00:00,  4.03it/s]"
     ]
    },
    {
     "name": "stdout",
     "output_type": "stream",
     "text": [
      "                   all        144        198      0.342      0.302      0.315      0.192\n"
     ]
    },
    {
     "name": "stderr",
     "output_type": "stream",
     "text": [
      "\n"
     ]
    },
    {
     "name": "stdout",
     "output_type": "stream",
     "text": [
      "\n",
      "      Epoch    GPU_mem   box_loss   cls_loss   dfl_loss  Instances       Size\n"
     ]
    },
    {
     "name": "stderr",
     "output_type": "stream",
     "text": [
      "      28/50      3.29G     0.7015     0.5213     0.9369         37        640: 100%|██████████| 48/48 [00:14<00:00,  3.33it/s]\n",
      "                 Class     Images  Instances      Box(P          R      mAP50  mAP50-95): 100%|██████████| 6/6 [00:01<00:00,  5.58it/s]"
     ]
    },
    {
     "name": "stdout",
     "output_type": "stream",
     "text": [
      "                   all        144        198      0.374      0.271      0.317      0.193\n"
     ]
    },
    {
     "name": "stderr",
     "output_type": "stream",
     "text": [
      "\n"
     ]
    },
    {
     "name": "stdout",
     "output_type": "stream",
     "text": [
      "\n",
      "      Epoch    GPU_mem   box_loss   cls_loss   dfl_loss  Instances       Size\n"
     ]
    },
    {
     "name": "stderr",
     "output_type": "stream",
     "text": [
      "      29/50      3.27G     0.6858     0.4941     0.9206         39        640: 100%|██████████| 48/48 [00:13<00:00,  3.43it/s]\n",
      "                 Class     Images  Instances      Box(P          R      mAP50  mAP50-95): 100%|██████████| 6/6 [00:01<00:00,  5.50it/s]"
     ]
    },
    {
     "name": "stdout",
     "output_type": "stream",
     "text": [
      "                   all        144        198      0.358       0.29      0.326      0.195\n"
     ]
    },
    {
     "name": "stderr",
     "output_type": "stream",
     "text": [
      "\n"
     ]
    },
    {
     "name": "stdout",
     "output_type": "stream",
     "text": [
      "\n",
      "      Epoch    GPU_mem   box_loss   cls_loss   dfl_loss  Instances       Size\n"
     ]
    },
    {
     "name": "stderr",
     "output_type": "stream",
     "text": [
      "      30/50      3.29G     0.6673     0.4847      0.918         25        640: 100%|██████████| 48/48 [00:14<00:00,  3.42it/s]\n",
      "                 Class     Images  Instances      Box(P          R      mAP50  mAP50-95): 100%|██████████| 6/6 [00:01<00:00,  5.71it/s]"
     ]
    },
    {
     "name": "stdout",
     "output_type": "stream",
     "text": [
      "                   all        144        198      0.352      0.274      0.321      0.196\n"
     ]
    },
    {
     "name": "stderr",
     "output_type": "stream",
     "text": [
      "\n"
     ]
    },
    {
     "name": "stdout",
     "output_type": "stream",
     "text": [
      "\n",
      "      Epoch    GPU_mem   box_loss   cls_loss   dfl_loss  Instances       Size\n"
     ]
    },
    {
     "name": "stderr",
     "output_type": "stream",
     "text": [
      "      31/50      3.29G     0.6806     0.4883     0.9272         41        640: 100%|██████████| 48/48 [00:14<00:00,  3.42it/s]\n",
      "                 Class     Images  Instances      Box(P          R      mAP50  mAP50-95): 100%|██████████| 6/6 [00:01<00:00,  5.63it/s]"
     ]
    },
    {
     "name": "stdout",
     "output_type": "stream",
     "text": [
      "                   all        144        198       0.34      0.278      0.305      0.178\n"
     ]
    },
    {
     "name": "stderr",
     "output_type": "stream",
     "text": [
      "\n"
     ]
    },
    {
     "name": "stdout",
     "output_type": "stream",
     "text": [
      "\n",
      "      Epoch    GPU_mem   box_loss   cls_loss   dfl_loss  Instances       Size\n"
     ]
    },
    {
     "name": "stderr",
     "output_type": "stream",
     "text": [
      "      32/50      3.29G     0.6595     0.4792     0.9212         46        640: 100%|██████████| 48/48 [00:13<00:00,  3.44it/s]\n",
      "                 Class     Images  Instances      Box(P          R      mAP50  mAP50-95): 100%|██████████| 6/6 [00:01<00:00,  5.44it/s]"
     ]
    },
    {
     "name": "stdout",
     "output_type": "stream",
     "text": [
      "                   all        144        198      0.352      0.294      0.319       0.19\n"
     ]
    },
    {
     "name": "stderr",
     "output_type": "stream",
     "text": [
      "\n"
     ]
    },
    {
     "name": "stdout",
     "output_type": "stream",
     "text": [
      "\n",
      "      Epoch    GPU_mem   box_loss   cls_loss   dfl_loss  Instances       Size\n"
     ]
    },
    {
     "name": "stderr",
     "output_type": "stream",
     "text": [
      "      33/50      3.31G      0.654     0.4728     0.9248         41        640: 100%|██████████| 48/48 [00:14<00:00,  3.41it/s]\n",
      "                 Class     Images  Instances      Box(P          R      mAP50  mAP50-95): 100%|██████████| 6/6 [00:01<00:00,  5.79it/s]"
     ]
    },
    {
     "name": "stdout",
     "output_type": "stream",
     "text": [
      "                   all        144        198      0.338       0.29      0.305      0.187\n"
     ]
    },
    {
     "name": "stderr",
     "output_type": "stream",
     "text": [
      "\n"
     ]
    },
    {
     "name": "stdout",
     "output_type": "stream",
     "text": [
      "\n",
      "      Epoch    GPU_mem   box_loss   cls_loss   dfl_loss  Instances       Size\n"
     ]
    },
    {
     "name": "stderr",
     "output_type": "stream",
     "text": [
      "      34/50      3.29G     0.6362     0.4586     0.9166         40        640: 100%|██████████| 48/48 [00:14<00:00,  3.43it/s]\n",
      "                 Class     Images  Instances      Box(P          R      mAP50  mAP50-95): 100%|██████████| 6/6 [00:01<00:00,  5.52it/s]"
     ]
    },
    {
     "name": "stdout",
     "output_type": "stream",
     "text": [
      "                   all        144        198      0.355      0.274      0.307      0.181\n",
      "\u001b[34m\u001b[1mEarlyStopping: \u001b[0mTraining stopped early as no improvement observed in last 10 epochs. Best results observed at epoch 24, best model saved as best.pt.\n",
      "To update EarlyStopping(patience=10) pass a new patience value, i.e. `patience=300` or use `patience=0` to disable EarlyStopping.\n"
     ]
    },
    {
     "name": "stderr",
     "output_type": "stream",
     "text": [
      "\n"
     ]
    },
    {
     "name": "stdout",
     "output_type": "stream",
     "text": [
      "\n",
      "34 epochs completed in 0.159 hours.\n",
      "Optimizer stripped from C:\\Users\\dawoo\\Desktop\\SF7\\coding\\PYTORCH\\project\\detect\\model_8_s_200_14_51215\\weights\\last.pt, 19.2MB\n",
      "Optimizer stripped from C:\\Users\\dawoo\\Desktop\\SF7\\coding\\PYTORCH\\project\\detect\\model_8_s_200_14_51215\\weights\\best.pt, 19.2MB\n",
      "\n",
      "Validating C:\\Users\\dawoo\\Desktop\\SF7\\coding\\PYTORCH\\project\\detect\\model_8_s_200_14_51215\\weights\\best.pt...\n",
      "Ultralytics 8.3.65  Python-3.12.0 torch-2.5.1+cu118 CUDA:0 (NVIDIA GeForce RTX 3050 Laptop GPU, 4096MiB)\n",
      "YOLO11s summary (fused): 238 layers, 9,413,574 parameters, 0 gradients, 21.3 GFLOPs\n"
     ]
    },
    {
     "name": "stderr",
     "output_type": "stream",
     "text": [
      "                 Class     Images  Instances      Box(P          R      mAP50  mAP50-95): 100%|██████████| 6/6 [00:02<00:00,  2.79it/s]\n"
     ]
    },
    {
     "name": "stdout",
     "output_type": "stream",
     "text": [
      "                   all        144        198      0.341      0.298      0.324      0.204\n",
      "                    ok         72         72          0          0          0          0\n",
      "                faulty         72        126      0.682      0.595      0.649      0.408\n",
      "Speed: 0.5ms preprocess, 11.1ms inference, 0.0ms loss, 0.6ms postprocess per image\n",
      "Results saved to \u001b[1mC:\\Users\\dawoo\\Desktop\\SF7\\coding\\PYTORCH\\project\\detect\\model_8_s_200_14_51215\u001b[0m\n"
     ]
    }
   ],
   "source": [
    "from ultralytics import YOLO\n",
    "\n",
    "# 모델 로드\n",
    "model = YOLO(\"yolo11s.pt\")\n",
    "\n",
    "# 학습 설정\n",
    "model.train(\n",
    "    data=\"data.yaml\",  # 데이터 설정 파일 경로\n",
    "    epochs=50,  # 에폭 수를 늘려서 더 많은 학습 진행\n",
    "    batch=12,  # 배치 크기 늘리기\n",
    "    imgsz=640,  # 입력 이미지 크기 512로 조정 (성능 및 메모리 효율 고려)\n",
    "    device=\"cuda\",  # CUDA GPU 사용 (GPU를 사용하려면 'cuda'로 설정)\n",
    "    workers=4,  # 데이터 로드 병렬 처리 워커 수\n",
    "    project=\"C:\\\\Users\\\\dawoo\\\\Desktop\\\\SF7\\\\coding\\\\PYTORCH\\\\project\\\\detect\",\n",
    "    name=\"model_8_s_200_14_512\",\n",
    "    lr0=0.0001,  # 초기 학습률\n",
    "    lrf=0.1,     # 학습률 범위\n",
    "    conf=0.5,    # Confidence threshold\n",
    "    patience=10,  # 성능 개선이 없을 때 조기 종료 (10 에포크 대기)\n",
    "    augment=True,  # 데이터 증강 활성화\n",
    "    optimizer=\"Adam\",  # AdamW 옵티마이저 사용\n",
    "    cos_lr=True,  # 코사인 학습률 스케줄링\n",
    "    momentum=0.6,  # 모멘텀\n",
    "    cache=True,  # 데이터 로딩 속도 개선\n",
    ")\n",
    "\n",
    "# 학습 완료 후 모델 저장\n",
    "model.save('model_11_s_200_12_576.pt')\n"
   ]
  },
  {
   "cell_type": "code",
   "execution_count": 3,
   "metadata": {},
   "outputs": [
    {
     "name": "stdout",
     "output_type": "stream",
     "text": [
      "\n",
      "image 1/180 C:\\Users\\dawoo\\desktop\\sf7\\coding\\pytorch\\project\\test\\images\\205_101_10_0107f873-8e8a-43d6-94c5-703a77b87e08.jpg: 320x640 (no detections), 150.3ms\n",
      "image 2/180 C:\\Users\\dawoo\\desktop\\sf7\\coding\\pytorch\\project\\test\\images\\205_101_10_01ba8ed7-8669-4af9-ad2f-7c73a124e769.jpg: 480x640 (no detections), 96.1ms\n",
      "image 3/180 C:\\Users\\dawoo\\desktop\\sf7\\coding\\pytorch\\project\\test\\images\\205_101_10_0501f4ab-216c-4b39-bb2e-fd17f52b8143.jpg: 384x640 (no detections), 126.3ms\n",
      "image 4/180 C:\\Users\\dawoo\\desktop\\sf7\\coding\\pytorch\\project\\test\\images\\205_101_10_053a2d06-aec9-4456-b888-2787e38b3715.jpg: 288x640 (no detections), 84.2ms\n",
      "image 5/180 C:\\Users\\dawoo\\desktop\\sf7\\coding\\pytorch\\project\\test\\images\\205_101_10_084265be-6211-4393-acb7-e45b195d96d4.jpg: 320x640 (no detections), 34.5ms\n",
      "image 6/180 C:\\Users\\dawoo\\desktop\\sf7\\coding\\pytorch\\project\\test\\images\\205_101_10_0a4032d1-888a-4857-99af-601146fdd784.jpg: 480x640 (no detections), 52.2ms\n",
      "image 7/180 C:\\Users\\dawoo\\desktop\\sf7\\coding\\pytorch\\project\\test\\images\\205_101_10_0df5c670-61d0-44e8-bb87-8083848a7cdd.jpg: 480x640 (no detections), 48.0ms\n",
      "image 8/180 C:\\Users\\dawoo\\desktop\\sf7\\coding\\pytorch\\project\\test\\images\\205_101_10_12345793-b0f6-40c2-a56a-80af6af6fadd.jpg: 384x640 (no detections), 38.0ms\n",
      "image 9/180 C:\\Users\\dawoo\\desktop\\sf7\\coding\\pytorch\\project\\test\\images\\205_101_10_19221269-fd9c-437f-bbb3-06b9f7d38281.jpg: 480x640 (no detections), 49.2ms\n",
      "image 10/180 C:\\Users\\dawoo\\desktop\\sf7\\coding\\pytorch\\project\\test\\images\\205_101_10_1aa6981e-42de-4eb5-a38e-68e2ed716ad3.jpg: 320x640 1 faulty, 33.0ms\n",
      "image 11/180 C:\\Users\\dawoo\\desktop\\sf7\\coding\\pytorch\\project\\test\\images\\205_101_10_1ceca81a-5ac1-4776-8e1f-6cf4c62a2059.jpg: 320x640 (no detections), 32.0ms\n",
      "image 12/180 C:\\Users\\dawoo\\desktop\\sf7\\coding\\pytorch\\project\\test\\images\\205_101_10_23c9864a-e142-46f0-b9d6-4bb4b3e3c21a.jpg: 320x640 (no detections), 31.2ms\n",
      "image 13/180 C:\\Users\\dawoo\\desktop\\sf7\\coding\\pytorch\\project\\test\\images\\205_101_10_29d3ee09-1482-4cb7-919a-c7e8dd570f32.jpg: 320x640 (no detections), 32.7ms\n",
      "image 14/180 C:\\Users\\dawoo\\desktop\\sf7\\coding\\pytorch\\project\\test\\images\\205_101_10_3172a7d2-9799-4985-8e08-2c9d13ac052e.jpg: 320x640 (no detections), 31.3ms\n",
      "image 15/180 C:\\Users\\dawoo\\desktop\\sf7\\coding\\pytorch\\project\\test\\images\\205_101_10_322d311b-2e9a-4fa6-a930-08091e352835.jpg: 320x640 (no detections), 32.7ms\n",
      "image 16/180 C:\\Users\\dawoo\\desktop\\sf7\\coding\\pytorch\\project\\test\\images\\205_101_10_32a13f1e-eb5c-4c36-b3a6-3093b844d1e0.jpg: 384x640 (no detections), 40.7ms\n",
      "image 17/180 C:\\Users\\dawoo\\desktop\\sf7\\coding\\pytorch\\project\\test\\images\\205_101_10_33c555b4-21fd-452c-b004-85974ba31b17.jpg: 480x640 (no detections), 49.3ms\n",
      "image 18/180 C:\\Users\\dawoo\\desktop\\sf7\\coding\\pytorch\\project\\test\\images\\205_101_10_357201b4-dc34-4f29-8956-1c591cc7a5a6.jpg: 384x640 (no detections), 37.0ms\n",
      "image 19/180 C:\\Users\\dawoo\\desktop\\sf7\\coding\\pytorch\\project\\test\\images\\205_101_10_35f1cda1-624b-4b06-a011-aa9b3b63df75.jpg: 384x640 1 faulty, 37.2ms\n",
      "image 20/180 C:\\Users\\dawoo\\desktop\\sf7\\coding\\pytorch\\project\\test\\images\\205_101_10_3a6b7e95-a70e-4327-9768-56e622f1c172.jpg: 288x640 (no detections), 30.2ms\n",
      "image 21/180 C:\\Users\\dawoo\\desktop\\sf7\\coding\\pytorch\\project\\test\\images\\205_101_10_425706ae-fa28-4d6f-93af-a8a14d4f44d5.jpg: 384x640 (no detections), 37.7ms\n",
      "image 22/180 C:\\Users\\dawoo\\desktop\\sf7\\coding\\pytorch\\project\\test\\images\\205_101_10_42a613bf-8501-4d93-a203-4be7373da9da.jpg: 480x640 (no detections), 51.0ms\n",
      "image 23/180 C:\\Users\\dawoo\\desktop\\sf7\\coding\\pytorch\\project\\test\\images\\205_101_10_42dccf45-d98d-4a1f-987a-0e4054d7d30c.jpg: 320x640 1 faulty, 35.0ms\n",
      "image 24/180 C:\\Users\\dawoo\\desktop\\sf7\\coding\\pytorch\\project\\test\\images\\205_101_10_4462c72c-6842-4194-82d4-a70377d8ba79.jpg: 384x640 (no detections), 40.2ms\n",
      "image 25/180 C:\\Users\\dawoo\\desktop\\sf7\\coding\\pytorch\\project\\test\\images\\205_101_10_448a630d-f4bf-486a-9849-c5ae68bc81bf.jpg: 384x640 (no detections), 37.8ms\n",
      "image 26/180 C:\\Users\\dawoo\\desktop\\sf7\\coding\\pytorch\\project\\test\\images\\205_101_10_46976864-63bd-4cc0-b33e-66e11cbc0ca3.jpg: 320x640 (no detections), 36.2ms\n",
      "image 27/180 C:\\Users\\dawoo\\desktop\\sf7\\coding\\pytorch\\project\\test\\images\\205_101_10_4c5dca06-511d-47c7-b42c-72ee719d7fbf.jpg: 320x640 1 faulty, 33.0ms\n",
      "image 28/180 C:\\Users\\dawoo\\desktop\\sf7\\coding\\pytorch\\project\\test\\images\\205_101_10_521350ce-28f1-4364-a499-26d29cb23ade.jpg: 320x640 (no detections), 33.9ms\n",
      "image 29/180 C:\\Users\\dawoo\\desktop\\sf7\\coding\\pytorch\\project\\test\\images\\205_101_10_52f77786-2778-4658-a2a6-b6f432ebffec.jpg: 480x640 (no detections), 53.2ms\n",
      "image 30/180 C:\\Users\\dawoo\\desktop\\sf7\\coding\\pytorch\\project\\test\\images\\205_101_10_5832847c-c4e3-4db1-8f73-677c5e696132.jpg: 384x640 (no detections), 40.1ms\n",
      "image 31/180 C:\\Users\\dawoo\\desktop\\sf7\\coding\\pytorch\\project\\test\\images\\205_101_10_59794188-d151-4ec1-b880-7912e5ded057.jpg: 480x640 (no detections), 50.7ms\n",
      "image 32/180 C:\\Users\\dawoo\\desktop\\sf7\\coding\\pytorch\\project\\test\\images\\205_101_10_5f0a764d-5559-4ac0-836d-a9dd75b9d8b5.jpg: 320x640 (no detections), 35.2ms\n",
      "image 33/180 C:\\Users\\dawoo\\desktop\\sf7\\coding\\pytorch\\project\\test\\images\\205_101_10_5fcc917c-1ff4-42ee-8ad7-2e26a9f1ecca.jpg: 288x640 (no detections), 75.9ms\n",
      "image 34/180 C:\\Users\\dawoo\\desktop\\sf7\\coding\\pytorch\\project\\test\\images\\205_101_10_603f7811-841c-429f-b874-2c84b11e4c26.jpg: 320x640 (no detections), 35.2ms\n",
      "image 35/180 C:\\Users\\dawoo\\desktop\\sf7\\coding\\pytorch\\project\\test\\images\\205_101_10_61567150-babb-4a56-acc2-1c3cb4ef5b43.jpg: 320x640 (no detections), 32.8ms\n",
      "image 36/180 C:\\Users\\dawoo\\desktop\\sf7\\coding\\pytorch\\project\\test\\images\\205_101_10_671ba60e-7cb0-43ab-8da6-2c4be1a24069.jpg: 384x640 (no detections), 39.4ms\n",
      "image 37/180 C:\\Users\\dawoo\\desktop\\sf7\\coding\\pytorch\\project\\test\\images\\205_101_10_6904c1de-b8c0-4268-ad60-fb67e533a96e.jpg: 384x640 (no detections), 37.7ms\n",
      "image 38/180 C:\\Users\\dawoo\\desktop\\sf7\\coding\\pytorch\\project\\test\\images\\205_101_10_6e204f11-5a8f-4d7d-82c5-d30493ece158.jpg: 480x640 (no detections), 53.0ms\n",
      "image 39/180 C:\\Users\\dawoo\\desktop\\sf7\\coding\\pytorch\\project\\test\\images\\205_101_10_7063453a-e10f-4330-9c64-50268fac4592.jpg: 384x640 (no detections), 40.0ms\n",
      "image 40/180 C:\\Users\\dawoo\\desktop\\sf7\\coding\\pytorch\\project\\test\\images\\205_101_10_71011e5b-2a78-4054-ac61-52638f430d09.jpg: 384x640 (no detections), 38.0ms\n",
      "image 41/180 C:\\Users\\dawoo\\desktop\\sf7\\coding\\pytorch\\project\\test\\images\\205_101_10_7485b44e-faf1-482f-baf0-537717b06592.jpg: 320x640 (no detections), 36.0ms\n",
      "image 42/180 C:\\Users\\dawoo\\desktop\\sf7\\coding\\pytorch\\project\\test\\images\\205_101_10_79cbf8ff-e39a-4013-8462-80084c6a7a08.jpg: 480x640 (no detections), 108.6ms\n",
      "image 43/180 C:\\Users\\dawoo\\desktop\\sf7\\coding\\pytorch\\project\\test\\images\\205_101_10_79fb8d04-cdff-4896-ab0e-8d51d610c6a8.jpg: 320x640 (no detections), 34.1ms\n",
      "image 44/180 C:\\Users\\dawoo\\desktop\\sf7\\coding\\pytorch\\project\\test\\images\\205_101_10_7aa14b29-c894-4e61-a9e7-4d810522042d.jpg: 288x640 (no detections), 31.0ms\n",
      "image 45/180 C:\\Users\\dawoo\\desktop\\sf7\\coding\\pytorch\\project\\test\\images\\205_101_10_7b0106a2-e0b5-4d99-a9b0-3ceb885e7cf6.jpg: 288x640 (no detections), 28.0ms\n",
      "image 46/180 C:\\Users\\dawoo\\desktop\\sf7\\coding\\pytorch\\project\\test\\images\\205_101_10_7b0fb114-7da1-4a16-aae0-525a992bcf95.jpg: 288x640 (no detections), 28.4ms\n",
      "image 47/180 C:\\Users\\dawoo\\desktop\\sf7\\coding\\pytorch\\project\\test\\images\\205_101_10_7b93a856-c5fb-4fef-bc05-64928b588ec7.jpg: 384x640 (no detections), 37.1ms\n",
      "image 48/180 C:\\Users\\dawoo\\desktop\\sf7\\coding\\pytorch\\project\\test\\images\\205_101_10_821971bd-833b-47ba-b9fc-55f7ccc5cc95.jpg: 480x640 (no detections), 49.9ms\n",
      "image 49/180 C:\\Users\\dawoo\\desktop\\sf7\\coding\\pytorch\\project\\test\\images\\205_101_10_8b5ebfa2-7803-46d6-b749-2cf84300dfb5.jpg: 320x640 (no detections), 33.5ms\n",
      "image 50/180 C:\\Users\\dawoo\\desktop\\sf7\\coding\\pytorch\\project\\test\\images\\205_101_10_903c5401-3d7c-46d3-bafa-ab3f3d9da451.jpg: 480x640 (no detections), 49.0ms\n",
      "image 51/180 C:\\Users\\dawoo\\desktop\\sf7\\coding\\pytorch\\project\\test\\images\\205_101_10_912955d4-0250-4daa-b9e5-11b97e6b3ff2.jpg: 320x640 (no detections), 33.6ms\n",
      "image 52/180 C:\\Users\\dawoo\\desktop\\sf7\\coding\\pytorch\\project\\test\\images\\205_101_10_9462d520-e8d3-458a-96b2-75fb5e359602.jpg: 320x640 (no detections), 34.2ms\n",
      "image 53/180 C:\\Users\\dawoo\\desktop\\sf7\\coding\\pytorch\\project\\test\\images\\205_101_10_95adca26-d577-4b9e-8921-7591b63ad410.jpg: 384x640 (no detections), 38.0ms\n",
      "image 54/180 C:\\Users\\dawoo\\desktop\\sf7\\coding\\pytorch\\project\\test\\images\\205_101_10_97916077-47ed-444e-907e-c343638eab35.jpg: 384x640 2 faultys, 37.0ms\n",
      "image 55/180 C:\\Users\\dawoo\\desktop\\sf7\\coding\\pytorch\\project\\test\\images\\205_101_10_97d54d1c-ccca-416b-9269-2e6b43b694b6.jpg: 384x640 (no detections), 37.0ms\n",
      "image 56/180 C:\\Users\\dawoo\\desktop\\sf7\\coding\\pytorch\\project\\test\\images\\205_101_10_98cc5097-cdb2-454e-b137-856b8f8592f3.jpg: 480x640 (no detections), 49.0ms\n",
      "image 57/180 C:\\Users\\dawoo\\desktop\\sf7\\coding\\pytorch\\project\\test\\images\\205_101_10_9992b5bb-db40-482f-b9a5-0d4ac315c221.jpg: 288x640 (no detections), 28.1ms\n",
      "image 58/180 C:\\Users\\dawoo\\desktop\\sf7\\coding\\pytorch\\project\\test\\images\\205_101_10_9f53788b-ff1a-43f8-9de1-e699bc7f1d7a.jpg: 480x640 1 faulty, 48.9ms\n",
      "image 59/180 C:\\Users\\dawoo\\desktop\\sf7\\coding\\pytorch\\project\\test\\images\\205_101_10_9f9be389-51f1-4e02-95ec-8bdc15c5806c.jpg: 480x640 (no detections), 48.1ms\n",
      "image 60/180 C:\\Users\\dawoo\\desktop\\sf7\\coding\\pytorch\\project\\test\\images\\205_101_10_a1e3e8ae-9477-4bb2-831a-9d77622be936.jpg: 384x640 (no detections), 39.1ms\n",
      "image 61/180 C:\\Users\\dawoo\\desktop\\sf7\\coding\\pytorch\\project\\test\\images\\205_101_10_a4b71e7c-cd79-4232-bb2b-338a2e727ac7.jpg: 384x640 (no detections), 37.3ms\n",
      "image 62/180 C:\\Users\\dawoo\\desktop\\sf7\\coding\\pytorch\\project\\test\\images\\205_101_10_a84e1ec9-1cee-4d71-b51b-66a137909d3f.jpg: 384x640 (no detections), 38.8ms\n",
      "image 63/180 C:\\Users\\dawoo\\desktop\\sf7\\coding\\pytorch\\project\\test\\images\\205_101_10_abe3dcc7-66d1-4617-b514-b522f7a376ca.jpg: 320x640 (no detections), 34.3ms\n",
      "image 64/180 C:\\Users\\dawoo\\desktop\\sf7\\coding\\pytorch\\project\\test\\images\\205_101_10_b0b1d9be-12ea-4995-9fa1-8833c5986b78.jpg: 480x640 (no detections), 51.2ms\n",
      "image 65/180 C:\\Users\\dawoo\\desktop\\sf7\\coding\\pytorch\\project\\test\\images\\205_101_10_b512a599-33d1-4c87-bf5e-cae262d1264c.jpg: 480x640 (no detections), 49.2ms\n",
      "image 66/180 C:\\Users\\dawoo\\desktop\\sf7\\coding\\pytorch\\project\\test\\images\\205_101_10_b73553da-1aa3-4b3b-875f-549b75487aab.jpg: 320x640 (no detections), 35.0ms\n",
      "image 67/180 C:\\Users\\dawoo\\desktop\\sf7\\coding\\pytorch\\project\\test\\images\\205_101_10_b8148ebe-3187-4950-ad0d-907b26a70b9b.jpg: 320x640 (no detections), 33.9ms\n",
      "image 68/180 C:\\Users\\dawoo\\desktop\\sf7\\coding\\pytorch\\project\\test\\images\\205_101_10_bb12f069-c4e3-43cb-a5ad-38d2812f5c58.jpg: 288x640 (no detections), 30.3ms\n",
      "image 69/180 C:\\Users\\dawoo\\desktop\\sf7\\coding\\pytorch\\project\\test\\images\\205_101_10_bc14ad51-5a80-459b-acd5-da7d51dd863d.jpg: 320x640 (no detections), 36.0ms\n",
      "image 70/180 C:\\Users\\dawoo\\desktop\\sf7\\coding\\pytorch\\project\\test\\images\\205_101_10_bdade1e7-f46e-476d-afef-f20cb639046c.jpg: 320x640 (no detections), 33.3ms\n",
      "image 71/180 C:\\Users\\dawoo\\desktop\\sf7\\coding\\pytorch\\project\\test\\images\\205_101_10_bddbb33c-2f9d-4f6f-8da5-d7dd1269bda6.jpg: 320x640 (no detections), 34.0ms\n",
      "image 72/180 C:\\Users\\dawoo\\desktop\\sf7\\coding\\pytorch\\project\\test\\images\\205_101_10_be73a2bd-a6e9-4f44-9723-4a84f57b751f.jpg: 320x640 (no detections), 34.4ms\n",
      "image 73/180 C:\\Users\\dawoo\\desktop\\sf7\\coding\\pytorch\\project\\test\\images\\205_101_10_c7a5dec0-5164-4cb4-9c30-79fff6754977.jpg: 384x640 1 faulty, 41.4ms\n",
      "image 74/180 C:\\Users\\dawoo\\desktop\\sf7\\coding\\pytorch\\project\\test\\images\\205_101_10_ca991d24-9794-42b1-b521-e8a28b330d4f.jpg: 480x640 (no detections), 53.1ms\n",
      "image 75/180 C:\\Users\\dawoo\\desktop\\sf7\\coding\\pytorch\\project\\test\\images\\205_101_10_cf3b0396-0a73-47fd-90df-db62913bf566.jpg: 384x640 (no detections), 38.9ms\n",
      "image 76/180 C:\\Users\\dawoo\\desktop\\sf7\\coding\\pytorch\\project\\test\\images\\205_101_10_d3d42d48-4df3-40b1-8a2c-3680155b7cd5.jpg: 384x640 (no detections), 38.0ms\n",
      "image 77/180 C:\\Users\\dawoo\\desktop\\sf7\\coding\\pytorch\\project\\test\\images\\205_101_10_d57eb92a-c2af-4483-95f0-e0789e5e51a6.jpg: 320x640 (no detections), 36.1ms\n",
      "image 78/180 C:\\Users\\dawoo\\desktop\\sf7\\coding\\pytorch\\project\\test\\images\\205_101_10_d947f82c-d5a1-41ce-aca3-bdf5bbb31e51.jpg: 320x640 (no detections), 34.2ms\n",
      "image 79/180 C:\\Users\\dawoo\\desktop\\sf7\\coding\\pytorch\\project\\test\\images\\205_101_10_de8ba37b-94f9-46e0-9511-9cce97454310.jpg: 384x640 (no detections), 40.0ms\n",
      "image 80/180 C:\\Users\\dawoo\\desktop\\sf7\\coding\\pytorch\\project\\test\\images\\205_101_10_df2ee103-4ed6-4f21-8301-089cc9c9e480.jpg: 384x640 (no detections), 39.1ms\n",
      "image 81/180 C:\\Users\\dawoo\\desktop\\sf7\\coding\\pytorch\\project\\test\\images\\205_101_10_e23d0e97-6c3f-4688-9f39-0193980d8c8d.jpg: 320x640 (no detections), 36.0ms\n",
      "image 82/180 C:\\Users\\dawoo\\desktop\\sf7\\coding\\pytorch\\project\\test\\images\\205_101_10_e267e2b4-71f3-41d8-8b98-0455a4f1512a.jpg: 320x640 (no detections), 34.4ms\n",
      "image 83/180 C:\\Users\\dawoo\\desktop\\sf7\\coding\\pytorch\\project\\test\\images\\205_101_10_e755302e-7672-42f2-9dbe-acb255e2b519.jpg: 384x640 (no detections), 40.4ms\n",
      "image 84/180 C:\\Users\\dawoo\\desktop\\sf7\\coding\\pytorch\\project\\test\\images\\205_101_10_e87fbc1c-f87f-4c02-94d2-cdf5f044d510.jpg: 480x640 (no detections), 54.0ms\n",
      "image 85/180 C:\\Users\\dawoo\\desktop\\sf7\\coding\\pytorch\\project\\test\\images\\205_101_10_e9657c25-17fd-48ef-a259-569442baa1c4.jpg: 320x640 1 faulty, 38.3ms\n",
      "image 86/180 C:\\Users\\dawoo\\desktop\\sf7\\coding\\pytorch\\project\\test\\images\\205_101_10_eff0a9bc-10c7-4b61-87dc-22094638ed81.jpg: 384x640 (no detections), 43.0ms\n",
      "image 87/180 C:\\Users\\dawoo\\desktop\\sf7\\coding\\pytorch\\project\\test\\images\\205_101_10_f6af5b86-992a-4e7e-a720-9d5ea61ccfe6.jpg: 480x640 1 faulty, 52.2ms\n",
      "image 88/180 C:\\Users\\dawoo\\desktop\\sf7\\coding\\pytorch\\project\\test\\images\\205_101_10_f95ca14b-6adb-496d-bac8-9f51697f1228.jpg: 384x640 (no detections), 40.0ms\n",
      "image 89/180 C:\\Users\\dawoo\\desktop\\sf7\\coding\\pytorch\\project\\test\\images\\205_101_10_fbf3a989-97cc-4ecf-b3c2-b795c1f3ecba.jpg: 480x640 (no detections), 68.0ms\n",
      "image 90/180 C:\\Users\\dawoo\\desktop\\sf7\\coding\\pytorch\\project\\test\\images\\205_101_10_fd6933bf-f51d-4d9d-a4e8-77ded59d5823.jpg: 384x640 (no detections), 81.5ms\n",
      "image 91/180 C:\\Users\\dawoo\\desktop\\sf7\\coding\\pytorch\\project\\test\\images\\205_101_20_026adee8-7bdf-4c16-aead-b175bb2d5b2f.JPG: 384x640 1 faulty, 37.1ms\n",
      "image 92/180 C:\\Users\\dawoo\\desktop\\sf7\\coding\\pytorch\\project\\test\\images\\205_101_20_06b52607-6770-47dd-93bb-5c7e81486739.jpg: 320x640 1 faulty, 33.4ms\n",
      "image 93/180 C:\\Users\\dawoo\\desktop\\sf7\\coding\\pytorch\\project\\test\\images\\205_101_20_08cc1dae-c87c-4ee3-9046-038ac5f6de13.jpg: 288x640 2 faultys, 29.0ms\n",
      "image 94/180 C:\\Users\\dawoo\\desktop\\sf7\\coding\\pytorch\\project\\test\\images\\205_101_20_0b696597-135a-4b0b-aec9-8c5ceae04af3.jpg: 384x640 4 faultys, 38.2ms\n",
      "image 95/180 C:\\Users\\dawoo\\desktop\\sf7\\coding\\pytorch\\project\\test\\images\\205_101_20_0c88fd07-9466-4aeb-951f-355c55279dda.jpg: 320x640 2 faultys, 34.8ms\n",
      "image 96/180 C:\\Users\\dawoo\\desktop\\sf7\\coding\\pytorch\\project\\test\\images\\205_101_20_10c12573-2715-4235-af78-ee8827971cdf.jpg: 320x640 2 faultys, 32.9ms\n",
      "image 97/180 C:\\Users\\dawoo\\desktop\\sf7\\coding\\pytorch\\project\\test\\images\\205_101_20_11d4cd16-230a-4a84-9257-3e902e1fea39.jpg: 384x640 1 faulty, 38.2ms\n",
      "image 98/180 C:\\Users\\dawoo\\desktop\\sf7\\coding\\pytorch\\project\\test\\images\\205_101_20_131ef0b9-36ec-493e-bae4-b95c3f2d5f4f.JPG: 480x640 1 faulty, 49.0ms\n",
      "image 99/180 C:\\Users\\dawoo\\desktop\\sf7\\coding\\pytorch\\project\\test\\images\\205_101_20_134c0973-9592-4cd6-89d6-7480ec93753e.jpg: 480x640 1 faulty, 48.0ms\n",
      "image 100/180 C:\\Users\\dawoo\\desktop\\sf7\\coding\\pytorch\\project\\test\\images\\205_101_20_195c0c6c-69fb-4acc-ae8d-27227b6ea1a1.jpg: 320x640 6 faultys, 34.1ms\n",
      "image 101/180 C:\\Users\\dawoo\\desktop\\sf7\\coding\\pytorch\\project\\test\\images\\205_101_20_24a69458-1924-4886-a891-cf9dbe5421b2.jpg: 288x640 1 faulty, 28.5ms\n",
      "image 102/180 C:\\Users\\dawoo\\desktop\\sf7\\coding\\pytorch\\project\\test\\images\\205_101_20_289fb8b0-28f9-45f3-b0bb-901a231fd227.jpg: 288x640 2 faultys, 27.9ms\n",
      "image 103/180 C:\\Users\\dawoo\\desktop\\sf7\\coding\\pytorch\\project\\test\\images\\205_101_20_29a29af1-2d9f-4349-bfea-797b7a472b30.jpg: 320x640 1 faulty, 34.1ms\n",
      "image 104/180 C:\\Users\\dawoo\\desktop\\sf7\\coding\\pytorch\\project\\test\\images\\205_101_20_2da2a079-a3d1-4bb9-aa74-ba5f81429435.jpg: 288x640 1 faulty, 31.0ms\n",
      "image 105/180 C:\\Users\\dawoo\\desktop\\sf7\\coding\\pytorch\\project\\test\\images\\205_101_20_2f9af7c2-8ca0-440f-ada1-20f199203753.JPG: 480x640 2 faultys, 52.0ms\n",
      "image 106/180 C:\\Users\\dawoo\\desktop\\sf7\\coding\\pytorch\\project\\test\\images\\205_101_20_3023aa40-a4bc-4aa4-9d45-e6991d12644e.JPG: 480x640 1 faulty, 50.0ms\n",
      "image 107/180 C:\\Users\\dawoo\\desktop\\sf7\\coding\\pytorch\\project\\test\\images\\205_101_20_318b7453-a2dd-4316-bab3-fc19d77dba0a.jpg: 384x640 2 faultys, 40.0ms\n",
      "image 108/180 C:\\Users\\dawoo\\desktop\\sf7\\coding\\pytorch\\project\\test\\images\\205_101_20_33266202-03b7-41c2-8c46-bdfcb6521a15.jpg: 288x640 2 faultys, 31.0ms\n",
      "image 109/180 C:\\Users\\dawoo\\desktop\\sf7\\coding\\pytorch\\project\\test\\images\\205_101_20_3a408bdb-785f-494d-85e7-e7fc111eb45d.JPG: 480x640 1 faulty, 52.1ms\n",
      "image 110/180 C:\\Users\\dawoo\\desktop\\sf7\\coding\\pytorch\\project\\test\\images\\205_101_20_3e4ceb0c-7403-47d3-9ee5-0b06750c9e49.jpg: 384x640 1 faulty, 40.0ms\n",
      "image 111/180 C:\\Users\\dawoo\\desktop\\sf7\\coding\\pytorch\\project\\test\\images\\205_101_20_40200343-40e3-4269-a82a-2bbe877ee402.jpg: 320x640 1 faulty, 35.2ms\n",
      "image 112/180 C:\\Users\\dawoo\\desktop\\sf7\\coding\\pytorch\\project\\test\\images\\205_101_20_40acd7ea-adcd-4a36-a2e1-d28e8203d94d.jpg: 288x640 1 faulty, 32.4ms\n",
      "image 113/180 C:\\Users\\dawoo\\desktop\\sf7\\coding\\pytorch\\project\\test\\images\\205_101_20_42d7ae36-7f0b-47c8-9924-112494fbcbea.jpg: 320x640 1 faulty, 35.0ms\n",
      "image 114/180 C:\\Users\\dawoo\\desktop\\sf7\\coding\\pytorch\\project\\test\\images\\205_101_20_493aa76f-dec8-4bdf-accb-97c98cf81c7e.jpg: 288x640 1 faulty, 31.1ms\n",
      "image 115/180 C:\\Users\\dawoo\\desktop\\sf7\\coding\\pytorch\\project\\test\\images\\205_101_20_5045d0ce-0d1c-4bbd-adae-46a20a9bee7e.jpg: 288x640 1 faulty, 30.5ms\n",
      "image 116/180 C:\\Users\\dawoo\\desktop\\sf7\\coding\\pytorch\\project\\test\\images\\205_101_20_541c51d4-895a-4835-b451-361b8d81d59c.jpg: 320x640 2 faultys, 70.3ms\n",
      "image 117/180 C:\\Users\\dawoo\\desktop\\sf7\\coding\\pytorch\\project\\test\\images\\205_101_20_5974472e-e3dd-4fcb-82df-07d4d35e0fa7.jpg: 480x640 1 faulty, 109.3ms\n",
      "image 118/180 C:\\Users\\dawoo\\desktop\\sf7\\coding\\pytorch\\project\\test\\images\\205_101_20_5ad24091-7537-4199-9788-ebca64e357aa.jpg: 288x640 (no detections), 30.3ms\n",
      "image 119/180 C:\\Users\\dawoo\\desktop\\sf7\\coding\\pytorch\\project\\test\\images\\205_101_20_5b9e2c8d-572c-4ce0-93df-ba2a23ac3c04.jpg: 320x640 1 faulty, 33.0ms\n",
      "image 120/180 C:\\Users\\dawoo\\desktop\\sf7\\coding\\pytorch\\project\\test\\images\\205_101_20_5d258be0-a56a-497a-85d1-d062baa78eeb.jpg: 320x640 1 faulty, 32.0ms\n",
      "image 121/180 C:\\Users\\dawoo\\desktop\\sf7\\coding\\pytorch\\project\\test\\images\\205_101_20_5f7a3cf0-ee9d-4d84-9601-a378d96aceff.jpg: 384x640 1 faulty, 57.2ms\n",
      "image 122/180 C:\\Users\\dawoo\\desktop\\sf7\\coding\\pytorch\\project\\test\\images\\205_101_20_5fbfb1c9-e78d-4930-bd36-1aa4d79f8005.jpg: 288x640 3 faultys, 30.9ms\n",
      "image 123/180 C:\\Users\\dawoo\\desktop\\sf7\\coding\\pytorch\\project\\test\\images\\205_101_20_6366641a-c2a0-40c6-9e2c-db1fa6e8b841.jpg: 480x640 2 faultys, 49.2ms\n",
      "image 124/180 C:\\Users\\dawoo\\desktop\\sf7\\coding\\pytorch\\project\\test\\images\\205_101_20_64059004-f6a7-4fb6-a8b9-31466966a956.JPG: 384x640 2 faultys, 38.0ms\n",
      "image 125/180 C:\\Users\\dawoo\\desktop\\sf7\\coding\\pytorch\\project\\test\\images\\205_101_20_66d7bc9c-33b7-4aec-b43c-4b32967bc96f.jpg: 480x640 2 faultys, 50.1ms\n",
      "image 126/180 C:\\Users\\dawoo\\desktop\\sf7\\coding\\pytorch\\project\\test\\images\\205_101_20_6748cde4-2fb1-46eb-a8ac-4e94ed657f99.jpg: 384x640 2 faultys, 38.2ms\n",
      "image 127/180 C:\\Users\\dawoo\\desktop\\sf7\\coding\\pytorch\\project\\test\\images\\205_101_20_6bd6c7d6-75a2-4953-8568-03cbe4719e6f.jpg: 320x640 1 faulty, 33.0ms\n",
      "image 128/180 C:\\Users\\dawoo\\desktop\\sf7\\coding\\pytorch\\project\\test\\images\\205_101_20_716160f5-a777-4bc0-9829-b007db9308e0.jpg: 320x640 4 faultys, 31.7ms\n",
      "image 129/180 C:\\Users\\dawoo\\desktop\\sf7\\coding\\pytorch\\project\\test\\images\\205_101_20_729f9526-c48a-4ac8-a173-c97d420fe7aa.jpg: 320x640 1 faulty, 31.0ms\n",
      "image 130/180 C:\\Users\\dawoo\\desktop\\sf7\\coding\\pytorch\\project\\test\\images\\205_101_20_758c9b50-49b7-4f0f-a409-a445e3425206.jpg: 480x640 1 faulty, 48.8ms\n",
      "image 131/180 C:\\Users\\dawoo\\desktop\\sf7\\coding\\pytorch\\project\\test\\images\\205_101_20_7958a516-3192-4f03-a53e-6d184f9da540.jpg: 480x640 2 faultys, 49.1ms\n",
      "image 132/180 C:\\Users\\dawoo\\desktop\\sf7\\coding\\pytorch\\project\\test\\images\\205_101_20_79ad1afb-2fdc-4060-91f4-3f64a6684902.jpg: 480x640 2 faultys, 47.9ms\n",
      "image 133/180 C:\\Users\\dawoo\\desktop\\sf7\\coding\\pytorch\\project\\test\\images\\205_101_20_7b703936-b097-47b9-8d5c-b8fbd97843a5.jpg: 288x640 3 faultys, 29.4ms\n",
      "image 134/180 C:\\Users\\dawoo\\desktop\\sf7\\coding\\pytorch\\project\\test\\images\\205_101_20_7e545001-4676-4a00-8587-3b0436cf91b2.jpg: 320x640 1 faulty, 33.0ms\n",
      "image 135/180 C:\\Users\\dawoo\\desktop\\sf7\\coding\\pytorch\\project\\test\\images\\205_101_20_830ed8d4-16ad-4217-b072-0e914c0a63c8.jpg: 320x640 1 faulty, 31.2ms\n",
      "image 136/180 C:\\Users\\dawoo\\desktop\\sf7\\coding\\pytorch\\project\\test\\images\\205_101_20_8735ab7c-dd23-4c57-a2fb-0596bf03c058.jpg: 320x640 1 faulty, 31.9ms\n",
      "image 137/180 C:\\Users\\dawoo\\desktop\\sf7\\coding\\pytorch\\project\\test\\images\\205_101_20_896f6bbb-f1f6-47f2-9426-70689d2bd709.jpg: 480x640 1 faulty, 49.3ms\n",
      "image 138/180 C:\\Users\\dawoo\\desktop\\sf7\\coding\\pytorch\\project\\test\\images\\205_101_20_8b195c02-84e7-4bf9-975c-a06af8eec4d7.jpg: 384x640 1 faulty, 38.0ms\n",
      "image 139/180 C:\\Users\\dawoo\\desktop\\sf7\\coding\\pytorch\\project\\test\\images\\205_101_20_8c49fd00-2381-43ef-94f5-8fb125407a7a.jpg: 448x640 1 faulty, 107.8ms\n",
      "image 140/180 C:\\Users\\dawoo\\desktop\\sf7\\coding\\pytorch\\project\\test\\images\\205_101_20_8c5baa25-0e45-4261-9c12-95f1ebd74a46.jpg: 288x640 1 faulty, 29.5ms\n",
      "image 141/180 C:\\Users\\dawoo\\desktop\\sf7\\coding\\pytorch\\project\\test\\images\\205_101_20_96ef38fa-2e29-4852-8481-054ac6c8d4b9.jpg: 288x640 2 faultys, 29.2ms\n",
      "image 142/180 C:\\Users\\dawoo\\desktop\\sf7\\coding\\pytorch\\project\\test\\images\\205_101_20_97131f53-11b4-4506-a64f-b38518b36bee.jpg: 320x640 2 faultys, 36.5ms\n",
      "image 143/180 C:\\Users\\dawoo\\desktop\\sf7\\coding\\pytorch\\project\\test\\images\\205_101_20_9ab8355f-9f49-40aa-a4c6-6e635c8b90ea.jpg: 480x640 1 faulty, 52.1ms\n",
      "image 144/180 C:\\Users\\dawoo\\desktop\\sf7\\coding\\pytorch\\project\\test\\images\\205_101_20_9cd824a9-8c26-4a04-aefb-8d4ac8ae73e3.jpg: 288x640 2 faultys, 31.1ms\n",
      "image 145/180 C:\\Users\\dawoo\\desktop\\sf7\\coding\\pytorch\\project\\test\\images\\205_101_20_9e13bea4-b2ad-443a-b6d1-4ec48fc3c9e0.jpg: 384x640 1 faulty, 80.5ms\n",
      "image 146/180 C:\\Users\\dawoo\\desktop\\sf7\\coding\\pytorch\\project\\test\\images\\205_101_20_a1b2c658-a43a-482f-b3e8-d0a6553fca65.jpg: 288x640 1 faulty, 32.3ms\n",
      "image 147/180 C:\\Users\\dawoo\\desktop\\sf7\\coding\\pytorch\\project\\test\\images\\205_101_20_a7ba597e-eac4-4351-bf09-43e6a878eb1a.jpg: 480x640 1 faulty, 52.5ms\n",
      "image 148/180 C:\\Users\\dawoo\\desktop\\sf7\\coding\\pytorch\\project\\test\\images\\205_101_20_a7cf9a9d-d4f3-4efd-9c68-c24e4dee7ed6.jpg: 320x640 4 faultys, 35.9ms\n",
      "image 149/180 C:\\Users\\dawoo\\desktop\\sf7\\coding\\pytorch\\project\\test\\images\\205_101_20_a8ff6347-b01f-4bc2-af93-995af5ea6407.jpg: 480x640 2 faultys, 53.1ms\n",
      "image 150/180 C:\\Users\\dawoo\\desktop\\sf7\\coding\\pytorch\\project\\test\\images\\205_101_20_a982a90b-2d80-4597-b3bf-b5f82e64f299.jpg: 384x640 2 faultys, 40.5ms\n",
      "image 151/180 C:\\Users\\dawoo\\desktop\\sf7\\coding\\pytorch\\project\\test\\images\\205_101_20_b051a80f-17fb-40b3-9170-f94751d4b24d.jpg: 320x640 1 faulty, 37.0ms\n",
      "image 152/180 C:\\Users\\dawoo\\desktop\\sf7\\coding\\pytorch\\project\\test\\images\\205_101_20_b347cf42-1ad6-46f0-96c2-5e77bc0eac79.jpg: 288x640 1 faulty, 33.0ms\n",
      "image 153/180 C:\\Users\\dawoo\\desktop\\sf7\\coding\\pytorch\\project\\test\\images\\205_101_20_c0c1e544-916c-48ad-8a17-6f7190cb3e4e.JPG: 384x640 1 faulty, 39.0ms\n",
      "image 154/180 C:\\Users\\dawoo\\desktop\\sf7\\coding\\pytorch\\project\\test\\images\\205_101_20_c0c3bec9-c650-431e-b451-58ee1f940ef6.jpg: 320x640 1 faulty, 36.2ms\n",
      "image 155/180 C:\\Users\\dawoo\\desktop\\sf7\\coding\\pytorch\\project\\test\\images\\205_101_20_c0dd1884-18f6-4d73-bddb-863384a3be3e.jpg: 384x640 (no detections), 40.9ms\n",
      "image 156/180 C:\\Users\\dawoo\\desktop\\sf7\\coding\\pytorch\\project\\test\\images\\205_101_20_c28ba06a-4132-4503-b022-245fb3e26954.jpg: 384x640 1 faulty, 38.0ms\n",
      "image 157/180 C:\\Users\\dawoo\\desktop\\sf7\\coding\\pytorch\\project\\test\\images\\205_101_20_c33efc90-befb-418c-b043-464abc7b0a61.jpg: 288x640 1 faulty, 31.4ms\n",
      "image 158/180 C:\\Users\\dawoo\\desktop\\sf7\\coding\\pytorch\\project\\test\\images\\205_101_20_c8520984-ccac-484f-8de1-821e9e475e21.jpg: 384x640 3 faultys, 82.1ms\n",
      "image 159/180 C:\\Users\\dawoo\\desktop\\sf7\\coding\\pytorch\\project\\test\\images\\205_101_20_c8c8c8a8-43af-4621-ae9a-a4ac6acff255.jpg: 320x640 3 faultys, 70.0ms\n",
      "image 160/180 C:\\Users\\dawoo\\desktop\\sf7\\coding\\pytorch\\project\\test\\images\\205_101_20_c9e5abbd-b783-4764-b90f-c08ac16d50d0.jpg: 320x640 1 faulty, 65.1ms\n",
      "image 161/180 C:\\Users\\dawoo\\desktop\\sf7\\coding\\pytorch\\project\\test\\images\\205_101_20_ccca8b22-255d-40a9-9511-7ed5cd00a54c.jpg: 320x640 (no detections), 33.0ms\n",
      "image 162/180 C:\\Users\\dawoo\\desktop\\sf7\\coding\\pytorch\\project\\test\\images\\205_101_20_cdc4aa12-06dc-4600-bdf8-2e355ff59ee3.jpg: 320x640 (no detections), 32.3ms\n",
      "image 163/180 C:\\Users\\dawoo\\desktop\\sf7\\coding\\pytorch\\project\\test\\images\\205_101_20_d38fb8b1-bf6b-403b-b56f-d907de8b591b.jpg: 480x640 3 faultys, 52.1ms\n",
      "image 164/180 C:\\Users\\dawoo\\desktop\\sf7\\coding\\pytorch\\project\\test\\images\\205_101_20_d390cb1f-5ab6-4e09-b360-5923f84ffff0.jpg: 288x640 1 faulty, 30.0ms\n",
      "image 165/180 C:\\Users\\dawoo\\desktop\\sf7\\coding\\pytorch\\project\\test\\images\\205_101_20_d406c6ee-7995-4e20-a94e-c43789b1984e.jpg: 384x640 2 faultys, 38.7ms\n",
      "image 166/180 C:\\Users\\dawoo\\desktop\\sf7\\coding\\pytorch\\project\\test\\images\\205_101_20_d7401bb8-5fc3-4ebf-9230-c22d4a963a24.jpg: 320x640 1 faulty, 34.8ms\n",
      "image 167/180 C:\\Users\\dawoo\\desktop\\sf7\\coding\\pytorch\\project\\test\\images\\205_101_20_d78c47ed-6b54-46cb-9a91-a38a336ee376.jpg: 288x640 (no detections), 29.0ms\n",
      "image 168/180 C:\\Users\\dawoo\\desktop\\sf7\\coding\\pytorch\\project\\test\\images\\205_101_20_dc2a51ea-febc-4176-935f-4a7b8071e989.jpg: 384x640 3 faultys, 38.0ms\n",
      "image 169/180 C:\\Users\\dawoo\\desktop\\sf7\\coding\\pytorch\\project\\test\\images\\205_101_20_e414c589-f3dc-457a-a6fb-6f83d5394797.jpg: 288x640 1 faulty, 29.0ms\n",
      "image 170/180 C:\\Users\\dawoo\\desktop\\sf7\\coding\\pytorch\\project\\test\\images\\205_101_20_e4fed6e4-f41f-4e7c-8091-7e98f80b6572.jpg: 288x640 1 faulty, 28.1ms\n",
      "image 171/180 C:\\Users\\dawoo\\desktop\\sf7\\coding\\pytorch\\project\\test\\images\\205_101_20_e8165eaa-ac50-4fdf-8d5b-dcd5a6e6acb2.jpg: 384x640 1 faulty, 40.6ms\n",
      "image 172/180 C:\\Users\\dawoo\\desktop\\sf7\\coding\\pytorch\\project\\test\\images\\205_101_20_ec15c34f-bf6a-4818-9aa4-a9945d7421dd.JPEG: 384x640 2 faultys, 52.1ms\n",
      "image 173/180 C:\\Users\\dawoo\\desktop\\sf7\\coding\\pytorch\\project\\test\\images\\205_101_20_ed3bf2a4-17d4-4677-a39b-4b67d083f507.jpg: 288x640 1 faulty, 30.5ms\n",
      "image 174/180 C:\\Users\\dawoo\\desktop\\sf7\\coding\\pytorch\\project\\test\\images\\205_101_20_f6799ae6-5a52-48c6-9fe7-0926e39b9058.JPG: 480x640 6 faultys, 50.0ms\n",
      "image 175/180 C:\\Users\\dawoo\\desktop\\sf7\\coding\\pytorch\\project\\test\\images\\205_101_20_f6f5c2e8-db88-4609-ac8c-335d845ffda7.jpg: 288x640 4 faultys, 31.6ms\n",
      "image 176/180 C:\\Users\\dawoo\\desktop\\sf7\\coding\\pytorch\\project\\test\\images\\205_101_20_f754cc19-dc93-45ec-8119-e4b14f3bb287.jpg: 384x640 1 faulty, 81.1ms\n",
      "image 177/180 C:\\Users\\dawoo\\desktop\\sf7\\coding\\pytorch\\project\\test\\images\\205_101_20_f8a8bcd7-056b-4ed1-be9d-7da8071caa00.JPG: 384x640 1 faulty, 80.0ms\n",
      "image 178/180 C:\\Users\\dawoo\\desktop\\sf7\\coding\\pytorch\\project\\test\\images\\205_101_20_f97043f0-8aa3-40c9-9cc1-6bcbdbd32e67.jpg: 288x640 2 faultys, 64.4ms\n",
      "image 179/180 C:\\Users\\dawoo\\desktop\\sf7\\coding\\pytorch\\project\\test\\images\\205_101_20_fa15b154-54d9-41c3-a6bb-2a3b6e7df6cc.jpg: 320x640 6 faultys, 70.0ms\n",
      "image 180/180 C:\\Users\\dawoo\\desktop\\sf7\\coding\\pytorch\\project\\test\\images\\205_101_20_fa4960c1-71e5-4d1d-8dd8-44a8dbabe7d6.jpg: 320x640 1 faulty, 69.0ms\n",
      "Speed: 5.1ms preprocess, 43.7ms inference, 1.7ms postprocess per image at shape (1, 3, 320, 640)\n",
      "Results saved to \u001b[1mc:\\Users\\dawoo\\Desktop\\SF7\\coding\\PYTORCH\\runs\\detect\\predict33\u001b[0m\n"
     ]
    }
   ],
   "source": [
    "from ultralytics import YOLO\n",
    "# 모델 로드 및 추론\n",
    "model = YOLO(\"C:\\\\Users\\\\dawoo\\\\desktop\\\\sf7\\\\coding\\\\pytorch\\\\project\\\\model_11_s_200_12_576.pt\")\n",
    "results = model.predict(source=\"C:\\\\Users\\\\dawoo\\\\desktop\\\\sf7\\\\coding\\\\pytorch\\\\project\\\\test\\\\images\", save=True, imgsz=640)"
   ]
  },
  {
   "cell_type": "code",
   "execution_count": 10,
   "metadata": {},
   "outputs": [
    {
     "name": "stdout",
     "output_type": "stream",
     "text": [
      "[0, 0, 0, 0, 0, 0, 0, 0, 0, 0, 0, 0, 0, 0, 0, 0, 0, 0, 0, 0, 0, 0, 0, 0, 0, 0, 0, 0, 0, 0, 0, 0, 0, 0, 0, 0, 0, 0, 0, 0, 0, 0, 0, 0, 0, 0, 0, 0, 0, 0, 0, 0, 0, 0, 0, 0, 0, 0, 0, 0, 0, 0, 0, 0, 0, 0, 0, 0, 0, 0, 0, 0, 0, 0, 0, 0, 0, 0, 0, 0, 0, 0, 0, 0, 0, 0, 0, 0, 0, 0, 1, 1, 1, 1, 1, 1, 1, 1, 1, 1, 1, 1, 1, 1, 1, 1, 1, 1, 1, 1, 1, 1, 1, 1, 1, 1, 1, 1, 1, 1, 1, 1, 1, 1, 1, 1, 1, 1, 1, 1, 1, 1, 1, 1, 1, 1, 1, 1, 1, 1, 1, 1, 1, 1, 1, 1, 1, 1, 1, 1, 1, 1, 1, 1, 1, 1, 1, 1, 1, 1, 1, 1, 1, 1, 1, 1, 1, 1, 1, 1, 1, 1, 1, 1, 1, 1, 1, 1, 1, 1]\n",
      "[0, 0, 0, 0, 0, 0, 0, 0, 0, 1, 0, 0, 0, 0, 0, 0, 0, 0, 1, 0, 0, 0, 1, 0, 0, 0, 1, 0, 0, 0, 0, 0, 0, 0, 0, 0, 0, 0, 0, 0, 0, 0, 0, 0, 0, 0, 0, 0, 0, 0, 0, 0, 0, 1, 0, 0, 0, 1, 0, 0, 0, 0, 0, 0, 0, 0, 0, 0, 0, 0, 0, 0, 1, 0, 0, 0, 0, 0, 0, 0, 0, 0, 0, 0, 1, 0, 1, 0, 0, 0, 1, 1, 1, 1, 1, 1, 1, 1, 1, 1, 1, 1, 1, 1, 1, 1, 1, 1, 1, 1, 1, 1, 1, 1, 1, 1, 1, 0, 1, 1, 1, 1, 1, 1, 1, 1, 1, 1, 1, 1, 1, 1, 1, 1, 1, 1, 1, 1, 1, 1, 1, 1, 1, 1, 1, 1, 1, 1, 1, 1, 1, 1, 1, 1, 0, 1, 1, 1, 1, 1, 0, 0, 1, 1, 1, 1, 0, 1, 1, 1, 1, 1, 1, 1, 1, 1, 1, 1, 1, 1]\n",
      "혼동 행렬: \n",
      "[[81  9]\n",
      " [ 5 85]]\n",
      "정확도: 0.9222222222222223\n",
      "정밀도:  0.9230578921326076\n",
      "재현율:  0.9222222222222223\n"
     ]
    }
   ],
   "source": [
    "import pandas as pd\n",
    "import matplotlib.pyplot as plt\n",
    "from sklearn.metrics import accuracy_score, precision_score, recall_score, confusion_matrix, roc_curve, roc_auc_score\n",
    "import numpy as np\n",
    "from sklearn.metrics import classification_report, confusion_matrix\n",
    "\n",
    "pred = []\n",
    "test_test_20 = pd.concat([test_data_ok, test_data_fault], ignore_index=True)\n",
    "\n",
    "for result in results:\n",
    "    if len(result.boxes) > 0:  # Detection이 있을 경우\n",
    "        # 각 box에서 confidence가 가장 높은 클래스 선택\n",
    "        pred.append(int(result.boxes[0].cls))\n",
    "    else:\n",
    "        pred.append(0)  # No Detection은 '0'으로 처리\n",
    "\n",
    "\n",
    "# y_test 생성\n",
    "y_test = []\n",
    "\n",
    "for i in range(len(test_test_20)):\n",
    "    if test_test_20.iloc[i, 1] == 1:  # 열 1에 접근\n",
    "        y_test.append(0)\n",
    "    elif test_test_20.iloc[i, 2] == '범퍼':  # 열 2에 접근\n",
    "        y_test.append(1)\n",
    "    elif test_test_20.iloc[i, 2] == '도어':\n",
    "        y_test.append(2)\n",
    "    elif test_test_20.iloc[i, 2] == '휀더':\n",
    "        y_test.append(3)\n",
    "    elif test_test_20.iloc[i, 2] == '프레임':\n",
    "        y_test.append(4)\n",
    "\n",
    "\n",
    "# data evaluation\n",
    "\n",
    "\n",
    "# 위의 ROC 커브 코드 재사용 가능\n",
    "\n",
    "print(y_test)\n",
    "print(pred)\n",
    "\n",
    "# 혼동 행렬\n",
    "confmat = confusion_matrix(y_true=y_test, y_pred=pred)\n",
    "print('혼동 행렬: ', confmat, sep='\\n')\n",
    "\n",
    "\n",
    "# 정확도\n",
    "accuracy = accuracy_score(y_true=y_test, y_pred=pred)\n",
    "print('정확도:', accuracy)\n",
    "\n",
    "# 정밀도(precision)\n",
    "precision = precision_score(y_true=y_test, y_pred=pred, average='macro')\n",
    "print('정밀도: ', precision)\n",
    "\n",
    "\n",
    "# 재현율(recall)\n",
    "recall = recall_score(y_true=y_test, y_pred=pred, average='macro')\n",
    "print('재현율: ', recall)"
   ]
  },
  {
   "cell_type": "code",
   "execution_count": 2,
   "metadata": {},
   "outputs": [
    {
     "name": "stdout",
     "output_type": "stream",
     "text": [
      "\n",
      "image 1/1 C:\\Users\\dawoo\\Desktop\\1.jpg: 448x640 1 faulty, 32.3ms\n",
      "Speed: 6.0ms preprocess, 32.3ms inference, 1.1ms postprocess per image at shape (1, 3, 448, 640)\n",
      "boxes : tensor([[280.9799, 172.6270, 172.4541, 240.4579]], device='cuda:0')\n"
     ]
    },
    {
     "data": {
      "text/plain": [
       "'C:\\\\Users\\\\dawoo\\\\Desktop\\\\predict.jpg'"
      ]
     },
     "execution_count": 2,
     "metadata": {},
     "output_type": "execute_result"
    }
   ],
   "source": [
    "from ultralytics import YOLO\n",
    "import cv2\n",
    "import matplotlib.pyplot as plt\n",
    "\n",
    "# 학습된 모델 경로\n",
    "model = YOLO(\"model_11_s_200_12_576.pt\")  # 예: 'model_8_m_100_8_640.pt'\n",
    "\n",
    "# 이미지 파일 경로\n",
    "image_path = \"C:\\\\Users\\\\dawoo\\\\Desktop\\\\범퍼1.jpg\"\n",
    "\n",
    "# 이미지를 불러와서 예측\n",
    "result = model(image_path)\n",
    "\n",
    "# 예측 결과 출력\n",
    "result[0].show()  # 첫 번째 예측 결과의 바운딩 박스를 이미지로 출력\n",
    "\n",
    "# 예측된 객체들의 정보 출력\n",
    "boxes = result[0].boxes.xywh  # 바운딩 박스 정보 (x_center, y_center, width, height)\n",
    "print(f\"boxes : {boxes}\")  # 예측된 바운딩 박스 정보 출력\n",
    "\n",
    "# 만약 이미지 저장을 원한다면:\n",
    "result[0].save(\"C:\\\\Users\\\\dawoo\\\\Desktop\\\\predict.jpg\")  # 예측된 이미지를 저장\n"
   ]
  },
  {
   "cell_type": "code",
   "execution_count": null,
   "metadata": {},
   "outputs": [],
   "source": [
    "print(\"results 길이:\", len(results))\n",
    "print(\"test_test_20 길이:\", len(test_test_20))\n"
   ]
  },
  {
   "cell_type": "code",
   "execution_count": 15,
   "metadata": {},
   "outputs": [
    {
     "name": "stdout",
     "output_type": "stream",
     "text": [
      "Press 'q' to exit...\n"
     ]
    }
   ],
   "source": [
    "import cv2\n",
    "from ultralytics import YOLO\n",
    "\n",
    "# YOLOv8 모델 로드\n",
    "model_path = \"C:\\\\Users\\\\dawoo\\\\desktop\\\\sf7\\\\coding\\\\pytorch\\\\project\\\\model_11_s_200_12_576.pt\"  # 학습한 모델 경로\n",
    "model = YOLO(model_path)\n",
    "model.to(\"cuda\")\n",
    "\n",
    "# 카메라 열기\n",
    "cap = cv2.VideoCapture(0)  # 기본 카메라 (ID 0)\n",
    "if not cap.isOpened():\n",
    "    print(\"카메라를 열 수 없습니다.\")\n",
    "    exit()\n",
    "\n",
    "# 카메라 프레임 크기 설정 (선택 사항)\n",
    "cap.set(cv2.CAP_PROP_FRAME_WIDTH, 640)\n",
    "cap.set(cv2.CAP_PROP_FRAME_HEIGHT, 480)\n",
    "\n",
    "# 색상 설정 (바운딩 박스와 텍스트)\n",
    "box_color = (0, 255, 0)  # 녹색\n",
    "text_color = (255, 255, 255)  # 흰색\n",
    "\n",
    "print(\"Press 'q' to exit...\")\n",
    "\n",
    "while True:\n",
    "    # 프레임 읽기\n",
    "    ret, frame = cap.read()\n",
    "    if not ret:\n",
    "        print(\"프레임을 읽을 수 없습니다.\")\n",
    "        break\n",
    "    flip_frame = cv2.flip(frame, 1)\n",
    "    # 모델 추론 (YOLOv8)\n",
    "    results = model.predict(source=frame, conf=0.5, show=False,\n",
    "                    verbose=False)  # 이미지에 대해 추론\n",
    "    detections = results[0]  # 첫 번째 결과 가져오기\n",
    "\n",
    "    # 바운딩 박스와 라벨 그리기\n",
    "    for box in detections.boxes:\n",
    "        # 바운딩 박스 좌표 (정규화된 값 아님)\n",
    "        x1, y1, x2, y2 = map(int, box.xyxy[0])  # 좌상단(x1, y1), 우하단(x2, y2)\n",
    "        conf = box.conf[0]  # 신뢰도\n",
    "        cls = int(box.cls[0])  # 클래스 ID\n",
    "        label = f\"{model.names[cls]} {conf:.2f}\"  # 클래스 이름과 신뢰도\n",
    "\n",
    "        # 바운딩 박스와 라벨 추가\n",
    "        cv2.rectangle(frame, (x1, y1), (x2, y2), box_color, 2)  # 바운딩 박스\n",
    "        cv2.putText(frame, label, (x1, y1 - 10),\n",
    "                    cv2.FONT_HERSHEY_SIMPLEX, 0.5, text_color, 2)\n",
    "\n",
    "    # 프레임 화면에 표시\n",
    "    cv2.imshow(\"YOLOv8 Real-Time Detection\", flip_frame)\n",
    "\n",
    "    # 'q' 키를 누르면 종료\n",
    "    if cv2.waitKey(1) & 0xFF == ord('q'):\n",
    "        break\n",
    "\n",
    "# 자원 해제\n",
    "cap.release()\n",
    "cv2.destroyAllWindows()"
   ]
  },
  {
   "cell_type": "code",
   "execution_count": null,
   "metadata": {},
   "outputs": [],
   "source": []
  },
  {
   "cell_type": "markdown",
   "metadata": {},
   "source": [
    "## 손실 그래프"
   ]
  },
  {
   "cell_type": "code",
   "execution_count": null,
   "metadata": {},
   "outputs": [],
   "source": [
    "# loss function\n",
    "import matplotlib.pyplot as plt\n",
    "\n",
    "# 손실 감소 그래프\n",
    "plt.subplot(1, 2, 1)\n",
    "plt.plot(losses)\n",
    "plt.grid()\n",
    "plt.title('Loss over Epochs')\n",
    "plt.xlabel('epoch')\n",
    "plt.ylabel('Loss')"
   ]
  }
 ],
 "metadata": {
  "kernelspec": {
   "display_name": "pytorch-env",
   "language": "python",
   "name": "python3"
  },
  "language_info": {
   "codemirror_mode": {
    "name": "ipython",
    "version": 3
   },
   "file_extension": ".py",
   "mimetype": "text/x-python",
   "name": "python",
   "nbconvert_exporter": "python",
   "pygments_lexer": "ipython3",
   "version": "3.12.0"
  }
 },
 "nbformat": 4,
 "nbformat_minor": 2
}
